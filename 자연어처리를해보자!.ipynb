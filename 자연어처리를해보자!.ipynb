{
  "nbformat": 4,
  "nbformat_minor": 0,
  "metadata": {
    "colab": {
      "name": "자연어처리를해보자!.ipynb",
      "provenance": [],
      "collapsed_sections": [
        "CaqRuMHqv32X"
      ],
      "mount_file_id": "1mOe4qp_EoV2btgqNvRu-9vjamCvK4st8",
      "authorship_tag": "ABX9TyPsklBGL/Vx9NvmvUSlMFv9",
      "include_colab_link": true
    },
    "kernelspec": {
      "name": "python3",
      "display_name": "Python 3"
    },
    "language_info": {
      "name": "python"
    }
  },
  "cells": [
    {
      "cell_type": "markdown",
      "metadata": {
        "id": "view-in-github",
        "colab_type": "text"
      },
      "source": [
        "<a href=\"https://colab.research.google.com/github/cabbi120101/final_multi/blob/main/%EC%9E%90%EC%97%B0%EC%96%B4%EC%B2%98%EB%A6%AC%EB%A5%BC%ED%95%B4%EB%B3%B4%EC%9E%90!.ipynb\" target=\"_parent\"><img src=\"https://colab.research.google.com/assets/colab-badge.svg\" alt=\"Open In Colab\"/></a>"
      ]
    },
    {
      "cell_type": "code",
      "metadata": {
        "id": "kH1IM6alWarB"
      },
      "source": [
        "import pandas as pd\n",
        "import numpy as np\n",
        "import warnings; warnings.filterwarnings('ignore')"
      ],
      "execution_count": 1,
      "outputs": []
    },
    {
      "cell_type": "code",
      "metadata": {
        "colab": {
          "base_uri": "https://localhost:8080/",
          "height": 666
        },
        "id": "Ys40rbT5WmMN",
        "outputId": "2d814c92-6148-481f-bc6e-4b259c153d58"
      },
      "source": [
        "champ_info = pd.read_csv(\"/content/drive/MyDrive/Colab Notebooks/동욱코드모음/마지막프로젝트/3주차/시도/champ_addSk.csv\")\n",
        "champ_info.head()"
      ],
      "execution_count": 2,
      "outputs": [
        {
          "output_type": "execute_result",
          "data": {
            "text/html": [
              "<div>\n",
              "<style scoped>\n",
              "    .dataframe tbody tr th:only-of-type {\n",
              "        vertical-align: middle;\n",
              "    }\n",
              "\n",
              "    .dataframe tbody tr th {\n",
              "        vertical-align: top;\n",
              "    }\n",
              "\n",
              "    .dataframe thead th {\n",
              "        text-align: right;\n",
              "    }\n",
              "</style>\n",
              "<table border=\"1\" class=\"dataframe\">\n",
              "  <thead>\n",
              "    <tr style=\"text-align: right;\">\n",
              "      <th></th>\n",
              "      <th>Unnamed: 0</th>\n",
              "      <th>version</th>\n",
              "      <th>id</th>\n",
              "      <th>key</th>\n",
              "      <th>name</th>\n",
              "      <th>title</th>\n",
              "      <th>blurb</th>\n",
              "      <th>info</th>\n",
              "      <th>image</th>\n",
              "      <th>tags</th>\n",
              "      <th>partype</th>\n",
              "      <th>stats</th>\n",
              "      <th>attack</th>\n",
              "      <th>defense</th>\n",
              "      <th>magic</th>\n",
              "      <th>difficulty</th>\n",
              "      <th>hp</th>\n",
              "      <th>hpperlevel</th>\n",
              "      <th>mp</th>\n",
              "      <th>mpperlevel</th>\n",
              "      <th>movespeed</th>\n",
              "      <th>armor</th>\n",
              "      <th>armorperlevel</th>\n",
              "      <th>spellblock</th>\n",
              "      <th>spellblockperlevel</th>\n",
              "      <th>attackrange</th>\n",
              "      <th>hpregen</th>\n",
              "      <th>hpregenperlevel</th>\n",
              "      <th>mpregen</th>\n",
              "      <th>mpregenperlevel</th>\n",
              "      <th>crit</th>\n",
              "      <th>critperlevel</th>\n",
              "      <th>attackdamage</th>\n",
              "      <th>attackdamageperlevel</th>\n",
              "      <th>attackspeedperlevel</th>\n",
              "      <th>attackspeed</th>\n",
              "      <th>skins</th>\n",
              "      <th>lore</th>\n",
              "      <th>allytips</th>\n",
              "      <th>enemytips</th>\n",
              "      <th>spells</th>\n",
              "      <th>passive</th>\n",
              "      <th>recommended</th>\n",
              "      <th>skillQ</th>\n",
              "      <th>skillW</th>\n",
              "      <th>skillE</th>\n",
              "      <th>skillR</th>\n",
              "    </tr>\n",
              "  </thead>\n",
              "  <tbody>\n",
              "    <tr>\n",
              "      <th>0</th>\n",
              "      <td>0</td>\n",
              "      <td>11.17.1</td>\n",
              "      <td>Aatrox</td>\n",
              "      <td>266</td>\n",
              "      <td>Aatrox</td>\n",
              "      <td>the Darkin Blade</td>\n",
              "      <td>Once honored defenders of Shurima against the ...</td>\n",
              "      <td>{'attack': 8, 'defense': 4, 'magic': 3, 'diffi...</td>\n",
              "      <td>{'full': 'Aatrox.png', 'sprite': 'champion0.pn...</td>\n",
              "      <td>['Fighter', 'Tank']</td>\n",
              "      <td>Blood Well</td>\n",
              "      <td>{'hp': 580, 'hpperlevel': 90, 'mp': 0, 'mpperl...</td>\n",
              "      <td>8</td>\n",
              "      <td>4</td>\n",
              "      <td>3</td>\n",
              "      <td>4</td>\n",
              "      <td>580.0</td>\n",
              "      <td>90</td>\n",
              "      <td>0.0</td>\n",
              "      <td>0.0</td>\n",
              "      <td>345</td>\n",
              "      <td>38</td>\n",
              "      <td>3.25</td>\n",
              "      <td>32.0</td>\n",
              "      <td>1.25</td>\n",
              "      <td>175</td>\n",
              "      <td>3.00</td>\n",
              "      <td>1.00</td>\n",
              "      <td>0.000</td>\n",
              "      <td>0.0</td>\n",
              "      <td>0</td>\n",
              "      <td>0</td>\n",
              "      <td>60.0</td>\n",
              "      <td>5.00</td>\n",
              "      <td>2.500</td>\n",
              "      <td>0.651</td>\n",
              "      <td>[{'id': '266000', 'num': 0, 'name': 'default',...</td>\n",
              "      <td>Once honored defenders of Shurima against the ...</td>\n",
              "      <td>['Use Umbral Dash while casting The Darkin Bla...</td>\n",
              "      <td>[\"Aatrox's attacks are very telegraphed, so us...</td>\n",
              "      <td>[{'id': 'AatroxQ', 'name': 'The Darkin Blade',...</td>\n",
              "      <td>{'name': 'Deathbringer Stance', 'description':...</td>\n",
              "      <td>[]</td>\n",
              "      <td>{'id': 'AatroxQ', 'name': 'The Darkin Blade', ...</td>\n",
              "      <td>{'id': 'AatroxW', 'name': 'Infernal Chains', '...</td>\n",
              "      <td>{'id': 'AatroxE', 'name': 'Umbral Dash', 'desc...</td>\n",
              "      <td>{'id': 'AatroxR', 'name': 'World Ender', 'desc...</td>\n",
              "    </tr>\n",
              "    <tr>\n",
              "      <th>1</th>\n",
              "      <td>1</td>\n",
              "      <td>11.17.1</td>\n",
              "      <td>Ahri</td>\n",
              "      <td>103</td>\n",
              "      <td>Ahri</td>\n",
              "      <td>the Nine-Tailed Fox</td>\n",
              "      <td>Innately connected to the latent power of Rune...</td>\n",
              "      <td>{'attack': 3, 'defense': 4, 'magic': 8, 'diffi...</td>\n",
              "      <td>{'full': 'Ahri.png', 'sprite': 'champion0.png'...</td>\n",
              "      <td>['Mage', 'Assassin']</td>\n",
              "      <td>Mana</td>\n",
              "      <td>{'hp': 526, 'hpperlevel': 92, 'mp': 418, 'mppe...</td>\n",
              "      <td>3</td>\n",
              "      <td>4</td>\n",
              "      <td>8</td>\n",
              "      <td>5</td>\n",
              "      <td>526.0</td>\n",
              "      <td>92</td>\n",
              "      <td>418.0</td>\n",
              "      <td>25.0</td>\n",
              "      <td>330</td>\n",
              "      <td>21</td>\n",
              "      <td>3.50</td>\n",
              "      <td>30.0</td>\n",
              "      <td>0.50</td>\n",
              "      <td>550</td>\n",
              "      <td>5.50</td>\n",
              "      <td>0.60</td>\n",
              "      <td>8.000</td>\n",
              "      <td>0.8</td>\n",
              "      <td>0</td>\n",
              "      <td>0</td>\n",
              "      <td>53.0</td>\n",
              "      <td>3.00</td>\n",
              "      <td>2.000</td>\n",
              "      <td>0.668</td>\n",
              "      <td>[{'id': '103000', 'num': 0, 'name': 'default',...</td>\n",
              "      <td>Innately connected to the latent power of Rune...</td>\n",
              "      <td>['Use Charm to set up your combos, it will mak...</td>\n",
              "      <td>[\"Ahri's survivability is dramatically reduced...</td>\n",
              "      <td>[{'id': 'AhriOrbofDeception', 'name': 'Orb of ...</td>\n",
              "      <td>{'name': 'Essence Theft', 'description': 'When...</td>\n",
              "      <td>[]</td>\n",
              "      <td>{'id': 'AhriOrbofDeception', 'name': 'Orb of D...</td>\n",
              "      <td>{'id': 'AhriFoxFire', 'name': 'Fox-Fire', 'des...</td>\n",
              "      <td>{'id': 'AhriSeduce', 'name': 'Charm', 'descrip...</td>\n",
              "      <td>{'id': 'AhriTumble', 'name': 'Spirit Rush', 'd...</td>\n",
              "    </tr>\n",
              "    <tr>\n",
              "      <th>2</th>\n",
              "      <td>2</td>\n",
              "      <td>11.17.1</td>\n",
              "      <td>Akali</td>\n",
              "      <td>84</td>\n",
              "      <td>Akali</td>\n",
              "      <td>the Rogue Assassin</td>\n",
              "      <td>Abandoning the Kinkou Order and her title of t...</td>\n",
              "      <td>{'attack': 5, 'defense': 3, 'magic': 8, 'diffi...</td>\n",
              "      <td>{'full': 'Akali.png', 'sprite': 'champion0.png...</td>\n",
              "      <td>['Assassin']</td>\n",
              "      <td>Energy</td>\n",
              "      <td>{'hp': 500, 'hpperlevel': 105, 'mp': 200, 'mpp...</td>\n",
              "      <td>5</td>\n",
              "      <td>3</td>\n",
              "      <td>8</td>\n",
              "      <td>7</td>\n",
              "      <td>500.0</td>\n",
              "      <td>105</td>\n",
              "      <td>200.0</td>\n",
              "      <td>0.0</td>\n",
              "      <td>345</td>\n",
              "      <td>23</td>\n",
              "      <td>3.50</td>\n",
              "      <td>37.0</td>\n",
              "      <td>1.25</td>\n",
              "      <td>125</td>\n",
              "      <td>8.00</td>\n",
              "      <td>0.50</td>\n",
              "      <td>50.000</td>\n",
              "      <td>0.0</td>\n",
              "      <td>0</td>\n",
              "      <td>0</td>\n",
              "      <td>62.0</td>\n",
              "      <td>3.30</td>\n",
              "      <td>3.200</td>\n",
              "      <td>0.625</td>\n",
              "      <td>[{'id': '84000', 'num': 0, 'name': 'default', ...</td>\n",
              "      <td>Abandoning the Kinkou Order and her title of t...</td>\n",
              "      <td>['Akali excels at killing fragile champions. L...</td>\n",
              "      <td>['Akali can still be hit by area effect spells...</td>\n",
              "      <td>[{'id': 'AkaliQ', 'name': 'Five Point Strike',...</td>\n",
              "      <td>{'name': \"Assassin's Mark\", 'description': \"De...</td>\n",
              "      <td>[]</td>\n",
              "      <td>{'id': 'AkaliQ', 'name': 'Five Point Strike', ...</td>\n",
              "      <td>{'id': 'AkaliW', 'name': 'Twilight Shroud', 'd...</td>\n",
              "      <td>{'id': 'AkaliE', 'name': 'Shuriken Flip', 'des...</td>\n",
              "      <td>{'id': 'AkaliR', 'name': 'Perfect Execution', ...</td>\n",
              "    </tr>\n",
              "    <tr>\n",
              "      <th>3</th>\n",
              "      <td>3</td>\n",
              "      <td>11.17.1</td>\n",
              "      <td>Akshan</td>\n",
              "      <td>166</td>\n",
              "      <td>Akshan</td>\n",
              "      <td>the Rogue Sentinel</td>\n",
              "      <td>Raising an eyebrow in the face of danger, Aksh...</td>\n",
              "      <td>{'attack': 0, 'defense': 0, 'magic': 0, 'diffi...</td>\n",
              "      <td>{'full': 'Akshan.png', 'sprite': 'champion0.pn...</td>\n",
              "      <td>['Marksman', 'Assassin']</td>\n",
              "      <td>Mana</td>\n",
              "      <td>{'hp': 560, 'hpperlevel': 90, 'mp': 350, 'mppe...</td>\n",
              "      <td>0</td>\n",
              "      <td>0</td>\n",
              "      <td>0</td>\n",
              "      <td>0</td>\n",
              "      <td>560.0</td>\n",
              "      <td>90</td>\n",
              "      <td>350.0</td>\n",
              "      <td>40.0</td>\n",
              "      <td>330</td>\n",
              "      <td>26</td>\n",
              "      <td>3.00</td>\n",
              "      <td>30.0</td>\n",
              "      <td>0.50</td>\n",
              "      <td>500</td>\n",
              "      <td>3.75</td>\n",
              "      <td>0.65</td>\n",
              "      <td>8.175</td>\n",
              "      <td>0.7</td>\n",
              "      <td>0</td>\n",
              "      <td>0</td>\n",
              "      <td>52.0</td>\n",
              "      <td>3.50</td>\n",
              "      <td>4.000</td>\n",
              "      <td>0.638</td>\n",
              "      <td>[{'id': '166000', 'num': 0, 'name': 'default',...</td>\n",
              "      <td>Raising an eyebrow in the face of danger, Aksh...</td>\n",
              "      <td>[\"Raising an eyebrow in the face of danger, Ak...</td>\n",
              "      <td>[]</td>\n",
              "      <td>[{'id': 'AkshanQ', 'name': 'Avengerang', 'desc...</td>\n",
              "      <td>{'name': 'Dirty Fighting', 'description': \"Eve...</td>\n",
              "      <td>[]</td>\n",
              "      <td>{'id': 'AkshanQ', 'name': 'Avengerang', 'descr...</td>\n",
              "      <td>{'id': 'AkshanW', 'name': 'Going Rogue', 'desc...</td>\n",
              "      <td>{'id': 'AkshanE', 'name': 'Heroic Swing', 'des...</td>\n",
              "      <td>{'id': 'AkshanR', 'name': 'Comeuppance', 'desc...</td>\n",
              "    </tr>\n",
              "    <tr>\n",
              "      <th>4</th>\n",
              "      <td>4</td>\n",
              "      <td>11.17.1</td>\n",
              "      <td>Alistar</td>\n",
              "      <td>12</td>\n",
              "      <td>Alistar</td>\n",
              "      <td>the Minotaur</td>\n",
              "      <td>Always a mighty warrior with a fearsome reputa...</td>\n",
              "      <td>{'attack': 6, 'defense': 9, 'magic': 5, 'diffi...</td>\n",
              "      <td>{'full': 'Alistar.png', 'sprite': 'champion0.p...</td>\n",
              "      <td>['Tank', 'Support']</td>\n",
              "      <td>Mana</td>\n",
              "      <td>{'hp': 600, 'hpperlevel': 106, 'mp': 350, 'mpp...</td>\n",
              "      <td>6</td>\n",
              "      <td>9</td>\n",
              "      <td>5</td>\n",
              "      <td>7</td>\n",
              "      <td>600.0</td>\n",
              "      <td>106</td>\n",
              "      <td>350.0</td>\n",
              "      <td>40.0</td>\n",
              "      <td>330</td>\n",
              "      <td>44</td>\n",
              "      <td>3.50</td>\n",
              "      <td>32.0</td>\n",
              "      <td>1.25</td>\n",
              "      <td>125</td>\n",
              "      <td>8.50</td>\n",
              "      <td>0.85</td>\n",
              "      <td>8.500</td>\n",
              "      <td>0.8</td>\n",
              "      <td>0</td>\n",
              "      <td>0</td>\n",
              "      <td>62.0</td>\n",
              "      <td>3.75</td>\n",
              "      <td>2.125</td>\n",
              "      <td>0.625</td>\n",
              "      <td>[{'id': '12000', 'num': 0, 'name': 'default', ...</td>\n",
              "      <td>Always a mighty warrior with a fearsome reputa...</td>\n",
              "      <td>['Using Pulverize can allow you to establish b...</td>\n",
              "      <td>['Alistar is very disruptive but very tough - ...</td>\n",
              "      <td>[{'id': 'Pulverize', 'name': 'Pulverize', 'des...</td>\n",
              "      <td>{'name': 'Triumphant Roar', 'description': 'Al...</td>\n",
              "      <td>[]</td>\n",
              "      <td>{'id': 'Pulverize', 'name': 'Pulverize', 'desc...</td>\n",
              "      <td>{'id': 'Headbutt', 'name': 'Headbutt', 'descri...</td>\n",
              "      <td>{'id': 'AlistarE', 'name': 'Trample', 'descrip...</td>\n",
              "      <td>{'id': 'FerociousHowl', 'name': 'Unbreakable W...</td>\n",
              "    </tr>\n",
              "  </tbody>\n",
              "</table>\n",
              "</div>"
            ],
            "text/plain": [
              "   Unnamed: 0  ...                                             skillR\n",
              "0           0  ...  {'id': 'AatroxR', 'name': 'World Ender', 'desc...\n",
              "1           1  ...  {'id': 'AhriTumble', 'name': 'Spirit Rush', 'd...\n",
              "2           2  ...  {'id': 'AkaliR', 'name': 'Perfect Execution', ...\n",
              "3           3  ...  {'id': 'AkshanR', 'name': 'Comeuppance', 'desc...\n",
              "4           4  ...  {'id': 'FerociousHowl', 'name': 'Unbreakable W...\n",
              "\n",
              "[5 rows x 47 columns]"
            ]
          },
          "metadata": {},
          "execution_count": 2
        }
      ]
    },
    {
      "cell_type": "code",
      "metadata": {
        "colab": {
          "base_uri": "https://localhost:8080/",
          "height": 140
        },
        "id": "VO6E0_KOWopW",
        "outputId": "e370157c-b512-4571-aeae-7ce207936961"
      },
      "source": [
        "champ_info['skillQ'][0]"
      ],
      "execution_count": 3,
      "outputs": [
        {
          "output_type": "execute_result",
          "data": {
            "application/vnd.google.colaboratory.intrinsic+json": {
              "type": "string"
            },
            "text/plain": [
              "\"{'id': 'AatroxQ', 'name': 'The Darkin Blade', 'description': 'Aatrox slams his greatsword down, dealing physical damage. He can swing three times, each with a different area of effect.', 'tooltip': 'Aatrox slams his greatsword, dealing {{ qdamage }} physical damage. If they are hit on the edge, they are briefly Knocked Up and they take {{ qedgedamage }} instead. This Ability can be Recast twice, each one changing shape and dealing 25% more damage than the previous one.', 'leveltip': {'label': ['Cooldown', 'Damage', 'Total AD Ratio'], 'effect': ['{{ cooldown }} -> {{ cooldownNL }}', '{{ qbasedamage }} -> {{ qbasedamageNL }}', '{{ qtotaladratio*100.000000 }}% -> {{ qtotaladrationl*100.000000 }}%']}, 'maxrank': 5, 'cooldown': [14, 12, 10, 8, 6], 'cooldownBurn': '14/12/10/8/6', 'cost': [0, 0, 0, 0, 0], 'costBurn': '0', 'datavalues': {}, 'effect': [None, [0, 0, 0, 0, 0], [0, 0, 0, 0, 0], [0, 0, 0, 0, 0], [0, 0, 0, 0, 0], [0, 0, 0, 0, 0], [0, 0, 0, 0, 0], [0, 0, 0, 0, 0], [0, 0, 0, 0, 0], [0, 0, 0, 0, 0], [0, 0, 0, 0, 0]], 'effectBurn': [None, '0', '0', '0', '0', '0', '0', '0', '0', '0', '0'], 'vars': [], 'costType': 'No Cost', 'maxammo': '-1', 'range': [25000, 25000, 25000, 25000, 25000], 'rangeBurn': '25000', 'image': {'full': 'AatroxQ.png', 'sprite': 'spell0.png', 'group': 'spell', 'x': 240, 'y': 48, 'w': 48, 'h': 48}, 'resource': 'No Cost'}\""
            ]
          },
          "metadata": {},
          "execution_count": 3
        }
      ]
    },
    {
      "cell_type": "code",
      "metadata": {
        "id": "wifml1CyW1bF"
      },
      "source": [
        "from ast import literal_eval\n",
        "\n",
        "champ_info['skillQ'] = champ_info['skillQ'].apply(literal_eval)\n",
        "champ_info['skillW'] = champ_info['skillW'].apply(literal_eval)\n",
        "champ_info['skillE'] = champ_info['skillE'].apply(literal_eval)\n",
        "champ_info['skillR'] = champ_info['skillR'].apply(literal_eval)"
      ],
      "execution_count": 4,
      "outputs": []
    },
    {
      "cell_type": "code",
      "metadata": {
        "colab": {
          "base_uri": "https://localhost:8080/",
          "height": 37
        },
        "id": "lcnspk0TW1YM",
        "outputId": "70d5b10a-5386-4d13-fc3e-e5fe0cd25024"
      },
      "source": [
        "champ_info['skillQ'][0]['description']"
      ],
      "execution_count": 5,
      "outputs": [
        {
          "output_type": "execute_result",
          "data": {
            "application/vnd.google.colaboratory.intrinsic+json": {
              "type": "string"
            },
            "text/plain": [
              "'Aatrox slams his greatsword down, dealing physical damage. He can swing three times, each with a different area of effect.'"
            ]
          },
          "metadata": {},
          "execution_count": 5
        }
      ]
    },
    {
      "cell_type": "code",
      "metadata": {
        "id": "R4oPiaslXDbJ"
      },
      "source": [
        "champ_q = []\n",
        "for i in range(len(champ_info)):\n",
        "    champ_q.append(champ_info['skillQ'][i]['description'])"
      ],
      "execution_count": 6,
      "outputs": []
    },
    {
      "cell_type": "code",
      "metadata": {
        "id": "_2yZL1TpW1U-"
      },
      "source": [
        "champ_w = []\n",
        "for i in range(len(champ_info)):\n",
        "    champ_w.append(champ_info['skillW'][i]['description'])"
      ],
      "execution_count": 7,
      "outputs": []
    },
    {
      "cell_type": "code",
      "metadata": {
        "id": "lvc5ONgyW1P3"
      },
      "source": [
        "champ_e = []\n",
        "for i in range(len(champ_info)):\n",
        "    champ_e.append(champ_info['skillE'][i]['description'])"
      ],
      "execution_count": 8,
      "outputs": []
    },
    {
      "cell_type": "code",
      "metadata": {
        "id": "3QHqN8JxW1Mj"
      },
      "source": [
        "champ_r = []\n",
        "for i in range(len(champ_info)):\n",
        "    champ_r.append(champ_info['skillR'][i]['description'])"
      ],
      "execution_count": 9,
      "outputs": []
    },
    {
      "cell_type": "code",
      "metadata": {
        "id": "j1lyP0hxW07E"
      },
      "source": [
        "champ_summ = champ_info[['id','key','tags']]"
      ],
      "execution_count": 10,
      "outputs": []
    },
    {
      "cell_type": "code",
      "metadata": {
        "id": "MtKoTIfFW0Or"
      },
      "source": [
        "champ_summ['champ_q'] = champ_q\n",
        "champ_summ['champ_w'] = champ_w\n",
        "champ_summ['champ_e'] = champ_e\n",
        "champ_summ['champ_r'] = champ_r\n",
        "champ_summ['champ_all_skill'] = champ_summ['champ_q']+champ_summ['champ_w']+champ_summ['champ_e']+champ_summ['champ_r']"
      ],
      "execution_count": 11,
      "outputs": []
    },
    {
      "cell_type": "code",
      "metadata": {
        "id": "772g00ZiXMIW"
      },
      "source": [
        "from sklearn.feature_extraction.text import CountVectorizer"
      ],
      "execution_count": 12,
      "outputs": []
    },
    {
      "cell_type": "code",
      "metadata": {
        "id": "GHkTQBQWXN5C"
      },
      "source": [
        "champ_tips = champ_info[['key','allytips','enemytips']]"
      ],
      "execution_count": 13,
      "outputs": []
    },
    {
      "cell_type": "code",
      "metadata": {
        "id": "0qyMI0HZXTss"
      },
      "source": [
        "champ_tips['allytips'] = champ_tips['allytips'].apply(literal_eval)\n",
        "champ_tips['enemytips'] = champ_tips['enemytips'].apply(literal_eval)"
      ],
      "execution_count": 14,
      "outputs": []
    },
    {
      "cell_type": "code",
      "metadata": {
        "id": "k1sXTzceXeds"
      },
      "source": [
        "champ_tips['all_tips'] = champ_tips['enemytips'] + champ_tips['allytips']"
      ],
      "execution_count": 15,
      "outputs": []
    },
    {
      "cell_type": "code",
      "metadata": {
        "id": "_Z_QUH4iXg-S"
      },
      "source": [
        "champ_summ['all_tips'] = champ_tips['all_tips']"
      ],
      "execution_count": 16,
      "outputs": []
    },
    {
      "cell_type": "code",
      "metadata": {
        "id": "l9xti8quZMIe"
      },
      "source": [
        "champ_summ['all_tips_literal'] = champ_summ['all_tips'].apply(lambda x : (' ').join(x))"
      ],
      "execution_count": 17,
      "outputs": []
    },
    {
      "cell_type": "code",
      "metadata": {
        "id": "fH72o9rDXnHG"
      },
      "source": [
        "champ_summ['all_discribtion'] = champ_summ['all_tips_literal'] + champ_summ['champ_all_skill']"
      ],
      "execution_count": 18,
      "outputs": []
    },
    {
      "cell_type": "code",
      "metadata": {
        "colab": {
          "base_uri": "https://localhost:8080/"
        },
        "id": "m071o7PTYnAs",
        "outputId": "459c6071-3509-4742-a7e3-c9153745ba63"
      },
      "source": [
        "champ_summ['champ_all_skill'] "
      ],
      "execution_count": 19,
      "outputs": [
        {
          "output_type": "execute_result",
          "data": {
            "text/plain": [
              "0      Aatrox slams his greatsword down, dealing phys...\n",
              "1      Ahri sends out and pulls back her orb, dealing...\n",
              "2      Akali throws out five kunai, dealing damage ba...\n",
              "3      Akshan throws a boomerang that deals damage go...\n",
              "4      Alistar smashes the ground, dealing damage to ...\n",
              "                             ...                        \n",
              "151    Zed and his shadows throw their shurikens.Each...\n",
              "152    Ziggs throws a bouncing bomb that deals magic ...\n",
              "153    Tosses a bomb to target area that sticks to un...\n",
              "154    Zoe fires a missile that she can redirect in f...\n",
              "155    Thick vines spread through the ground and expl...\n",
              "Name: champ_all_skill, Length: 156, dtype: object"
            ]
          },
          "metadata": {},
          "execution_count": 19
        }
      ]
    },
    {
      "cell_type": "code",
      "metadata": {
        "colab": {
          "base_uri": "https://localhost:8080/"
        },
        "id": "vIWlolMKYeDh",
        "outputId": "972ab931-0af6-4aee-cf40-013f3105cc94"
      },
      "source": [
        "champ_summ['all_tips']"
      ],
      "execution_count": 20,
      "outputs": [
        {
          "output_type": "execute_result",
          "data": {
            "text/plain": [
              "0      [Aatrox's attacks are very telegraphed, so use...\n",
              "1      [Ahri's survivability is dramatically reduced ...\n",
              "2      [Akali can still be hit by area effect spells ...\n",
              "3      [Raising an eyebrow in the face of danger, Aks...\n",
              "4      [Alistar is very disruptive but very tough - t...\n",
              "                             ...                        \n",
              "151    [Zed receives bonus effect from Attack Damage ...\n",
              "152    [Don't step on Ziggs' mines! They'll slow you ...\n",
              "153    [If you're able to match Zilean's speed, it ca...\n",
              "154    [Zoe's Paddle Star deals more damage the furth...\n",
              "155    [Zyra's seeds can be destroyed by stepping on ...\n",
              "Name: all_tips, Length: 156, dtype: object"
            ]
          },
          "metadata": {},
          "execution_count": 20
        }
      ]
    },
    {
      "cell_type": "code",
      "metadata": {
        "colab": {
          "base_uri": "https://localhost:8080/"
        },
        "id": "B3N8hta2YVkY",
        "outputId": "010b9e28-0085-45b9-a847-5550f8de2883"
      },
      "source": [
        "champ_summ.info()"
      ],
      "execution_count": 21,
      "outputs": [
        {
          "output_type": "stream",
          "name": "stdout",
          "text": [
            "<class 'pandas.core.frame.DataFrame'>\n",
            "RangeIndex: 156 entries, 0 to 155\n",
            "Data columns (total 11 columns):\n",
            " #   Column            Non-Null Count  Dtype \n",
            "---  ------            --------------  ----- \n",
            " 0   id                156 non-null    object\n",
            " 1   key               156 non-null    int64 \n",
            " 2   tags              156 non-null    object\n",
            " 3   champ_q           156 non-null    object\n",
            " 4   champ_w           156 non-null    object\n",
            " 5   champ_e           156 non-null    object\n",
            " 6   champ_r           156 non-null    object\n",
            " 7   champ_all_skill   156 non-null    object\n",
            " 8   all_tips          156 non-null    object\n",
            " 9   all_tips_literal  156 non-null    object\n",
            " 10  all_discribtion   156 non-null    object\n",
            "dtypes: int64(1), object(10)\n",
            "memory usage: 13.5+ KB\n"
          ]
        }
      ]
    },
    {
      "cell_type": "code",
      "metadata": {
        "colab": {
          "base_uri": "https://localhost:8080/"
        },
        "id": "I2RkNsHwYbTS",
        "outputId": "d422aeed-dc2b-43bd-afee-e1073735d9e2"
      },
      "source": [
        "champ_summ['all_discribtion']"
      ],
      "execution_count": 22,
      "outputs": [
        {
          "output_type": "execute_result",
          "data": {
            "text/plain": [
              "0      Aatrox's attacks are very telegraphed, so use ...\n",
              "1      Ahri's survivability is dramatically reduced w...\n",
              "2      Akali can still be hit by area effect spells w...\n",
              "3      Raising an eyebrow in the face of danger, Aksh...\n",
              "4      Alistar is very disruptive but very tough - tr...\n",
              "                             ...                        \n",
              "151    Zed receives bonus effect from Attack Damage i...\n",
              "152    Don't step on Ziggs' mines! They'll slow you a...\n",
              "153    If you're able to match Zilean's speed, it can...\n",
              "154    Zoe's Paddle Star deals more damage the furthe...\n",
              "155    Zyra's seeds can be destroyed by stepping on t...\n",
              "Name: all_discribtion, Length: 156, dtype: object"
            ]
          },
          "metadata": {},
          "execution_count": 22
        }
      ]
    },
    {
      "cell_type": "markdown",
      "metadata": {
        "id": "RAvjayo-Zf_7"
      },
      "source": [
        "## 1st Try - 자연어 처리 안하고 그냥 팁 + 스킬설명"
      ]
    },
    {
      "cell_type": "code",
      "metadata": {
        "colab": {
          "base_uri": "https://localhost:8080/"
        },
        "id": "vd0DxMuVZaCO",
        "outputId": "5da1451f-b5d4-4131-95f4-5e17e88375ca"
      },
      "source": [
        "count_vect = CountVectorizer(min_df=0, ngram_range=(1,2))\n",
        "# ngram_range : 단어의 묶음\n",
        "# ngram_range=(1,2) : 1개, 2개 단어 묶음 존재\n",
        "all_discribtion_mat = count_vect.fit_transform(champ_summ['all_discribtion'])\n",
        "print(all_discribtion_mat.shape)"
      ],
      "execution_count": 23,
      "outputs": [
        {
          "output_type": "stream",
          "name": "stdout",
          "text": [
            "(156, 21740)\n"
          ]
        }
      ]
    },
    {
      "cell_type": "code",
      "metadata": {
        "colab": {
          "base_uri": "https://localhost:8080/"
        },
        "id": "P7VT45tsZfWr",
        "outputId": "f9332196-265c-452f-a2fa-d352397a8bf8"
      },
      "source": [
        "from sklearn.metrics.pairwise import cosine_similarity\n",
        "\n",
        "all_discribtion_sim = cosine_similarity(all_discribtion_mat, all_discribtion_mat)\n",
        "print(all_discribtion_sim.shape)  # 유사도 행렬 크기\n",
        "print(all_discribtion_sim[:2])    # 앞 2개만 출력"
      ],
      "execution_count": 24,
      "outputs": [
        {
          "output_type": "stream",
          "name": "stdout",
          "text": [
            "(156, 156)\n",
            "[[1.         0.28759603 0.36180512 0.37021708 0.3773982  0.29195168\n",
            "  0.35727112 0.34732854 0.26346765 0.35104646 0.32122127 0.42979843\n",
            "  0.30623516 0.34742115 0.36386681 0.40773075 0.37999692 0.40512282\n",
            "  0.26721392 0.35125519 0.29533144 0.39519544 0.38448027 0.37806789\n",
            "  0.43920031 0.41396638 0.26112049 0.38228728 0.35672353 0.29986489\n",
            "  0.42048037 0.37757614 0.31072476 0.31128851 0.32594352 0.35741113\n",
            "  0.40980661 0.36299852 0.32201118 0.33960201 0.38899528 0.44179416\n",
            "  0.27693079 0.28411529 0.35672414 0.37835104 0.27143935 0.40934447\n",
            "  0.3706716  0.37996544 0.2119022  0.35722516 0.4060141  0.38503754\n",
            "  0.27829777 0.37190064 0.30449577 0.35182472 0.36324514 0.35344889\n",
            "  0.39148038 0.37086328 0.24381599 0.37142847 0.3795568  0.44862328\n",
            "  0.24580586 0.38157683 0.27898602 0.32616816 0.37046126 0.37413501\n",
            "  0.39956906 0.3155262  0.34702868 0.29936224 0.34466204 0.44263891\n",
            "  0.34634826 0.34508552 0.35409485 0.38560105 0.31703109 0.34880495\n",
            "  0.42319951 0.34379911 0.36360893 0.37466417 0.4024735  0.38402425\n",
            "  0.31074913 0.39273994 0.15379103 0.37290874 0.30677276 0.36837416\n",
            "  0.32675377 0.26188785 0.42465925 0.38141977 0.26268427 0.37261706\n",
            "  0.37574313 0.12109776 0.28588918 0.24108568 0.21814773 0.33493067\n",
            "  0.39591236 0.31051649 0.32828827 0.38026581 0.43232446 0.27205321\n",
            "  0.33487604 0.29591829 0.3468328  0.36654244 0.38102785 0.28300769\n",
            "  0.37590759 0.26410296 0.40086299 0.29174782 0.365749   0.41738822\n",
            "  0.36621619 0.31300089 0.33819278 0.35076716 0.30130239 0.30665689\n",
            "  0.36887572 0.377577   0.33169379 0.39474041 0.35812806 0.32706425\n",
            "  0.26970514 0.38970448 0.39969691 0.26520061 0.31693255 0.31899134\n",
            "  0.33326786 0.3584473  0.32702112 0.28628302 0.39880792 0.28410438\n",
            "  0.3517435  0.31811328 0.33801    0.36397201 0.32744911 0.34742443]\n",
            " [0.28759603 1.         0.33948054 0.27293629 0.33417096 0.25843398\n",
            "  0.29725251 0.32292276 0.20854928 0.27887352 0.28432082 0.3497369\n",
            "  0.27738829 0.3306902  0.31337903 0.34173956 0.26349679 0.3313602\n",
            "  0.30723877 0.28574561 0.25865962 0.29039591 0.36615842 0.25338561\n",
            "  0.30576218 0.33749764 0.2659904  0.33199962 0.30098815 0.2152219\n",
            "  0.28086322 0.28970552 0.21519315 0.24982694 0.27860447 0.36266022\n",
            "  0.32597482 0.29710065 0.36628525 0.32747472 0.29684267 0.32985817\n",
            "  0.30246304 0.25373513 0.31169048 0.30058524 0.25042208 0.33944549\n",
            "  0.31349314 0.37565641 0.24966877 0.31093693 0.38957507 0.27838849\n",
            "  0.29877339 0.28969694 0.32511528 0.24624956 0.31917421 0.27249592\n",
            "  0.31404556 0.32129853 0.255296   0.28539962 0.27503856 0.34501429\n",
            "  0.29307808 0.38901635 0.19609418 0.35859834 0.33206005 0.27506487\n",
            "  0.29487767 0.25560525 0.27543246 0.30770316 0.35596897 0.29673176\n",
            "  0.33796748 0.35149044 0.31630447 0.30349949 0.26224973 0.32723516\n",
            "  0.33495749 0.30953533 0.25395588 0.34153939 0.28855626 0.27653132\n",
            "  0.34422328 0.30653498 0.28075008 0.34115569 0.28736009 0.29697698\n",
            "  0.33403926 0.29420556 0.3446879  0.27855495 0.31037691 0.31394929\n",
            "  0.34207218 0.19310345 0.26217355 0.27618179 0.21149685 0.29630638\n",
            "  0.34669279 0.26083352 0.34370412 0.29708153 0.33721428 0.26742218\n",
            "  0.29776572 0.27828876 0.27613693 0.34506356 0.26752985 0.29421161\n",
            "  0.32119837 0.21324882 0.30802482 0.27580425 0.30530924 0.30532705\n",
            "  0.34973366 0.3135613  0.2693877  0.24801131 0.24207785 0.26048691\n",
            "  0.30589961 0.35304482 0.33656519 0.33840514 0.32812022 0.35707746\n",
            "  0.27744497 0.28239189 0.293442   0.24424656 0.25226944 0.29884011\n",
            "  0.36066928 0.30894073 0.27654533 0.26371103 0.27077615 0.30866486\n",
            "  0.27926441 0.24765696 0.26067256 0.27610996 0.28733914 0.30888201]]\n"
          ]
        }
      ]
    },
    {
      "cell_type": "code",
      "metadata": {
        "colab": {
          "base_uri": "https://localhost:8080/"
        },
        "id": "AmWFVtCNrDCc",
        "outputId": "5fac54df-a924-4cca-dae3-d36bdb054f50"
      },
      "source": [
        "all_discribtion_sim.argsort()[:, ::-1]"
      ],
      "execution_count": 25,
      "outputs": [
        {
          "output_type": "execute_result",
          "data": {
            "text/plain": [
              "array([[  0,  65,  77, ...,  50,  92, 103],\n",
              "       [  1,  52,  67, ...,   8,  68, 103],\n",
              "       [  2,  67,  52, ...,  32,  68,   8],\n",
              "       ...,\n",
              "       [153,  25,  14, ..., 106,  92, 103],\n",
              "       [154,  83,  16, ...,  92, 141, 103],\n",
              "       [155,  65,  67, ...,   8, 103,  92]])"
            ]
          },
          "metadata": {},
          "execution_count": 25
        }
      ]
    },
    {
      "cell_type": "code",
      "metadata": {
        "id": "hWD_mQ9ttpko"
      },
      "source": [
        ""
      ],
      "execution_count": 25,
      "outputs": []
    },
    {
      "cell_type": "code",
      "metadata": {
        "colab": {
          "base_uri": "https://localhost:8080/"
        },
        "id": "pQOjsonIrk_l",
        "outputId": "28ee8971-9b86-49d1-9cef-38634c66b699"
      },
      "source": [
        "all_discribtion_sim_sorted_ind = np.sort(all_discribtion_sim, axis=1)[:,::-1]\n",
        "\n",
        "print(all_discribtion_sim_sorted_ind[:1])"
      ],
      "execution_count": 26,
      "outputs": [
        {
          "output_type": "stream",
          "name": "stdout",
          "text": [
            "[[1.         0.44862328 0.44263891 0.44179416 0.43920031 0.43232446\n",
            "  0.42979843 0.42465925 0.42319951 0.42048037 0.41738822 0.41396638\n",
            "  0.40980661 0.40934447 0.40773075 0.4060141  0.40512282 0.4024735\n",
            "  0.40086299 0.39969691 0.39956906 0.39880792 0.39591236 0.39519544\n",
            "  0.39474041 0.39273994 0.39148038 0.38970448 0.38899528 0.38560105\n",
            "  0.38503754 0.38448027 0.38402425 0.38228728 0.38157683 0.38141977\n",
            "  0.38102785 0.38026581 0.37999692 0.37996544 0.3795568  0.37835104\n",
            "  0.37806789 0.377577   0.37757614 0.3773982  0.37590759 0.37574313\n",
            "  0.37466417 0.37413501 0.37290874 0.37261706 0.37190064 0.37142847\n",
            "  0.37086328 0.3706716  0.37046126 0.37021708 0.36887572 0.36837416\n",
            "  0.36654244 0.36621619 0.365749   0.36397201 0.36386681 0.36360893\n",
            "  0.36324514 0.36299852 0.36180512 0.3584473  0.35812806 0.35741113\n",
            "  0.35727112 0.35722516 0.35672414 0.35672353 0.35409485 0.35344889\n",
            "  0.35182472 0.3517435  0.35125519 0.35104646 0.35076716 0.34880495\n",
            "  0.34742443 0.34742115 0.34732854 0.34702868 0.3468328  0.34634826\n",
            "  0.34508552 0.34466204 0.34379911 0.33960201 0.33819278 0.33801\n",
            "  0.33493067 0.33487604 0.33326786 0.33169379 0.32828827 0.32744911\n",
            "  0.32706425 0.32702112 0.32675377 0.32616816 0.32594352 0.32201118\n",
            "  0.32122127 0.31899134 0.31811328 0.31703109 0.31693255 0.3155262\n",
            "  0.31300089 0.31128851 0.31074913 0.31072476 0.31051649 0.30677276\n",
            "  0.30665689 0.30623516 0.30449577 0.30130239 0.29986489 0.29936224\n",
            "  0.29591829 0.29533144 0.29195168 0.29174782 0.28759603 0.28628302\n",
            "  0.28588918 0.28411529 0.28410438 0.28300769 0.27898602 0.27829777\n",
            "  0.27693079 0.27205321 0.27143935 0.26970514 0.26721392 0.26520061\n",
            "  0.26410296 0.26346765 0.26268427 0.26188785 0.26112049 0.24580586\n",
            "  0.24381599 0.24108568 0.21814773 0.2119022  0.15379103 0.12109776]]\n"
          ]
        }
      ]
    },
    {
      "cell_type": "code",
      "metadata": {
        "colab": {
          "base_uri": "https://localhost:8080/"
        },
        "id": "fIoJhGPvZsWJ",
        "outputId": "3c4a2751-57a2-4b74-ba21-0140c01bd5d4"
      },
      "source": [
        "# 높은 순으로 정렬된(내림차순 정렬된) 비교 행 위치 인덱스 값 구해서\n",
        "# 첫 번째(0번 레코드)의 비교 행 위치 인덱스 값만 샘플로 추출\n",
        "all_discribtion_sorted_ind = all_discribtion_sim.argsort()[:, ::-1]\n",
        "print(all_discribtion_sorted_ind[:1]) # [0]"
      ],
      "execution_count": 27,
      "outputs": [
        {
          "output_type": "stream",
          "name": "stdout",
          "text": [
            "[[  0  65  77  41  24 112  11  98  84  30 125  25  36  47  15  52  17  88\n",
            "  122 140  72 148 108  21 135  91  60 139  40  81  53  22  89  27  67  99\n",
            "  118 111  16  49  64  45  23 133  31   4 120 102  87  71  93 101  55  63\n",
            "   61  48  70   3 132  95 117 126 124 153  14  86  58  37   2 145 136  35\n",
            "    6  51  44  28  80  59  57 150  19   9 129  83 155  13   7  74 116  78\n",
            "   79  76  85  39 128 152 107 114 144 134 110 154 137 146  96  69  34  38\n",
            "   10 143 151  82 142  73 127  33  90  32 109  94 131  12  56 130  29  75\n",
            "  115  20   5 123   1 147 104  43 149 119  68  54  42 113  46 138  18 141\n",
            "  121   8 100  97  26  66  62 105 106  50  92 103]]\n"
          ]
        }
      ]
    },
    {
      "cell_type": "code",
      "metadata": {
        "id": "vD_4v3kHh0x0"
      },
      "source": [
        "# all_discribtion_sim_sorted_ind = all_discribtion_sim[all_discribtion_sim.argsort()[:, ::-1]]"
      ],
      "execution_count": 28,
      "outputs": []
    },
    {
      "cell_type": "code",
      "metadata": {
        "id": "GveWKWULqtsJ"
      },
      "source": [
        "# all_discribtion_sim[all_discribtion_sim.argsort()[:, ::-1]]"
      ],
      "execution_count": 29,
      "outputs": []
    },
    {
      "cell_type": "code",
      "metadata": {
        "id": "1y7gv3RLiRu1"
      },
      "source": [
        "# all_discribtion_sim_sorted_ind[:1]"
      ],
      "execution_count": 30,
      "outputs": []
    },
    {
      "cell_type": "code",
      "metadata": {
        "colab": {
          "base_uri": "https://localhost:8080/"
        },
        "id": "mhtt45SZp1US",
        "outputId": "3fb28127-df3e-4e3e-d943-22e08685a04b"
      },
      "source": [
        "all_discribtion_sim_sorted_ind.shape"
      ],
      "execution_count": 31,
      "outputs": [
        {
          "output_type": "execute_result",
          "data": {
            "text/plain": [
              "(156, 156)"
            ]
          },
          "metadata": {},
          "execution_count": 31
        }
      ]
    },
    {
      "cell_type": "code",
      "metadata": {
        "colab": {
          "base_uri": "https://localhost:8080/"
        },
        "id": "ZrzCB9KHqVCQ",
        "outputId": "36468b33-b30d-4ab7-a1d8-17056c9cfffe"
      },
      "source": [
        "all_discribtion_sim.shape"
      ],
      "execution_count": 32,
      "outputs": [
        {
          "output_type": "execute_result",
          "data": {
            "text/plain": [
              "(156, 156)"
            ]
          },
          "metadata": {},
          "execution_count": 32
        }
      ]
    },
    {
      "cell_type": "code",
      "metadata": {
        "id": "r7WH1RBzqaAu"
      },
      "source": [
        "# all_discribtion_sim[0]"
      ],
      "execution_count": 33,
      "outputs": []
    },
    {
      "cell_type": "code",
      "metadata": {
        "id": "rIYrTFzxqHsq"
      },
      "source": [
        "# all_discribtion_sim_sorted_ind"
      ],
      "execution_count": 34,
      "outputs": []
    },
    {
      "cell_type": "code",
      "metadata": {
        "id": "-q0wFB9AZ5ZT"
      },
      "source": [
        "# def find_sim_with_all_discribtion(df, sorted_ind, champ_name, top_n=10):\n",
        "#     # titile 데이터 추출\n",
        "#     champ_find = df[df['id'] == champ_name]\n",
        "    \n",
        "#     # title_name에 해당되는 데이터프레임 index 객체를 배열로 반환하고\n",
        "#     # 유사도 순으로 top_n개의 index 추출\n",
        "#     champ_index = champ_find.index.values\n",
        "#     similar_indexes = sorted_ind[champ_index, :(top_n)]\n",
        "    \n",
        "#     # 추출된 top_n index 출력 \n",
        "#     # 2차원 데이터를 1차원 array로 변환\n",
        "#     print(similar_indexes)\n",
        "#     similar_indexes_tips = similar_indexes.reshape(-1)\n",
        "    \n",
        "#     # index에 해당되는 데이터프레임 반환\n",
        "#     return df.loc[similar_indexes]"
      ],
      "execution_count": 35,
      "outputs": []
    },
    {
      "cell_type": "markdown",
      "metadata": {
        "id": "CaqRuMHqv32X"
      },
      "source": [
        "### 1st Try 함수 부분"
      ]
    },
    {
      "cell_type": "code",
      "metadata": {
        "id": "vpDS-HvRkyXT"
      },
      "source": [
        "def find_sim_with_all_discribtion(df, sorted_ind, champ_name, top_n=10):\n",
        "    # titile 데이터 추출\n",
        "    champ_skill = df[df['id'] == champ_name]\n",
        "    \n",
        "    # title_name에 해당되는 데이터프레임 index 객체를 배열로 반환하고\n",
        "    # 유사도 순으로 top_n개의 index 추출\n",
        "    champ_index = champ_skill.index.values\n",
        "    similar_indexes = sorted_ind[champ_index, :(top_n)]\n",
        "    print(all_discribtion_sim_sorted_ind[champ_index, :(top_n)])\n",
        "    # 추출된 top_n index 출력 \n",
        "    # 2차원 데이터를 1차원 array로 변환\n",
        "    print(similar_indexes)\n",
        "    similar_indexes = similar_indexes.reshape(-1)\n",
        "    \n",
        "    # index에 해당되는 데이터프레임 반환\n",
        "    return df.loc[similar_indexes][['id', 'tags']]"
      ],
      "execution_count": 36,
      "outputs": []
    },
    {
      "cell_type": "code",
      "metadata": {
        "id": "8YYGuK_Wk9dr"
      },
      "source": [
        "champ_skill = champ_summ[champ_summ['id'] == 'Zed']"
      ],
      "execution_count": 37,
      "outputs": []
    },
    {
      "cell_type": "code",
      "metadata": {
        "colab": {
          "base_uri": "https://localhost:8080/",
          "height": 131
        },
        "id": "8wL6Ame7marA",
        "outputId": "d7b5df48-e71f-4f4d-8a3e-790449576add"
      },
      "source": [
        "champ_skill"
      ],
      "execution_count": 38,
      "outputs": [
        {
          "output_type": "execute_result",
          "data": {
            "text/html": [
              "<div>\n",
              "<style scoped>\n",
              "    .dataframe tbody tr th:only-of-type {\n",
              "        vertical-align: middle;\n",
              "    }\n",
              "\n",
              "    .dataframe tbody tr th {\n",
              "        vertical-align: top;\n",
              "    }\n",
              "\n",
              "    .dataframe thead th {\n",
              "        text-align: right;\n",
              "    }\n",
              "</style>\n",
              "<table border=\"1\" class=\"dataframe\">\n",
              "  <thead>\n",
              "    <tr style=\"text-align: right;\">\n",
              "      <th></th>\n",
              "      <th>id</th>\n",
              "      <th>key</th>\n",
              "      <th>tags</th>\n",
              "      <th>champ_q</th>\n",
              "      <th>champ_w</th>\n",
              "      <th>champ_e</th>\n",
              "      <th>champ_r</th>\n",
              "      <th>champ_all_skill</th>\n",
              "      <th>all_tips</th>\n",
              "      <th>all_tips_literal</th>\n",
              "      <th>all_discribtion</th>\n",
              "    </tr>\n",
              "  </thead>\n",
              "  <tbody>\n",
              "    <tr>\n",
              "      <th>151</th>\n",
              "      <td>Zed</td>\n",
              "      <td>238</td>\n",
              "      <td>['Assassin']</td>\n",
              "      <td>Zed and his shadows throw their shurikens.Each...</td>\n",
              "      <td>Passive: Zed gains energy whenever he and his ...</td>\n",
              "      <td>Zed and his shadows slash, dealing damage to n...</td>\n",
              "      <td>Zed becomes untargetable and dashes to an enem...</td>\n",
              "      <td>Zed and his shadows throw their shurikens.Each...</td>\n",
              "      <td>[Zed receives bonus effect from Attack Damage ...</td>\n",
              "      <td>Zed receives bonus effect from Attack Damage i...</td>\n",
              "      <td>Zed receives bonus effect from Attack Damage i...</td>\n",
              "    </tr>\n",
              "  </tbody>\n",
              "</table>\n",
              "</div>"
            ],
            "text/plain": [
              "      id  ...                                    all_discribtion\n",
              "151  Zed  ...  Zed receives bonus effect from Attack Damage i...\n",
              "\n",
              "[1 rows x 11 columns]"
            ]
          },
          "metadata": {},
          "execution_count": 38
        }
      ]
    },
    {
      "cell_type": "code",
      "metadata": {
        "id": "1MXPqdq3meCd"
      },
      "source": [
        "champ_index = champ_skill.index.values"
      ],
      "execution_count": 39,
      "outputs": []
    },
    {
      "cell_type": "code",
      "metadata": {
        "colab": {
          "base_uri": "https://localhost:8080/"
        },
        "id": "z2XRmna-me7v",
        "outputId": "991bf898-bd66-4d3a-adb6-8bfcb37f9dd9"
      },
      "source": [
        "champ_index"
      ],
      "execution_count": 40,
      "outputs": [
        {
          "output_type": "execute_result",
          "data": {
            "text/plain": [
              "array([151])"
            ]
          },
          "metadata": {},
          "execution_count": 40
        }
      ]
    },
    {
      "cell_type": "code",
      "metadata": {
        "id": "q9X1SBfomguu"
      },
      "source": [
        "similar_indexes = all_discribtion_sorted_ind[champ_index, :10]"
      ],
      "execution_count": 41,
      "outputs": []
    },
    {
      "cell_type": "code",
      "metadata": {
        "colab": {
          "base_uri": "https://localhost:8080/"
        },
        "id": "P9lGDHccmuRT",
        "outputId": "2a18608e-9c98-4069-e570-217cd5c6dd90"
      },
      "source": [
        "similar_indexes"
      ],
      "execution_count": 42,
      "outputs": [
        {
          "output_type": "execute_result",
          "data": {
            "text/plain": [
              "array([[151,  25,  98,  24, 108,  36, 118,  21, 145, 114]])"
            ]
          },
          "metadata": {},
          "execution_count": 42
        }
      ]
    },
    {
      "cell_type": "code",
      "metadata": {
        "id": "T2Ee7tkbmxe4"
      },
      "source": [
        " similar_indexes = similar_indexes.reshape(-1)"
      ],
      "execution_count": 43,
      "outputs": []
    },
    {
      "cell_type": "code",
      "metadata": {
        "colab": {
          "base_uri": "https://localhost:8080/"
        },
        "id": "ycG-VfB7myRT",
        "outputId": "d167361f-669f-4913-9ef1-ea0969fdcf08"
      },
      "source": [
        " similar_indexes"
      ],
      "execution_count": 44,
      "outputs": [
        {
          "output_type": "execute_result",
          "data": {
            "text/plain": [
              "array([151,  25,  98,  24, 108,  36, 118,  21, 145, 114])"
            ]
          },
          "metadata": {},
          "execution_count": 44
        }
      ]
    },
    {
      "cell_type": "code",
      "metadata": {
        "colab": {
          "base_uri": "https://localhost:8080/",
          "height": 359
        },
        "id": "ZqHt-rnFnJoo",
        "outputId": "5823a1d8-d74c-4d2e-c744-8b11f802b1ad"
      },
      "source": [
        "champ_summ.loc[similar_indexes][['id', 'tags']]"
      ],
      "execution_count": 45,
      "outputs": [
        {
          "output_type": "execute_result",
          "data": {
            "text/html": [
              "<div>\n",
              "<style scoped>\n",
              "    .dataframe tbody tr th:only-of-type {\n",
              "        vertical-align: middle;\n",
              "    }\n",
              "\n",
              "    .dataframe tbody tr th {\n",
              "        vertical-align: top;\n",
              "    }\n",
              "\n",
              "    .dataframe thead th {\n",
              "        text-align: right;\n",
              "    }\n",
              "</style>\n",
              "<table border=\"1\" class=\"dataframe\">\n",
              "  <thead>\n",
              "    <tr style=\"text-align: right;\">\n",
              "      <th></th>\n",
              "      <th>id</th>\n",
              "      <th>tags</th>\n",
              "    </tr>\n",
              "  </thead>\n",
              "  <tbody>\n",
              "    <tr>\n",
              "      <th>151</th>\n",
              "      <td>Zed</td>\n",
              "      <td>['Assassin']</td>\n",
              "    </tr>\n",
              "    <tr>\n",
              "      <th>25</th>\n",
              "      <td>Ekko</td>\n",
              "      <td>['Assassin', 'Fighter']</td>\n",
              "    </tr>\n",
              "    <tr>\n",
              "      <th>98</th>\n",
              "      <td>Renekton</td>\n",
              "      <td>['Fighter', 'Tank']</td>\n",
              "    </tr>\n",
              "    <tr>\n",
              "      <th>24</th>\n",
              "      <td>DrMundo</td>\n",
              "      <td>['Fighter', 'Tank']</td>\n",
              "    </tr>\n",
              "    <tr>\n",
              "      <th>108</th>\n",
              "      <td>Shaco</td>\n",
              "      <td>['Assassin']</td>\n",
              "    </tr>\n",
              "    <tr>\n",
              "      <th>36</th>\n",
              "      <td>Gragas</td>\n",
              "      <td>['Fighter', 'Mage']</td>\n",
              "    </tr>\n",
              "    <tr>\n",
              "      <th>118</th>\n",
              "      <td>Sylas</td>\n",
              "      <td>['Mage', 'Assassin']</td>\n",
              "    </tr>\n",
              "    <tr>\n",
              "      <th>21</th>\n",
              "      <td>Darius</td>\n",
              "      <td>['Fighter', 'Tank']</td>\n",
              "    </tr>\n",
              "    <tr>\n",
              "      <th>145</th>\n",
              "      <td>XinZhao</td>\n",
              "      <td>['Fighter', 'Assassin']</td>\n",
              "    </tr>\n",
              "    <tr>\n",
              "      <th>114</th>\n",
              "      <td>Skarner</td>\n",
              "      <td>['Fighter', 'Tank']</td>\n",
              "    </tr>\n",
              "  </tbody>\n",
              "</table>\n",
              "</div>"
            ],
            "text/plain": [
              "           id                     tags\n",
              "151       Zed             ['Assassin']\n",
              "25       Ekko  ['Assassin', 'Fighter']\n",
              "98   Renekton      ['Fighter', 'Tank']\n",
              "24    DrMundo      ['Fighter', 'Tank']\n",
              "108     Shaco             ['Assassin']\n",
              "36     Gragas      ['Fighter', 'Mage']\n",
              "118     Sylas     ['Mage', 'Assassin']\n",
              "21     Darius      ['Fighter', 'Tank']\n",
              "145   XinZhao  ['Fighter', 'Assassin']\n",
              "114   Skarner      ['Fighter', 'Tank']"
            ]
          },
          "metadata": {},
          "execution_count": 45
        }
      ]
    },
    {
      "cell_type": "markdown",
      "metadata": {
        "id": "gCX0M-oUv-hc"
      },
      "source": [
        "### 1st Try 결과"
      ]
    },
    {
      "cell_type": "code",
      "metadata": {
        "colab": {
          "base_uri": "https://localhost:8080/",
          "height": 410
        },
        "id": "O02Q_0hNawZH",
        "outputId": "f9c75c1c-d0da-4723-efbd-087310c95679"
      },
      "source": [
        "similar_all_discribtion_champ = find_sim_with_all_discribtion(champ_summ,all_discribtion_sorted_ind, 'Zed', 10)\n",
        "similar_all_discribtion_champ[['id', 'tags']]"
      ],
      "execution_count": 46,
      "outputs": [
        {
          "output_type": "stream",
          "name": "stdout",
          "text": [
            "[[1.         0.36947769 0.36226941 0.36045008 0.35584601 0.35117223\n",
            "  0.35038825 0.34547008 0.34286385 0.34190286]]\n",
            "[[151  25  98  24 108  36 118  21 145 114]]\n"
          ]
        },
        {
          "output_type": "execute_result",
          "data": {
            "text/html": [
              "<div>\n",
              "<style scoped>\n",
              "    .dataframe tbody tr th:only-of-type {\n",
              "        vertical-align: middle;\n",
              "    }\n",
              "\n",
              "    .dataframe tbody tr th {\n",
              "        vertical-align: top;\n",
              "    }\n",
              "\n",
              "    .dataframe thead th {\n",
              "        text-align: right;\n",
              "    }\n",
              "</style>\n",
              "<table border=\"1\" class=\"dataframe\">\n",
              "  <thead>\n",
              "    <tr style=\"text-align: right;\">\n",
              "      <th></th>\n",
              "      <th>id</th>\n",
              "      <th>tags</th>\n",
              "    </tr>\n",
              "  </thead>\n",
              "  <tbody>\n",
              "    <tr>\n",
              "      <th>151</th>\n",
              "      <td>Zed</td>\n",
              "      <td>['Assassin']</td>\n",
              "    </tr>\n",
              "    <tr>\n",
              "      <th>25</th>\n",
              "      <td>Ekko</td>\n",
              "      <td>['Assassin', 'Fighter']</td>\n",
              "    </tr>\n",
              "    <tr>\n",
              "      <th>98</th>\n",
              "      <td>Renekton</td>\n",
              "      <td>['Fighter', 'Tank']</td>\n",
              "    </tr>\n",
              "    <tr>\n",
              "      <th>24</th>\n",
              "      <td>DrMundo</td>\n",
              "      <td>['Fighter', 'Tank']</td>\n",
              "    </tr>\n",
              "    <tr>\n",
              "      <th>108</th>\n",
              "      <td>Shaco</td>\n",
              "      <td>['Assassin']</td>\n",
              "    </tr>\n",
              "    <tr>\n",
              "      <th>36</th>\n",
              "      <td>Gragas</td>\n",
              "      <td>['Fighter', 'Mage']</td>\n",
              "    </tr>\n",
              "    <tr>\n",
              "      <th>118</th>\n",
              "      <td>Sylas</td>\n",
              "      <td>['Mage', 'Assassin']</td>\n",
              "    </tr>\n",
              "    <tr>\n",
              "      <th>21</th>\n",
              "      <td>Darius</td>\n",
              "      <td>['Fighter', 'Tank']</td>\n",
              "    </tr>\n",
              "    <tr>\n",
              "      <th>145</th>\n",
              "      <td>XinZhao</td>\n",
              "      <td>['Fighter', 'Assassin']</td>\n",
              "    </tr>\n",
              "    <tr>\n",
              "      <th>114</th>\n",
              "      <td>Skarner</td>\n",
              "      <td>['Fighter', 'Tank']</td>\n",
              "    </tr>\n",
              "  </tbody>\n",
              "</table>\n",
              "</div>"
            ],
            "text/plain": [
              "           id                     tags\n",
              "151       Zed             ['Assassin']\n",
              "25       Ekko  ['Assassin', 'Fighter']\n",
              "98   Renekton      ['Fighter', 'Tank']\n",
              "24    DrMundo      ['Fighter', 'Tank']\n",
              "108     Shaco             ['Assassin']\n",
              "36     Gragas      ['Fighter', 'Mage']\n",
              "118     Sylas     ['Mage', 'Assassin']\n",
              "21     Darius      ['Fighter', 'Tank']\n",
              "145   XinZhao  ['Fighter', 'Assassin']\n",
              "114   Skarner      ['Fighter', 'Tank']"
            ]
          },
          "metadata": {},
          "execution_count": 46
        }
      ]
    },
    {
      "cell_type": "markdown",
      "metadata": {
        "id": "4mjuxQ4KwfbI"
      },
      "source": [
        "## 1차 자연어 처리 부분"
      ]
    },
    {
      "cell_type": "code",
      "metadata": {
        "colab": {
          "base_uri": "https://localhost:8080/"
        },
        "id": "udwFStdPwhy_",
        "outputId": "12ea673d-2fa8-42e9-df08-45438a34a67e"
      },
      "source": [
        "champ_summ['all_discribtion']"
      ],
      "execution_count": 47,
      "outputs": [
        {
          "output_type": "execute_result",
          "data": {
            "text/plain": [
              "0      Aatrox's attacks are very telegraphed, so use ...\n",
              "1      Ahri's survivability is dramatically reduced w...\n",
              "2      Akali can still be hit by area effect spells w...\n",
              "3      Raising an eyebrow in the face of danger, Aksh...\n",
              "4      Alistar is very disruptive but very tough - tr...\n",
              "                             ...                        \n",
              "151    Zed receives bonus effect from Attack Damage i...\n",
              "152    Don't step on Ziggs' mines! They'll slow you a...\n",
              "153    If you're able to match Zilean's speed, it can...\n",
              "154    Zoe's Paddle Star deals more damage the furthe...\n",
              "155    Zyra's seeds can be destroyed by stepping on t...\n",
              "Name: all_discribtion, Length: 156, dtype: object"
            ]
          },
          "metadata": {},
          "execution_count": 47
        }
      ]
    },
    {
      "cell_type": "code",
      "metadata": {
        "colab": {
          "base_uri": "https://localhost:8080/"
        },
        "id": "-yjRQZO4frzM",
        "outputId": "e5f48115-2b65-41b7-a11e-4fecad8cb9af"
      },
      "source": [
        "import nltk\n",
        "nltk.download('stopwords')"
      ],
      "execution_count": 48,
      "outputs": [
        {
          "output_type": "stream",
          "name": "stderr",
          "text": [
            "[nltk_data] Downloading package stopwords to /root/nltk_data...\n",
            "[nltk_data]   Package stopwords is already up-to-date!\n"
          ]
        },
        {
          "output_type": "execute_result",
          "data": {
            "text/plain": [
              "True"
            ]
          },
          "metadata": {},
          "execution_count": 48
        }
      ]
    },
    {
      "cell_type": "code",
      "metadata": {
        "colab": {
          "base_uri": "https://localhost:8080/"
        },
        "id": "vy1psVD-wQXc",
        "outputId": "149732f7-85ae-47c9-96ab-b558f170c3e6"
      },
      "source": [
        "from nltk.corpus import stopwords\n",
        "\n",
        "print(stopwords.words('english'))"
      ],
      "execution_count": 49,
      "outputs": [
        {
          "output_type": "stream",
          "name": "stdout",
          "text": [
            "['i', 'me', 'my', 'myself', 'we', 'our', 'ours', 'ourselves', 'you', \"you're\", \"you've\", \"you'll\", \"you'd\", 'your', 'yours', 'yourself', 'yourselves', 'he', 'him', 'his', 'himself', 'she', \"she's\", 'her', 'hers', 'herself', 'it', \"it's\", 'its', 'itself', 'they', 'them', 'their', 'theirs', 'themselves', 'what', 'which', 'who', 'whom', 'this', 'that', \"that'll\", 'these', 'those', 'am', 'is', 'are', 'was', 'were', 'be', 'been', 'being', 'have', 'has', 'had', 'having', 'do', 'does', 'did', 'doing', 'a', 'an', 'the', 'and', 'but', 'if', 'or', 'because', 'as', 'until', 'while', 'of', 'at', 'by', 'for', 'with', 'about', 'against', 'between', 'into', 'through', 'during', 'before', 'after', 'above', 'below', 'to', 'from', 'up', 'down', 'in', 'out', 'on', 'off', 'over', 'under', 'again', 'further', 'then', 'once', 'here', 'there', 'when', 'where', 'why', 'how', 'all', 'any', 'both', 'each', 'few', 'more', 'most', 'other', 'some', 'such', 'no', 'nor', 'not', 'only', 'own', 'same', 'so', 'than', 'too', 'very', 's', 't', 'can', 'will', 'just', 'don', \"don't\", 'should', \"should've\", 'now', 'd', 'll', 'm', 'o', 're', 've', 'y', 'ain', 'aren', \"aren't\", 'couldn', \"couldn't\", 'didn', \"didn't\", 'doesn', \"doesn't\", 'hadn', \"hadn't\", 'hasn', \"hasn't\", 'haven', \"haven't\", 'isn', \"isn't\", 'ma', 'mightn', \"mightn't\", 'mustn', \"mustn't\", 'needn', \"needn't\", 'shan', \"shan't\", 'shouldn', \"shouldn't\", 'wasn', \"wasn't\", 'weren', \"weren't\", 'won', \"won't\", 'wouldn', \"wouldn't\"]\n"
          ]
        }
      ]
    },
    {
      "cell_type": "code",
      "metadata": {
        "colab": {
          "base_uri": "https://localhost:8080/"
        },
        "id": "Bma1Sy8LwTLE",
        "outputId": "82043f87-b6e3-4281-c850-85a7dcb93a9d"
      },
      "source": [
        "from nltk.corpus import stopwords \n",
        "from nltk.tokenize import word_tokenize\n",
        "import nltk\n",
        "nltk.download('punkt')"
      ],
      "execution_count": 50,
      "outputs": [
        {
          "output_type": "stream",
          "name": "stderr",
          "text": [
            "[nltk_data] Downloading package punkt to /root/nltk_data...\n",
            "[nltk_data]   Package punkt is already up-to-date!\n"
          ]
        },
        {
          "output_type": "execute_result",
          "data": {
            "text/plain": [
              "True"
            ]
          },
          "metadata": {},
          "execution_count": 50
        }
      ]
    },
    {
      "cell_type": "code",
      "metadata": {
        "id": "bCw9BOBqwXBs"
      },
      "source": [
        "stop_words = set(stopwords.words('english')) "
      ],
      "execution_count": 51,
      "outputs": []
    },
    {
      "cell_type": "code",
      "metadata": {
        "colab": {
          "base_uri": "https://localhost:8080/",
          "height": 140
        },
        "id": "j_X1F6B5xefC",
        "outputId": "c653e3ae-8989-4848-c122-caf112ae85ce"
      },
      "source": [
        "champ_summ['all_discribtion'][0]"
      ],
      "execution_count": 52,
      "outputs": [
        {
          "output_type": "execute_result",
          "data": {
            "application/vnd.google.colaboratory.intrinsic+json": {
              "type": "string"
            },
            "text/plain": [
              "\"Aatrox's attacks are very telegraphed, so use the time to dodge the hit zones. Aatrox's Infernal Chains are easier to exit when running towards the sides or at Aatrox. Keep your distance when Aatrox uses his Ultimate to prevent him from reviving. Use Umbral Dash while casting The Darkin Blade to increase your chances of hitting the enemy. Crowd Control abilities like Infernal Chains or your allies' immobilizing effects will help you set up The Darkin Blade. Cast World Ender when you are sure you can force a fight.Aatrox slams his greatsword down, dealing physical damage. He can swing three times, each with a different area of effect.Aatrox smashes the ground, dealing damage to the first enemy hit. Champions and large monsters have to leave the impact area quickly or they will be dragged to the center and take the damage again.Passively, Aatrox heals when damaging enemy champions. On activation, he dashes in a direction.Aatrox unleashes his demonic form, fearing nearby enemy minions and gaining attack damage, increased healing, and movement speed. If he gets a takedown, this effect is extended.\""
            ]
          },
          "metadata": {},
          "execution_count": 52
        }
      ]
    },
    {
      "cell_type": "code",
      "metadata": {
        "colab": {
          "base_uri": "https://localhost:8080/"
        },
        "id": "juD1jq4cwZQ4",
        "outputId": "bd1f5aa4-255e-4b27-abc1-80819b6ea6ec"
      },
      "source": [
        "clean_discrib = []\n",
        "stop_words = set(stopwords.words('english'))\n",
        "for i in range(len(champ_summ['all_discribtion'])):\n",
        "\n",
        "    discrib = champ_summ['all_discribtion'][i]\n",
        "\n",
        "    word_tokens = word_tokenize(discrib)\n",
        "\n",
        "    result = []\n",
        "    for w in word_tokens: \n",
        "        if w not in stop_words: \n",
        "            result.append(w) \n",
        "    clean_discrib.append(result)\n",
        "    print(word_tokens,'\\n')\n",
        "    print(result) "
      ],
      "execution_count": 53,
      "outputs": [
        {
          "output_type": "stream",
          "name": "stdout",
          "text": [
            "['Aatrox', \"'s\", 'attacks', 'are', 'very', 'telegraphed', ',', 'so', 'use', 'the', 'time', 'to', 'dodge', 'the', 'hit', 'zones', '.', 'Aatrox', \"'s\", 'Infernal', 'Chains', 'are', 'easier', 'to', 'exit', 'when', 'running', 'towards', 'the', 'sides', 'or', 'at', 'Aatrox', '.', 'Keep', 'your', 'distance', 'when', 'Aatrox', 'uses', 'his', 'Ultimate', 'to', 'prevent', 'him', 'from', 'reviving', '.', 'Use', 'Umbral', 'Dash', 'while', 'casting', 'The', 'Darkin', 'Blade', 'to', 'increase', 'your', 'chances', 'of', 'hitting', 'the', 'enemy', '.', 'Crowd', 'Control', 'abilities', 'like', 'Infernal', 'Chains', 'or', 'your', 'allies', \"'\", 'immobilizing', 'effects', 'will', 'help', 'you', 'set', 'up', 'The', 'Darkin', 'Blade', '.', 'Cast', 'World', 'Ender', 'when', 'you', 'are', 'sure', 'you', 'can', 'force', 'a', 'fight.Aatrox', 'slams', 'his', 'greatsword', 'down', ',', 'dealing', 'physical', 'damage', '.', 'He', 'can', 'swing', 'three', 'times', ',', 'each', 'with', 'a', 'different', 'area', 'of', 'effect.Aatrox', 'smashes', 'the', 'ground', ',', 'dealing', 'damage', 'to', 'the', 'first', 'enemy', 'hit', '.', 'Champions', 'and', 'large', 'monsters', 'have', 'to', 'leave', 'the', 'impact', 'area', 'quickly', 'or', 'they', 'will', 'be', 'dragged', 'to', 'the', 'center', 'and', 'take', 'the', 'damage', 'again.Passively', ',', 'Aatrox', 'heals', 'when', 'damaging', 'enemy', 'champions', '.', 'On', 'activation', ',', 'he', 'dashes', 'in', 'a', 'direction.Aatrox', 'unleashes', 'his', 'demonic', 'form', ',', 'fearing', 'nearby', 'enemy', 'minions', 'and', 'gaining', 'attack', 'damage', ',', 'increased', 'healing', ',', 'and', 'movement', 'speed', '.', 'If', 'he', 'gets', 'a', 'takedown', ',', 'this', 'effect', 'is', 'extended', '.'] \n",
            "\n",
            "['Aatrox', \"'s\", 'attacks', 'telegraphed', ',', 'use', 'time', 'dodge', 'hit', 'zones', '.', 'Aatrox', \"'s\", 'Infernal', 'Chains', 'easier', 'exit', 'running', 'towards', 'sides', 'Aatrox', '.', 'Keep', 'distance', 'Aatrox', 'uses', 'Ultimate', 'prevent', 'reviving', '.', 'Use', 'Umbral', 'Dash', 'casting', 'The', 'Darkin', 'Blade', 'increase', 'chances', 'hitting', 'enemy', '.', 'Crowd', 'Control', 'abilities', 'like', 'Infernal', 'Chains', 'allies', \"'\", 'immobilizing', 'effects', 'help', 'set', 'The', 'Darkin', 'Blade', '.', 'Cast', 'World', 'Ender', 'sure', 'force', 'fight.Aatrox', 'slams', 'greatsword', ',', 'dealing', 'physical', 'damage', '.', 'He', 'swing', 'three', 'times', ',', 'different', 'area', 'effect.Aatrox', 'smashes', 'ground', ',', 'dealing', 'damage', 'first', 'enemy', 'hit', '.', 'Champions', 'large', 'monsters', 'leave', 'impact', 'area', 'quickly', 'dragged', 'center', 'take', 'damage', 'again.Passively', ',', 'Aatrox', 'heals', 'damaging', 'enemy', 'champions', '.', 'On', 'activation', ',', 'dashes', 'direction.Aatrox', 'unleashes', 'demonic', 'form', ',', 'fearing', 'nearby', 'enemy', 'minions', 'gaining', 'attack', 'damage', ',', 'increased', 'healing', ',', 'movement', 'speed', '.', 'If', 'gets', 'takedown', ',', 'effect', 'extended', '.']\n",
            "['Ahri', \"'s\", 'survivability', 'is', 'dramatically', 'reduced', 'when', 'her', 'Ultimate', ',', 'Spirit', 'Rush', ',', 'is', 'down', '.', 'Stay', 'behind', 'minions', 'to', 'make', 'Charm', 'difficult', 'to', 'land', ',', 'this', 'will', 'reduce', 'Ahri', \"'s\", 'damage', 'potential', 'significantly', '.', 'Use', 'Charm', 'to', 'set', 'up', 'your', 'combos', ',', 'it', 'will', 'make', 'landing', 'Orb', 'of', 'Deception', 'and', 'Fox-Fire', 'dramatically', 'easier', '.', 'Initiate', 'team', 'fights', 'using', 'Charm', ',', 'and', 'chase', 'down', 'stragglers', 'with', 'Spirit', 'Rush', '.', 'Spirit', 'Rush', 'enables', 'Ahri', \"'s\", 'abilities', ',', 'it', 'opens', 'up', 'paths', 'for', 'Charm', ',', 'helps', 'double', 'hitting', 'with', 'Orb', 'of', 'Deception', ',', 'and', 'closes', 'to', 'make', 'use', 'of', 'Fox-Fire.Ahri', 'sends', 'out', 'and', 'pulls', 'back', 'her', 'orb', ',', 'dealing', 'magic', 'damage', 'on', 'the', 'way', 'out', 'and', 'true', 'damage', 'on', 'the', 'way', 'back', '.', 'Ahri', 'gains', 'a', 'brief', 'burst', 'of', 'movement', 'speed', 'and', 'releases', 'three', 'fox-fires', ',', 'that', 'lock', 'onto', 'and', 'attack', 'nearby', 'enemies.Ahri', 'blows', 'a', 'kiss', 'that', 'damages', 'and', 'charms', 'an', 'enemy', 'it', 'encounters', ',', 'instantly', 'stopping', 'movement', 'abilities', 'and', 'causing', 'them', 'to', 'walk', 'harmlessly', 'towards', 'her', '.', 'The', 'target', 'temporarily', 'takes', 'increased', 'damage', 'from', 'Ahri.Ahri', 'dashes', 'forward', 'and', 'fires', 'essence', 'bolts', ',', 'damaging', 'nearby', 'enemies', '.', 'Spirit', 'Rush', 'can', 'be', 'cast', 'up', 'to', 'three', 'times', 'before', 'going', 'on', 'cooldown', '.'] \n",
            "\n",
            "['Ahri', \"'s\", 'survivability', 'dramatically', 'reduced', 'Ultimate', ',', 'Spirit', 'Rush', ',', '.', 'Stay', 'behind', 'minions', 'make', 'Charm', 'difficult', 'land', ',', 'reduce', 'Ahri', \"'s\", 'damage', 'potential', 'significantly', '.', 'Use', 'Charm', 'set', 'combos', ',', 'make', 'landing', 'Orb', 'Deception', 'Fox-Fire', 'dramatically', 'easier', '.', 'Initiate', 'team', 'fights', 'using', 'Charm', ',', 'chase', 'stragglers', 'Spirit', 'Rush', '.', 'Spirit', 'Rush', 'enables', 'Ahri', \"'s\", 'abilities', ',', 'opens', 'paths', 'Charm', ',', 'helps', 'double', 'hitting', 'Orb', 'Deception', ',', 'closes', 'make', 'use', 'Fox-Fire.Ahri', 'sends', 'pulls', 'back', 'orb', ',', 'dealing', 'magic', 'damage', 'way', 'true', 'damage', 'way', 'back', '.', 'Ahri', 'gains', 'brief', 'burst', 'movement', 'speed', 'releases', 'three', 'fox-fires', ',', 'lock', 'onto', 'attack', 'nearby', 'enemies.Ahri', 'blows', 'kiss', 'damages', 'charms', 'enemy', 'encounters', ',', 'instantly', 'stopping', 'movement', 'abilities', 'causing', 'walk', 'harmlessly', 'towards', '.', 'The', 'target', 'temporarily', 'takes', 'increased', 'damage', 'Ahri.Ahri', 'dashes', 'forward', 'fires', 'essence', 'bolts', ',', 'damaging', 'nearby', 'enemies', '.', 'Spirit', 'Rush', 'cast', 'three', 'times', 'going', 'cooldown', '.']\n",
            "['Akali', 'can', 'still', 'be', 'hit', 'by', 'area', 'effect', 'spells', 'while', 'obscured', 'inside', 'Twilight', 'Shroud', '.', 'Doing', 'so', 'will', 'briefly', 'reveal', 'her', 'position', '.', 'Akali', \"'s\", 'Five', 'Point', 'Strike', 'is', 'powerful', 'when', 'used', 'at', 'maximum', 'range', 'and', 'energy', '.', 'Engage', 'on', 'her', 'when', 'she', 'has', 'low', 'energy', 'to', 'maximize', 'your', 'chance', 'of', 'winning', 'trades', '.', 'Return', 'to', 'base', 'if', 'your', 'Health', 'is', 'low', 'and', 'Akali', 'has', 'her', 'ultimate', 'available', '.', 'Akali', 'excels', 'at', 'killing', 'fragile', 'champions', '.', 'Let', 'your', 'team', 'initiate', 'and', 'then', 'strike', 'at', 'the', 'people', 'in', 'the', 'back', '.', 'Twilight', 'Shroud', 'offers', 'safety', 'in', 'even', 'the', 'most', 'dangerous', 'situations', '.', 'Use', 'that', 'time', 'to', 'save', 'up', 'energy', 'for', 'a', 'quick', 'strike', 'later.Akali', 'throws', 'out', 'five', 'kunai', ',', 'dealing', 'damage', 'based', 'on', 'her', 'bonus', 'Attack', 'Damage', 'and', 'Ability', 'Power', 'and', 'slowing.Akali', 'drops', 'a', 'cover', 'of', 'smoke', 'and', 'briefly', 'gains', 'Movement', 'Speed', '.', 'While', 'inside', 'the', 'shroud', ',', 'Akali', 'becomes', 'invisible', 'and', 'unable', 'to', 'be', 'selected', 'by', 'enemy', 'spells', 'and', 'attacks', '.', 'Attacking', 'or', 'using', 'abilities', 'will', 'briefly', 'reveal', 'her', '.', 'Flip', 'backward', 'and', 'fire', 'a', 'shuriken', 'forward', ',', 'dealing', 'magic', 'damage', '.', 'The', 'first', 'enemy', 'or', 'smoke', 'cloud', 'hit', 'is', 'marked', '.', 'Re-cast', 'to', 'dash', 'to', 'the', 'marked', 'target', ',', 'dealing', 'additional', 'damage.Akali', 'leaps', 'in', 'a', 'direction', ',', 'damaging', 'enemies', 'she', 'strikes', '.', 'Re-cast', ':', 'Akali', 'dashes', 'in', 'a', 'direction', ',', 'executing', 'all', 'enemies', 'she', 'strikes', '.'] \n",
            "\n",
            "['Akali', 'still', 'hit', 'area', 'effect', 'spells', 'obscured', 'inside', 'Twilight', 'Shroud', '.', 'Doing', 'briefly', 'reveal', 'position', '.', 'Akali', \"'s\", 'Five', 'Point', 'Strike', 'powerful', 'used', 'maximum', 'range', 'energy', '.', 'Engage', 'low', 'energy', 'maximize', 'chance', 'winning', 'trades', '.', 'Return', 'base', 'Health', 'low', 'Akali', 'ultimate', 'available', '.', 'Akali', 'excels', 'killing', 'fragile', 'champions', '.', 'Let', 'team', 'initiate', 'strike', 'people', 'back', '.', 'Twilight', 'Shroud', 'offers', 'safety', 'even', 'dangerous', 'situations', '.', 'Use', 'time', 'save', 'energy', 'quick', 'strike', 'later.Akali', 'throws', 'five', 'kunai', ',', 'dealing', 'damage', 'based', 'bonus', 'Attack', 'Damage', 'Ability', 'Power', 'slowing.Akali', 'drops', 'cover', 'smoke', 'briefly', 'gains', 'Movement', 'Speed', '.', 'While', 'inside', 'shroud', ',', 'Akali', 'becomes', 'invisible', 'unable', 'selected', 'enemy', 'spells', 'attacks', '.', 'Attacking', 'using', 'abilities', 'briefly', 'reveal', '.', 'Flip', 'backward', 'fire', 'shuriken', 'forward', ',', 'dealing', 'magic', 'damage', '.', 'The', 'first', 'enemy', 'smoke', 'cloud', 'hit', 'marked', '.', 'Re-cast', 'dash', 'marked', 'target', ',', 'dealing', 'additional', 'damage.Akali', 'leaps', 'direction', ',', 'damaging', 'enemies', 'strikes', '.', 'Re-cast', ':', 'Akali', 'dashes', 'direction', ',', 'executing', 'enemies', 'strikes', '.']\n",
            "['Raising', 'an', 'eyebrow', 'in', 'the', 'face', 'of', 'danger', ',', 'Akshan', 'fights', 'evil', 'with', 'dashing', 'charisma', ',', 'righteous', 'vengeance', ',', 'and', 'a', 'conspicuous', 'lack', 'of', 'shirts', '.', 'He', 'is', 'highly', 'skilled', 'in', 'the', 'art', 'of', 'stealth', 'combat', ',', 'able', 'to', 'evade', 'the', 'eyes', 'of', 'his', 'enemies', 'and', 'reappear', 'when', 'they', 'least', 'expect', 'him', '.', 'With', 'a', 'keen', 'sense', 'of', 'justice', 'and', 'a', 'legendary', 'death-reversing', 'weapon', ',', 'he', 'rights', 'the', 'wrongs', 'of', 'Runeterra', \"'s\", 'many', 'scoundrels', 'while', 'living', 'by', 'his', 'own', 'moral', 'code', ':', '“', 'Do', \"n't\", 'be', 'an', 'ass.', '”', 'Akshan', 'throws', 'a', 'boomerang', 'that', 'deals', 'damage', 'going', 'out', 'and', 'coming', 'back', ',', 'extending', 'its', 'range', 'each', 'time', 'it', 'hits', 'an', 'enemy.Akshan', 'passively', 'marks', 'enemy', 'champions', 'as', 'Scoundrels', 'when', 'they', 'kill', 'his', 'ally', 'champions', '.', 'If', 'Akshan', 'kills', 'a', 'Scoundrel', ',', 'he', 'resurrects', 'the', 'allies', 'they', 'killed', ',', 'gains', 'bonus', 'gold', ',', 'and', 'clears', 'all', 'marks.When', 'activated', ',', 'Akshan', 'enters', 'camouflage', 'and', 'gains', 'Move', 'Speed', 'and', 'Mana', 'Regen', 'while', 'moving', 'towards', 'Scoundrels', '.', 'Akshan', 'loses', 'the', 'camouflage', 'quickly', 'while', 'he', 'is', 'not', 'in', 'brush', 'or', 'near', 'terrain.Akshan', 'fires', 'a', 'grappling', 'hook', 'into', 'terrain', 'then', 'swings', 'around', 'it', ',', 'repeatedly', 'firing', 'at', 'the', 'nearest', 'enemy', 'while', 'swinging', '.', 'He', 'can', 'jump', 'off', 'early', 'or', 'gets', 'knocked', 'off', 'when', 'colliding', 'with', 'champions', 'or', 'terrain.Akshan', 'locks', 'onto', 'an', 'enemy', 'champion', 'and', 'starts', 'storing', 'bullets', '.', 'When', 'released', ',', 'he', 'fires', 'all', 'stored', 'bullets', ',', 'dealing', 'damage', 'based', 'on', 'missing', 'health', 'to', 'the', 'first', 'champion', ',', 'minion', ',', 'or', 'structure', 'hit', '.'] \n",
            "\n",
            "['Raising', 'eyebrow', 'face', 'danger', ',', 'Akshan', 'fights', 'evil', 'dashing', 'charisma', ',', 'righteous', 'vengeance', ',', 'conspicuous', 'lack', 'shirts', '.', 'He', 'highly', 'skilled', 'art', 'stealth', 'combat', ',', 'able', 'evade', 'eyes', 'enemies', 'reappear', 'least', 'expect', '.', 'With', 'keen', 'sense', 'justice', 'legendary', 'death-reversing', 'weapon', ',', 'rights', 'wrongs', 'Runeterra', \"'s\", 'many', 'scoundrels', 'living', 'moral', 'code', ':', '“', 'Do', \"n't\", 'ass.', '”', 'Akshan', 'throws', 'boomerang', 'deals', 'damage', 'going', 'coming', 'back', ',', 'extending', 'range', 'time', 'hits', 'enemy.Akshan', 'passively', 'marks', 'enemy', 'champions', 'Scoundrels', 'kill', 'ally', 'champions', '.', 'If', 'Akshan', 'kills', 'Scoundrel', ',', 'resurrects', 'allies', 'killed', ',', 'gains', 'bonus', 'gold', ',', 'clears', 'marks.When', 'activated', ',', 'Akshan', 'enters', 'camouflage', 'gains', 'Move', 'Speed', 'Mana', 'Regen', 'moving', 'towards', 'Scoundrels', '.', 'Akshan', 'loses', 'camouflage', 'quickly', 'brush', 'near', 'terrain.Akshan', 'fires', 'grappling', 'hook', 'terrain', 'swings', 'around', ',', 'repeatedly', 'firing', 'nearest', 'enemy', 'swinging', '.', 'He', 'jump', 'early', 'gets', 'knocked', 'colliding', 'champions', 'terrain.Akshan', 'locks', 'onto', 'enemy', 'champion', 'starts', 'storing', 'bullets', '.', 'When', 'released', ',', 'fires', 'stored', 'bullets', ',', 'dealing', 'damage', 'based', 'missing', 'health', 'first', 'champion', ',', 'minion', ',', 'structure', 'hit', '.']\n",
            "['Alistar', 'is', 'very', 'disruptive', 'but', 'very', 'tough', '-', 'try', 'to', 'target', 'more', 'fragile', 'damage', 'dealers', '.', 'Watch', 'out', 'for', 'the', 'Pulverize-Headbutt', 'combo', 'when', 'around', 'turrets', '.', 'When', 'Alistar', 'uses', 'his', 'ultimate', ',', 'it', \"'s\", 'often', 'better', 'to', 'move', 'back', 'and', 'wait', 'until', 'the', 'effect', 'wears', 'off', 'before', 'attacking', 'him', '.', 'Using', 'Pulverize', 'can', 'allow', 'you', 'to', 'establish', 'better', 'positioning', 'for', 'Headbutt', '.', 'Movement', 'speed', 'is', 'very', 'important', 'on', 'Alistar', '.', 'Consider', 'which', 'boots', 'to', 'buy', 'carefully', '.', 'Using', 'Flash', 'can', 'allow', 'you', 'catch', 'your', 'target', 'off', 'guard', 'to', 'knock', 'them', 'back', 'into', 'your', 'allies', 'with', 'Pulverize', 'and', 'Headbutt.Alistar', 'smashes', 'the', 'ground', ',', 'dealing', 'damage', 'to', 'nearby', 'enemies', 'and', 'tossing', 'them', 'into', 'the', 'air.Alistar', 'rams', 'a', 'target', 'with', 'his', 'head', ',', 'dealing', 'damage', 'and', 'knocking', 'the', 'target', 'back.Alistar', 'tramples', 'nearby', 'enemy', 'units', ',', 'ignoring', 'unit', 'collision', 'and', 'gaining', 'stacks', 'if', 'he', 'damages', 'an', 'enemy', 'champion', '.', 'At', 'full', 'stacks', 'Alistar', \"'s\", 'next', 'basic', 'attack', 'against', 'an', 'enemy', 'champion', 'deals', 'additional', 'magic', 'damage', 'and', 'stuns', 'them.Alistar', 'lets', 'out', 'a', 'wild', 'roar', ',', 'removing', 'all', 'crowd', 'control', 'effects', 'on', 'himself', ',', 'and', 'reducing', 'incoming', 'physical', 'and', 'magical', 'damage', 'for', 'the', 'duration', '.'] \n",
            "\n",
            "['Alistar', 'disruptive', 'tough', '-', 'try', 'target', 'fragile', 'damage', 'dealers', '.', 'Watch', 'Pulverize-Headbutt', 'combo', 'around', 'turrets', '.', 'When', 'Alistar', 'uses', 'ultimate', ',', \"'s\", 'often', 'better', 'move', 'back', 'wait', 'effect', 'wears', 'attacking', '.', 'Using', 'Pulverize', 'allow', 'establish', 'better', 'positioning', 'Headbutt', '.', 'Movement', 'speed', 'important', 'Alistar', '.', 'Consider', 'boots', 'buy', 'carefully', '.', 'Using', 'Flash', 'allow', 'catch', 'target', 'guard', 'knock', 'back', 'allies', 'Pulverize', 'Headbutt.Alistar', 'smashes', 'ground', ',', 'dealing', 'damage', 'nearby', 'enemies', 'tossing', 'air.Alistar', 'rams', 'target', 'head', ',', 'dealing', 'damage', 'knocking', 'target', 'back.Alistar', 'tramples', 'nearby', 'enemy', 'units', ',', 'ignoring', 'unit', 'collision', 'gaining', 'stacks', 'damages', 'enemy', 'champion', '.', 'At', 'full', 'stacks', 'Alistar', \"'s\", 'next', 'basic', 'attack', 'enemy', 'champion', 'deals', 'additional', 'magic', 'damage', 'stuns', 'them.Alistar', 'lets', 'wild', 'roar', ',', 'removing', 'crowd', 'control', 'effects', ',', 'reducing', 'incoming', 'physical', 'magical', 'damage', 'duration', '.']\n",
            "['Avoid', 'bunching', 'up', 'with', 'other', 'allies', 'when', 'Amumu', 'has', 'his', 'ultimate', 'available', '.', 'Erratic', 'movement', ',', 'or', 'hiding', 'behind', 'creep', 'waves', 'can', 'make', 'it', 'difficult', 'for', 'Amumu', 'to', 'instigate', 'a', 'fight', 'with', 'Bandage', 'Toss', '.', 'Amumu', \"'s\", 'Despair', 'makes', 'purchasing', 'primarily', 'Health', 'items', 'a', 'risky', 'proposition', '.', 'Amumu', 'is', 'highly', 'dependent', 'on', 'teammates', ',', 'so', 'try', 'laning', 'with', 'your', 'friends', 'for', 'maximum', 'effectiveness', '.', 'Cooldown', 'Reduction', 'on', 'Amumu', 'is', 'very', 'strong', ',', 'but', 'it', \"'s\", 'often', 'difficult', 'to', 'itemize', 'for', 'it', '.', 'Grab', 'the', 'Golem', 'buff', 'whenever', 'possible', 'to', 'gain', 'Cooldown', 'Reduction', 'without', 'sacrificing', 'stats', '.', 'Despair', 'is', 'very', 'effective', 'against', 'other', 'tanks', ',', 'so', 'make', 'sure', 'you', \"'re\", 'in', 'range', 'of', 'opponents', 'with', 'the', 'highest', 'Health.Amumu', 'tosses', 'a', 'sticky', 'bandage', 'at', 'a', 'target', ',', 'stunning', 'and', 'damaging', 'the', 'target', 'while', 'he', 'pulls', 'himself', 'to', 'them.Overcome', 'by', 'anguish', ',', 'nearby', 'enemies', 'lose', 'a', 'percentage', 'of', 'their', 'maximum', 'Health', 'each', 'second', 'and', 'have', 'their', 'Curses', 'refreshed.Permanently', 'reduces', 'the', 'physical', 'damage', 'Amumu', 'would', 'take', '.', 'Amumu', 'can', 'unleash', 'his', 'rage', ',', 'dealing', 'damage', 'to', 'surrounding', 'enemies', '.', 'Each', 'time', 'Amumu', 'is', 'hit', ',', 'the', 'cooldown', 'on', 'Tantrum', 'is', 'reduced', 'by', '0.5', 'seconds.Amumu', 'entangles', 'surrounding', 'enemy', 'units', 'in', 'bandages', ',', 'applying', 'his', 'Curse', ',', 'damaging', 'and', 'stunning', 'them', '.'] \n",
            "\n",
            "['Avoid', 'bunching', 'allies', 'Amumu', 'ultimate', 'available', '.', 'Erratic', 'movement', ',', 'hiding', 'behind', 'creep', 'waves', 'make', 'difficult', 'Amumu', 'instigate', 'fight', 'Bandage', 'Toss', '.', 'Amumu', \"'s\", 'Despair', 'makes', 'purchasing', 'primarily', 'Health', 'items', 'risky', 'proposition', '.', 'Amumu', 'highly', 'dependent', 'teammates', ',', 'try', 'laning', 'friends', 'maximum', 'effectiveness', '.', 'Cooldown', 'Reduction', 'Amumu', 'strong', ',', \"'s\", 'often', 'difficult', 'itemize', '.', 'Grab', 'Golem', 'buff', 'whenever', 'possible', 'gain', 'Cooldown', 'Reduction', 'without', 'sacrificing', 'stats', '.', 'Despair', 'effective', 'tanks', ',', 'make', 'sure', \"'re\", 'range', 'opponents', 'highest', 'Health.Amumu', 'tosses', 'sticky', 'bandage', 'target', ',', 'stunning', 'damaging', 'target', 'pulls', 'them.Overcome', 'anguish', ',', 'nearby', 'enemies', 'lose', 'percentage', 'maximum', 'Health', 'second', 'Curses', 'refreshed.Permanently', 'reduces', 'physical', 'damage', 'Amumu', 'would', 'take', '.', 'Amumu', 'unleash', 'rage', ',', 'dealing', 'damage', 'surrounding', 'enemies', '.', 'Each', 'time', 'Amumu', 'hit', ',', 'cooldown', 'Tantrum', 'reduced', '0.5', 'seconds.Amumu', 'entangles', 'surrounding', 'enemy', 'units', 'bandages', ',', 'applying', 'Curse', ',', 'damaging', 'stunning', '.']\n",
            "['Try', 'to', 'gank', 'Anivia', 'when', 'she', \"'s\", 'laning', '.', 'With', 'multiple', 'people', ',', 'it', 'is', 'easier', 'to', 'ensure', 'that', 'her', 'egg', 'dies', '.', 'If', 'you', \"'re\", 'playing', 'a', 'ranged', 'champion', ',', 'stay', 'far', 'enough', 'away', 'from', 'Anivia', 'so', 'you', 'can', 'dodge', 'Flash', 'Frost', 'more', 'easily', '.', 'Try', 'to', 'fight', 'Anivia', 'in', 'the', 'lanes', '.', 'In', 'the', 'jungle', 'she', 'can', 'block', 'pathways', 'with', 'lower', 'ranks', 'of', 'Crystallize', '.', 'Timing', 'Flash', 'Frost', 'with', 'Frostbite', 'can', 'lead', 'to', 'devastating', 'combinations', '.', 'Anivia', 'is', 'extremely', 'reliant', 'on', 'Mana', 'for', 'Glacial', 'Storm', '.', 'Try', 'getting', 'items', 'with', 'Mana', 'or', 'going', 'for', 'a', 'Crest', 'of', 'the', 'Ancient', 'Golem', 'buff', 'on', 'Summoner', \"'s\", 'Rift', '.', 'It', 'can', 'be', 'very', 'difficult', 'for', 'enemy', 'champions', 'to', 'kill', 'her', 'egg', 'early', 'in', 'game', '.', 'Seize', 'the', 'advantage', 'by', 'playing', 'aggressively.Anivia', 'brings', 'her', 'wings', 'together', 'and', 'summons', 'a', 'sphere', 'of', 'ice', 'that', 'flies', 'towards', 'her', 'opponents', ',', 'chilling', 'and', 'damaging', 'anyone', 'in', 'its', 'path', '.', 'When', 'the', 'sphere', 'explodes', 'it', 'does', 'moderate', 'damage', 'in', 'a', 'radius', ',', 'stunning', 'anyone', 'in', 'the', 'area.Anivia', 'condenses', 'the', 'moisture', 'in', 'the', 'air', 'into', 'an', 'impassable', 'wall', 'of', 'ice', 'to', 'block', 'all', 'movement', '.', 'The', 'wall', 'only', 'lasts', 'a', 'short', 'duration', 'before', 'it', 'melts.With', 'a', 'flap', 'of', 'her', 'wings', ',', 'Anivia', 'blasts', 'a', 'freezing', 'gust', 'of', 'wind', 'at', 'her', 'target', ',', 'dealing', 'damage', '.', 'If', 'the', 'target', 'was', 'recently', 'hit', 'by', 'Flash', 'Frost', 'or', 'damaged', 'by', 'a', 'fully', 'formed', 'Glacial', 'Storm', ',', 'the', 'damage', 'they', 'take', 'is', 'doubled.Anivia', 'summons', 'a', 'driving', 'rain', 'of', 'ice', 'and', 'hail', 'to', 'damage', 'her', 'enemies', 'and', 'slow', 'their', 'advance', '.'] \n",
            "\n",
            "['Try', 'gank', 'Anivia', \"'s\", 'laning', '.', 'With', 'multiple', 'people', ',', 'easier', 'ensure', 'egg', 'dies', '.', 'If', \"'re\", 'playing', 'ranged', 'champion', ',', 'stay', 'far', 'enough', 'away', 'Anivia', 'dodge', 'Flash', 'Frost', 'easily', '.', 'Try', 'fight', 'Anivia', 'lanes', '.', 'In', 'jungle', 'block', 'pathways', 'lower', 'ranks', 'Crystallize', '.', 'Timing', 'Flash', 'Frost', 'Frostbite', 'lead', 'devastating', 'combinations', '.', 'Anivia', 'extremely', 'reliant', 'Mana', 'Glacial', 'Storm', '.', 'Try', 'getting', 'items', 'Mana', 'going', 'Crest', 'Ancient', 'Golem', 'buff', 'Summoner', \"'s\", 'Rift', '.', 'It', 'difficult', 'enemy', 'champions', 'kill', 'egg', 'early', 'game', '.', 'Seize', 'advantage', 'playing', 'aggressively.Anivia', 'brings', 'wings', 'together', 'summons', 'sphere', 'ice', 'flies', 'towards', 'opponents', ',', 'chilling', 'damaging', 'anyone', 'path', '.', 'When', 'sphere', 'explodes', 'moderate', 'damage', 'radius', ',', 'stunning', 'anyone', 'area.Anivia', 'condenses', 'moisture', 'air', 'impassable', 'wall', 'ice', 'block', 'movement', '.', 'The', 'wall', 'lasts', 'short', 'duration', 'melts.With', 'flap', 'wings', ',', 'Anivia', 'blasts', 'freezing', 'gust', 'wind', 'target', ',', 'dealing', 'damage', '.', 'If', 'target', 'recently', 'hit', 'Flash', 'Frost', 'damaged', 'fully', 'formed', 'Glacial', 'Storm', ',', 'damage', 'take', 'doubled.Anivia', 'summons', 'driving', 'rain', 'ice', 'hail', 'damage', 'enemies', 'slow', 'advance', '.']\n",
            "['Annie', \"'s\", 'summoned', 'bear', ',', 'Tibbers', ',', 'burns', 'opposing', 'units', 'around', 'himself', '.', 'Try', 'to', 'keep', 'your', 'distance', 'from', 'him', 'after', 'he', \"'s\", 'been', 'summoned', '.', 'Summoner', 'Smite', 'can', 'be', 'used', 'to', 'help', 'take', 'down', 'Tibbers', '.', 'Keep', 'an', 'eye', 'out', 'for', 'a', 'white', ',', 'swirling', 'power', 'around', 'Annie', '.', 'It', 'means', 'she', \"'s\", 'ready', 'to', 'unleash', 'her', 'stun', '.', 'Storing', 'a', 'stun', 'for', 'use', 'with', 'her', 'ultimate', 'can', 'turn', 'the', 'tide', 'of', 'a', 'team', 'fight', '.', 'Striking', 'killing', 'blows', 'on', 'minions', 'with', 'Disintegrate', 'enables', 'Annie', 'to', 'farm', 'extremely', 'well', 'early', 'in', 'the', 'game', '.', 'Molten', 'Shield', 'is', 'a', 'good', 'spell', 'to', 'cast', 'to', 'work', 'up', 'to', 'Annie', \"'s\", 'stun', ',', 'so', 'sometimes', 'it', \"'s\", 'beneficial', 'to', 'grab', 'at', 'least', '1', 'rank', 'in', 'it', 'early.Annie', 'hurls', 'a', 'Mana', 'infused', 'fireball', ',', 'dealing', 'damage', 'and', 'refunding', 'the', 'Mana', 'cost', 'if', 'it', 'destroys', 'the', 'target.Annie', 'casts', 'a', 'blazing', 'cone', 'of', 'fire', ',', 'dealing', 'damage', 'to', 'all', 'enemies', 'in', 'the', 'area.Grants', 'Annie', 'or', 'an', 'ally', 'a', 'shield', ',', 'a', 'burst', 'of', 'Movement', 'Speed', ',', 'and', 'damages', 'enemies', 'who', 'attack', 'her', 'with', 'basic', 'attacks.Annie', 'wills', 'her', 'bear', 'Tibbers', 'to', 'life', ',', 'dealing', 'damage', 'to', 'units', 'in', 'the', 'area', '.', 'Tibbers', 'can', 'attack', 'and', 'also', 'burns', 'enemies', 'that', 'stand', 'near', 'him', '.'] \n",
            "\n",
            "['Annie', \"'s\", 'summoned', 'bear', ',', 'Tibbers', ',', 'burns', 'opposing', 'units', 'around', '.', 'Try', 'keep', 'distance', \"'s\", 'summoned', '.', 'Summoner', 'Smite', 'used', 'help', 'take', 'Tibbers', '.', 'Keep', 'eye', 'white', ',', 'swirling', 'power', 'around', 'Annie', '.', 'It', 'means', \"'s\", 'ready', 'unleash', 'stun', '.', 'Storing', 'stun', 'use', 'ultimate', 'turn', 'tide', 'team', 'fight', '.', 'Striking', 'killing', 'blows', 'minions', 'Disintegrate', 'enables', 'Annie', 'farm', 'extremely', 'well', 'early', 'game', '.', 'Molten', 'Shield', 'good', 'spell', 'cast', 'work', 'Annie', \"'s\", 'stun', ',', 'sometimes', \"'s\", 'beneficial', 'grab', 'least', '1', 'rank', 'early.Annie', 'hurls', 'Mana', 'infused', 'fireball', ',', 'dealing', 'damage', 'refunding', 'Mana', 'cost', 'destroys', 'target.Annie', 'casts', 'blazing', 'cone', 'fire', ',', 'dealing', 'damage', 'enemies', 'area.Grants', 'Annie', 'ally', 'shield', ',', 'burst', 'Movement', 'Speed', ',', 'damages', 'enemies', 'attack', 'basic', 'attacks.Annie', 'wills', 'bear', 'Tibbers', 'life', ',', 'dealing', 'damage', 'units', 'area', '.', 'Tibbers', 'attack', 'also', 'burns', 'enemies', 'stand', 'near', '.']\n",
            "['Each', 'of', 'Aphelios', \"'\", 'weapons', 'have', 'different', 'weaknesses', ',', 'try', 'to', 'exploit', 'the', 'ones', 'that', 'work', 'best', 'for', 'your', 'champion', '.', 'Watch', 'out', 'for', 'the', 'purple', 'Gravity', 'gun', ',', 'it', 'can', 'root', 'you', '.', 'Each', 'of', 'Aphelios', \"'\", 'weapons', 'have', 'different', 'strengths', ',', 'so', 'try', 'to', 'find', 'the', 'right', 'situation', 'for', 'your', 'current', 'weapons', '.', 'Aphelios', 'has', '5', 'different', 'activated', 'abilities', ',', 'based', 'on', 'his', 'main-hand', 'weapon', ':', 'Calibrum', '(', 'Rifle', ')', ':', 'Long', 'range', 'shot', 'that', 'marks', 'its', 'target', 'for', 'a', 'long-range', 'follow-up', 'attack.Severum', '(', 'Scythe', 'Pistol', ')', ':', 'Run', 'fast', 'while', 'attacking', 'nearby', 'enemies', 'with', 'both', 'weapons.Gravitum', '(', 'Cannon', ')', ':', 'Root', 'all', 'enemies', 'slowed', 'by', 'this', 'weapon.Infernum', '(', 'Flamethrower', ')', ':', 'Blast', 'enemies', 'in', 'a', 'cone', 'and', 'attack', 'them', 'with', 'your', 'off-hand', 'weapon.Crescendum', '(', 'Chakram', ')', ':', 'Deploy', 'a', 'sentry', 'that', 'shoots', 'your', 'off-hand', 'weapon.Aphelios', 'swaps', 'his', 'main-hand', 'gun', 'with', 'his', 'off-hand', 'gun', ',', 'replacing', 'his', 'basic', 'attack', 'and', 'activated', 'ability.Aphelios', 'has', 'no', 'third', 'ability', '.', 'This', 'slot', 'shows', 'the', 'next', 'weapon', 'Alune', 'will', 'give', 'him', '.', 'Weapon', 'order', 'begins', 'fixed', 'but', 'may', 'change', 'over', 'game', 'time', '--', 'when', 'a', 'weapon', 'is', 'out', 'of', 'ammo', 'it', 'goes', 'to', 'the', 'end', 'of', 'the', 'order.Fire', 'a', 'concentrated', 'blast', 'of', 'moonlight', 'that', 'explodes', 'on', 'enemy', 'champions', '.', 'Applies', 'the', 'unique', 'effect', 'of', 'Aphelios', \"'\", 'main-hand', 'gun', '.'] \n",
            "\n",
            "['Each', 'Aphelios', \"'\", 'weapons', 'different', 'weaknesses', ',', 'try', 'exploit', 'ones', 'work', 'best', 'champion', '.', 'Watch', 'purple', 'Gravity', 'gun', ',', 'root', '.', 'Each', 'Aphelios', \"'\", 'weapons', 'different', 'strengths', ',', 'try', 'find', 'right', 'situation', 'current', 'weapons', '.', 'Aphelios', '5', 'different', 'activated', 'abilities', ',', 'based', 'main-hand', 'weapon', ':', 'Calibrum', '(', 'Rifle', ')', ':', 'Long', 'range', 'shot', 'marks', 'target', 'long-range', 'follow-up', 'attack.Severum', '(', 'Scythe', 'Pistol', ')', ':', 'Run', 'fast', 'attacking', 'nearby', 'enemies', 'weapons.Gravitum', '(', 'Cannon', ')', ':', 'Root', 'enemies', 'slowed', 'weapon.Infernum', '(', 'Flamethrower', ')', ':', 'Blast', 'enemies', 'cone', 'attack', 'off-hand', 'weapon.Crescendum', '(', 'Chakram', ')', ':', 'Deploy', 'sentry', 'shoots', 'off-hand', 'weapon.Aphelios', 'swaps', 'main-hand', 'gun', 'off-hand', 'gun', ',', 'replacing', 'basic', 'attack', 'activated', 'ability.Aphelios', 'third', 'ability', '.', 'This', 'slot', 'shows', 'next', 'weapon', 'Alune', 'give', '.', 'Weapon', 'order', 'begins', 'fixed', 'may', 'change', 'game', 'time', '--', 'weapon', 'ammo', 'goes', 'end', 'order.Fire', 'concentrated', 'blast', 'moonlight', 'explodes', 'enemy', 'champions', '.', 'Applies', 'unique', 'effect', 'Aphelios', \"'\", 'main-hand', 'gun', '.']\n",
            "['Ashe', 'has', 'very', 'few', 'defensive', 'options', ',', 'and', 'she', \"'s\", 'a', 'good', 'target', 'to', 'gank', '.', 'Be', 'wary', 'of', 'moving', 'around', 'the', 'map', 'alone', 'if', 'Ashe', 'has', 'not', 'recently', 'cast', 'her', 'Enchanted', 'Crystal', 'Arrow', '.', 'Try', 'to', 'fire', 'Enchanted', 'Crystal', 'Arrow', 'in', 'the', 'same', 'direction', 'enemies', 'are', 'moving', ',', 'so', 'it', 'is', 'more', 'likely', 'to', 'hit', '.', 'Volley', 'arrows', 'are', 'blocked', 'by', 'the', 'first', 'enemy', 'they', 'hit', ',', 'so', 'keep', 'your', 'distance', 'to', 'avoid', 'having', 'them', 'all', 'absorbed', 'by', 'enemy', 'frontliners', '.', 'Hawkshot', 'reveals', 'units', 'in', 'brush', '.', 'If', 'a', 'team', 'fight', 'is', 'occuring', 'in', 'the', 'jungle', 'it', 'can', 'give', 'you', 'a', 'significant', 'advantage.Ashe', 'builds', 'up', 'Focus', 'by', 'attacking', '.', 'At', 'maximum', 'Focus', ',', 'Ashe', 'can', 'cast', 'Ranger', \"'s\", 'Focus', 'to', 'consume', 'all', 'stacks', 'of', 'Focus', ',', 'temporarily', 'increasing', 'her', 'Attack', 'Speed', 'and', 'transforming', 'her', 'basic', 'attack', 'into', 'a', 'powerful', 'flurry', 'attack', 'for', 'the', 'duration.Ashe', 'fires', 'arrows', 'in', 'a', 'cone', 'for', 'increased', 'damage', '.', 'Also', 'applies', 'Frost', 'Shot.Ashe', 'sends', 'her', 'Hawk', 'Spirit', 'on', 'a', 'scouting', 'mission', 'anywhere', 'on', 'the', 'map.Ashe', 'fires', 'a', 'missile', 'of', 'ice', 'in', 'a', 'straight', 'line', '.', 'If', 'the', 'arrow', 'collides', 'with', 'an', 'enemy', 'Champion', ',', 'it', 'deals', 'damage', 'and', 'stuns', 'the', 'Champion', ',', 'stunning', 'for', 'longer', 'the', 'farther', 'arrow', 'has', 'traveled', '.', 'In', 'addition', ',', 'surrounding', 'enemy', 'units', 'take', 'damage', 'and', 'are', 'slowed', '.'] \n",
            "\n",
            "['Ashe', 'defensive', 'options', ',', \"'s\", 'good', 'target', 'gank', '.', 'Be', 'wary', 'moving', 'around', 'map', 'alone', 'Ashe', 'recently', 'cast', 'Enchanted', 'Crystal', 'Arrow', '.', 'Try', 'fire', 'Enchanted', 'Crystal', 'Arrow', 'direction', 'enemies', 'moving', ',', 'likely', 'hit', '.', 'Volley', 'arrows', 'blocked', 'first', 'enemy', 'hit', ',', 'keep', 'distance', 'avoid', 'absorbed', 'enemy', 'frontliners', '.', 'Hawkshot', 'reveals', 'units', 'brush', '.', 'If', 'team', 'fight', 'occuring', 'jungle', 'give', 'significant', 'advantage.Ashe', 'builds', 'Focus', 'attacking', '.', 'At', 'maximum', 'Focus', ',', 'Ashe', 'cast', 'Ranger', \"'s\", 'Focus', 'consume', 'stacks', 'Focus', ',', 'temporarily', 'increasing', 'Attack', 'Speed', 'transforming', 'basic', 'attack', 'powerful', 'flurry', 'attack', 'duration.Ashe', 'fires', 'arrows', 'cone', 'increased', 'damage', '.', 'Also', 'applies', 'Frost', 'Shot.Ashe', 'sends', 'Hawk', 'Spirit', 'scouting', 'mission', 'anywhere', 'map.Ashe', 'fires', 'missile', 'ice', 'straight', 'line', '.', 'If', 'arrow', 'collides', 'enemy', 'Champion', ',', 'deals', 'damage', 'stuns', 'Champion', ',', 'stunning', 'longer', 'farther', 'arrow', 'traveled', '.', 'In', 'addition', ',', 'surrounding', 'enemy', 'units', 'take', 'damage', 'slowed', '.']\n",
            "['Try', 'to', 'get', 'inside', 'his', 'orbit', ',', 'since', 'his', 'stars', 'ca', \"n't\", 'hurt', 'you', 'up', 'close', '.', 'His', 'stars', 'disappear', 'while', 'stunned', 'or', 'silenced', ',', 'giving', 'you', 'an', 'easy', 'opportunity', 'to', 'fight', 'him', '.', 'He', 'gains', 'speed', 'while', 'chasing', 'in', 'a', 'straight', 'line', ',', 'but', 'taking', 'damage', 'makes', 'him', 'lose', 'that', 'momentum', '.', 'His', 'Starsurge', 'ability', 'can', 'grow', 'to', 'cover', 'a', 'huge', 'area', '-', 'do', \"n't\", 'stay', 'in', 'the', 'same', 'place', 'too', 'long', '!', 'You', 'can', 'use', 'Comet', 'of', 'Legend', \"'s\", 'flight', 'to', 'grow', 'Starsurge', 'to', 'massive', 'proportions', '.', 'Save', 'Voice', 'of', 'Light', 'to', 'use', 'as', 'a', 'defense', 'against', 'melee', 'opponents', 'if', 'you', 'need', 'to', '-', 'otherwise', ',', 'use', 'its', 'slow', 'to', 'start', 'a', 'fight', 'at', 'long', 'range', '.', 'Comet', 'of', 'Legend', 'allows', 'you', 'to', 'move', 'quickly', 'around', 'the', 'map', ';', 'use', 'it', 'to', 'put', 'pressure', 'on', 'other', 'lanes.Aurelion', 'Sol', 'creates', 'an', 'expanding', 'disk', ',', 'which', 'explodes', 'to', 'stun', 'and', 'damage', 'enemies', 'when', 'it', 'moves', 'too', 'far', 'away', 'from', 'him.Aurelion', 'Sol', 'pushes', 'his', 'stars', 'farther', 'out', ',', 'increasing', 'their', 'damage', 'and', 'speed.Aurelion', 'Sol', 'takes', 'off', 'flying', 'for', 'a', 'long', 'distance.Aurelion', 'Sol', 'projects', 'a', 'blast', 'of', 'pure', 'starfire', ',', 'damaging', 'and', 'slowing', 'all', 'enemies', 'caught', 'in', 'it', 'and', 'knocking', 'nearby', 'enemies', 'back', 'to', 'a', 'safer', 'distance', '.'] \n",
            "\n",
            "['Try', 'get', 'inside', 'orbit', ',', 'since', 'stars', 'ca', \"n't\", 'hurt', 'close', '.', 'His', 'stars', 'disappear', 'stunned', 'silenced', ',', 'giving', 'easy', 'opportunity', 'fight', '.', 'He', 'gains', 'speed', 'chasing', 'straight', 'line', ',', 'taking', 'damage', 'makes', 'lose', 'momentum', '.', 'His', 'Starsurge', 'ability', 'grow', 'cover', 'huge', 'area', '-', \"n't\", 'stay', 'place', 'long', '!', 'You', 'use', 'Comet', 'Legend', \"'s\", 'flight', 'grow', 'Starsurge', 'massive', 'proportions', '.', 'Save', 'Voice', 'Light', 'use', 'defense', 'melee', 'opponents', 'need', '-', 'otherwise', ',', 'use', 'slow', 'start', 'fight', 'long', 'range', '.', 'Comet', 'Legend', 'allows', 'move', 'quickly', 'around', 'map', ';', 'use', 'put', 'pressure', 'lanes.Aurelion', 'Sol', 'creates', 'expanding', 'disk', ',', 'explodes', 'stun', 'damage', 'enemies', 'moves', 'far', 'away', 'him.Aurelion', 'Sol', 'pushes', 'stars', 'farther', ',', 'increasing', 'damage', 'speed.Aurelion', 'Sol', 'takes', 'flying', 'long', 'distance.Aurelion', 'Sol', 'projects', 'blast', 'pure', 'starfire', ',', 'damaging', 'slowing', 'enemies', 'caught', 'knocking', 'nearby', 'enemies', 'back', 'safer', 'distance', '.']\n",
            "['Azir', 'relies', 'on', 'his', 'soldiers', 'to', 'deal', 'damage', 'and', 'can', 'only', 'move', 'them', 'so', 'often', '.', 'Try', 'to', 'capitalize', 'on', 'windows', 'of', 'time', 'when', 'his', 'soldiers', 'are', 'stationary', '.', 'Azir', 'has', 'immense', 'damage', 'over', 'a', 'prolonged', 'amount', 'of', 'time', 'but', 'lacks', 'the', 'upfront', 'burst', 'of', 'other', 'mages', '.', 'Try', 'to', 'burst', 'him', 'out', 'before', 'he', 'can', 'turn', 'a', 'confrontation', 'around', '.', 'Try', 'to', 'think', 'of', 'Sand', 'Soldiers', 'as', 'fire', '.', 'Do', \"n't\", 'stand', 'in', 'the', 'fire', '.', 'Be', 'careful', 'about', 'putting', 'down', 'both', 'of', 'the', 'soldiers', 'stored', 'by', 'Arise', '!', 'Unless', 'you', \"'re\", 'going', 'all-in', ',', 'always', 'have', 'a', 'soldier', 'in', 'your', 'back', 'pocket', 'if', 'you', 'need', 'to', 'escape', 'over', 'a', 'wall', 'or', 'if', 'you', 'misposition', 'your', 'other', 'soldier', 'and', 'need', 'damage', 'now', '.', 'In', 'the', 'lane', ',', 'try', 'to', 'position', 'your', 'soldiers', 'between', 'the', 'enemy', \"'s\", 'minions', 'and', 'the', 'enemy', 'champion', '.', 'This', 'way', 'you', 'can', 'use', 'them', 'both', 'to', 'last', 'hit', 'and', 'to', 'project', 'threat', 'onto', 'your', 'lane', 'opponent', '.', 'Think', 'of', 'Emperor', \"'s\", 'Divide', 'as', 'a', 'defensive', 'ability', 'first', 'and', 'foremost', '.', 'Use', 'it', 'when', 'the', 'enemy', 'engages', 'on', 'you', 'or', 'your', 'allies', '.', 'Remember', 'that', 'your', 'team', 'can', 'walk', 'through', 'the', 'soldiers', 'summoned', 'by', 'Emperor', \"'s\", 'Divide', 'and', 'use', 'this', 'to', 'your', 'advantage', 'when', 'enemy', 'melee', 'champions', 'engage', 'on', 'you', '.', 'Be', 'a', 'bird', '!', 'Azir', 'sends', 'all', 'Sand', 'Soldiers', 'towards', 'a', 'location', '.', 'Sand', 'Soldiers', 'deal', 'magic', 'damage', 'to', 'enemies', 'they', 'pass', 'through', 'and', 'apply', 'a', 'slow', 'for', '1', 'second.Azir', 'summons', 'a', 'Sand', 'Soldier', 'to', 'attack', 'nearby', 'targets', 'for', 'him', ',', 'replacing', 'his', 'basic', 'attack', 'against', 'targets', 'within', 'the', 'soldier', \"'s\", 'range', '.', 'Their', 'attacks', 'deal', 'magic', 'damage', 'to', 'enemies', 'in', 'a', 'line', '.', 'Arise', '!', 'also', 'passively', 'grants', 'attack', 'speed', 'to', 'Azir', 'and', 'his', 'Sand', 'Soldiers.Azir', 'shields', 'himself', 'briefly', 'and', 'dashes', 'to', 'one', 'of', 'his', 'Sand', 'Soldiers', ',', 'damaging', 'enemies', '.', 'If', 'he', 'hits', 'an', 'enemy', 'champion', ',', 'he', 'instantly', 'readies', 'a', 'new', 'Sand', 'Soldier', 'for', 'deployment', 'and', 'halts', 'his', 'dash.Azir', 'summons', 'a', 'wall', 'of', 'soldiers', 'which', 'charge', 'forward', ',', 'knocking', 'back', 'and', 'damaging', 'enemies', '.'] \n",
            "\n",
            "['Azir', 'relies', 'soldiers', 'deal', 'damage', 'move', 'often', '.', 'Try', 'capitalize', 'windows', 'time', 'soldiers', 'stationary', '.', 'Azir', 'immense', 'damage', 'prolonged', 'amount', 'time', 'lacks', 'upfront', 'burst', 'mages', '.', 'Try', 'burst', 'turn', 'confrontation', 'around', '.', 'Try', 'think', 'Sand', 'Soldiers', 'fire', '.', 'Do', \"n't\", 'stand', 'fire', '.', 'Be', 'careful', 'putting', 'soldiers', 'stored', 'Arise', '!', 'Unless', \"'re\", 'going', 'all-in', ',', 'always', 'soldier', 'back', 'pocket', 'need', 'escape', 'wall', 'misposition', 'soldier', 'need', 'damage', '.', 'In', 'lane', ',', 'try', 'position', 'soldiers', 'enemy', \"'s\", 'minions', 'enemy', 'champion', '.', 'This', 'way', 'use', 'last', 'hit', 'project', 'threat', 'onto', 'lane', 'opponent', '.', 'Think', 'Emperor', \"'s\", 'Divide', 'defensive', 'ability', 'first', 'foremost', '.', 'Use', 'enemy', 'engages', 'allies', '.', 'Remember', 'team', 'walk', 'soldiers', 'summoned', 'Emperor', \"'s\", 'Divide', 'use', 'advantage', 'enemy', 'melee', 'champions', 'engage', '.', 'Be', 'bird', '!', 'Azir', 'sends', 'Sand', 'Soldiers', 'towards', 'location', '.', 'Sand', 'Soldiers', 'deal', 'magic', 'damage', 'enemies', 'pass', 'apply', 'slow', '1', 'second.Azir', 'summons', 'Sand', 'Soldier', 'attack', 'nearby', 'targets', ',', 'replacing', 'basic', 'attack', 'targets', 'within', 'soldier', \"'s\", 'range', '.', 'Their', 'attacks', 'deal', 'magic', 'damage', 'enemies', 'line', '.', 'Arise', '!', 'also', 'passively', 'grants', 'attack', 'speed', 'Azir', 'Sand', 'Soldiers.Azir', 'shields', 'briefly', 'dashes', 'one', 'Sand', 'Soldiers', ',', 'damaging', 'enemies', '.', 'If', 'hits', 'enemy', 'champion', ',', 'instantly', 'readies', 'new', 'Sand', 'Soldier', 'deployment', 'halts', 'dash.Azir', 'summons', 'wall', 'soldiers', 'charge', 'forward', ',', 'knocking', 'back', 'damaging', 'enemies', '.']\n",
            "['Bard', \"'s\", 'opponents', 'can', 'also', 'travel', 'through', 'his', 'Magical', 'Journey', 'doorways', '.', 'You', 'can', 'follow', 'him', ',', 'if', 'you', 'think', 'it', \"'s\", 'safe', '.', 'You', 'can', 'crush', 'Bard', \"'s\", 'healing', 'shrines', 'just', 'by', 'walking', 'over', 'them', '.', 'Do', \"n't\", 'let', 'his', 'allies', 'take', 'them', 'without', 'a', 'fight', '.', 'Bard', \"'s\", 'ultimate', ',', 'Tempered', 'Fate', ',', 'affects', 'allies', ',', 'enemies', ',', 'monsters', ',', 'and', 'turrets', 'alike', '.', 'Sometimes', 'it', 'can', 'be', 'to', 'your', 'advantage', 'to', 'jump', 'into', 'it', '!', 'It', \"'s\", 'important', 'to', 'collect', 'chimes', 'to', 'improve', 'your', 'meep', \"'s\", 'attacks', ',', 'but', 'do', \"n't\", 'neglect', 'your', 'lane', 'partner', '!', 'Try', 'to', 'make', 'a', 'big', 'entrance', 'by', 'bringing', 'an', 'ally', 'into', 'the', 'lane', 'with', 'you', 'with', 'Magical', 'Journey', '.', 'Let', 'your', 'Caretaker', \"'s\", 'Shrines', 'charge', 'up', '-', 'they', 'heal', 'for', 'a', 'lot', 'more', 'when', 'at', 'full', 'power', '.', 'Do', \"n't\", 'forget', 'that', 'enemies', 'can', 'also', 'use', 'your', 'Magical', 'Journey', 'doorways', ',', 'and', 'that', 'your', 'ultimate', 'can', 'also', 'hit', 'your', 'allies', '!', 'Bard', 'fires', 'a', 'missile', 'which', 'will', 'slow', 'the', 'first', 'enemy', 'struck', ',', 'and', 'continue', 'onward', '.', 'If', 'it', 'strikes', 'a', 'wall', ',', 'it', 'will', 'stun', 'the', 'initial', 'target', ';', 'if', 'it', 'strikes', 'another', 'enemy', ',', 'it', 'will', 'stun', 'them', 'both.Reveals', 'a', 'healing', 'shrine', 'which', 'powers', 'up', 'over', 'a', 'short', 'time', ',', 'disappearing', 'after', 'healing', 'and', 'speeding', 'up', 'the', 'first', 'ally', 'that', 'touches', 'it.Bard', 'opens', 'a', 'portal', 'in', 'nearby', 'terrain', '.', 'Allies', 'and', 'enemies', 'alike', 'can', 'take', 'a', 'one-way', 'trip', 'through', 'that', 'terrain', 'by', 'moving', 'into', 'the', 'portal.Bard', 'sends', 'spirit', 'energy', 'arcing', 'to', 'a', 'location', ',', 'putting', 'all', 'champions', ',', 'minions', ',', 'monsters', ',', 'and', 'turrets', 'hit', 'into', 'stasis', 'for', 'a', 'brief', 'time', '.'] \n",
            "\n",
            "['Bard', \"'s\", 'opponents', 'also', 'travel', 'Magical', 'Journey', 'doorways', '.', 'You', 'follow', ',', 'think', \"'s\", 'safe', '.', 'You', 'crush', 'Bard', \"'s\", 'healing', 'shrines', 'walking', '.', 'Do', \"n't\", 'let', 'allies', 'take', 'without', 'fight', '.', 'Bard', \"'s\", 'ultimate', ',', 'Tempered', 'Fate', ',', 'affects', 'allies', ',', 'enemies', ',', 'monsters', ',', 'turrets', 'alike', '.', 'Sometimes', 'advantage', 'jump', '!', 'It', \"'s\", 'important', 'collect', 'chimes', 'improve', 'meep', \"'s\", 'attacks', ',', \"n't\", 'neglect', 'lane', 'partner', '!', 'Try', 'make', 'big', 'entrance', 'bringing', 'ally', 'lane', 'Magical', 'Journey', '.', 'Let', 'Caretaker', \"'s\", 'Shrines', 'charge', '-', 'heal', 'lot', 'full', 'power', '.', 'Do', \"n't\", 'forget', 'enemies', 'also', 'use', 'Magical', 'Journey', 'doorways', ',', 'ultimate', 'also', 'hit', 'allies', '!', 'Bard', 'fires', 'missile', 'slow', 'first', 'enemy', 'struck', ',', 'continue', 'onward', '.', 'If', 'strikes', 'wall', ',', 'stun', 'initial', 'target', ';', 'strikes', 'another', 'enemy', ',', 'stun', 'both.Reveals', 'healing', 'shrine', 'powers', 'short', 'time', ',', 'disappearing', 'healing', 'speeding', 'first', 'ally', 'touches', 'it.Bard', 'opens', 'portal', 'nearby', 'terrain', '.', 'Allies', 'enemies', 'alike', 'take', 'one-way', 'trip', 'terrain', 'moving', 'portal.Bard', 'sends', 'spirit', 'energy', 'arcing', 'location', ',', 'putting', 'champions', ',', 'minions', ',', 'monsters', ',', 'turrets', 'hit', 'stasis', 'brief', 'time', '.']\n",
            "['Blitzcrank', \"'s\", 'passive', 'Mana', 'Barrier', 'grants', 'him', 'a', 'shield', 'when', 'he', 'is', 'low', 'on', 'health', '.', 'Staying', 'behind', 'creeps', 'can', 'prevent', 'you', 'from', 'being', 'Rocket', 'Grabbed', '.', 'Blitzcrank', \"'s\", 'Rocket', 'Grab', 'only', 'pulls', 'the', 'first', 'enemy', 'target', 'it', 'encounters', '.', 'The', '1-2-3', 'combo', 'of', 'Rocket', 'Grab', ',', 'Power', 'Fist', ',', 'and', 'Static', 'Field', 'can', 'devastate', 'an', 'individual', 'opponent', '.', 'Using', 'Blitzcrank', \"'s\", 'grab', 'to', 'pull', 'an', 'enemy', 'into', 'your', 'tower', 'range', 'followed', 'by', 'a', 'Power', 'Fist', 'will', 'allow', 'the', 'tower', 'to', 'get', 'several', 'hits', 'on', 'them.Blitzcrank', 'fires', 'his', 'right', 'hand', 'to', 'grab', 'an', 'opponent', 'on', 'its', 'path', ',', 'dealing', 'damage', 'and', 'dragging', 'it', 'back', 'to', 'him.Blitzcrank', 'super', 'charges', 'himself', 'to', 'get', 'dramatically', 'increased', 'Move', 'and', 'Attack', 'Speed', '.', 'He', 'is', 'temporarily', 'slowed', 'after', 'the', 'effect', 'ends.Blitzcrank', 'charges', 'up', 'his', 'fist', 'to', 'make', 'his', 'next', 'attack', 'deal', 'double', 'damage', 'and', 'pop', 'his', 'target', 'up', 'in', 'the', 'air.Enemies', 'attacked', 'by', 'Blitzcrank', 'are', 'marked', 'and', 'take', 'lightning', 'damage', 'after', '1', 'second', '.', 'Additionally', ',', 'Blitzcrank', 'can', 'activate', 'this', 'ability', 'to', 'remove', 'nearby', 'enemies', \"'\", 'shields', ',', 'damage', 'them', ',', 'and', 'silence', 'them', 'briefly', '.'] \n",
            "\n",
            "['Blitzcrank', \"'s\", 'passive', 'Mana', 'Barrier', 'grants', 'shield', 'low', 'health', '.', 'Staying', 'behind', 'creeps', 'prevent', 'Rocket', 'Grabbed', '.', 'Blitzcrank', \"'s\", 'Rocket', 'Grab', 'pulls', 'first', 'enemy', 'target', 'encounters', '.', 'The', '1-2-3', 'combo', 'Rocket', 'Grab', ',', 'Power', 'Fist', ',', 'Static', 'Field', 'devastate', 'individual', 'opponent', '.', 'Using', 'Blitzcrank', \"'s\", 'grab', 'pull', 'enemy', 'tower', 'range', 'followed', 'Power', 'Fist', 'allow', 'tower', 'get', 'several', 'hits', 'them.Blitzcrank', 'fires', 'right', 'hand', 'grab', 'opponent', 'path', ',', 'dealing', 'damage', 'dragging', 'back', 'him.Blitzcrank', 'super', 'charges', 'get', 'dramatically', 'increased', 'Move', 'Attack', 'Speed', '.', 'He', 'temporarily', 'slowed', 'effect', 'ends.Blitzcrank', 'charges', 'fist', 'make', 'next', 'attack', 'deal', 'double', 'damage', 'pop', 'target', 'air.Enemies', 'attacked', 'Blitzcrank', 'marked', 'take', 'lightning', 'damage', '1', 'second', '.', 'Additionally', ',', 'Blitzcrank', 'activate', 'ability', 'remove', 'nearby', 'enemies', \"'\", 'shields', ',', 'damage', ',', 'silence', 'briefly', '.']\n",
            "['Brand', 'must', 'land', 'an', 'ability', 'before', 'his', 'combo', 'is', 'able', 'to', 'get', 'started', '.', 'Dodging', 'his', 'Sear', 'or', 'Pillar', 'of', 'Flame', 'will', 'disrupt', 'his', 'rhythm', '.', 'Try', 'to', 'move', 'away', 'from', 'allies', 'when', 'you', 'see', 'Pyroclasm', 'being', 'cast', '.', 'The', 'initial', 'missile', 'speed', 'is', 'slow', ',', 'which', 'should', 'give', 'your', 'team', 'time', 'to', 'react', '.', 'Brand', \"'s\", 'passive', 'allows', 'him', 'to', 'excel', 'against', 'teams', 'that', 'cluster', 'together', '.', 'Be', 'sure', 'to', 'split', 'up', 'against', 'him', '.', 'You', 'can', 'deter', 'enemies', 'from', 'standing', 'near', 'their', 'minions', 'by', 'setting', 'them', 'ablaze', ',', 'due', 'to', 'Conflagration', '.', 'You', 'can', 'use', 'Brand', \"'s\", 'abilities', 'in', 'a', 'variety', 'of', 'combinations', 'to', 'maximize', 'his', 'damage', 'in', 'different', 'situations', '.', 'Pyroclasm', 'bounces', 'randomly', 'between', 'enemies', ',', 'so', 'try', 'to', 'cast', 'it', 'on', 'a', 'small', 'group', 'of', 'enemies', 'if', 'you', 'want', 'to', 'hit', 'the', 'same', 'target', 'multiple', 'times.Brand', 'launches', 'a', 'ball', 'of', 'fire', 'forward', 'that', 'deals', 'magic', 'damage', '.', 'If', 'the', 'target', 'is', 'ablaze', ',', 'Sear', 'will', 'stun', 'the', 'target', 'for', '1.5', 'seconds.After', 'a', 'short', 'delay', ',', 'Brand', 'creates', 'a', 'Pillar', 'of', 'Flame', 'at', 'a', 'target', 'area', ',', 'dealing', 'magic', 'damage', 'to', 'enemy', 'units', 'within', 'the', 'area', '.', 'Units', 'that', 'are', 'ablaze', 'take', 'an', 'additional', '25', '%', 'damage.Brand', 'conjures', 'a', 'powerful', 'blast', 'at', 'his', 'target', 'that', 'spreads', 'to', 'nearby', 'enemies', ',', 'dealing', 'magic', 'damage', '.', 'If', 'the', 'target', 'is', 'ablaze', ',', 'Conflagration', \"'s\", 'spread', 'is', 'doubled.Brand', 'unleashes', 'a', 'devastating', 'torrent', 'of', 'fire', 'that', 'bounces', 'up', 'to', '5', 'times', 'off', 'of', 'Brand', 'and', 'nearby', 'enemies', ',', 'dealing', 'magic', 'damage', 'to', 'enemies', 'each', 'time', 'bounce', '.', 'Bounces', 'prioritize', 'stacking', 'Blaze', 'to', 'max', 'on', 'Champions', '.', 'If', 'a', 'target', 'is', 'ablaze', ',', 'Pyroclasm', 'will', 'briefly', 'slow', 'them', '.'] \n",
            "\n",
            "['Brand', 'must', 'land', 'ability', 'combo', 'able', 'get', 'started', '.', 'Dodging', 'Sear', 'Pillar', 'Flame', 'disrupt', 'rhythm', '.', 'Try', 'move', 'away', 'allies', 'see', 'Pyroclasm', 'cast', '.', 'The', 'initial', 'missile', 'speed', 'slow', ',', 'give', 'team', 'time', 'react', '.', 'Brand', \"'s\", 'passive', 'allows', 'excel', 'teams', 'cluster', 'together', '.', 'Be', 'sure', 'split', '.', 'You', 'deter', 'enemies', 'standing', 'near', 'minions', 'setting', 'ablaze', ',', 'due', 'Conflagration', '.', 'You', 'use', 'Brand', \"'s\", 'abilities', 'variety', 'combinations', 'maximize', 'damage', 'different', 'situations', '.', 'Pyroclasm', 'bounces', 'randomly', 'enemies', ',', 'try', 'cast', 'small', 'group', 'enemies', 'want', 'hit', 'target', 'multiple', 'times.Brand', 'launches', 'ball', 'fire', 'forward', 'deals', 'magic', 'damage', '.', 'If', 'target', 'ablaze', ',', 'Sear', 'stun', 'target', '1.5', 'seconds.After', 'short', 'delay', ',', 'Brand', 'creates', 'Pillar', 'Flame', 'target', 'area', ',', 'dealing', 'magic', 'damage', 'enemy', 'units', 'within', 'area', '.', 'Units', 'ablaze', 'take', 'additional', '25', '%', 'damage.Brand', 'conjures', 'powerful', 'blast', 'target', 'spreads', 'nearby', 'enemies', ',', 'dealing', 'magic', 'damage', '.', 'If', 'target', 'ablaze', ',', 'Conflagration', \"'s\", 'spread', 'doubled.Brand', 'unleashes', 'devastating', 'torrent', 'fire', 'bounces', '5', 'times', 'Brand', 'nearby', 'enemies', ',', 'dealing', 'magic', 'damage', 'enemies', 'time', 'bounce', '.', 'Bounces', 'prioritize', 'stacking', 'Blaze', 'max', 'Champions', '.', 'If', 'target', 'ablaze', ',', 'Pyroclasm', 'briefly', 'slow', '.']\n",
            "['Braum', 'must', 'land', 'Winter', \"'s\", 'Bite', 'or', 'a', 'basic', 'attack', 'to', 'start', 'Concussive', 'Blows', '.', 'If', 'you', 'get', 'marked', ',', 'exit', 'combat', 'range', 'before', 'getting', 'hit', '3', 'more', 'times', 'to', 'avoid', 'the', 'stun', '.', 'Braum', \"'s\", 'ultimate', 'has', 'a', 'long', 'cast', 'time', ',', 'use', 'that', 'extra', 'time', 'to', 'dodge', '.', 'Walking', 'over', 'the', 'frozen', 'ground', 'left', 'behind', 'will', 'slow', 'you', ',', 'position', 'so', 'that', 'you', 'do', \"n't\", 'need', 'to', 'cross', 'it', '.', 'Unbreakable', 'gives', 'Braum', 'extremely', 'strong', 'directional', 'defense', ',', 'either', 'wait', 'until', 'it', 'is', 'down', 'or', 'outposition', 'the', 'ability', '.', 'Work', 'with', 'your', 'allies', 'to', 'stack', 'Concussive', 'Blows', ',', 'encourage', 'them', 'to', 'basic', 'attack', 'marked', 'targets', '.', 'Leap', 'in', 'front', 'of', 'squishy', 'friends', 'and', 'shield', 'them', 'from', 'projectiles', 'with', 'Unbreakable', '.', 'Glacial', 'Fissure', 'leaves', 'a', 'powerful', 'slow', 'zone', ',', 'position', 'it', 'well', 'to', 'split', 'teamfights', 'and', 'slow', 'the', 'enemy', 'approach.Braum', 'propels', 'freezing', 'ice', 'from', 'his', 'shield', ',', 'slowing', 'and', 'dealing', 'magic', 'damage.Applies', 'a', 'stack', 'of', 'Concussive', 'Blows.Braum', 'leaps', 'to', 'a', 'target', 'allied', 'champion', 'or', 'minion', '.', 'On', 'arrival', ',', 'Braum', 'and', 'the', 'ally', 'gain', 'Armor', 'and', 'Magic', 'Resist', 'for', 'a', 'few', 'seconds.Braum', 'raises', 'his', 'shield', 'in', 'a', 'direction', 'for', 'several', 'seconds', ',', 'intercepting', 'all', 'projectiles', 'causing', 'them', 'to', 'hit', 'him', 'and', 'be', 'destroyed', '.', 'He', 'negates', 'the', 'damage', 'of', 'the', 'first', 'attack', 'completely', 'and', 'reduces', 'the', 'damage', 'of', 'all', 'subsequent', 'attacks', 'from', 'this', 'direction.Braum', 'slams', 'the', 'ground', ',', 'knocking', 'up', 'enemies', 'nearby', 'and', 'in', 'a', 'line', 'in', 'front', 'of', 'him', '.', 'A', 'fissure', 'is', 'left', 'along', 'the', 'line', 'that', 'slows', 'enemies', '.'] \n",
            "\n",
            "['Braum', 'must', 'land', 'Winter', \"'s\", 'Bite', 'basic', 'attack', 'start', 'Concussive', 'Blows', '.', 'If', 'get', 'marked', ',', 'exit', 'combat', 'range', 'getting', 'hit', '3', 'times', 'avoid', 'stun', '.', 'Braum', \"'s\", 'ultimate', 'long', 'cast', 'time', ',', 'use', 'extra', 'time', 'dodge', '.', 'Walking', 'frozen', 'ground', 'left', 'behind', 'slow', ',', 'position', \"n't\", 'need', 'cross', '.', 'Unbreakable', 'gives', 'Braum', 'extremely', 'strong', 'directional', 'defense', ',', 'either', 'wait', 'outposition', 'ability', '.', 'Work', 'allies', 'stack', 'Concussive', 'Blows', ',', 'encourage', 'basic', 'attack', 'marked', 'targets', '.', 'Leap', 'front', 'squishy', 'friends', 'shield', 'projectiles', 'Unbreakable', '.', 'Glacial', 'Fissure', 'leaves', 'powerful', 'slow', 'zone', ',', 'position', 'well', 'split', 'teamfights', 'slow', 'enemy', 'approach.Braum', 'propels', 'freezing', 'ice', 'shield', ',', 'slowing', 'dealing', 'magic', 'damage.Applies', 'stack', 'Concussive', 'Blows.Braum', 'leaps', 'target', 'allied', 'champion', 'minion', '.', 'On', 'arrival', ',', 'Braum', 'ally', 'gain', 'Armor', 'Magic', 'Resist', 'seconds.Braum', 'raises', 'shield', 'direction', 'several', 'seconds', ',', 'intercepting', 'projectiles', 'causing', 'hit', 'destroyed', '.', 'He', 'negates', 'damage', 'first', 'attack', 'completely', 'reduces', 'damage', 'subsequent', 'attacks', 'direction.Braum', 'slams', 'ground', ',', 'knocking', 'enemies', 'nearby', 'line', 'front', '.', 'A', 'fissure', 'left', 'along', 'line', 'slows', 'enemies', '.']\n",
            "['Keep', 'behind', 'allied', 'minions', 'if', 'Caitlyn', 'is', 'harassing', 'you', 'with', 'Piltover', 'Peacemaker', '(', 'it', 'deals', 'less', 'damage', 'with', 'each', 'subsequent', 'target', ')', '.', 'You', 'can', 'intercept', 'Ace', 'in', 'the', 'Hole', \"'s\", 'missile', 'from', 'hitting', 'an', 'ally', 'if', 'you', 'stand', 'in', 'its', 'path', '.', 'Make', 'use', 'of', 'her', 'Yordle', 'Snap', 'Traps', 'by', 'placing', 'them', 'pre-emptively', 'to', 'ensure', 'that', 'you', \"'ll\", 'have', 'one', 'off', 'of', 'cooldown', 'during', 'combat', '.', 'Avoid', 'using', 'Ace', 'in', 'the', 'Hole', 'in', 'large', 'team', 'melees', 'as', 'it', 'might', 'be', 'blocked', 'by', 'the', 'wrong', 'target', '.', 'Fire', '90', 'Caliber', 'Net', 'away', 'from', 'the', 'opponent', 'to', 'close', 'the', 'gap', 'or', 'hop', 'over', 'walls.Caitlyn', 'revs', 'up', 'her', 'rifle', 'for', '1', 'second', 'to', 'unleash', 'a', 'penetrating', 'shot', 'that', 'deals', 'physical', 'damage', '(', 'deals', 'less', 'damage', 'to', 'subsequent', 'targets', ')', '.Caitlyn', 'sets', 'a', 'trap', 'to', 'find', 'sneaky', 'yordles', '.', 'When', 'sprung', ',', 'the', 'trap', 'reveals', 'and', 'immobilizes', 'the', 'enemy', 'champion', 'for', '1.5', 'seconds', ',', 'granting', 'Caitlyn', 'an', 'empowered', 'Headshot.Caitlyn', 'fires', 'a', 'heavy', 'net', 'to', 'slow', 'her', 'target', '.', 'The', 'recoil', 'knocks', 'Caitlyn', 'back.Caitlyn', 'takes', 'time', 'to', 'line', 'up', 'the', 'perfect', 'shot', ',', 'dealing', 'massive', 'damage', 'to', 'a', 'single', 'target', 'at', 'a', 'huge', 'range', '.', 'Enemy', 'champions', 'can', 'intercept', 'the', 'bullet', 'for', 'their', 'ally', '.'] \n",
            "\n",
            "['Keep', 'behind', 'allied', 'minions', 'Caitlyn', 'harassing', 'Piltover', 'Peacemaker', '(', 'deals', 'less', 'damage', 'subsequent', 'target', ')', '.', 'You', 'intercept', 'Ace', 'Hole', \"'s\", 'missile', 'hitting', 'ally', 'stand', 'path', '.', 'Make', 'use', 'Yordle', 'Snap', 'Traps', 'placing', 'pre-emptively', 'ensure', \"'ll\", 'one', 'cooldown', 'combat', '.', 'Avoid', 'using', 'Ace', 'Hole', 'large', 'team', 'melees', 'might', 'blocked', 'wrong', 'target', '.', 'Fire', '90', 'Caliber', 'Net', 'away', 'opponent', 'close', 'gap', 'hop', 'walls.Caitlyn', 'revs', 'rifle', '1', 'second', 'unleash', 'penetrating', 'shot', 'deals', 'physical', 'damage', '(', 'deals', 'less', 'damage', 'subsequent', 'targets', ')', '.Caitlyn', 'sets', 'trap', 'find', 'sneaky', 'yordles', '.', 'When', 'sprung', ',', 'trap', 'reveals', 'immobilizes', 'enemy', 'champion', '1.5', 'seconds', ',', 'granting', 'Caitlyn', 'empowered', 'Headshot.Caitlyn', 'fires', 'heavy', 'net', 'slow', 'target', '.', 'The', 'recoil', 'knocks', 'Caitlyn', 'back.Caitlyn', 'takes', 'time', 'line', 'perfect', 'shot', ',', 'dealing', 'massive', 'damage', 'single', 'target', 'huge', 'range', '.', 'Enemy', 'champions', 'intercept', 'bullet', 'ally', '.']\n",
            "['Camille', \"'s\", 'shield', 'only', 'works', 'against', 'one', 'damage', 'type', ',', 'so', 'hit', 'her', 'when', 'she', \"'s\", 'vulnerable', 'to', 'your', 'damage', '.', 'The', 'Hextech', 'Ultimatum', 'has', 'a', 'very', 'short', 'range', 'to', 'cast', ',', 'so', 'try', 'to', 'flash', 'away', 'from', 'her', 'before', 'she', 'gets', 'close', '.', 'Try', 'waiting', 'until', 'the', 'other', 'team', 'is', 'distracted', 'with', 'fighting', 'your', 'team', ',', 'and', 'use', 'Hookshot', 'to', 'pick', 'off', 'vulnerable', 'targets', '.', 'Use', 'the', 'CC', 'from', 'your', 'abilities', 'to', 'land', 'both', 'of', 'your', 'Precision', 'Protocol', 'attacks', 'on', 'enemies.Camille', \"'s\", 'next', 'attack', 'deals', 'bonus', 'damage', 'and', 'grants', 'bonus', 'movement', 'speed', '.', 'This', 'spell', 'can', 'be', 'recast', 'for', 'a', 'short', 'period', 'of', 'time', ',', 'doing', 'significantly', 'increased', 'bonus', 'damage', 'if', 'Camille', 'delays', 'a', 'period', 'of', 'time', 'between', 'the', 'two', 'attacks.Camille', 'blasts', 'in', 'a', 'cone', 'after', 'a', 'delay', ',', 'dealing', 'damage', '.', 'Enemies', 'in', 'the', 'outer', 'half', 'are', 'slowed', 'and', 'take', 'extra', 'damage', ',', 'while', 'also', 'healing', 'Camille.Camille', 'pulls', 'herself', 'to', 'a', 'wall', ',', 'leaping', 'off', 'and', 'knocking', 'up', 'enemy', 'champions', 'upon', 'landing.Camille', 'dashes', 'to', 'target', 'champion', ',', 'anchoring', 'them', 'to', 'the', 'area', '.', 'She', 'also', 'deals', 'bonus', 'magic', 'damage', 'to', 'the', 'target', 'with', 'her', 'basic', 'attacks', '.'] \n",
            "\n",
            "['Camille', \"'s\", 'shield', 'works', 'one', 'damage', 'type', ',', 'hit', \"'s\", 'vulnerable', 'damage', '.', 'The', 'Hextech', 'Ultimatum', 'short', 'range', 'cast', ',', 'try', 'flash', 'away', 'gets', 'close', '.', 'Try', 'waiting', 'team', 'distracted', 'fighting', 'team', ',', 'use', 'Hookshot', 'pick', 'vulnerable', 'targets', '.', 'Use', 'CC', 'abilities', 'land', 'Precision', 'Protocol', 'attacks', 'enemies.Camille', \"'s\", 'next', 'attack', 'deals', 'bonus', 'damage', 'grants', 'bonus', 'movement', 'speed', '.', 'This', 'spell', 'recast', 'short', 'period', 'time', ',', 'significantly', 'increased', 'bonus', 'damage', 'Camille', 'delays', 'period', 'time', 'two', 'attacks.Camille', 'blasts', 'cone', 'delay', ',', 'dealing', 'damage', '.', 'Enemies', 'outer', 'half', 'slowed', 'take', 'extra', 'damage', ',', 'also', 'healing', 'Camille.Camille', 'pulls', 'wall', ',', 'leaping', 'knocking', 'enemy', 'champions', 'upon', 'landing.Camille', 'dashes', 'target', 'champion', ',', 'anchoring', 'area', '.', 'She', 'also', 'deals', 'bonus', 'magic', 'damage', 'target', 'basic', 'attacks', '.']\n",
            "['Be', 'wary', 'of', 'Cassiopeia', \"'s\", 'damage', 'potential', 'with', 'Twin', 'Fang', 'when', 'she', 'has', 'you', 'poisoned', '.', 'Turn', 'away', 'from', 'Cassiopeia', 'when', 'she', 'is', 'casting', 'Petrifying', 'Gaze', 'to', 'get', 'slowed', 'instead', 'of', 'stunned', '.', 'Use', 'Twin', 'Fang', 'on', 'poisoned', 'stationary', 'targets', 'like', 'monsters', 'and', 'units', 'stunned', 'by', 'her', 'Petrifying', 'Gaze', 'for', 'maximum', 'damage', '.', 'Lead', 'your', 'enemy', 'when', 'targeting', 'with', 'Noxious', 'Blast', 'to', 'ensure', 'the', 'hit.Cassiopeia', 'blasts', 'an', 'area', 'with', 'Poison', 'after', 'a', 'brief', 'delay', ',', 'granting', 'her', 'increased', 'Move', 'Speed', 'if', 'she', 'hits', 'an', 'enemy', 'champion.Cassiopeia', 'releases', 'several', 'clouds', 'of', 'poison', ',', 'slowing', ',', 'grounding', ',', 'and', 'lightly', 'damaging', 'enemies', 'that', 'pass', 'through', 'them', '.', 'Grounded', 'enemies', 'can', 'not', 'use', 'Movement', 'abilities.Cassiopeia', 'lets', 'loose', 'an', 'attack', 'that', 'deals', 'increased', 'damage', 'to', 'Poisoned', 'targets', 'and', 'heals', 'her', 'for', 'a', 'percentage', 'of', 'the', 'damage', 'dealt', '.', 'If', 'the', 'target', 'dies', 'from', 'this', 'attack', ',', 'Cassiopeia', 'regains', 'Mana.Cassiopeia', 'releases', 'a', 'swirl', 'of', 'magical', 'energy', 'from', 'her', 'eyes', ',', 'stunning', 'any', 'enemies', 'in', 'front', 'of', 'her', 'that', 'are', 'facing', 'her', 'and', 'slowing', 'any', 'others', 'with', 'their', 'back', 'turned', '.'] \n",
            "\n",
            "['Be', 'wary', 'Cassiopeia', \"'s\", 'damage', 'potential', 'Twin', 'Fang', 'poisoned', '.', 'Turn', 'away', 'Cassiopeia', 'casting', 'Petrifying', 'Gaze', 'get', 'slowed', 'instead', 'stunned', '.', 'Use', 'Twin', 'Fang', 'poisoned', 'stationary', 'targets', 'like', 'monsters', 'units', 'stunned', 'Petrifying', 'Gaze', 'maximum', 'damage', '.', 'Lead', 'enemy', 'targeting', 'Noxious', 'Blast', 'ensure', 'hit.Cassiopeia', 'blasts', 'area', 'Poison', 'brief', 'delay', ',', 'granting', 'increased', 'Move', 'Speed', 'hits', 'enemy', 'champion.Cassiopeia', 'releases', 'several', 'clouds', 'poison', ',', 'slowing', ',', 'grounding', ',', 'lightly', 'damaging', 'enemies', 'pass', '.', 'Grounded', 'enemies', 'use', 'Movement', 'abilities.Cassiopeia', 'lets', 'loose', 'attack', 'deals', 'increased', 'damage', 'Poisoned', 'targets', 'heals', 'percentage', 'damage', 'dealt', '.', 'If', 'target', 'dies', 'attack', ',', 'Cassiopeia', 'regains', 'Mana.Cassiopeia', 'releases', 'swirl', 'magical', 'energy', 'eyes', ',', 'stunning', 'enemies', 'front', 'facing', 'slowing', 'others', 'back', 'turned', '.']\n",
            "['Purchasing', 'a', 'few', 'HP', 'items', 'decreases', 'the', 'chances', 'of', \"Cho'Gath\", 'killing', 'you', 'quickly', '.', 'Focus', 'on', 'preventing', \"Cho'Gath\", 'from', 'reaching', 'his', 'max', 'size', '.', 'Rupture', 'has', 'a', 'smoke', 'cloud', 'indicating', 'the', 'area', 'it', 'will', 'strike', '.', 'Try', 'to', 'watch', 'out', 'for', 'it', 'to', 'prevent', \"Cho'Gath\", 'from', 'being', 'able', 'to', 'combo', 'his', 'abilities', '.', 'Try', 'to', 'line', 'up', 'your', 'attacks', 'with', 'Vorpal', 'Spikes', 'so', 'that', 'they', 'kill', 'minions', 'and', 'harass', 'enemy', 'champions', 'at', 'the', 'same', 'time', '.', 'If', 'you', \"'re\", 'having', 'difficulty', 'feasting', 'upon', 'champions', ',', 'try', 'eating', 'minions', 'until', 'you', \"'re\", 'larger', '.', 'Using', 'Rupture', 'on', 'creeps', 'in', 'combination', 'with', 'Carnivore', 'is', 'a', 'good', 'way', 'to', 'gain', 'Health', 'and', 'Mana.Ruptures', 'the', 'ground', 'at', 'target', 'location', ',', 'popping', 'enemy', 'units', 'into', 'the', 'air', ',', 'dealing', 'damage', 'and', 'slowing', \"them.Cho'Gath\", 'unleashes', 'a', 'terrible', 'scream', 'at', 'enemies', 'in', 'a', 'cone', ',', 'dealing', 'magic', 'damage', 'and', 'Silencing', 'enemies', 'for', 'a', 'few', \"seconds.Cho'Gath\", \"'s\", 'attacks', 'release', 'deadly', 'spikes', ',', 'dealing', 'damage', 'and', 'slowing', 'all', 'enemy', 'units', 'in', 'front', 'of', 'him.Devours', 'an', 'enemy', 'unit', ',', 'dealing', 'a', 'high', 'amount', 'of', 'true', 'damage', '.', 'If', 'the', 'target', 'is', 'killed', ',', \"Cho'Gath\", 'grows', ',', 'gaining', 'maximum', 'Health', '.'] \n",
            "\n",
            "['Purchasing', 'HP', 'items', 'decreases', 'chances', \"Cho'Gath\", 'killing', 'quickly', '.', 'Focus', 'preventing', \"Cho'Gath\", 'reaching', 'max', 'size', '.', 'Rupture', 'smoke', 'cloud', 'indicating', 'area', 'strike', '.', 'Try', 'watch', 'prevent', \"Cho'Gath\", 'able', 'combo', 'abilities', '.', 'Try', 'line', 'attacks', 'Vorpal', 'Spikes', 'kill', 'minions', 'harass', 'enemy', 'champions', 'time', '.', 'If', \"'re\", 'difficulty', 'feasting', 'upon', 'champions', ',', 'try', 'eating', 'minions', \"'re\", 'larger', '.', 'Using', 'Rupture', 'creeps', 'combination', 'Carnivore', 'good', 'way', 'gain', 'Health', 'Mana.Ruptures', 'ground', 'target', 'location', ',', 'popping', 'enemy', 'units', 'air', ',', 'dealing', 'damage', 'slowing', \"them.Cho'Gath\", 'unleashes', 'terrible', 'scream', 'enemies', 'cone', ',', 'dealing', 'magic', 'damage', 'Silencing', 'enemies', \"seconds.Cho'Gath\", \"'s\", 'attacks', 'release', 'deadly', 'spikes', ',', 'dealing', 'damage', 'slowing', 'enemy', 'units', 'front', 'him.Devours', 'enemy', 'unit', ',', 'dealing', 'high', 'amount', 'true', 'damage', '.', 'If', 'target', 'killed', ',', \"Cho'Gath\", 'grows', ',', 'gaining', 'maximum', 'Health', '.']\n",
            "['Watch', 'out', 'for', 'Corki', \"'s\", 'Missile', 'Barrage', '.', 'They', 'deal', 'splash', 'damage', ',', 'so', 'you', 'can', 'get', 'hit', 'even', 'when', 'hiding', 'behind', 'minions', '.', 'Corki', 'is', 'vulnerable', 'after', 'he', 'uses', 'his', 'Valkyrie', 'or', 'Special', 'Delivery', ',', 'so', 'try', 'switching', 'focus', 'to', 'him', 'if', 'he', 'uses', 'them', 'to', 'enter', 'a', 'fight', '.', 'Phosphorus', 'Bomb', 'can', 'be', 'used', 'to', 'reveal', 'enemy', 'units', 'that', 'might', 'be', 'hiding', 'in', 'a', 'nearby', 'patch', 'of', 'brush', '.', 'Valkyrie', 'can', 'be', 'used', 'defensively', 'as', 'well', ',', 'so', 'try', 'using', 'it', 'for', 'a', 'quick', 'escape', '.', 'Corki', 'can', 'continue', 'to', 'attack', 'while', 'using', 'Gatling', 'Gun', '.', 'Maximizing', 'Gatling', 'Gun', 'is', 'key', 'to', 'mastering', 'Corki.Corki', 'fires', 'a', 'flash', 'bomb', 'at', 'a', 'target', 'location', ',', 'dealing', 'magic', 'damage', 'to', 'enemies', 'in', 'the', 'area', '.', 'This', 'attack', 'additionally', 'reveals', 'units', 'in', 'the', 'area', 'for', 'a', 'duration.Corki', 'flies', 'a', 'short', 'distance', ',', 'dropping', 'bombs', 'that', 'create', 'a', 'trail', 'of', 'fire', 'that', 'damages', 'opponents', 'who', 'remain', 'in', 'it.Corki', \"'s\", 'gatling', 'gun', 'rapidly', 'fires', 'in', 'a', 'cone', 'in', 'front', 'of', 'him', ',', 'dealing', 'damage', 'and', 'reducing', 'enemy', 'Armor', 'and', 'Magic', 'Resist.Corki', 'fires', 'a', 'missile', 'toward', 'his', 'target', 'location', 'that', 'explodes', 'on', 'impact', ',', 'dealing', 'damage', 'to', 'enemies', 'in', 'an', 'area', '.', 'Corki', 'stores', 'missiles', 'over', 'time', ',', 'up', 'to', 'a', 'maximum', '.', 'Every', '3rd', 'missile', 'fired', 'will', 'be', 'a', 'Big', 'One', ',', 'dealing', 'extra', 'damage', '.'] \n",
            "\n",
            "['Watch', 'Corki', \"'s\", 'Missile', 'Barrage', '.', 'They', 'deal', 'splash', 'damage', ',', 'get', 'hit', 'even', 'hiding', 'behind', 'minions', '.', 'Corki', 'vulnerable', 'uses', 'Valkyrie', 'Special', 'Delivery', ',', 'try', 'switching', 'focus', 'uses', 'enter', 'fight', '.', 'Phosphorus', 'Bomb', 'used', 'reveal', 'enemy', 'units', 'might', 'hiding', 'nearby', 'patch', 'brush', '.', 'Valkyrie', 'used', 'defensively', 'well', ',', 'try', 'using', 'quick', 'escape', '.', 'Corki', 'continue', 'attack', 'using', 'Gatling', 'Gun', '.', 'Maximizing', 'Gatling', 'Gun', 'key', 'mastering', 'Corki.Corki', 'fires', 'flash', 'bomb', 'target', 'location', ',', 'dealing', 'magic', 'damage', 'enemies', 'area', '.', 'This', 'attack', 'additionally', 'reveals', 'units', 'area', 'duration.Corki', 'flies', 'short', 'distance', ',', 'dropping', 'bombs', 'create', 'trail', 'fire', 'damages', 'opponents', 'remain', 'it.Corki', \"'s\", 'gatling', 'gun', 'rapidly', 'fires', 'cone', 'front', ',', 'dealing', 'damage', 'reducing', 'enemy', 'Armor', 'Magic', 'Resist.Corki', 'fires', 'missile', 'toward', 'target', 'location', 'explodes', 'impact', ',', 'dealing', 'damage', 'enemies', 'area', '.', 'Corki', 'stores', 'missiles', 'time', ',', 'maximum', '.', 'Every', '3rd', 'missile', 'fired', 'Big', 'One', ',', 'dealing', 'extra', 'damage', '.']\n",
            "['When', 'Darius', \"'s\", 'axe', 'grab', 'is', 'on', 'cooldown', ',', 'he', 'is', 'vulnerable', 'to', 'harassment', 'attacks', '.', 'Darius', \"'s\", 'ability', 'to', 'escape', 'from', 'fights', 'is', 'limited', '.', 'If', 'you', 'have', 'an', 'advantage', 'against', 'him', ',', 'press', 'your', 'lead', '.', 'Decimate', 'is', 'a', 'powerful', 'harassment', 'ability', '.', 'Strike', 'an', 'enemy', 'from', 'maximum', 'range', 'for', 'the', 'greatest', 'effect', '.', 'Noxian', 'Guillotine', 'does', 'more', 'damage', 'the', 'more', 'attacks', 'you', 'can', 'land', 'prior', 'to', 'it', '.', 'Use', 'Noxian', 'Might', 'to', 'deal', 'maximum', 'damage', '.', 'Darius', 'benefits', 'greatly', 'from', 'enhanced', 'survivability', '.', 'The', 'longer', 'you', 'can', 'prolong', 'a', 'fight', ',', 'the', 'more', 'powerful', 'he', 'becomes.Darius', 'winds', 'up', 'and', 'swings', 'his', 'axe', 'in', 'a', 'wide', 'circle', '.', 'Enemies', 'struck', 'by', 'the', 'blade', 'take', 'more', 'damage', 'than', 'those', 'struck', 'by', 'the', 'handle', '.', 'Darius', 'heals', 'based', 'on', 'enemy', 'champions', 'and', 'large', 'monsters', 'hit', 'by', 'the', 'blade.Darius', \"'s\", 'next', 'attack', 'strikes', 'an', 'enemy', \"'s\", 'crucial', 'artery', '.', 'As', 'they', 'bleed', 'out', ',', 'their', 'Move', 'Speed', 'is', 'slowed.Darius', 'hones', 'his', 'axe', ',', 'passively', 'causing', 'his', 'physical', 'damage', 'to', 'ignore', 'a', 'percentage', 'of', 'his', 'target', \"'s\", 'Armor', '.', 'When', 'activated', ',', 'Darius', 'sweeps', 'up', 'his', 'enemies', 'with', 'his', 'axe', \"'s\", 'hook', 'and', 'pulls', 'them', 'to', 'him.Darius', 'leaps', 'to', 'an', 'enemy', 'champion', 'and', 'strikes', 'a', 'lethal', 'blow', ',', 'dealing', 'true', 'damage', '.', 'This', 'damage', 'is', 'increased', 'for', 'each', 'stack', 'of', 'Hemorrhage', 'on', 'the', 'target', '.', 'If', 'Noxian', 'Guillotine', 'is', 'a', 'killing', 'blow', ',', 'its', 'cooldown', 'is', 'refreshed', 'for', 'a', 'brief', 'duration', '.'] \n",
            "\n",
            "['When', 'Darius', \"'s\", 'axe', 'grab', 'cooldown', ',', 'vulnerable', 'harassment', 'attacks', '.', 'Darius', \"'s\", 'ability', 'escape', 'fights', 'limited', '.', 'If', 'advantage', ',', 'press', 'lead', '.', 'Decimate', 'powerful', 'harassment', 'ability', '.', 'Strike', 'enemy', 'maximum', 'range', 'greatest', 'effect', '.', 'Noxian', 'Guillotine', 'damage', 'attacks', 'land', 'prior', '.', 'Use', 'Noxian', 'Might', 'deal', 'maximum', 'damage', '.', 'Darius', 'benefits', 'greatly', 'enhanced', 'survivability', '.', 'The', 'longer', 'prolong', 'fight', ',', 'powerful', 'becomes.Darius', 'winds', 'swings', 'axe', 'wide', 'circle', '.', 'Enemies', 'struck', 'blade', 'take', 'damage', 'struck', 'handle', '.', 'Darius', 'heals', 'based', 'enemy', 'champions', 'large', 'monsters', 'hit', 'blade.Darius', \"'s\", 'next', 'attack', 'strikes', 'enemy', \"'s\", 'crucial', 'artery', '.', 'As', 'bleed', ',', 'Move', 'Speed', 'slowed.Darius', 'hones', 'axe', ',', 'passively', 'causing', 'physical', 'damage', 'ignore', 'percentage', 'target', \"'s\", 'Armor', '.', 'When', 'activated', ',', 'Darius', 'sweeps', 'enemies', 'axe', \"'s\", 'hook', 'pulls', 'him.Darius', 'leaps', 'enemy', 'champion', 'strikes', 'lethal', 'blow', ',', 'dealing', 'true', 'damage', '.', 'This', 'damage', 'increased', 'stack', 'Hemorrhage', 'target', '.', 'If', 'Noxian', 'Guillotine', 'killing', 'blow', ',', 'cooldown', 'refreshed', 'brief', 'duration', '.']\n",
            "['Dodge', 'Crescent', 'Strike', ',', 'or', 'move', 'to', 'safety', 'if', 'you', 'are', 'affected', 'by', 'Moonlight', '.', 'Pale', 'Cascade', 'orbs', 'only', 'last', 'a', 'few', 'seconds', '.', 'Avoid', 'Diana', 'and', 'engage', 'her', 'after', 'the', 'shield', 'dissipates', '.', 'Diana', 'can', 'play', 'very', 'aggressively', 'if', 'she', 'uses', 'Lunar', 'Rush', 'without', 'Moonlight', ',', 'but', 'you', 'can', 'punish', 'her', 'by', 'slowing', 'or', 'stunning', 'her', 'when', 'she', 'has', 'no', 'way', 'to', 'get', 'back', 'into', 'position', '.', 'Landing', 'Crescent', 'Strike', 'is', 'critically', 'important', ',', 'but', 'do', \"n't\", 'be', 'afraid', 'to', 'miss', '.', 'The', 'cooldown', 'is', 'short', 'and', 'the', 'mana', 'cost', 'is', 'low', '.', 'Consider', 'when', 'to', 'cast', 'Lunar', 'Rush', 'without', 'Moonlight', 'and', 'when', 'to', 'wait', 'for', 'another', 'Crescent', 'Strike', '.', 'Use', 'Moonfall', 'and', 'Lunar', 'Rush', 'to', 'stay', 'on', 'targets', 'and', 'activate', 'Moonsilver', 'Blade', 'for', 'extra', 'damage.Unleashes', 'a', 'bolt', 'of', 'lunar', 'energy', 'in', 'an', 'arc', 'dealing', 'magic', 'damage.Afflicts', 'enemies', 'struck', 'with', 'Moonlight', ',', 'revealing', 'them', 'if', 'they', 'are', 'not', 'stealthed', 'for', '3', 'seconds.Diana', 'creates', 'three', 'orbiting', 'spheres', 'that', 'detonate', 'on', 'contact', 'with', 'enemies', 'to', 'deal', 'damage', 'in', 'an', 'area', '.', 'She', 'also', 'gains', 'a', 'temporary', 'shield', 'that', 'absorbs', 'damage', '.', 'If', 'her', 'third', 'sphere', 'detonates', ',', 'the', 'shield', 'gains', 'additional', 'strength.Becomes', 'the', 'living', 'embodiment', 'of', 'the', 'vengeful', 'moon', ',', 'dashing', 'to', 'an', 'enemy', 'and', 'dealing', 'magic', 'damage.Lunar', 'Rush', 'has', 'no', 'cooldown', 'when', 'used', 'to', 'dash', 'to', 'an', 'enemy', 'afflicted', 'with', 'Moonlight', '.', 'All', 'other', 'enemies', 'will', 'have', 'the', 'Moonlight', 'debuff', 'removed', 'regardless', 'of', 'whether', 'they', 'were', 'the', 'target', 'of', 'Lunar', 'Rush.Diana', 'reveals', 'and', 'draws', 'in', 'all', 'nearby', 'enemies', 'and', 'slows', 'them.If', 'Diana', 'pulls', 'in', 'one', 'or', 'more', 'enemy', 'champions', ',', 'the', 'moonlight', 'crashes', 'down', 'onto', 'her', 'after', 'a', 'short', 'delay', ',', 'dealing', 'magic', 'damage', 'in', 'an', 'area', 'around', 'her', ',', 'increased', 'for', 'each', 'target', 'beyond', 'the', 'first', 'pulled', '.'] \n",
            "\n",
            "['Dodge', 'Crescent', 'Strike', ',', 'move', 'safety', 'affected', 'Moonlight', '.', 'Pale', 'Cascade', 'orbs', 'last', 'seconds', '.', 'Avoid', 'Diana', 'engage', 'shield', 'dissipates', '.', 'Diana', 'play', 'aggressively', 'uses', 'Lunar', 'Rush', 'without', 'Moonlight', ',', 'punish', 'slowing', 'stunning', 'way', 'get', 'back', 'position', '.', 'Landing', 'Crescent', 'Strike', 'critically', 'important', ',', \"n't\", 'afraid', 'miss', '.', 'The', 'cooldown', 'short', 'mana', 'cost', 'low', '.', 'Consider', 'cast', 'Lunar', 'Rush', 'without', 'Moonlight', 'wait', 'another', 'Crescent', 'Strike', '.', 'Use', 'Moonfall', 'Lunar', 'Rush', 'stay', 'targets', 'activate', 'Moonsilver', 'Blade', 'extra', 'damage.Unleashes', 'bolt', 'lunar', 'energy', 'arc', 'dealing', 'magic', 'damage.Afflicts', 'enemies', 'struck', 'Moonlight', ',', 'revealing', 'stealthed', '3', 'seconds.Diana', 'creates', 'three', 'orbiting', 'spheres', 'detonate', 'contact', 'enemies', 'deal', 'damage', 'area', '.', 'She', 'also', 'gains', 'temporary', 'shield', 'absorbs', 'damage', '.', 'If', 'third', 'sphere', 'detonates', ',', 'shield', 'gains', 'additional', 'strength.Becomes', 'living', 'embodiment', 'vengeful', 'moon', ',', 'dashing', 'enemy', 'dealing', 'magic', 'damage.Lunar', 'Rush', 'cooldown', 'used', 'dash', 'enemy', 'afflicted', 'Moonlight', '.', 'All', 'enemies', 'Moonlight', 'debuff', 'removed', 'regardless', 'whether', 'target', 'Lunar', 'Rush.Diana', 'reveals', 'draws', 'nearby', 'enemies', 'slows', 'them.If', 'Diana', 'pulls', 'one', 'enemy', 'champions', ',', 'moonlight', 'crashes', 'onto', 'short', 'delay', ',', 'dealing', 'magic', 'damage', 'area', 'around', ',', 'increased', 'target', 'beyond', 'first', 'pulled', '.']\n",
            "['Launch', 'skillshots', 'toward', 'the', 'landing', 'position', 'of', 'Draven', \"'s\", 'Spinning', 'Axes', '.', 'Disrupt', 'Draven', 'with', 'the', 'goal', 'of', 'making', 'him', 'drop', 'his', 'axes', '.', 'If', 'you', 'do', ',', 'his', 'power', 'drops', 'dramatically', '.', 'If', 'Draven', 'does', \"n't\", 'move', ',', 'Spinning', 'Axe', 'will', 'fall', 'near', 'his', 'present', 'location', '.', 'It', 'will', 'fall', 'directly', 'on', 'him', ',', 'or', 'just', 'to', 'the', 'right', 'or', 'left', '.', 'If', 'Draven', 'does', 'move', 'after', 'attacking', ',', 'Spinning', 'Axe', 'will', 'lead', 'him', 'in', 'the', 'direction', 'of', 'his', 'movement', '.', 'Use', 'this', 'to', 'control', 'where', 'the', 'Spinning', 'Axe', 'will', 'go.Draven', \"'s\", 'next', 'attack', 'will', 'deal', 'bonus', 'physical', 'damage', '.', 'This', 'axe', 'will', 'ricochet', 'off', 'the', 'target', 'high', 'up', 'into', 'the', 'air', '.', 'If', 'Draven', 'catches', 'it', ',', 'he', 'automatically', 'readies', 'another', 'Spinning', 'Axe', '.', 'Draven', 'can', 'have', 'two', 'Spinning', 'Axes', 'at', 'once.Draven', 'gains', 'increased', 'Movement', 'Speed', 'and', 'Attack', 'Speed', '.', 'The', 'Movement', 'Speed', 'bonus', 'decreases', 'rapidly', 'over', 'its', 'duration', '.', 'Catching', 'a', 'Spinning', 'Axe', 'will', 'refresh', 'the', 'cooldown', 'of', 'Blood', 'Rush.Draven', 'throws', 'his', 'axes', ',', 'dealing', 'physical', 'damage', 'to', 'targets', 'hit', 'and', 'knocking', 'them', 'aside', '.', 'Targets', 'hit', 'are', 'slowed.Draven', 'hurls', 'two', 'massive', 'axes', 'to', 'deal', 'physical', 'damage', 'to', 'each', 'unit', 'struck', '.', 'Whirling', 'Death', 'slowly', 'reverses', 'direction', 'and', 'returns', 'to', 'Draven', 'after', 'striking', 'an', 'enemy', 'champion', '.', 'Draven', 'may', 'also', 'activate', 'this', 'ability', 'while', 'the', 'axes', 'are', 'in', 'flight', 'to', 'cause', 'it', 'to', 'return', 'early', '.', 'Deals', 'less', 'damage', 'for', 'each', 'unit', 'hit', 'and', 'resets', 'when', 'the', 'axes', 'reverse', 'direction', '.'] \n",
            "\n",
            "['Launch', 'skillshots', 'toward', 'landing', 'position', 'Draven', \"'s\", 'Spinning', 'Axes', '.', 'Disrupt', 'Draven', 'goal', 'making', 'drop', 'axes', '.', 'If', ',', 'power', 'drops', 'dramatically', '.', 'If', 'Draven', \"n't\", 'move', ',', 'Spinning', 'Axe', 'fall', 'near', 'present', 'location', '.', 'It', 'fall', 'directly', ',', 'right', 'left', '.', 'If', 'Draven', 'move', 'attacking', ',', 'Spinning', 'Axe', 'lead', 'direction', 'movement', '.', 'Use', 'control', 'Spinning', 'Axe', 'go.Draven', \"'s\", 'next', 'attack', 'deal', 'bonus', 'physical', 'damage', '.', 'This', 'axe', 'ricochet', 'target', 'high', 'air', '.', 'If', 'Draven', 'catches', ',', 'automatically', 'readies', 'another', 'Spinning', 'Axe', '.', 'Draven', 'two', 'Spinning', 'Axes', 'once.Draven', 'gains', 'increased', 'Movement', 'Speed', 'Attack', 'Speed', '.', 'The', 'Movement', 'Speed', 'bonus', 'decreases', 'rapidly', 'duration', '.', 'Catching', 'Spinning', 'Axe', 'refresh', 'cooldown', 'Blood', 'Rush.Draven', 'throws', 'axes', ',', 'dealing', 'physical', 'damage', 'targets', 'hit', 'knocking', 'aside', '.', 'Targets', 'hit', 'slowed.Draven', 'hurls', 'two', 'massive', 'axes', 'deal', 'physical', 'damage', 'unit', 'struck', '.', 'Whirling', 'Death', 'slowly', 'reverses', 'direction', 'returns', 'Draven', 'striking', 'enemy', 'champion', '.', 'Draven', 'may', 'also', 'activate', 'ability', 'axes', 'flight', 'cause', 'return', 'early', '.', 'Deals', 'less', 'damage', 'unit', 'hit', 'resets', 'axes', 'reverse', 'direction', '.']\n",
            "['Try', 'to', 'coordinate', 'high-damage', 'abilities', 'with', 'your', 'allies', 'right', 'after', 'Dr.', 'Mundo', 'uses', 'his', 'ultimate', ',', 'but', 'if', 'you', \"'re\", 'unable', 'to', 'kill', 'him', 'quickly', 'with', 'burst', 'he', 'will', 'heal', 'through', 'the', 'damage', '.', 'Try', 'casting', 'Ignite', 'when', 'Dr.', 'Mundo', 'uses', 'Sadism', 'to', 'negate', 'a', 'large', 'portion', 'of', 'its', 'healing', '.', 'A', 'well-timed', 'Sadism', 'can', 'bait', 'enemy', 'champions', 'into', 'attacking', 'you', 'even', 'when', 'they', 'lack', 'the', 'damage', 'to', 'finish', 'you', '.', 'Spirit', 'Visage', 'will', 'increase', 'the', 'healing', 'done', 'by', 'your', 'ultimate', 'and', 'lower', 'cooldowns', 'on', 'all', 'of', 'your', 'abilities', '.', 'Cleavers', 'are', 'a', 'powerful', 'tool', 'for', 'killing', 'neutral', 'monsters', '.', 'Instead', 'of', 'returning', 'to', 'base', ',', 'farm', 'neutral', 'monsters', 'until', 'your', 'ultimate', 'can', 'heal', 'you.Dr', '.', 'Mundo', 'throws', 'an', 'infected', 'bonesaw', ',', 'dealing', 'damage', 'to', 'the', 'first', 'enemy', 'hit', 'based', 'on', 'their', 'current', 'health', 'and', 'slowing', 'them.Dr', '.', 'Mundo', 'electrocutes', 'himself', ',', 'dealing', 'persistent', 'damage', 'to', 'nearby', 'enemies', 'and', 'storing', 'a', 'portion', 'of', 'damage', 'he', 'takes', '.', 'At', 'the', 'end', 'of', 'the', 'duration', 'or', 'on', 'Recast', ',', 'Dr.', 'Mundo', 'deals', 'a', 'burst', 'of', 'damage', 'to', 'nearby', 'enemies', '.', 'If', 'the', 'burst', 'hit', 'an', 'enemy', ',', 'he', 'heals', 'a', 'percentage', 'of', 'the', 'stored', 'damage.Passive', '-', 'Dr.', 'Mundo', 'gains', 'bonus', 'Attack', 'Damage', ',', 'increasing', 'based', 'on', 'his', 'missing', 'Health.Active', '-', 'Dr.', 'Mundo', 'slams', 'his', '“', 'medical', '”', 'bag', 'into', 'an', 'enemy', ',', 'dealing', 'additional', 'damage', 'based', 'on', 'his', 'missing', 'Health', '.', 'If', 'the', 'enemy', 'dies', 'they', 'are', 'swatted', 'away', ',', 'dealing', 'damage', 'to', 'enemies', 'they', 'pass', 'through.Dr', '.', 'Mundo', 'pumps', 'himself', 'with', 'chemicals', ',', 'instantly', 'healing', 'a', 'percent', 'of', 'his', 'missing', 'Health', '.', 'He', 'then', 'gains', 'bonus', 'Attack', 'Damage', 'and', 'Move', 'Speed', ',', 'and', 'regenerates', 'a', 'portion', 'of', 'his', 'maximum', 'Health', 'over', 'a', 'long', 'duration', '.'] \n",
            "\n",
            "['Try', 'coordinate', 'high-damage', 'abilities', 'allies', 'right', 'Dr.', 'Mundo', 'uses', 'ultimate', ',', \"'re\", 'unable', 'kill', 'quickly', 'burst', 'heal', 'damage', '.', 'Try', 'casting', 'Ignite', 'Dr.', 'Mundo', 'uses', 'Sadism', 'negate', 'large', 'portion', 'healing', '.', 'A', 'well-timed', 'Sadism', 'bait', 'enemy', 'champions', 'attacking', 'even', 'lack', 'damage', 'finish', '.', 'Spirit', 'Visage', 'increase', 'healing', 'done', 'ultimate', 'lower', 'cooldowns', 'abilities', '.', 'Cleavers', 'powerful', 'tool', 'killing', 'neutral', 'monsters', '.', 'Instead', 'returning', 'base', ',', 'farm', 'neutral', 'monsters', 'ultimate', 'heal', 'you.Dr', '.', 'Mundo', 'throws', 'infected', 'bonesaw', ',', 'dealing', 'damage', 'first', 'enemy', 'hit', 'based', 'current', 'health', 'slowing', 'them.Dr', '.', 'Mundo', 'electrocutes', ',', 'dealing', 'persistent', 'damage', 'nearby', 'enemies', 'storing', 'portion', 'damage', 'takes', '.', 'At', 'end', 'duration', 'Recast', ',', 'Dr.', 'Mundo', 'deals', 'burst', 'damage', 'nearby', 'enemies', '.', 'If', 'burst', 'hit', 'enemy', ',', 'heals', 'percentage', 'stored', 'damage.Passive', '-', 'Dr.', 'Mundo', 'gains', 'bonus', 'Attack', 'Damage', ',', 'increasing', 'based', 'missing', 'Health.Active', '-', 'Dr.', 'Mundo', 'slams', '“', 'medical', '”', 'bag', 'enemy', ',', 'dealing', 'additional', 'damage', 'based', 'missing', 'Health', '.', 'If', 'enemy', 'dies', 'swatted', 'away', ',', 'dealing', 'damage', 'enemies', 'pass', 'through.Dr', '.', 'Mundo', 'pumps', 'chemicals', ',', 'instantly', 'healing', 'percent', 'missing', 'Health', '.', 'He', 'gains', 'bonus', 'Attack', 'Damage', 'Move', 'Speed', ',', 'regenerates', 'portion', 'maximum', 'Health', 'long', 'duration', '.']\n",
            "['Ekko', 'is', 'significantly', 'weaker', 'when', 'his', 'ultimate', 'is', 'down', '.', 'Watch', 'for', 'the', 'trail', 'he', 'leaves', 'behind', 'to', 'determine', 'if', 'Chronobreak', 'is', 'available', '.', 'Ekko', \"'s\", 'stun', 'zone', 'takes', '3', 'seconds', 'to', 'arm', '.', 'Watch', 'for', 'the', 'image', 'he', 'creates', 'on', 'cast', 'and', 'try', 'to', 'guess', 'where', 'the', 'zone', 'was', 'placed', '.', 'The', 'second', 'hit', 'of', 'Timewinder', 'does', 'more', 'damage', 'than', 'the', 'first', ';', 'try', 'to', 'avoid', 'it', '.', 'Chronobreak', 'is', 'a', 'potent', 'escape', 'tool', ',', 'but', 'it', 'can', 'also', 'be', 'quite', 'powerful', 'when', 'used', 'offensively', '.', 'Do', \"n't\", 'underestimate', 'its', 'damage', 'potential', '.', 'If', 'you', 'can', 'proc', 'Z-Drive', 'Resonance', 'on', 'an', 'enemy', 'champion', ',', 'it', \"'s\", 'worth', 'taking', 'risks', 'to', 'do', 'so', '.', 'The', 'bonus', 'movement', 'speed', 'makes', 'it', 'easy', 'to', 'escape', '.', 'Phase', 'Dive', \"'s\", 'dash', 'is', 'a', 'great', 'tool', 'for', 'setting', 'up', 'Ekko', \"'s\", 'other', 'abilities', '.', 'Use', 'it', 'to', 'get', 'double', 'hits', 'with', 'Timewinder', 'or', 'get', 'into', 'position', 'to', 'detonate', 'Parallel', 'Convergence.Ekko', 'throws', 'a', 'temporal', 'grenade', 'that', 'expands', 'into', 'a', 'time-distortion', 'field', 'upon', 'hitting', 'an', 'enemy', 'champion', ',', 'slowing', 'and', 'damaging', 'anyone', 'caught', 'inside', '.', 'After', 'a', 'delay', ',', 'the', 'grenade', 'rewinds', 'back', 'to', 'Ekko', ',', 'dealing', 'damage', 'on', 'its', 'return.Ekko', \"'s\", 'basic', 'attacks', 'deal', 'bonus', 'magic', 'damage', 'to', 'low', 'health', 'enemies', '.', 'He', 'can', 'cast', 'Parallel', 'Convergence', 'to', 'split', 'the', 'timeline', ',', 'creating', 'an', 'anomaly', 'after', 'a', 'few', 'seconds', 'that', 'slows', 'enemies', 'caught', 'inside', '.', 'If', 'Ekko', 'enters', 'the', 'anomaly', ',', 'he', 'gains', 'shielding', 'and', 'stuns', 'enemies', 'by', 'suspending', 'them', 'in', 'time.Ekko', 'rolls', 'evasively', 'while', 'charging', 'up', 'his', 'Z-Drive', '.', 'His', 'next', 'attack', 'deals', 'bonus', 'damage', 'and', 'warps', 'reality', ',', 'teleporting', 'him', 'to', 'his', 'target.Ekko', 'shatters', 'his', 'timeline', ',', 'becoming', 'untargetable', 'and', 'rewinding', 'to', 'a', 'more', 'favorable', 'point', 'in', 'time', '.', 'He', 'returns', 'to', 'whenever', 'he', 'was', 'a', 'few', 'seconds', 'ago', ',', 'and', 'heals', 'for', 'a', 'percentage', 'of', 'the', 'damage', 'received', 'in', 'that', 'duration', '.', 'Enemies', 'near', 'his', 'arrival', 'zone', 'take', 'massive', 'damage', '.'] \n",
            "\n",
            "['Ekko', 'significantly', 'weaker', 'ultimate', '.', 'Watch', 'trail', 'leaves', 'behind', 'determine', 'Chronobreak', 'available', '.', 'Ekko', \"'s\", 'stun', 'zone', 'takes', '3', 'seconds', 'arm', '.', 'Watch', 'image', 'creates', 'cast', 'try', 'guess', 'zone', 'placed', '.', 'The', 'second', 'hit', 'Timewinder', 'damage', 'first', ';', 'try', 'avoid', '.', 'Chronobreak', 'potent', 'escape', 'tool', ',', 'also', 'quite', 'powerful', 'used', 'offensively', '.', 'Do', \"n't\", 'underestimate', 'damage', 'potential', '.', 'If', 'proc', 'Z-Drive', 'Resonance', 'enemy', 'champion', ',', \"'s\", 'worth', 'taking', 'risks', '.', 'The', 'bonus', 'movement', 'speed', 'makes', 'easy', 'escape', '.', 'Phase', 'Dive', \"'s\", 'dash', 'great', 'tool', 'setting', 'Ekko', \"'s\", 'abilities', '.', 'Use', 'get', 'double', 'hits', 'Timewinder', 'get', 'position', 'detonate', 'Parallel', 'Convergence.Ekko', 'throws', 'temporal', 'grenade', 'expands', 'time-distortion', 'field', 'upon', 'hitting', 'enemy', 'champion', ',', 'slowing', 'damaging', 'anyone', 'caught', 'inside', '.', 'After', 'delay', ',', 'grenade', 'rewinds', 'back', 'Ekko', ',', 'dealing', 'damage', 'return.Ekko', \"'s\", 'basic', 'attacks', 'deal', 'bonus', 'magic', 'damage', 'low', 'health', 'enemies', '.', 'He', 'cast', 'Parallel', 'Convergence', 'split', 'timeline', ',', 'creating', 'anomaly', 'seconds', 'slows', 'enemies', 'caught', 'inside', '.', 'If', 'Ekko', 'enters', 'anomaly', ',', 'gains', 'shielding', 'stuns', 'enemies', 'suspending', 'time.Ekko', 'rolls', 'evasively', 'charging', 'Z-Drive', '.', 'His', 'next', 'attack', 'deals', 'bonus', 'damage', 'warps', 'reality', ',', 'teleporting', 'target.Ekko', 'shatters', 'timeline', ',', 'becoming', 'untargetable', 'rewinding', 'favorable', 'point', 'time', '.', 'He', 'returns', 'whenever', 'seconds', 'ago', ',', 'heals', 'percentage', 'damage', 'received', 'duration', '.', 'Enemies', 'near', 'arrival', 'zone', 'take', 'massive', 'damage', '.']\n",
            "['Elise', \"'s\", 'Spider', 'Form', 'is', 'more', 'dangerous', 'when', 'you', 'are', 'at', 'low', 'health', ',', 'and', 'her', 'Human', 'Form', 'more', 'potent', 'when', 'you', 'are', 'at', 'high', 'health', '.', 'Rappel', 'will', 'only', 'move', 'Elise', 'straight', 'up', 'and', 'down', 'unless', 'she', 'can', 'descend', 'upon', 'an', 'enemy', 'unit', '.', 'Rappel', 'has', 'a', 'long', 'cooldown', '.', 'Elise', 'is', 'vulnerable', 'after', 'she', 'has', 'used', 'it', '.', 'Spider', 'Form', 'is', 'most', 'effective', 'at', 'finishing', 'off', 'enemies', 'with', 'low', 'health', ';', 'Human', 'Form', \"'s\", 'Neurotoxin', 'does', 'more', 'damage', 'to', 'healthy', 'foes', '.', 'When', 'in', 'Spider', 'Form', ',', 'Spiderlings', 'will', 'attack', 'the', 'target', 'that', 'Elise', 'uses', 'Venomous', 'Bite', 'on', '.', 'Elise', \"'s\", 'Spider', 'Form', 'and', 'Spider', 'Form', 'abilities', 'do', 'not', 'cost', 'mana', 'and', 'can', 'be', 'prioritized', 'when', 'you', 'are', 'trying', 'to', 'conserve', 'mana.Human', 'Form', ':', 'Deals', 'damage', 'based', 'upon', 'how', 'high', 'the', 'target', \"'s\", 'Health', 'is.Spider', 'Form', ':', 'Lunges', 'at', 'an', 'enemy', 'and', 'deals', 'damage', 'based', 'upon', 'how', 'low', 'their', 'Health', 'is.Human', 'Form', ':', 'Releases', 'a', 'venom-gorged', 'Spiderling', 'that', 'explodes', 'when', 'it', 'nears', 'a', 'target.Spider', 'Form', ':', 'Elise', 'and', 'her', 'Spiderlings', 'gain', 'Attack', 'Speed.Human', 'Form', ':', 'Stuns', 'the', 'first', 'enemy', 'unit', 'hit', 'and', 'reveals', 'them', 'if', 'they', 'are', 'not', 'stealthed.Spider', 'Form', ':', 'Elise', 'and', 'her', 'Spiderlings', 'ascend', 'into', 'the', 'air', 'and', 'then', 'descend', 'upon', 'target', 'enemy', '.', 'After', 'descending', 'on', 'an', 'enemy', 'target', ',', 'Elise', \"'s\", 'bonus', 'damage', 'and', 'healing', 'from', 'Spider', 'Queen', 'is', 'increased.Transforms', 'into', 'a', 'menacing', 'spider', ',', 'reducing', 'her', 'attack', 'range', 'in', 'exchange', 'for', 'movement', 'speed', ',', 'new', 'abilities', ',', 'and', 'a', 'Spiderling', 'swarm', 'that', 'will', 'attack', 'her', 'foes', '.'] \n",
            "\n",
            "['Elise', \"'s\", 'Spider', 'Form', 'dangerous', 'low', 'health', ',', 'Human', 'Form', 'potent', 'high', 'health', '.', 'Rappel', 'move', 'Elise', 'straight', 'unless', 'descend', 'upon', 'enemy', 'unit', '.', 'Rappel', 'long', 'cooldown', '.', 'Elise', 'vulnerable', 'used', '.', 'Spider', 'Form', 'effective', 'finishing', 'enemies', 'low', 'health', ';', 'Human', 'Form', \"'s\", 'Neurotoxin', 'damage', 'healthy', 'foes', '.', 'When', 'Spider', 'Form', ',', 'Spiderlings', 'attack', 'target', 'Elise', 'uses', 'Venomous', 'Bite', '.', 'Elise', \"'s\", 'Spider', 'Form', 'Spider', 'Form', 'abilities', 'cost', 'mana', 'prioritized', 'trying', 'conserve', 'mana.Human', 'Form', ':', 'Deals', 'damage', 'based', 'upon', 'high', 'target', \"'s\", 'Health', 'is.Spider', 'Form', ':', 'Lunges', 'enemy', 'deals', 'damage', 'based', 'upon', 'low', 'Health', 'is.Human', 'Form', ':', 'Releases', 'venom-gorged', 'Spiderling', 'explodes', 'nears', 'target.Spider', 'Form', ':', 'Elise', 'Spiderlings', 'gain', 'Attack', 'Speed.Human', 'Form', ':', 'Stuns', 'first', 'enemy', 'unit', 'hit', 'reveals', 'stealthed.Spider', 'Form', ':', 'Elise', 'Spiderlings', 'ascend', 'air', 'descend', 'upon', 'target', 'enemy', '.', 'After', 'descending', 'enemy', 'target', ',', 'Elise', \"'s\", 'bonus', 'damage', 'healing', 'Spider', 'Queen', 'increased.Transforms', 'menacing', 'spider', ',', 'reducing', 'attack', 'range', 'exchange', 'movement', 'speed', ',', 'new', 'abilities', ',', 'Spiderling', 'swarm', 'attack', 'foes', '.']\n",
            "['Purchasing', 'Vision', 'Wards', 'can', 'help', 'you', 'detect', 'Evelynn', \"'s\", 'location', 'in', 'order', 'to', 'prepare', 'for', 'her', 'ambushes', '.', 'A', 'large', 'share', 'of', 'Evelynn', \"'s\", 'threat', 'is', 'in', 'her', 'charm', ',', \"'Allure\", '.', \"'\", 'Protect', 'allies', 'marked', 'with', \"'Allure\", \"'\", 'or', ',', 'if', 'you', 'are', 'marked', ',', 'make', 'sure', 'allies', 'are', 'between', 'you', 'and', 'where', 'Evelynn', 'may', 'attack', 'from', '.', 'If', 'you', 'suspect', 'Evelynn', 'is', 'about', 'to', 'ambush', 'one', 'of', 'your', 'teammates', ',', 'let', 'them', 'know', 'by', 'pinging', 'the', 'minimap', 'and', 'typing', 'in', 'chat', '.', 'Allure', \"'s\", 'arm', 'time', 'might', 'seem', 'long', ',', 'but', 'the', 'Charm', 'and', 'magic', 'resist', 'shred', 'put', 'Evelynn', 'at', 'an', 'exteme', 'advantage', 'so', 'are', 'worth', 'the', 'wait', '.', 'While', 'stealthed', ',', 'pay', 'attention', 'to', 'when', 'you', 'are', '(', 'near', ')', 'being', 'detected', 'by', 'enemy', 'champions', '.', 'This', 'is', 'identified', 'by', 'the', 'glowing', 'yellow', 'and', 'red', 'eyes', 'over', 'nearby', 'enemy', 'champions', '.', 'If', 'at', 'low', 'health', ',', 'you', 'can', 'take', 'advantage', 'of', 'Demon', 'Shade', \"'s\", 'healing', 'and', 'Camouflage', 'to', 'return', 'to', 'the', 'fight', 'and', 'surprise', 'opponents.Evelynn', 'strikes', 'out', 'with', 'her', 'Lasher', ',', 'dealing', 'damage', 'to', 'the', 'first', 'unit', 'hit', '.', 'Then', ',', 'Evelynn', 'can', 'shoot', 'a', 'line', 'of', 'spikes', 'at', 'nearby', 'foes', 'up', 'to', '3', 'times.Evelynn', 'curses', 'her', 'target', ',', 'causing', 'her', 'next', 'attack', 'or', 'spell', 'after', 'a', 'delay', 'to', 'charm', 'her', 'target', 'and', 'reduce', 'their', 'magic', 'resist.Evelynn', 'whips', 'her', 'target', 'with', 'her', 'Lasher', ',', 'dealing', 'damage', '.', 'She', 'then', 'gains', 'movement', 'speed', 'for', 'a', 'short', 'duration.Evelynn', 'briefly', 'goes', 'untargetable', 'and', 'decimates', 'the', 'area', 'in', 'front', 'of', 'her', 'before', 'warping', 'backwards', 'a', 'long', 'distance', '.'] \n",
            "\n",
            "['Purchasing', 'Vision', 'Wards', 'help', 'detect', 'Evelynn', \"'s\", 'location', 'order', 'prepare', 'ambushes', '.', 'A', 'large', 'share', 'Evelynn', \"'s\", 'threat', 'charm', ',', \"'Allure\", '.', \"'\", 'Protect', 'allies', 'marked', \"'Allure\", \"'\", ',', 'marked', ',', 'make', 'sure', 'allies', 'Evelynn', 'may', 'attack', '.', 'If', 'suspect', 'Evelynn', 'ambush', 'one', 'teammates', ',', 'let', 'know', 'pinging', 'minimap', 'typing', 'chat', '.', 'Allure', \"'s\", 'arm', 'time', 'might', 'seem', 'long', ',', 'Charm', 'magic', 'resist', 'shred', 'put', 'Evelynn', 'exteme', 'advantage', 'worth', 'wait', '.', 'While', 'stealthed', ',', 'pay', 'attention', '(', 'near', ')', 'detected', 'enemy', 'champions', '.', 'This', 'identified', 'glowing', 'yellow', 'red', 'eyes', 'nearby', 'enemy', 'champions', '.', 'If', 'low', 'health', ',', 'take', 'advantage', 'Demon', 'Shade', \"'s\", 'healing', 'Camouflage', 'return', 'fight', 'surprise', 'opponents.Evelynn', 'strikes', 'Lasher', ',', 'dealing', 'damage', 'first', 'unit', 'hit', '.', 'Then', ',', 'Evelynn', 'shoot', 'line', 'spikes', 'nearby', 'foes', '3', 'times.Evelynn', 'curses', 'target', ',', 'causing', 'next', 'attack', 'spell', 'delay', 'charm', 'target', 'reduce', 'magic', 'resist.Evelynn', 'whips', 'target', 'Lasher', ',', 'dealing', 'damage', '.', 'She', 'gains', 'movement', 'speed', 'short', 'duration.Evelynn', 'briefly', 'goes', 'untargetable', 'decimates', 'area', 'front', 'warping', 'backwards', 'long', 'distance', '.']\n",
            "['Ezreal', 'is', 'a', 'very', 'fragile', 'champion', 'so', 'take', 'the', 'fight', 'to', 'him', '.', 'Ezreal', 'is', 'completely', 'skill', 'shot', 'based', ',', 'so', 'make', 'sure', 'to', 'keep', 'minions', 'in', 'between', 'you', '.', 'Mystic', 'Shot', 'applies', 'on-hit', 'effects', 'including', 'the', 'Crest', 'of', 'Cinders', '.', 'Use', 'Arcane', 'Shift', 'to', 'help', 'line', 'up', 'your', 'other', 'skill', 'shots', '.', 'You', 'can', 'play', 'Ezreal', 'either', 'as', 'a', 'Attack', 'Damage', 'carry', 'or', 'Ability', 'Power', 'carry', 'depending', 'on', 'how', 'you', 'build', 'him', '.', 'You', 'can', 'line', 'up', 'Trueshot', 'Barrage', 'to', 'hit', 'multiple', 'minion', 'waves', 'or', 'even', 'Monsters.Ezreal', 'fires', 'a', 'damaging', 'bolt', 'of', 'energy', 'which', 'reduces', 'all', 'of', 'his', 'cooldowns', 'slightly', 'if', 'it', 'strikes', 'an', 'enemy', 'unit.Ezreal', 'fires', 'an', 'orb', 'that', 'sticks', 'to', 'the', 'first', 'champion', 'or', 'objective', 'hit', '.', 'If', 'Ezreal', 'hits', 'an', 'enemy', 'with', 'the', 'orb', ',', 'it', 'detonates', 'and', 'deals', 'damage.Ezreal', 'teleports', 'to', 'a', 'target', 'nearby', 'location', 'and', 'fires', 'a', 'homing', 'bolt', 'which', 'strikes', 'the', 'nearest', 'enemy', 'unit', '.', 'Prioritizes', 'enemies', 'stuck', 'with', 'Essence', 'Flux.Ezreal', 'winds', 'up', 'before', 'firing', 'a', 'powerful', 'barrage', 'of', 'energy', 'that', 'deals', 'massive', 'damage', 'to', 'each', 'unit', 'it', 'passes', 'through', '(', 'damage', 'is', 'reduced', 'for', 'minions', 'and', 'non-epic', 'monsters', ')', '.'] \n",
            "\n",
            "['Ezreal', 'fragile', 'champion', 'take', 'fight', '.', 'Ezreal', 'completely', 'skill', 'shot', 'based', ',', 'make', 'sure', 'keep', 'minions', '.', 'Mystic', 'Shot', 'applies', 'on-hit', 'effects', 'including', 'Crest', 'Cinders', '.', 'Use', 'Arcane', 'Shift', 'help', 'line', 'skill', 'shots', '.', 'You', 'play', 'Ezreal', 'either', 'Attack', 'Damage', 'carry', 'Ability', 'Power', 'carry', 'depending', 'build', '.', 'You', 'line', 'Trueshot', 'Barrage', 'hit', 'multiple', 'minion', 'waves', 'even', 'Monsters.Ezreal', 'fires', 'damaging', 'bolt', 'energy', 'reduces', 'cooldowns', 'slightly', 'strikes', 'enemy', 'unit.Ezreal', 'fires', 'orb', 'sticks', 'first', 'champion', 'objective', 'hit', '.', 'If', 'Ezreal', 'hits', 'enemy', 'orb', ',', 'detonates', 'deals', 'damage.Ezreal', 'teleports', 'target', 'nearby', 'location', 'fires', 'homing', 'bolt', 'strikes', 'nearest', 'enemy', 'unit', '.', 'Prioritizes', 'enemies', 'stuck', 'Essence', 'Flux.Ezreal', 'winds', 'firing', 'powerful', 'barrage', 'energy', 'deals', 'massive', 'damage', 'unit', 'passes', '(', 'damage', 'reduced', 'minions', 'non-epic', 'monsters', ')', '.']\n",
            "['Fiddlesticks', 'damaging', 'enemies', 'with', 'spells', 'while', 'unseen', 'or', 'targeting', 'an', 'enemy', 'with', 'Terrify', \"'s\", 'activation', 'strikes', 'a', 'target', 'unit', 'with', 'fear', ',', 'causing', 'it', 'to', 'flee', 'in', 'terror', 'for', 'a', 'duration.Fiddlesticks', 'drains', 'health', 'from', 'nearby', 'enemies', ',', 'dealing', 'bonus', 'execute', 'damage', 'at', 'the', 'end', 'of', 'the', 'duration.Fiddlesticks', 'slashes', 'an', 'area', 'with', 'its', 'scythe', ',', 'slowing', 'all', 'enemies', 'hit', 'and', 'silencing', 'enemies', 'hit', 'in', 'the', 'center', 'of', 'the', 'slash.A', 'murder', 'of', 'crows', 'flock', 'wildly', 'around', 'Fiddlesticks', ',', 'dealing', 'damage', 'per', 'second', 'to', 'all', 'enemy', 'units', 'in', 'the', 'area', '.'] \n",
            "\n",
            "['Fiddlesticks', 'damaging', 'enemies', 'spells', 'unseen', 'targeting', 'enemy', 'Terrify', \"'s\", 'activation', 'strikes', 'target', 'unit', 'fear', ',', 'causing', 'flee', 'terror', 'duration.Fiddlesticks', 'drains', 'health', 'nearby', 'enemies', ',', 'dealing', 'bonus', 'execute', 'damage', 'end', 'duration.Fiddlesticks', 'slashes', 'area', 'scythe', ',', 'slowing', 'enemies', 'hit', 'silencing', 'enemies', 'hit', 'center', 'slash.A', 'murder', 'crows', 'flock', 'wildly', 'around', 'Fiddlesticks', ',', 'dealing', 'damage', 'per', 'second', 'enemy', 'units', 'area', '.']\n",
            "['Duelist', \"'s\", 'Dance', 'shows', 'you', 'where', 'Fiora', 'will', 'try', 'to', 'attack', 'from', ',', 'so', 'be', 'ready', 'to', 'punish', 'her', 'when', 'she', 'tries', '.', 'Be', 'careful', 'when', 'casting', 'immobilizing', 'disables', 'on', 'Fiora', '.', 'If', 'her', 'Riposte', 'is', 'available', ',', 'she', 'can', 'turn', 'their', 'power', 'against', 'you', '.', 'Thanks', 'to', 'Duelist', \"'s\", 'Dance', ',', 'Fiora', 'excels', 'at', 'quick', 'trades', '.', 'Use', 'the', 'movement', 'speed', 'boost', 'from', 'striking', 'a', 'Vital', 'to', 'escape', 'unscathed', 'or', 'set', 'up', 'for', 'the', 'next', 'one', '.', 'Grand', 'Challenge', 'allows', 'Fiora', 'to', 'take', 'down', 'even', 'the', 'most', 'durable', 'opponents', 'and', 'then', 'recover', 'if', 'successful', ',', 'so', 'do', 'not', 'hesitate', 'to', 'attack', 'the', 'enemy', \"'s\", 'front', 'line.Fiora', 'lunges', 'in', 'a', 'direction', 'and', 'stabs', 'a', 'nearby', 'enemy', ',', 'dealing', 'physical', 'damage', 'and', 'applying', 'on-hit', 'effects.Fiora', 'parries', 'all', 'incoming', 'damage', 'and', 'disables', 'for', 'a', 'short', 'time', ',', 'then', 'stabs', 'in', 'a', 'direction', '.', 'This', 'stab', 'slows', 'the', 'first', 'enemy', 'champion', 'hit', ',', 'or', 'stuns', 'them', 'if', 'Fiora', 'blocked', 'an', 'immobilizing', 'effect', 'with', 'this', 'ability.Fiora', 'has', 'increased', 'attack', 'speed', 'for', 'the', 'next', 'two', 'attacks', '.', 'The', 'first', 'attack', 'slows', 'the', 'target', ',', 'and', 'the', 'second', 'attack', 'will', 'critically', 'strike.Fiora', 'reveals', 'all', 'four', 'Vitals', 'on', 'an', 'enemy', 'champion', 'and', 'gains', 'movement', 'speed', 'while', 'near', 'them', '.', 'If', 'Fiora', 'hits', 'all', '4', 'Vitals', 'or', 'if', 'the', 'target', 'dies', 'after', 'she', 'has', 'hit', 'at', 'least', 'one', ',', 'Fiora', 'and', 'her', 'allies', 'in', 'the', 'area', 'are', 'healed', 'over', 'the', 'next', 'few', 'seconds', '.'] \n",
            "\n",
            "['Duelist', \"'s\", 'Dance', 'shows', 'Fiora', 'try', 'attack', ',', 'ready', 'punish', 'tries', '.', 'Be', 'careful', 'casting', 'immobilizing', 'disables', 'Fiora', '.', 'If', 'Riposte', 'available', ',', 'turn', 'power', '.', 'Thanks', 'Duelist', \"'s\", 'Dance', ',', 'Fiora', 'excels', 'quick', 'trades', '.', 'Use', 'movement', 'speed', 'boost', 'striking', 'Vital', 'escape', 'unscathed', 'set', 'next', 'one', '.', 'Grand', 'Challenge', 'allows', 'Fiora', 'take', 'even', 'durable', 'opponents', 'recover', 'successful', ',', 'hesitate', 'attack', 'enemy', \"'s\", 'front', 'line.Fiora', 'lunges', 'direction', 'stabs', 'nearby', 'enemy', ',', 'dealing', 'physical', 'damage', 'applying', 'on-hit', 'effects.Fiora', 'parries', 'incoming', 'damage', 'disables', 'short', 'time', ',', 'stabs', 'direction', '.', 'This', 'stab', 'slows', 'first', 'enemy', 'champion', 'hit', ',', 'stuns', 'Fiora', 'blocked', 'immobilizing', 'effect', 'ability.Fiora', 'increased', 'attack', 'speed', 'next', 'two', 'attacks', '.', 'The', 'first', 'attack', 'slows', 'target', ',', 'second', 'attack', 'critically', 'strike.Fiora', 'reveals', 'four', 'Vitals', 'enemy', 'champion', 'gains', 'movement', 'speed', 'near', '.', 'If', 'Fiora', 'hits', '4', 'Vitals', 'target', 'dies', 'hit', 'least', 'one', ',', 'Fiora', 'allies', 'area', 'healed', 'next', 'seconds', '.']\n",
            "['Fizz', \"'s\", 'attacks', 'becomes', 'more', 'deadly', 'for', 'a', 'few', 'seconds', 'after', 'he', 'uses', 'his', 'empowered', 'attack', '-', 'keep', 'him', 'away', 'while', 'his', 'trident', 'is', 'glowing', '!', 'Fizz', 'is', 'a', 'slippery', 'target', 'when', 'his', 'abilities', 'are', 'not', 'on', 'cooldown', '-', 'bait', 'him', 'into', 'using', 'them', 'early', 'and', 'follow', 'up', 'with', 'crowd', 'control', 'or', 'hard-hitting', 'attacks', '!', 'Since', 'Fizz', 'can', 'move', 'through', 'units', ',', 'find', 'opportunities', 'in', 'lane', 'to', 'walk', 'through', 'minions', 'and', 'apply', 'Seastone', 'Trident', \"'s\", 'passive', '-', 'following', 'it', 'up', 'with', 'the', 'ability', \"'s\", 'active', 'attack', 'after', 'a', 'few', 'seconds', '.', 'Fizz', \"'s\", 'ultimate', 'ability', ',', 'Chum', 'the', 'Waters', ',', 'can', 'be', 'aimed', 'at', 'an', 'enemy', 'or', 'towards', 'the', 'area', 'where', 'you', 'think', 'they', \"'ll\", 'be', 'going', '.', 'Fizz', \"'s\", 'spells', 'scale', 'off', 'Ability', 'Power', '-', 'consider', 'getting', 'items', 'like', 'Zhonya', \"'s\", 'Hourglass', 'or', 'Banshee', \"'s\", 'Veil', 'against', 'teams', 'that', 'have', 'high', 'burst', 'threat', '-', 'and', 'items', 'like', 'Lich', 'Bane', 'or', 'Rabadon', \"'s\", 'Deathcap', 'if', 'you', 'think', 'you', 'can', 'survive', 'without', 'the', 'Health.Fizz', 'dashes', 'through', 'his', 'target', ',', 'dealing', 'magic', 'damage', 'and', 'applying', 'on', 'hit', 'effects.Fizz', \"'s\", 'attacks', 'bleed', 'his', 'enemies', ',', 'dealing', 'magic', 'damage', 'over', 'several', 'seconds', '.', 'Fizz', 'can', 'empower', 'his', 'next', 'attack', 'to', 'deal', 'bonus', 'damage', 'and', 'empower', 'his', 'further', 'attacks', 'for', 'a', 'short', 'time.Fizz', 'hops', 'into', 'the', 'air', ',', 'landing', 'gracefully', 'upon', 'his', 'spear', 'and', 'becoming', 'untargetable', '.', 'From', 'this', 'position', ',', 'Fizz', 'can', 'either', 'slam', 'the', 'ground', 'or', 'choose', 'to', 'jump', 'again', 'before', 'smashing', 'back', 'down.Fizz', 'tosses', 'a', 'fish', 'in', 'a', 'direction', 'that', 'attaches', 'to', 'any', 'champion', 'that', 'touches', 'it', ',', 'slowing', 'the', 'target', '.', 'After', 'a', 'short', 'delay', ',', 'a', 'shark', 'erupts', 'from', 'the', 'ground', ',', 'knocking', 'up', 'the', 'target', 'and', 'knocking', 'any', 'nearby', 'enemies', 'aside', '.', 'All', 'enemies', 'hit', 'are', 'dealt', 'magic', 'damage', 'and', 'slowed', '.'] \n",
            "\n",
            "['Fizz', \"'s\", 'attacks', 'becomes', 'deadly', 'seconds', 'uses', 'empowered', 'attack', '-', 'keep', 'away', 'trident', 'glowing', '!', 'Fizz', 'slippery', 'target', 'abilities', 'cooldown', '-', 'bait', 'using', 'early', 'follow', 'crowd', 'control', 'hard-hitting', 'attacks', '!', 'Since', 'Fizz', 'move', 'units', ',', 'find', 'opportunities', 'lane', 'walk', 'minions', 'apply', 'Seastone', 'Trident', \"'s\", 'passive', '-', 'following', 'ability', \"'s\", 'active', 'attack', 'seconds', '.', 'Fizz', \"'s\", 'ultimate', 'ability', ',', 'Chum', 'Waters', ',', 'aimed', 'enemy', 'towards', 'area', 'think', \"'ll\", 'going', '.', 'Fizz', \"'s\", 'spells', 'scale', 'Ability', 'Power', '-', 'consider', 'getting', 'items', 'like', 'Zhonya', \"'s\", 'Hourglass', 'Banshee', \"'s\", 'Veil', 'teams', 'high', 'burst', 'threat', '-', 'items', 'like', 'Lich', 'Bane', 'Rabadon', \"'s\", 'Deathcap', 'think', 'survive', 'without', 'Health.Fizz', 'dashes', 'target', ',', 'dealing', 'magic', 'damage', 'applying', 'hit', 'effects.Fizz', \"'s\", 'attacks', 'bleed', 'enemies', ',', 'dealing', 'magic', 'damage', 'several', 'seconds', '.', 'Fizz', 'empower', 'next', 'attack', 'deal', 'bonus', 'damage', 'empower', 'attacks', 'short', 'time.Fizz', 'hops', 'air', ',', 'landing', 'gracefully', 'upon', 'spear', 'becoming', 'untargetable', '.', 'From', 'position', ',', 'Fizz', 'either', 'slam', 'ground', 'choose', 'jump', 'smashing', 'back', 'down.Fizz', 'tosses', 'fish', 'direction', 'attaches', 'champion', 'touches', ',', 'slowing', 'target', '.', 'After', 'short', 'delay', ',', 'shark', 'erupts', 'ground', ',', 'knocking', 'target', 'knocking', 'nearby', 'enemies', 'aside', '.', 'All', 'enemies', 'hit', 'dealt', 'magic', 'damage', 'slowed', '.']\n",
            "['Galio', 'moves', 'slower', 'when', 'he', 'is', 'charging', 'Shield', 'of', 'Durand', '.', 'Hero', \"'s\", 'Entrance', 'can', 'be', 'interrupted', 'before', 'Galio', 'jumps', 'into', 'the', 'air', '.', 'Galio', 'can', 'not', 'traverse', 'walls', 'with', 'Justice', 'Punch', '.', 'You', 'can', 'release', 'Shield', 'of', 'Durand', 'even', 'while', 'crowd', 'controlled', '.', 'You', 'can', 'use', 'the', 'minimap', 'ally', 'icons', 'to', 'cast', 'Hero', \"'s\", 'Entrance', '.', 'You', 'can', 'use', 'the', 'step', 'back', 'from', 'Justice', 'Punch', 'to', 'dodge', 'enemy', 'spells.Galio', 'fires', 'two', 'windblasts', 'that', 'converge', 'into', 'a', 'large', 'tornado', 'that', 'deals', 'damage', 'over', 'time.Galio', 'charges', 'a', 'defensive', 'stance', ',', 'moving', 'slowly', '.', 'Upon', 'releasing', 'the', 'charge', ',', 'Galio', 'will', 'taunt', 'and', 'damage', 'nearby', 'enemies.Galio', 'will', 'briefly', 'step', 'back', 'and', 'charge', ',', 'knocking', 'up', 'the', 'first', 'enemy', 'champion', 'he', 'encounters.Galio', 'designates', 'an', 'ally', \"'s\", 'position', 'as', 'his', 'landing', 'spot', ',', 'granting', 'all', 'allies', 'in', 'the', 'area', 'a', 'magic', 'shield', '.', 'After', 'a', 'delay', 'Galio', 'smashes', 'down', 'location', ',', 'knocking', 'up', 'nearby', 'enemies', '.'] \n",
            "\n",
            "['Galio', 'moves', 'slower', 'charging', 'Shield', 'Durand', '.', 'Hero', \"'s\", 'Entrance', 'interrupted', 'Galio', 'jumps', 'air', '.', 'Galio', 'traverse', 'walls', 'Justice', 'Punch', '.', 'You', 'release', 'Shield', 'Durand', 'even', 'crowd', 'controlled', '.', 'You', 'use', 'minimap', 'ally', 'icons', 'cast', 'Hero', \"'s\", 'Entrance', '.', 'You', 'use', 'step', 'back', 'Justice', 'Punch', 'dodge', 'enemy', 'spells.Galio', 'fires', 'two', 'windblasts', 'converge', 'large', 'tornado', 'deals', 'damage', 'time.Galio', 'charges', 'defensive', 'stance', ',', 'moving', 'slowly', '.', 'Upon', 'releasing', 'charge', ',', 'Galio', 'taunt', 'damage', 'nearby', 'enemies.Galio', 'briefly', 'step', 'back', 'charge', ',', 'knocking', 'first', 'enemy', 'champion', 'encounters.Galio', 'designates', 'ally', \"'s\", 'position', 'landing', 'spot', ',', 'granting', 'allies', 'area', 'magic', 'shield', '.', 'After', 'delay', 'Galio', 'smashes', 'location', ',', 'knocking', 'nearby', 'enemies', '.']\n",
            "['Parrrley', 'deals', 'a', 'high', 'amount', 'of', 'physical', 'damage', '.', 'Items', 'that', 'grant', 'Armor', 'can', 'help', 'if', 'an', 'enemy', 'Gangplank', 'is', 'doing', 'well', '.', 'Once', 'Gangplank', 'reaches', 'level', '6', ',', 'watch', 'out', 'for', 'his', 'global-range', 'ultimate', ',', 'Cannon', 'Barrage', '!', 'Parrrley', 'applies', 'On', 'Hit', 'effects', 'like', 'Frozen', 'Mallet', 'or', 'Black', 'Cleaver', '.', 'Paying', 'attention', 'to', 'low-health', 'enemies', 'on', 'the', 'map', 'can', 'land', 'you', 'a', 'surprise', 'kill', 'with', 'Cannon', 'Barrage', '.', 'Try', 'placing', 'Cannon', 'Barrage', 'on', 'the', 'path', 'of', 'escape', 'to', 'cut', 'off', 'fleeing', 'enemies.Shoots', 'target', ',', 'plundering', 'Gold', 'for', 'each', 'enemy', 'unit', 'killed.Eats', 'citrus', 'to', 'cure', 'crowd', 'control', 'effects', 'and', 'restore', 'Health.Gangplank', 'uncovers', 'a', 'powder', 'keg', 'at', 'target', 'location', '.', 'If', 'he', 'attacks', 'it', ',', 'it', 'explodes', ',', 'spreading', 'the', 'attack', \"'s\", 'damage', 'to', 'enemies', 'in', 'the', 'area', ',', 'slowing', 'them.Gangplank', 'signals', 'his', 'ship', 'to', 'bombard', 'an', 'area', ',', 'slowing', 'and', 'damaging', 'enemies', '.'] \n",
            "\n",
            "['Parrrley', 'deals', 'high', 'amount', 'physical', 'damage', '.', 'Items', 'grant', 'Armor', 'help', 'enemy', 'Gangplank', 'well', '.', 'Once', 'Gangplank', 'reaches', 'level', '6', ',', 'watch', 'global-range', 'ultimate', ',', 'Cannon', 'Barrage', '!', 'Parrrley', 'applies', 'On', 'Hit', 'effects', 'like', 'Frozen', 'Mallet', 'Black', 'Cleaver', '.', 'Paying', 'attention', 'low-health', 'enemies', 'map', 'land', 'surprise', 'kill', 'Cannon', 'Barrage', '.', 'Try', 'placing', 'Cannon', 'Barrage', 'path', 'escape', 'cut', 'fleeing', 'enemies.Shoots', 'target', ',', 'plundering', 'Gold', 'enemy', 'unit', 'killed.Eats', 'citrus', 'cure', 'crowd', 'control', 'effects', 'restore', 'Health.Gangplank', 'uncovers', 'powder', 'keg', 'target', 'location', '.', 'If', 'attacks', ',', 'explodes', ',', 'spreading', 'attack', \"'s\", 'damage', 'enemies', 'area', ',', 'slowing', 'them.Gangplank', 'signals', 'ship', 'bombard', 'area', ',', 'slowing', 'damaging', 'enemies', '.']\n",
            "['Stack', 'armor', 'items', 'to', 'lower', 'the', 'large', 'amount', 'of', 'physical', 'damage', 'that', 'Garen', 'deals', 'out', '.', 'Try', 'to', 'run', 'away', 'from', 'Garen', 'as', 'your', 'health', 'gets', 'lower', ',', 'as', 'he', 'can', 'execute', 'you', 'quickly', 'with', 'Demacian', 'Justice', '.', 'Be', 'careful', 'about', 'attacking', 'Garen', 'in', 'brush', '.', 'It', 'often', 'will', 'lead', 'to', 'taking', 'full', 'damage', 'from', 'Judgment', '.', 'Judgment', 'deals', 'maximum', 'damage', 'when', 'only', 'hitting', 'a', 'single', 'target', '.', 'If', 'getting', 'out', 'of', 'its', 'radius', 'is', \"n't\", 'possible', ',', 'move', 'through', 'allied', 'minions', 'to', 'reduce', 'damage', 'taken', '.', 'Garen', \"'s\", 'regeneration', 'greatly', 'increases', 'if', 'he', 'can', 'avoid', 'receiving', 'damage', 'for', 'several', 'seconds', '.', 'Judgment', 'deals', 'maximum', 'damage', 'when', 'only', 'hitting', 'a', 'single', 'target', '.', 'For', 'effective', 'trading', ',', 'try', 'to', 'position', 'such', 'that', 'only', 'the', 'enemy', 'champion', 'is', 'hit', '.', 'Garen', 'is', 'only', 'constrained', 'by', 'cooldowns', ',', 'making', 'items', 'such', 'as', 'Black', 'Cleaver', 'very', 'effective', 'for', 'him.Garen', 'gains', 'a', 'burst', 'of', 'Move', 'Speed', ',', 'breaking', 'free', 'of', 'all', 'slows', 'affecting', 'him', '.', 'His', 'next', 'attack', 'strikes', 'a', 'vital', 'area', 'of', 'his', 'foe', ',', 'dealing', 'bonus', 'damage', 'and', 'silencing', 'them.Garen', 'passively', 'increases', 'his', 'armor', 'and', 'magic', 'resist', 'by', 'killing', 'enemies', '.', 'He', 'may', 'also', 'activate', 'this', 'ability', 'to', 'give', 'him', 'a', 'shield', 'and', 'tenacity', 'for', 'a', 'brief', 'moment', 'followed', 'by', 'a', 'lesser', 'amount', 'of', 'damage', 'reduction', 'for', 'a', 'longer', 'duration.Garen', 'rapidly', 'spins', 'his', 'sword', 'around', 'his', 'body', ',', 'dealing', 'physical', 'damage', 'to', 'nearby', 'enemies.Garen', 'calls', 'upon', 'the', 'might', 'of', 'Demacia', 'to', 'attempt', 'to', 'execute', 'an', 'enemy', 'champion', '.'] \n",
            "\n",
            "['Stack', 'armor', 'items', 'lower', 'large', 'amount', 'physical', 'damage', 'Garen', 'deals', '.', 'Try', 'run', 'away', 'Garen', 'health', 'gets', 'lower', ',', 'execute', 'quickly', 'Demacian', 'Justice', '.', 'Be', 'careful', 'attacking', 'Garen', 'brush', '.', 'It', 'often', 'lead', 'taking', 'full', 'damage', 'Judgment', '.', 'Judgment', 'deals', 'maximum', 'damage', 'hitting', 'single', 'target', '.', 'If', 'getting', 'radius', \"n't\", 'possible', ',', 'move', 'allied', 'minions', 'reduce', 'damage', 'taken', '.', 'Garen', \"'s\", 'regeneration', 'greatly', 'increases', 'avoid', 'receiving', 'damage', 'several', 'seconds', '.', 'Judgment', 'deals', 'maximum', 'damage', 'hitting', 'single', 'target', '.', 'For', 'effective', 'trading', ',', 'try', 'position', 'enemy', 'champion', 'hit', '.', 'Garen', 'constrained', 'cooldowns', ',', 'making', 'items', 'Black', 'Cleaver', 'effective', 'him.Garen', 'gains', 'burst', 'Move', 'Speed', ',', 'breaking', 'free', 'slows', 'affecting', '.', 'His', 'next', 'attack', 'strikes', 'vital', 'area', 'foe', ',', 'dealing', 'bonus', 'damage', 'silencing', 'them.Garen', 'passively', 'increases', 'armor', 'magic', 'resist', 'killing', 'enemies', '.', 'He', 'may', 'also', 'activate', 'ability', 'give', 'shield', 'tenacity', 'brief', 'moment', 'followed', 'lesser', 'amount', 'damage', 'reduction', 'longer', 'duration.Garen', 'rapidly', 'spins', 'sword', 'around', 'body', ',', 'dealing', 'physical', 'damage', 'nearby', 'enemies.Garen', 'calls', 'upon', 'might', 'Demacia', 'attempt', 'execute', 'enemy', 'champion', '.']\n",
            "['Gnar', 'ca', \"n't\", 'gain', 'Rage', 'for', '15', 'seconds', 'after', 'he', 'turns', 'from', 'big', 'to', 'little', '.', 'Use', 'this', 'chance', 'to', 'engage', 'on', 'his', 'team', '.', 'Gnar', \"'s\", 'animations', 'and', 'resource', 'bar', 'change', 'as', 'he', 'gets', 'closer', 'to', 'transforming', '.', 'Gnar', \"'s\", 'ultimate', 'stuns', 'if', 'he', 'hits', 'you', 'into', 'a', 'wall', '.', 'Be', 'careful', 'when', 'fighting', 'him', 'near', 'one', '.', 'Managing', 'your', 'Rage', 'is', 'very', 'important', '.', 'Try', 'to', 'time', 'out', 'your', 'transformations', 'so', 'you', 'can', 'get', 'maximum', 'benefit', 'from', 'both', 'forms', '.', 'Position', 'yourself', 'next', 'to', 'walls', 'to', 'bait', 'your', 'enemies', 'into', 'getting', 'stunned', 'by', 'your', 'ultimate', '.', 'Know', 'your', 'strengths', '!', 'Mini', 'Gnar', 'is', 'fast', ',', 'squishy', ',', 'and', 'has', 'high', 'sustained', 'damage', '.', 'Mega', 'Gnar', 'is', 'slow', ',', 'tough', ',', 'and', 'has', 'high', 'burst.Gnar', 'throws', 'a', 'boomerang', 'that', 'damages', 'and', 'slows', 'enemies', 'it', 'hits', 'before', 'returning', 'to', 'him', '.', 'If', 'he', 'catches', 'the', 'boomerang', 'its', 'cooldown', 'is', 'reduced.Mega', 'Gnar', 'instead', 'throws', 'a', 'boulder', 'that', 'stops', 'on', 'the', 'first', 'unit', 'hit', ',', 'damaging', 'and', 'slowing', 'everything', 'nearby', '.', 'It', 'can', 'then', 'be', 'picked', 'up', 'to', 'reduce', 'the', 'cooldown.Gnar', \"'s\", 'attacks', 'and', 'spells', 'hype', 'him', 'up', ',', 'dealing', 'bonus', 'damage', 'and', 'granting', 'him', 'Movement', 'Speed.Mega', 'Gnar', 'is', 'too', 'enraged', 'to', 'be', 'hyper', 'and', 'instead', 'can', 'rear', 'up', 'on', 'his', 'hind', 'legs', 'and', 'smash', 'down', 'on', 'the', 'area', 'in', 'front', 'of', 'him', ',', 'stunning', 'enemies', 'in', 'an', 'area.Gnar', 'leaps', 'to', 'a', 'location', 'and', 'bounces', 'off', 'the', 'head', 'of', 'any', 'unit', 'he', 'lands', 'on', ',', 'traveling', 'further.Mega', 'Gnar', 'is', 'too', 'large', 'to', 'bounce', 'and', 'instead', 'lands', 'with', 'earth-shattering', 'force', ',', 'dealing', 'damage', 'in', 'an', 'area', 'around', 'him.Mega', 'Gnar', 'throws', 'everything', 'around', 'him', 'in', 'a', 'chosen', 'direction', ',', 'dealing', 'damage', 'and', 'slowing', 'them', '.', 'Any', 'enemy', 'that', 'hits', 'a', 'wall', 'is', 'stunned', 'and', 'takes', 'bonus', 'damage', '.'] \n",
            "\n",
            "['Gnar', 'ca', \"n't\", 'gain', 'Rage', '15', 'seconds', 'turns', 'big', 'little', '.', 'Use', 'chance', 'engage', 'team', '.', 'Gnar', \"'s\", 'animations', 'resource', 'bar', 'change', 'gets', 'closer', 'transforming', '.', 'Gnar', \"'s\", 'ultimate', 'stuns', 'hits', 'wall', '.', 'Be', 'careful', 'fighting', 'near', 'one', '.', 'Managing', 'Rage', 'important', '.', 'Try', 'time', 'transformations', 'get', 'maximum', 'benefit', 'forms', '.', 'Position', 'next', 'walls', 'bait', 'enemies', 'getting', 'stunned', 'ultimate', '.', 'Know', 'strengths', '!', 'Mini', 'Gnar', 'fast', ',', 'squishy', ',', 'high', 'sustained', 'damage', '.', 'Mega', 'Gnar', 'slow', ',', 'tough', ',', 'high', 'burst.Gnar', 'throws', 'boomerang', 'damages', 'slows', 'enemies', 'hits', 'returning', '.', 'If', 'catches', 'boomerang', 'cooldown', 'reduced.Mega', 'Gnar', 'instead', 'throws', 'boulder', 'stops', 'first', 'unit', 'hit', ',', 'damaging', 'slowing', 'everything', 'nearby', '.', 'It', 'picked', 'reduce', 'cooldown.Gnar', \"'s\", 'attacks', 'spells', 'hype', ',', 'dealing', 'bonus', 'damage', 'granting', 'Movement', 'Speed.Mega', 'Gnar', 'enraged', 'hyper', 'instead', 'rear', 'hind', 'legs', 'smash', 'area', 'front', ',', 'stunning', 'enemies', 'area.Gnar', 'leaps', 'location', 'bounces', 'head', 'unit', 'lands', ',', 'traveling', 'further.Mega', 'Gnar', 'large', 'bounce', 'instead', 'lands', 'earth-shattering', 'force', ',', 'dealing', 'damage', 'area', 'around', 'him.Mega', 'Gnar', 'throws', 'everything', 'around', 'chosen', 'direction', ',', 'dealing', 'damage', 'slowing', '.', 'Any', 'enemy', 'hits', 'wall', 'stunned', 'takes', 'bonus', 'damage', '.']\n",
            "['Gragas', 'can', 'knock', 'everybody', 'away', 'with', 'his', 'ultimate', '.', 'Be', 'careful', 'that', 'you', 'do', \"n't\", 'get', 'knocked', 'into', 'him', 'or', ',', 'worse', ',', 'an', 'enemy', 'tower', '.', 'Body', 'Slam', 'is', 'on', 'a', 'very', 'low', 'cooldown', ',', 'making', 'it', 'difficult', 'to', 'pursue', 'Gragas', '.', 'Do', \"n't\", 'overextend', 'yourself', 'chasing', 'him', '.', 'The', 'damage', 'reduction', 'from', 'Drunken', 'Rage', 'is', 'applied', 'when', 'you', 'start', 'drinking', ',', 'try', 'to', 'use', 'it', 'when', 'you', 'see', 'damage', 'coming', 'your', 'way', '.', 'Try', 'to', 'knock', 'enemies', 'back', 'into', 'your', 'towers', 'with', 'Explosive', 'Cask', '.', 'Try', 'to', 'combo', 'Body', 'Slam', 'with', 'Explosive', 'Cask', 'to', 'set', 'up', 'kills', 'for', 'your', 'team.Gragas', 'rolls', 'his', 'cask', 'to', 'a', 'location', ',', 'which', 'can', 'be', 'activated', 'to', 'explode', 'or', 'will', 'explode', 'on', 'its', 'own', 'after', '4', 'seconds', '.', 'The', 'potency', 'of', 'the', 'explosion', 'increases', 'over', 'time', '.', 'Enemies', 'struck', 'by', 'the', 'blast', 'have', 'their', 'Move', 'Speed', 'slowed.Gragas', 'guzzles', 'down', 'brew', 'from', 'his', 'cask', 'for', '1', 'second', '.', 'After', 'finishing', ',', 'he', 'becomes', 'drunkenly', 'empowered', ',', 'dealing', 'magic', 'damage', 'to', 'all', 'nearby', 'enemies', 'on', 'his', 'next', 'basic', 'attack', 'and', 'reducing', 'damage', 'received.Gragas', 'charges', 'to', 'a', 'location', 'and', 'collides', 'with', 'the', 'first', 'enemy', 'unit', 'he', 'comes', 'across', ',', 'dealing', 'damage', 'to', 'all', 'nearby', 'enemy', 'units', 'and', 'stunning', 'them.Gragas', 'hurls', 'his', 'cask', 'to', 'a', 'location', ',', 'dealing', 'damage', 'and', 'knocking', 'back', 'enemies', 'caught', 'in', 'the', 'blast', 'radius', '.'] \n",
            "\n",
            "['Gragas', 'knock', 'everybody', 'away', 'ultimate', '.', 'Be', 'careful', \"n't\", 'get', 'knocked', ',', 'worse', ',', 'enemy', 'tower', '.', 'Body', 'Slam', 'low', 'cooldown', ',', 'making', 'difficult', 'pursue', 'Gragas', '.', 'Do', \"n't\", 'overextend', 'chasing', '.', 'The', 'damage', 'reduction', 'Drunken', 'Rage', 'applied', 'start', 'drinking', ',', 'try', 'use', 'see', 'damage', 'coming', 'way', '.', 'Try', 'knock', 'enemies', 'back', 'towers', 'Explosive', 'Cask', '.', 'Try', 'combo', 'Body', 'Slam', 'Explosive', 'Cask', 'set', 'kills', 'team.Gragas', 'rolls', 'cask', 'location', ',', 'activated', 'explode', 'explode', '4', 'seconds', '.', 'The', 'potency', 'explosion', 'increases', 'time', '.', 'Enemies', 'struck', 'blast', 'Move', 'Speed', 'slowed.Gragas', 'guzzles', 'brew', 'cask', '1', 'second', '.', 'After', 'finishing', ',', 'becomes', 'drunkenly', 'empowered', ',', 'dealing', 'magic', 'damage', 'nearby', 'enemies', 'next', 'basic', 'attack', 'reducing', 'damage', 'received.Gragas', 'charges', 'location', 'collides', 'first', 'enemy', 'unit', 'comes', 'across', ',', 'dealing', 'damage', 'nearby', 'enemy', 'units', 'stunning', 'them.Gragas', 'hurls', 'cask', 'location', ',', 'dealing', 'damage', 'knocking', 'back', 'enemies', 'caught', 'blast', 'radius', '.']\n",
            "['Graves', 'deals', 'mostly', 'physical', 'damage', 'so', 'Armor', 'is', 'an', 'effective', 'counter', '.', 'Leaving', 'the', 'Smoke', 'Screen', \"'s\", 'area', 'of', 'effect', 'removes', 'the', 'harmful', 'effect', 'immediately', '.', 'Smoke', 'Screen', 'can', 'be', 'used', 'both', 'to', 'escape', 'and', 'to', 'set', 'up', 'a', 'kill', '.', 'Using', 'Quickdraw', 'to', 'get', 'into', 'range', 'and', 'delivering', 'a', 'point', 'blank', 'Buckshot', 'can', 'do', 'lots', 'of', 'damage.Graves', 'fires', 'an', 'explosive', 'shell', 'that', 'detonates', 'after', '2', 'seconds', ',', 'or', '0.2', 'seconds', 'if', 'it', 'strikes', 'terrain.Graves', 'fires', 'a', 'smoke', 'canister', 'at', 'the', 'target', 'area', 'creating', 'a', 'cloud', 'of', 'smoke', 'that', 'reduces', 'sight', 'range', '.', 'Enemies', 'caught', 'in', 'the', 'initial', 'impact', 'are', 'dealt', 'magic', 'damage', 'and', 'have', 'their', 'movement', 'speed', 'reduced', 'briefly.Graves', 'dashes', 'forward', 'gaining', 'an', 'Armor', 'boost', 'for', 'several', 'seconds', '.', 'If', 'Graves', 'dashes', 'towards', 'an', 'enemy', 'champion', ',', 'gain', 'two', 'stacks', 'of', 'True', 'Grit', 'instead', '.', 'Hitting', 'enemies', 'with', 'basic', 'attacks', 'lowers', 'the', 'cooldown', 'of', 'this', 'skill', 'and', 'refreshes', 'the', 'resistance', 'boost.Graves', 'fires', 'an', 'explosive', 'shell', 'dealing', 'heavy', 'damage', 'to', 'the', 'first', 'champion', 'it', 'hits', '.', 'After', 'hitting', 'a', 'champion', 'or', 'reaching', 'the', 'end', 'of', 'its', 'range', ',', 'the', 'shell', 'explodes', 'dealing', 'damage', 'in', 'a', 'cone', '.'] \n",
            "\n",
            "['Graves', 'deals', 'mostly', 'physical', 'damage', 'Armor', 'effective', 'counter', '.', 'Leaving', 'Smoke', 'Screen', \"'s\", 'area', 'effect', 'removes', 'harmful', 'effect', 'immediately', '.', 'Smoke', 'Screen', 'used', 'escape', 'set', 'kill', '.', 'Using', 'Quickdraw', 'get', 'range', 'delivering', 'point', 'blank', 'Buckshot', 'lots', 'damage.Graves', 'fires', 'explosive', 'shell', 'detonates', '2', 'seconds', ',', '0.2', 'seconds', 'strikes', 'terrain.Graves', 'fires', 'smoke', 'canister', 'target', 'area', 'creating', 'cloud', 'smoke', 'reduces', 'sight', 'range', '.', 'Enemies', 'caught', 'initial', 'impact', 'dealt', 'magic', 'damage', 'movement', 'speed', 'reduced', 'briefly.Graves', 'dashes', 'forward', 'gaining', 'Armor', 'boost', 'several', 'seconds', '.', 'If', 'Graves', 'dashes', 'towards', 'enemy', 'champion', ',', 'gain', 'two', 'stacks', 'True', 'Grit', 'instead', '.', 'Hitting', 'enemies', 'basic', 'attacks', 'lowers', 'cooldown', 'skill', 'refreshes', 'resistance', 'boost.Graves', 'fires', 'explosive', 'shell', 'dealing', 'heavy', 'damage', 'first', 'champion', 'hits', '.', 'After', 'hitting', 'champion', 'reaching', 'end', 'range', ',', 'shell', 'explodes', 'dealing', 'damage', 'cone', '.']\n",
            "['Gwen', \"'s\", 'Hallowed', 'Mist', 'shroud', 'will', 'only', 'follow', 'her', 'once', ',', 'after', 'that', 'it', 'will', 'dissipate', 'when', 'she', 'leaves', '.', 'Gwen', 'must', 'hit', 'something', 'to', 'recast', 'her', 'Ultimate', ',', 'try', 'to', 'evade', 'her', 'between', 'casts', '.', 'Gwen', 'needs', 'to', 'attack', 'a', 'few', 'times', 'to', 'set', 'up', 'her', 'damage', ',', 'so', 'try', 'to', 'get', 'the', 'jump', 'on', 'her', '.', 'Always', 'be', 'Attacking', '-', 'In', 'addition', 'to', 'dealing', 'bonus', 'damage', ',', 'Gwen', \"'s\", 'Attacks', 'empower', 'or', 'reset', 'many', 'of', 'her', 'Abilities', '.', 'Gwen', 'can', 'still', 'damage', 'enemies', 'outside', 'her', 'Hallowed', 'Mists', ',', 'especially', 'with', 'her', 'Ultimate', \"'s\", 'range', '.', 'Some', 'of', 'Gwen', \"'s\", 'Abilities', 'can', 'apply', 'her', 'passive', 'to', 'multiple', 'enemies', ',', 'so', 'aim', 'them', 'at', 'groups', 'to', 'get', 'maximum', 'damage', 'and', 'healing.Gwen', 'snips', 'her', 'scissors', 'in', 'a', 'cone', 'up', 'to', '6', 'times', 'dealing', 'magic', 'damage', '.', 'Gwen', 'deals', 'true', 'damage', 'to', 'units', 'in', 'the', 'center', 'and', 'applies', 'her', 'passive', 'to', 'them', 'on', 'each', 'snip.Gwen', 'summons', 'mist', 'that', 'protects', 'her', 'from', 'enemies', 'outside', 'of', 'it', '.', 'She', 'can', 'only', 'be', 'targeted', 'by', 'enemies', 'who', 'enter', 'the', 'mist.Gwen', 'dashes', 'a', 'short', 'distance', 'then', 'gains', 'Attack', 'Speed', ',', 'attack', 'range', ',', 'and', 'magic', 'damage', 'On-Hit', 'for', 'a', 'few', 'seconds', '.', 'If', 'she', 'hits', 'an', 'enemy', 'during', 'that', 'time', ',', 'this', 'Ability', \"'s\", 'cooldown', 'is', 'partially', 'refunded', '.', 'Gwen', 'hurls', 'a', 'needle', 'that', 'slows', 'enemies', 'hit', ',', 'deals', 'magic', 'damage', ',', 'and', 'applies', 'A', 'Thousand', 'Cuts', 'to', 'champions', 'hit', '.', 'This', 'ability', 'can', 'be', 'cast', 'up', 'to', 'two', 'more', 'times', ',', 'with', 'each', 'cast', 'throwing', 'additional', 'needles', 'and', 'dealing', 'more', 'damage', '.', 'Gwen', 'must', 'hit', 'an', 'enemy', 'between', 'each', 'cast', 'to', 'unlock', 'the', 'next', 'one', '.'] \n",
            "\n",
            "['Gwen', \"'s\", 'Hallowed', 'Mist', 'shroud', 'follow', ',', 'dissipate', 'leaves', '.', 'Gwen', 'must', 'hit', 'something', 'recast', 'Ultimate', ',', 'try', 'evade', 'casts', '.', 'Gwen', 'needs', 'attack', 'times', 'set', 'damage', ',', 'try', 'get', 'jump', '.', 'Always', 'Attacking', '-', 'In', 'addition', 'dealing', 'bonus', 'damage', ',', 'Gwen', \"'s\", 'Attacks', 'empower', 'reset', 'many', 'Abilities', '.', 'Gwen', 'still', 'damage', 'enemies', 'outside', 'Hallowed', 'Mists', ',', 'especially', 'Ultimate', \"'s\", 'range', '.', 'Some', 'Gwen', \"'s\", 'Abilities', 'apply', 'passive', 'multiple', 'enemies', ',', 'aim', 'groups', 'get', 'maximum', 'damage', 'healing.Gwen', 'snips', 'scissors', 'cone', '6', 'times', 'dealing', 'magic', 'damage', '.', 'Gwen', 'deals', 'true', 'damage', 'units', 'center', 'applies', 'passive', 'snip.Gwen', 'summons', 'mist', 'protects', 'enemies', 'outside', '.', 'She', 'targeted', 'enemies', 'enter', 'mist.Gwen', 'dashes', 'short', 'distance', 'gains', 'Attack', 'Speed', ',', 'attack', 'range', ',', 'magic', 'damage', 'On-Hit', 'seconds', '.', 'If', 'hits', 'enemy', 'time', ',', 'Ability', \"'s\", 'cooldown', 'partially', 'refunded', '.', 'Gwen', 'hurls', 'needle', 'slows', 'enemies', 'hit', ',', 'deals', 'magic', 'damage', ',', 'applies', 'A', 'Thousand', 'Cuts', 'champions', 'hit', '.', 'This', 'ability', 'cast', 'two', 'times', ',', 'cast', 'throwing', 'additional', 'needles', 'dealing', 'damage', '.', 'Gwen', 'must', 'hit', 'enemy', 'cast', 'unlock', 'next', 'one', '.']\n",
            "['Hecarim', 'gains', 'life', 'from', 'nearby', 'enemies', 'with', 'Spirit', 'of', 'Dread', 'but', 'lacks', 'durability', ',', 'use', 'burst', 'damage', '.', 'Hecarim', \"'s\", 'ultimate', 'causes', 'opponents', 'to', 'flee', 'in', 'terror', '.', 'Spread', 'out', 'to', 'reduce', 'his', 'power', 'in', 'fights', '.', 'Spirit', 'of', 'Dread', 'restores', 'Health', 'when', 'nearby', 'enemies', 'take', 'damage', ',', 'including', 'damage', 'dealt', 'by', 'allies', '.', 'Cast', 'this', 'during', 'a', 'large', 'fight', 'to', 'maximize', 'Hecarim', \"'s\", 'survivability', '.', 'Devastating', 'Charge', 'deals', 'more', 'damage', 'based', 'on', 'the', 'distance', 'traveled', '.', 'Try', 'using', 'Onslaught', 'of', 'Shadows', 'or', 'Summoner', 'Spells', 'such', 'as', 'Ghost', 'or', 'Flash', 'to', 'maximize', 'this', 'damage.Hecarim', 'cleaves', 'nearby', 'enemies', 'dealing', 'physical', 'damage', '.', 'If', 'Hecarim', 'damages', 'at', 'least', 'one', 'enemy', ',', 'he', 'increases', 'the', 'damage', 'and', 'lowers', 'the', 'cooldown', 'of', 'subsequent', 'Rampages.Hecarim', 'deals', 'magic', 'damage', 'to', 'nearby', 'enemies', 'for', 'a', 'short', 'duration', '.', 'Hecarim', 'gains', 'Health', 'equal', 'to', 'a', 'percentage', 'of', 'any', 'damage', 'those', 'enemies', 'suffer.Hecarim', 'gains', 'increasing', 'Move', 'Speed', 'and', 'can', 'move', 'through', 'units', 'for', 'a', 'short', 'duration', '.', 'His', 'next', 'attack', 'knocks', 'the', 'target', 'back', 'and', 'deals', 'additional', 'physical', 'damage', 'based', 'on', 'the', 'distance', 'he', 'has', 'traveled', 'since', 'activating', 'the', 'ability.Hecarim', 'summons', 'spectral', 'riders', 'and', 'charges', 'forward', ',', 'dealing', 'magic', 'damage', 'in', 'a', 'line', '.', 'Hecarim', 'creates', 'a', 'shockwave', 'when', 'he', 'finishes', 'his', 'charge', ',', 'causing', 'nearby', 'enemies', 'to', 'flee', 'in', 'terror', '.'] \n",
            "\n",
            "['Hecarim', 'gains', 'life', 'nearby', 'enemies', 'Spirit', 'Dread', 'lacks', 'durability', ',', 'use', 'burst', 'damage', '.', 'Hecarim', \"'s\", 'ultimate', 'causes', 'opponents', 'flee', 'terror', '.', 'Spread', 'reduce', 'power', 'fights', '.', 'Spirit', 'Dread', 'restores', 'Health', 'nearby', 'enemies', 'take', 'damage', ',', 'including', 'damage', 'dealt', 'allies', '.', 'Cast', 'large', 'fight', 'maximize', 'Hecarim', \"'s\", 'survivability', '.', 'Devastating', 'Charge', 'deals', 'damage', 'based', 'distance', 'traveled', '.', 'Try', 'using', 'Onslaught', 'Shadows', 'Summoner', 'Spells', 'Ghost', 'Flash', 'maximize', 'damage.Hecarim', 'cleaves', 'nearby', 'enemies', 'dealing', 'physical', 'damage', '.', 'If', 'Hecarim', 'damages', 'least', 'one', 'enemy', ',', 'increases', 'damage', 'lowers', 'cooldown', 'subsequent', 'Rampages.Hecarim', 'deals', 'magic', 'damage', 'nearby', 'enemies', 'short', 'duration', '.', 'Hecarim', 'gains', 'Health', 'equal', 'percentage', 'damage', 'enemies', 'suffer.Hecarim', 'gains', 'increasing', 'Move', 'Speed', 'move', 'units', 'short', 'duration', '.', 'His', 'next', 'attack', 'knocks', 'target', 'back', 'deals', 'additional', 'physical', 'damage', 'based', 'distance', 'traveled', 'since', 'activating', 'ability.Hecarim', 'summons', 'spectral', 'riders', 'charges', 'forward', ',', 'dealing', 'magic', 'damage', 'line', '.', 'Hecarim', 'creates', 'shockwave', 'finishes', 'charge', ',', 'causing', 'nearby', 'enemies', 'flee', 'terror', '.']\n",
            "['It', \"'s\", 'better', 'to', 'destroy', 'all', 'of', 'Heimerdinger', \"'s\", 'turrets', 'at', 'once', 'with', 'the', 'help', 'of', 'creeps', 'than', 'to', 'fight', 'them', 'one', 'at', 'a', 'time', '.', 'Be', 'wary', 'of', 'Heimerdinger', \"'s\", 'Upgrade', '!', '!', '!', ',', 'as', 'he', 'can', 'use', 'it', 'to', 'find', 'an', 'answer', 'to', 'most', 'trouble', 'he', 'gets', 'into', '.', 'Once', 'his', 'ultimate', 'is', 'down', ',', 'go', 'in', 'for', 'the', 'kill', '!', 'Turret', 'placement', 'can', 'be', 'a', 'deciding', 'factor', 'in', 'a', 'battle', '.', 'Against', 'most', 'enemies', 'turrets', 'are', 'best', 'when', 'they', 'can', 'support', 'each', 'other', ',', 'but', 'if', 'the', 'enemy', 'has', 'a', 'lot', 'of', 'area', 'of', 'effect', 'damage', 'your', 'turrets', 'can', 'be', 'destroyed', 'quickly', '.', 'Placing', 'turrets', 'in', 'brush', 'can', 'lead', 'to', 'a', 'surprise', 'attack', 'in', 'your', 'favor', '.', 'The', 'success', 'of', 'Electron', 'Storm', 'Grenade', 'is', 'very', 'important', 'to', 'Heimerdinger', \"'s\", 'survival', '.', 'The', 'slow', 'and', 'stun', 'both', 'are', 'capable', 'of', 'keeping', 'enemies', 'in', 'place', 'long', 'enough', 'to', 'punish', 'them', ',', 'but', 'it', 'is', 'also', 'the', 'first', 'line', 'of', 'defense', 'against', 'a', 'surprise', 'attack', '.', 'Spreading', 'out', 'Hextech', 'Micro-Rockets', 'leads', 'to', 'more', 'reliable', 'damage', 'and', 'more', 'efficiency', 'against', 'multiple', 'targets', ',', 'but', 'focusing', 'it', 'creates', 'the', 'biggest', 'impact.Heimerdinger', 'lays', 'down', 'a', 'rapid-fire', 'cannon', 'turret', 'equipped', 'with', 'a', 'secondary', 'pass-through', 'beam', 'attack', '(', 'turrets', 'deal', 'half', 'damage', 'to', 'towers', ')', '.Heimerdinger', 'fires', 'long-range', 'rockets', 'that', 'converge', 'on', 'his', 'cursor.Heimerdinger', 'lobs', 'a', 'grenade', 'at', 'a', 'location', ',', 'dealing', 'damage', 'to', 'enemy', 'units', ',', 'as', 'well', 'as', 'stunning', 'anyone', 'directly', 'hit', 'and', 'slowing', 'surrounding', 'units.Heimerdinger', 'invents', 'an', 'upgrade', ',', 'causing', 'his', 'next', 'spell', 'to', 'have', 'increased', 'effects', '.'] \n",
            "\n",
            "['It', \"'s\", 'better', 'destroy', 'Heimerdinger', \"'s\", 'turrets', 'help', 'creeps', 'fight', 'one', 'time', '.', 'Be', 'wary', 'Heimerdinger', \"'s\", 'Upgrade', '!', '!', '!', ',', 'use', 'find', 'answer', 'trouble', 'gets', '.', 'Once', 'ultimate', ',', 'go', 'kill', '!', 'Turret', 'placement', 'deciding', 'factor', 'battle', '.', 'Against', 'enemies', 'turrets', 'best', 'support', ',', 'enemy', 'lot', 'area', 'effect', 'damage', 'turrets', 'destroyed', 'quickly', '.', 'Placing', 'turrets', 'brush', 'lead', 'surprise', 'attack', 'favor', '.', 'The', 'success', 'Electron', 'Storm', 'Grenade', 'important', 'Heimerdinger', \"'s\", 'survival', '.', 'The', 'slow', 'stun', 'capable', 'keeping', 'enemies', 'place', 'long', 'enough', 'punish', ',', 'also', 'first', 'line', 'defense', 'surprise', 'attack', '.', 'Spreading', 'Hextech', 'Micro-Rockets', 'leads', 'reliable', 'damage', 'efficiency', 'multiple', 'targets', ',', 'focusing', 'creates', 'biggest', 'impact.Heimerdinger', 'lays', 'rapid-fire', 'cannon', 'turret', 'equipped', 'secondary', 'pass-through', 'beam', 'attack', '(', 'turrets', 'deal', 'half', 'damage', 'towers', ')', '.Heimerdinger', 'fires', 'long-range', 'rockets', 'converge', 'cursor.Heimerdinger', 'lobs', 'grenade', 'location', ',', 'dealing', 'damage', 'enemy', 'units', ',', 'well', 'stunning', 'anyone', 'directly', 'hit', 'slowing', 'surrounding', 'units.Heimerdinger', 'invents', 'upgrade', ',', 'causing', 'next', 'spell', 'increased', 'effects', '.']\n",
            "['Killing', 'Tentacles', 'whenever', 'possible', 'will', 'make', 'it', 'much', 'easier', 'to', 'win', 'a', 'fight', 'against', 'Illaoi', '.', 'When', 'your', 'spirit', 'gets', 'pulled', 'out', ',', 'fight', 'back', 'if', 'you', 'can', '.', 'Dealing', 'damage', 'to', 'Illaoi', 'reduces', 'the', 'spirit', \"'s\", 'duration', '.', 'Avoid', 'grouping', 'up', 'for', 'Leap', 'of', 'Faith', 'to', 'reduce', 'the', 'number', 'of', 'Tentacles', 'available', 'to', 'Illaoi', '.', 'Tentacles', 'are', 'an', 'immense', 'source', 'of', 'power', '.', 'Do', \"n't\", 'fight', 'without', 'them', '.', 'Spirits', 'inherit', 'their', 'target', \"'s\", 'current', 'health', '.', 'If', 'making', 'a', 'Vessel', 'is', 'your', 'goal', ',', 'try', 'whittling', 'your', 'opponent', \"'s\", 'health', 'down', 'a', 'bit', 'first', 'to', 'make', 'killing', 'the', 'spirit', 'easier', '.', 'Leap', 'of', 'Faith', 'is', 'best', 'used', 'to', 'follow-up', 'a', 'strong', 'engage', 'or', 'when', 'being', 'engaged', 'upon', '.', 'Be', 'careful', 'about', 'being', 'the', 'first', 'one', 'into', 'a', 'fight.Increases', 'the', 'damage', 'dealt', 'by', 'Tentacles', '.', 'When', 'activated', ',', 'Illaoi', 'smashes', 'down', 'a', 'Tentacle', 'that', 'deals', 'physical', 'damage.Illaoi', 'leaps', 'to', 'her', 'target', ',', 'dealing', 'physical', 'damage', 'and', 'causing', 'nearby', 'Tentacles', 'to', 'also', 'swing', 'at', 'the', 'target.Illaoi', 'rips', 'the', 'spirit', 'from', 'a', 'foe', \"'s\", 'body', ',', 'forcing', 'it', 'to', 'stand', 'before', 'her', '.', 'Spirits', 'echo', 'a', 'percentage', 'of', 'the', 'damage', 'they', 'take', 'to', 'the', 'original', 'target', '.', 'If', 'killed', ',', 'or', 'if', 'the', 'target', 'gets', 'too', 'far', 'from', 'the', 'spirit', ',', 'the', 'target', 'will', 'become', 'a', 'Vessel', 'and', 'begin', 'spawning', 'Tentacles.Illaoi', 'smashes', 'her', 'idol', 'into', 'the', 'ground', ',', 'dealing', 'physical', 'damage', 'to', 'nearby', 'enemies', '.', 'A', 'Tentacle', 'spawns', 'for', 'each', 'enemy', 'champion', 'hit', '.'] \n",
            "\n",
            "['Killing', 'Tentacles', 'whenever', 'possible', 'make', 'much', 'easier', 'win', 'fight', 'Illaoi', '.', 'When', 'spirit', 'gets', 'pulled', ',', 'fight', 'back', '.', 'Dealing', 'damage', 'Illaoi', 'reduces', 'spirit', \"'s\", 'duration', '.', 'Avoid', 'grouping', 'Leap', 'Faith', 'reduce', 'number', 'Tentacles', 'available', 'Illaoi', '.', 'Tentacles', 'immense', 'source', 'power', '.', 'Do', \"n't\", 'fight', 'without', '.', 'Spirits', 'inherit', 'target', \"'s\", 'current', 'health', '.', 'If', 'making', 'Vessel', 'goal', ',', 'try', 'whittling', 'opponent', \"'s\", 'health', 'bit', 'first', 'make', 'killing', 'spirit', 'easier', '.', 'Leap', 'Faith', 'best', 'used', 'follow-up', 'strong', 'engage', 'engaged', 'upon', '.', 'Be', 'careful', 'first', 'one', 'fight.Increases', 'damage', 'dealt', 'Tentacles', '.', 'When', 'activated', ',', 'Illaoi', 'smashes', 'Tentacle', 'deals', 'physical', 'damage.Illaoi', 'leaps', 'target', ',', 'dealing', 'physical', 'damage', 'causing', 'nearby', 'Tentacles', 'also', 'swing', 'target.Illaoi', 'rips', 'spirit', 'foe', \"'s\", 'body', ',', 'forcing', 'stand', '.', 'Spirits', 'echo', 'percentage', 'damage', 'take', 'original', 'target', '.', 'If', 'killed', ',', 'target', 'gets', 'far', 'spirit', ',', 'target', 'become', 'Vessel', 'begin', 'spawning', 'Tentacles.Illaoi', 'smashes', 'idol', 'ground', ',', 'dealing', 'physical', 'damage', 'nearby', 'enemies', '.', 'A', 'Tentacle', 'spawns', 'enemy', 'champion', 'hit', '.']\n",
            "['Pay', 'attention', 'to', 'Ionian', 'Fervor', 'stacks', 'and', 'try', 'to', 'engage', 'Irelia', 'when', 'it', 'is', 'down', '.', 'Minion', 'waves', 'greatly', 'enhance', 'Irelia', \"'s\", 'mobility', ',', 'beware', 'fighting', 'her', 'inside', 'one', '.', 'Beware', 'of', 'wasting', 'your', 'high', 'impact', 'spells', 'on', 'Defiant', 'Dance', '.', 'Use', 'Bladesurge', 'to', 'cover', 'great', 'distances', 'by', 'targeting', 'low', 'life', 'minions', 'on', 'your', 'way', 'to', 'champion', 'targets', '.', 'Defiant', 'Dance', 'is', 'not', 'interrupted', 'by', 'crowd', 'control', ',', 'try', 'timing', 'it', 'for', 'incoming', 'disables', '.', 'Flawless', 'Duet', 'does', 'not', 'have', 'a', 'maximum', 'travel', 'distance', ',', 'try', 'using', 'it', 'in', 'creative', 'ways.Irelia', 'dashes', 'forward', 'to', 'strike', 'her', 'target', ',', 'healing', 'herself', '.', 'If', 'the', 'target', 'is', 'Marked', 'or', 'dies', 'to', 'Bladesurge', ',', 'its', 'cooldown', 'refreshes.Irelia', 'charges', 'a', 'strike', 'that', 'deals', 'more', 'damage', 'as', 'she', 'charges', '.', 'She', 'takes', 'reduced', 'physical', 'damage', 'during', 'the', 'charge.Irelia', 'sends', 'out', 'two', 'blades', 'which', 'converge', 'on', 'each', 'other', '.', 'Enemies', 'caught', 'in', 'between', 'are', 'damaged', ',', 'stunned', 'and', 'Marked.Irelia', 'fires', 'a', 'massive', 'number', 'of', 'blades', 'that', 'explode', 'outward', 'upon', 'hitting', 'an', 'enemy', 'champion', '.', 'Enemies', 'hit', 'by', 'the', 'blades', 'are', 'damaged', 'and', 'Marked', '.', 'Afterwards', 'the', 'blades', 'form', 'a', 'wall', 'that', 'will', 'damage', 'and', 'slow', 'enemies', 'that', 'walk', 'through', 'it', '.'] \n",
            "\n",
            "['Pay', 'attention', 'Ionian', 'Fervor', 'stacks', 'try', 'engage', 'Irelia', '.', 'Minion', 'waves', 'greatly', 'enhance', 'Irelia', \"'s\", 'mobility', ',', 'beware', 'fighting', 'inside', 'one', '.', 'Beware', 'wasting', 'high', 'impact', 'spells', 'Defiant', 'Dance', '.', 'Use', 'Bladesurge', 'cover', 'great', 'distances', 'targeting', 'low', 'life', 'minions', 'way', 'champion', 'targets', '.', 'Defiant', 'Dance', 'interrupted', 'crowd', 'control', ',', 'try', 'timing', 'incoming', 'disables', '.', 'Flawless', 'Duet', 'maximum', 'travel', 'distance', ',', 'try', 'using', 'creative', 'ways.Irelia', 'dashes', 'forward', 'strike', 'target', ',', 'healing', '.', 'If', 'target', 'Marked', 'dies', 'Bladesurge', ',', 'cooldown', 'refreshes.Irelia', 'charges', 'strike', 'deals', 'damage', 'charges', '.', 'She', 'takes', 'reduced', 'physical', 'damage', 'charge.Irelia', 'sends', 'two', 'blades', 'converge', '.', 'Enemies', 'caught', 'damaged', ',', 'stunned', 'Marked.Irelia', 'fires', 'massive', 'number', 'blades', 'explode', 'outward', 'upon', 'hitting', 'enemy', 'champion', '.', 'Enemies', 'hit', 'blades', 'damaged', 'Marked', '.', 'Afterwards', 'blades', 'form', 'wall', 'damage', 'slow', 'enemies', 'walk', '.']\n",
            "['Ivern', 'can', 'be', 'deceptively', 'slippery', '.', 'Be', 'careful', 'chasing', 'him', 'too', 'far', '.', 'Ivern', \"'s\", 'brush', 'has', 'a', 'long', 'duration', '.', 'Watch', 'out', 'for', 'ambushes', '!', 'Be', 'careful', 'when', 'fighting', 'Ivern', 'alone', 'if', 'he', 'has', 'Daisy', 'ready', 'to', 'help', '!', 'Try', 'to', 'help', 'allies', 'follow', 'up', 'a', 'good', 'Rootcaller', 'hit', 'with', 'Triggerseed', '!', 'Use', 'Brushmaker', 'to', 'set', 'up', 'future', 'ambush', 'spots', '!', 'Daisy', 'can', 'block', 'skillshots', 'and', 'slow', 'down', 'enemies', '.', 'Use', 'her', 'to', 'peel', 'for', 'your', 'teammates', '!', 'Ivern', 'conjures', 'a', 'vine', ',', 'dealing', 'damage', 'and', 'rooting', 'enemy', 'targets', 'hit', '.', 'Ivern', \"'s\", 'allies', 'can', 'dash', 'to', 'the', 'rooted', 'target.In', 'brush', ',', 'Ivern', \"'s\", 'attacks', 'deal', 'bonus', 'magic', 'damage', '.', 'Ivern', 'can', 'activate', 'this', 'ability', 'to', 'create', 'a', 'patch', 'of', 'brush.Ivern', 'places', 'a', 'shield', 'on', 'an', 'ally', 'which', 'explodes', 'after', 'a', 'short', 'duration', 'slowing', 'and', 'damaging', 'enemies.Ivern', 'summons', 'his', 'Sentinel', 'friend', 'Daisy', 'to', 'fight', 'with', 'him', '.', 'Daisy', 'will', 'send', 'out', 'a', 'shockwave', 'if', 'she', 'attacks', 'the', 'same', 'champion', 'three', 'times', 'in', 'a', 'row', '.'] \n",
            "\n",
            "['Ivern', 'deceptively', 'slippery', '.', 'Be', 'careful', 'chasing', 'far', '.', 'Ivern', \"'s\", 'brush', 'long', 'duration', '.', 'Watch', 'ambushes', '!', 'Be', 'careful', 'fighting', 'Ivern', 'alone', 'Daisy', 'ready', 'help', '!', 'Try', 'help', 'allies', 'follow', 'good', 'Rootcaller', 'hit', 'Triggerseed', '!', 'Use', 'Brushmaker', 'set', 'future', 'ambush', 'spots', '!', 'Daisy', 'block', 'skillshots', 'slow', 'enemies', '.', 'Use', 'peel', 'teammates', '!', 'Ivern', 'conjures', 'vine', ',', 'dealing', 'damage', 'rooting', 'enemy', 'targets', 'hit', '.', 'Ivern', \"'s\", 'allies', 'dash', 'rooted', 'target.In', 'brush', ',', 'Ivern', \"'s\", 'attacks', 'deal', 'bonus', 'magic', 'damage', '.', 'Ivern', 'activate', 'ability', 'create', 'patch', 'brush.Ivern', 'places', 'shield', 'ally', 'explodes', 'short', 'duration', 'slowing', 'damaging', 'enemies.Ivern', 'summons', 'Sentinel', 'friend', 'Daisy', 'fight', '.', 'Daisy', 'send', 'shockwave', 'attacks', 'champion', 'three', 'times', 'row', '.']\n",
            "['Save', 'an', 'interrupt', 'ability', 'for', 'when', 'Janna', 'uses', 'her', 'ultimate', '.', 'Listen', 'for', 'the', 'charge', 'up', 'sound', 'on', 'Howling', 'Gale', 'in', 'case', 'Janna', 'is', 'trying', 'to', 'hit', 'you', 'with', 'it', 'from', 'off', 'screen', 'or', 'from', 'brush', '.', 'Janna', \"'s\", 'at', 'her', 'strongest', 'when', 'buffing', 'another', 'ally', '.', 'If', 'you', 'can', 'harass', 'her', 'ally', ',', 'it', 'will', 'weaken', 'her', 'ability', 'to', 'fight', 'you', '.', 'Eye', 'of', 'the', 'Storm', 'can', 'be', 'used', 'on', 'allied', 'turrets', '.', 'Quickly', 'firing', 'a', 'Howling', 'Gale', 'without', 'the', 'charge', 'up', 'can', 'be', 'used', 'to', 'heavily', 'disable', 'the', 'other', 'team', '.', 'Timing', 'Janna', \"'s\", 'ultimate', 'can', 'push', 'enemies', 'away', 'from', 'a', 'wounded', 'ally', 'or', 'even', 'separate', 'enemies.By', 'creating', 'a', 'localized', 'change', 'in', 'pressure', 'and', 'temperature', ',', 'Janna', 'is', 'able', 'to', 'create', 'a', 'small', 'storm', 'that', 'grows', 'in', 'size', 'with', 'time', '.', 'She', 'can', 'activate', 'the', 'spell', 'again', 'to', 'release', 'the', 'storm', '.', 'On', 'release', 'this', 'storm', 'will', 'fly', 'towards', 'the', 'direction', 'it', 'was', 'cast', 'in', ',', 'dealing', 'damage', 'and', 'knocking', 'away', 'any', 'enemies', 'in', 'its', 'path.Janna', 'summons', 'an', 'air', 'elemental', 'that', 'passively', 'increases', 'her', 'Move', 'Speed', 'and', 'enables', 'her', 'to', 'pass', 'through', 'units', '.', 'She', 'may', 'also', 'activate', 'this', 'ability', 'to', 'deal', 'damage', 'and', 'slow', 'an', 'enemy', \"'s\", 'Move', 'Speed', '.', 'The', 'passive', 'is', 'lost', 'while', 'this', 'ability', 'is', 'on', 'cooldown.Janna', 'conjures', 'a', 'defensive', 'gale', 'that', 'shields', 'an', 'ally', 'champion', 'or', 'turret', 'from', 'incoming', 'damage', 'and', 'increases', 'their', 'Attack', 'Damage.Janna', 'surrounds', 'herself', 'in', 'a', 'magical', 'storm', ',', 'throwing', 'enemies', 'back', '.', 'After', 'the', 'storm', 'has', 'settled', ',', 'soothing', 'winds', 'heal', 'nearby', 'allies', 'while', 'the', 'ability', 'is', 'active', '.'] \n",
            "\n",
            "['Save', 'interrupt', 'ability', 'Janna', 'uses', 'ultimate', '.', 'Listen', 'charge', 'sound', 'Howling', 'Gale', 'case', 'Janna', 'trying', 'hit', 'screen', 'brush', '.', 'Janna', \"'s\", 'strongest', 'buffing', 'another', 'ally', '.', 'If', 'harass', 'ally', ',', 'weaken', 'ability', 'fight', '.', 'Eye', 'Storm', 'used', 'allied', 'turrets', '.', 'Quickly', 'firing', 'Howling', 'Gale', 'without', 'charge', 'used', 'heavily', 'disable', 'team', '.', 'Timing', 'Janna', \"'s\", 'ultimate', 'push', 'enemies', 'away', 'wounded', 'ally', 'even', 'separate', 'enemies.By', 'creating', 'localized', 'change', 'pressure', 'temperature', ',', 'Janna', 'able', 'create', 'small', 'storm', 'grows', 'size', 'time', '.', 'She', 'activate', 'spell', 'release', 'storm', '.', 'On', 'release', 'storm', 'fly', 'towards', 'direction', 'cast', ',', 'dealing', 'damage', 'knocking', 'away', 'enemies', 'path.Janna', 'summons', 'air', 'elemental', 'passively', 'increases', 'Move', 'Speed', 'enables', 'pass', 'units', '.', 'She', 'may', 'also', 'activate', 'ability', 'deal', 'damage', 'slow', 'enemy', \"'s\", 'Move', 'Speed', '.', 'The', 'passive', 'lost', 'ability', 'cooldown.Janna', 'conjures', 'defensive', 'gale', 'shields', 'ally', 'champion', 'turret', 'incoming', 'damage', 'increases', 'Attack', 'Damage.Janna', 'surrounds', 'magical', 'storm', ',', 'throwing', 'enemies', 'back', '.', 'After', 'storm', 'settled', ',', 'soothing', 'winds', 'heal', 'nearby', 'allies', 'ability', 'active', '.']\n",
            "['Keep', 'out', 'of', 'the', 'path', 'between', 'Jarvan', 'IV', 'and', 'his', 'Demacian', 'Standard', 'to', 'avoid', 'being', 'knocked', 'up', 'in', 'the', 'air', '.', 'Cataclysm', \"'s\", 'terrain', 'is', 'a', 'frightening', 'force', 'to', 'fight', 'against', ',', 'but', 'movement', 'abilities', 'can', 'go', 'through', 'it', '.', 'You', 'can', 'use', 'the', 'Dragon', 'Strike', '/', 'Demacian', 'Standard', 'combo', 'to', 'get', 'out', 'of', 'your', 'own', 'Cataclysm', 'arenas', '.', 'Split', 'your', 'basic', 'attacks', 'on', 'different', 'champions', 'at', 'the', 'beginning', 'of', 'fights', 'to', 'maximize', 'damage', '.', 'Use', 'Demacian', 'Standard', 'as', 'a', 'scouting', 'tool', 'when', 'worried', 'about', 'incoming', 'enemies.Jarvan', 'IV', 'extends', 'his', 'lance', ',', 'dealing', 'physical', 'damage', 'and', 'lowering', 'the', 'Armor', 'of', 'enemies', 'in', 'its', 'path', '.', 'Additionally', ',', 'this', 'will', 'pull', 'Jarvan', 'to', 'his', 'Demacian', 'Standard', ',', 'knocking', 'up', 'enemies', 'in', 'his', 'path.Jarvan', 'IV', 'calls', 'upon', 'the', 'ancient', 'kings', 'of', 'Demacia', 'to', 'shield', 'him', 'from', 'harm', 'and', 'slow', 'surrounding', 'enemies.Jarvan', 'IV', 'carries', 'the', 'pride', 'of', 'Demacia', ',', 'passively', 'granting', 'him', 'bonus', 'Attack', 'Speed', '.', 'Activating', 'Demacian', 'Standard', 'allows', 'Jarvan', 'IV', 'to', 'place', 'a', 'Demacian', 'flag', 'that', 'deals', 'magic', 'damage', 'on', 'impact', 'and', 'grants', 'Attack', 'Speed', 'to', 'nearby', 'allied', 'champions.Jarvan', 'IV', 'heroically', 'leaps', 'into', 'battle', 'at', 'a', 'target', 'with', 'such', 'force', 'that', 'he', 'terraforms', 'the', 'surrounding', 'area', 'to', 'create', 'an', 'arena', 'around', 'them', '.', 'Nearby', 'enemies', 'are', 'damaged', 'at', 'the', 'moment', 'of', 'impact', '.'] \n",
            "\n",
            "['Keep', 'path', 'Jarvan', 'IV', 'Demacian', 'Standard', 'avoid', 'knocked', 'air', '.', 'Cataclysm', \"'s\", 'terrain', 'frightening', 'force', 'fight', ',', 'movement', 'abilities', 'go', '.', 'You', 'use', 'Dragon', 'Strike', '/', 'Demacian', 'Standard', 'combo', 'get', 'Cataclysm', 'arenas', '.', 'Split', 'basic', 'attacks', 'different', 'champions', 'beginning', 'fights', 'maximize', 'damage', '.', 'Use', 'Demacian', 'Standard', 'scouting', 'tool', 'worried', 'incoming', 'enemies.Jarvan', 'IV', 'extends', 'lance', ',', 'dealing', 'physical', 'damage', 'lowering', 'Armor', 'enemies', 'path', '.', 'Additionally', ',', 'pull', 'Jarvan', 'Demacian', 'Standard', ',', 'knocking', 'enemies', 'path.Jarvan', 'IV', 'calls', 'upon', 'ancient', 'kings', 'Demacia', 'shield', 'harm', 'slow', 'surrounding', 'enemies.Jarvan', 'IV', 'carries', 'pride', 'Demacia', ',', 'passively', 'granting', 'bonus', 'Attack', 'Speed', '.', 'Activating', 'Demacian', 'Standard', 'allows', 'Jarvan', 'IV', 'place', 'Demacian', 'flag', 'deals', 'magic', 'damage', 'impact', 'grants', 'Attack', 'Speed', 'nearby', 'allied', 'champions.Jarvan', 'IV', 'heroically', 'leaps', 'battle', 'target', 'force', 'terraforms', 'surrounding', 'area', 'create', 'arena', 'around', '.', 'Nearby', 'enemies', 'damaged', 'moment', 'impact', '.']\n",
            "['Try', 'to', 'engage', 'him', 'in', 'short', 'bursts', 'instead', 'of', 'going', 'toe-to-toe', 'with', 'him', '.', 'Preventing', 'him', 'from', 'attacking', 'consecutively', 'drastically', 'lowers', 'his', 'damage', 'output', '.', 'Jax', 'can', 'dodge', 'all', 'incoming', 'attacks', 'for', 'a', 'very', 'short', 'amount', 'of', 'time', 'and', 'stuns', 'enemies', 'in', 'melee', 'range', 'when', 'it', 'ends', '.', 'Wait', 'to', 'strike', 'him', 'until', 'after', 'his', 'dodge', 'is', 'finished', '.', 'Jax', 'can', 'Leap', 'Strike', 'to', 'friendly', 'units', ',', 'including', 'wards', '.', 'You', 'can', 'use', 'them', 'to', 'plan', 'your', 'escape', '.', 'Jax', 'benefits', 'greatly', 'from', 'items', 'that', 'have', 'both', 'Ability', 'Power', 'and', 'Attack', 'Damage', 'such', 'as', 'Guinsoo', \"'s\", 'Rageblade', 'and', 'Hextech', 'Gunblade.Jax', 'leaps', 'toward', 'a', 'unit', '.', 'If', 'they', 'are', 'an', 'enemy', ',', 'he', 'strikes', 'them', 'with', 'his', 'weapon.Jax', 'charges', 'his', 'weapon', 'with', 'energy', ',', 'causing', 'his', 'next', 'attack', 'to', 'deal', 'additional', 'damage.Jax', \"'s\", 'combat', 'prowess', 'allows', 'him', 'to', 'dodge', 'all', 'incoming', 'attacks', 'for', 'a', 'short', 'duration', 'and', 'then', 'quickly', 'counterattack', ',', 'stunning', 'all', 'surrounding', 'enemies.Every', 'third', 'consecutive', 'attack', 'deals', 'additional', 'Magic', 'Damage', '.', 'Additionally', ',', 'Jax', 'can', 'activate', 'this', 'ability', 'to', 'strengthen', 'his', 'resolve', ',', 'increasing', 'his', 'Armor', 'and', 'Magic', 'Resist', 'for', 'a', 'short', 'duration', '.'] \n",
            "\n",
            "['Try', 'engage', 'short', 'bursts', 'instead', 'going', 'toe-to-toe', '.', 'Preventing', 'attacking', 'consecutively', 'drastically', 'lowers', 'damage', 'output', '.', 'Jax', 'dodge', 'incoming', 'attacks', 'short', 'amount', 'time', 'stuns', 'enemies', 'melee', 'range', 'ends', '.', 'Wait', 'strike', 'dodge', 'finished', '.', 'Jax', 'Leap', 'Strike', 'friendly', 'units', ',', 'including', 'wards', '.', 'You', 'use', 'plan', 'escape', '.', 'Jax', 'benefits', 'greatly', 'items', 'Ability', 'Power', 'Attack', 'Damage', 'Guinsoo', \"'s\", 'Rageblade', 'Hextech', 'Gunblade.Jax', 'leaps', 'toward', 'unit', '.', 'If', 'enemy', ',', 'strikes', 'weapon.Jax', 'charges', 'weapon', 'energy', ',', 'causing', 'next', 'attack', 'deal', 'additional', 'damage.Jax', \"'s\", 'combat', 'prowess', 'allows', 'dodge', 'incoming', 'attacks', 'short', 'duration', 'quickly', 'counterattack', ',', 'stunning', 'surrounding', 'enemies.Every', 'third', 'consecutive', 'attack', 'deals', 'additional', 'Magic', 'Damage', '.', 'Additionally', ',', 'Jax', 'activate', 'ability', 'strengthen', 'resolve', ',', 'increasing', 'Armor', 'Magic', 'Resist', 'short', 'duration', '.']\n",
            "['Jayce', 'can', 'attack', 'in', 'melee', 'or', 'at', 'range', '.', 'Pay', 'attention', 'to', 'his', 'stance', 'and', 'weapon', 'color', 'to', 'know', 'how', 'he', 'is', 'going', 'to', 'attack', '.', 'If', 'you', 'see', 'Jayce', 'drop', 'his', 'Acceleration', 'Gate', ',', 'be', 'careful', ',', 'he', 'is', 'probably', 'about', 'to', 'cast', 'Shock', 'Blast', '.', 'Jayce', 'is', 'strong', 'in', 'the', 'early', 'game', '.', 'If', 'he', 'gains', 'the', 'advantage', ',', 'play', 'defensively', '.', 'Be', 'sure', 'to', 'switch', 'stances', 'often', '.', 'It', 'will', 'enhance', 'your', 'attacks', 'and', 'grant', 'you', 'quick', 'bursts', 'of', 'speed', '.', 'If', 'you', 'find', 'yourself', 'taking', 'lots', 'of', 'damage', ',', 'try', 'using', 'Jayce', \"'s\", 'Hammer', 'Stance', ',', 'as', 'it', 'grants', 'you', 'additional', 'defenses', '.', 'For', 'increased', 'range', 'and', 'damage', ',', 'try', 'casting', 'Shock', 'Blast', 'through', 'the', 'Acceleration', 'Gate.Hammer', 'Stance', ':', 'Leaps', 'to', 'an', 'enemy', 'dealing', 'physical', 'damage', 'and', 'slowing', 'enemies.Cannon', 'Stance', ':', 'Fires', 'an', 'orb', 'of', 'electricity', 'that', 'detonates', 'upon', 'hitting', 'an', 'enemy', '(', 'or', 'reaching', 'the', 'end', 'of', 'its', 'path', ')', 'dealing', 'physical', 'damage', 'to', 'all', 'enemies', 'hit.Hammer', 'Stance', ':', 'Passive', ':', 'Restores', 'Mana', 'per', 'strike', '.', 'Active', ':', 'Creates', 'a', 'field', 'of', 'lightning', 'damaging', 'nearby', 'enemies', 'for', 'several', 'seconds.Cannon', 'Stance', ':', 'Gains', 'a', 'burst', 'of', 'energy', ',', 'increasing', 'Attack', 'Speed', 'to', 'maximum', 'for', 'several', 'attacks.Hammer', 'Stance', ':', 'Deals', 'magic', 'damage', 'to', 'an', 'enemy', 'and', 'knocks', 'them', 'back', 'a', 'short', 'distance.Cannon', 'Stance', ':', 'Deploys', 'an', 'Acceleration', 'Gate', 'increasing', 'the', 'Movement', 'Speed', 'of', 'all', 'allied', 'champions', 'who', 'pass', 'through', 'it', '.', 'If', 'Shock', 'Blast', 'is', 'fired', 'through', 'the', 'gate', 'the', 'missile', 'speed', ',', 'range', ',', 'and', 'damage', 'will', 'increase.Hammer', 'Stance', ':', 'Transforms', 'the', 'Mercury', 'Hammer', 'into', 'the', 'Mercury', 'Cannon', 'gaining', 'new', 'abilities', 'and', 'increased', 'range', '.', 'The', 'first', 'attack', 'in', 'this', 'form', 'reduces', 'the', 'target', \"'s\", 'Armor', 'and', 'Magic', 'Resist.Cannon', 'Stance', ':', 'Transforms', 'the', 'Mercury', 'Cannon', 'into', 'the', 'Mercury', 'Hammer', 'gaining', 'new', 'abilities', 'and', 'increasing', 'Armor', 'and', 'Magic', 'Resist', '.', 'The', 'first', 'attack', 'in', 'this', 'form', 'deals', 'additional', 'magic', 'damage', '.'] \n",
            "\n",
            "['Jayce', 'attack', 'melee', 'range', '.', 'Pay', 'attention', 'stance', 'weapon', 'color', 'know', 'going', 'attack', '.', 'If', 'see', 'Jayce', 'drop', 'Acceleration', 'Gate', ',', 'careful', ',', 'probably', 'cast', 'Shock', 'Blast', '.', 'Jayce', 'strong', 'early', 'game', '.', 'If', 'gains', 'advantage', ',', 'play', 'defensively', '.', 'Be', 'sure', 'switch', 'stances', 'often', '.', 'It', 'enhance', 'attacks', 'grant', 'quick', 'bursts', 'speed', '.', 'If', 'find', 'taking', 'lots', 'damage', ',', 'try', 'using', 'Jayce', \"'s\", 'Hammer', 'Stance', ',', 'grants', 'additional', 'defenses', '.', 'For', 'increased', 'range', 'damage', ',', 'try', 'casting', 'Shock', 'Blast', 'Acceleration', 'Gate.Hammer', 'Stance', ':', 'Leaps', 'enemy', 'dealing', 'physical', 'damage', 'slowing', 'enemies.Cannon', 'Stance', ':', 'Fires', 'orb', 'electricity', 'detonates', 'upon', 'hitting', 'enemy', '(', 'reaching', 'end', 'path', ')', 'dealing', 'physical', 'damage', 'enemies', 'hit.Hammer', 'Stance', ':', 'Passive', ':', 'Restores', 'Mana', 'per', 'strike', '.', 'Active', ':', 'Creates', 'field', 'lightning', 'damaging', 'nearby', 'enemies', 'several', 'seconds.Cannon', 'Stance', ':', 'Gains', 'burst', 'energy', ',', 'increasing', 'Attack', 'Speed', 'maximum', 'several', 'attacks.Hammer', 'Stance', ':', 'Deals', 'magic', 'damage', 'enemy', 'knocks', 'back', 'short', 'distance.Cannon', 'Stance', ':', 'Deploys', 'Acceleration', 'Gate', 'increasing', 'Movement', 'Speed', 'allied', 'champions', 'pass', '.', 'If', 'Shock', 'Blast', 'fired', 'gate', 'missile', 'speed', ',', 'range', ',', 'damage', 'increase.Hammer', 'Stance', ':', 'Transforms', 'Mercury', 'Hammer', 'Mercury', 'Cannon', 'gaining', 'new', 'abilities', 'increased', 'range', '.', 'The', 'first', 'attack', 'form', 'reduces', 'target', \"'s\", 'Armor', 'Magic', 'Resist.Cannon', 'Stance', ':', 'Transforms', 'Mercury', 'Cannon', 'Mercury', 'Hammer', 'gaining', 'new', 'abilities', 'increasing', 'Armor', 'Magic', 'Resist', '.', 'The', 'first', 'attack', 'form', 'deals', 'additional', 'magic', 'damage', '.']\n",
            "['Deadly', 'Flourish', 'only', 'roots', 'those', 'hit', 'by', 'one', 'of', 'Jhin', \"'s\", 'basic', 'attacks', ',', 'traps', ',', 'or', 'allies', 'within', 'the', 'last', '4', 'seconds', '.', 'Jhin', 'places', 'invisible', 'traps', 'around', 'the', 'map', '.', 'Watch', 'where', 'you', 'step', '!', 'Jhin', \"'s\", 'attacks', 'are', 'quite', 'potent', ',', 'but', 'he', 'runs', 'out', 'of', 'ammo', 'after', 'the', '4th', 'shot', '.', 'Use', 'this', 'window', 'to', 'jump', 'him', 'and', 'burst', 'him', 'down', '.', 'Deadly', 'Flourish', 'has', 'incredible', 'range', '.', 'When', 'approaching', 'a', 'fight', 'be', 'sure', 'to', 'look', 'ahead', 'for', 'enemies', 'that', 'could', 'be', 'rooted', '.', 'Your', 'ultimate', 'deals', 'significantly', 'less', 'damage', 'to', 'enemies', 'with', 'full', 'health', '.', 'Look', 'to', 'pick', 'off', 'weakened', 'targets', 'as', 'they', 'run', 'away', '.', 'You', 'can', 'still', 'cast', 'your', 'spells', 'while', 'reloading', '.', 'Use', 'them', 'to', 'fill', 'the', 'down', 'time.Jhin', 'launches', 'a', 'magical', 'cartridge', 'at', 'an', 'enemy', '.', 'It', 'can', 'hit', 'up', 'to', 'four', 'targets', 'and', 'gains', 'damage', 'each', 'time', 'it', 'kills.Jhin', 'brandishes', 'his', 'cane', ',', 'firing', 'a', 'single', 'shot', 'with', 'incredible', 'range', '.', 'It', 'pierces', 'through', 'minions', 'and', 'monsters', ',', 'but', 'stops', 'on', 'the', 'first', 'champion', 'hit', '.', 'If', 'the', 'target', 'was', 'recently', 'struck', 'by', 'Jhin', \"'s\", 'allies', ',', 'lotus', 'traps', ',', 'or', 'damaged', 'by', 'Jhin', ',', 'they', 'are', 'rooted.Jhin', 'places', 'an', 'invisible', 'lotus', 'trap', 'that', 'blooms', 'when', 'walked', 'over', '.', 'It', 'slows', 'nearby', 'enemies', 'before', 'dealing', 'damage', 'with', 'an', 'explosion', 'of', 'serrated', 'petals', '.', 'Beauty', 'in', 'Death', '-', 'When', 'Jhin', 'kills', 'an', 'enemy', 'champion', ',', 'a', 'lotus', 'trap', 'will', 'bloom', 'near', 'their', 'corpse.Jhin', 'channels', ',', 'transforming', 'Whisper', 'into', 'a', 'shoulder-mounted', 'mega-cannon', '.', 'It', 'is', 'able', 'to', 'fire', '4', 'super', 'shots', 'at', 'extreme', 'range', 'that', 'pierce', 'through', 'minions', 'and', 'monsters', ',', 'but', 'stop', 'on', 'the', 'first', 'champion', 'impacted', '.', 'Whisper', 'cripples', 'enemies', 'hit', ',', 'which', 'slows', 'them', 'and', 'deals', 'execute', 'damage', '.', 'The', '4th', 'shot', 'is', 'perfectly', 'crafted', ',', 'epically', 'powerful', ',', 'and', 'guaranteed', 'to', 'critically', 'strike', '.'] \n",
            "\n",
            "['Deadly', 'Flourish', 'roots', 'hit', 'one', 'Jhin', \"'s\", 'basic', 'attacks', ',', 'traps', ',', 'allies', 'within', 'last', '4', 'seconds', '.', 'Jhin', 'places', 'invisible', 'traps', 'around', 'map', '.', 'Watch', 'step', '!', 'Jhin', \"'s\", 'attacks', 'quite', 'potent', ',', 'runs', 'ammo', '4th', 'shot', '.', 'Use', 'window', 'jump', 'burst', '.', 'Deadly', 'Flourish', 'incredible', 'range', '.', 'When', 'approaching', 'fight', 'sure', 'look', 'ahead', 'enemies', 'could', 'rooted', '.', 'Your', 'ultimate', 'deals', 'significantly', 'less', 'damage', 'enemies', 'full', 'health', '.', 'Look', 'pick', 'weakened', 'targets', 'run', 'away', '.', 'You', 'still', 'cast', 'spells', 'reloading', '.', 'Use', 'fill', 'time.Jhin', 'launches', 'magical', 'cartridge', 'enemy', '.', 'It', 'hit', 'four', 'targets', 'gains', 'damage', 'time', 'kills.Jhin', 'brandishes', 'cane', ',', 'firing', 'single', 'shot', 'incredible', 'range', '.', 'It', 'pierces', 'minions', 'monsters', ',', 'stops', 'first', 'champion', 'hit', '.', 'If', 'target', 'recently', 'struck', 'Jhin', \"'s\", 'allies', ',', 'lotus', 'traps', ',', 'damaged', 'Jhin', ',', 'rooted.Jhin', 'places', 'invisible', 'lotus', 'trap', 'blooms', 'walked', '.', 'It', 'slows', 'nearby', 'enemies', 'dealing', 'damage', 'explosion', 'serrated', 'petals', '.', 'Beauty', 'Death', '-', 'When', 'Jhin', 'kills', 'enemy', 'champion', ',', 'lotus', 'trap', 'bloom', 'near', 'corpse.Jhin', 'channels', ',', 'transforming', 'Whisper', 'shoulder-mounted', 'mega-cannon', '.', 'It', 'able', 'fire', '4', 'super', 'shots', 'extreme', 'range', 'pierce', 'minions', 'monsters', ',', 'stop', 'first', 'champion', 'impacted', '.', 'Whisper', 'cripples', 'enemies', 'hit', ',', 'slows', 'deals', 'execute', 'damage', '.', 'The', '4th', 'shot', 'perfectly', 'crafted', ',', 'epically', 'powerful', ',', 'guaranteed', 'critically', 'strike', '.']\n",
            "['Jinx', \"'s\", 'minigun', 'takes', 'time', 'to', 'ramp', 'up', '.', 'If', 'you', 'see', 'her', 'poking', 'with', 'rockets', 'try', 'to', 'jump', 'on', 'her', 'and', 'burst', 'her', 'down', '.', 'Jinx', \"'s\", 'ultimate', 'does', 'less', 'damage', 'the', 'closer', 'you', 'are', 'to', 'her', '.', 'Jinx', \"'s\", 'snare', 'grenades', 'have', 'a', 'long', 'cooldown', 'and', 'are', 'her', 'primary', 'means', 'of', 'protecting', 'herself', '.', 'If', 'she', 'misses', 'with', 'them', 'she', 'will', 'have', 'a', 'hard', 'time', 'escaping', 'if', 'engaged', 'upon', '.', 'Rockets', 'are', \"n't\", 'always', 'the', 'best', 'choice', '!', 'Jinx', \"'s\", 'minigun', 'is', 'incredibly', 'powerful', 'when', 'fully', 'ramped', 'up', '.', 'Switch', 'to', 'it', 'whenever', 'an', 'enemy', 'champion', 'gets', 'too', 'close', '.', 'Jinx', \"'s\", 'rockets', 'deal', 'full', 'damage', 'to', 'all', 'enemies', 'in', 'the', 'explosion', '.', 'Use', 'them', 'on', 'minions', 'in', 'lane', 'to', 'hit', 'nearby', 'enemy', 'champions', 'without', 'drawing', 'minion', 'aggro', '.', 'When', 'a', 'fight', 'starts', 'try', 'to', 'stay', 'on', 'the', 'edge', 'of', 'fray', 'by', 'poking', 'with', 'rockets', 'and', 'Zap', '!', '.', 'Do', 'not', 'run', 'in', 'and', 'unload', 'with', 'the', 'minigun', 'until', 'you', 'feel', 'it', 'is', 'safe.Jinx', 'modifies', 'her', 'basic', 'attacks', 'by', 'swapping', 'between', 'Pow-Pow', ',', 'her', 'minigun', 'and', 'Fishbones', ',', 'her', 'rocket', 'launcher', '.', 'Attacks', 'with', 'Pow-Pow', 'grant', 'Attack', 'Speed', ',', 'while', 'attacks', 'with', 'Fishbones', 'deal', 'area', 'of', 'effect', 'damage', ',', 'gain', 'increased', 'range', ',', 'but', 'drain', 'Mana', 'and', 'attack', 'slower.Jinx', 'uses', 'Zapper', ',', 'her', 'shock', 'pistol', ',', 'to', 'fire', 'a', 'blast', 'that', 'deals', 'damage', 'to', 'the', 'first', 'enemy', 'hit', ',', 'slowing', 'and', 'revealing', 'it.Jinx', 'throws', 'out', 'a', 'line', 'of', 'snare', 'grenades', 'that', 'explode', 'after', '5', 'seconds', ',', 'lighting', 'enemies', 'on', 'fire', '.', 'Flame', 'Chompers', 'will', 'bite', 'enemy', 'champions', 'who', 'walk', 'over', 'them', ',', 'rooting', 'them', 'in', 'place.Jinx', 'fires', 'a', 'super', 'rocket', 'across', 'the', 'map', 'that', 'gains', 'damage', 'as', 'it', 'travels', '.', 'The', 'rocket', 'will', 'explode', 'upon', 'colliding', 'with', 'an', 'enemy', 'champion', ',', 'dealing', 'damage', 'to', 'it', 'and', 'surrounding', 'enemies', 'based', 'on', 'their', 'missing', 'Health', '.'] \n",
            "\n",
            "['Jinx', \"'s\", 'minigun', 'takes', 'time', 'ramp', '.', 'If', 'see', 'poking', 'rockets', 'try', 'jump', 'burst', '.', 'Jinx', \"'s\", 'ultimate', 'less', 'damage', 'closer', '.', 'Jinx', \"'s\", 'snare', 'grenades', 'long', 'cooldown', 'primary', 'means', 'protecting', '.', 'If', 'misses', 'hard', 'time', 'escaping', 'engaged', 'upon', '.', 'Rockets', \"n't\", 'always', 'best', 'choice', '!', 'Jinx', \"'s\", 'minigun', 'incredibly', 'powerful', 'fully', 'ramped', '.', 'Switch', 'whenever', 'enemy', 'champion', 'gets', 'close', '.', 'Jinx', \"'s\", 'rockets', 'deal', 'full', 'damage', 'enemies', 'explosion', '.', 'Use', 'minions', 'lane', 'hit', 'nearby', 'enemy', 'champions', 'without', 'drawing', 'minion', 'aggro', '.', 'When', 'fight', 'starts', 'try', 'stay', 'edge', 'fray', 'poking', 'rockets', 'Zap', '!', '.', 'Do', 'run', 'unload', 'minigun', 'feel', 'safe.Jinx', 'modifies', 'basic', 'attacks', 'swapping', 'Pow-Pow', ',', 'minigun', 'Fishbones', ',', 'rocket', 'launcher', '.', 'Attacks', 'Pow-Pow', 'grant', 'Attack', 'Speed', ',', 'attacks', 'Fishbones', 'deal', 'area', 'effect', 'damage', ',', 'gain', 'increased', 'range', ',', 'drain', 'Mana', 'attack', 'slower.Jinx', 'uses', 'Zapper', ',', 'shock', 'pistol', ',', 'fire', 'blast', 'deals', 'damage', 'first', 'enemy', 'hit', ',', 'slowing', 'revealing', 'it.Jinx', 'throws', 'line', 'snare', 'grenades', 'explode', '5', 'seconds', ',', 'lighting', 'enemies', 'fire', '.', 'Flame', 'Chompers', 'bite', 'enemy', 'champions', 'walk', ',', 'rooting', 'place.Jinx', 'fires', 'super', 'rocket', 'across', 'map', 'gains', 'damage', 'travels', '.', 'The', 'rocket', 'explode', 'upon', 'colliding', 'enemy', 'champion', ',', 'dealing', 'damage', 'surrounding', 'enemies', 'based', 'missing', 'Health', '.']\n",
            "[\"Kai'Sa\", 'is', 'very', 'good', 'at', 'picking', 'off', 'isolated', 'enemies', '.', 'Stick', 'together', 'against', 'her', '.', \"Kai'Sa\", 'is', 'very', 'vulnerable', 'to', 'getting', 'outranged', 'by', 'mages', 'and', 'long', 'range', 'carries', '.', 'Make', 'sure', 'to', 'place', 'wards', 'in', 'your', 'blind', 'spots', 'so', 'you', 'can', 'see', \"Kai'Sa\", 'coming', '.', 'Try', 'to', 'catch', 'enemy', 'carries', 'alone', 'to', 'burst', 'them', 'with', 'Icathian', 'Rain', '.', 'Work', 'with', 'your', 'teammates', 'to', 'set', 'up', 'your', 'Ultimate', 'and', 'optimize', 'damage', 'with', 'your', 'passive', '.', 'Make', 'sure', 'to', 'buy', 'items', 'that', 'will', 'evolve', 'at', 'least', '1', 'or', '2', 'of', 'your', \"spells.Kai'Sa\", 'shoots', 'a', 'swarm', 'of', 'missiles', 'that', 'seek', 'out', 'nearby', 'targets.Living', 'Weapon', ':', 'Icathian', 'Rain', 'is', 'upgraded', 'to', 'shoot', 'more', \"missiles.Kai'Sa\", 'shoots', 'a', 'long', 'range', 'missile', ',', 'marking', 'enemies', 'with', 'her', 'passive.Living', 'Weapon', ':', 'Void', 'Seeker', 'is', 'upgraded', 'to', 'apply', 'more', 'passive', 'marks', 'and', 'reduce', 'cooldown', 'on', 'champion', \"hit.Kai'Sa\", 'briefly', 'increases', 'her', 'Move', 'Speed', ',', 'then', 'increases', 'her', 'Attack', 'Speed.Living', 'Weapon', ':', 'Supercharge', 'is', 'upgraded', 'to', 'briefly', 'grant', \"Invisibility.Kai'Sa\", 'dashes', 'near', 'an', 'enemy', 'champion', '.'] \n",
            "\n",
            "[\"Kai'Sa\", 'good', 'picking', 'isolated', 'enemies', '.', 'Stick', 'together', '.', \"Kai'Sa\", 'vulnerable', 'getting', 'outranged', 'mages', 'long', 'range', 'carries', '.', 'Make', 'sure', 'place', 'wards', 'blind', 'spots', 'see', \"Kai'Sa\", 'coming', '.', 'Try', 'catch', 'enemy', 'carries', 'alone', 'burst', 'Icathian', 'Rain', '.', 'Work', 'teammates', 'set', 'Ultimate', 'optimize', 'damage', 'passive', '.', 'Make', 'sure', 'buy', 'items', 'evolve', 'least', '1', '2', \"spells.Kai'Sa\", 'shoots', 'swarm', 'missiles', 'seek', 'nearby', 'targets.Living', 'Weapon', ':', 'Icathian', 'Rain', 'upgraded', 'shoot', \"missiles.Kai'Sa\", 'shoots', 'long', 'range', 'missile', ',', 'marking', 'enemies', 'passive.Living', 'Weapon', ':', 'Void', 'Seeker', 'upgraded', 'apply', 'passive', 'marks', 'reduce', 'cooldown', 'champion', \"hit.Kai'Sa\", 'briefly', 'increases', 'Move', 'Speed', ',', 'increases', 'Attack', 'Speed.Living', 'Weapon', ':', 'Supercharge', 'upgraded', 'briefly', 'grant', \"Invisibility.Kai'Sa\", 'dashes', 'near', 'enemy', 'champion', '.']\n",
            "['Kalista', \"'s\", 'mobility', 'is', 'dependent', 'upon', 'attacking', '.', 'This', 'means', 'it', 'is', 'low', 'when', 'she', 'is', 'outside', 'of', 'her', 'attack', 'range', 'and', 'that', 'Attack', 'Speed', 'slows', 'reduce', 'the', 'amount', 'of', 'distance', 'she', 'can', 'cover', 'in', 'an', 'engagement', '.', 'Kalista', 'can', 'not', 'cancel', 'her', 'basic', 'attack', 'wind', 'up', '.', 'While', 'she', 'is', 'very', 'mobile', ',', 'this', 'offers', 'a', 'window', 'to', 'land', 'spells', 'on', 'her', 'if', 'you', 'anticipate', 'when', 'she', 'will', 'begin', 'attacking', '.', 'If', 'you', 'can', 'break', 'line', 'of', 'sight', 'from', 'Kalista', ',', 'including', 'through', 'brush', ',', 'her', 'basic', 'attacks', 'will', 'miss', 'you', ',', 'falling', 'harmlessly', 'to', 'the', 'ground', '.', 'Rend', 'is', 'a', 'valuable', 'last', 'hitting', 'aid', ',', 'since', 'its', 'cooldown', 'resets', 'if', 'it', 'kills', 'a', 'target', '.', 'Entering', 'a', 'move', 'order', 'once', 'to', 'trigger', 'Martial', 'Poise', 'will', 'not', 'clear', 'Kalista', \"'s\", 'basic', 'attack', 'target', '.', 'Due', 'to', 'her', 'passive', ',', 'Kalista', \"'s\", 'Movement', 'Speed', 'is', 'effectively', 'increased', 'by', 'Attack', 'Speed.Throw', 'a', 'fast', 'moving', 'spear', 'that', 'passes', 'through', 'enemies', 'it', 'kills.Gain', 'bonus', 'damage', 'when', 'Kalista', 'and', 'her', 'Oathsworn', 'strike', 'the', 'same', 'target', '.', 'Activate', 'to', 'send', 'a', 'soul', 'to', 'scout', 'out', 'the', 'path', ',', 'revealing', 'the', 'area', 'in', 'front', 'of', 'it.Attacks', 'impale', 'their', 'targets', 'with', 'spears', '.', 'Activate', 'to', 'rip', 'the', 'spears', 'out', ',', 'slowing', 'and', 'dealing', 'escalating', 'damage.Kalista', 'teleports', 'the', 'Oathsworn', 'ally', 'to', 'herself', '.', 'They', 'gain', 'the', 'ability', 'to', 'dash', 'toward', 'a', 'position', ',', 'knocking', 'enemy', 'champions', 'back', '.'] \n",
            "\n",
            "['Kalista', \"'s\", 'mobility', 'dependent', 'upon', 'attacking', '.', 'This', 'means', 'low', 'outside', 'attack', 'range', 'Attack', 'Speed', 'slows', 'reduce', 'amount', 'distance', 'cover', 'engagement', '.', 'Kalista', 'cancel', 'basic', 'attack', 'wind', '.', 'While', 'mobile', ',', 'offers', 'window', 'land', 'spells', 'anticipate', 'begin', 'attacking', '.', 'If', 'break', 'line', 'sight', 'Kalista', ',', 'including', 'brush', ',', 'basic', 'attacks', 'miss', ',', 'falling', 'harmlessly', 'ground', '.', 'Rend', 'valuable', 'last', 'hitting', 'aid', ',', 'since', 'cooldown', 'resets', 'kills', 'target', '.', 'Entering', 'move', 'order', 'trigger', 'Martial', 'Poise', 'clear', 'Kalista', \"'s\", 'basic', 'attack', 'target', '.', 'Due', 'passive', ',', 'Kalista', \"'s\", 'Movement', 'Speed', 'effectively', 'increased', 'Attack', 'Speed.Throw', 'fast', 'moving', 'spear', 'passes', 'enemies', 'kills.Gain', 'bonus', 'damage', 'Kalista', 'Oathsworn', 'strike', 'target', '.', 'Activate', 'send', 'soul', 'scout', 'path', ',', 'revealing', 'area', 'front', 'it.Attacks', 'impale', 'targets', 'spears', '.', 'Activate', 'rip', 'spears', ',', 'slowing', 'dealing', 'escalating', 'damage.Kalista', 'teleports', 'Oathsworn', 'ally', '.', 'They', 'gain', 'ability', 'dash', 'toward', 'position', ',', 'knocking', 'enemy', 'champions', 'back', '.']\n",
            "['Karma', \"'s\", 'passive', 'lowers', 'her', 'Mantra', 'cooldown', 'when', 'she', 'hits', 'enemy', 'champions', 'with', 'abilities', 'and', 'basic', 'attacks', '.', 'Deny', 'her', 'from', 'getting', 'free', 'hits', 'on', 'you', '.', 'Karma', \"'s\", 'Soulflare', 'erupts', 'for', 'bonus', 'damage', 'in', 'the', 'area', 'in', 'which', 'it', \"'s\", 'placed', '.', 'React', 'quickly', 'and', 'escape', 'the', 'circle', 'to', 'avoid', 'taking', 'heavy', 'damage', '.', 'Focused', 'Resolve', 'is', 'a', 'strong', 'disengage', 'tool', '.', 'Create', 'distance', 'to', 'avoid', 'being', 'rooted', 'and', 'seek', 'to', 'engage', 'afterwards', '.', 'Gathering', 'Fire', 'rewards', 'aggressive', 'play', '.', 'Look', 'to', 'land', 'abilities', 'and', 'basic', 'attacks', 'on', 'your', 'opponent', 'to', 'lower', 'Mantra', \"'s\", 'cooldown', 'and', 'stay', 'on', 'the', 'offensive', '.', 'When', 'using', 'Focused', 'Resolve', ',', 'slow', 'your', 'opponents', 'with', 'Inner', 'Flame', 'or', 'speed', 'yourself', 'up', 'with', 'Inspire', 'if', 'you', \"'re\", 'having', 'trouble', 'sticking', 'to', 'a', 'target', '.', 'Do', \"n't\", 'be', 'too', 'conservative', 'with', 'Mantra', '.', 'Gathering', 'Fire', 'is', 'strongest', 'in', 'teamfights', ',', 'making', 'it', 'easy', 'to', 'recharge', 'Mantra', 'multiple', 'times.Karma', 'sends', 'forth', 'a', 'ball', 'of', 'spirit', 'energy', 'that', 'explodes', 'and', 'deals', 'damage', 'upon', 'hitting', 'an', 'enemy', 'unit.Mantra', 'Bonus', ':', 'In', 'addition', 'to', 'the', 'explosion', ',', 'Mantra', 'increases', 'the', 'destructive', 'power', 'of', 'her', 'Inner', 'Flame', ',', 'creating', 'a', 'cataclysm', 'which', 'deals', 'damage', 'after', 'a', 'short', 'delay.Karma', 'creates', 'a', 'tether', 'between', 'herself', 'and', 'a', 'targeted', 'enemy', ',', 'dealing', 'damage', 'and', 'revealing', 'them', '.', 'If', 'the', 'tether', 'is', 'not', 'broken', ',', 'the', 'enemy', 'will', 'be', 'rooted', 'and', 'damaged', 'again.Mantra', 'Bonus', ':', 'Karma', 'strengthens', 'the', 'link', ',', 'healing', 'herself', 'and', 'extending', 'the', 'root', 'duration.Karma', 'summons', 'a', 'protective', 'shield', 'that', 'absorbs', 'incoming', 'damage', 'and', 'increases', 'the', 'Move', 'Speed', 'of', 'the', 'protected', 'ally.Mantra', 'Bonus', ':', 'Energy', 'radiates', 'out', 'from', 'her', 'target', ',', 'strengthening', 'the', 'initial', 'shield', 'and', 'applying', 'Inspire', 'to', 'nearby', 'allied', 'champions.Karma', 'empowers', 'her', 'next', 'ability', 'to', 'do', 'an', 'additional', 'effect', '.', 'Mantra', 'is', 'available', 'at', 'level', '1', 'and', 'does', 'not', 'require', 'a', 'skill', 'point', '.'] \n",
            "\n",
            "['Karma', \"'s\", 'passive', 'lowers', 'Mantra', 'cooldown', 'hits', 'enemy', 'champions', 'abilities', 'basic', 'attacks', '.', 'Deny', 'getting', 'free', 'hits', '.', 'Karma', \"'s\", 'Soulflare', 'erupts', 'bonus', 'damage', 'area', \"'s\", 'placed', '.', 'React', 'quickly', 'escape', 'circle', 'avoid', 'taking', 'heavy', 'damage', '.', 'Focused', 'Resolve', 'strong', 'disengage', 'tool', '.', 'Create', 'distance', 'avoid', 'rooted', 'seek', 'engage', 'afterwards', '.', 'Gathering', 'Fire', 'rewards', 'aggressive', 'play', '.', 'Look', 'land', 'abilities', 'basic', 'attacks', 'opponent', 'lower', 'Mantra', \"'s\", 'cooldown', 'stay', 'offensive', '.', 'When', 'using', 'Focused', 'Resolve', ',', 'slow', 'opponents', 'Inner', 'Flame', 'speed', 'Inspire', \"'re\", 'trouble', 'sticking', 'target', '.', 'Do', \"n't\", 'conservative', 'Mantra', '.', 'Gathering', 'Fire', 'strongest', 'teamfights', ',', 'making', 'easy', 'recharge', 'Mantra', 'multiple', 'times.Karma', 'sends', 'forth', 'ball', 'spirit', 'energy', 'explodes', 'deals', 'damage', 'upon', 'hitting', 'enemy', 'unit.Mantra', 'Bonus', ':', 'In', 'addition', 'explosion', ',', 'Mantra', 'increases', 'destructive', 'power', 'Inner', 'Flame', ',', 'creating', 'cataclysm', 'deals', 'damage', 'short', 'delay.Karma', 'creates', 'tether', 'targeted', 'enemy', ',', 'dealing', 'damage', 'revealing', '.', 'If', 'tether', 'broken', ',', 'enemy', 'rooted', 'damaged', 'again.Mantra', 'Bonus', ':', 'Karma', 'strengthens', 'link', ',', 'healing', 'extending', 'root', 'duration.Karma', 'summons', 'protective', 'shield', 'absorbs', 'incoming', 'damage', 'increases', 'Move', 'Speed', 'protected', 'ally.Mantra', 'Bonus', ':', 'Energy', 'radiates', 'target', ',', 'strengthening', 'initial', 'shield', 'applying', 'Inspire', 'nearby', 'allied', 'champions.Karma', 'empowers', 'next', 'ability', 'additional', 'effect', '.', 'Mantra', 'available', 'level', '1', 'require', 'skill', 'point', '.']\n",
            "['Karthus', 'can', 'cast', 'spells', 'for', 'a', 'short', 'duration', 'after', 'he', 'is', 'killed', '.', 'Move', 'away', 'from', 'his', 'corpse', 'to', 'be', 'safe', '.', 'Make', 'sure', 'you', 'always', 'have', 'enough', 'health', 'to', 'survive', 'Requiem', ',', 'even', 'if', 'you', 'have', 'to', 'go', 'back', 'to', 'the', 'base', 'more', 'frequently', 'to', 'heal', '.', 'Ask', 'your', 'allies', 'to', 'help', 'point', 'out', 'when', 'you', 'should', 'use', 'Requiem', 'to', 'get', 'kills', 'in', 'different', 'lanes', '.', 'Lay', 'Waste', 'is', 'very', 'strong', 'at', 'farming', 'minions', 'and', 'harassing', 'enemy', 'champions.Karthus', 'unleashes', 'a', 'delayed', 'blast', 'at', 'a', 'location', ',', 'dealing', 'damage', 'to', 'nearby', 'enemies', '.', 'Deals', 'increased', 'damage', 'to', 'isolated', 'enemies', '.', 'Karthus', 'creates', 'a', 'passable', 'screen', 'of', 'leeching', 'energy', '.', 'Any', 'enemy', 'units', 'that', 'walk', 'through', 'the', 'screen', 'have', 'their', 'Movement', 'Speed', 'and', 'Magic', 'Resist', 'reduced', 'for', 'a', 'period.Karthus', 'passively', 'steals', 'energy', 'from', 'his', 'victims', ',', 'gaining', 'Mana', 'on', 'each', 'kill', '.', 'Alternatively', ',', 'Karthus', 'can', 'surround', 'himself', 'in', 'the', 'souls', 'of', 'his', 'prey', ',', 'dealing', 'damage', 'to', 'nearby', 'enemies', ',', 'but', 'quickly', 'draining', 'his', 'own', 'Mana.After', 'channeling', 'for', '3', 'seconds', ',', 'Karthus', 'deals', 'damage', 'to', 'all', 'enemy', 'champions', '.'] \n",
            "\n",
            "['Karthus', 'cast', 'spells', 'short', 'duration', 'killed', '.', 'Move', 'away', 'corpse', 'safe', '.', 'Make', 'sure', 'always', 'enough', 'health', 'survive', 'Requiem', ',', 'even', 'go', 'back', 'base', 'frequently', 'heal', '.', 'Ask', 'allies', 'help', 'point', 'use', 'Requiem', 'get', 'kills', 'different', 'lanes', '.', 'Lay', 'Waste', 'strong', 'farming', 'minions', 'harassing', 'enemy', 'champions.Karthus', 'unleashes', 'delayed', 'blast', 'location', ',', 'dealing', 'damage', 'nearby', 'enemies', '.', 'Deals', 'increased', 'damage', 'isolated', 'enemies', '.', 'Karthus', 'creates', 'passable', 'screen', 'leeching', 'energy', '.', 'Any', 'enemy', 'units', 'walk', 'screen', 'Movement', 'Speed', 'Magic', 'Resist', 'reduced', 'period.Karthus', 'passively', 'steals', 'energy', 'victims', ',', 'gaining', 'Mana', 'kill', '.', 'Alternatively', ',', 'Karthus', 'surround', 'souls', 'prey', ',', 'dealing', 'damage', 'nearby', 'enemies', ',', 'quickly', 'draining', 'Mana.After', 'channeling', '3', 'seconds', ',', 'Karthus', 'deals', 'damage', 'enemy', 'champions', '.']\n",
            "['Kassadin', 'deals', 'mostly', 'magic', 'damage', '.', 'If', 'he', \"'s\", 'doing', 'well', 'consider', 'buying', 'magic', 'resist', 'items', 'like', 'Mercury', \"'s\", 'Treads', 'and', 'Banshee', \"'s\", 'Veil', '.', 'Each', 'time', 'Kassadin', 'consecutively', 'uses', 'Riftwalk', ',', 'he', 'pays', 'more', 'and', 'more', 'mana', '.', 'Keep', 'this', 'in', 'mind', 'as', 'you', 'chase', 'him', '.', 'It', 'takes', '6', 'spell', 'casts', 'for', 'Kassadin', \"'s\", 'slow', ',', 'Force', 'Pulse', ',', 'to', 'become', 'castable', '.', 'If', 'he', 'levels', 'up', 'that', 'ability', ',', 'judiciously', 'use', 'your', 'own', 'skills', 'while', 'laning', 'against', 'him', '.', 'Kassadin', 'has', 'multiple', 'item', 'paths', ';', 'he', 'can', 'go', 'caster', 'via', 'Mana', 'and', 'Ability', 'Power', 'or', 'anti-caster', 'with', 'Cooldown', 'Reduction', 'and', 'Magic', 'Resist', '.', 'Kassadin', \"'s\", 'ultimate', 'has', 'many', 'uses', 'and', 'is', 'on', 'a', 'shorter', 'cooldown', 'than', 'most', ',', 'use', 'it', 'often', '.', 'Try', 'to', 'get', 'the', 'Ancient', 'Golem', 'buff', 'to', 'counteract', 'Riftwalk', \"'s\", 'increasing', 'Mana', 'cost.Kassadin', 'fires', 'an', 'orb', 'of', 'void', 'energy', 'at', 'a', 'target', ',', 'dealing', 'damage', 'and', 'interrupting', 'channels', '.', 'The', 'excess', 'energy', 'forms', 'around', 'himself', ',', 'granting', 'a', 'temporary', 'shield', 'that', 'absorbs', 'magic', 'damage.Passive', ':', 'Kassadin', \"'s\", 'basic', 'attacks', 'deal', 'bonus', 'magic', 'damage', '.', 'Active', ':', 'Kassadin', \"'s\", 'next', 'basic', 'attack', 'deals', 'significant', 'bonus', 'magic', 'damage', 'and', 'restores', 'Mana.Kassadin', 'draws', 'energy', 'from', 'spells', 'cast', 'in', 'his', 'vicinity', '.', 'Upon', 'charging', 'up', ',', 'Kassadin', 'can', 'use', 'Force', 'Pulse', 'to', 'damage', 'and', 'slow', 'enemies', 'in', 'a', 'cone', 'in', 'front', 'of', 'him.Kassadin', 'teleports', 'to', 'a', 'nearby', 'location', 'dealing', 'damage', 'to', 'nearby', 'enemy', 'units', '.', 'Multiple', 'Riftwalks', 'in', 'a', 'short', 'period', 'of', 'time', 'cost', 'additional', 'Mana', 'but', 'also', 'deal', 'additional', 'damage', '.'] \n",
            "\n",
            "['Kassadin', 'deals', 'mostly', 'magic', 'damage', '.', 'If', \"'s\", 'well', 'consider', 'buying', 'magic', 'resist', 'items', 'like', 'Mercury', \"'s\", 'Treads', 'Banshee', \"'s\", 'Veil', '.', 'Each', 'time', 'Kassadin', 'consecutively', 'uses', 'Riftwalk', ',', 'pays', 'mana', '.', 'Keep', 'mind', 'chase', '.', 'It', 'takes', '6', 'spell', 'casts', 'Kassadin', \"'s\", 'slow', ',', 'Force', 'Pulse', ',', 'become', 'castable', '.', 'If', 'levels', 'ability', ',', 'judiciously', 'use', 'skills', 'laning', '.', 'Kassadin', 'multiple', 'item', 'paths', ';', 'go', 'caster', 'via', 'Mana', 'Ability', 'Power', 'anti-caster', 'Cooldown', 'Reduction', 'Magic', 'Resist', '.', 'Kassadin', \"'s\", 'ultimate', 'many', 'uses', 'shorter', 'cooldown', ',', 'use', 'often', '.', 'Try', 'get', 'Ancient', 'Golem', 'buff', 'counteract', 'Riftwalk', \"'s\", 'increasing', 'Mana', 'cost.Kassadin', 'fires', 'orb', 'void', 'energy', 'target', ',', 'dealing', 'damage', 'interrupting', 'channels', '.', 'The', 'excess', 'energy', 'forms', 'around', ',', 'granting', 'temporary', 'shield', 'absorbs', 'magic', 'damage.Passive', ':', 'Kassadin', \"'s\", 'basic', 'attacks', 'deal', 'bonus', 'magic', 'damage', '.', 'Active', ':', 'Kassadin', \"'s\", 'next', 'basic', 'attack', 'deals', 'significant', 'bonus', 'magic', 'damage', 'restores', 'Mana.Kassadin', 'draws', 'energy', 'spells', 'cast', 'vicinity', '.', 'Upon', 'charging', ',', 'Kassadin', 'use', 'Force', 'Pulse', 'damage', 'slow', 'enemies', 'cone', 'front', 'him.Kassadin', 'teleports', 'nearby', 'location', 'dealing', 'damage', 'nearby', 'enemy', 'units', '.', 'Multiple', 'Riftwalks', 'short', 'period', 'time', 'cost', 'additional', 'Mana', 'also', 'deal', 'additional', 'damage', '.']\n",
            "['Katarina', \"'s\", 'abilities', 'deal', 'magic', 'damage', ',', 'so', 'even', 'if', 'she', \"'s\", 'building', 'Attack', 'Damage', 'items', ',', 'get', 'magic', 'resistance', 'to', 'counter', 'her', '.', 'Try', 'to', 'save', 'a', 'disable', 'for', 'when', 'Katarina', 'uses', 'her', 'Death', 'Lotus', '.', 'Picking', 'up', 'Daggers', 'will', 'significantly', 'reduce', 'Shunpo', \"'s\", 'cooldown', '.', 'Try', 'waiting', 'until', 'the', 'other', 'team', 'is', 'distracted', 'with', 'fighting', 'your', 'team', ',', 'and', 'use', 'Shunpo', 'to', 'teleport', 'into', 'the', 'fray', 'and', 'unleash', 'a', 'devastating', 'Death', 'Lotus', '.', 'Using', 'Shunpo', 'on', 'an', 'allied', 'Champion', ',', 'Dagger', ',', 'or', 'minion', 'can', 'be', 'a', 'great', 'escape', 'tactic.Katarina', 'throws', 'a', 'Dagger', 'at', 'the', 'target', 'that', 'then', 'bounces', 'to', 'nearby', 'enemies', 'before', 'ricocheting', 'onto', 'the', 'ground.Katarina', 'gains', 'a', 'burst', 'of', 'Move', 'Speed', ',', 'tossing', 'a', 'Dagger', 'into', 'the', 'air', 'directly', 'above', 'herself.Katarina', 'blinks', 'to', 'the', 'target', ',', 'striking', 'it', 'if', 'its', 'an', 'enemy', ',', 'or', 'striking', 'the', 'nearest', 'enemy', 'otherwise.Katarina', 'becomes', 'a', 'flurry', 'of', 'blades', ',', 'dealing', 'massive', 'magic', 'damage', 'while', 'she', 'channels', 'to', 'the', '3', 'nearest', 'enemy', 'champions', '.'] \n",
            "\n",
            "['Katarina', \"'s\", 'abilities', 'deal', 'magic', 'damage', ',', 'even', \"'s\", 'building', 'Attack', 'Damage', 'items', ',', 'get', 'magic', 'resistance', 'counter', '.', 'Try', 'save', 'disable', 'Katarina', 'uses', 'Death', 'Lotus', '.', 'Picking', 'Daggers', 'significantly', 'reduce', 'Shunpo', \"'s\", 'cooldown', '.', 'Try', 'waiting', 'team', 'distracted', 'fighting', 'team', ',', 'use', 'Shunpo', 'teleport', 'fray', 'unleash', 'devastating', 'Death', 'Lotus', '.', 'Using', 'Shunpo', 'allied', 'Champion', ',', 'Dagger', ',', 'minion', 'great', 'escape', 'tactic.Katarina', 'throws', 'Dagger', 'target', 'bounces', 'nearby', 'enemies', 'ricocheting', 'onto', 'ground.Katarina', 'gains', 'burst', 'Move', 'Speed', ',', 'tossing', 'Dagger', 'air', 'directly', 'herself.Katarina', 'blinks', 'target', ',', 'striking', 'enemy', ',', 'striking', 'nearest', 'enemy', 'otherwise.Katarina', 'becomes', 'flurry', 'blades', ',', 'dealing', 'massive', 'magic', 'damage', 'channels', '3', 'nearest', 'enemy', 'champions', '.']\n",
            "['Divine', 'Judgment', 'only', 'grants', 'Kayle', 'or', 'her', 'allies', 'immunity', 'to', 'damage', '.', 'Slows', 'and', 'stuns', 'can', 'still', 'be', 'applied', ',', 'so', 'trap', 'them', 'if', 'they', \"'re\", 'being', 'overzealous', '.', 'Kayle', 'is', 'usually', 'a', 'fragile', 'target', '.', 'If', 'you', 'see', 'her', 'ultimate', 'cast', 'on', 'an', 'ally', ',', 'switch', 'to', 'attacking', 'her', '.', 'Kayle', 'starts', 'the', 'game', 'as', 'a', 'weaker', 'melee', 'champion', '.', 'Try', 'to', 'put', 'her', 'behind', 'before', 'she', 'ascends', 'to', 'her', 'ranged', 'form', '.', 'Using', 'Divine', 'Judgment', 'on', 'a', 'high-DPS', 'ally', 'can', 'turn', 'the', 'tides', 'of', 'battle', 'by', 'giving', 'your', 'ally', 'free', 'reign', 'to', 'attack', '.', 'Kayle', \"'s\", 'attacks', 'become', 'incredibly', 'powerful', 'once', 'she', 'gains', 'attack', 'range', 'from', 'Divine', 'Ascent', '.', 'Play', 'safe', 'until', 'then', '.', 'Kayle', 'benefits', 'greatly', 'from', 'Attack', 'Damage', 'and', 'Ability', 'Power', ',', 'making', 'hybrid', 'items', 'like', 'Nashor', \"'s\", 'Tooth', 'and', 'Hextech', 'Gunblade', 'very', 'effective', 'on', 'her.Kayle', 'conjures', 'a', 'portal', ',', 'summoning', 'a', 'celestial', 'sword', 'that', 'pierces', 'through', 'enemies', ',', 'slowing', ',', 'damaging', ',', 'and', 'reducing', 'the', 'resistances', 'of', 'all', 'hit.Blessed', 'by', 'the', 'divine', ',', 'Kayle', 'heals', 'and', 'grants', 'movement', 'speed', 'to', 'herself', 'and', 'the', 'nearest', 'ally.Passive', ':', 'Kayle', \"'s\", 'celestial', 'sword', ',', 'Virtue', ',', 'deals', 'bonus', 'magic', 'damage', 'to', 'enemies', 'she', 'attacks.Active', ':', 'Kayle', \"'s\", 'next', 'attack', 'smites', 'her', 'target', 'with', 'celestial', 'fire', ',', 'dealing', 'bonus', 'damage', 'proportionate', 'to', 'their', 'missing', 'health.Kayle', 'makes', 'an', 'ally', 'invulnerable', 'and', 'calls', 'upon', 'former', 'Aspects', 'of', 'Justice', 'to', 'purify', 'the', 'area', 'around', 'her', 'target', 'with', 'a', 'holy', 'rain', 'of', 'swords', '.'] \n",
            "\n",
            "['Divine', 'Judgment', 'grants', 'Kayle', 'allies', 'immunity', 'damage', '.', 'Slows', 'stuns', 'still', 'applied', ',', 'trap', \"'re\", 'overzealous', '.', 'Kayle', 'usually', 'fragile', 'target', '.', 'If', 'see', 'ultimate', 'cast', 'ally', ',', 'switch', 'attacking', '.', 'Kayle', 'starts', 'game', 'weaker', 'melee', 'champion', '.', 'Try', 'put', 'behind', 'ascends', 'ranged', 'form', '.', 'Using', 'Divine', 'Judgment', 'high-DPS', 'ally', 'turn', 'tides', 'battle', 'giving', 'ally', 'free', 'reign', 'attack', '.', 'Kayle', \"'s\", 'attacks', 'become', 'incredibly', 'powerful', 'gains', 'attack', 'range', 'Divine', 'Ascent', '.', 'Play', 'safe', '.', 'Kayle', 'benefits', 'greatly', 'Attack', 'Damage', 'Ability', 'Power', ',', 'making', 'hybrid', 'items', 'like', 'Nashor', \"'s\", 'Tooth', 'Hextech', 'Gunblade', 'effective', 'her.Kayle', 'conjures', 'portal', ',', 'summoning', 'celestial', 'sword', 'pierces', 'enemies', ',', 'slowing', ',', 'damaging', ',', 'reducing', 'resistances', 'hit.Blessed', 'divine', ',', 'Kayle', 'heals', 'grants', 'movement', 'speed', 'nearest', 'ally.Passive', ':', 'Kayle', \"'s\", 'celestial', 'sword', ',', 'Virtue', ',', 'deals', 'bonus', 'magic', 'damage', 'enemies', 'attacks.Active', ':', 'Kayle', \"'s\", 'next', 'attack', 'smites', 'target', 'celestial', 'fire', ',', 'dealing', 'bonus', 'damage', 'proportionate', 'missing', 'health.Kayle', 'makes', 'ally', 'invulnerable', 'calls', 'upon', 'former', 'Aspects', 'Justice', 'purify', 'area', 'around', 'target', 'holy', 'rain', 'swords', '.']\n",
            "['Umbral', 'Trespass', 'requires', 'Kayn', 'to', 'damage', 'a', 'target', 'first', '.', 'Try', 'to', 'dodge', 'Blade', \"'s\", 'Reach', 'to', 'deny', 'him', 'a', 'long', 'range', 'cast', 'of', 'Umbral', 'Trespass', '.', 'When', 'Kayn', 'is', 'in', 'terrain', 'near', 'you', ',', 'you', 'will', 'get', 'a', 'visual', 'warning', 'on', 'the', 'edge', 'of', 'the', 'terrain', 'he', \"'s\", 'in', '.', 'Damage', 'Kayn', 'while', 'he', \"'s\", 'in', 'Shadow', 'Step', 'to', 'shorten', 'its', 'duration', ',', 'or', 'apply', 'hard', 'crowd', 'control', '(', 'stun', ',', 'charm', ',', 'knockup', ',', 'etc', ')', 'to', 'end', 'Shadow', 'Step', 'immediately', '.', 'Look', 'at', 'the', 'line-up', 'of', 'both', 'your', 'team', 'and', 'the', 'enemy', \"'s\", 'team', 'when', 'picking', 'your', 'form', '.', 'Remember', 'that', 'nearby', 'enemies', 'can', 'see', 'which', 'wall', 'you', \"'re\", 'in.Kayn', 'dashes', ',', 'then', 'slashes', '.', 'Both', 'deal', 'damage.Kayn', 'damages', 'and', 'slows', 'targets', 'in', 'a', 'line.Kayn', 'can', 'walk', 'through', 'terrain.Kayn', 'hides', 'in', 'an', 'enemy', \"'s\", 'body', ',', 'dealing', 'massive', 'damage', 'when', 'he', 'bursts', 'out', '.'] \n",
            "\n",
            "['Umbral', 'Trespass', 'requires', 'Kayn', 'damage', 'target', 'first', '.', 'Try', 'dodge', 'Blade', \"'s\", 'Reach', 'deny', 'long', 'range', 'cast', 'Umbral', 'Trespass', '.', 'When', 'Kayn', 'terrain', 'near', ',', 'get', 'visual', 'warning', 'edge', 'terrain', \"'s\", '.', 'Damage', 'Kayn', \"'s\", 'Shadow', 'Step', 'shorten', 'duration', ',', 'apply', 'hard', 'crowd', 'control', '(', 'stun', ',', 'charm', ',', 'knockup', ',', 'etc', ')', 'end', 'Shadow', 'Step', 'immediately', '.', 'Look', 'line-up', 'team', 'enemy', \"'s\", 'team', 'picking', 'form', '.', 'Remember', 'nearby', 'enemies', 'see', 'wall', \"'re\", 'in.Kayn', 'dashes', ',', 'slashes', '.', 'Both', 'deal', 'damage.Kayn', 'damages', 'slows', 'targets', 'line.Kayn', 'walk', 'terrain.Kayn', 'hides', 'enemy', \"'s\", 'body', ',', 'dealing', 'massive', 'damage', 'bursts', '.']\n",
            "['Consider', 'playing', 'a', 'bit', 'more', 'cautiously', 'around', 'Kennen', 'when', 'you', 'have', 'a', 'Mark', 'of', 'the', 'Storm', 'debuff', '.', 'If', 'he', 'hits', 'you', 'with', '3', 'Marks', 'of', 'the', 'Storm', ',', 'you', 'will', 'get', 'stunned', '.', 'Kennen', 'is', 'flimsy', 'by', 'nature', '-', 'turn', 'and', 'attack', 'him', 'if', 'he', 'gets', 'careless', 'with', 'Lightning', 'Rush', '.', 'You', 'can', 'stun', 'your', 'opponents', 'by', 'inflicting', '3', 'Marks', 'of', 'the', 'Storm', 'upon', 'them', '.', 'Lightning', 'Rush', 'can', 'be', 'used', 'to', 'initiate', 'fights', 'with', 'its', 'Energy', 'return', 'component', ',', 'allowing', 'him', 'to', 'use', 'other', 'abilities', 'afterward', '.', 'You', 'can', 'land', 'an', 'initial', 'Mark', 'of', 'the', 'Storm', 'debuff', 'on', 'an', 'opponent', 'with', 'Thundering', 'Shuriken', ',', 'and', 'then', 'add', 'to', 'it', 'with', 'Electrical', 'Surge.Kennen', 'throws', 'a', 'fast', 'moving', 'shuriken', 'towards', 'a', 'location', ',', 'causing', 'damage', 'and', 'adding', 'a', 'Mark', 'of', 'the', 'Storm', 'to', 'any', 'opponent', 'that', 'it', 'hits.Kennen', 'passively', 'deals', 'extra', 'damage', 'and', 'adds', 'a', 'Mark', 'of', 'the', 'Storm', 'to', 'his', 'target', 'every', 'few', 'attacks', ',', 'and', 'he', 'can', 'activate', 'this', 'ability', 'to', 'damage', 'and', 'add', 'another', 'Mark', 'of', 'the', 'Storm', 'to', 'targets', 'who', 'are', 'already', 'marked.Kennen', 'morphs', 'into', 'a', 'lightning', 'form', ',', 'enabling', 'him', 'to', 'pass', 'through', 'units', 'and', 'apply', 'a', 'Mark', 'of', 'the', 'Storm', '.', 'Kennen', 'gains', 'movement', 'speed', 'when', 'entering', 'this', 'form', ',', 'and', 'attack', 'speed', 'when', 'leaving', 'it.Kennen', 'summons', 'a', 'storm', 'that', 'strikes', 'at', 'nearby', 'enemy', 'champions', 'for', 'magical', 'damage', '.'] \n",
            "\n",
            "['Consider', 'playing', 'bit', 'cautiously', 'around', 'Kennen', 'Mark', 'Storm', 'debuff', '.', 'If', 'hits', '3', 'Marks', 'Storm', ',', 'get', 'stunned', '.', 'Kennen', 'flimsy', 'nature', '-', 'turn', 'attack', 'gets', 'careless', 'Lightning', 'Rush', '.', 'You', 'stun', 'opponents', 'inflicting', '3', 'Marks', 'Storm', 'upon', '.', 'Lightning', 'Rush', 'used', 'initiate', 'fights', 'Energy', 'return', 'component', ',', 'allowing', 'use', 'abilities', 'afterward', '.', 'You', 'land', 'initial', 'Mark', 'Storm', 'debuff', 'opponent', 'Thundering', 'Shuriken', ',', 'add', 'Electrical', 'Surge.Kennen', 'throws', 'fast', 'moving', 'shuriken', 'towards', 'location', ',', 'causing', 'damage', 'adding', 'Mark', 'Storm', 'opponent', 'hits.Kennen', 'passively', 'deals', 'extra', 'damage', 'adds', 'Mark', 'Storm', 'target', 'every', 'attacks', ',', 'activate', 'ability', 'damage', 'add', 'another', 'Mark', 'Storm', 'targets', 'already', 'marked.Kennen', 'morphs', 'lightning', 'form', ',', 'enabling', 'pass', 'units', 'apply', 'Mark', 'Storm', '.', 'Kennen', 'gains', 'movement', 'speed', 'entering', 'form', ',', 'attack', 'speed', 'leaving', 'it.Kennen', 'summons', 'storm', 'strikes', 'nearby', 'enemy', 'champions', 'magical', 'damage', '.']\n",
            "['Taste', 'Their', 'Fear', 'deals', 'bonus', 'damage', 'to', 'targets', 'that', 'are', 'isolated', '.', 'Gain', 'an', 'advantage', 'by', 'fighting', 'near', 'allied', 'minions', ',', 'champions', ',', 'or', 'turrets', '.', 'Leap', 'and', 'Void', 'Assault', 'have', 'long', 'cooldowns', '.', \"Kha'Zix\", 'is', 'very', 'vulnerable', 'when', 'these', 'are', 'not', 'available', '.', 'Enemies', 'are', 'considered', 'isolated', 'if', 'they', 'have', 'no', 'allies', 'within', 'a', 'short', 'distance', '.', 'The', 'damage', 'of', 'Taste', 'Their', 'Fear', 'is', 'massively', 'increased', 'against', 'these', 'targets', '.', 'Unseen', 'Threat', 'activates', 'when', \"Kha'Zix\", 'can', 'not', 'be', 'seen', 'by', 'the', 'enemy', 'team', '.', 'Reactivate', 'by', 'using', 'brush', 'or', 'Void', 'Assault', '.', 'Do', \"n't\", 'forget', 'to', 'apply', 'Unseen', 'Threat', 'by', 'autoattacking', 'enemy', 'champions', '.', \"Kha'Zix\", 'has', 'a', 'great', 'deal', 'of', 'freedom', 'to', 'choose', 'where', 'and', 'when', 'to', 'fight', '.', 'Pick', 'your', 'battles', 'carefully', 'to', 'succeed.Deals', 'physical', 'damage', 'to', 'the', 'target', '.', 'Damage', 'increased', 'on', 'Isolated', 'targets', '.', 'If', 'he', 'chooses', 'to', 'Evolve', 'Reaper', 'Claws', ',', 'this', 'refunds', 'a', 'percent', 'of', 'it', \"'s\", 'cooldown', 'against', 'Isolated', 'targets', '.', \"Kha'Zix\", 'also', 'gains', 'increased', 'range', 'on', 'his', 'basic', 'attacks', 'and', 'Taste', 'Their', \"Fear.Kha'Zix\", 'fires', 'exploding', 'spikes', 'that', 'deal', 'physical', 'damage', 'to', 'enemies', 'hit', '.', \"Kha'Zix\", 'is', 'healed', 'if', 'he', 'is', 'also', 'within', 'the', 'explosion', 'radius', '.', 'If', 'he', 'chooses', 'to', 'Evolve', 'Spike', 'Racks', ',', 'Void', 'Spike', 'now', 'fires', 'three', 'spikes', 'in', 'a', 'cone', ',', 'slow', 'enemies', 'hit', ',', 'and', 'reveals', 'enemy', 'champions', 'hit', 'for', '2', 'seconds', '.', 'Isolated', 'targets', 'are', 'slowed', 'for', \"extra.Kha'Zix\", 'leaps', 'to', 'an', 'area', ',', 'dealing', 'physical', 'damage', 'upon', 'landing', '.', 'If', 'he', 'chooses', 'to', 'Evolve', 'Wings', ',', 'Leap', \"'s\", 'range', 'increases', 'by', '200', 'and', 'the', 'cooldown', 'resets', 'on', 'champion', 'kill', 'or', 'assist.Each', 'rank', 'allows', \"Kha'Zix\", 'to', 'evolve', 'one', 'of', 'his', 'abilities', ',', 'giving', 'it', 'a', 'unique', 'additional', 'effect', '.', 'When', 'activated', ',', \"Kha'Zix\", 'becomes', 'Invisible', ',', 'triggering', 'Unseen', 'Threat', 'and', 'increasing', 'Movement', 'Speed', '.', 'If', 'he', 'chooses', 'to', 'Evolve', 'Adaptive', 'Cloaking', ',', 'Void', 'Assault', 'gains', 'increased', 'Invisibility', 'duration', ',', 'and', 'an', 'additional', 'use', '.'] \n",
            "\n",
            "['Taste', 'Their', 'Fear', 'deals', 'bonus', 'damage', 'targets', 'isolated', '.', 'Gain', 'advantage', 'fighting', 'near', 'allied', 'minions', ',', 'champions', ',', 'turrets', '.', 'Leap', 'Void', 'Assault', 'long', 'cooldowns', '.', \"Kha'Zix\", 'vulnerable', 'available', '.', 'Enemies', 'considered', 'isolated', 'allies', 'within', 'short', 'distance', '.', 'The', 'damage', 'Taste', 'Their', 'Fear', 'massively', 'increased', 'targets', '.', 'Unseen', 'Threat', 'activates', \"Kha'Zix\", 'seen', 'enemy', 'team', '.', 'Reactivate', 'using', 'brush', 'Void', 'Assault', '.', 'Do', \"n't\", 'forget', 'apply', 'Unseen', 'Threat', 'autoattacking', 'enemy', 'champions', '.', \"Kha'Zix\", 'great', 'deal', 'freedom', 'choose', 'fight', '.', 'Pick', 'battles', 'carefully', 'succeed.Deals', 'physical', 'damage', 'target', '.', 'Damage', 'increased', 'Isolated', 'targets', '.', 'If', 'chooses', 'Evolve', 'Reaper', 'Claws', ',', 'refunds', 'percent', \"'s\", 'cooldown', 'Isolated', 'targets', '.', \"Kha'Zix\", 'also', 'gains', 'increased', 'range', 'basic', 'attacks', 'Taste', 'Their', \"Fear.Kha'Zix\", 'fires', 'exploding', 'spikes', 'deal', 'physical', 'damage', 'enemies', 'hit', '.', \"Kha'Zix\", 'healed', 'also', 'within', 'explosion', 'radius', '.', 'If', 'chooses', 'Evolve', 'Spike', 'Racks', ',', 'Void', 'Spike', 'fires', 'three', 'spikes', 'cone', ',', 'slow', 'enemies', 'hit', ',', 'reveals', 'enemy', 'champions', 'hit', '2', 'seconds', '.', 'Isolated', 'targets', 'slowed', \"extra.Kha'Zix\", 'leaps', 'area', ',', 'dealing', 'physical', 'damage', 'upon', 'landing', '.', 'If', 'chooses', 'Evolve', 'Wings', ',', 'Leap', \"'s\", 'range', 'increases', '200', 'cooldown', 'resets', 'champion', 'kill', 'assist.Each', 'rank', 'allows', \"Kha'Zix\", 'evolve', 'one', 'abilities', ',', 'giving', 'unique', 'additional', 'effect', '.', 'When', 'activated', ',', \"Kha'Zix\", 'becomes', 'Invisible', ',', 'triggering', 'Unseen', 'Threat', 'increasing', 'Movement', 'Speed', '.', 'If', 'chooses', 'Evolve', 'Adaptive', 'Cloaking', ',', 'Void', 'Assault', 'gains', 'increased', 'Invisibility', 'duration', ',', 'additional', 'use', '.']\n",
            "['Kindred', 'is', 'fragile', '-', 'turn', 'the', 'pressure', 'up', 'on', 'her', ',', 'and', 'she', 'will', 'be', 'forced', 'to', 'play', 'cautiously', '.', 'Clear', 'the', 'Hunts', 'Wolf', 'activates', 'on', 'jungle', 'camps', 'to', 'slow', 'down', 'Kindred', \"'s\", 'damage', 'output', '.', 'When', 'Kindred', 'uses', 'Lamb', \"'s\", 'Respite', 'get', 'inside', ',', 'it', 'stops', 'all', 'champions', 'from', 'dying', '.', 'Moving', 'around', 'between', 'attacks', 'while', 'jungling', 'will', 'help', 'you', 'avoid', 'damage', 'and', 'also', 'generate', 'more', 'heals', 'from', 'Wolf', \"'s\", 'Frenzy', '.', 'Pick', 'which', 'Hunts', 'you', 'want', 'to', 'pursue', 'carefully', ';', 'getting', 'many', 'of', 'them', 'is', 'the', 'key', 'to', 'success', 'as', 'the', 'game', 'goes', 'on', '.', 'Do', \"n't\", 'go', 'in', 'first', 'to', 'a', 'large', 'team', 'fight', '.', 'Wait', 'for', 'your', 'teammates', 'to', 'initiate.Kindred', 'tumbles', 'and', 'shoots', 'up', 'to', 'three', 'arrows', 'at', 'nearby', 'targets.Wolf', 'enrages', 'and', 'attacks', 'enemies', 'around', 'him', '.', 'Lamb', 'passively', 'gains', 'stacks', 'by', 'moving', 'and', 'attacking', '.', 'When', 'fully', 'charged', ',', 'Lamb', \"'s\", 'next', 'attack', 'restores', 'health.Lamb', 'fires', 'a', 'carefully', 'placed', 'shot', ',', 'slowing', 'the', 'target', '.', 'If', 'Lamb', 'attacks', 'the', 'target', 'two', 'more', 'times', ',', 'her', 'third', 'attack', 'instead', 'directs', 'Wolf', 'to', 'pounce', 'on', 'the', 'enemy', ',', 'savaging', 'them', 'for', 'massive', 'damage.Lamb', 'grants', 'all', 'living', 'things', 'inside', 'a', 'zone', 'a', 'respite', 'from', 'death', '.', 'Until', 'the', 'effect', 'ends', ',', 'nothing', 'can', 'die', '.', 'At', 'the', 'end', ',', 'units', 'are', 'healed', '.'] \n",
            "\n",
            "['Kindred', 'fragile', '-', 'turn', 'pressure', ',', 'forced', 'play', 'cautiously', '.', 'Clear', 'Hunts', 'Wolf', 'activates', 'jungle', 'camps', 'slow', 'Kindred', \"'s\", 'damage', 'output', '.', 'When', 'Kindred', 'uses', 'Lamb', \"'s\", 'Respite', 'get', 'inside', ',', 'stops', 'champions', 'dying', '.', 'Moving', 'around', 'attacks', 'jungling', 'help', 'avoid', 'damage', 'also', 'generate', 'heals', 'Wolf', \"'s\", 'Frenzy', '.', 'Pick', 'Hunts', 'want', 'pursue', 'carefully', ';', 'getting', 'many', 'key', 'success', 'game', 'goes', '.', 'Do', \"n't\", 'go', 'first', 'large', 'team', 'fight', '.', 'Wait', 'teammates', 'initiate.Kindred', 'tumbles', 'shoots', 'three', 'arrows', 'nearby', 'targets.Wolf', 'enrages', 'attacks', 'enemies', 'around', '.', 'Lamb', 'passively', 'gains', 'stacks', 'moving', 'attacking', '.', 'When', 'fully', 'charged', ',', 'Lamb', \"'s\", 'next', 'attack', 'restores', 'health.Lamb', 'fires', 'carefully', 'placed', 'shot', ',', 'slowing', 'target', '.', 'If', 'Lamb', 'attacks', 'target', 'two', 'times', ',', 'third', 'attack', 'instead', 'directs', 'Wolf', 'pounce', 'enemy', ',', 'savaging', 'massive', 'damage.Lamb', 'grants', 'living', 'things', 'inside', 'zone', 'respite', 'death', '.', 'Until', 'effect', 'ends', ',', 'nothing', 'die', '.', 'At', 'end', ',', 'units', 'healed', '.']\n",
            "['Kled', 'generates', 'courage', 'by', 'damaging', 'enemies', 'with', 'his', 'Pocket', 'Pistol', 'and', 'basic', 'attacks', ',', 'killing', 'minions', ',', 'and', 'attacking', 'structures', 'or', 'epic', 'monsters', '.', 'Watch', 'Kled', \"'s\", 'courage', 'bar', 'when', 'he', \"'s\", 'off', 'his', 'mount', '-', 'when', 'it', 'reaches', '100', '%', ',', 'he', 'will', 'remount', 'and', 'regain', 'a', 'significant', 'amount', 'of', 'health', '.', 'Kled', 'is', 'much', 'more', 'threatening', 'when', 'he', 'has', 'Violent', 'Tendencies', 'ready', '.', 'Kled', 'generates', 'some', 'courage', 'by', 'killing', 'minions', ',', 'but', 'gets', 'much', 'more', 'from', 'fighting', 'Champions', '.', 'The', 'last', 'hit', 'of', 'Violent', 'Tendencies', 'deals', 'more', 'damage', 'than', 'the', 'first', 'three', '-', 'make', 'sure', 'you', 'hit', 'it', '!', 'Chaaaaaaaarge', '!', '!', '!', 'can', 'be', 'cast', 'at', 'a', 'great', 'range', '.', 'Try', 'and', 'predict', 'where', 'the', 'enemy', 'team', 'will', 'be', 'by', 'the', 'time', 'you', 'reach', 'them.Kled', 'throws', 'a', 'bear', 'trap', 'that', 'damages', 'and', 'hooks', 'an', 'enemy', 'champion', '.', 'If', 'shackled', 'for', 'a', 'short', 'duration', ',', 'the', 'target', 'takes', 'additional', 'physical', 'damage', 'and', 'is', 'yanked', 'toward', 'Kled.When', 'dismounted', ',', 'this', 'ability', 'is', 'replaced', 'by', 'Pocket', 'Pistol', ',', 'a', 'ranged', 'gun', 'blast', 'that', 'knocks', 'back', 'Kled', 'and', 'restores', 'courage.Kled', 'gains', 'massive', 'attack', 'speed', 'for', 'four', 'attacks', '.', 'The', 'fourth', 'attack', 'deals', 'more', 'damage.Kled', 'dashes', ',', 'dealing', 'physical', 'damage', 'and', 'gaining', 'a', 'short', 'burst', 'of', 'speed', '.', 'Kled', 'can', 'cast', 'this', 'ability', 'again', 'to', 'dash', 'back', 'through', 'his', 'initial', 'target', ',', 'dealing', 'the', 'same', 'damage.Kled', 'and', 'Skaarl', 'charge', 'to', 'a', 'location', ',', 'leaving', 'a', 'speed-granting', 'trail', 'behind', 'them', 'and', 'gaining', 'a', 'shield', '.', 'Skaarl', 'locks', 'onto', 'and', 'rams', 'the', 'first', 'enemy', 'champion', 'encountered', '.'] \n",
            "\n",
            "['Kled', 'generates', 'courage', 'damaging', 'enemies', 'Pocket', 'Pistol', 'basic', 'attacks', ',', 'killing', 'minions', ',', 'attacking', 'structures', 'epic', 'monsters', '.', 'Watch', 'Kled', \"'s\", 'courage', 'bar', \"'s\", 'mount', '-', 'reaches', '100', '%', ',', 'remount', 'regain', 'significant', 'amount', 'health', '.', 'Kled', 'much', 'threatening', 'Violent', 'Tendencies', 'ready', '.', 'Kled', 'generates', 'courage', 'killing', 'minions', ',', 'gets', 'much', 'fighting', 'Champions', '.', 'The', 'last', 'hit', 'Violent', 'Tendencies', 'deals', 'damage', 'first', 'three', '-', 'make', 'sure', 'hit', '!', 'Chaaaaaaaarge', '!', '!', '!', 'cast', 'great', 'range', '.', 'Try', 'predict', 'enemy', 'team', 'time', 'reach', 'them.Kled', 'throws', 'bear', 'trap', 'damages', 'hooks', 'enemy', 'champion', '.', 'If', 'shackled', 'short', 'duration', ',', 'target', 'takes', 'additional', 'physical', 'damage', 'yanked', 'toward', 'Kled.When', 'dismounted', ',', 'ability', 'replaced', 'Pocket', 'Pistol', ',', 'ranged', 'gun', 'blast', 'knocks', 'back', 'Kled', 'restores', 'courage.Kled', 'gains', 'massive', 'attack', 'speed', 'four', 'attacks', '.', 'The', 'fourth', 'attack', 'deals', 'damage.Kled', 'dashes', ',', 'dealing', 'physical', 'damage', 'gaining', 'short', 'burst', 'speed', '.', 'Kled', 'cast', 'ability', 'dash', 'back', 'initial', 'target', ',', 'dealing', 'damage.Kled', 'Skaarl', 'charge', 'location', ',', 'leaving', 'speed-granting', 'trail', 'behind', 'gaining', 'shield', '.', 'Skaarl', 'locks', 'onto', 'rams', 'first', 'enemy', 'champion', 'encountered', '.']\n",
            "[\"Kog'Maw\", 'does', \"n't\", 'have', 'a', 'good', 'escape', 'ability', ',', 'so', 'he', 'is', 'especially', 'prone', 'to', 'ganks', '.', 'Run', 'away', 'from', \"Kog'Maw\", 'after', 'he', 'dies', '!', '!', '!', '!', 'The', 'range', 'on', 'Living', 'Artillery', 'increases', 'each', 'rank', '.', 'Bio-Arcane', 'Barrage', 'allows', \"Kog'Maw\", 'to', 'kill', 'Baron', 'Nashor', 'extremely', 'early', '.', 'It', 'can', 'be', 'valuable', 'to', 'ward', 'Nashor', 'when', \"Kog'Maw\", 'completes', 'his', 'Blade', 'of', 'the', 'Ruined', 'King', '.', \"Kog'Maw\", 'can', 'outrange', 'most', 'champions', 'with', 'his', 'Bio-Arcane', 'Barrage', 'ability', '.', 'Use', 'Void', 'Ooze', 'to', 'set', 'up', 'a', 'perfect', 'Living', 'Artillery', '.', 'Make', 'the', 'most', 'out', 'of', 'your', 'Icathian', \"Surprise.Kog'Maw\", 'launches', 'a', 'corrosive', 'projectile', 'which', 'deals', 'magic', 'damage', 'and', 'corrodes', 'the', 'target', \"'s\", 'armor', 'and', 'magic', 'resist', 'for', 'a', 'short', 'time', '.', \"Kog'Maw\", 'also', 'gains', 'additional', 'attack', \"speed.Kog'Maw\", \"'s\", 'attacks', 'gain', 'range', 'and', 'deal', 'a', 'percent', 'of', 'the', 'target', \"'s\", 'maximum', 'health', 'as', 'magic', \"damage.Kog'Maw\", 'launches', 'a', 'peculiar', 'ooze', 'which', 'damages', 'all', 'enemies', 'it', 'passes', 'through', 'and', 'leaves', 'a', 'trail', 'which', 'slows', 'enemies', 'who', 'stand', 'on', \"it.Kog'Maw\", 'fires', 'an', 'artillery', 'shell', 'at', 'a', 'great', 'distance', 'dealing', 'magic', 'damage', '(', 'increased', 'significantly', 'on', 'low', 'health', 'enemies', ')', 'and', 'revealing', 'non-stealthed', 'targets', '.', 'Additionally', ',', 'multiple', 'Living', 'Artilleries', 'in', 'a', 'short', 'period', 'of', 'time', 'cause', 'them', 'to', 'cost', 'additional', 'Mana', '.'] \n",
            "\n",
            "[\"Kog'Maw\", \"n't\", 'good', 'escape', 'ability', ',', 'especially', 'prone', 'ganks', '.', 'Run', 'away', \"Kog'Maw\", 'dies', '!', '!', '!', '!', 'The', 'range', 'Living', 'Artillery', 'increases', 'rank', '.', 'Bio-Arcane', 'Barrage', 'allows', \"Kog'Maw\", 'kill', 'Baron', 'Nashor', 'extremely', 'early', '.', 'It', 'valuable', 'ward', 'Nashor', \"Kog'Maw\", 'completes', 'Blade', 'Ruined', 'King', '.', \"Kog'Maw\", 'outrange', 'champions', 'Bio-Arcane', 'Barrage', 'ability', '.', 'Use', 'Void', 'Ooze', 'set', 'perfect', 'Living', 'Artillery', '.', 'Make', 'Icathian', \"Surprise.Kog'Maw\", 'launches', 'corrosive', 'projectile', 'deals', 'magic', 'damage', 'corrodes', 'target', \"'s\", 'armor', 'magic', 'resist', 'short', 'time', '.', \"Kog'Maw\", 'also', 'gains', 'additional', 'attack', \"speed.Kog'Maw\", \"'s\", 'attacks', 'gain', 'range', 'deal', 'percent', 'target', \"'s\", 'maximum', 'health', 'magic', \"damage.Kog'Maw\", 'launches', 'peculiar', 'ooze', 'damages', 'enemies', 'passes', 'leaves', 'trail', 'slows', 'enemies', 'stand', \"it.Kog'Maw\", 'fires', 'artillery', 'shell', 'great', 'distance', 'dealing', 'magic', 'damage', '(', 'increased', 'significantly', 'low', 'health', 'enemies', ')', 'revealing', 'non-stealthed', 'targets', '.', 'Additionally', ',', 'multiple', 'Living', 'Artilleries', 'short', 'period', 'time', 'cause', 'cost', 'additional', 'Mana', '.']\n",
            "['LeBlanc', \"'s\", 'ultimate', 'can', 'create', 'fake', 'LeBlancs', 'during', 'her', 'spellcast', 'or', ',', 'rarely', ',', 'at', 'a', 'distant', 'position', '.', 'The', 'fake', 'LeBlanc', 'created', 'at', 'a', 'distance', 'will', 'always', 'run', 'at', 'the', 'nearest', 'Champion', ',', 'cast', 'a', 'harmless', 'spell', ',', 'then', 'immediately', 'disappear', '.', 'Attacking', 'LeBlanc', 'first', 'avoids', 'most', 'of', 'her', 'tricks', ',', 'especially', 'if', 'she', \"'s\", 'recently', 'used', 'her', 'dash', ',', 'Distortion', '.', 'Stunning', 'or', 'silencing', 'LeBlanc', 'will', 'prevent', 'her', 'from', 'activating', 'the', 'return', 'part', 'of', 'Distortion', '.', 'Distortion', 'allows', 'you', 'to', 'be', 'aggressive', 'with', 'your', 'other', 'spells', 'while', 'being', 'able', 'to', 'return', 'to', 'safety', '.', 'Using', 'Distortion', 'can', 'help', 'your', 'positioning', 'to', 'land', 'Ethereal', 'Chains', '.', 'You', 'can', 'chain', 'Sigil', 'of', 'Malice', 'and', 'Ethereal', 'Chains', 'to', 'prevent', 'characters', 'with', 'blink', 'from', 'escaping', 'for', 'up', 'to', '4', 'seconds.LeBlanc', 'projects', 'a', 'sigil', ',', 'dealing', 'damage', 'and', 'marking', 'the', 'target', 'for', '3.5', 'seconds', '.', 'Damaging', 'the', 'marked', 'target', 'with', 'an', 'ability', 'detonates', 'the', 'sigil', ',', 'dealing', 'additional', 'damage.LeBlanc', 'dashes', 'to', 'a', 'location', ',', 'dealing', 'damage', 'to', 'enemies', 'near', 'her', 'destination', '.', 'For', 'the', 'next', '4', 'seconds', ',', 'activate', 'Distortion', 'again', 'to', 'return', 'LeBlanc', 'to', 'her', 'starting', 'location.LeBlanc', 'launches', 'a', 'chain', 'that', 'shackles', 'the', 'first', 'enemy', 'hit', '.', 'If', 'the', 'target', 'remains', 'shackled', 'for', '1.5', 'seconds', ',', 'LeBlanc', 'roots', 'them', 'and', 'deals', 'additional', 'damage.LeBlanc', 'casts', 'a', 'mimicked', 'version', 'of', 'one', 'of', 'her', 'basic', 'spells', '.'] \n",
            "\n",
            "['LeBlanc', \"'s\", 'ultimate', 'create', 'fake', 'LeBlancs', 'spellcast', ',', 'rarely', ',', 'distant', 'position', '.', 'The', 'fake', 'LeBlanc', 'created', 'distance', 'always', 'run', 'nearest', 'Champion', ',', 'cast', 'harmless', 'spell', ',', 'immediately', 'disappear', '.', 'Attacking', 'LeBlanc', 'first', 'avoids', 'tricks', ',', 'especially', \"'s\", 'recently', 'used', 'dash', ',', 'Distortion', '.', 'Stunning', 'silencing', 'LeBlanc', 'prevent', 'activating', 'return', 'part', 'Distortion', '.', 'Distortion', 'allows', 'aggressive', 'spells', 'able', 'return', 'safety', '.', 'Using', 'Distortion', 'help', 'positioning', 'land', 'Ethereal', 'Chains', '.', 'You', 'chain', 'Sigil', 'Malice', 'Ethereal', 'Chains', 'prevent', 'characters', 'blink', 'escaping', '4', 'seconds.LeBlanc', 'projects', 'sigil', ',', 'dealing', 'damage', 'marking', 'target', '3.5', 'seconds', '.', 'Damaging', 'marked', 'target', 'ability', 'detonates', 'sigil', ',', 'dealing', 'additional', 'damage.LeBlanc', 'dashes', 'location', ',', 'dealing', 'damage', 'enemies', 'near', 'destination', '.', 'For', 'next', '4', 'seconds', ',', 'activate', 'Distortion', 'return', 'LeBlanc', 'starting', 'location.LeBlanc', 'launches', 'chain', 'shackles', 'first', 'enemy', 'hit', '.', 'If', 'target', 'remains', 'shackled', '1.5', 'seconds', ',', 'LeBlanc', 'roots', 'deals', 'additional', 'damage.LeBlanc', 'casts', 'mimicked', 'version', 'one', 'basic', 'spells', '.']\n",
            "['Stay', 'spread', 'out', 'to', 'minimize', 'the', 'impact', 'of', 'Lee', 'Sin', \"'s\", 'ultimate', ',', 'Dragon', \"'s\", 'Rage', '.', 'Lee', 'Sin', 'has', 'powerful', 'tools', 'to', 'combat', 'physical', 'damage', 'in', 'Iron', 'Will', 'and', 'Cripple', 'but', 'he', 'is', 'still', 'vulnerable', 'to', 'magic', 'damage', '.', 'Lee', 'Sin', 'relies', 'heavily', 'on', 'following', 'up', 'with', 'his', 'abilities', '.', 'Use', 'disables', 'to', 'prevent', 'him', 'from', 'chaining', 'together', 'his', 'abilities', 'and', 'attacks', '.', 'Use', 'Sonic', 'Wave', 'before', 'Dragon', \"'s\", 'Rage', 'so', 'you', 'can', 'chase', 'the', 'target', 'with', 'Resonating', 'Strike', '.', 'Take', 'advantage', 'of', 'Flurry', 'by', 'weaving', 'in', 'basic', 'attacks', 'between', 'spell', 'casts', '-', 'this', 'maximizes', 'damage', 'output', 'and', 'minimizes', 'Energy', 'loss', '.', 'Self-casting', 'Safeguard', 'and', 'using', 'Iron', 'Will', 'are', 'powerful', 'tools', 'for', 'killing', 'neutral', 'monsters', '(', 'in', 'the', 'jungle', ')', '.Sonic', 'Wave', ':', 'Lee', 'Sin', 'projects', 'a', 'discordant', 'wave', 'of', 'sound', 'to', 'locate', 'his', 'enemies', ',', 'dealing', 'physical', 'damage', 'to', 'the', 'first', 'enemy', 'it', 'encounters', '.', 'If', 'Sonic', 'Wave', 'hits', ',', 'Lee', 'Sin', 'can', 'cast', 'Resonating', 'Strike', 'for', 'the', 'next', '3', 'seconds.Resonating', 'Strike', ':', 'Lee', 'Sin', 'dashes', 'to', 'the', 'enemy', 'hit', 'by', 'Sonic', 'Wave', ',', 'dealing', 'physical', 'damage', 'based', 'on', 'the', 'target', \"'s\", 'missing', 'Health.Safeguard', ':', 'Lee', 'Sin', 'rushes', 'to', 'target', 'ally', ',', 'shielding', 'himself', 'from', 'damage', '.', 'If', 'the', 'ally', 'is', 'a', 'champion', ',', 'they', 'are', 'also', 'shielded', '.', 'After', 'using', 'Safeguard', ',', 'Lee', 'Sin', 'can', 'cast', 'Iron', 'Will', 'for', 'the', 'next', '3', 'seconds.Iron', 'Will', ':', 'Lee', 'Sin', \"'s\", 'intense', 'training', 'allows', 'him', 'to', 'thrive', 'in', 'battle', '.', 'For', '4', 'seconds', ',', 'Lee', 'Sin', 'gains', 'Life', 'Steal', 'and', 'Spell', 'Vamp.Tempest', ':', 'Lee', 'Sin', 'smashes', 'the', 'ground', ',', 'sending', 'out', 'a', 'shockwave', 'that', 'deals', 'magic', 'damage', 'and', 'reveals', 'enemy', 'units', 'hit', '.', 'If', 'Tempest', 'hits', 'an', 'enemy', ',', 'Lee', 'Sin', 'can', 'cast', 'cripple', 'for', 'the', 'next', '3', 'seconds.Cripple', ':', 'Lee', 'Sin', 'cripples', 'nearby', 'enemies', 'damaged', 'by', 'Tempest', ',', 'reducing', 'their', 'Move', 'Speed', 'for', '4', 'seconds', '.', 'Move', 'Speed', 'recovers', 'gradually', 'over', 'the', 'duration.Lee', 'Sin', 'performs', 'a', 'powerful', 'roundhouse', 'kick', 'launching', 'his', 'target', 'back', ',', 'dealing', 'physical', 'damage', 'to', 'the', 'target', 'and', 'any', 'enemies', 'they', 'collide', 'with', '.', 'Enemies', 'the', 'target', 'collides', 'with', 'are', 'knocked', 'into', 'the', 'air', 'for', 'a', 'short', 'duration', '.', 'This', 'technique', 'was', 'taught', 'to', 'him', 'by', 'Jesse', 'Perring', ',', 'although', 'Lee', 'Sin', 'does', 'not', 'kick', 'players', 'off', 'the', 'map', '.'] \n",
            "\n",
            "['Stay', 'spread', 'minimize', 'impact', 'Lee', 'Sin', \"'s\", 'ultimate', ',', 'Dragon', \"'s\", 'Rage', '.', 'Lee', 'Sin', 'powerful', 'tools', 'combat', 'physical', 'damage', 'Iron', 'Will', 'Cripple', 'still', 'vulnerable', 'magic', 'damage', '.', 'Lee', 'Sin', 'relies', 'heavily', 'following', 'abilities', '.', 'Use', 'disables', 'prevent', 'chaining', 'together', 'abilities', 'attacks', '.', 'Use', 'Sonic', 'Wave', 'Dragon', \"'s\", 'Rage', 'chase', 'target', 'Resonating', 'Strike', '.', 'Take', 'advantage', 'Flurry', 'weaving', 'basic', 'attacks', 'spell', 'casts', '-', 'maximizes', 'damage', 'output', 'minimizes', 'Energy', 'loss', '.', 'Self-casting', 'Safeguard', 'using', 'Iron', 'Will', 'powerful', 'tools', 'killing', 'neutral', 'monsters', '(', 'jungle', ')', '.Sonic', 'Wave', ':', 'Lee', 'Sin', 'projects', 'discordant', 'wave', 'sound', 'locate', 'enemies', ',', 'dealing', 'physical', 'damage', 'first', 'enemy', 'encounters', '.', 'If', 'Sonic', 'Wave', 'hits', ',', 'Lee', 'Sin', 'cast', 'Resonating', 'Strike', 'next', '3', 'seconds.Resonating', 'Strike', ':', 'Lee', 'Sin', 'dashes', 'enemy', 'hit', 'Sonic', 'Wave', ',', 'dealing', 'physical', 'damage', 'based', 'target', \"'s\", 'missing', 'Health.Safeguard', ':', 'Lee', 'Sin', 'rushes', 'target', 'ally', ',', 'shielding', 'damage', '.', 'If', 'ally', 'champion', ',', 'also', 'shielded', '.', 'After', 'using', 'Safeguard', ',', 'Lee', 'Sin', 'cast', 'Iron', 'Will', 'next', '3', 'seconds.Iron', 'Will', ':', 'Lee', 'Sin', \"'s\", 'intense', 'training', 'allows', 'thrive', 'battle', '.', 'For', '4', 'seconds', ',', 'Lee', 'Sin', 'gains', 'Life', 'Steal', 'Spell', 'Vamp.Tempest', ':', 'Lee', 'Sin', 'smashes', 'ground', ',', 'sending', 'shockwave', 'deals', 'magic', 'damage', 'reveals', 'enemy', 'units', 'hit', '.', 'If', 'Tempest', 'hits', 'enemy', ',', 'Lee', 'Sin', 'cast', 'cripple', 'next', '3', 'seconds.Cripple', ':', 'Lee', 'Sin', 'cripples', 'nearby', 'enemies', 'damaged', 'Tempest', ',', 'reducing', 'Move', 'Speed', '4', 'seconds', '.', 'Move', 'Speed', 'recovers', 'gradually', 'duration.Lee', 'Sin', 'performs', 'powerful', 'roundhouse', 'kick', 'launching', 'target', 'back', ',', 'dealing', 'physical', 'damage', 'target', 'enemies', 'collide', '.', 'Enemies', 'target', 'collides', 'knocked', 'air', 'short', 'duration', '.', 'This', 'technique', 'taught', 'Jesse', 'Perring', ',', 'although', 'Lee', 'Sin', 'kick', 'players', 'map', '.']\n",
            "['When', 'Leona', 'activates', 'Eclipse', ',', 'you', 'have', 'three', 'seconds', 'to', 'get', 'away', 'from', 'her', 'before', 'she', 'deals', 'damage', '.', 'Only', 'foes', 'in', 'the', 'center', 'of', 'Solar', 'Flare', 'get', 'stunned', ',', 'so', 'you', 'can', 'often', 'avoid', 'this', 'if', 'you', \"'re\", 'quick', '.', 'Lead', 'the', 'charge', 'and', 'mark', 'your', 'foes', 'with', 'Sunlight', 'before', 'your', 'allies', 'deal', 'damage', '.', 'Shield', 'of', 'Daybreak', 'and', 'Zenith', 'Blade', 'form', 'a', 'powerful', 'offensive', 'combo', '.', 'You', 'can', 'absorb', 'a', 'huge', 'amount', 'of', 'damage', 'using', 'Eclipse', ',', 'but', 'you', 'must', 'stay', 'near', 'enemies', 'to', 'gain', 'the', 'bonus', 'duration.Leona', 'uses', 'her', 'shield', 'to', 'perform', 'her', 'next', 'basic', 'attack', ',', 'dealing', 'bonus', 'magic', 'damage', 'and', 'stunning', 'the', 'target.Leona', 'raises', 'her', 'shield', 'to', 'gain', 'Damage', 'Reduction', ',', 'Armor', ',', 'and', 'Magic', 'Resist', '.', 'When', 'the', 'duration', 'first', 'ends', ',', 'if', 'there', 'are', 'nearby', 'enemies', ',', 'she', 'will', 'deal', 'magic', 'damage', 'to', 'them', 'and', 'prolong', 'the', 'duration', 'of', 'the', 'effect.Leona', 'projects', 'a', 'solar', 'image', 'of', 'her', 'sword', ',', 'dealing', 'magic', 'damage', 'to', 'all', 'enemies', 'in', 'a', 'line', '.', 'When', 'the', 'image', 'fades', ',', 'the', 'last', 'enemy', 'champion', 'struck', 'will', 'be', 'briefly', 'immobilized', 'and', 'Leona', 'will', 'dash', 'to', 'them.Leona', 'calls', 'down', 'a', 'beam', 'of', 'solar', 'energy', ',', 'dealing', 'damage', 'to', 'enemies', 'in', 'an', 'area', '.', 'Enemies', 'in', 'the', 'center', 'of', 'the', 'area', 'are', 'stunned', ',', 'while', 'enemies', 'on', 'the', 'outside', 'are', 'slowed', '.'] \n",
            "\n",
            "['When', 'Leona', 'activates', 'Eclipse', ',', 'three', 'seconds', 'get', 'away', 'deals', 'damage', '.', 'Only', 'foes', 'center', 'Solar', 'Flare', 'get', 'stunned', ',', 'often', 'avoid', \"'re\", 'quick', '.', 'Lead', 'charge', 'mark', 'foes', 'Sunlight', 'allies', 'deal', 'damage', '.', 'Shield', 'Daybreak', 'Zenith', 'Blade', 'form', 'powerful', 'offensive', 'combo', '.', 'You', 'absorb', 'huge', 'amount', 'damage', 'using', 'Eclipse', ',', 'must', 'stay', 'near', 'enemies', 'gain', 'bonus', 'duration.Leona', 'uses', 'shield', 'perform', 'next', 'basic', 'attack', ',', 'dealing', 'bonus', 'magic', 'damage', 'stunning', 'target.Leona', 'raises', 'shield', 'gain', 'Damage', 'Reduction', ',', 'Armor', ',', 'Magic', 'Resist', '.', 'When', 'duration', 'first', 'ends', ',', 'nearby', 'enemies', ',', 'deal', 'magic', 'damage', 'prolong', 'duration', 'effect.Leona', 'projects', 'solar', 'image', 'sword', ',', 'dealing', 'magic', 'damage', 'enemies', 'line', '.', 'When', 'image', 'fades', ',', 'last', 'enemy', 'champion', 'struck', 'briefly', 'immobilized', 'Leona', 'dash', 'them.Leona', 'calls', 'beam', 'solar', 'energy', ',', 'dealing', 'damage', 'enemies', 'area', '.', 'Enemies', 'center', 'area', 'stunned', ',', 'enemies', 'outside', 'slowed', '.']\n",
            "['Passively', ',', 'Lillia', 'gains', 'stacking', 'Move', 'Speed', 'when', 'hitting', 'enemies', 'with', 'spells', '.', 'She', 'can', 'activate', 'this', 'to', 'deal', 'magic', 'damage', 'to', 'nearby', 'enemies', ',', 'dealing', 'extra', 'true', 'damage', 'on', 'the', 'edge.Lillia', 'deals', 'damage', 'in', 'a', 'nearby', 'area', ',', 'dealing', 'heavy', 'damage', 'in', 'the', 'center.Lillia', 'hurls', 'a', 'seed', 'that', 'damages', 'and', 'slows', 'those', 'it', 'lands', 'on', '.', 'If', 'it', 'does', \"n't\", 'hit', 'anything', ',', 'it', 'will', 'continue', 'rolling', 'until', 'it', 'hits', 'a', 'wall', 'or', 'target.Lillia', 'causes', 'all', 'enemies', 'with', 'Dream', 'Dust', 'on', 'them', 'to', 'become', 'Drowsy', 'before', 'falling', 'asleep', '.', 'Those', 'enemies', 'will', 'take', 'extra', 'damage', 'on', 'being', 'forcibly', 'woken', 'up', '.'] \n",
            "\n",
            "['Passively', ',', 'Lillia', 'gains', 'stacking', 'Move', 'Speed', 'hitting', 'enemies', 'spells', '.', 'She', 'activate', 'deal', 'magic', 'damage', 'nearby', 'enemies', ',', 'dealing', 'extra', 'true', 'damage', 'edge.Lillia', 'deals', 'damage', 'nearby', 'area', ',', 'dealing', 'heavy', 'damage', 'center.Lillia', 'hurls', 'seed', 'damages', 'slows', 'lands', '.', 'If', \"n't\", 'hit', 'anything', ',', 'continue', 'rolling', 'hits', 'wall', 'target.Lillia', 'causes', 'enemies', 'Dream', 'Dust', 'become', 'Drowsy', 'falling', 'asleep', '.', 'Those', 'enemies', 'take', 'extra', 'damage', 'forcibly', 'woken', '.']\n",
            "['The', 'best', 'way', 'to', 'stop', 'Lissandra', 'from', 'moving', 'using', 'her', 'Glacial', 'Path', 'is', 'to', 'immobilize', 'her', 'before', 'she', 'reactivates', 'it', '.', 'Lissandra', \"'s\", 'Ring', 'of', 'Frost', 'has', 'a', 'long', 'cooldown', 'at', 'early', 'ranks', ';', 'engage', 'her', 'while', 'it', \"'s\", 'on', 'cooldown', '.', 'Lissandra', \"'s\", 'Ice', 'Shard', 'only', 'slows', 'the', 'first', 'unit', 'it', 'hits', '.', 'Approach', 'Lissandra', 'from', 'behind', 'your', 'team', \"'s\", 'minions', 'to', 'avoid', 'being', 'slowed', '.', 'You', 'can', 'instantly', 'use', 'your', 'ultimate', 'on', 'yourself', 'by', 'pressing', 'the', 'self', 'cast', 'key', 'and', 'the', 'ultimate', 'key', 'at', 'once', '(', 'alt+R', 'by', 'default', ')', '.', 'Casting', 'Glacial', 'Path', 'and', 'then', 'running', 'in', 'the', 'opposite', 'direction', 'will', 'leave', 'your', 'enemies', 'uncertain', 'which', 'way', 'you', 'will', 'actually', 'go', '.', 'Lissandra', \"'s\", 'abilities', 'are', 'shorter', 'range', 'than', 'those', 'of', 'many', 'mages', '.', 'As', 'a', 'result', ',', 'buying', 'items', 'that', 'offer', 'both', 'ability', 'power', 'and', 'defense', ',', 'like', 'Zhonya', \"'s\", 'Hourglass', 'and', 'Banshee', \"'s\", 'Veil', ',', 'can', 'be', 'a', 'great', 'choice', 'to', 'help', 'her', 'both', 'survive', 'and', 'deal', 'damage.Throws', 'a', 'spear', 'of', 'ice', 'that', 'shatters', 'when', 'it', 'hits', 'an', 'enemy', ',', 'dealing', 'magic', 'damage', 'and', 'slowing', 'Movement', 'Speed', '.', 'Shards', 'pass', 'through', 'the', 'target', ',', 'dealing', 'the', 'same', 'damage', 'to', 'other', 'enemies', 'hit.Freezes', 'nearby', 'enemies', 'in', 'ice', ',', 'dealing', 'magic', 'damage', 'and', 'rooting', 'them.Lissandra', 'creates', 'an', 'ice', 'claw', 'that', 'deals', 'magic', 'damage', '.', 'Reactivating', 'this', 'ability', 'transports', 'Lissandra', 'to', 'the', 'claw', \"'s\", 'current', 'location.If', 'cast', 'on', 'an', 'enemy', 'champion', ',', 'the', 'target', 'is', 'frozen', 'solid', ',', 'stunning', 'it', '.', 'If', 'cast', 'on', 'Lissandra', ',', 'she', 'encases', 'herself', 'in', 'dark', 'ice', ',', 'healing', 'herself', 'while', 'becoming', 'untargetable', 'and', 'invulnerable', '.', 'Dark', 'ice', 'then', 'emanates', 'from', 'the', 'target', 'dealing', 'magic', 'damage', 'to', 'enemies', 'and', 'slowing', 'Movement', 'Speed', '.'] \n",
            "\n",
            "['The', 'best', 'way', 'stop', 'Lissandra', 'moving', 'using', 'Glacial', 'Path', 'immobilize', 'reactivates', '.', 'Lissandra', \"'s\", 'Ring', 'Frost', 'long', 'cooldown', 'early', 'ranks', ';', 'engage', \"'s\", 'cooldown', '.', 'Lissandra', \"'s\", 'Ice', 'Shard', 'slows', 'first', 'unit', 'hits', '.', 'Approach', 'Lissandra', 'behind', 'team', \"'s\", 'minions', 'avoid', 'slowed', '.', 'You', 'instantly', 'use', 'ultimate', 'pressing', 'self', 'cast', 'key', 'ultimate', 'key', '(', 'alt+R', 'default', ')', '.', 'Casting', 'Glacial', 'Path', 'running', 'opposite', 'direction', 'leave', 'enemies', 'uncertain', 'way', 'actually', 'go', '.', 'Lissandra', \"'s\", 'abilities', 'shorter', 'range', 'many', 'mages', '.', 'As', 'result', ',', 'buying', 'items', 'offer', 'ability', 'power', 'defense', ',', 'like', 'Zhonya', \"'s\", 'Hourglass', 'Banshee', \"'s\", 'Veil', ',', 'great', 'choice', 'help', 'survive', 'deal', 'damage.Throws', 'spear', 'ice', 'shatters', 'hits', 'enemy', ',', 'dealing', 'magic', 'damage', 'slowing', 'Movement', 'Speed', '.', 'Shards', 'pass', 'target', ',', 'dealing', 'damage', 'enemies', 'hit.Freezes', 'nearby', 'enemies', 'ice', ',', 'dealing', 'magic', 'damage', 'rooting', 'them.Lissandra', 'creates', 'ice', 'claw', 'deals', 'magic', 'damage', '.', 'Reactivating', 'ability', 'transports', 'Lissandra', 'claw', \"'s\", 'current', 'location.If', 'cast', 'enemy', 'champion', ',', 'target', 'frozen', 'solid', ',', 'stunning', '.', 'If', 'cast', 'Lissandra', ',', 'encases', 'dark', 'ice', ',', 'healing', 'becoming', 'untargetable', 'invulnerable', '.', 'Dark', 'ice', 'emanates', 'target', 'dealing', 'magic', 'damage', 'enemies', 'slowing', 'Movement', 'Speed', '.']\n",
            "['Lucian', 'has', 'strong', 'burst', ',', 'but', 'little', 'sustained', 'damage', '.', 'Lucian', 'can', 'not', 'change', 'the', 'aim', 'of', 'The', 'Culling', '.', 'Take', 'advantage', 'of', 'this', 'by', 'avoiding', 'the', 'angle', 'of', 'the', 'bullets', '.', 'Piercing', 'Light', 'does', 'not', 'give', 'Lucian', 'extra', 'Attack', 'Range', '.', 'He', 'still', 'needs', 'to', 'find', 'a', 'target', 'in', 'range', 'to', 'line', 'up', 'his', 'shot', '.', 'Avoid', 'Piercing', 'Light', 'by', 'anticipating', 'the', 'angle', 'Lucian', 'will', 'choose', '.', 'For', 'optimal', 'burst', ',', 'try', 'to', 'combine', 'Relentless', 'Pursuit', 'into', 'Piercing', 'Light', '.', 'Ardent', 'Blaze', 'actually', 'explodes', 'in', 'a', 'star', 'pattern', '.', 'Try', 'to', 'line', 'it', 'up', 'so', 'the', 'spokes', 'hit', 'enemy', 'champions', '.', 'Once', 'you', 'have', 'chosen', 'an', 'angle', 'for', 'The', 'Culling', ',', 'you', 'can', 'not', 'change', 'it', '.', 'Pick', 'your', 'moment', 'well', '!', 'Because', 'of', 'Lightslinger', ',', 'Lucian', 'benefits', 'more', 'from', 'Attack', 'Damage', 'than', 'he', 'does', 'from', 'Attack', 'Speed.Lucian', 'shoots', 'a', 'bolt', 'of', 'piercing', 'light', 'through', 'a', 'target.Lucian', 'shoots', 'a', 'missile', 'that', 'explodes', 'in', 'a', 'star', 'shape', ',', 'marking', 'and', 'briefly', 'revealing', 'enemies', '.', 'Lucian', 'gains', 'Movement', 'Speed', 'for', 'attacking', 'marked', 'enemies.Lucian', 'quickly', 'dashes', 'a', 'short', 'distance', '.', 'Lightslinger', 'attacks', 'reduce', 'Relentless', 'Pursuit', \"'s\", 'cooldown.Lucian', 'unleashes', 'a', 'torrent', 'of', 'shots', 'from', 'his', 'weapons', '.'] \n",
            "\n",
            "['Lucian', 'strong', 'burst', ',', 'little', 'sustained', 'damage', '.', 'Lucian', 'change', 'aim', 'The', 'Culling', '.', 'Take', 'advantage', 'avoiding', 'angle', 'bullets', '.', 'Piercing', 'Light', 'give', 'Lucian', 'extra', 'Attack', 'Range', '.', 'He', 'still', 'needs', 'find', 'target', 'range', 'line', 'shot', '.', 'Avoid', 'Piercing', 'Light', 'anticipating', 'angle', 'Lucian', 'choose', '.', 'For', 'optimal', 'burst', ',', 'try', 'combine', 'Relentless', 'Pursuit', 'Piercing', 'Light', '.', 'Ardent', 'Blaze', 'actually', 'explodes', 'star', 'pattern', '.', 'Try', 'line', 'spokes', 'hit', 'enemy', 'champions', '.', 'Once', 'chosen', 'angle', 'The', 'Culling', ',', 'change', '.', 'Pick', 'moment', 'well', '!', 'Because', 'Lightslinger', ',', 'Lucian', 'benefits', 'Attack', 'Damage', 'Attack', 'Speed.Lucian', 'shoots', 'bolt', 'piercing', 'light', 'target.Lucian', 'shoots', 'missile', 'explodes', 'star', 'shape', ',', 'marking', 'briefly', 'revealing', 'enemies', '.', 'Lucian', 'gains', 'Movement', 'Speed', 'attacking', 'marked', 'enemies.Lucian', 'quickly', 'dashes', 'short', 'distance', '.', 'Lightslinger', 'attacks', 'reduce', 'Relentless', 'Pursuit', \"'s\", 'cooldown.Lucian', 'unleashes', 'torrent', 'shots', 'weapons', '.']\n",
            "['The', 'shots', 'from', 'Lulu', \"'s\", 'faerie', 'can', 'be', 'intercepted', '-', 'hide', 'behind', 'your', 'minions', 'to', 'avoid', 'the', 'additional', 'Faerie', 'attacks', '.', 'Lulu', 'excels', 'when', 'opponents', 'heavily', 'commit', '.', 'Do', \"n't\", 'give', 'her', 'this', 'chance', '!', 'Use', 'heavy', 'harass', 'tactics', 'instead', 'to', 'force', 'Lulu', 'and', 'her', 'partner', 'out', 'of', 'lane', '.', 'Glitterlance', 'can', 'be', 'fired', 'at', 'odd', 'angles', 'depending', 'on', 'where', 'your', 'cursor', 'is', '-', 'Moving', 'your', 'cursor', 'closer', 'to', 'Pix', 'and', 'Lulu', 'will', 'change', 'your', 'area', 'of', 'effect', 'size', 'considerably', '.', 'Consider', 'casting', 'Help', ',', 'Pix', '!', 'on', 'ranged', 'attackers', 'for', 'the', 'Pix', 'boost', 'and', 'Wild', 'Growth', 'on', 'Tanks', 'or', 'Fighters', 'for', 'the', 'added', 'initiation', 'power.Pix', 'and', 'Lulu', 'each', 'fire', 'a', 'bolt', 'of', 'magical', 'energy', 'that', 'damages', 'and', 'heavily', 'slows', 'all', 'enemies', 'it', 'hits.If', 'cast', 'on', 'an', 'ally', ',', 'grants', 'them', 'Attack', 'Speed', 'and', 'Movement', 'Speed', 'for', 'a', 'short', 'time', '.', 'If', 'cast', 'on', 'an', 'enemy', ',', 'turns', 'them', 'into', 'an', 'adorable', 'critter', 'that', 'ca', \"n't\", 'attack', 'or', 'cast', 'spells.If', 'cast', 'on', 'an', 'ally', ',', 'commands', 'Pix', 'to', 'jump', 'to', 'an', 'ally', 'and', 'shield', 'them', '.', 'He', 'then', 'follows', 'them', 'and', 'aids', 'their', 'attacks', '.', 'If', 'cast', 'on', 'an', 'enemy', ',', 'commands', 'Pix', 'to', 'jump', 'to', 'an', 'enemy', 'and', 'damage', 'them', '.', 'He', 'then', 'follows', 'them', 'and', 'grants', 'you', 'vision', 'of', 'that', 'enemy.Lulu', 'enlarges', 'an', 'ally', ',', 'knocking', 'nearby', 'enemies', 'into', 'the', 'air', 'and', 'granting', 'the', 'ally', 'a', 'large', 'amount', 'of', 'bonus', 'health', '.', 'For', 'the', 'next', 'few', 'seconds', ',', 'that', 'ally', 'gains', 'an', 'aura', 'that', 'slows', 'nearby', 'enemies', '.'] \n",
            "\n",
            "['The', 'shots', 'Lulu', \"'s\", 'faerie', 'intercepted', '-', 'hide', 'behind', 'minions', 'avoid', 'additional', 'Faerie', 'attacks', '.', 'Lulu', 'excels', 'opponents', 'heavily', 'commit', '.', 'Do', \"n't\", 'give', 'chance', '!', 'Use', 'heavy', 'harass', 'tactics', 'instead', 'force', 'Lulu', 'partner', 'lane', '.', 'Glitterlance', 'fired', 'odd', 'angles', 'depending', 'cursor', '-', 'Moving', 'cursor', 'closer', 'Pix', 'Lulu', 'change', 'area', 'effect', 'size', 'considerably', '.', 'Consider', 'casting', 'Help', ',', 'Pix', '!', 'ranged', 'attackers', 'Pix', 'boost', 'Wild', 'Growth', 'Tanks', 'Fighters', 'added', 'initiation', 'power.Pix', 'Lulu', 'fire', 'bolt', 'magical', 'energy', 'damages', 'heavily', 'slows', 'enemies', 'hits.If', 'cast', 'ally', ',', 'grants', 'Attack', 'Speed', 'Movement', 'Speed', 'short', 'time', '.', 'If', 'cast', 'enemy', ',', 'turns', 'adorable', 'critter', 'ca', \"n't\", 'attack', 'cast', 'spells.If', 'cast', 'ally', ',', 'commands', 'Pix', 'jump', 'ally', 'shield', '.', 'He', 'follows', 'aids', 'attacks', '.', 'If', 'cast', 'enemy', ',', 'commands', 'Pix', 'jump', 'enemy', 'damage', '.', 'He', 'follows', 'grants', 'vision', 'enemy.Lulu', 'enlarges', 'ally', ',', 'knocking', 'nearby', 'enemies', 'air', 'granting', 'ally', 'large', 'amount', 'bonus', 'health', '.', 'For', 'next', 'seconds', ',', 'ally', 'gains', 'aura', 'slows', 'nearby', 'enemies', '.']\n",
            "['Lux', 'has', 'powerful', 'zone', 'control', 'abilities', '.', 'Try', 'to', 'spread', 'out', 'and', 'attack', 'from', 'different', 'directions', 'so', 'she', 'can', 'not', 'lock', 'down', 'a', 'specific', 'area', '.', 'When', 'retreating', 'with', 'low', 'health', ',', 'be', 'prepared', 'to', 'dodge', 'Lux', \"'s\", 'Final', 'Spark', ',', 'a', 'red', 'targeting', 'beam', 'fires', 'prior', 'to', 'the', 'main', 'beam', ',', 'so', 'try', 'to', 'move', 'to', 'the', 'side', 'if', 'possible', '.', 'Lux', 'has', 'great', 'zone', 'control', 'abilities', '.', 'Try', 'to', 'set', 'up', 'Lucent', 'Singularity', 'to', 'prevent', 'an', 'enemy', \"'s\", 'advance', 'or', 'escape', '.', 'If', 'you', 'have', 'trouble', 'landing', 'Prismatic', 'Barrier', ',', 'remember', 'that', 'it', 'returns', 'to', 'you', 'after', 'it', 'reaches', 'max', 'range', '.', 'Try', 'positioning', 'yourself', 'to', 'hit', 'your', 'allies', 'with', 'its', 'return', 'trip', '.', 'Lucent', 'Singularity', 'is', 'a', 'great', 'scouting', 'tool', '.', 'Try', 'throwing', 'it', 'into', 'brush', 'before', 'walking', 'into', 'it', 'to', 'check', 'for', 'ambushes.Lux', 'releases', 'a', 'sphere', 'of', 'light', 'that', 'binds', 'and', 'deals', 'damage', 'to', 'up', 'to', 'two', 'enemy', 'units.Lux', 'throws', 'her', 'wand', 'and', 'bends', 'the', 'light', 'around', 'any', 'friendly', 'target', 'it', 'touches', ',', 'protecting', 'them', 'from', 'enemy', 'damage.Fires', 'an', 'anomaly', 'of', 'twisted', 'light', 'to', 'an', 'area', ',', 'which', 'slows', 'nearby', 'enemies', '.', 'Lux', 'can', 'detonate', 'it', 'to', 'damage', 'enemies', 'in', 'the', 'area', 'of', 'effect.After', 'gathering', 'energy', ',', 'Lux', 'fires', 'a', 'beam', 'of', 'light', 'that', 'deals', 'damage', 'to', 'all', 'targets', 'in', 'the', 'area', '.', 'In', 'addition', ',', 'triggers', 'Lux', \"'s\", 'passive', 'ability', 'and', 'refreshes', 'the', 'Illumination', 'debuff', 'duration', '.'] \n",
            "\n",
            "['Lux', 'powerful', 'zone', 'control', 'abilities', '.', 'Try', 'spread', 'attack', 'different', 'directions', 'lock', 'specific', 'area', '.', 'When', 'retreating', 'low', 'health', ',', 'prepared', 'dodge', 'Lux', \"'s\", 'Final', 'Spark', ',', 'red', 'targeting', 'beam', 'fires', 'prior', 'main', 'beam', ',', 'try', 'move', 'side', 'possible', '.', 'Lux', 'great', 'zone', 'control', 'abilities', '.', 'Try', 'set', 'Lucent', 'Singularity', 'prevent', 'enemy', \"'s\", 'advance', 'escape', '.', 'If', 'trouble', 'landing', 'Prismatic', 'Barrier', ',', 'remember', 'returns', 'reaches', 'max', 'range', '.', 'Try', 'positioning', 'hit', 'allies', 'return', 'trip', '.', 'Lucent', 'Singularity', 'great', 'scouting', 'tool', '.', 'Try', 'throwing', 'brush', 'walking', 'check', 'ambushes.Lux', 'releases', 'sphere', 'light', 'binds', 'deals', 'damage', 'two', 'enemy', 'units.Lux', 'throws', 'wand', 'bends', 'light', 'around', 'friendly', 'target', 'touches', ',', 'protecting', 'enemy', 'damage.Fires', 'anomaly', 'twisted', 'light', 'area', ',', 'slows', 'nearby', 'enemies', '.', 'Lux', 'detonate', 'damage', 'enemies', 'area', 'effect.After', 'gathering', 'energy', ',', 'Lux', 'fires', 'beam', 'light', 'deals', 'damage', 'targets', 'area', '.', 'In', 'addition', ',', 'triggers', 'Lux', \"'s\", 'passive', 'ability', 'refreshes', 'Illumination', 'debuff', 'duration', '.']\n",
            "['If', 'you', \"'re\", 'a', 'physical', 'damage', 'character', 'stay', 'behind', 'your', 'allies', 'when', 'fighting', 'Malphite', '.', 'Ground', 'Slam', 'can', 'significantly', 'reduce', 'your', 'damage', 'output', '.', 'Malphite', 'is', 'one', 'of', 'a', 'couple', 'tanks', 'who', 'are', 'capable', 'of', 'jungling', '.', 'Watch', 'out', 'if', 'he', 'gets', 'Smite', '.', 'Armor', 'naturally', 'reduces', 'the', 'rate', 'that', 'attacks', 'go', 'through', 'Granite', 'Shield', ',', 'so', 'Brutal', 'Strikes', 'will', 'strengthen', 'the', 'shield', 'against', 'physical', 'damage', '.', 'Despite', 'his', 'abilities', 'scaling', 'on', 'Armor', ',', 'some', 'games', 'require', 'Malphite', 'to', 'get', 'Magic', 'Resist', '.', 'When', 'those', 'games', 'occur', ',', 'try', 'getting', 'Aegis', 'of', 'the', 'Legion', ',', 'Mercury', \"'s\", 'Treads', ',', 'and', 'Guardian', 'Angel.Malphite', 'sends', 'a', 'shard', 'of', 'the', 'earth', 'through', 'the', 'ground', 'at', 'his', 'foe', ',', 'dealing', 'damage', 'upon', 'impact', 'and', 'stealing', 'Movement', 'Speed', 'for', '3', 'seconds.Malphite', 'attacks', 'with', 'such', 'force', 'that', 'it', 'creates', 'a', 'sonic', 'boom', '.', 'For', 'the', 'next', 'few', 'seconds', ',', 'his', 'attacks', 'create', 'aftershocks', 'in', 'front', 'of', 'him.Malphite', 'slams', 'the', 'ground', ',', 'sending', 'out', 'a', 'shockwave', 'that', 'deals', 'magic', 'damage', 'based', 'on', 'his', 'Armor', 'and', 'reduces', 'the', 'Attack', 'Speed', 'of', 'enemies', 'for', 'a', 'short', 'duration.Malphite', 'launches', 'himself', 'to', 'a', 'location', 'at', 'high', 'speed', ',', 'damaging', 'enemies', 'and', 'knocking', 'them', 'into', 'the', 'air', '.'] \n",
            "\n",
            "['If', \"'re\", 'physical', 'damage', 'character', 'stay', 'behind', 'allies', 'fighting', 'Malphite', '.', 'Ground', 'Slam', 'significantly', 'reduce', 'damage', 'output', '.', 'Malphite', 'one', 'couple', 'tanks', 'capable', 'jungling', '.', 'Watch', 'gets', 'Smite', '.', 'Armor', 'naturally', 'reduces', 'rate', 'attacks', 'go', 'Granite', 'Shield', ',', 'Brutal', 'Strikes', 'strengthen', 'shield', 'physical', 'damage', '.', 'Despite', 'abilities', 'scaling', 'Armor', ',', 'games', 'require', 'Malphite', 'get', 'Magic', 'Resist', '.', 'When', 'games', 'occur', ',', 'try', 'getting', 'Aegis', 'Legion', ',', 'Mercury', \"'s\", 'Treads', ',', 'Guardian', 'Angel.Malphite', 'sends', 'shard', 'earth', 'ground', 'foe', ',', 'dealing', 'damage', 'upon', 'impact', 'stealing', 'Movement', 'Speed', '3', 'seconds.Malphite', 'attacks', 'force', 'creates', 'sonic', 'boom', '.', 'For', 'next', 'seconds', ',', 'attacks', 'create', 'aftershocks', 'front', 'him.Malphite', 'slams', 'ground', ',', 'sending', 'shockwave', 'deals', 'magic', 'damage', 'based', 'Armor', 'reduces', 'Attack', 'Speed', 'enemies', 'short', 'duration.Malphite', 'launches', 'location', 'high', 'speed', ',', 'damaging', 'enemies', 'knocking', 'air', '.']\n",
            "['When', 'Malzahar', 'hits', 'a', 'spell', 'on', 'enemies', 'affected', 'by', 'Malefic', 'Visions', ',', 'the', 'Visions', 'are', 'refreshed', '.', 'Avoid', 'minion', 'waves', 'that', 'have', 'been', 'affected', 'by', 'Malefic', 'Visions', '.', 'You', 'never', 'know', 'when', 'they', 'may', 'die', 'and', 'pass', 'the', 'Visions', 'onto', 'you', '.', 'Malzahar', 'is', 'especially', 'dangerous', 'when', 'he', 'has', 'built', 'up', 'his', 'Void', 'Swarm', '.', 'Wait', 'to', 'cast', 'Void', 'Swarm', 'until', 'there', 'are', 'nearby', 'enemies', 'for', 'the', 'Voidling', 'to', 'attack', 'or', 'kill', '.', 'Use', 'Call', 'of', 'the', 'Void', 'and', 'Nether', 'Grasp', 'to', 'renew', 'the', 'duration', 'of', 'Malefic', 'Visions', 'on', 'enemies', '.', 'Avoiding', 'damage', 'in', 'lane', 'maximizes', 'the', 'uptime', 'on', 'Void', 'Shift', ',', 'increasing', 'Malzahar', \"'s\", 'safety', 'dramatically.Malzahar', 'opens', 'up', 'two', 'portals', 'to', 'the', 'Void', '.', 'After', 'a', 'short', 'delay', ',', 'they', 'fire', 'projectiles', 'that', 'deal', 'Magic', 'Damage', 'and', 'silence', 'enemy', 'champions.Malzahar', 'summons', 'Voidlings', 'to', 'attack', 'nearby', 'enemies.Malzahar', 'infects', 'his', 'target', \"'s\", 'mind', 'with', 'cruel', 'visions', 'of', 'their', 'demise', ',', 'dealing', 'damage', 'over', 'time', '.', 'Using', 'Malzahar', \"'s\", 'other', 'spells', 'on', 'the', 'target', 'will', 'refresh', 'the', 'visions.If', 'the', 'target', 'dies', 'while', 'afflicted', 'by', 'the', 'visions', ',', 'they', 'pass', 'on', 'to', 'a', 'nearby', 'enemy', 'unit', 'and', 'Malzahar', 'gains', 'Mana', '.', 'Malzahar', \"'s\", 'Voidlings', 'are', 'attracted', 'to', 'affected', 'units.Malzahar', 'channels', 'the', 'essence', 'of', 'the', 'Void', 'to', 'suppress', 'an', 'enemy', 'champion', 'over', 'a', 'zone', 'of', 'damaging', 'negative', 'energy', '.'] \n",
            "\n",
            "['When', 'Malzahar', 'hits', 'spell', 'enemies', 'affected', 'Malefic', 'Visions', ',', 'Visions', 'refreshed', '.', 'Avoid', 'minion', 'waves', 'affected', 'Malefic', 'Visions', '.', 'You', 'never', 'know', 'may', 'die', 'pass', 'Visions', 'onto', '.', 'Malzahar', 'especially', 'dangerous', 'built', 'Void', 'Swarm', '.', 'Wait', 'cast', 'Void', 'Swarm', 'nearby', 'enemies', 'Voidling', 'attack', 'kill', '.', 'Use', 'Call', 'Void', 'Nether', 'Grasp', 'renew', 'duration', 'Malefic', 'Visions', 'enemies', '.', 'Avoiding', 'damage', 'lane', 'maximizes', 'uptime', 'Void', 'Shift', ',', 'increasing', 'Malzahar', \"'s\", 'safety', 'dramatically.Malzahar', 'opens', 'two', 'portals', 'Void', '.', 'After', 'short', 'delay', ',', 'fire', 'projectiles', 'deal', 'Magic', 'Damage', 'silence', 'enemy', 'champions.Malzahar', 'summons', 'Voidlings', 'attack', 'nearby', 'enemies.Malzahar', 'infects', 'target', \"'s\", 'mind', 'cruel', 'visions', 'demise', ',', 'dealing', 'damage', 'time', '.', 'Using', 'Malzahar', \"'s\", 'spells', 'target', 'refresh', 'visions.If', 'target', 'dies', 'afflicted', 'visions', ',', 'pass', 'nearby', 'enemy', 'unit', 'Malzahar', 'gains', 'Mana', '.', 'Malzahar', \"'s\", 'Voidlings', 'attracted', 'affected', 'units.Malzahar', 'channels', 'essence', 'Void', 'suppress', 'enemy', 'champion', 'zone', 'damaging', 'negative', 'energy', '.']\n",
            "['Saplings', 'will', 'chase', 'the', 'first', 'enemy', 'that', 'gets', 'too', 'close', ',', 'but', 'detonate', 'after', 'a', 'few', 'seconds', 'or', 'if', 'they', 'collide', 'with', 'other', 'enemies', '.', 'Be', 'especially', 'careful', 'around', 'brush', 'sapling', ',', 'as', 'they', 'are', 'much', 'more', 'dangerous', '.', 'The', 'cooldown', 'on', 'Maokai', \"'s\", 'self', 'healing', 'is', 'heavily', 'gated', 'on', 'how', 'many', 'time', 'you', 'hit', 'him', 'with', 'spells', '.', 'Careful', 'about', 'wasting', 'abilities', 'on', 'him', '.', 'Maokai', 'will', 'avoid', 'taking', 'damage', 'while', 'he', \"'s\", 'using', 'Twisted', 'Advance', ',', 'so', 'do', \"n't\", 'waste', 'your', 'spells', '.', 'Saplings', 'can', 'be', 'tossed', 'into', 'brush', 'for', 'empowered', 'effect', '-', 'but', 'do', \"n't\", 'stack', 'well', '.', 'Try', 'looking', 'for', 'flanks', 'or', 'other', 'situations', 'where', 'Nature', \"'s\", 'Grasp', 'is', 'unavoidable', 'or', 'takes', 'enemies', 'by', 'surprise', '.', 'Maokai', \"'s\", 'passive', 'makes', 'him', 'extremely', 'durable', 'against', 'focus', 'fire', 'from', 'spells', '-', 'so', 'long', 'as', 'he', 'can', 'still', 'basic', 'attack', 'something.Maokai', 'knocks', 'back', 'nearby', 'enemies', 'with', 'a', 'shockwave', ',', 'dealing', 'magic', 'damage', 'and', 'slowing', 'them.Maokai', 'contorts', 'into', 'a', 'mass', 'of', 'moving', 'roots', ',', 'becoming', 'untargetable', 'and', 'dashing', 'to', 'the', 'target', '.', 'Upon', 'arrival', ',', 'he', 'roots', 'the', 'target.Maokai', 'flings', 'a', 'sapling', 'to', 'the', 'target', 'area', 'to', 'stand', 'guard', '.', 'More', 'effective', 'in', 'brush.Maokai', 'summons', 'a', 'colossal', 'wall', 'of', 'brambles', 'and', 'thorns', 'that', 'slowly', 'advances', 'forwards', ',', 'damaging', 'and', 'rooting', 'any', 'enemies', 'in', 'the', 'path', '.'] \n",
            "\n",
            "['Saplings', 'chase', 'first', 'enemy', 'gets', 'close', ',', 'detonate', 'seconds', 'collide', 'enemies', '.', 'Be', 'especially', 'careful', 'around', 'brush', 'sapling', ',', 'much', 'dangerous', '.', 'The', 'cooldown', 'Maokai', \"'s\", 'self', 'healing', 'heavily', 'gated', 'many', 'time', 'hit', 'spells', '.', 'Careful', 'wasting', 'abilities', '.', 'Maokai', 'avoid', 'taking', 'damage', \"'s\", 'using', 'Twisted', 'Advance', ',', \"n't\", 'waste', 'spells', '.', 'Saplings', 'tossed', 'brush', 'empowered', 'effect', '-', \"n't\", 'stack', 'well', '.', 'Try', 'looking', 'flanks', 'situations', 'Nature', \"'s\", 'Grasp', 'unavoidable', 'takes', 'enemies', 'surprise', '.', 'Maokai', \"'s\", 'passive', 'makes', 'extremely', 'durable', 'focus', 'fire', 'spells', '-', 'long', 'still', 'basic', 'attack', 'something.Maokai', 'knocks', 'back', 'nearby', 'enemies', 'shockwave', ',', 'dealing', 'magic', 'damage', 'slowing', 'them.Maokai', 'contorts', 'mass', 'moving', 'roots', ',', 'becoming', 'untargetable', 'dashing', 'target', '.', 'Upon', 'arrival', ',', 'roots', 'target.Maokai', 'flings', 'sapling', 'target', 'area', 'stand', 'guard', '.', 'More', 'effective', 'brush.Maokai', 'summons', 'colossal', 'wall', 'brambles', 'thorns', 'slowly', 'advances', 'forwards', ',', 'damaging', 'rooting', 'enemies', 'path', '.']\n",
            "['Meditate', 'is', 'an', 'effective', 'method', 'of', 'healing', 'damage', 'over', 'time', ',', 'but', 'Master', 'Yi', 'is', 'susceptible', 'to', 'coordinated', 'team', 'ganks', 'early', 'in', 'the', 'game', '.', 'If', 'Master', 'Yi', 'tries', 'to', 'farm', 'with', 'Alpha', 'Strike', ',', 'hit', 'him', 'a', 'few', 'times', 'so', 'he', 'has', 'to', 'use', 'mana', 'with', 'Meditate', 'to', 'heal', '.', 'Although', 'Master', 'Yi', 'can', 'not', 'be', 'slowed', 'while', 'using', 'Highlander', ',', 'other', 'disables', 'can', 'stop', 'him', 'in', 'his', 'tracks', '.', 'If', 'you', \"'re\", 'in', 'a', 'lane', 'against', 'ranged', 'players', ',', 'leveling', 'up', 'Meditate', 'can', 'allow', 'you', 'to', 'stay', 'in', 'the', 'lane', 'longer', 'and', 'gain', 'levels', 'faster', 'than', 'they', 'will', '.', 'Wuju', 'Style', 'is', 'very', 'strong', 'early', 'for', 'last', 'hitting', 'minions', '.', 'Try', 'using', 'Alpha', 'Strike', 'on', 'a', 'minion', 'in', 'front', 'of', 'an', 'enemy', 'champion', 'so', 'you', 'are', 'placed', 'at', 'a', 'safe', 'distance', 'at', 'the', 'end', 'of', 'the', 'spell.Master', 'Yi', 'teleports', 'across', 'the', 'battlefield', 'with', 'blinding', 'speed', ',', 'dealing', 'physical', 'damage', 'to', 'multiple', 'units', 'in', 'his', 'path', ',', 'while', 'simultaneously', 'becoming', 'untargetable', '.', 'Alpha', 'Strike', 'can', 'critically', 'strike', 'and', 'deals', 'bonus', 'physical', 'damage', 'to', 'monsters', '.', 'Basic', 'attacks', 'reduce', 'Alpha', 'Strike', \"'s\", 'cooldown.Master', 'Yi', 'rejuvenates', 'his', 'body', 'by', 'focus', 'of', 'mind', ',', 'restoring', 'Health', 'and', 'taking', 'reduced', 'damage', 'for', 'a', 'short', 'time', '.', 'In', 'addition', ',', 'Master', 'Yi', 'will', 'gain', 'stacks', 'of', 'Double', 'Strike', 'and', 'pause', 'the', 'remaining', 'duration', 'on', 'Wuju', 'Style', 'and', 'Highlander', 'for', 'each', 'second', 'he', 'channels.Grants', 'bonus', 'true', 'damage', 'on', 'basic', 'attacks.Master', 'Yi', 'moves', 'with', 'unparalleled', 'agility', ',', 'temporarily', 'increasing', 'his', 'Move', 'Speed', 'and', 'Attack', 'Speed', 'as', 'well', 'as', 'making', 'him', 'immune', 'to', 'all', 'slowing', 'effects', '.', 'While', 'active', ',', 'Champion', 'kills', 'or', 'assists', 'extend', 'Highlander', \"'s\", 'duration', '.', 'Passively', 'reduces', 'cooldown', 'for', 'his', 'other', 'abilities', 'on', 'a', 'kill', 'or', 'assist', '.'] \n",
            "\n",
            "['Meditate', 'effective', 'method', 'healing', 'damage', 'time', ',', 'Master', 'Yi', 'susceptible', 'coordinated', 'team', 'ganks', 'early', 'game', '.', 'If', 'Master', 'Yi', 'tries', 'farm', 'Alpha', 'Strike', ',', 'hit', 'times', 'use', 'mana', 'Meditate', 'heal', '.', 'Although', 'Master', 'Yi', 'slowed', 'using', 'Highlander', ',', 'disables', 'stop', 'tracks', '.', 'If', \"'re\", 'lane', 'ranged', 'players', ',', 'leveling', 'Meditate', 'allow', 'stay', 'lane', 'longer', 'gain', 'levels', 'faster', '.', 'Wuju', 'Style', 'strong', 'early', 'last', 'hitting', 'minions', '.', 'Try', 'using', 'Alpha', 'Strike', 'minion', 'front', 'enemy', 'champion', 'placed', 'safe', 'distance', 'end', 'spell.Master', 'Yi', 'teleports', 'across', 'battlefield', 'blinding', 'speed', ',', 'dealing', 'physical', 'damage', 'multiple', 'units', 'path', ',', 'simultaneously', 'becoming', 'untargetable', '.', 'Alpha', 'Strike', 'critically', 'strike', 'deals', 'bonus', 'physical', 'damage', 'monsters', '.', 'Basic', 'attacks', 'reduce', 'Alpha', 'Strike', \"'s\", 'cooldown.Master', 'Yi', 'rejuvenates', 'body', 'focus', 'mind', ',', 'restoring', 'Health', 'taking', 'reduced', 'damage', 'short', 'time', '.', 'In', 'addition', ',', 'Master', 'Yi', 'gain', 'stacks', 'Double', 'Strike', 'pause', 'remaining', 'duration', 'Wuju', 'Style', 'Highlander', 'second', 'channels.Grants', 'bonus', 'true', 'damage', 'basic', 'attacks.Master', 'Yi', 'moves', 'unparalleled', 'agility', ',', 'temporarily', 'increasing', 'Move', 'Speed', 'Attack', 'Speed', 'well', 'making', 'immune', 'slowing', 'effects', '.', 'While', 'active', ',', 'Champion', 'kills', 'assists', 'extend', 'Highlander', \"'s\", 'duration', '.', 'Passively', 'reduces', 'cooldown', 'abilities', 'kill', 'assist', '.']\n",
            "['Miss', 'Fortune', \"'s\", 'speed', 'boost', 'is', 'removed', 'if', 'she', 'is', 'damaged', 'by', 'an', 'enemy', '.', 'Miss', 'Fortune', 'is', 'easy', 'to', 'kill', 'if', 'you', 'can', 'reach', 'her', ';', 'target', 'her', 'first', 'in', 'team', 'fights', '.', 'Miss', 'Fortune', 'ramps', 'up', 'speed', 'if', 'she', 'has', \"n't\", 'recently', 'taken', 'damage', '.', 'Avoid', 'getting', 'hit', 'to', 'move', 'very', 'fast', '.', 'Use', 'Double', 'Up', 'on', 'the', 'furthest', 'enemy', 'minion', 'if', 'enemy', 'champions', 'are', 'hiding', 'in', 'back', ';', 'it', 'will', 'bounce', 'to', 'them', 'for', 'lots', 'of', 'damage', '.', 'Make', 'sure', 'to', 'utilize', 'Love', 'Tap', 'while', 'Strut', 'is', 'on', 'cooldown', 'to', 'maximize', 'the', 'active', \"'s\", 'availability.Miss', 'Fortune', 'fires', 'a', 'bullet', 'at', 'an', 'enemy', ',', 'damaging', 'them', 'and', 'a', 'target', 'behind', 'them', '.', 'Both', 'strikes', 'can', 'also', 'apply', 'Love', 'Tap.Miss', 'Fortune', 'passively', 'gains', 'Movement', 'Speed', 'when', 'not', 'attacked', '.', 'This', 'ability', 'can', 'be', 'activated', 'to', 'grant', 'bonus', 'Attack', 'Speed', 'for', 'a', 'short', 'duration', '.', 'While', 'it', \"'s\", 'on', 'cooldown', ',', 'Love', 'Taps', 'reduce', 'the', 'remaining', 'cooldown', 'of', 'Strut.Miss', 'Fortune', 'reveals', 'an', 'area', 'with', 'a', 'flurry', 'of', 'bullets', ',', 'dealing', 'waves', 'of', 'damage', 'to', 'opponents', 'and', 'slowing', 'them.Miss', 'Fortune', 'channels', 'a', 'barrage', 'of', 'bullets', 'into', 'a', 'cone', 'in', 'front', 'of', 'her', ',', 'dealing', 'large', 'amounts', 'of', 'damage', 'to', 'enemies', '.', 'Each', 'wave', 'of', 'Bullet', 'Time', 'can', 'critically', 'strike'] \n",
            "\n",
            "['Miss', 'Fortune', \"'s\", 'speed', 'boost', 'removed', 'damaged', 'enemy', '.', 'Miss', 'Fortune', 'easy', 'kill', 'reach', ';', 'target', 'first', 'team', 'fights', '.', 'Miss', 'Fortune', 'ramps', 'speed', \"n't\", 'recently', 'taken', 'damage', '.', 'Avoid', 'getting', 'hit', 'move', 'fast', '.', 'Use', 'Double', 'Up', 'furthest', 'enemy', 'minion', 'enemy', 'champions', 'hiding', 'back', ';', 'bounce', 'lots', 'damage', '.', 'Make', 'sure', 'utilize', 'Love', 'Tap', 'Strut', 'cooldown', 'maximize', 'active', \"'s\", 'availability.Miss', 'Fortune', 'fires', 'bullet', 'enemy', ',', 'damaging', 'target', 'behind', '.', 'Both', 'strikes', 'also', 'apply', 'Love', 'Tap.Miss', 'Fortune', 'passively', 'gains', 'Movement', 'Speed', 'attacked', '.', 'This', 'ability', 'activated', 'grant', 'bonus', 'Attack', 'Speed', 'short', 'duration', '.', 'While', \"'s\", 'cooldown', ',', 'Love', 'Taps', 'reduce', 'remaining', 'cooldown', 'Strut.Miss', 'Fortune', 'reveals', 'area', 'flurry', 'bullets', ',', 'dealing', 'waves', 'damage', 'opponents', 'slowing', 'them.Miss', 'Fortune', 'channels', 'barrage', 'bullets', 'cone', 'front', ',', 'dealing', 'large', 'amounts', 'damage', 'enemies', '.', 'Each', 'wave', 'Bullet', 'Time', 'critically', 'strike']\n",
            "['Wukong', 'will', 'often', 'use', 'Decoy', 'after', 'Nimbus', 'Strike', '.', 'Try', 'delaying', 'your', 'abilities', 'by', 'a', 'short', 'amount', 'of', 'time', 'to', 'ensure', 'that', 'you', \"'re\", 'hitting', 'the', 'real', 'Wukong', '.', 'Wukong', 'becomes', 'tougher', 'to', 'kill', 'when', 'surrounded', 'by', 'his', 'enemies', '.', 'Try', 'to', 'isolate', 'him', 'to', 'gain', 'an', 'advantage', '.', 'Decoy', 'and', 'Nimbus', 'Strike', 'work', 'well', 'together', 'to', 'quickly', 'strike', 'your', 'enemy', 'and', 'get', 'out', 'before', 'they', 'can', 'retaliate', '.', 'Try', 'using', 'Decoy', 'near', 'brush', 'to', 'make', 'an', 'enemy', 'overreact', 'to', 'your', 'movement.Wukong', \"'s\", 'next', 'attack', 'gains', 'attack', 'range', ',', 'deals', 'bonus', 'damage', ',', 'and', 'reduces', 'the', 'target', \"'s\", 'armor', 'for', 'a', 'few', 'seconds.Wukong', 'becomes', 'Invisible', 'and', 'dashes', 'in', 'a', 'direction', ',', 'leaving', 'behind', 'a', 'clone', 'that', 'will', 'attack', 'nearby', 'enemies.Wukong', 'dashes', 'to', 'a', 'targeted', 'enemy', 'and', 'sends', 'out', 'images', 'to', 'attack', 'enemies', 'near', 'his', 'target', ',', 'dealing', 'damage', 'to', 'each', 'enemy', 'struck.Wukong', \"'s\", 'extends', 'his', 'staff', 'and', 'spins', 'it', 'around', 'repeatedly', ',', 'gaining', 'Movement', 'Speed.Enemies', 'struck', 'take', 'damage', 'and', 'are', 'knocked', 'up', '.'] \n",
            "\n",
            "['Wukong', 'often', 'use', 'Decoy', 'Nimbus', 'Strike', '.', 'Try', 'delaying', 'abilities', 'short', 'amount', 'time', 'ensure', \"'re\", 'hitting', 'real', 'Wukong', '.', 'Wukong', 'becomes', 'tougher', 'kill', 'surrounded', 'enemies', '.', 'Try', 'isolate', 'gain', 'advantage', '.', 'Decoy', 'Nimbus', 'Strike', 'work', 'well', 'together', 'quickly', 'strike', 'enemy', 'get', 'retaliate', '.', 'Try', 'using', 'Decoy', 'near', 'brush', 'make', 'enemy', 'overreact', 'movement.Wukong', \"'s\", 'next', 'attack', 'gains', 'attack', 'range', ',', 'deals', 'bonus', 'damage', ',', 'reduces', 'target', \"'s\", 'armor', 'seconds.Wukong', 'becomes', 'Invisible', 'dashes', 'direction', ',', 'leaving', 'behind', 'clone', 'attack', 'nearby', 'enemies.Wukong', 'dashes', 'targeted', 'enemy', 'sends', 'images', 'attack', 'enemies', 'near', 'target', ',', 'dealing', 'damage', 'enemy', 'struck.Wukong', \"'s\", 'extends', 'staff', 'spins', 'around', 'repeatedly', ',', 'gaining', 'Movement', 'Speed.Enemies', 'struck', 'take', 'damage', 'knocked', '.']\n",
            "['Mordekaiser', 'builds', 'up', 'a', 'powerful', 'damage', 'aura', 'when', 'fighting', 'champions', ',', 'so', 'keep', 'your', 'distance', '.', 'Damage', 'he', 'deals', 'can', 'be', 'converted', 'into', 'a', 'large', 'shield', ',', 'and', 'consumed', 'for', 'health', 'Realm', 'of', 'Death', 'will', 'cut', 'you', 'off', 'from', 'your', 'teammates', 'completely', '.', 'Try', 'to', 'save', 'mobility', 'spells', 'to', 'escape', 'Mordekaiser', 'once', 'inside', 'Offense', 'is', 'your', 'defense', '.', 'Keep', 'fighting', 'to', 'build', 'up', 'larger', 'Indestructible', 'shields', '.', 'Hitting', 'multiple', 'champions', 'with', 'the', 'same', 'ability', 'can', 'help', 'quickly', 'activate', 'Darkness', 'Rise', '.', 'Use', 'Realm', 'of', 'Death', 'on', 'a', 'low', 'health', 'enemy', 'to', 'guarantee', 'the', 'kill', 'and', 'keep', 'their', 'stats', 'for', 'the', 'rest', 'of', 'a', 'teamfight.Mordekaiser', 'smashes', 'the', 'ground', 'with', 'his', 'mace', 'dealing', 'damage', 'to', 'each', 'enemy', 'struck', '.', 'Damage', 'is', 'increased', 'when', 'hitting', 'a', 'single', 'enemy.Mordekaiser', 'stores', 'damage', 'he', 'deals', 'and', 'takes', 'to', 'create', 'a', 'shield', '.', 'He', 'may', 'consume', 'the', 'shield', 'to', 'heal.Mordekaiser', 'pulls', 'all', 'enemies', 'in', 'an', 'area.Mordekaiser', 'drags', 'his', 'victim', 'to', 'a', 'different', 'dimension', 'with', 'him', 'and', 'steals', 'a', 'portion', 'of', 'their', 'stats', '.', 'If', 'he', 'kills', 'them', ',', 'he', 'keeps', 'the', 'stats', 'until', 'the', 'victim', 'respawns', '.'] \n",
            "\n",
            "['Mordekaiser', 'builds', 'powerful', 'damage', 'aura', 'fighting', 'champions', ',', 'keep', 'distance', '.', 'Damage', 'deals', 'converted', 'large', 'shield', ',', 'consumed', 'health', 'Realm', 'Death', 'cut', 'teammates', 'completely', '.', 'Try', 'save', 'mobility', 'spells', 'escape', 'Mordekaiser', 'inside', 'Offense', 'defense', '.', 'Keep', 'fighting', 'build', 'larger', 'Indestructible', 'shields', '.', 'Hitting', 'multiple', 'champions', 'ability', 'help', 'quickly', 'activate', 'Darkness', 'Rise', '.', 'Use', 'Realm', 'Death', 'low', 'health', 'enemy', 'guarantee', 'kill', 'keep', 'stats', 'rest', 'teamfight.Mordekaiser', 'smashes', 'ground', 'mace', 'dealing', 'damage', 'enemy', 'struck', '.', 'Damage', 'increased', 'hitting', 'single', 'enemy.Mordekaiser', 'stores', 'damage', 'deals', 'takes', 'create', 'shield', '.', 'He', 'may', 'consume', 'shield', 'heal.Mordekaiser', 'pulls', 'enemies', 'area.Mordekaiser', 'drags', 'victim', 'different', 'dimension', 'steals', 'portion', 'stats', '.', 'If', 'kills', ',', 'keeps', 'stats', 'victim', 'respawns', '.']\n",
            "['Tormented', 'Shadow', 'deals', 'tons', 'of', 'damage', 'to', 'units', 'missing', 'large', 'amounts', 'of', 'Health', '.', 'When', 'low', 'on', 'Health', ',', 'be', 'wary', 'of', 'Morgana', \"'s\", 'attempts', 'to', 'trap', 'you', 'within', 'its', 'reach', '.', 'Morgana', 'often', 'needs', 'to', 'land', 'Dark', 'Binding', 'to', 'setup', 'her', 'other', 'attacks', '.', 'Use', 'your', 'minions', 'as', 'shields', 'against', 'Dark', 'Binding', '.', 'Black', 'Shield', 'makes', 'Morgana', 'immune', 'to', 'disabling', 'effects', ',', 'but', 'can', 'be', 'broken', 'with', 'magic', 'damage', '.', 'Shrewd', 'use', 'of', 'Black', 'Shield', 'can', 'determine', 'the', 'outcome', 'of', 'team', 'fights', '.', 'Items', 'that', 'provide', 'survivability', 'allow', 'Morgana', 'to', 'become', 'extremely', 'difficult', 'to', 'kill', 'in', 'conjunction', 'with', 'Black', 'Shield', 'and', 'Soul', 'Shackles', '.', 'Tormented', 'Shadow', 'is', 'an', 'excellent', 'farming', 'tool', 'if', 'you', \"'re\", 'by', 'yourself', 'in', 'a', 'lane.Morgana', 'binds', 'an', 'enemy', 'in', 'place', 'with', 'dark', 'magic', ',', 'forcing', 'them', 'to', 'feel', 'the', 'pain', 'they', \"'ve\", 'caused', 'and', 'dealing', 'magic', 'damage', '.', 'Morgana', 'casts', 'a', 'cursed', 'shadow', 'on', 'an', 'area', ',', 'damaging', 'enemies', 'who', 'dare', 'stand', 'in', 'her', 'dark', 'circle', '.', 'They', 'receive', 'magic', 'damage', 'over', 'time', ',', 'which', 'increases', 'the', 'lower', 'health', 'they', 'are.Morgana', 'anoints', 'an', 'ally', 'with', 'a', 'protective', 'barrier', 'of', 'starfire', ',', 'which', 'absorbs', 'magical', 'damage', 'and', 'disabling', 'effects', 'until', 'it', 'is', 'broken.Morgana', 'unleashes', 'the', 'full', 'force', 'of', 'her', 'Celestial', 'power', 'as', 'she', 'unbinds', 'her', 'wings', 'and', 'hovers', 'above', 'the', 'ground', '.', 'She', 'lashes', 'chains', 'of', 'dark', 'pain', 'onto', 'nearby', 'enemy', 'champions', ',', 'gaining', 'Move', 'Speed', 'towards', 'them', '.', 'The', 'chains', 'slow', 'and', 'deal', 'initial', 'damage', 'and', ',', 'after', 'a', 'delay', ',', 'stun', 'those', 'who', 'are', 'unable', 'to', 'break', 'them', '.'] \n",
            "\n",
            "['Tormented', 'Shadow', 'deals', 'tons', 'damage', 'units', 'missing', 'large', 'amounts', 'Health', '.', 'When', 'low', 'Health', ',', 'wary', 'Morgana', \"'s\", 'attempts', 'trap', 'within', 'reach', '.', 'Morgana', 'often', 'needs', 'land', 'Dark', 'Binding', 'setup', 'attacks', '.', 'Use', 'minions', 'shields', 'Dark', 'Binding', '.', 'Black', 'Shield', 'makes', 'Morgana', 'immune', 'disabling', 'effects', ',', 'broken', 'magic', 'damage', '.', 'Shrewd', 'use', 'Black', 'Shield', 'determine', 'outcome', 'team', 'fights', '.', 'Items', 'provide', 'survivability', 'allow', 'Morgana', 'become', 'extremely', 'difficult', 'kill', 'conjunction', 'Black', 'Shield', 'Soul', 'Shackles', '.', 'Tormented', 'Shadow', 'excellent', 'farming', 'tool', \"'re\", 'lane.Morgana', 'binds', 'enemy', 'place', 'dark', 'magic', ',', 'forcing', 'feel', 'pain', \"'ve\", 'caused', 'dealing', 'magic', 'damage', '.', 'Morgana', 'casts', 'cursed', 'shadow', 'area', ',', 'damaging', 'enemies', 'dare', 'stand', 'dark', 'circle', '.', 'They', 'receive', 'magic', 'damage', 'time', ',', 'increases', 'lower', 'health', 'are.Morgana', 'anoints', 'ally', 'protective', 'barrier', 'starfire', ',', 'absorbs', 'magical', 'damage', 'disabling', 'effects', 'broken.Morgana', 'unleashes', 'full', 'force', 'Celestial', 'power', 'unbinds', 'wings', 'hovers', 'ground', '.', 'She', 'lashes', 'chains', 'dark', 'pain', 'onto', 'nearby', 'enemy', 'champions', ',', 'gaining', 'Move', 'Speed', 'towards', '.', 'The', 'chains', 'slow', 'deal', 'initial', 'damage', ',', 'delay', ',', 'stun', 'unable', 'break', '.']\n",
            "['Aqua', 'Prison', 'is', 'a', 'very', 'powerful', 'ability', 'with', 'a', 'long', 'cooldown', ',', 'take', 'advantage', 'of', 'the', 'situation', 'if', 'Nami', 'misses', 'this', 'ability', '.', 'Tidal', 'Wave', 'has', 'a', 'very', 'long', 'range', 'but', 'travels', 'slowly', ',', 'be', 'aware', 'of', 'when', 'it', 'is', 'coming', 'your', 'way', 'as', 'you', 'can', 'move', 'out', 'of', 'its', 'path', '.', 'Try', 'to', 'avoid', 'fighting', 'an', 'opponent', 'affected', 'by', 'Tidecaller', \"'s\", 'Blessing', ',', 'it', 'lasts', 'a', 'short', 'duration', 'so', 'waiting', 'it', 'out', 'can', 'help', 'you', 'greatly', '.', 'Aqua', 'Prison', 'has', 'a', 'long', 'cooldown', ',', 'make', 'sure', 'to', 'use', 'it', 'at', 'the', 'right', 'moment', '.', 'Using', 'Ebb', 'and', 'Flow', 'during', 'an', 'engagement', 'with', 'enemy', 'champions', 'will', 'help', 'sway', 'the', 'battle', 'in', 'your', 'favor', '.', 'Nami', \"'s\", 'ultimate', 'can', 'come', 'in', 'very', 'handy', 'for', 'initiating', 'on', 'enemies', 'who', 'are', 'far', 'away.Sends', 'a', 'bubble', 'to', 'a', 'target', 'area', ',', 'dealing', 'damage', 'and', 'stunning', 'all', 'enemies', 'on', 'impact.Unleashes', 'a', 'stream', 'of', 'water', 'that', 'bounces', 'back', 'and', 'forth', 'between', 'allied', 'and', 'enemy', 'champions', ',', 'healing', 'allies', 'and', 'damaging', 'enemies.Empowers', 'an', 'allied', 'champion', 'for', 'a', 'short', 'duration', '.', 'The', 'ally', \"'s\", 'basic', 'attacks', 'and', 'spells', 'deal', 'bonus', 'magic', 'damage', 'and', 'slow', 'the', 'target.Summons', 'a', 'massive', 'Tidal', 'Wave', 'that', 'knocks', 'up', ',', 'slows', ',', 'and', 'damages', 'enemies', '.', 'Allies', 'hit', 'gain', 'double', 'the', 'effect', 'of', 'Surging', 'Tides', '.'] \n",
            "\n",
            "['Aqua', 'Prison', 'powerful', 'ability', 'long', 'cooldown', ',', 'take', 'advantage', 'situation', 'Nami', 'misses', 'ability', '.', 'Tidal', 'Wave', 'long', 'range', 'travels', 'slowly', ',', 'aware', 'coming', 'way', 'move', 'path', '.', 'Try', 'avoid', 'fighting', 'opponent', 'affected', 'Tidecaller', \"'s\", 'Blessing', ',', 'lasts', 'short', 'duration', 'waiting', 'help', 'greatly', '.', 'Aqua', 'Prison', 'long', 'cooldown', ',', 'make', 'sure', 'use', 'right', 'moment', '.', 'Using', 'Ebb', 'Flow', 'engagement', 'enemy', 'champions', 'help', 'sway', 'battle', 'favor', '.', 'Nami', \"'s\", 'ultimate', 'come', 'handy', 'initiating', 'enemies', 'far', 'away.Sends', 'bubble', 'target', 'area', ',', 'dealing', 'damage', 'stunning', 'enemies', 'impact.Unleashes', 'stream', 'water', 'bounces', 'back', 'forth', 'allied', 'enemy', 'champions', ',', 'healing', 'allies', 'damaging', 'enemies.Empowers', 'allied', 'champion', 'short', 'duration', '.', 'The', 'ally', \"'s\", 'basic', 'attacks', 'spells', 'deal', 'bonus', 'magic', 'damage', 'slow', 'target.Summons', 'massive', 'Tidal', 'Wave', 'knocks', ',', 'slows', ',', 'damages', 'enemies', '.', 'Allies', 'hit', 'gain', 'double', 'effect', 'Surging', 'Tides', '.']\n",
            "['While', 'transformed', 'by', 'his', 'ultimate', ',', 'Nasus', 'is', 'stronger', 'than', 'most', 'champions', 'in', 'the', 'League', '.', 'Engage', 'him', 'only', 'if', 'you', 'have', 'a', 'clear', 'advantage', '.', 'Max', 'rank', 'Wither', 'is', 'a', 'very', 'effective', 'counter', 'to', 'Attack', 'Damage', 'characters', ',', 'so', 'try', 'to', 'avoid', 'getting', 'caught', 'alone', 'by', 'it', '.', 'Nasus', 'is', 'prone', 'to', 'being', 'kited', '.', 'Try', 'not', 'to', 'engage', 'him', 'at', 'full', 'Health', '.', 'Paying', 'attention', 'to', 'last', 'hitting', 'with', 'Siphoning', 'Strike', 'will', 'have', 'a', 'large', 'impact', 'at', 'the', 'end', 'of', 'a', 'game', '.', 'If', 'you', \"'re\", 'solo', ',', 'Spirit', 'Fire', 'is', 'a', 'great', 'way', 'to', 'farm', 'a', 'lane', '.', 'It', 'can', 'be', 'bad', 'if', 'you', \"'re\", 'in', 'a', 'lane', 'with', '2', 'and', 'you', 'push', 'too', 'far', '.', 'Find', 'the', 'right', 'balance', 'between', 'Siphoning', 'Strike', 'last', 'hits', 'and', 'AoE', 'farming', '.', 'If', 'you', 'have', 'low', 'defenses', ',', 'people', 'will', 'focus', 'you', 'down', 'even', 'during', 'your', 'ultimate', '.', 'Try', 'buying', 'some', 'survivability', 'items', 'even', 'in', 'your', 'DPS', 'builds.Nasus', 'strikes', 'his', 'foe', ',', 'dealing', 'damage', 'and', 'increasing', 'the', 'power', 'of', 'his', 'future', 'Siphoning', 'Strikes', 'if', 'he', 'slays', 'his', 'target.Nasus', 'ages', 'an', 'enemy', 'champion', ',', 'decelerating', 'their', 'Move', 'Speed', 'and', 'Attack', 'Speed', 'over', 'time.Nasus', 'unleashes', 'a', 'spirit', 'flame', 'at', 'a', 'location', ',', 'dealing', 'damage', 'and', 'reducing', 'the', 'Armor', 'of', 'enemies', 'who', 'stand', 'on', 'it.Nasus', 'unleashes', 'a', 'mighty', 'sandstorm', 'that', 'batters', 'nearby', 'enemies', '.', 'While', 'the', 'storm', 'rages', ',', 'he', 'gains', 'increased', 'Health', ',', 'Attack', 'Range', ',', 'damages', 'nearby', 'enemies', ',', 'has', 'a', 'reduced', 'cooldown', 'on', 'Siphoning', 'Strike', ',', 'and', 'gains', 'bonus', 'Armor', 'and', 'Magic', 'Resistance', '.'] \n",
            "\n",
            "['While', 'transformed', 'ultimate', ',', 'Nasus', 'stronger', 'champions', 'League', '.', 'Engage', 'clear', 'advantage', '.', 'Max', 'rank', 'Wither', 'effective', 'counter', 'Attack', 'Damage', 'characters', ',', 'try', 'avoid', 'getting', 'caught', 'alone', '.', 'Nasus', 'prone', 'kited', '.', 'Try', 'engage', 'full', 'Health', '.', 'Paying', 'attention', 'last', 'hitting', 'Siphoning', 'Strike', 'large', 'impact', 'end', 'game', '.', 'If', \"'re\", 'solo', ',', 'Spirit', 'Fire', 'great', 'way', 'farm', 'lane', '.', 'It', 'bad', \"'re\", 'lane', '2', 'push', 'far', '.', 'Find', 'right', 'balance', 'Siphoning', 'Strike', 'last', 'hits', 'AoE', 'farming', '.', 'If', 'low', 'defenses', ',', 'people', 'focus', 'even', 'ultimate', '.', 'Try', 'buying', 'survivability', 'items', 'even', 'DPS', 'builds.Nasus', 'strikes', 'foe', ',', 'dealing', 'damage', 'increasing', 'power', 'future', 'Siphoning', 'Strikes', 'slays', 'target.Nasus', 'ages', 'enemy', 'champion', ',', 'decelerating', 'Move', 'Speed', 'Attack', 'Speed', 'time.Nasus', 'unleashes', 'spirit', 'flame', 'location', ',', 'dealing', 'damage', 'reducing', 'Armor', 'enemies', 'stand', 'it.Nasus', 'unleashes', 'mighty', 'sandstorm', 'batters', 'nearby', 'enemies', '.', 'While', 'storm', 'rages', ',', 'gains', 'increased', 'Health', ',', 'Attack', 'Range', ',', 'damages', 'nearby', 'enemies', ',', 'reduced', 'cooldown', 'Siphoning', 'Strike', ',', 'gains', 'bonus', 'Armor', 'Magic', 'Resistance', '.']\n",
            "['If', 'Nautilus', 'uses', 'Riptide', 'right', 'next', 'to', 'you', ',', 'hold', 'in', 'place', 'until', 'the', 'ripple', 'effect', 'finishes', 'before', 'running', '.', 'Running', 'early', 'will', 'run', 'straight', 'into', 'the', 'secondary', 'explosions', ',', 'causing', 'you', 'to', 'take', 'additional', 'damage', 'and', 'slow', '.', 'While', 'Nautilus', 'is', 'shielded', ',', 'he', 'is', 'capable', 'of', 'dealing', 'large', 'amounts', 'of', 'area', 'of', 'effect', 'damage', 'with', 'his', 'basic', 'attacks', '-', 'consider', 'taking', 'down', 'the', 'shield', 'if', 'you', 'have', 'time', '.', 'While', 'ganking', ',', 'consider', 'aiming', 'Dredge', 'Line', 'at', 'nearby', 'terrain', 'and', 'following', 'it', 'up', 'with', 'Riptide', 'for', 'a', 'higher', 'hit', 'rate', '.', 'Riptide', 'has', 'a', 'delayed', 'blast', 'timing', 'on', 'activation', '-', 'you', 'can', 'use', 'this', 'while', 'running', 'away', 'or', 'when', 'enemies', 'are', 'incoming', 'to', 'serve', 'as', 'a', 'deterrent.Nautilus', 'hurls', 'his', 'anchor', 'forward', '.', 'Colliding', 'with', 'an', 'enemy', 'pulls', 'them', 'and', 'Nautilus', 'together', ',', 'dealing', 'magic', 'damage', '.', 'Colliding', 'with', 'terrain', 'pulls', 'Nautilus', 'towards', 'it.Nautilus', 'gains', 'a', 'temporary', 'Shield', '.', 'While', 'it', 'persists', ',', 'his', 'Attacks', 'deal', 'damage', 'over', 'time', 'to', 'his', 'target', 'and', 'surrounding', 'enemies.Nautilus', 'creates', 'three', 'exploding', 'waves', 'around', 'himself', '.', 'Each', 'explosion', 'damages', 'and', 'slows', 'enemies.Nautilus', 'fires', 'a', 'shockwave', 'into', 'the', 'earth', 'that', 'chases', 'an', 'opponent', '.', 'This', 'shockwave', 'rips', 'up', 'the', 'earth', 'above', 'it', ',', 'knocking', 'enemies', 'into', 'the', 'air', '.', 'When', 'it', 'reaches', 'the', 'opponent', ',', 'the', 'shockwave', 'erupts', ',', 'knocking', 'his', 'target', 'into', 'the', 'air', 'and', 'stunning', 'them', '.'] \n",
            "\n",
            "['If', 'Nautilus', 'uses', 'Riptide', 'right', 'next', ',', 'hold', 'place', 'ripple', 'effect', 'finishes', 'running', '.', 'Running', 'early', 'run', 'straight', 'secondary', 'explosions', ',', 'causing', 'take', 'additional', 'damage', 'slow', '.', 'While', 'Nautilus', 'shielded', ',', 'capable', 'dealing', 'large', 'amounts', 'area', 'effect', 'damage', 'basic', 'attacks', '-', 'consider', 'taking', 'shield', 'time', '.', 'While', 'ganking', ',', 'consider', 'aiming', 'Dredge', 'Line', 'nearby', 'terrain', 'following', 'Riptide', 'higher', 'hit', 'rate', '.', 'Riptide', 'delayed', 'blast', 'timing', 'activation', '-', 'use', 'running', 'away', 'enemies', 'incoming', 'serve', 'deterrent.Nautilus', 'hurls', 'anchor', 'forward', '.', 'Colliding', 'enemy', 'pulls', 'Nautilus', 'together', ',', 'dealing', 'magic', 'damage', '.', 'Colliding', 'terrain', 'pulls', 'Nautilus', 'towards', 'it.Nautilus', 'gains', 'temporary', 'Shield', '.', 'While', 'persists', ',', 'Attacks', 'deal', 'damage', 'time', 'target', 'surrounding', 'enemies.Nautilus', 'creates', 'three', 'exploding', 'waves', 'around', '.', 'Each', 'explosion', 'damages', 'slows', 'enemies.Nautilus', 'fires', 'shockwave', 'earth', 'chases', 'opponent', '.', 'This', 'shockwave', 'rips', 'earth', ',', 'knocking', 'enemies', 'air', '.', 'When', 'reaches', 'opponent', ',', 'shockwave', 'erupts', ',', 'knocking', 'target', 'air', 'stunning', '.']\n",
            "['Standing', 'behind', 'minions', 'against', 'Neeko', 'is', 'very', 'dangerous', 'as', 'Tangle-Barbs', 'become', 'stronger', '.', 'Pop', 'Blossom', \"'s\", 'warning', 'visuals', 'are', 'invisible', 'if', 'Neeko', 'is', 'disguised', '.', 'You', 'can', 'set', 'her', 'passive', 'to', 'use', 'hotkeys', 'in', 'the', 'options', 'menu', '.', 'The', 'default', 'is', 'Shift+F1~F5', 'Try', 'to', 'use', 'Inherent', 'Glamour', 'sparingly', ',', 'ineffective', 'uses', 'will', 'put', 'enemies', 'on', 'the', 'alert.Neeko', 'throws', 'a', 'seed', 'dealing', 'magic', 'damage', '.', 'The', 'seed', 'blooms', 'again', 'on', 'hitting', 'champions', 'or', 'killing', 'units.Neeko', 'passively', 'deals', 'bonus', 'magic', 'damage', 'every', 'third', 'attack', '.', 'Neeko', 'can', 'activate', 'to', 'send', 'a', 'clone', 'in', 'a', 'direction.Neeko', 'slings', 'a', 'tangle', 'that', 'damage', 'and', 'root', 'everything', 'it', 'passes', 'through', '.', 'If', 'the', 'tangle', 'kills', 'an', 'enemy', 'or', 'passes', 'through', 'a', 'champion', ',', 'it', 'becomes', 'larger', ',', 'faster', ',', 'and', 'roots', 'for', 'longer.After', 'a', 'short', 'preparation', ',', 'Neeko', 'leaps', 'into', 'the', 'air', 'and', 'gains', 'a', 'shield', '.', 'Upon', 'landing', ',', 'nearby', 'enemies', 'are', 'damaged', 'and', 'stunned', '.', 'The', 'preparation', 'is', 'hidden', 'if', 'Neeko', 'is', 'disguised', '.'] \n",
            "\n",
            "['Standing', 'behind', 'minions', 'Neeko', 'dangerous', 'Tangle-Barbs', 'become', 'stronger', '.', 'Pop', 'Blossom', \"'s\", 'warning', 'visuals', 'invisible', 'Neeko', 'disguised', '.', 'You', 'set', 'passive', 'use', 'hotkeys', 'options', 'menu', '.', 'The', 'default', 'Shift+F1~F5', 'Try', 'use', 'Inherent', 'Glamour', 'sparingly', ',', 'ineffective', 'uses', 'put', 'enemies', 'alert.Neeko', 'throws', 'seed', 'dealing', 'magic', 'damage', '.', 'The', 'seed', 'blooms', 'hitting', 'champions', 'killing', 'units.Neeko', 'passively', 'deals', 'bonus', 'magic', 'damage', 'every', 'third', 'attack', '.', 'Neeko', 'activate', 'send', 'clone', 'direction.Neeko', 'slings', 'tangle', 'damage', 'root', 'everything', 'passes', '.', 'If', 'tangle', 'kills', 'enemy', 'passes', 'champion', ',', 'becomes', 'larger', ',', 'faster', ',', 'roots', 'longer.After', 'short', 'preparation', ',', 'Neeko', 'leaps', 'air', 'gains', 'shield', '.', 'Upon', 'landing', ',', 'nearby', 'enemies', 'damaged', 'stunned', '.', 'The', 'preparation', 'hidden', 'Neeko', 'disguised', '.']\n",
            "['Nidalee', \"'s\", 'Hunt', 'debuff', 'is', 'only', 'applied', 'with', 'Javelin', 'Toss', 'and', 'Bushwhack', '.', 'Avoiding', 'being', 'hit', 'by', 'these', 'abilities', 'will', 'impair', 'her', 'ability', 'to', 'deal', 'follow-up', 'damage', '.', 'Nidalee', \"'s\", 'Javelin', 'Toss', 'deals', 'more', 'damage', 'the', 'farther', 'she', 'is', '.', 'If', 'she', 'is', 'far', 'away', ',', 'it', \"'s\", 'imperative', 'to', 'dodge', 'it', '.', 'Nidalee', \"'s\", 'Takedown', 'deals', 'extreme', 'damage', 'to', 'Hunted', 'targets', ',', 'but', 'she', 'has', 'to', 'get', 'close', 'to', 'use', 'it', '.', 'Save', 'your', 'crowd', 'control', 'or', 'defensive', 'abilities', 'for', 'when', 'she', 'goes', 'in', 'for', 'the', 'kill', '.', 'Use', 'brush', 'to', 'your', 'advantage', '!', 'Moving', 'in', 'and', 'out', 'of', 'brush', 'can', 'heavily', 'alter', 'your', 'effectiveness', 'in', 'battle', '.', 'Start', 'team', 'fights', 'by', 'harassing', 'with', 'your', 'Javelin', 'Toss', ',', 'and', 'then', 'switch', 'to', 'cougar', 'form', 'to', 'chase', 'down', 'Hunted', 'targets', '.', 'Bushwhack', 'traps', 'deal', 'damage', 'based', 'on', 'their', 'victim', \"'s\", 'current', 'Health', '.', 'Set', 'them', 'up', 'in', 'your', 'team', \"'s\", 'backline', 'before', 'fights', 'break', 'out', 'during', 'sieges', 'to', 'help', 'your', 'team', 'deal', 'damage', 'to', 'the', 'enemy', 'frontline.In', 'human', 'form', ',', 'Nidalee', 'throws', 'a', 'spiked', 'javelin', 'at', 'her', 'target', 'that', 'gains', 'damage', 'as', 'it', 'flies', '.', 'As', 'a', 'cougar', ',', 'her', 'next', 'attack', 'will', 'attempt', 'to', 'fatally', 'wound', 'her', 'target', ',', 'dealing', 'more', 'damage', 'the', 'less', 'life', 'they', 'have.In', 'human', 'form', ',', 'Nidalee', 'lays', 'a', 'trap', 'for', 'unwary', 'opponents', 'that', ',', 'when', 'sprung', ',', 'damages', 'and', 'reveals', 'its', 'target', '.', 'As', 'a', 'cougar', ',', 'she', 'jumps', 'in', 'a', 'direction', ',', 'dealing', 'damage', 'in', 'an', 'area', 'where', 'she', 'lands.In', 'human', 'form', ',', 'Nidalee', 'channels', 'the', 'spirit', 'of', 'the', 'cougar', 'to', 'heal', 'her', 'allies', 'and', 'imbue', 'them', 'with', 'Attack', 'Speed', 'for', 'a', 'short', 'duration', '.', 'As', 'a', 'cougar', ',', 'she', 'claws', 'in', 'a', 'direction', ',', 'dealing', 'damage', 'to', 'enemies', 'in', 'front', 'of', 'her.Nidalee', 'transforms', 'into', 'a', 'cougar', ',', 'gaining', 'new', 'abilities', '.'] \n",
            "\n",
            "['Nidalee', \"'s\", 'Hunt', 'debuff', 'applied', 'Javelin', 'Toss', 'Bushwhack', '.', 'Avoiding', 'hit', 'abilities', 'impair', 'ability', 'deal', 'follow-up', 'damage', '.', 'Nidalee', \"'s\", 'Javelin', 'Toss', 'deals', 'damage', 'farther', '.', 'If', 'far', 'away', ',', \"'s\", 'imperative', 'dodge', '.', 'Nidalee', \"'s\", 'Takedown', 'deals', 'extreme', 'damage', 'Hunted', 'targets', ',', 'get', 'close', 'use', '.', 'Save', 'crowd', 'control', 'defensive', 'abilities', 'goes', 'kill', '.', 'Use', 'brush', 'advantage', '!', 'Moving', 'brush', 'heavily', 'alter', 'effectiveness', 'battle', '.', 'Start', 'team', 'fights', 'harassing', 'Javelin', 'Toss', ',', 'switch', 'cougar', 'form', 'chase', 'Hunted', 'targets', '.', 'Bushwhack', 'traps', 'deal', 'damage', 'based', 'victim', \"'s\", 'current', 'Health', '.', 'Set', 'team', \"'s\", 'backline', 'fights', 'break', 'sieges', 'help', 'team', 'deal', 'damage', 'enemy', 'frontline.In', 'human', 'form', ',', 'Nidalee', 'throws', 'spiked', 'javelin', 'target', 'gains', 'damage', 'flies', '.', 'As', 'cougar', ',', 'next', 'attack', 'attempt', 'fatally', 'wound', 'target', ',', 'dealing', 'damage', 'less', 'life', 'have.In', 'human', 'form', ',', 'Nidalee', 'lays', 'trap', 'unwary', 'opponents', ',', 'sprung', ',', 'damages', 'reveals', 'target', '.', 'As', 'cougar', ',', 'jumps', 'direction', ',', 'dealing', 'damage', 'area', 'lands.In', 'human', 'form', ',', 'Nidalee', 'channels', 'spirit', 'cougar', 'heal', 'allies', 'imbue', 'Attack', 'Speed', 'short', 'duration', '.', 'As', 'cougar', ',', 'claws', 'direction', ',', 'dealing', 'damage', 'enemies', 'front', 'her.Nidalee', 'transforms', 'cougar', ',', 'gaining', 'new', 'abilities', '.']\n",
            "['Stay', 'close', 'to', 'your', 'allies', 'when', 'Paranoia', 'is', 'cast', '-', 'there', 'is', 'strength', 'in', 'numbers', '!', 'Nocturne', \"'s\", 'Unspeakable', 'Horror', 'is', 'broken', 'with', 'range', ',', 'so', 'try', 'to', 'save', 'your', 'movement', 'abilities', 'for', 'when', 'he', 'casts', 'it', '.', 'Using', 'Paranoia', 'at', 'a', 'critical', 'moment', 'is', 'well', 'worth', 'it', 'even', 'if', 'you', 'can', 'not', 'use', 'the', 'dash', '.', 'Duskbringer', 'is', \"n't\", 'only', 'an', 'offensive', 'ability', '.', 'It', 'can', 'be', 'used', 'to', 'close', 'distance', 'out', 'of', 'combat', 'or', 'escape', 'from', 'certain', 'death', '.', 'Use', 'Shroud', 'of', 'Darkness', 'in', 'tandem', 'with', 'Paranoia', \"'s\", 'dash', '.', 'Your', 'opponents', 'may', 'panic', 'and', 'waste', 'a', 'critical', 'disable', 'on', 'your', 'spell', 'shield.Nocturne', 'throws', 'a', 'shadow', 'blade', 'that', 'deals', 'damage', ',', 'leaves', 'a', 'Dusk', 'Trail', ',', 'and', 'causes', 'champions', 'to', 'leave', 'a', 'Dusk', 'Trail', '.', 'While', 'on', 'the', 'trail', ',', 'Nocturne', 'can', 'move', 'through', 'units', 'and', 'has', 'increased', 'Movement', 'Speed', 'and', 'Attack', 'Damage.Nocturne', 'empowers', 'his', 'blades', ',', 'passively', 'gaining', 'Attack', 'Speed', '.', 'Activating', 'Shroud', 'of', 'Darkness', 'allows', 'Nocturne', 'to', 'fade', 'into', 'the', 'shadows', ',', 'creating', 'a', 'magical', 'barrier', 'which', 'blocks', 'a', 'single', 'enemy', 'ability', 'and', 'doubles', 'his', 'passive', 'Attack', 'Speed', 'if', 'successful.Nocturne', 'plants', 'a', 'nightmare', 'into', 'his', 'target', \"'s\", 'mind', ',', 'dealing', 'damage', 'each', 'second', 'and', 'applying', 'fear', 'to', 'the', 'target', 'if', 'they', 'do', 'not', 'get', 'out', 'of', 'range', 'by', 'the', 'end', 'of', 'the', 'duration.Nocturne', 'reduces', 'the', 'sight', 'radius', 'of', 'all', 'enemy', 'champions', 'and', 'removes', 'their', 'ally', 'vision', 'in', 'the', 'process', '.', 'He', 'can', 'then', 'launch', 'himself', 'at', 'a', 'nearby', 'enemy', 'champion', '.'] \n",
            "\n",
            "['Stay', 'close', 'allies', 'Paranoia', 'cast', '-', 'strength', 'numbers', '!', 'Nocturne', \"'s\", 'Unspeakable', 'Horror', 'broken', 'range', ',', 'try', 'save', 'movement', 'abilities', 'casts', '.', 'Using', 'Paranoia', 'critical', 'moment', 'well', 'worth', 'even', 'use', 'dash', '.', 'Duskbringer', \"n't\", 'offensive', 'ability', '.', 'It', 'used', 'close', 'distance', 'combat', 'escape', 'certain', 'death', '.', 'Use', 'Shroud', 'Darkness', 'tandem', 'Paranoia', \"'s\", 'dash', '.', 'Your', 'opponents', 'may', 'panic', 'waste', 'critical', 'disable', 'spell', 'shield.Nocturne', 'throws', 'shadow', 'blade', 'deals', 'damage', ',', 'leaves', 'Dusk', 'Trail', ',', 'causes', 'champions', 'leave', 'Dusk', 'Trail', '.', 'While', 'trail', ',', 'Nocturne', 'move', 'units', 'increased', 'Movement', 'Speed', 'Attack', 'Damage.Nocturne', 'empowers', 'blades', ',', 'passively', 'gaining', 'Attack', 'Speed', '.', 'Activating', 'Shroud', 'Darkness', 'allows', 'Nocturne', 'fade', 'shadows', ',', 'creating', 'magical', 'barrier', 'blocks', 'single', 'enemy', 'ability', 'doubles', 'passive', 'Attack', 'Speed', 'successful.Nocturne', 'plants', 'nightmare', 'target', \"'s\", 'mind', ',', 'dealing', 'damage', 'second', 'applying', 'fear', 'target', 'get', 'range', 'end', 'duration.Nocturne', 'reduces', 'sight', 'radius', 'enemy', 'champions', 'removes', 'ally', 'vision', 'process', '.', 'He', 'launch', 'nearby', 'enemy', 'champion', '.']\n",
            "['Interrupting', 'the', 'charge', 'up', 'on', 'Absolute', 'Zero', 'will', 'lower', 'the', 'amount', 'of', 'damage', 'your', 'team', 'takes', '.', 'Using', 'Summoner', 'Flash', 'is', 'a', 'surefire', 'way', 'to', 'escape', 'Absolute', 'Zero', '.', 'Biggest', 'Snowball', 'Ever', 'moves', 'very', 'fast', 'but', 'can', 'not', 'turn', 'as', 'quickly', ',', 'so', 'do', \"n't\", 'try', 'to', 'escape', 'it', 'by', 'running', 'away', 'in', 'a', 'straight', 'line', '.', 'Instead', ',', 'make', 'sudden', ',', 'sharp', 'turns', '.', 'Consume', 'allows', 'Nunu', 'to', 'stay', 'in', 'a', 'lane', 'against', 'ranged', 'opponents', '.', 'You', 'can', 'choose', 'to', 'interrupt', 'Absolute', 'Zero', 'early', 'for', 'partial', 'damage', 'if', 'an', 'opponent', 'is', 'about', 'to', 'run', 'out', 'of', 'range', '.', 'It', \"'s\", 'often', 'beneficial', 'to', 'delay', 'the', 'casting', 'of', 'Absolute', 'Zero', 'until', 'the', 'initial', 'round', 'of', 'disables', 'are', 'used', '.', 'Try', 'to', 'hang', 'back', 'before', 'rushing', 'into', 'a', 'team', 'fight.Willump', 'takes', 'a', 'bite', 'out', 'of', 'a', 'minion', ',', 'monster', ',', 'or', 'enemy', 'champion', ',', 'dealing', 'damage', 'and', 'healing', 'himself.Willump', 'creates', 'a', 'snowball', 'that', 'grows', 'in', 'size', 'and', 'speed', 'as', 'he', 'rolls', 'it', '.', 'The', 'snowball', 'damages', 'and', 'knocks', 'up', 'enemies.Nunu', 'throws', 'multiple', 'snowballs', 'that', 'damage', 'enemies', '.', 'When', 'he', \"'s\", 'finished', ',', 'Willump', 'roots', 'any', 'champions', 'or', 'large', 'monsters', 'that', 'were', 'hit', 'by', 'a', 'snowball.Nunu', '&', 'Willump', 'create', 'a', 'powerful', 'blizzard', 'in', 'an', 'area', 'that', 'slows', 'enemies', 'and', 'deals', 'massive', 'damage', 'at', 'the', 'end', '.'] \n",
            "\n",
            "['Interrupting', 'charge', 'Absolute', 'Zero', 'lower', 'amount', 'damage', 'team', 'takes', '.', 'Using', 'Summoner', 'Flash', 'surefire', 'way', 'escape', 'Absolute', 'Zero', '.', 'Biggest', 'Snowball', 'Ever', 'moves', 'fast', 'turn', 'quickly', ',', \"n't\", 'try', 'escape', 'running', 'away', 'straight', 'line', '.', 'Instead', ',', 'make', 'sudden', ',', 'sharp', 'turns', '.', 'Consume', 'allows', 'Nunu', 'stay', 'lane', 'ranged', 'opponents', '.', 'You', 'choose', 'interrupt', 'Absolute', 'Zero', 'early', 'partial', 'damage', 'opponent', 'run', 'range', '.', 'It', \"'s\", 'often', 'beneficial', 'delay', 'casting', 'Absolute', 'Zero', 'initial', 'round', 'disables', 'used', '.', 'Try', 'hang', 'back', 'rushing', 'team', 'fight.Willump', 'takes', 'bite', 'minion', ',', 'monster', ',', 'enemy', 'champion', ',', 'dealing', 'damage', 'healing', 'himself.Willump', 'creates', 'snowball', 'grows', 'size', 'speed', 'rolls', '.', 'The', 'snowball', 'damages', 'knocks', 'enemies.Nunu', 'throws', 'multiple', 'snowballs', 'damage', 'enemies', '.', 'When', \"'s\", 'finished', ',', 'Willump', 'roots', 'champions', 'large', 'monsters', 'hit', 'snowball.Nunu', '&', 'Willump', 'create', 'powerful', 'blizzard', 'area', 'slows', 'enemies', 'deals', 'massive', 'damage', 'end', '.']\n",
            "['Olaf', 'becomes', 'more', 'dangerous', 'the', 'lower', 'life', 'he', 'is', '.', 'Save', 'your', 'disables', 'to', 'finish', 'him', 'off', '.', 'Preventing', 'Olaf', 'from', 'reaching', 'his', 'axe', 'will', 'minimize', 'the', 'amount', 'of', 'harassment', 'he', 'can', 'cause', 'in', 'the', 'laning', 'phase', '.', 'Olaf', 'has', 'reduced', 'defenses', 'from', 'damage', 'during', 'Ragnarok', ',', 'despite', 'being', 'immune', 'to', 'disables', '.', 'If', 'you', 'ca', \"n't\", 'escape', 'from', 'Olaf', 'during', 'Ragnarok', ',', 'try', 'focusing', 'your', 'damage', 'on', 'him', 'with', 'your', 'teammates', '.', 'Olaf', 'can', 'combine', 'Berserker', 'Rage', ',', 'Vicious', 'Strikes', ',', 'and', 'Ragnarok', 'at', 'low', 'life', 'to', 'become', 'deceptively', 'strong', '.', 'The', 'bonus', 'healing', 'granted', 'by', 'Vicious', 'Strikes', 'amplifies', 'your', 'Life', 'Steal', 'from', 'all', 'sources', 'as', 'well', 'as', 'heals', 'from', 'allies.Olaf', 'throws', 'an', 'axe', 'into', 'the', 'ground', 'at', 'a', 'target', 'location', ',', 'dealing', 'damage', 'to', 'enemies', 'it', 'passes', 'through', 'and', 'slowing', 'their', 'Move', 'Speed', '.', 'If', 'Olaf', 'picks', 'up', 'the', 'axe', ',', 'the', 'ability', \"'s\", 'cooldown', 'is', 'reduced', 'by', '4.5', 'seconds.Olaf', \"'s\", 'Attack', 'Speed', 'is', 'increased', ',', 'he', 'gains', 'Life', 'Steal', 'and', 'has', 'increased', 'healing', 'from', 'all', 'sources', 'based', 'on', 'how', 'much', 'Health', 'he', 'is', 'missing.Olaf', 'attacks', 'with', 'such', 'force', 'that', 'it', 'deals', 'true', 'damage', 'to', 'his', 'target', 'and', 'himself', ',', 'refunding', 'the', 'Health', 'cost', 'if', 'he', 'destroys', 'the', 'target.Olaf', 'temporarily', 'becomes', 'immune', 'to', 'disables', '.'] \n",
            "\n",
            "['Olaf', 'becomes', 'dangerous', 'lower', 'life', '.', 'Save', 'disables', 'finish', '.', 'Preventing', 'Olaf', 'reaching', 'axe', 'minimize', 'amount', 'harassment', 'cause', 'laning', 'phase', '.', 'Olaf', 'reduced', 'defenses', 'damage', 'Ragnarok', ',', 'despite', 'immune', 'disables', '.', 'If', 'ca', \"n't\", 'escape', 'Olaf', 'Ragnarok', ',', 'try', 'focusing', 'damage', 'teammates', '.', 'Olaf', 'combine', 'Berserker', 'Rage', ',', 'Vicious', 'Strikes', ',', 'Ragnarok', 'low', 'life', 'become', 'deceptively', 'strong', '.', 'The', 'bonus', 'healing', 'granted', 'Vicious', 'Strikes', 'amplifies', 'Life', 'Steal', 'sources', 'well', 'heals', 'allies.Olaf', 'throws', 'axe', 'ground', 'target', 'location', ',', 'dealing', 'damage', 'enemies', 'passes', 'slowing', 'Move', 'Speed', '.', 'If', 'Olaf', 'picks', 'axe', ',', 'ability', \"'s\", 'cooldown', 'reduced', '4.5', 'seconds.Olaf', \"'s\", 'Attack', 'Speed', 'increased', ',', 'gains', 'Life', 'Steal', 'increased', 'healing', 'sources', 'based', 'much', 'Health', 'missing.Olaf', 'attacks', 'force', 'deals', 'true', 'damage', 'target', ',', 'refunding', 'Health', 'cost', 'destroys', 'target.Olaf', 'temporarily', 'becomes', 'immune', 'disables', '.']\n",
            "['Orianna', 'can', 'only', 'affect', 'the', 'area', 'the', 'Ball', 'is', 'around', '.', 'Use', 'this', 'to', 'your', 'advantage', '.', 'Watch', 'out', 'for', 'Orianna', \"'s\", 'Ball', 'returning', 'to', 'her', 'due', 'to', 'leashing', '.', 'This', 'may', 'cause', 'some', 'unexpected', 'situations', '.', 'Command', ':', 'Protect', 'can', 'be', 'used', 'on', 'yourself', 'to', 'return', 'the', 'Ball', 'back', 'to', 'you', 'quickly', '.', 'Combine', 'this', 'with', 'Command', ':', 'Attack', 'for', 'a', 'quick', 'harassment', '.', 'Command', ':', 'Dissonance', 'is', 'a', 'very', 'powerful', 'escape', 'tool', 'if', 'Orianna', 'has', 'the', 'Ball', '.', 'The', 'combination', 'of', 'speed', 'and', 'leaving', 'a', 'slowing', 'obstacle', 'can', 'be', 'quite', 'powerful', '.', 'Command', ':', 'Shockwave', 'can', 'be', 'used', 'to', 'drag', 'enemies', 'towards', 'you', 'or', 'away', 'from', 'you', 'if', 'you', 'position', 'the', 'Ball', 'properly.Orianna', 'commands', 'her', 'Ball', 'to', 'fire', 'toward', 'a', 'target', 'location', ',', 'dealing', 'magic', 'damage', 'to', 'targets', 'along', 'the', 'way', '(', 'deals', 'less', 'damage', 'to', 'subsequent', 'targets', ')', '.', 'Her', 'Ball', 'remains', 'at', 'the', 'target', 'location', 'after.Orianna', 'commands', 'her', 'Ball', 'to', 'release', 'a', 'pulse', 'of', 'energy', ',', 'dealing', 'magic', 'damage', 'around', 'it', '.', 'This', 'leaves', 'a', 'field', 'behind', 'that', 'speeds', 'up', 'allies', 'and', 'slows', 'enemies.Orianna', 'commands', 'her', 'Ball', 'to', 'attach', 'to', 'an', 'allied', 'champion', ',', 'Shielding', 'them', 'and', 'dealing', 'magic', 'damage', 'to', 'any', 'enemies', 'it', 'passes', 'through', 'on', 'the', 'way', '.', 'Additionally', ',', 'the', 'Ball', 'grants', 'additional', 'Armor', 'and', 'Magic', 'Resist', 'to', 'the', 'champion', 'it', 'is', 'attached', 'to.Orianna', 'commands', 'her', 'Ball', 'to', 'unleash', 'a', 'shockwave', ',', 'dealing', 'magic', 'damage', 'and', 'launching', 'nearby', 'enemies', 'towards', 'the', 'Ball', 'after', 'a', 'short', 'delay', '.'] \n",
            "\n",
            "['Orianna', 'affect', 'area', 'Ball', 'around', '.', 'Use', 'advantage', '.', 'Watch', 'Orianna', \"'s\", 'Ball', 'returning', 'due', 'leashing', '.', 'This', 'may', 'cause', 'unexpected', 'situations', '.', 'Command', ':', 'Protect', 'used', 'return', 'Ball', 'back', 'quickly', '.', 'Combine', 'Command', ':', 'Attack', 'quick', 'harassment', '.', 'Command', ':', 'Dissonance', 'powerful', 'escape', 'tool', 'Orianna', 'Ball', '.', 'The', 'combination', 'speed', 'leaving', 'slowing', 'obstacle', 'quite', 'powerful', '.', 'Command', ':', 'Shockwave', 'used', 'drag', 'enemies', 'towards', 'away', 'position', 'Ball', 'properly.Orianna', 'commands', 'Ball', 'fire', 'toward', 'target', 'location', ',', 'dealing', 'magic', 'damage', 'targets', 'along', 'way', '(', 'deals', 'less', 'damage', 'subsequent', 'targets', ')', '.', 'Her', 'Ball', 'remains', 'target', 'location', 'after.Orianna', 'commands', 'Ball', 'release', 'pulse', 'energy', ',', 'dealing', 'magic', 'damage', 'around', '.', 'This', 'leaves', 'field', 'behind', 'speeds', 'allies', 'slows', 'enemies.Orianna', 'commands', 'Ball', 'attach', 'allied', 'champion', ',', 'Shielding', 'dealing', 'magic', 'damage', 'enemies', 'passes', 'way', '.', 'Additionally', ',', 'Ball', 'grants', 'additional', 'Armor', 'Magic', 'Resist', 'champion', 'attached', 'to.Orianna', 'commands', 'Ball', 'unleash', 'shockwave', ',', 'dealing', 'magic', 'damage', 'launching', 'nearby', 'enemies', 'towards', 'Ball', 'short', 'delay', '.']\n",
            "['Try', 'to', 'stay', 'away', 'from', 'walls', '.', 'Ornn', 'is', 'much', 'less', 'strong', 'if', 'he', 'can', 'not', 'stun', 'you', '.', 'Attack', 'Ornn', 'to', 'keep', 'him', 'from', 'creating', 'items', 'in', 'lane', '.', 'Learning', 'build', 'paths', 'of', 'items', 'can', 'help', 'quickly', 'select', 'upgrades', 'in', 'lane', '.', 'Volcanic', 'Rupture', 'can', 'be', 'used', 'to', 'set', 'up', 'zoning', 'areas', 'to', 'threaten', 'enemies', '.', 'The', 'order', 'of', 'your', 'abilties', 'matters', '!', 'Try', 'to', 'optimize', 'Brittle', 'usage.Ornn', 'slams', 'the', 'ground', ',', 'sending', 'out', 'a', 'fissure', 'dealing', 'damage', 'and', 'slowing', 'enemies', 'hit', '.', 'After', 'a', 'small', 'delay', ',', 'a', 'magma', 'pillar', 'forms', 'at', 'the', 'end', 'location.Ornn', 'advances', ',', 'breathing', 'fire', '.', 'Enemies', 'hit', 'by', 'the', 'final', 'gout', 'of', 'flame', 'become', 'Brittle.Ornn', 'charges', ',', 'dealing', 'damage', 'to', 'enemies', 'he', 'passes', 'through', '.', 'If', 'Ornn', 'collides', 'with', 'terrain', 'while', 'charging', ',', 'the', 'impact', 'creates', 'a', 'shockwave', 'around', 'him', 'which', 'deals', 'damage', 'and', 'knocks', 'up', 'enemies.Ornn', 'summons', 'a', 'massive', 'elemental', 'at', 'a', 'location', 'which', 'travels', 'toward', 'him', 'with', 'increasing', 'speed', '.', 'Enemies', 'run', 'over', 'by', 'the', 'elemental', 'take', 'damage', ',', 'are', 'slowed', 'and', 'are', 'made', 'Brittle', '.', 'Ornn', 'can', 'recast', 'the', 'ability', 'to', 'charge', 'into', 'the', 'elemental', ',', 'redirecting', 'it', 'in', 'the', 'direction', 'he', 'hits', 'it', ',', 'causing', 'the', 'elemental', 'to', 'affect', 'any', 'enemies', 'it', 'runs', 'over', 'to', 'be', 'knocked', 'up', ',', 'dealing', 'the', 'same', 'damage', 'and', 're-applying', 'Brittle', '.'] \n",
            "\n",
            "['Try', 'stay', 'away', 'walls', '.', 'Ornn', 'much', 'less', 'strong', 'stun', '.', 'Attack', 'Ornn', 'keep', 'creating', 'items', 'lane', '.', 'Learning', 'build', 'paths', 'items', 'help', 'quickly', 'select', 'upgrades', 'lane', '.', 'Volcanic', 'Rupture', 'used', 'set', 'zoning', 'areas', 'threaten', 'enemies', '.', 'The', 'order', 'abilties', 'matters', '!', 'Try', 'optimize', 'Brittle', 'usage.Ornn', 'slams', 'ground', ',', 'sending', 'fissure', 'dealing', 'damage', 'slowing', 'enemies', 'hit', '.', 'After', 'small', 'delay', ',', 'magma', 'pillar', 'forms', 'end', 'location.Ornn', 'advances', ',', 'breathing', 'fire', '.', 'Enemies', 'hit', 'final', 'gout', 'flame', 'become', 'Brittle.Ornn', 'charges', ',', 'dealing', 'damage', 'enemies', 'passes', '.', 'If', 'Ornn', 'collides', 'terrain', 'charging', ',', 'impact', 'creates', 'shockwave', 'around', 'deals', 'damage', 'knocks', 'enemies.Ornn', 'summons', 'massive', 'elemental', 'location', 'travels', 'toward', 'increasing', 'speed', '.', 'Enemies', 'run', 'elemental', 'take', 'damage', ',', 'slowed', 'made', 'Brittle', '.', 'Ornn', 'recast', 'ability', 'charge', 'elemental', ',', 'redirecting', 'direction', 'hits', ',', 'causing', 'elemental', 'affect', 'enemies', 'runs', 'knocked', ',', 'dealing', 'damage', 're-applying', 'Brittle', '.']\n",
            "['Pantheon', \"'s\", 'Aegis', 'Assault', 'makes', 'him', 'invulnerable', 'from', 'the', 'front', '.', 'Get', 'behind', 'him', 'or', 'wait', 'it', 'out', '.', 'Be', 'careful', 'near', 'Pantheon', 'if', 'your', 'health', 'is', 'low', '-', 'a', 'thrown', 'Comet', 'Spear', 'executes', 'low', 'health', 'enemies', '.', 'Grand', 'Starfall', 'gives', 'several', 'seconds', 'of', 'warning', 'before', 'Pantheon', 'arrives', '.', 'Use', 'this', 'time', 'to', 'get', 'out', 'of', 'the', 'way', 'or', 'to', 'form', 'a', 'plan', 'to', 'deal', 'with', 'him', '.', 'Mortal', 'Will', 'activates', 'after', '5', 'spells', 'or', 'basic', 'attacks', '-', 'plan', 'your', 'way', 'through', 'fights', 'to', 'allow', 'you', 'to', 'activate', 'it', 'more', 'than', 'once', '.', 'Whittle', 'the', 'enemy', 'down', 'with', 'Comet', 'Spears', 'before', 'you', 'jump', 'in', '.', 'If', 'an', 'enemy', 'is', 'going', 'to', 'get', 'out', 'of', 'range', 'of', 'your', 'Aegis', 'Assault', ',', 'you', 'can', 'recast', 'the', 'spell', 'to', 'immediately', 'fire', 'the', 'shield', 'slam.Pantheon', 'either', 'thrusts', 'his', 'spear', 'or', 'throws', 'his', 'spear', 'in', 'the', 'chosen', 'direction.Pantheon', 'dashes', 'to', 'a', 'target', ',', 'damaging', 'and', 'stunning', 'them.Pantheon', 'sets', 'his', 'shield', ',', 'becoming', 'invulnerable', 'to', 'damage', 'from', 'the', 'front', 'and', 'striking', 'repeatedly', 'with', 'his', 'spear.Pantheon', 'composes', 'himself', 'and', 'then', 'leaps', 'into', 'the', 'air', ',', 'landing', 'at', 'a', 'chosen', 'location', 'as', 'a', 'comet', '.'] \n",
            "\n",
            "['Pantheon', \"'s\", 'Aegis', 'Assault', 'makes', 'invulnerable', 'front', '.', 'Get', 'behind', 'wait', '.', 'Be', 'careful', 'near', 'Pantheon', 'health', 'low', '-', 'thrown', 'Comet', 'Spear', 'executes', 'low', 'health', 'enemies', '.', 'Grand', 'Starfall', 'gives', 'several', 'seconds', 'warning', 'Pantheon', 'arrives', '.', 'Use', 'time', 'get', 'way', 'form', 'plan', 'deal', '.', 'Mortal', 'Will', 'activates', '5', 'spells', 'basic', 'attacks', '-', 'plan', 'way', 'fights', 'allow', 'activate', '.', 'Whittle', 'enemy', 'Comet', 'Spears', 'jump', '.', 'If', 'enemy', 'going', 'get', 'range', 'Aegis', 'Assault', ',', 'recast', 'spell', 'immediately', 'fire', 'shield', 'slam.Pantheon', 'either', 'thrusts', 'spear', 'throws', 'spear', 'chosen', 'direction.Pantheon', 'dashes', 'target', ',', 'damaging', 'stunning', 'them.Pantheon', 'sets', 'shield', ',', 'becoming', 'invulnerable', 'damage', 'front', 'striking', 'repeatedly', 'spear.Pantheon', 'composes', 'leaps', 'air', ',', 'landing', 'chosen', 'location', 'comet', '.']\n",
            "['Poppy', 'can', 'stop', 'nearby', 'enemies', 'from', 'dashing', 'with', 'Steadfast', 'Presence', '.', 'When', 'Poppy', 'starts', 'to', 'spin', 'her', 'hammer', ',', 'she', 'is', 'charging', 'Keeper', \"'s\", 'Verdict', '.', 'You', 'can', 'step', 'on', 'Poppy', \"'s\", 'shield', 'to', 'deny', 'it', 'from', 'her', '.', 'Iron', 'Ambassador', 'tends', 'to', 'land', 'near', 'walls', ',', 'try', 'to', 'take', 'advantage', 'of', 'this', 'with', 'Heroic', 'Charge', '.', 'Keeper', \"'s\", 'Verdict', 'can', 'be', 'released', 'immediately', 'to', 'send', 'the', 'enemy', 'straight', 'up', ',', 'take', 'advantage', 'of', 'this', 'in', 'duels.Poppy', 'swings', 'her', 'hammer', ',', 'dealing', 'damage', 'and', 'creating', 'a', 'zone', 'that', 'will', 'slow', 'enemies', 'and', 'explode', 'after', 'a', 'delay.Poppy', 'passively', 'gains', 'Armor', 'and', 'Magic', 'Resist', '.', 'This', 'bonus', 'increases', 'when', 'she', 'is', 'low', 'on', 'Health', '.', 'Poppy', 'can', 'activate', 'Steadfast', 'Presence', 'to', 'gain', 'movement', 'speed', 'and', 'stop', 'enemy', 'dashes', 'around', 'her', '.', 'If', 'a', 'dash', 'is', 'stopped', ',', 'the', 'enemy', 'is', 'slowed', 'and', 'grounded.Poppy', 'dashes', 'to', 'the', 'target', 'and', 'pushes', 'it', 'back', '.', 'If', 'the', 'target', 'is', 'pushed', 'into', 'a', 'wall', ',', 'it', 'is', 'stunned.Poppy', 'channels', 'a', 'hammer', 'strike', 'that', 'knocks', 'enemies', 'very', 'far', 'away', '.'] \n",
            "\n",
            "['Poppy', 'stop', 'nearby', 'enemies', 'dashing', 'Steadfast', 'Presence', '.', 'When', 'Poppy', 'starts', 'spin', 'hammer', ',', 'charging', 'Keeper', \"'s\", 'Verdict', '.', 'You', 'step', 'Poppy', \"'s\", 'shield', 'deny', '.', 'Iron', 'Ambassador', 'tends', 'land', 'near', 'walls', ',', 'try', 'take', 'advantage', 'Heroic', 'Charge', '.', 'Keeper', \"'s\", 'Verdict', 'released', 'immediately', 'send', 'enemy', 'straight', ',', 'take', 'advantage', 'duels.Poppy', 'swings', 'hammer', ',', 'dealing', 'damage', 'creating', 'zone', 'slow', 'enemies', 'explode', 'delay.Poppy', 'passively', 'gains', 'Armor', 'Magic', 'Resist', '.', 'This', 'bonus', 'increases', 'low', 'Health', '.', 'Poppy', 'activate', 'Steadfast', 'Presence', 'gain', 'movement', 'speed', 'stop', 'enemy', 'dashes', 'around', '.', 'If', 'dash', 'stopped', ',', 'enemy', 'slowed', 'grounded.Poppy', 'dashes', 'target', 'pushes', 'back', '.', 'If', 'target', 'pushed', 'wall', ',', 'stunned.Poppy', 'channels', 'hammer', 'strike', 'knocks', 'enemies', 'far', 'away', '.']\n",
            "['Pyke', 'regenerates', 'a', 'significant', 'amount', 'of', 'damage', 'he', 'has', 'taken', 'from', 'enemy', 'champions', ',', 'but', 'only', 'when', 'you', 'ca', \"n't\", 'see', 'him', '!', 'When', 'Pyke', 'is', 'hidden', 'nearby', 'in', 'his', 'Ghostwater', 'Dive', ',', 'sharks', 'will', 'circle', 'underneath', 'your', 'feet', '.', 'Try', 'not', 'to', 'stand', 'near', 'low', 'health', 'allies', '.', 'If', 'Pyke', 'executes', 'them', 'using', 'Death', 'From', 'Below', ',', 'you', 'might', 'be', 'next', 'on', 'the', 'list', '.', 'Pyke', 'is', 'very', 'fragile', 'so', 'do', \"n't\", 'be', 'afraid', 'to', 'temporarily', 'run', 'from', 'a', 'fight', '.', 'You', 'can', 'regenerate', 'a', 'significant', 'amount', 'of', 'health', 'from', 'Gift', 'of', 'the', 'Drowned', 'Ones', 'when', 'enemies', 'ca', \"n't\", 'see', 'you', '.', 'Hitting', 'an', 'enemy', 'with', 'the', 'Hold', 'version', 'of', 'Bone', 'Skewer', 'will', 'always', 'pull', 'them', 'the', 'same', 'distance', '.', 'Use', 'it', 'in', 'melee', 'range', 'to', 'throw', 'targets', 'behind', 'you', '.', 'The', 'Tap', 'version', 'of', 'Bone', 'Skewer', 'is', 'much', 'faster', 'and', 'deals', 'additional', 'damage', '.', 'A', 'lot', 'of', 'your', 'agressive', 'spells', 'are', 'also', 'your', 'escapes', '.', 'Make', 'sure', 'you', 'always', 'have', 'a', 'plan', 'to', 'get', 'out', 'of', 'the', 'fight.Pyke', 'either', 'stabs', 'an', 'enemy', 'in', 'front', 'of', 'him', 'or', 'pulls', 'an', 'enemy', 'towards', 'him.Pyke', 'enters', 'Camouflage', 'and', 'gains', 'significant', 'movement', 'speed', 'that', 'decays', 'over', 'time.Pyke', 'dashes', 'and', 'leaves', 'behind', 'a', 'phantom', 'that', 'will', 'return', 'to', 'him', ',', 'stunning', 'enemy', 'champions', 'along', 'its', 'path.Pyke', 'blinks', 'to', 'and', 'executes', 'low', 'health', 'enemies', ',', 'allowing', 'him', 'to', 'cast', 'this', 'spell', 'again', 'and', 'granting', 'additional', 'gold', 'to', 'an', 'ally', 'who', 'assists', '.'] \n",
            "\n",
            "['Pyke', 'regenerates', 'significant', 'amount', 'damage', 'taken', 'enemy', 'champions', ',', 'ca', \"n't\", 'see', '!', 'When', 'Pyke', 'hidden', 'nearby', 'Ghostwater', 'Dive', ',', 'sharks', 'circle', 'underneath', 'feet', '.', 'Try', 'stand', 'near', 'low', 'health', 'allies', '.', 'If', 'Pyke', 'executes', 'using', 'Death', 'From', 'Below', ',', 'might', 'next', 'list', '.', 'Pyke', 'fragile', \"n't\", 'afraid', 'temporarily', 'run', 'fight', '.', 'You', 'regenerate', 'significant', 'amount', 'health', 'Gift', 'Drowned', 'Ones', 'enemies', 'ca', \"n't\", 'see', '.', 'Hitting', 'enemy', 'Hold', 'version', 'Bone', 'Skewer', 'always', 'pull', 'distance', '.', 'Use', 'melee', 'range', 'throw', 'targets', 'behind', '.', 'The', 'Tap', 'version', 'Bone', 'Skewer', 'much', 'faster', 'deals', 'additional', 'damage', '.', 'A', 'lot', 'agressive', 'spells', 'also', 'escapes', '.', 'Make', 'sure', 'always', 'plan', 'get', 'fight.Pyke', 'either', 'stabs', 'enemy', 'front', 'pulls', 'enemy', 'towards', 'him.Pyke', 'enters', 'Camouflage', 'gains', 'significant', 'movement', 'speed', 'decays', 'time.Pyke', 'dashes', 'leaves', 'behind', 'phantom', 'return', ',', 'stunning', 'enemy', 'champions', 'along', 'path.Pyke', 'blinks', 'executes', 'low', 'health', 'enemies', ',', 'allowing', 'cast', 'spell', 'granting', 'additional', 'gold', 'ally', 'assists', '.']\n",
            "['Qiyana', 'swings', 'her', 'weapon', ',', 'dealing', 'damage', 'with', 'a', 'bonus', 'effect', 'based', 'on', 'her', 'element.Qiyana', 'dashes', 'to', 'a', 'location', 'and', 'enchants', 'her', 'weapon', 'with', 'an', 'element', '.', 'Her', 'attacks', 'and', 'abilities', 'deal', 'bonus', 'damage', 'while', 'her', 'weapon', 'is', 'enchanted', '.', 'Qiyana', 'dashes', 'to', 'an', 'enemy', ',', 'damaging', 'them.Qiyana', 'sends', 'out', 'a', 'shockwave', 'that', 'detonates', 'whatever', 'elements', 'she', 'hits', 'with', 'it', ',', 'stunning', 'and', 'damaging', 'nearby', 'enemies', '.'] \n",
            "\n",
            "['Qiyana', 'swings', 'weapon', ',', 'dealing', 'damage', 'bonus', 'effect', 'based', 'element.Qiyana', 'dashes', 'location', 'enchants', 'weapon', 'element', '.', 'Her', 'attacks', 'abilities', 'deal', 'bonus', 'damage', 'weapon', 'enchanted', '.', 'Qiyana', 'dashes', 'enemy', ',', 'damaging', 'them.Qiyana', 'sends', 'shockwave', 'detonates', 'whatever', 'elements', 'hits', ',', 'stunning', 'damaging', 'nearby', 'enemies', '.']\n",
            "['After', 'being', 'marked', ',', 'move', 'away', 'from', 'Quinn', 'so', 'she', 'ca', \"n't\", 'take', 'advantage', 'of', 'it', '.', 'Keep', 'tabs', 'on', 'Quinn', \"'s\", 'position', '.', 'Behind', 'Enemy', 'Lines', 'can', 'enable', 'Valor', 'to', 'cross', 'the', 'map', 'very', 'quickly', 'and', 'attack', 'you', 'by', 'surprise', '.', 'When', 'Quinn', 'is', 'using', 'Behind', 'Enemy', 'Lines', ',', 'damaging', 'her', 'removes', 'her', 'movement', 'speed', 'bonus', 'temporarily', '.', 'Attacking', 'a', 'Vulnerable', 'target', 'marked', 'by', 'Valor', 'will', 'put', 'Harrier', 'on', 'cooldown', '.', 'Quickly', 'consuming', 'Harrier', 'marks', 'will', 'allow', 'you', 'to', 'generate', 'them', 'faster', '.', 'Vault', 'is', 'powerful', 'but', 'must', 'be', 'used', 'with', 'caution', ',', 'as', 'enemies', 'can', 'attack', 'Quinn', 'when', 'she', 'strikes', 'them', '.', 'Vault', 'can', 'sometimes', 'be', 'used', 'to', 'cross', 'terrain', 'if', 'your', 'back', 'is', 'to', 'a', 'wall', '.', 'Use', 'Behind', 'Enemy', 'Lines', 'for', 'traveling', 'very', 'long', 'distances', 'quickly', ',', 'for', 'farming', 'minions', 'around', 'the', 'map', ',', 'or', 'for', 'chasing', 'wounded', 'targets.Quinn', 'calls', 'Valor', 'to', 'mark', 'an', 'enemy', 'and', 'hinder', 'its', 'vision', 'before', 'damaging', 'all', 'enemies', 'in', 'the', 'immediate', 'area.Passively', 'grants', 'Quinn', 'Attack', 'Speed', 'and', 'Movement', 'Speed', 'after', 'she', 'attacks', 'a', 'Vulnerable', 'target', '.', 'Activate', 'to', 'have', 'Valor', 'reveal', 'a', 'large', 'area', 'nearby.Quinn', 'dashes', 'to', 'an', 'enemy', ',', 'dealing', 'physical', 'damage', 'and', 'slowing', 'the', 'target', \"'s\", 'Movement', 'Speed', '.', 'Upon', 'reaching', 'the', 'target', ',', 'she', 'leaps', 'off', 'the', 'target', ',', 'briefly', 'interrupting', 'it', ',', 'and', 'lands', 'near', 'her', 'maximum', 'Attack', 'Range', 'away', 'from', 'the', 'target.Quinn', 'and', 'Valor', 'team', 'up', 'to', 'fly', 'around', 'at', 'great', 'speed', '.', 'Ending', 'the', 'ability', 'casts', 'Skystrike', ',', 'which', 'deals', 'damage', 'to', 'nearby', 'enemies', 'and', 'marks', 'champions', 'as', 'Vulnerable', '.'] \n",
            "\n",
            "['After', 'marked', ',', 'move', 'away', 'Quinn', 'ca', \"n't\", 'take', 'advantage', '.', 'Keep', 'tabs', 'Quinn', \"'s\", 'position', '.', 'Behind', 'Enemy', 'Lines', 'enable', 'Valor', 'cross', 'map', 'quickly', 'attack', 'surprise', '.', 'When', 'Quinn', 'using', 'Behind', 'Enemy', 'Lines', ',', 'damaging', 'removes', 'movement', 'speed', 'bonus', 'temporarily', '.', 'Attacking', 'Vulnerable', 'target', 'marked', 'Valor', 'put', 'Harrier', 'cooldown', '.', 'Quickly', 'consuming', 'Harrier', 'marks', 'allow', 'generate', 'faster', '.', 'Vault', 'powerful', 'must', 'used', 'caution', ',', 'enemies', 'attack', 'Quinn', 'strikes', '.', 'Vault', 'sometimes', 'used', 'cross', 'terrain', 'back', 'wall', '.', 'Use', 'Behind', 'Enemy', 'Lines', 'traveling', 'long', 'distances', 'quickly', ',', 'farming', 'minions', 'around', 'map', ',', 'chasing', 'wounded', 'targets.Quinn', 'calls', 'Valor', 'mark', 'enemy', 'hinder', 'vision', 'damaging', 'enemies', 'immediate', 'area.Passively', 'grants', 'Quinn', 'Attack', 'Speed', 'Movement', 'Speed', 'attacks', 'Vulnerable', 'target', '.', 'Activate', 'Valor', 'reveal', 'large', 'area', 'nearby.Quinn', 'dashes', 'enemy', ',', 'dealing', 'physical', 'damage', 'slowing', 'target', \"'s\", 'Movement', 'Speed', '.', 'Upon', 'reaching', 'target', ',', 'leaps', 'target', ',', 'briefly', 'interrupting', ',', 'lands', 'near', 'maximum', 'Attack', 'Range', 'away', 'target.Quinn', 'Valor', 'team', 'fly', 'around', 'great', 'speed', '.', 'Ending', 'ability', 'casts', 'Skystrike', ',', 'deals', 'damage', 'nearby', 'enemies', 'marks', 'champions', 'Vulnerable', '.']\n",
            "['Rakan', \"'s\", 'movement', 'abilities', 'forecast', 'their', 'destination', '.', 'Try', 'to', 'use', 'this', 'to', 'your', 'advantage', '.', 'Champions', 'with', 'crowd', 'control', 'that', 'can', 'be', 'applied', 'quickly', 'excel', 'against', 'Rakan', '.', 'Catching', 'Rakan', 'with', 'no', 'allies', 'around', 'severely', 'inhibits', 'his', 'mobility', '.', 'Try', 'to', 'find', 'him', 'alone', '.', 'Rakan', 'requires', 'allies', 'near', 'him', 'to', 'make', 'the', 'most', 'out', 'of', 'his', 'tools', '.', 'Rakan', \"'s\", 'dash', 'speeds', 'increase', 'with', 'his', 'movement', 'speed', '.', 'Use', 'the', 'extra', 'speed', 'to', 'surprise', 'your', 'enemies', '!', 'Danger', 'is', 'as', 'fun', 'as', 'you', 'let', 'it', 'be.Flings', 'a', 'magical', 'feather', 'that', 'deals', 'magic', 'damage', '.', 'Striking', 'a', 'champion', 'or', 'epic', 'monster', 'enables', 'Rakan', 'to', 'heal', 'his', 'allies.Dashes', 'to', 'a', 'location', ',', 'knocking', 'up', 'nearby', 'enemies', 'on', 'arrival.Flies', 'to', 'an', 'allied', 'champion', 'granting', 'them', 'a', 'shield', '.', 'Can', 'be', 're-cast', 'for', 'free', 'for', 'a', 'short', 'duration.Gains', 'movement', 'speed', ',', 'charming', 'and', 'dealing', 'magic', 'damage', 'to', 'enemies', 'touched', '.'] \n",
            "\n",
            "['Rakan', \"'s\", 'movement', 'abilities', 'forecast', 'destination', '.', 'Try', 'use', 'advantage', '.', 'Champions', 'crowd', 'control', 'applied', 'quickly', 'excel', 'Rakan', '.', 'Catching', 'Rakan', 'allies', 'around', 'severely', 'inhibits', 'mobility', '.', 'Try', 'find', 'alone', '.', 'Rakan', 'requires', 'allies', 'near', 'make', 'tools', '.', 'Rakan', \"'s\", 'dash', 'speeds', 'increase', 'movement', 'speed', '.', 'Use', 'extra', 'speed', 'surprise', 'enemies', '!', 'Danger', 'fun', 'let', 'be.Flings', 'magical', 'feather', 'deals', 'magic', 'damage', '.', 'Striking', 'champion', 'epic', 'monster', 'enables', 'Rakan', 'heal', 'allies.Dashes', 'location', ',', 'knocking', 'nearby', 'enemies', 'arrival.Flies', 'allied', 'champion', 'granting', 'shield', '.', 'Can', 're-cast', 'free', 'short', 'duration.Gains', 'movement', 'speed', ',', 'charming', 'dealing', 'magic', 'damage', 'enemies', 'touched', '.']\n",
            "['Pay', 'particular', 'attention', 'to', 'when', 'his', 'Defensive', 'Ball', 'Curl', 'is', 'off', '.', 'Rammus', 'has', 'much', 'lower', 'stats', 'than', 'a', 'normal', 'tank', 'when', 'he', \"'s\", 'out', 'of', 'the', 'stance', '.', 'Rammus', 'often', 'stacks', 'high', 'Armor', ',', 'leaving', 'him', 'especially', 'vulnerable', 'to', 'caster', 'damage', 'while', 'not', 'in', 'Defensive', 'Ball', 'Curl', '.', 'Powerball', 'can', 'be', 'used', 'as', 'an', 'effective', 'escape', 'mechanism', '.', 'Using', 'taunt', 'on', 'a', 'champion', 'by', 'your', 'tower', 'can', 'cause', 'the', 'tower', 'to', 'attack', 'your', 'enemy', '.', 'Tremors', 'and', 'Defensive', 'Ball', 'Curl', 'can', 'be', 'used', 'late', 'in', 'the', 'game', 'to', 'obliterate', 'towers', '.', 'If', 'you', \"'re\", 'bogged', 'down', 'in', 'a', 'team', 'fight', ',', 'it', 'is', 'often', 'valuable', 'to', 'break', 'off', 'and', 'attack', 'the', 'buildings.Rammus', 'accelerates', 'in', 'a', 'ball', 'towards', 'his', 'enemies', ',', 'dealing', 'damage', 'and', 'slowing', 'targets', 'affected', 'by', 'the', 'impact.Rammus', 'goes', 'into', 'a', 'defensive', 'formation', ',', 'vastly', 'increasing', 'his', 'Armor', 'and', 'Magic', 'Resistance', ',', 'amplifying', 'Spiked', 'Shells', \"'\", 'damage', ',', 'and', 'returning', 'damage', 'to', 'enemies', 'that', 'basic', 'attack', 'him', ',', 'but', 'he', 'is', 'also', 'slowed', 'during', 'this', 'time.Rammus', 'taunts', 'an', 'enemy', 'champion', 'or', 'monster', 'into', 'a', 'reckless', 'assault', 'against', 'him', '.', 'Additionally', ',', 'he', 'gains', 'increased', 'Attack', 'Speed', 'for', 'a', 'short', 'time', ',', 'but', 'this', 'bonus', 'is', 'extended', 'by', 'having', 'any', 'of', 'his', 'other', 'spells', 'active.Rammus', 'hops', 'into', 'the', 'air', 'and', 'slams', 'down', 'at', 'a', 'target', 'area', ',', 'dealing', 'magic', 'damage', 'and', 'slowing', 'enemies', '.', 'If', 'cast', 'while', 'Rammus', 'is', 'in', 'Powerball', ',', 'Rammus', 'knocks', 'up', 'enemies', 'near', 'the', 'center', 'as', 'well', '.'] \n",
            "\n",
            "['Pay', 'particular', 'attention', 'Defensive', 'Ball', 'Curl', '.', 'Rammus', 'much', 'lower', 'stats', 'normal', 'tank', \"'s\", 'stance', '.', 'Rammus', 'often', 'stacks', 'high', 'Armor', ',', 'leaving', 'especially', 'vulnerable', 'caster', 'damage', 'Defensive', 'Ball', 'Curl', '.', 'Powerball', 'used', 'effective', 'escape', 'mechanism', '.', 'Using', 'taunt', 'champion', 'tower', 'cause', 'tower', 'attack', 'enemy', '.', 'Tremors', 'Defensive', 'Ball', 'Curl', 'used', 'late', 'game', 'obliterate', 'towers', '.', 'If', \"'re\", 'bogged', 'team', 'fight', ',', 'often', 'valuable', 'break', 'attack', 'buildings.Rammus', 'accelerates', 'ball', 'towards', 'enemies', ',', 'dealing', 'damage', 'slowing', 'targets', 'affected', 'impact.Rammus', 'goes', 'defensive', 'formation', ',', 'vastly', 'increasing', 'Armor', 'Magic', 'Resistance', ',', 'amplifying', 'Spiked', 'Shells', \"'\", 'damage', ',', 'returning', 'damage', 'enemies', 'basic', 'attack', ',', 'also', 'slowed', 'time.Rammus', 'taunts', 'enemy', 'champion', 'monster', 'reckless', 'assault', '.', 'Additionally', ',', 'gains', 'increased', 'Attack', 'Speed', 'short', 'time', ',', 'bonus', 'extended', 'spells', 'active.Rammus', 'hops', 'air', 'slams', 'target', 'area', ',', 'dealing', 'magic', 'damage', 'slowing', 'enemies', '.', 'If', 'cast', 'Rammus', 'Powerball', ',', 'Rammus', 'knocks', 'enemies', 'near', 'center', 'well', '.']\n",
            "['If', 'you', 'see', 'one', 'of', \"Rek'Sai\", \"'s\", 'tunnels', ',', 'briefly', 'stand', 'on', 'one', 'of', 'the', 'entrances', 'to', 'destroy', 'it', '.', \"Rek'Sai\", \"'s\", 'Furious', 'Bite', 'gains', 'damage', 'as', 'she', 'builds', 'Fury', '.', 'Be', 'very', 'careful', 'around', 'her', 'when', 'her', 'Fury', 'is', 'full', '.', 'When', \"Rek'Sai\", 'is', 'near', ',', 'she', 'can', 'see', 'the', 'position', 'of', 'you', 'and', 'your', 'allies', ',', 'but', 'only', 'if', 'you', \"'re\", 'moving', '.', 'Keeping', 'tunnels', 'spread', 'out', 'across', 'the', 'map', 'will', 'ensure', 'you', 'have', 'choices', 'when', 'you', 'want', 'to', 'cast', 'Void', 'Rush', '.', 'Cast', 'Burrow', 'before', 'travelling', 'around', 'the', 'map', 'to', 'take', 'advantage', 'of', 'the', 'increased', 'Movement', 'Speed', 'and', 'the', 'safety', 'provided', 'by', 'Tremor', 'Sense', '.', 'Tremor', 'Sense', 'can', 'warn', 'you', 'of', 'enemies', 'closing', 'in', ',', 'and', 'is', 'particularly', 'useful', 'when', 'entering', 'enemy', \"territory.Rek'Sai\", \"'s\", 'next', '3', 'basic', 'attacks', 'deal', 'bonus', 'Physical', 'Damage', 'to', 'nearby', 'enemies.While', 'Burrowed', ',', \"Rek'Sai\", 'launches', 'a', 'burst', 'of', 'void-charged', 'earth', 'that', 'deals', 'Physical', 'Damage', 'and', 'reveals', 'enemies', \"hit.Rek'Sai\", 'burrows', 'into', 'the', 'ground', ',', 'gaining', 'new', 'abilities', 'and', 'increased', 'Movement', 'Speed', '.', 'Her', 'vision', 'range', 'is', 'reduced', 'and', 'she', 'can', 'not', 'use', 'basic', 'attacks.While', 'Burrowed', ',', \"Rek'Sai\", 'may', 'cast', 'Un-burrow', 'to', 'knock', 'up', 'and', 'damage', 'nearby', \"enemies.Rek'Sai\", 'bites', 'her', 'target', ',', 'dealing', 'double', 'and', 'True', 'Damage', 'if', 'she', 'has', 'max', 'Fury.While', 'Burrowed', ',', \"Rek'Sai\", 'creates', 'a', 're-usable', ',', 'long', 'lasting', 'tunnel', '.', 'Enemies', 'can', 'destroy', 'it', 'by', 'standing', 'on', 'top', 'of', 'either', \"entrance.Rek'sai\", 'passively', 'marks', 'targets', 'by', 'damaging', 'them', '.', 'She', 'can', 'activate', 'this', 'ability', 'to', 'become', 'briefly', 'untargetable', 'and', 'lunge', 'at', 'a', 'marked', 'target', 'for', 'heavy', 'damage', 'based', 'on', 'their', 'missing', 'health', '.'] \n",
            "\n",
            "['If', 'see', 'one', \"Rek'Sai\", \"'s\", 'tunnels', ',', 'briefly', 'stand', 'one', 'entrances', 'destroy', '.', \"Rek'Sai\", \"'s\", 'Furious', 'Bite', 'gains', 'damage', 'builds', 'Fury', '.', 'Be', 'careful', 'around', 'Fury', 'full', '.', 'When', \"Rek'Sai\", 'near', ',', 'see', 'position', 'allies', ',', \"'re\", 'moving', '.', 'Keeping', 'tunnels', 'spread', 'across', 'map', 'ensure', 'choices', 'want', 'cast', 'Void', 'Rush', '.', 'Cast', 'Burrow', 'travelling', 'around', 'map', 'take', 'advantage', 'increased', 'Movement', 'Speed', 'safety', 'provided', 'Tremor', 'Sense', '.', 'Tremor', 'Sense', 'warn', 'enemies', 'closing', ',', 'particularly', 'useful', 'entering', 'enemy', \"territory.Rek'Sai\", \"'s\", 'next', '3', 'basic', 'attacks', 'deal', 'bonus', 'Physical', 'Damage', 'nearby', 'enemies.While', 'Burrowed', ',', \"Rek'Sai\", 'launches', 'burst', 'void-charged', 'earth', 'deals', 'Physical', 'Damage', 'reveals', 'enemies', \"hit.Rek'Sai\", 'burrows', 'ground', ',', 'gaining', 'new', 'abilities', 'increased', 'Movement', 'Speed', '.', 'Her', 'vision', 'range', 'reduced', 'use', 'basic', 'attacks.While', 'Burrowed', ',', \"Rek'Sai\", 'may', 'cast', 'Un-burrow', 'knock', 'damage', 'nearby', \"enemies.Rek'Sai\", 'bites', 'target', ',', 'dealing', 'double', 'True', 'Damage', 'max', 'Fury.While', 'Burrowed', ',', \"Rek'Sai\", 'creates', 're-usable', ',', 'long', 'lasting', 'tunnel', '.', 'Enemies', 'destroy', 'standing', 'top', 'either', \"entrance.Rek'sai\", 'passively', 'marks', 'targets', 'damaging', '.', 'She', 'activate', 'ability', 'become', 'briefly', 'untargetable', 'lunge', 'marked', 'target', 'heavy', 'damage', 'based', 'missing', 'health', '.']\n",
            "['Rell', 'thrusts', 'her', 'lance', 'to', 'deal', 'magic', 'damage', 'to', 'units', 'in', 'a', 'line', ',', 'breaking', 'their', 'Shields', '.', 'The', 'first', 'unit', 'hit', 'additionally', 'suffers', 'Break', 'the', 'Mold', \"'s\", 'defense', 'steal', '.', 'If', 'Rell', 'is', 'bound', 'to', 'an', 'ally', 'with', 'Attract', 'and', 'Repel', ',', 'they', 'both', 'recover', 'health', 'for', 'each', 'enemy', 'champion', 'hit', 'by', 'this', 'spell.Passive', ':', 'Rell', 'gains', 'additional', 'Move', 'Speed', 'while', 'mounted', 'and', 'additional', 'Armor', 'and', 'Magic', 'Resist', 'while', 'armored.Active', ':', 'Rell', 'changes', 'forms', ',', 'casting', 'a', 'different', 'spell', 'based', 'on', 'form', '.', 'Mounted', ':', 'Rell', 'crashes', 'down', 'in', 'her', 'armor', ',', 'knocking', 'enemies', 'up', 'and', 'gaining', 'a', 'large', 'shield', '.', 'Armored', ':', 'Rell', 'forms', 'her', 'mount', ',', 'gaining', 'a', 'burst', 'of', 'speed', 'and', 'flipping', 'the', 'next', 'enemy', 'she', 'attacks.Rell', 'binds', 'a', 'piece', 'of', 'her', 'Armor', 'to', 'another', 'allied', 'champion', 'to', 'grant', 'them', 'Armor', 'and', 'Magic', 'Resist', 'while', 'near.While', 'she', 'has', 'an', 'ally', 'bound', 'in', 'this', 'way', ',', 'Rell', 'can', 'cast', 'this', 'ability', 'without', 'targeting', 'an', 'allied', 'champion', 'to', 'snap', 'the', 'binding', 'and', 'Stun', 'enemies', 'caught', 'in', 'it.Rell', 'explodes', 'in', 'a', 'magnetic', 'fury', ',', 'violently', 'Pulling', 'nearby', 'enemies', 'towards', 'herself', '.', 'Then', 'Rell', 'constantly', 'Drags', 'nearby', 'enemies', 'towards', 'herself', 'for', 'a', 'short', 'while', ',', 'dealing', 'magic', 'damage', 'over', 'time', '.'] \n",
            "\n",
            "['Rell', 'thrusts', 'lance', 'deal', 'magic', 'damage', 'units', 'line', ',', 'breaking', 'Shields', '.', 'The', 'first', 'unit', 'hit', 'additionally', 'suffers', 'Break', 'Mold', \"'s\", 'defense', 'steal', '.', 'If', 'Rell', 'bound', 'ally', 'Attract', 'Repel', ',', 'recover', 'health', 'enemy', 'champion', 'hit', 'spell.Passive', ':', 'Rell', 'gains', 'additional', 'Move', 'Speed', 'mounted', 'additional', 'Armor', 'Magic', 'Resist', 'armored.Active', ':', 'Rell', 'changes', 'forms', ',', 'casting', 'different', 'spell', 'based', 'form', '.', 'Mounted', ':', 'Rell', 'crashes', 'armor', ',', 'knocking', 'enemies', 'gaining', 'large', 'shield', '.', 'Armored', ':', 'Rell', 'forms', 'mount', ',', 'gaining', 'burst', 'speed', 'flipping', 'next', 'enemy', 'attacks.Rell', 'binds', 'piece', 'Armor', 'another', 'allied', 'champion', 'grant', 'Armor', 'Magic', 'Resist', 'near.While', 'ally', 'bound', 'way', ',', 'Rell', 'cast', 'ability', 'without', 'targeting', 'allied', 'champion', 'snap', 'binding', 'Stun', 'enemies', 'caught', 'it.Rell', 'explodes', 'magnetic', 'fury', ',', 'violently', 'Pulling', 'nearby', 'enemies', 'towards', '.', 'Then', 'Rell', 'constantly', 'Drags', 'nearby', 'enemies', 'towards', 'short', ',', 'dealing', 'magic', 'damage', 'time', '.']\n",
            "['Pay', 'close', 'attention', 'to', 'Renekton', \"'s\", 'Fury', 'gauge', 'as', 'that', 'will', 'usually', 'signify', 'when', 'he', 'is', 'about', 'to', 'attack', '.', 'Keeping', 'Renekton', 'from', 'being', 'able', 'to', 'fight', 'and', 'gain', 'Fury', 'by', 'continually', 'harassing', 'him', 'will', 'severely', 'reduce', 'the', 'effectiveness', 'of', 'his', 'abilities', '.', 'Slice', 'and', 'Dice', 'excels', 'at', 'harassing', 'maneuvers', '.', 'Slice', 'in', ',', 'follow', 'up', 'with', 'another', 'skill', 'and', 'then', 'Dice', 'back', 'out', 'to', 'safety', '.', 'Cull', 'the', 'Meek', 'drains', 'an', 'enormous', 'amount', 'of', 'life', 'when', 'used', 'in', 'the', 'middle', 'of', 'the', 'fray', '.', 'You', 'can', 'use', 'this', 'to', 'bait', 'opponents', 'into', 'thinking', 'you', 'are', 'weaker', 'than', 'you', 'really', 'are', '.', 'Cooldown', 'reduction', 'is', 'especially', 'good', 'for', 'Renekton', ',', 'allowing', 'him', 'to', 'both', 'quickly', 'build', 'up', 'and', 'use', 'his', 'Fury.Renekton', 'swings', 'his', 'blade', ',', 'dealing', 'moderate', 'physical', 'damage', 'to', 'all', 'targets', 'around', 'him', ',', 'and', 'heals', 'for', 'a', 'small', 'portion', 'of', 'the', 'damage', 'dealt', '.', 'If', 'he', 'has', 'more', 'than', '50', 'Fury', ',', 'his', 'damage', 'and', 'heal', 'are', 'increased.Renekton', 'slashes', 'his', 'target', 'twice', ',', 'dealing', 'moderate', 'physical', 'damage', 'and', 'stuns', 'them', 'for', '0.75', 'seconds', '.', 'If', 'Renekton', 'has', 'more', 'than', '50', 'Fury', ',', 'he', 'slashes', 'his', 'target', 'three', 'times', ',', 'destroying', 'damage', 'shields', 'on', 'the', 'target', ',', 'dealing', 'high', 'physical', 'damage', ',', 'and', 'stunning', 'them', 'for', '1.5', 'seconds.Renekton', 'dashes', ',', 'dealing', 'damage', 'to', 'units', 'along', 'the', 'way', '.', 'Empowered', ',', 'Renekton', 'deals', 'bonus', 'damage', 'and', 'reduces', 'the', 'Armor', 'of', 'units', 'hit.Renekton', 'transforms', 'into', 'the', 'Tyrant', 'form', ',', 'gaining', 'bonus', 'Health', 'and', 'dealing', 'damage', 'to', 'enemies', 'around', 'him', '.', 'While', 'in', 'this', 'form', ',', 'Renekton', 'gains', 'Fury', 'periodically', '.'] \n",
            "\n",
            "['Pay', 'close', 'attention', 'Renekton', \"'s\", 'Fury', 'gauge', 'usually', 'signify', 'attack', '.', 'Keeping', 'Renekton', 'able', 'fight', 'gain', 'Fury', 'continually', 'harassing', 'severely', 'reduce', 'effectiveness', 'abilities', '.', 'Slice', 'Dice', 'excels', 'harassing', 'maneuvers', '.', 'Slice', ',', 'follow', 'another', 'skill', 'Dice', 'back', 'safety', '.', 'Cull', 'Meek', 'drains', 'enormous', 'amount', 'life', 'used', 'middle', 'fray', '.', 'You', 'use', 'bait', 'opponents', 'thinking', 'weaker', 'really', '.', 'Cooldown', 'reduction', 'especially', 'good', 'Renekton', ',', 'allowing', 'quickly', 'build', 'use', 'Fury.Renekton', 'swings', 'blade', ',', 'dealing', 'moderate', 'physical', 'damage', 'targets', 'around', ',', 'heals', 'small', 'portion', 'damage', 'dealt', '.', 'If', '50', 'Fury', ',', 'damage', 'heal', 'increased.Renekton', 'slashes', 'target', 'twice', ',', 'dealing', 'moderate', 'physical', 'damage', 'stuns', '0.75', 'seconds', '.', 'If', 'Renekton', '50', 'Fury', ',', 'slashes', 'target', 'three', 'times', ',', 'destroying', 'damage', 'shields', 'target', ',', 'dealing', 'high', 'physical', 'damage', ',', 'stunning', '1.5', 'seconds.Renekton', 'dashes', ',', 'dealing', 'damage', 'units', 'along', 'way', '.', 'Empowered', ',', 'Renekton', 'deals', 'bonus', 'damage', 'reduces', 'Armor', 'units', 'hit.Renekton', 'transforms', 'Tyrant', 'form', ',', 'gaining', 'bonus', 'Health', 'dealing', 'damage', 'enemies', 'around', '.', 'While', 'form', ',', 'Renekton', 'gains', 'Fury', 'periodically', '.']\n",
            "['Rengar', 'gains', 'an', 'empowered', 'ability', 'when', 'his', 'resource', 'bar', 'is', 'full', '.', 'Try', 'to', 'confront', 'him', 'when', 'it', \"'s\", 'low', '.', 'Rengar', \"'s\", 'passive', 'enables', 'him', 'to', 'leap', 'out', 'of', 'brush', ',', 'so', 'avoid', 'fighting', 'him', 'when', 'near', 'bushes', '.', 'Rengar', 'puts', 'an', 'indicator', 'over', 'the', 'nearest', 'enemy', 'champion', 'when', 'he', 'is', 'camouflaged', 'during', 'his', 'ultimate', '.', 'Use', 'Rengar', \"'s\", 'ultimate', 'to', 'find', 'and', 'assassinate', 'high', 'priority', 'targets', 'in', 'team', 'fights', 'and', 'skirmishes', '.', 'A', 'lot', 'of', 'Rengar', \"'s\", 'power', 'comes', 'from', 'empowered', 'abilities', 'he', 'uses', 'at', 'the', 'right', 'moment', '-', 'choose', 'wisely', '!', 'Make', 'sure', 'to', 'take', 'paths', 'through', 'brush', 'when', 'chasing', 'opponents', 'to', 'take', 'advantage', 'of', 'Rengar', \"'s\", 'passive.Rengar', \"'s\", 'next', 'attack', 'brutally', 'stabs', 'his', 'target', 'for', 'bonus', 'damage.Ferocity', 'effect', ':', 'deals', 'increased', 'damage', 'and', 'grants', 'Attack', 'Speed.Rengar', 'lets', 'out', 'a', 'battle', 'roar', ',', 'damaging', 'enemies', 'and', 'healing', 'for', 'some', 'of', 'the', 'recent', 'damage', 'he', 'has', 'taken.Ferocity', 'effect', ':', 'additionally', 'breaks', 'crowd', 'control', 'effects.Rengar', 'throws', 'a', 'bola', ',', 'slowing', 'the', 'first', 'target', 'hit', 'for', 'a', 'short', 'duration.Ferocity', 'effect', ':', 'roots', 'the', 'target.Rengar', \"'s\", 'predatory', 'instincts', 'take', 'over', ',', 'Camouflaging', 'him', 'and', 'revealing', 'the', 'nearest', 'enemy', 'champion', 'in', 'a', 'large', 'radius', 'around', 'him', '.', 'During', 'Thrill', 'of', 'the', 'Hunt', ',', 'Rengar', 'gains', 'Movement', 'Speed', 'and', 'he', 'can', 'leap', 'to', 'the', 'tracked', 'enemy', 'without', 'being', 'in', 'brush', ',', 'reducing', 'their', 'armor', '.'] \n",
            "\n",
            "['Rengar', 'gains', 'empowered', 'ability', 'resource', 'bar', 'full', '.', 'Try', 'confront', \"'s\", 'low', '.', 'Rengar', \"'s\", 'passive', 'enables', 'leap', 'brush', ',', 'avoid', 'fighting', 'near', 'bushes', '.', 'Rengar', 'puts', 'indicator', 'nearest', 'enemy', 'champion', 'camouflaged', 'ultimate', '.', 'Use', 'Rengar', \"'s\", 'ultimate', 'find', 'assassinate', 'high', 'priority', 'targets', 'team', 'fights', 'skirmishes', '.', 'A', 'lot', 'Rengar', \"'s\", 'power', 'comes', 'empowered', 'abilities', 'uses', 'right', 'moment', '-', 'choose', 'wisely', '!', 'Make', 'sure', 'take', 'paths', 'brush', 'chasing', 'opponents', 'take', 'advantage', 'Rengar', \"'s\", 'passive.Rengar', \"'s\", 'next', 'attack', 'brutally', 'stabs', 'target', 'bonus', 'damage.Ferocity', 'effect', ':', 'deals', 'increased', 'damage', 'grants', 'Attack', 'Speed.Rengar', 'lets', 'battle', 'roar', ',', 'damaging', 'enemies', 'healing', 'recent', 'damage', 'taken.Ferocity', 'effect', ':', 'additionally', 'breaks', 'crowd', 'control', 'effects.Rengar', 'throws', 'bola', ',', 'slowing', 'first', 'target', 'hit', 'short', 'duration.Ferocity', 'effect', ':', 'roots', 'target.Rengar', \"'s\", 'predatory', 'instincts', 'take', ',', 'Camouflaging', 'revealing', 'nearest', 'enemy', 'champion', 'large', 'radius', 'around', '.', 'During', 'Thrill', 'Hunt', ',', 'Rengar', 'gains', 'Movement', 'Speed', 'leap', 'tracked', 'enemy', 'without', 'brush', ',', 'reducing', 'armor', '.']\n",
            "['Riven', 'has', 'a', 'great', 'deal', 'of', 'mobility', 'but', 'she', 'can', 'not', 'move', 'very', 'far', 'with', 'any', 'one', 'skill', '.', 'Rooting', 'or', 'silencing', 'her', 'during', 'her', 'combo', 'will', 'greatly', 'reduce', 'her', 'effectiveness', '.', 'All', 'of', 'Riven', \"'s\", 'damage', 'is', 'physical', ',', 'prioritize', 'high', 'Armor', 'if', 'an', 'opposing', 'Riven', 'gets', 'out', 'of', 'control', '.', 'Riven', 'excels', 'at', 'dueling', 'multiple', 'melee', 'attackers', 'at', 'once', ',', 'as', 'she', 'will', 'be', 'on', 'an', 'almost', 'equal', 'footing', 'damage-wise', '.', 'If', 'pairing', 'up', 'against', 'Riven', ',', 'do', \"n't\", 'go', 'in', 'as', 'double', 'melee', 'until', 'she', 'has', 'expended', 'her', 'full', 'combo', '.', 'Riven', \"'s\", 'Broken', 'Wings', 'locks', 'onto', 'the', 'champion', 'your', 'cursor', 'is', 'over', 'at', 'the', 'time', 'of', 'cast', '.', 'If', 'you', 'want', 'to', 'move', 'past', 'your', 'opponent', ',', 'make', 'sure', 'that', 'your', 'cursor', 'is', 'past', 'your', 'opponent', 'as', 'well', '.', 'Riven', 'lacks', 'a', 'source', 'of', 'healing', 'or', 'strong', 'defense', 'and', 'must', 'compensate', 'with', 'burst', 'combos', '.', 'Lead', 'into', 'fights', 'with', 'Broken', 'Wings', 'and', 'Ki', 'Burst', ',', 'while', 'using', 'Valor', 'to', 'escape', 'and', 'absorb', 'counter-harass.Riven', 'lashes', 'out', 'in', 'a', 'series', 'of', 'strikes', '.', 'This', 'ability', 'can', 'be', 'reactivated', 'three', 'times', 'in', 'a', 'short', 'time', 'frame', 'with', 'the', 'third', 'hit', 'knocking', 'back', 'nearby', 'enemies.Riven', 'emits', 'a', 'Ki', 'Burst', ',', 'damaging', 'and', 'stunning', 'nearby', 'enemies.Riven', 'steps', 'forward', 'a', 'short', 'distance', 'and', 'blocks', 'incoming', 'damage.Riven', 'empowers', 'her', 'keepsake', 'weapon', 'with', 'energy', ',', 'and', 'gains', 'Attack', 'Damage', 'and', 'Range', '.', 'During', 'this', 'time', ',', 'she', 'also', 'gains', 'the', 'ability', 'to', 'use', 'Wind', 'Slash', ',', 'a', 'powerful', 'ranged', 'attack', ',', 'once', '.'] \n",
            "\n",
            "['Riven', 'great', 'deal', 'mobility', 'move', 'far', 'one', 'skill', '.', 'Rooting', 'silencing', 'combo', 'greatly', 'reduce', 'effectiveness', '.', 'All', 'Riven', \"'s\", 'damage', 'physical', ',', 'prioritize', 'high', 'Armor', 'opposing', 'Riven', 'gets', 'control', '.', 'Riven', 'excels', 'dueling', 'multiple', 'melee', 'attackers', ',', 'almost', 'equal', 'footing', 'damage-wise', '.', 'If', 'pairing', 'Riven', ',', \"n't\", 'go', 'double', 'melee', 'expended', 'full', 'combo', '.', 'Riven', \"'s\", 'Broken', 'Wings', 'locks', 'onto', 'champion', 'cursor', 'time', 'cast', '.', 'If', 'want', 'move', 'past', 'opponent', ',', 'make', 'sure', 'cursor', 'past', 'opponent', 'well', '.', 'Riven', 'lacks', 'source', 'healing', 'strong', 'defense', 'must', 'compensate', 'burst', 'combos', '.', 'Lead', 'fights', 'Broken', 'Wings', 'Ki', 'Burst', ',', 'using', 'Valor', 'escape', 'absorb', 'counter-harass.Riven', 'lashes', 'series', 'strikes', '.', 'This', 'ability', 'reactivated', 'three', 'times', 'short', 'time', 'frame', 'third', 'hit', 'knocking', 'back', 'nearby', 'enemies.Riven', 'emits', 'Ki', 'Burst', ',', 'damaging', 'stunning', 'nearby', 'enemies.Riven', 'steps', 'forward', 'short', 'distance', 'blocks', 'incoming', 'damage.Riven', 'empowers', 'keepsake', 'weapon', 'energy', ',', 'gains', 'Attack', 'Damage', 'Range', '.', 'During', 'time', ',', 'also', 'gains', 'ability', 'use', 'Wind', 'Slash', ',', 'powerful', 'ranged', 'attack', ',', '.']\n",
            "['Watch', 'Rumble', \"'s\", 'Heat', 'bar', 'carefully', '.', 'If', 'you', 'see', 'him', 'Overheat', ',', 'go', 'in', 'for', 'the', 'kill', 'while', 'his', 'skills', 'are', 'disabled', '.', 'Rumble', \"'s\", 'ultimate', 'can', 'deal', 'a', 'lot', 'of', 'damage', 'if', 'you', 'stay', 'inside', 'the', 'area', 'of', 'effect', '.', 'When', 'you', 'see', 'the', 'missiles', 'falling', ',', 'move', 'out', 'of', 'the', 'way', 'as', 'quickly', 'as', 'possible', '.', 'Rumble', 'deals', 'almost', 'entirely', 'magic', 'damage', '.', 'Build', 'some', 'Magic', 'Resistance', 'to', 'reduce', 'his', 'damage', '.', 'Try', 'and', 'pace', 'yourself', 'to', 'stay', 'in', 'the', 'Danger', 'Zone', 'to', 'maximize', 'your', 'effectiveness', '.', 'It', 'is', 'easy', 'to', 'overheat', 'if', 'you', 'rapidly', 'use', 'your', 'abilities', '.', 'Try', 'and', 'keep', 'targets', 'in', 'the', 'range', 'of', 'your', 'Flamespitter', '.', 'It', 'can', 'deal', 'a', 'lot', 'of', 'damage', 'overtime', '.', 'If', 'you', 'are', 'winning', 'a', 'fight', 'you', 'can', 'use', 'your', 'ultimate', 'to', 'wall', 'off', 'an', 'escape', 'path.Rumble', 'torches', 'opponents', 'in', 'front', 'of', 'him', ',', 'dealing', 'magic', 'damage', 'in', 'a', 'cone', 'for', '3', 'seconds', '.', 'While', 'in', 'Danger', 'Zone', 'this', 'damage', 'is', 'increased.Rumble', 'pulls', 'up', 'a', 'shield', ',', 'protecting', 'him', 'from', 'damage', 'and', 'granting', 'him', 'a', 'quick', 'burst', 'of', 'speed', '.', 'While', 'in', 'Danger', 'Zone', ',', 'the', 'shield', 'strength', 'and', 'speed', 'bonus', 'is', 'increased.Rumble', 'launches', 'a', 'harpoon', ',', 'electrocuting', 'his', 'target', 'with', 'magic', 'damage', ',', 'slowing', 'their', 'Move', 'Speed', ',', 'and', 'reducing', 'their', 'Magic', 'Resist', '.', 'Rumble', 'can', 'carry', '2', 'harpoons', 'at', 'a', 'time', '.', 'While', 'in', 'Danger', 'Zone', 'the', 'damage', 'and', 'slow', 'percentage', 'is', 'increased.Rumble', 'fires', 'off', 'a', 'group', 'of', 'rockets', ',', 'creating', 'a', 'wall', 'of', 'flames', 'that', 'damages', 'and', 'slows', 'enemies', '.'] \n",
            "\n",
            "['Watch', 'Rumble', \"'s\", 'Heat', 'bar', 'carefully', '.', 'If', 'see', 'Overheat', ',', 'go', 'kill', 'skills', 'disabled', '.', 'Rumble', \"'s\", 'ultimate', 'deal', 'lot', 'damage', 'stay', 'inside', 'area', 'effect', '.', 'When', 'see', 'missiles', 'falling', ',', 'move', 'way', 'quickly', 'possible', '.', 'Rumble', 'deals', 'almost', 'entirely', 'magic', 'damage', '.', 'Build', 'Magic', 'Resistance', 'reduce', 'damage', '.', 'Try', 'pace', 'stay', 'Danger', 'Zone', 'maximize', 'effectiveness', '.', 'It', 'easy', 'overheat', 'rapidly', 'use', 'abilities', '.', 'Try', 'keep', 'targets', 'range', 'Flamespitter', '.', 'It', 'deal', 'lot', 'damage', 'overtime', '.', 'If', 'winning', 'fight', 'use', 'ultimate', 'wall', 'escape', 'path.Rumble', 'torches', 'opponents', 'front', ',', 'dealing', 'magic', 'damage', 'cone', '3', 'seconds', '.', 'While', 'Danger', 'Zone', 'damage', 'increased.Rumble', 'pulls', 'shield', ',', 'protecting', 'damage', 'granting', 'quick', 'burst', 'speed', '.', 'While', 'Danger', 'Zone', ',', 'shield', 'strength', 'speed', 'bonus', 'increased.Rumble', 'launches', 'harpoon', ',', 'electrocuting', 'target', 'magic', 'damage', ',', 'slowing', 'Move', 'Speed', ',', 'reducing', 'Magic', 'Resist', '.', 'Rumble', 'carry', '2', 'harpoons', 'time', '.', 'While', 'Danger', 'Zone', 'damage', 'slow', 'percentage', 'increased.Rumble', 'fires', 'group', 'rockets', ',', 'creating', 'wall', 'flames', 'damages', 'slows', 'enemies', '.']\n",
            "['Ryze', 'is', 'especially', 'dangerous', 'to', 'opponents', 'that', 'are', 'marked', 'with', 'Flux', '.', 'Use', 'Realm', 'Warp', \"'s\", 'windup', 'time', 'to', 'figure', 'out', 'how', 'to', 'deal', 'with', 'what', 'may', 'be', 'coming', 'out', 'of', 'the', 'portal', '.', 'Crowd', 'controlling', 'Ryze', 'during', 'Realm', 'Warp', \"'s\", 'windup', 'will', 'cancel', 'the', 'portal', '.', 'Use', 'Overload', \"'s\", 'passive', 'to', 'optimize', 'for', 'maximum', 'damage', 'or', 'maximum', 'speed', '.', 'Spell', 'Flux', \"'s\", 'short', 'cooldown', 'allows', 'it', 'to', 'be', 'used', 'to', 'spread', 'Flux', 'to', 'many', 'enemies', '.', 'Ryze', 'can', 'move', 'and', 'cast', 'other', 'spells', 'while', 'Realm', 'Warp', 'is', 'charging', 'without', 'cancelling', 'the', 'portal.Passively', ',', 'Ryze', \"'s\", 'other', 'basic', 'abilities', 'reset', 'the', 'cooldown', 'of', 'Overload', 'and', 'charge', 'a', 'rune', '.', 'When', 'Ryze', 'casts', 'Overload', 'with', '2', 'runes', 'charged', ',', 'he', 'gains', 'a', 'brief', 'burst', 'of', 'Movement', 'Speed.On', 'cast', ',', 'Ryze', 'throws', 'a', 'charge', 'of', 'pure', 'energy', 'in', 'a', 'line', ',', 'dealing', 'damage', 'to', 'the', 'first', 'enemy', 'struck', '.', 'If', 'the', 'target', 'has', 'Flux', 'on', 'it', ',', 'Overload', 'deals', 'extra', 'damage', 'and', 'bounces', 'to', 'nearby', 'enemies', 'with', 'Flux.Ryze', 'traps', 'a', 'target', 'in', 'a', 'cage', 'of', 'runes', ',', 'damaging', 'them', 'and', 'slowing', 'their', 'movement', '.', 'If', 'the', 'target', 'has', 'Flux', 'on', 'it', ',', 'they', 'are', 'instead', 'rooted.Ryze', 'releases', 'an', 'orb', 'of', 'pure', 'magical', 'power', 'that', 'damages', 'an', 'enemy', 'and', 'debuffs', 'all', 'nearby', 'enemies', '.', 'Ryze', \"'s\", 'spells', 'have', 'additional', 'effects', 'against', 'the', 'debuffed', 'enemy.Passively', ',', 'Overload', 'deals', 'even', 'more', 'damage', 'against', 'targets', 'with', 'Flux.On', 'cast', ',', 'Ryze', 'creates', 'a', 'portal', 'to', 'a', 'nearby', 'location', '.', 'After', 'a', 'few', 'seconds', ',', 'allies', 'standing', 'near', 'the', 'portal', 'are', 'teleported', 'to', 'the', 'target', 'location', '.'] \n",
            "\n",
            "['Ryze', 'especially', 'dangerous', 'opponents', 'marked', 'Flux', '.', 'Use', 'Realm', 'Warp', \"'s\", 'windup', 'time', 'figure', 'deal', 'may', 'coming', 'portal', '.', 'Crowd', 'controlling', 'Ryze', 'Realm', 'Warp', \"'s\", 'windup', 'cancel', 'portal', '.', 'Use', 'Overload', \"'s\", 'passive', 'optimize', 'maximum', 'damage', 'maximum', 'speed', '.', 'Spell', 'Flux', \"'s\", 'short', 'cooldown', 'allows', 'used', 'spread', 'Flux', 'many', 'enemies', '.', 'Ryze', 'move', 'cast', 'spells', 'Realm', 'Warp', 'charging', 'without', 'cancelling', 'portal.Passively', ',', 'Ryze', \"'s\", 'basic', 'abilities', 'reset', 'cooldown', 'Overload', 'charge', 'rune', '.', 'When', 'Ryze', 'casts', 'Overload', '2', 'runes', 'charged', ',', 'gains', 'brief', 'burst', 'Movement', 'Speed.On', 'cast', ',', 'Ryze', 'throws', 'charge', 'pure', 'energy', 'line', ',', 'dealing', 'damage', 'first', 'enemy', 'struck', '.', 'If', 'target', 'Flux', ',', 'Overload', 'deals', 'extra', 'damage', 'bounces', 'nearby', 'enemies', 'Flux.Ryze', 'traps', 'target', 'cage', 'runes', ',', 'damaging', 'slowing', 'movement', '.', 'If', 'target', 'Flux', ',', 'instead', 'rooted.Ryze', 'releases', 'orb', 'pure', 'magical', 'power', 'damages', 'enemy', 'debuffs', 'nearby', 'enemies', '.', 'Ryze', \"'s\", 'spells', 'additional', 'effects', 'debuffed', 'enemy.Passively', ',', 'Overload', 'deals', 'even', 'damage', 'targets', 'Flux.On', 'cast', ',', 'Ryze', 'creates', 'portal', 'nearby', 'location', '.', 'After', 'seconds', ',', 'allies', 'standing', 'near', 'portal', 'teleported', 'target', 'location', '.']\n",
            "['Samira', 'fires', 'a', 'shot', 'or', 'swings', 'her', 'sword', ',', 'dealing', 'damage', '.', 'If', 'cast', 'during', 'Wild', 'Rush', ',', 'strike', 'all', 'enemies', 'in', 'her', 'path', 'upon', 'completion.Samira', 'slashes', 'around', 'her', ',', 'damaging', 'enemies', 'and', 'destroying', 'enemy', 'missiles.Samira', 'dashes', 'through', 'an', 'enemy', '(', 'including', 'structures', ')', ',', 'slashing', 'enemies', 'she', 'passes', 'through', 'and', 'gaining', 'Attack', 'Speed', '.', 'Killing', 'an', 'enemy', 'champion', 'refreshes', 'this', 'ability', \"'s\", 'cooldown.Samira', 'unleashes', 'a', 'torrent', 'of', 'shots', 'from', 'her', 'weapons', ',', 'wildly', 'shooting', 'all', 'enemies', 'surrounding', 'her', '.'] \n",
            "\n",
            "['Samira', 'fires', 'shot', 'swings', 'sword', ',', 'dealing', 'damage', '.', 'If', 'cast', 'Wild', 'Rush', ',', 'strike', 'enemies', 'path', 'upon', 'completion.Samira', 'slashes', 'around', ',', 'damaging', 'enemies', 'destroying', 'enemy', 'missiles.Samira', 'dashes', 'enemy', '(', 'including', 'structures', ')', ',', 'slashing', 'enemies', 'passes', 'gaining', 'Attack', 'Speed', '.', 'Killing', 'enemy', 'champion', 'refreshes', 'ability', \"'s\", 'cooldown.Samira', 'unleashes', 'torrent', 'shots', 'weapons', ',', 'wildly', 'shooting', 'enemies', 'surrounding', '.']\n",
            "['Dodging', 'Arctic', 'Assault', 'and', 'Glacial', 'Prison', 'can', 'give', 'you', 'a', 'huge', 'advantage', '.', 'Focus', 'on', 'avoiding', 'the', 'second', 'swing', 'of', 'Winter', \"'s\", 'Wrath', 'which', 'carries', 'the', 'brunt', 'of', 'the', 'damage', '.', 'Melee', 'enemies', 'can', 'also', 'stack', 'Frost', 'for', 'Sejuani', ',', 'be', 'very', 'careful', 'around', 'them', '.', 'Use', 'Arctic', 'Assault', 'to', 'escape', 'bad', 'situations', ',', 'interupt', 'channeled', 'spells', 'or', 'chase', 'runners', '.', 'Melee', 'allies', 'can', 'stack', 'Frost', 'for', 'your', 'Permafrost', ',', 'keep', 'an', 'eye', 'on', 'who', 'they', 'are', 'attacking', '.', 'Save', 'Glacial', 'Prison', 'for', 'encounters', 'where', 'you', 'have', 'teammates', 'present', 'to', 'take', 'advantage', 'of', 'it.Sejuani', 'charges', 'forward', ',', 'knocking', 'enemies', 'into', 'the', 'air', '.', 'The', 'charge', 'stops', 'after', 'hitting', 'an', 'enemy', 'champion.Sejuani', 'swings', 'her', 'mace', 'twice', ',', 'dealing', 'damage', ',', 'slowing', 'enemies', 'and', 'applying', 'Frost', 'stacks.Sejuani', 'freezes', 'and', 'stuns', 'an', 'enemy', 'champion', 'that', 'has', 'maximum', 'Frost', 'stacks.Sejuani', 'throws', 'her', 'bola', 'that', 'freezes', 'and', 'stuns', 'the', 'first', 'champion', 'hit', 'and', 'creates', 'an', 'ice', 'storm', 'that', 'slows', 'other', 'enemies', '.'] \n",
            "\n",
            "['Dodging', 'Arctic', 'Assault', 'Glacial', 'Prison', 'give', 'huge', 'advantage', '.', 'Focus', 'avoiding', 'second', 'swing', 'Winter', \"'s\", 'Wrath', 'carries', 'brunt', 'damage', '.', 'Melee', 'enemies', 'also', 'stack', 'Frost', 'Sejuani', ',', 'careful', 'around', '.', 'Use', 'Arctic', 'Assault', 'escape', 'bad', 'situations', ',', 'interupt', 'channeled', 'spells', 'chase', 'runners', '.', 'Melee', 'allies', 'stack', 'Frost', 'Permafrost', ',', 'keep', 'eye', 'attacking', '.', 'Save', 'Glacial', 'Prison', 'encounters', 'teammates', 'present', 'take', 'advantage', 'it.Sejuani', 'charges', 'forward', ',', 'knocking', 'enemies', 'air', '.', 'The', 'charge', 'stops', 'hitting', 'enemy', 'champion.Sejuani', 'swings', 'mace', 'twice', ',', 'dealing', 'damage', ',', 'slowing', 'enemies', 'applying', 'Frost', 'stacks.Sejuani', 'freezes', 'stuns', 'enemy', 'champion', 'maximum', 'Frost', 'stacks.Sejuani', 'throws', 'bola', 'freezes', 'stuns', 'first', 'champion', 'hit', 'creates', 'ice', 'storm', 'slows', 'enemies', '.']\n",
            "['From', 'the', 'twin', 'barrels', 'of', 'her', 'Relic', 'Cannon', ',', 'Senna', 'fires', 'a', 'unified', 'beam', 'of', 'light', 'and', 'shadow', 'through', 'a', 'target', ',', 'healing', 'allies', 'and', 'damaging', 'enemies.Senna', 'sends', 'forth', 'a', 'wave', 'of', 'Black', 'Mist', '.', 'If', 'it', 'hits', 'an', 'enemy', 'it', 'latches', 'onto', 'them', 'hungrily', ',', 'rooting', 'them', 'and', 'everything', 'nearby', 'after', 'a', 'brief', 'delay.Senna', 'draws', 'the', 'Mist', 'she', 'has', 'stored', 'in', 'her', 'weapon', 'into', 'a', 'storm', 'around', 'her', ',', 'embracing', 'darkness', 'and', 'becoming', 'a', 'wraith', 'within', '.', 'Allies', 'who', 'enter', 'the', 'area', 'are', 'camouflaged', 'and', 'also', 'appear', 'as', 'wraiths', 'as', 'the', 'Mist', 'shrouds', 'them', '.', 'Wraiths', 'gain', 'increased', 'Move', 'Speed', ',', 'are', 'unselectable', ',', 'and', 'hide', 'their', 'identities.Senna', 'calls', 'upon', 'the', 'relic', 'stones', 'of', 'fallen', 'Sentinels', ',', 'splitting', 'her', 'relic', 'cannon', 'into', 'a', 'holy', 'array', 'of', 'shadow', 'and', 'light', '.', 'She', 'then', 'fires', 'a', 'global', 'beam', 'that', 'shields', 'allies', 'from', 'harm', ',', 'while', 'damaging', 'enemies', 'caught', 'in', 'the', 'center', '.'] \n",
            "\n",
            "['From', 'twin', 'barrels', 'Relic', 'Cannon', ',', 'Senna', 'fires', 'unified', 'beam', 'light', 'shadow', 'target', ',', 'healing', 'allies', 'damaging', 'enemies.Senna', 'sends', 'forth', 'wave', 'Black', 'Mist', '.', 'If', 'hits', 'enemy', 'latches', 'onto', 'hungrily', ',', 'rooting', 'everything', 'nearby', 'brief', 'delay.Senna', 'draws', 'Mist', 'stored', 'weapon', 'storm', 'around', ',', 'embracing', 'darkness', 'becoming', 'wraith', 'within', '.', 'Allies', 'enter', 'area', 'camouflaged', 'also', 'appear', 'wraiths', 'Mist', 'shrouds', '.', 'Wraiths', 'gain', 'increased', 'Move', 'Speed', ',', 'unselectable', ',', 'hide', 'identities.Senna', 'calls', 'upon', 'relic', 'stones', 'fallen', 'Sentinels', ',', 'splitting', 'relic', 'cannon', 'holy', 'array', 'shadow', 'light', '.', 'She', 'fires', 'global', 'beam', 'shields', 'allies', 'harm', ',', 'damaging', 'enemies', 'caught', 'center', '.']\n",
            "['Seraphine', 'deals', 'damage', 'in', 'an', 'area.Seraphine', 'Shields', 'and', 'Hastes', 'nearby', 'allies', '.', 'If', 'she', 'is', 'already', 'Shielded', 'she', 'will', 'Heal', 'nearby', 'allies', 'as', 'well.Seraphine', 'deals', 'damage', 'and', 'impairs', 'the', 'movement', 'of', 'enemies', 'in', 'a', 'line.Seraphine', 'deals', 'damage', 'and', 'charms', 'enemies', 'hit', ',', 'refreshing', 'the', 'range', 'with', 'every', 'allied', 'or', 'enemy', 'champion', 'hit', '.'] \n",
            "\n",
            "['Seraphine', 'deals', 'damage', 'area.Seraphine', 'Shields', 'Hastes', 'nearby', 'allies', '.', 'If', 'already', 'Shielded', 'Heal', 'nearby', 'allies', 'well.Seraphine', 'deals', 'damage', 'impairs', 'movement', 'enemies', 'line.Seraphine', 'deals', 'damage', 'charms', 'enemies', 'hit', ',', 'refreshing', 'range', 'every', 'allied', 'enemy', 'champion', 'hit', '.']\n",
            "['Sett', \"'s\", 'next', 'two', 'attacks', 'deal', 'additional', 'damage', 'based', 'off', 'of', 'the', 'target', \"'s\", 'max', 'health', '.', 'Sett', 'also', 'gains', 'movement', 'speed', 'while', 'moving', 'towards', 'enemy', 'champions.Sett', 'passively', 'stores', 'damage', 'he', 'takes', 'as', 'Grit', '.', 'On', 'cast', ',', 'Sett', 'expends', 'all', 'stored', 'Grit', 'to', 'gain', 'a', 'shield', 'and', 'punch', 'an', 'area', ',', 'dealing', 'true', 'damage', 'in', 'the', 'center', 'and', 'physical', 'damage', 'on', 'the', 'sides.Sett', 'pulls', 'in', 'all', 'enemies', 'on', 'opposite', 'sides', 'of', 'him', ',', 'dealing', 'damage', 'and', 'stunning', 'them', '.', 'If', 'enemies', 'were', 'only', 'on', 'one', 'side', ',', 'they', 'are', 'slowed', 'instead', 'of', 'stunned.Sett', 'carries', 'an', 'enemy', 'champion', 'through', 'the', 'air', 'and', 'slams', 'them', 'into', 'the', 'ground', ',', 'dealing', 'damage', 'and', 'slowing', 'all', 'enemies', 'near', 'where', 'they', 'land', '.'] \n",
            "\n",
            "['Sett', \"'s\", 'next', 'two', 'attacks', 'deal', 'additional', 'damage', 'based', 'target', \"'s\", 'max', 'health', '.', 'Sett', 'also', 'gains', 'movement', 'speed', 'moving', 'towards', 'enemy', 'champions.Sett', 'passively', 'stores', 'damage', 'takes', 'Grit', '.', 'On', 'cast', ',', 'Sett', 'expends', 'stored', 'Grit', 'gain', 'shield', 'punch', 'area', ',', 'dealing', 'true', 'damage', 'center', 'physical', 'damage', 'sides.Sett', 'pulls', 'enemies', 'opposite', 'sides', ',', 'dealing', 'damage', 'stunning', '.', 'If', 'enemies', 'one', 'side', ',', 'slowed', 'instead', 'stunned.Sett', 'carries', 'enemy', 'champion', 'air', 'slams', 'ground', ',', 'dealing', 'damage', 'slowing', 'enemies', 'near', 'land', '.']\n",
            "['If', 'Shaco', 'is', 'doing', 'well', 'early-game', ',', 'it', 'is', 'worth', 'the', 'investment', 'to', 'place', 'Stealth', 'Wards', 'near', 'his', 'Jungle', 'camps', '.', 'If', 'Shaco', 'uses', 'Deceive', 'to', 'enter', 'a', 'fight', 'he', 'wo', \"n't\", 'be', 'able', 'to', 'quickly', 'use', 'it', 'again', 'to', 'get', 'away', '.', 'Work', 'with', 'your', 'team', 'to', 'quickly', 'focus', 'him', 'down', '.', 'Using', 'Deceive', 'over', 'terrain', 'can', 'help', 'you', 'make', 'a', 'clean', 'escape', '.', 'Try', 'getting', 'items', 'with', 'on-hit', 'effects', '.', 'These', 'will', 'also', 'benefit', 'your', 'Hallucination', 'clone', '.', 'Backstab', \"'s\", 'damage', 'can', 'be', 'increased', 'with', 'increased', 'Critical', 'Damage', 'effects', 'like', 'Infinity', 'Edge.Shaco', 'becomes', 'Invisible', 'and', 'teleports', 'to', 'target', 'location.His', 'first', 'attack', 'while', 'Invisible', 'is', 'empowered', ',', 'dealing', 'bonus', 'damage', 'and', 'critically', 'striking', 'if', 'he', 'attacks', 'from', 'behind.Shaco', 'creates', 'a', 'hidden', 'animated', 'Jack-in-the-Box', '.', 'When', 'triggered', ',', 'it', 'will', 'fear', 'and', 'attack', 'nearby', 'enemies.Shaco', \"'s\", 'Shivs', 'passively', 'poison', 'targets', 'on', 'hit', ',', 'slowing', 'their', 'movement', 'speed', '.', 'He', 'can', 'throw', 'his', 'Shivs', 'to', 'deal', 'damage', 'and', 'poison', 'the', 'target', '.', 'The', 'thrown', 'Shiv', 'deals', 'bonus', 'damage', 'if', 'the', 'target', 'is', 'below', '30', '%', 'health.Shaco', 'creates', 'an', 'illusion', 'of', 'himself', 'near', 'him', ',', 'which', 'can', 'attack', 'nearby', 'enemies', '(', 'Deals', 'reduced', 'damage', 'to', 'turrets', ')', '.', 'Upon', 'death', ',', 'it', 'explodes', ',', 'spawning', 'three', 'mini', 'Jack', 'in', 'the', 'Boxes', 'and', 'dealing', 'damage', 'to', 'nearby', 'enemies', '.'] \n",
            "\n",
            "['If', 'Shaco', 'well', 'early-game', ',', 'worth', 'investment', 'place', 'Stealth', 'Wards', 'near', 'Jungle', 'camps', '.', 'If', 'Shaco', 'uses', 'Deceive', 'enter', 'fight', 'wo', \"n't\", 'able', 'quickly', 'use', 'get', 'away', '.', 'Work', 'team', 'quickly', 'focus', '.', 'Using', 'Deceive', 'terrain', 'help', 'make', 'clean', 'escape', '.', 'Try', 'getting', 'items', 'on-hit', 'effects', '.', 'These', 'also', 'benefit', 'Hallucination', 'clone', '.', 'Backstab', \"'s\", 'damage', 'increased', 'increased', 'Critical', 'Damage', 'effects', 'like', 'Infinity', 'Edge.Shaco', 'becomes', 'Invisible', 'teleports', 'target', 'location.His', 'first', 'attack', 'Invisible', 'empowered', ',', 'dealing', 'bonus', 'damage', 'critically', 'striking', 'attacks', 'behind.Shaco', 'creates', 'hidden', 'animated', 'Jack-in-the-Box', '.', 'When', 'triggered', ',', 'fear', 'attack', 'nearby', 'enemies.Shaco', \"'s\", 'Shivs', 'passively', 'poison', 'targets', 'hit', ',', 'slowing', 'movement', 'speed', '.', 'He', 'throw', 'Shivs', 'deal', 'damage', 'poison', 'target', '.', 'The', 'thrown', 'Shiv', 'deals', 'bonus', 'damage', 'target', '30', '%', 'health.Shaco', 'creates', 'illusion', 'near', ',', 'attack', 'nearby', 'enemies', '(', 'Deals', 'reduced', 'damage', 'turrets', ')', '.', 'Upon', 'death', ',', 'explodes', ',', 'spawning', 'three', 'mini', 'Jack', 'Boxes', 'dealing', 'damage', 'nearby', 'enemies', '.']\n",
            "['Be', 'ready', 'to', 'dodge', 'Shen', \"'s\", 'taunt', 'and', 'punish', 'him', 'if', 'he', 'misses', '.', 'Once', 'Shen', 'reaches', 'level', '6', ',', 'watch', 'out', 'for', 'his', 'global-range', 'ultimate', ',', 'which', 'can', 'turn', 'fights', 'quickly', '.', 'Keep', 'an', 'eye', 'on', 'allies', 'and', 'be', 'ready', 'to', 'save', 'them', 'with', 'your', 'teleport', '.', 'Leverage', 'your', 'Energy', 'to', 'get', 'a', 'long-term', 'advantage', 'over', 'Mana', 'users.Shen', 'recalls', 'his', 'spirit', 'blade', 'to', 'attack', 'with', 'it', ',', 'dealing', 'damage', 'based', 'on', 'the', 'target', \"'s\", 'max', 'health', '.', 'The', 'attacks', 'are', 'greatly', 'empowered', 'if', 'it', 'collides', 'with', 'an', 'enemy', 'champion', ',', 'and', 'all', 'collided', 'enemies', 'are', 'slowed', 'while', 'running', 'away', 'from', 'Shen.Attacks', 'that', 'would', 'hit', 'Shen', 'or', 'his', 'allies', 'near', 'his', 'spirit', 'blade', 'are', 'blocked.Shen', 'dashes', 'in', 'a', 'direction', ',', 'taunting', 'enemies', 'in', 'his', 'path.Shen', 'shields', 'target', 'allied', 'champion', 'from', 'incoming', 'damage', ',', 'and', 'soon', 'after', 'teleports', 'to', 'their', 'location', '.'] \n",
            "\n",
            "['Be', 'ready', 'dodge', 'Shen', \"'s\", 'taunt', 'punish', 'misses', '.', 'Once', 'Shen', 'reaches', 'level', '6', ',', 'watch', 'global-range', 'ultimate', ',', 'turn', 'fights', 'quickly', '.', 'Keep', 'eye', 'allies', 'ready', 'save', 'teleport', '.', 'Leverage', 'Energy', 'get', 'long-term', 'advantage', 'Mana', 'users.Shen', 'recalls', 'spirit', 'blade', 'attack', ',', 'dealing', 'damage', 'based', 'target', \"'s\", 'max', 'health', '.', 'The', 'attacks', 'greatly', 'empowered', 'collides', 'enemy', 'champion', ',', 'collided', 'enemies', 'slowed', 'running', 'away', 'Shen.Attacks', 'would', 'hit', 'Shen', 'allies', 'near', 'spirit', 'blade', 'blocked.Shen', 'dashes', 'direction', ',', 'taunting', 'enemies', 'path.Shen', 'shields', 'target', 'allied', 'champion', 'incoming', 'damage', ',', 'soon', 'teleports', 'location', '.']\n",
            "['A', 'significant', 'portion', 'of', 'Shyvana', \"'s\", 'power', 'is', 'generated', 'through', 'aggression', ',', 'making', 'her', 'weak', 'against', 'opponents', 'who', 'are', 'able', 'to', 'keep', 'their', 'distance', '.', 'All', 'of', 'Shyvana', \"'s\", 'basic', 'abilities', 'hit', 'multiple', 'enemies', 'in', 'dragon', 'form', '.', 'It', \"'s\", 'important', 'for', 'opposing', 'champions', 'to', 'not', 'cluster', 'while', 'fighting', 'her', '.', 'Shyvana', \"'s\", 'Fury', 'Bar', 'indicate', 'her', 'ultimate', 'can', 'be', 'activated', '.', 'Harassing', 'her', 'when', 'she', \"'s\", 'low', 'on', 'Fury', 'can', 'be', 'very', 'effective', '.', 'Shyvana', \"'s\", 'abilities', 'all', 'benefit', 'from', 'attacking', 'units', '.', 'As', 'a', 'result', ',', 'Attack', 'Speed', 'items', 'are', 'more', 'valuable', 'on', 'her', 'than', 'most', 'champions', '.', 'Flame', 'Breath', 'is', 'great', 'to', 'level-up', 'against', 'difficult', 'lane', 'opponents', '.', 'Burnout', 'is', 'an', 'ideal', 'choice', 'for', 'jungling', '.', 'Monsters', 'will', 'be', 'hit', 'by', 'the', 'full', 'duration', ',', 'and', 'the', 'speed', 'boost', 'improves', 'her', 'ganking', 'potential', '.', 'It', 'can', 'be', 'valuable', 'to', 'purchase', 'one', 'of', 'the', 'items', 'that', 'can', 'slow', 'enemies', ':', 'Frozen', 'Mallet', ',', 'Dead', 'Man', \"'s\", 'Plate', ',', 'or', 'Entropy.Shyvana', 'strikes', 'twice', 'on', 'her', 'next', 'attack', '.', 'Basic', 'attacks', 'reduce', 'the', 'cooldown', 'of', 'Twin', 'Bite', 'by', '0.5', 'seconds.Dragon', 'Form', ':', 'Twin', 'Bite', 'cleaves', 'all', 'units', 'in', 'front', 'of', 'Shyvana.Shyvana', 'surrounds', 'herself', 'in', 'fire', ',', 'dealing', 'magic', 'damage', 'per', 'second', 'to', 'nearby', 'enemies', 'and', 'moving', 'faster', 'for', '3', 'seconds', ',', 'part', 'of', 'this', 'damage', 'is', 'applied', 'again', 'when', 'Shyvana', 'basic', 'attacks', 'an', 'enemy', 'with', 'Burnout', 'active', '.', 'The', 'Movement', 'Speed', 'reduces', 'over', 'the', 'duration', 'of', 'the', 'spell', '.', 'Basic', 'attacks', 'extend', 'the', 'duration', 'of', 'Burnout', '.', 'Dragon', 'Form', ':', 'Burnout', 'grows', 'in', 'size.Shyvana', 'unleashes', 'a', 'fireball', 'that', 'deals', 'damage', 'to', 'all', 'enemies', 'it', 'encounters', 'and', 'leaves', 'cinders', 'on', 'the', 'target', ',', 'marking', 'them', 'for', '5', 'seconds', '.', 'Shyvana', \"'s\", 'basic', 'attacks', 'on', 'marked', 'targets', 'deal', 'a', 'percentage', 'of', 'their', 'maximum', 'Health', 'as', 'damage', 'on-hit.Dragon', 'Form', ':', 'Flame', 'Breath', 'explodes', 'on', 'impact', 'or', 'at', 'target', 'location', ',', 'dealing', 'bonus', 'damage', 'and', 'scorching', 'the', 'earth', 'for', 'a', 'short', 'duration.Shyvana', 'transforms', 'into', 'a', 'dragon', 'and', 'takes', 'flight', 'to', 'a', 'target', 'location', '.', 'Enemies', 'along', 'her', 'path', 'take', 'damage', 'and', 'are', 'knocked', 'toward', 'her', 'target', 'location.Shyvana', 'passively', 'gains', 'Fury', 'per', 'second', 'and', 'gains', '2', 'Fury', 'on', 'basic', 'attack', '.'] \n",
            "\n",
            "['A', 'significant', 'portion', 'Shyvana', \"'s\", 'power', 'generated', 'aggression', ',', 'making', 'weak', 'opponents', 'able', 'keep', 'distance', '.', 'All', 'Shyvana', \"'s\", 'basic', 'abilities', 'hit', 'multiple', 'enemies', 'dragon', 'form', '.', 'It', \"'s\", 'important', 'opposing', 'champions', 'cluster', 'fighting', '.', 'Shyvana', \"'s\", 'Fury', 'Bar', 'indicate', 'ultimate', 'activated', '.', 'Harassing', \"'s\", 'low', 'Fury', 'effective', '.', 'Shyvana', \"'s\", 'abilities', 'benefit', 'attacking', 'units', '.', 'As', 'result', ',', 'Attack', 'Speed', 'items', 'valuable', 'champions', '.', 'Flame', 'Breath', 'great', 'level-up', 'difficult', 'lane', 'opponents', '.', 'Burnout', 'ideal', 'choice', 'jungling', '.', 'Monsters', 'hit', 'full', 'duration', ',', 'speed', 'boost', 'improves', 'ganking', 'potential', '.', 'It', 'valuable', 'purchase', 'one', 'items', 'slow', 'enemies', ':', 'Frozen', 'Mallet', ',', 'Dead', 'Man', \"'s\", 'Plate', ',', 'Entropy.Shyvana', 'strikes', 'twice', 'next', 'attack', '.', 'Basic', 'attacks', 'reduce', 'cooldown', 'Twin', 'Bite', '0.5', 'seconds.Dragon', 'Form', ':', 'Twin', 'Bite', 'cleaves', 'units', 'front', 'Shyvana.Shyvana', 'surrounds', 'fire', ',', 'dealing', 'magic', 'damage', 'per', 'second', 'nearby', 'enemies', 'moving', 'faster', '3', 'seconds', ',', 'part', 'damage', 'applied', 'Shyvana', 'basic', 'attacks', 'enemy', 'Burnout', 'active', '.', 'The', 'Movement', 'Speed', 'reduces', 'duration', 'spell', '.', 'Basic', 'attacks', 'extend', 'duration', 'Burnout', '.', 'Dragon', 'Form', ':', 'Burnout', 'grows', 'size.Shyvana', 'unleashes', 'fireball', 'deals', 'damage', 'enemies', 'encounters', 'leaves', 'cinders', 'target', ',', 'marking', '5', 'seconds', '.', 'Shyvana', \"'s\", 'basic', 'attacks', 'marked', 'targets', 'deal', 'percentage', 'maximum', 'Health', 'damage', 'on-hit.Dragon', 'Form', ':', 'Flame', 'Breath', 'explodes', 'impact', 'target', 'location', ',', 'dealing', 'bonus', 'damage', 'scorching', 'earth', 'short', 'duration.Shyvana', 'transforms', 'dragon', 'takes', 'flight', 'target', 'location', '.', 'Enemies', 'along', 'path', 'take', 'damage', 'knocked', 'toward', 'target', 'location.Shyvana', 'passively', 'gains', 'Fury', 'per', 'second', 'gains', '2', 'Fury', 'basic', 'attack', '.']\n",
            "['Keep', 'your', 'distance', 'to', 'avoid', 'being', 'Flung', 'back', 'into', 'Singed', \"'s\", 'allies', '.', 'Singed', 'needs', 'to', 'run', 'close', 'to', 'your', 'team', 'to', 'be', 'effective', '.', 'Try', 'to', 'take', 'advantage', 'of', 'this', 'by', 'using', 'crowd', 'control', 'effects', 'on', 'him', 'while', 'attacking', 'his', 'allies', '.', 'Be', 'careful', 'when', 'chasing', 'Singed', '.', 'He', \"'s\", 'very', 'difficult', 'to', 'bring', 'down', ',', 'and', 'can', 'leave', 'his', 'Poison', 'Trail', 'to', 'damage', 'you', 'in', 'your', 'pursuit', '.', 'Poison', 'Trail', 'is', 'very', 'effective', 'at', 'farming', 'and', 'harassing', ',', 'allowing', 'Singed', 'to', 'dominate', 'the', 'flow', 'of', 'whatever', 'lane', 'he', \"'s\", 'in', '.', 'Use', 'Insanity', 'Potion', 'to', 'trick', 'your', 'opponents', 'into', 'chasing', 'you', 'through', 'your', 'Poison', 'Trail', '.', 'Flinging', 'enemies', 'into', 'your', 'tower', 'can', 'deal', 'heavy', 'amounts', 'of', 'damage', 'to', 'them.Leaves', 'a', 'trail', 'of', 'poison', 'behind', 'Singed', ',', 'dealing', 'damage', 'to', 'enemies', 'caught', 'in', 'the', 'path.Throws', 'a', 'vial', 'of', 'mega', 'adhesive', 'on', 'the', 'ground', ',', 'slowing', 'and', 'grounding', 'enemies', 'who', 'walk', 'on', 'it.Damages', 'target', 'enemy', 'unit', 'and', 'flings', 'them', 'into', 'the', 'air', 'behind', 'Singed', '.', 'If', 'the', 'target', 'Singed', 'flings', 'lands', 'in', 'his', 'Mega', 'Adhesive', ',', 'they', 'are', 'also', 'rooted.Singed', 'drinks', 'a', 'potent', 'brew', 'of', 'chemicals', ',', 'granting', 'him', 'increased', 'combat', 'stats', '.'] \n",
            "\n",
            "['Keep', 'distance', 'avoid', 'Flung', 'back', 'Singed', \"'s\", 'allies', '.', 'Singed', 'needs', 'run', 'close', 'team', 'effective', '.', 'Try', 'take', 'advantage', 'using', 'crowd', 'control', 'effects', 'attacking', 'allies', '.', 'Be', 'careful', 'chasing', 'Singed', '.', 'He', \"'s\", 'difficult', 'bring', ',', 'leave', 'Poison', 'Trail', 'damage', 'pursuit', '.', 'Poison', 'Trail', 'effective', 'farming', 'harassing', ',', 'allowing', 'Singed', 'dominate', 'flow', 'whatever', 'lane', \"'s\", '.', 'Use', 'Insanity', 'Potion', 'trick', 'opponents', 'chasing', 'Poison', 'Trail', '.', 'Flinging', 'enemies', 'tower', 'deal', 'heavy', 'amounts', 'damage', 'them.Leaves', 'trail', 'poison', 'behind', 'Singed', ',', 'dealing', 'damage', 'enemies', 'caught', 'path.Throws', 'vial', 'mega', 'adhesive', 'ground', ',', 'slowing', 'grounding', 'enemies', 'walk', 'it.Damages', 'target', 'enemy', 'unit', 'flings', 'air', 'behind', 'Singed', '.', 'If', 'target', 'Singed', 'flings', 'lands', 'Mega', 'Adhesive', ',', 'also', 'rooted.Singed', 'drinks', 'potent', 'brew', 'chemicals', ',', 'granting', 'increased', 'combat', 'stats', '.']\n",
            "['Even', 'if', 'Sion', 'still', 'hits', 'a', 'Decimating', 'Smash', ',', 'making', 'him', 'release', 'the', 'charge', 'earlier', 'reduces', 'its', 'impact', '.', 'Use', 'the', 'time', 'after', 'Sion', 'has', 'died', 'to', 'reposition', 'and', 'prepare', 'for', 'his', 'return', '.', 'You', 'only', 'have', 'very', 'slight', 'turning', 'ability', 'during', 'Unstoppable', 'Onslaught', ',', 'so', 'make', 'sure', 'to', 'use', 'it', 'in', 'straight', 'paths', '.', 'Roar', 'of', 'the', 'Slayer', 'is', 'a', 'great', 'setup', 'ability', 'to', 'land', 'a', 'very', 'powerful', 'Decimating', 'Smash', '.', 'The', 'Soul', 'Furnace', 'buff', 'displays', 'how', 'much', 'shield', 'strength', 'is', 'remaining', ',', 'use', 'this', 'information', 'to', 'time', 'its', 'explosion', 'perfectly.Sion', 'charges', 'a', 'powerful', 'swing', 'in', 'an', 'area', 'in', 'front', 'of', 'himself', 'that', 'will', 'deal', 'damage', 'to', 'enemies', 'when', 'released', '.', 'If', 'he', 'charges', 'for', 'enough', 'time', ',', 'enemies', 'hit', 'by', 'the', 'swing', 'will', 'also', 'be', 'knocked', 'up', 'and', 'stunned.Sion', 'shields', 'himself', 'and', 'can', 'reactivate', 'after', '3', 'seconds', 'to', 'deal', 'Magic', 'Damage', 'to', 'enemies', 'nearby', '.', 'When', 'Sion', 'kills', 'enemies', ',', 'he', 'passively', 'gains', 'maximum', 'Health.Sion', 'fires', 'a', 'short', 'range', 'shockwave', 'that', 'damages', 'and', 'slows', 'and', 'reduces', 'the', 'Armor', 'of', 'the', 'first', 'enemy', 'hit', '.', 'If', 'the', 'shockwave', 'hits', 'a', 'minion', 'or', 'monster', ',', 'it', 'will', 'be', 'knocked', 'back', ',', 'damaging', ',', 'slowing', ',', 'and', 'reducing', 'the', 'Armor', 'of', 'all', 'enemies', 'that', 'it', 'passes', 'through.Sion', 'charges', 'in', 'a', 'direction', ',', 'ramping', 'up', 'speed', 'over', 'time', '.', 'He', 'can', 'steer', 'his', 'charge', 'slightly', 'with', 'the', 'mouse', 'cursor', 'location', '.', 'When', 'he', 'collides', 'with', 'an', 'enemy', 'he', 'deals', 'damage', 'and', 'knocks', 'them', 'up', 'based', 'on', 'the', 'distance', 'he', 'has', 'charged', '.'] \n",
            "\n",
            "['Even', 'Sion', 'still', 'hits', 'Decimating', 'Smash', ',', 'making', 'release', 'charge', 'earlier', 'reduces', 'impact', '.', 'Use', 'time', 'Sion', 'died', 'reposition', 'prepare', 'return', '.', 'You', 'slight', 'turning', 'ability', 'Unstoppable', 'Onslaught', ',', 'make', 'sure', 'use', 'straight', 'paths', '.', 'Roar', 'Slayer', 'great', 'setup', 'ability', 'land', 'powerful', 'Decimating', 'Smash', '.', 'The', 'Soul', 'Furnace', 'buff', 'displays', 'much', 'shield', 'strength', 'remaining', ',', 'use', 'information', 'time', 'explosion', 'perfectly.Sion', 'charges', 'powerful', 'swing', 'area', 'front', 'deal', 'damage', 'enemies', 'released', '.', 'If', 'charges', 'enough', 'time', ',', 'enemies', 'hit', 'swing', 'also', 'knocked', 'stunned.Sion', 'shields', 'reactivate', '3', 'seconds', 'deal', 'Magic', 'Damage', 'enemies', 'nearby', '.', 'When', 'Sion', 'kills', 'enemies', ',', 'passively', 'gains', 'maximum', 'Health.Sion', 'fires', 'short', 'range', 'shockwave', 'damages', 'slows', 'reduces', 'Armor', 'first', 'enemy', 'hit', '.', 'If', 'shockwave', 'hits', 'minion', 'monster', ',', 'knocked', 'back', ',', 'damaging', ',', 'slowing', ',', 'reducing', 'Armor', 'enemies', 'passes', 'through.Sion', 'charges', 'direction', ',', 'ramping', 'speed', 'time', '.', 'He', 'steer', 'charge', 'slightly', 'mouse', 'cursor', 'location', '.', 'When', 'collides', 'enemy', 'deals', 'damage', 'knocks', 'based', 'distance', 'charged', '.']\n",
            "['Boomerang', 'Blade', 'costs', 'a', 'lot', 'of', 'mana', 'to', 'cast', ',', 'so', 'dodging', 'it', 'sets', 'Sivir', 'back', '.', 'If', 'it', 'hits', 'you', 'on', 'the', 'way', 'out', ',', 'avoid', 'its', 'path', 'on', 'the', 'way', 'back', '.', 'Sivir', 'is', 'a', 'powerful', 'pushing', 'champion', ',', 'so', 'leaving', 'her', 'unattended', 'in', 'a', 'lane', 'for', 'too', 'long', 'will', 'often', 'result', 'in', 'your', 'turrets', 'being', 'destroyed', '.', 'When', 'laning', 'against', 'Sivir', ',', 'it', 'is', 'possible', 'to', 'throw', 'off', 'the', 'timing', 'of', 'her', 'Spell', 'Shield', 'by', 'faking', 'an', 'advance', ',', 'then', 'backing', 'off', '.', 'Sivir', \"'s\", 'Boomerang', 'Blade', 'returns', 'to', 'her', 'after', 'reaching', 'the', 'max', 'range', ',', 'so', 'you', 'can', 'shift', 'position', 'to', 'hit', 'enemies', 'who', 'would', 'otherwise', 'have', 'evaded', 'it', '.', 'Ricochet', 'resets', 'Sivir', \"'s\", 'basic', 'attack', 'timer', 'on', 'activation', ',', 'so', 'activating', 'this', 'immediately', 'after', 'landing', 'a', 'normal', 'basic', 'attack', 'will', 'maximize', 'damage', 'output', '.', 'Try', 'saving', 'Spell', 'Shield', 'for', 'enemy', 'abilities', 'that', 'can', 'disable', 'you', 'such', 'as', 'stuns', 'and', 'roots.Sivir', 'hurls', 'her', 'crossblade', 'like', 'a', 'boomerang', ',', 'dealing', 'damage', 'each', 'way.Sivir', \"'s\", 'next', 'few', 'basic', 'attacks', 'will', 'bounce', 'to', 'nearby', 'targets', ',', 'dealing', 'reduced', 'damage', 'to', 'secondary', 'targets.Creates', 'a', 'magical', 'barrier', 'that', 'blocks', 'a', 'single', 'enemy', 'ability', 'cast', 'on', 'Sivir', '.', 'She', 'receives', 'Mana', 'back', 'if', 'a', 'spell', 'is', 'blocked.Sivir', 'leads', 'her', 'allies', 'in', 'battle', ',', 'granting', 'them', 'a', 'surge', 'Move', 'Speed', 'for', 'a', 'period', 'of', 'time', '.', 'Additionally', 'passively', 'grants', 'Sivir', 'bonus', 'Attack', 'Speed', 'while', 'Ricochet', 'is', 'active', '.'] \n",
            "\n",
            "['Boomerang', 'Blade', 'costs', 'lot', 'mana', 'cast', ',', 'dodging', 'sets', 'Sivir', 'back', '.', 'If', 'hits', 'way', ',', 'avoid', 'path', 'way', 'back', '.', 'Sivir', 'powerful', 'pushing', 'champion', ',', 'leaving', 'unattended', 'lane', 'long', 'often', 'result', 'turrets', 'destroyed', '.', 'When', 'laning', 'Sivir', ',', 'possible', 'throw', 'timing', 'Spell', 'Shield', 'faking', 'advance', ',', 'backing', '.', 'Sivir', \"'s\", 'Boomerang', 'Blade', 'returns', 'reaching', 'max', 'range', ',', 'shift', 'position', 'hit', 'enemies', 'would', 'otherwise', 'evaded', '.', 'Ricochet', 'resets', 'Sivir', \"'s\", 'basic', 'attack', 'timer', 'activation', ',', 'activating', 'immediately', 'landing', 'normal', 'basic', 'attack', 'maximize', 'damage', 'output', '.', 'Try', 'saving', 'Spell', 'Shield', 'enemy', 'abilities', 'disable', 'stuns', 'roots.Sivir', 'hurls', 'crossblade', 'like', 'boomerang', ',', 'dealing', 'damage', 'way.Sivir', \"'s\", 'next', 'basic', 'attacks', 'bounce', 'nearby', 'targets', ',', 'dealing', 'reduced', 'damage', 'secondary', 'targets.Creates', 'magical', 'barrier', 'blocks', 'single', 'enemy', 'ability', 'cast', 'Sivir', '.', 'She', 'receives', 'Mana', 'back', 'spell', 'blocked.Sivir', 'leads', 'allies', 'battle', ',', 'granting', 'surge', 'Move', 'Speed', 'period', 'time', '.', 'Additionally', 'passively', 'grants', 'Sivir', 'bonus', 'Attack', 'Speed', 'Ricochet', 'active', '.']\n",
            "['Skarner', 'ca', \"n't\", 'harm', 'you', 'very', 'much', 'outside', 'of', 'short', 'range', ',', 'so', 'stay', 'away', 'from', 'him', '!', 'Skarner', \"'s\", 'Movement', 'Speed', 'is', 'increased', 'as', 'long', 'as', 'his', 'shield', ',', 'Crystalline', 'Exoskeleton', ',', 'persists', '.', 'Attack', 'him', 'to', 'lower', 'his', 'speed', '.', 'Skarner', 'is', 'especially', 'dangerous', 'when', 'inside', 'Crystal', 'Spire', 'zones', 'his', 'team', 'controls', '.', 'Try', 'to', 'capture', 'them', 'ahead', 'of', 'time', 'if', 'a', 'fight', 'may', 'break', 'out', 'around', 'them', '.', 'Basic', 'attacks', 'reduce', 'the', 'cooldown', 'of', 'Crystal', 'Slash', '.', 'Use', 'them', 'as', 'often', 'as', 'possible', 'for', 'maximum', 'damage', '.', 'Capturing', 'Crystal', 'Spires', 'before', 'attempting', 'neutral', 'objectives', 'or', 'team', 'fights', 'around', 'them', 'improves', 'Skarner', \"'s\", 'performance', 'in', 'said', 'fights', 'dramatically', '.', 'Impale', 'is', 'extremely', 'powerful', 'when', 'you', 'use', 'it', 'to', 'position', 'an', 'enemy', 'so', 'your', 'allies', 'can', 'attack', 'them.Skarner', 'lashes', 'out', 'with', 'his', 'claws', ',', 'dealing', 'physical', 'damage', 'to', 'all', 'nearby', 'enemies', 'and', 'charging', 'himself', 'with', 'Crystal', 'Energy', 'for', 'several', 'seconds', 'if', 'a', 'unit', 'is', 'struck', '.', 'If', 'he', 'casts', 'Crystal', 'Slash', 'again', 'while', 'powered', 'by', 'Crystal', 'Energy', ',', 'he', 'deals', 'bonus', 'magic', 'damage.Skarner', 'gains', 'a', 'shield', 'and', 'has', 'increased', 'Movement', 'Speed', 'while', 'the', 'shield', 'persists.Skarner', 'summons', 'a', 'blast', 'of', 'crystalline', 'energy', 'which', 'deals', 'damage', 'to', 'enemies', 'struck', 'and', 'slows', 'them', '.', 'Basic', 'attacking', 'these', 'enemies', 'within', 'a', 'short', 'window', 'will', 'stun', 'them.Skarner', 'suppresses', 'an', 'enemy', 'champion', 'and', 'deals', 'damage', 'to', 'it', '.', 'During', 'this', 'time', ',', 'Skarner', 'can', 'move', 'freely', 'and', 'will', 'drag', 'his', 'helpless', 'victim', 'around', 'with', 'him', '.', 'When', 'the', 'effect', 'ends', ',', 'the', 'target', 'will', 'be', 'dealt', 'additional', 'damage', '.'] \n",
            "\n",
            "['Skarner', 'ca', \"n't\", 'harm', 'much', 'outside', 'short', 'range', ',', 'stay', 'away', '!', 'Skarner', \"'s\", 'Movement', 'Speed', 'increased', 'long', 'shield', ',', 'Crystalline', 'Exoskeleton', ',', 'persists', '.', 'Attack', 'lower', 'speed', '.', 'Skarner', 'especially', 'dangerous', 'inside', 'Crystal', 'Spire', 'zones', 'team', 'controls', '.', 'Try', 'capture', 'ahead', 'time', 'fight', 'may', 'break', 'around', '.', 'Basic', 'attacks', 'reduce', 'cooldown', 'Crystal', 'Slash', '.', 'Use', 'often', 'possible', 'maximum', 'damage', '.', 'Capturing', 'Crystal', 'Spires', 'attempting', 'neutral', 'objectives', 'team', 'fights', 'around', 'improves', 'Skarner', \"'s\", 'performance', 'said', 'fights', 'dramatically', '.', 'Impale', 'extremely', 'powerful', 'use', 'position', 'enemy', 'allies', 'attack', 'them.Skarner', 'lashes', 'claws', ',', 'dealing', 'physical', 'damage', 'nearby', 'enemies', 'charging', 'Crystal', 'Energy', 'several', 'seconds', 'unit', 'struck', '.', 'If', 'casts', 'Crystal', 'Slash', 'powered', 'Crystal', 'Energy', ',', 'deals', 'bonus', 'magic', 'damage.Skarner', 'gains', 'shield', 'increased', 'Movement', 'Speed', 'shield', 'persists.Skarner', 'summons', 'blast', 'crystalline', 'energy', 'deals', 'damage', 'enemies', 'struck', 'slows', '.', 'Basic', 'attacking', 'enemies', 'within', 'short', 'window', 'stun', 'them.Skarner', 'suppresses', 'enemy', 'champion', 'deals', 'damage', '.', 'During', 'time', ',', 'Skarner', 'move', 'freely', 'drag', 'helpless', 'victim', 'around', '.', 'When', 'effect', 'ends', ',', 'target', 'dealt', 'additional', 'damage', '.']\n",
            "['Spread', 'out', 'when', 'you', 'see', 'Sona', 'so', 'she', 'ca', \"n't\", 'make', 'your', 'entire', 'team', 'dance', '.', 'Kill', 'Sona', 'first', ',', 'as', 'she', 'will', 'heal', 'up', 'her', 'team', 'if', 'left', 'alone', 'for', 'too', 'long', '.', 'Make', 'sure', 'to', 'tag', 'your', 'allies', 'while', 'Sona', \"'s\", 'auras', 'are', 'active', ',', 'but', 'avoid', 'getting', 'caught', 'out', 'by', 'enemies', '.', 'Save', 'Crescendo', 'for', 'the', 'game-altering', 'moment', '.', 'Well-timed', 'uses', 'of', 'Aria', 'of', 'Perseverance', 'will', 'grant', 'you', 'maximum', 'survivability.Sona', 'plays', 'the', 'Hymn', 'of', 'Valor', ',', 'sends', 'out', 'bolts', 'of', 'sound', ',', 'dealing', 'magic', 'damage', 'to', 'two', 'nearby', 'enemies', ',', 'prioritizing', 'champions', 'and', 'monsters', '.', 'Sona', 'gains', 'a', 'temporary', 'aura', 'that', 'grants', 'allies', 'tagged', 'by', 'the', 'zone', 'bonus', 'damage', 'on', 'their', 'next', 'attack', 'against', 'enemies.Sona', 'plays', 'the', 'Aria', 'of', 'Perseverance', ',', 'sending', 'out', 'protective', 'melodies', ',', 'healing', 'Sona', 'and', 'a', 'nearby', 'wounded', 'ally', '.', 'Sona', 'gains', 'a', 'temporary', 'aura', 'that', 'grants', 'allies', 'tagged', 'by', 'the', 'zone', 'a', 'temporary', 'shield.Sona', 'plays', 'the', 'Song', 'of', 'Celerity', ',', 'granting', 'nearby', 'allies', 'bonus', 'Movement', 'Speed', '.', 'Sona', 'gains', 'a', 'temporary', 'aura', 'that', 'grants', 'allied', 'champions', 'tagged', 'by', 'the', 'zone', 'bonus', 'Movement', 'Speed.Sona', 'plays', 'her', 'ultimate', 'chord', ',', 'stunning', 'enemy', 'champions', 'and', 'forcing', 'them', 'to', 'dance', 'and', 'dealing', 'magic', 'damage', 'to', 'them', '.', 'Each', 'rank', 'reduces', 'the', 'base', 'cooldown', 'of', 'Sona', \"'s\", 'basic', 'abilities', '.'] \n",
            "\n",
            "['Spread', 'see', 'Sona', 'ca', \"n't\", 'make', 'entire', 'team', 'dance', '.', 'Kill', 'Sona', 'first', ',', 'heal', 'team', 'left', 'alone', 'long', '.', 'Make', 'sure', 'tag', 'allies', 'Sona', \"'s\", 'auras', 'active', ',', 'avoid', 'getting', 'caught', 'enemies', '.', 'Save', 'Crescendo', 'game-altering', 'moment', '.', 'Well-timed', 'uses', 'Aria', 'Perseverance', 'grant', 'maximum', 'survivability.Sona', 'plays', 'Hymn', 'Valor', ',', 'sends', 'bolts', 'sound', ',', 'dealing', 'magic', 'damage', 'two', 'nearby', 'enemies', ',', 'prioritizing', 'champions', 'monsters', '.', 'Sona', 'gains', 'temporary', 'aura', 'grants', 'allies', 'tagged', 'zone', 'bonus', 'damage', 'next', 'attack', 'enemies.Sona', 'plays', 'Aria', 'Perseverance', ',', 'sending', 'protective', 'melodies', ',', 'healing', 'Sona', 'nearby', 'wounded', 'ally', '.', 'Sona', 'gains', 'temporary', 'aura', 'grants', 'allies', 'tagged', 'zone', 'temporary', 'shield.Sona', 'plays', 'Song', 'Celerity', ',', 'granting', 'nearby', 'allies', 'bonus', 'Movement', 'Speed', '.', 'Sona', 'gains', 'temporary', 'aura', 'grants', 'allied', 'champions', 'tagged', 'zone', 'bonus', 'Movement', 'Speed.Sona', 'plays', 'ultimate', 'chord', ',', 'stunning', 'enemy', 'champions', 'forcing', 'dance', 'dealing', 'magic', 'damage', '.', 'Each', 'rank', 'reduces', 'base', 'cooldown', 'Sona', \"'s\", 'basic', 'abilities', '.']\n",
            "['Focus', 'on', 'attacking', 'Soraka', 'when', 'she', 'ever', 'ventures', 'to', 'the', 'frontline', 'to', 'heal', 'her', 'allies', '.', 'Take', 'advantage', 'of', 'Soraka', \"'s\", 'long', 'cooldown', 'on', 'Equinox', 'if', 'she', 'uses', 'it', 'to', 'harass', '.', 'It', \"'s\", 'easier', 'to', 'focus', 'Soraka', 'than', 'the', 'ally', 'she', 'is', 'healing', '.', 'Soraka', 'is', 'a', 'powerful', 'ally', 'in', 'battle', ',', 'using', 'her', 'strong', 'healing', 'to', 'keep', 'the', 'party', 'moving', 'forward', '.', 'You', 'can', 'use', 'Wish', 'on', 'your', 'allies', 'from', 'across', 'the', 'map', 'to', 'save', 'them', 'from', 'otherwise', 'fatal', 'events', '.', 'Equinox', 'can', 'be', 'used', 'as', 'a', 'powerful', 'zoning', 'tool', 'to', 'keep', 'enemies', 'at', 'bay.A', 'star', 'falls', 'from', 'the', 'sky', 'at', 'the', 'target', 'location', 'dealing', 'magic', 'damage', 'and', 'slowing', 'enemies', '.', 'If', 'an', 'enemy', 'champion', 'is', 'hit', 'by', 'Starcall', ',', 'Soraka', 'recovers', 'Health.Soraka', 'sacrifices', 'a', 'portion', 'of', 'her', 'own', 'health', 'to', 'heal', 'another', 'friendly', 'champion.Creates', 'a', 'zone', 'at', 'a', 'location', 'that', 'silences', 'all', 'enemies', 'inside', '.', 'When', 'the', 'zone', 'expires', ',', 'all', 'enemies', 'still', 'inside', 'are', 'rooted.Soraka', 'fills', 'her', 'allies', 'with', 'hope', ',', 'instantly', 'restoring', 'health', 'to', 'herself', 'and', 'all', 'friendly', 'champions', '.'] \n",
            "\n",
            "['Focus', 'attacking', 'Soraka', 'ever', 'ventures', 'frontline', 'heal', 'allies', '.', 'Take', 'advantage', 'Soraka', \"'s\", 'long', 'cooldown', 'Equinox', 'uses', 'harass', '.', 'It', \"'s\", 'easier', 'focus', 'Soraka', 'ally', 'healing', '.', 'Soraka', 'powerful', 'ally', 'battle', ',', 'using', 'strong', 'healing', 'keep', 'party', 'moving', 'forward', '.', 'You', 'use', 'Wish', 'allies', 'across', 'map', 'save', 'otherwise', 'fatal', 'events', '.', 'Equinox', 'used', 'powerful', 'zoning', 'tool', 'keep', 'enemies', 'bay.A', 'star', 'falls', 'sky', 'target', 'location', 'dealing', 'magic', 'damage', 'slowing', 'enemies', '.', 'If', 'enemy', 'champion', 'hit', 'Starcall', ',', 'Soraka', 'recovers', 'Health.Soraka', 'sacrifices', 'portion', 'health', 'heal', 'another', 'friendly', 'champion.Creates', 'zone', 'location', 'silences', 'enemies', 'inside', '.', 'When', 'zone', 'expires', ',', 'enemies', 'still', 'inside', 'rooted.Soraka', 'fills', 'allies', 'hope', ',', 'instantly', 'restoring', 'health', 'friendly', 'champions', '.']\n",
            "['Swain', \"'s\", 'passive', 'is', 'very', 'potent', 'if', 'you', 'are', 'immobilized', '.', 'Make', 'sure', 'to', 'be', 'extra', 'careful', 'around', 'enemies', 'who', 'have', 'immobilizing', 'effects', '.', 'High', 'mobility', 'counters', 'all', 'of', 'Swain', \"'s\", 'basic', 'abilities', ':', 'Death', \"'s\", 'Hand', 'does', 'more', 'damage', 'the', 'closer', 'he', 'is', ',', 'Vision', 'of', 'Empire', 'has', 'a', 'very', 'long', 'delay', 'and', 'Nevermove', 'must', 'start', 'returning', 'back', 'to', 'him', 'to', 'be', 'dangerous', '.', 'Buying', 'an', 'item', 'with', 'Grievous', 'Wounds', 'will', 'make', 'Swain', 'much', 'easier', 'to', 'kill', 'during', 'his', 'Demonic', 'Ascension', '.', 'If', 'you', \"'re\", 'having', 'trouble', 'rooting', 'an', 'enemy', 'with', 'Nevermove', ',', 'try', 'throwing', 'it', 'at', 'opponents', 'when', 'they', 'are', 'near', 'their', 'minions', 'so', 'the', 'explosion', 'surprises', 'them', '.', 'While', 'laning', ',', 'try', 'to', 'use', 'Death', \"'s\", 'Hand', \"'s\", 'piercing', 'damage', 'to', 'damage', 'opponents', 'from', 'a', 'safe', 'distance', '.', 'Vision', 'of', 'Empire', 'is', 'quite', 'difficult', 'to', 'land', 'on', 'its', 'own', ',', 'look', 'for', 'skirmishes', 'around', 'the', 'map', 'where', 'enemies', 'may', 'be', 'distracted', 'or', 'crowd', 'controlled', 'so', 'you', 'can', 'land', 'it', 'more', 'easily', '.', 'Demonic', 'Ascension', 'may', 'make', 'Swain', 'very', 'hard', 'to', 'kill', 'but', 'he', \"'s\", 'pretty', 'easy', 'to', 'get', 'away', 'from', '.', 'Try', 'building', 'items', 'that', 'can', 'slow', 'opponents', 'to', 'keep', 'them', 'in', 'range', 'if', 'their', 'mobility', 'is', 'overwhelming.Swain', 'unleashes', 'several', 'bolts', 'of', 'eldritch', 'power', 'that', 'pierce', 'through', 'enemies', '.', 'Enemies', 'hit', 'take', 'more', 'damage', 'for', 'each', 'bolt', 'they', 'are', 'struck', 'by.Swain', 'opens', 'a', 'demon', 'eye', 'that', 'deals', 'damage', 'and', 'slows', 'enemies', '.', 'Champions', 'hit', 'are', 'revealed', 'and', 'also', 'grant', 'Swain', 'a', 'Soul', 'Fragment.Swain', 'launches', 'a', 'wave', 'of', 'demonic', 'power', 'forward', '.', 'It', 'then', 'returns', 'to', 'Swain', 'and', 'roots', 'enemies', 'it', 'hits.Swain', 'transforms', 'into', 'a', 'demon', 'and', 'drains', 'health', 'from', 'nearby', 'enemy', 'champions', ',', 'minions', ',', 'and', 'neutral', 'monsters', '.', 'Swain', 'can', 'cast', 'Demonflare', 'to', 'decimate', 'nearby', 'enemies', 'with', 'a', 'nova', 'of', 'soulfire', ',', 'dealing', 'damage', 'equal', 'to', 'a', 'portion', 'of', 'the', 'health', 'he', 'drained', 'and', 'ending', 'his', 'transformation', '.'] \n",
            "\n",
            "['Swain', \"'s\", 'passive', 'potent', 'immobilized', '.', 'Make', 'sure', 'extra', 'careful', 'around', 'enemies', 'immobilizing', 'effects', '.', 'High', 'mobility', 'counters', 'Swain', \"'s\", 'basic', 'abilities', ':', 'Death', \"'s\", 'Hand', 'damage', 'closer', ',', 'Vision', 'Empire', 'long', 'delay', 'Nevermove', 'must', 'start', 'returning', 'back', 'dangerous', '.', 'Buying', 'item', 'Grievous', 'Wounds', 'make', 'Swain', 'much', 'easier', 'kill', 'Demonic', 'Ascension', '.', 'If', \"'re\", 'trouble', 'rooting', 'enemy', 'Nevermove', ',', 'try', 'throwing', 'opponents', 'near', 'minions', 'explosion', 'surprises', '.', 'While', 'laning', ',', 'try', 'use', 'Death', \"'s\", 'Hand', \"'s\", 'piercing', 'damage', 'damage', 'opponents', 'safe', 'distance', '.', 'Vision', 'Empire', 'quite', 'difficult', 'land', ',', 'look', 'skirmishes', 'around', 'map', 'enemies', 'may', 'distracted', 'crowd', 'controlled', 'land', 'easily', '.', 'Demonic', 'Ascension', 'may', 'make', 'Swain', 'hard', 'kill', \"'s\", 'pretty', 'easy', 'get', 'away', '.', 'Try', 'building', 'items', 'slow', 'opponents', 'keep', 'range', 'mobility', 'overwhelming.Swain', 'unleashes', 'several', 'bolts', 'eldritch', 'power', 'pierce', 'enemies', '.', 'Enemies', 'hit', 'take', 'damage', 'bolt', 'struck', 'by.Swain', 'opens', 'demon', 'eye', 'deals', 'damage', 'slows', 'enemies', '.', 'Champions', 'hit', 'revealed', 'also', 'grant', 'Swain', 'Soul', 'Fragment.Swain', 'launches', 'wave', 'demonic', 'power', 'forward', '.', 'It', 'returns', 'Swain', 'roots', 'enemies', 'hits.Swain', 'transforms', 'demon', 'drains', 'health', 'nearby', 'enemy', 'champions', ',', 'minions', ',', 'neutral', 'monsters', '.', 'Swain', 'cast', 'Demonflare', 'decimate', 'nearby', 'enemies', 'nova', 'soulfire', ',', 'dealing', 'damage', 'equal', 'portion', 'health', 'drained', 'ending', 'transformation', '.']\n",
            "['Sylas', \"'s\", 'healthbar', 'can', 'be', 'deceptive', ',', 'watch', 'out', 'for', 'his', 'Kingslayer', '!', 'Try', 'to', 'fight', 'Sylas', 'when', 'he', 'is', \"n't\", 'able', 'to', 'take', 'your', 'ultimate', '.', 'Wait', 'for', 'you', 'or', 'your', 'enemy', 'to', 'reach', 'low', 'health', 'before', 'using', 'Kingslayer', 'for', 'maximum', 'effect', '.', 'Space', 'out', 'your', 'ability', 'usage', 'to', 'get', 'maximum', 'effect', 'from', 'Petricite', 'Burst', '.', 'Clever', 'use', 'of', 'enemy', 'ultimates', 'can', 'open', 'up', 'new', 'possibilities', 'to', 'approach', 'teamfights.Sylas', 'lashes', 'his', 'chains', 'out', ',', 'intersecting', 'at', 'his', 'targeted', 'location', 'dealing', 'damage', 'to', 'and', 'slowing', 'enemies', '.', 'After', 'a', 'delay', ',', 'magical', 'energy', 'explodes', 'from', 'the', 'intersection', 'point', 'dealing', 'damage.Sylas', 'lunges', 'at', 'an', 'enemy', 'with', 'magical', 'force', 'dealing', 'damage', 'and', 'healing', 'himself', 'against', 'enemy', 'champions.Sylas', 'dashes', 'to', 'a', 'location', '.', 'Sylas', 'can', 'recast', 'the', 'ability', 'to', 'throw', 'his', 'chains', 'out', ',', 'pulling', 'himself', 'to', 'an', 'enemy', 'he', 'hits.Sylas', 'steals', 'the', 'enemy', \"'s\", 'ultimate', 'ability', 'and', 'can', 'cast', 'it', 'freely', '.'] \n",
            "\n",
            "['Sylas', \"'s\", 'healthbar', 'deceptive', ',', 'watch', 'Kingslayer', '!', 'Try', 'fight', 'Sylas', \"n't\", 'able', 'take', 'ultimate', '.', 'Wait', 'enemy', 'reach', 'low', 'health', 'using', 'Kingslayer', 'maximum', 'effect', '.', 'Space', 'ability', 'usage', 'get', 'maximum', 'effect', 'Petricite', 'Burst', '.', 'Clever', 'use', 'enemy', 'ultimates', 'open', 'new', 'possibilities', 'approach', 'teamfights.Sylas', 'lashes', 'chains', ',', 'intersecting', 'targeted', 'location', 'dealing', 'damage', 'slowing', 'enemies', '.', 'After', 'delay', ',', 'magical', 'energy', 'explodes', 'intersection', 'point', 'dealing', 'damage.Sylas', 'lunges', 'enemy', 'magical', 'force', 'dealing', 'damage', 'healing', 'enemy', 'champions.Sylas', 'dashes', 'location', '.', 'Sylas', 'recast', 'ability', 'throw', 'chains', ',', 'pulling', 'enemy', 'hits.Sylas', 'steals', 'enemy', \"'s\", 'ultimate', 'ability', 'cast', 'freely', '.']\n",
            "['Get', 'boots', 'early', 'when', 'playing', 'against', 'Syndra', ',', 'they', \"'ll\", 'help', 'you', 'avoid', 'many', 'of', 'her', 'spells', '.', 'Attack', 'Syndra', 'after', 'she', \"'s\", 'used', 'Scatter', 'the', 'Weak', ',', 'it', 'has', 'a', 'long', 'cooldown', 'so', 'she', \"'ll\", 'be', 'vulnerable', '.', 'At', 'max', 'rank', 'Syndra', \"'s\", 'spells', 'gain', 'bonus', 'effects', 'and', 'change', 'in', 'appearance', '.', 'To', 'maximize', 'your', 'ultimate', \"'s\", 'damage', 'use', 'it', 'when', 'there', 'are', 'many', 'spheres', 'on', 'the', 'battlefield', '.', 'After', 'you', 'hit', 'an', 'enemy', 'champion', 'with', 'Force', 'of', 'Will', 'follow', 'up', 'with', 'Dark', 'Sphere', ',', 'they', \"'ll\", 'be', 'slowed', 'and', 'have', 'a', 'hard', 'time', 'avoiding', 'it', '.', 'Get', 'one', 'of', 'your', 'spells', 'to', 'rank', '5', 'as', 'quickly', 'as', 'possible', ',', 'they', 'gain', 'powerful', 'bonus', 'effects', 'at', 'max', 'rank.Syndra', 'conjures', 'a', 'Dark', 'Sphere', 'dealing', 'magic', 'damage', '.', 'The', 'sphere', 'remains', 'and', 'can', 'be', 'manipulated', 'by', 'her', 'other', 'powers.Syndra', 'picks', 'up', 'and', 'throws', 'a', 'Dark', 'Sphere', 'or', 'enemy', 'minion', 'dealing', 'magic', 'damage', 'and', 'slowing', 'the', 'Movement', 'Speed', 'of', 'enemies.Syndra', 'knocks', 'enemies', 'and', 'Dark', 'Spheres', 'back', 'dealing', 'magic', 'damage', '.', 'Enemies', 'hit', 'by', 'Dark', 'Spheres', 'become', 'stunned.Syndra', 'bombards', 'an', 'enemy', 'Champion', 'with', 'all', 'of', 'her', 'Dark', 'Spheres', '.'] \n",
            "\n",
            "['Get', 'boots', 'early', 'playing', 'Syndra', ',', \"'ll\", 'help', 'avoid', 'many', 'spells', '.', 'Attack', 'Syndra', \"'s\", 'used', 'Scatter', 'Weak', ',', 'long', 'cooldown', \"'ll\", 'vulnerable', '.', 'At', 'max', 'rank', 'Syndra', \"'s\", 'spells', 'gain', 'bonus', 'effects', 'change', 'appearance', '.', 'To', 'maximize', 'ultimate', \"'s\", 'damage', 'use', 'many', 'spheres', 'battlefield', '.', 'After', 'hit', 'enemy', 'champion', 'Force', 'Will', 'follow', 'Dark', 'Sphere', ',', \"'ll\", 'slowed', 'hard', 'time', 'avoiding', '.', 'Get', 'one', 'spells', 'rank', '5', 'quickly', 'possible', ',', 'gain', 'powerful', 'bonus', 'effects', 'max', 'rank.Syndra', 'conjures', 'Dark', 'Sphere', 'dealing', 'magic', 'damage', '.', 'The', 'sphere', 'remains', 'manipulated', 'powers.Syndra', 'picks', 'throws', 'Dark', 'Sphere', 'enemy', 'minion', 'dealing', 'magic', 'damage', 'slowing', 'Movement', 'Speed', 'enemies.Syndra', 'knocks', 'enemies', 'Dark', 'Spheres', 'back', 'dealing', 'magic', 'damage', '.', 'Enemies', 'hit', 'Dark', 'Spheres', 'become', 'stunned.Syndra', 'bombards', 'enemy', 'Champion', 'Dark', 'Spheres', '.']\n",
            "['When', 'you', 'see', 'Tahm', 'Kench', 'use', 'the', 'shield', 'from', 'Thick', 'Skin', ',', 'remember', 'that', 'he', 'just', 'opted', 'out', 'of', 'a', 'good', 'deal', 'of', 'healing', '.', 'He', 'will', 'also', 'not', 'accumulate', 'new', 'gray', 'health', 'until', 'Thick', 'Skin', 'comes', 'off', 'cooldown', '.', 'Use', 'this', 'to', 'your', 'advantage', '!', 'Watch', 'out', 'for', 'Kench', \"'s\", 'Abyssal', 'Dive', '-', 'you', 'can', 'cancel', 'it', \"'s\", 'channel', 'with', 'immobilizing', 'crowd', 'control', 'effects', '.', 'Your', 'most', 'important', 'function', 'as', 'a', 'support', 'is', 'to', 'keep', 'fragile', 'allies', 'safe', '.', 'Keep', 'Devour', \"'s\", 'range', 'and', 'cooldown', 'in', 'mind', 'and', 'position', 'accordingly', '!', 'Consider', 'carefully', 'when', 'to', 'use', 'Thick', 'Skin', \"'s\", 'active', '.', 'Sometimes', 'shielding', 'early', 'to', 'avoid', 'further', 'damage', 'is', 'good', ',', 'but', 'sometimes', 'the', 'healing', 'is', 'more', 'beneficial.Tahm', 'Kench', 'lashes', 'out', 'with', 'his', 'tongue', ',', 'damaging', 'and', 'slowing', 'the', 'first', 'unit', 'hit', 'and', 'healing', 'himself', 'it', 'he', 'strikes', 'an', 'enemy', 'champion.Applies', 'a', 'stack', 'of', 'An', 'Acquired', 'Taste', 'to', 'enemy', 'champions', '.', 'If', 'the', 'champion', 'already', 'has', '3', 'stacks', 'of', 'An', 'Acquired', 'Taste', ',', 'they', 'are', 'stunned', 'and', 'the', 'stacks', 'are', 'consumed.Dive', 'down', 'and', 'then', 're-appear', 'at', 'target', 'location', ',', 'damaging', 'and', 'knocking', 'up', 'all', 'enemies', 'in', 'an', 'area.Passive', ':', 'Tahm', 'Kench', 'stores', 'a', 'percent', 'of', 'the', 'damage', 'he', 'takes', 'and', 'heals', 'based', 'on', 'it', 'while', 'out', 'of', 'combat.Active', ':', 'Convert', 'all', 'stored', 'damage', 'into', 'a', 'temporary', 'shield.Tahm', 'Kench', 'devours', 'a', 'champion', 'for', 'a', 'few', 'seconds', ',', 'dealing', 'magic', 'damage', 'if', 'they', 'are', 'an', 'enemy', ',', 'or', 'shielding', 'them', 'if', 'they', 'are', 'an', 'ally', '.'] \n",
            "\n",
            "['When', 'see', 'Tahm', 'Kench', 'use', 'shield', 'Thick', 'Skin', ',', 'remember', 'opted', 'good', 'deal', 'healing', '.', 'He', 'also', 'accumulate', 'new', 'gray', 'health', 'Thick', 'Skin', 'comes', 'cooldown', '.', 'Use', 'advantage', '!', 'Watch', 'Kench', \"'s\", 'Abyssal', 'Dive', '-', 'cancel', \"'s\", 'channel', 'immobilizing', 'crowd', 'control', 'effects', '.', 'Your', 'important', 'function', 'support', 'keep', 'fragile', 'allies', 'safe', '.', 'Keep', 'Devour', \"'s\", 'range', 'cooldown', 'mind', 'position', 'accordingly', '!', 'Consider', 'carefully', 'use', 'Thick', 'Skin', \"'s\", 'active', '.', 'Sometimes', 'shielding', 'early', 'avoid', 'damage', 'good', ',', 'sometimes', 'healing', 'beneficial.Tahm', 'Kench', 'lashes', 'tongue', ',', 'damaging', 'slowing', 'first', 'unit', 'hit', 'healing', 'strikes', 'enemy', 'champion.Applies', 'stack', 'An', 'Acquired', 'Taste', 'enemy', 'champions', '.', 'If', 'champion', 'already', '3', 'stacks', 'An', 'Acquired', 'Taste', ',', 'stunned', 'stacks', 'consumed.Dive', 're-appear', 'target', 'location', ',', 'damaging', 'knocking', 'enemies', 'area.Passive', ':', 'Tahm', 'Kench', 'stores', 'percent', 'damage', 'takes', 'heals', 'based', 'combat.Active', ':', 'Convert', 'stored', 'damage', 'temporary', 'shield.Tahm', 'Kench', 'devours', 'champion', 'seconds', ',', 'dealing', 'magic', 'damage', 'enemy', ',', 'shielding', 'ally', '.']\n",
            "['When', 'Taliyah', 'casts', 'Unraveled', 'Earth', 'in', 'the', 'lane', ',', 'be', 'on', 'the', 'lookout', 'for', 'Seismic', 'Shove', '.', 'If', 'she', 'throws', 'you', 'into', 'her', 'minefield', ',', 'the', 'throws', 'and', 'stones', 'will', 'break', 'your', 'bones', '.', 'Taliyah', \"'s\", 'Threaded', 'Volley', 'is', 'locked', 'into', 'a', 'direction', '.', 'If', 'she', \"'s\", 'throwing', 'rocks', 'at', 'you', ',', 'dodge', 'to', 'the', 'side', '!', 'Try', 'to', 'throw', 'enemies', 'into', 'Unraveled', 'Earth', 'using', 'Seismic', 'Shove', '.', 'Remember', ',', 'you', 'do', \"n't\", 'always', 'have', 'to', 'ride', 'Weaver', \"'s\", 'Wall', '.', 'Once', 'you', 'have', 'Rylai', \"'s\", 'Crystal', 'Scepter', ',', 'casting', 'Threaded', 'Volley', 'at', 'enemies', 'chasing', 'you', 'is', 'a', 'great', 'way', 'of', 'making', 'them', 'regret', 'everything.Taliyah', 'throws', 'a', 'volley', 'of', 'missiles', 'in', 'a', 'target', 'direction', ',', 'moving', 'freely', 'as', 'she', 'does', '.', 'This', 'works', 'the', 'ground', 'below', 'her', '.', 'If', 'Taliyah', 'casts', 'Threaded', 'Volley', 'on', 'worked', 'ground', ',', 'she', 'only', 'throws', 'one', 'missile.Taliyah', 'causes', 'an', 'area', 'of', 'ground', 'to', 'erupt', 'and', 'throws', 'enemies', 'within', 'in', 'a', 'direction', 'of', 'her', 'choosing.Taliyah', 'creates', 'a', 'slowing', 'minefield', 'that', 'explodes', 'if', 'enemies', 'dash', 'through', 'it', 'or', 'are', 'pushed/pulled', 'through', 'it.Taliyah', 'creates', 'a', 'very', 'long', 'wall', 'and', 'then', 'surfs', 'it', '.'] \n",
            "\n",
            "['When', 'Taliyah', 'casts', 'Unraveled', 'Earth', 'lane', ',', 'lookout', 'Seismic', 'Shove', '.', 'If', 'throws', 'minefield', ',', 'throws', 'stones', 'break', 'bones', '.', 'Taliyah', \"'s\", 'Threaded', 'Volley', 'locked', 'direction', '.', 'If', \"'s\", 'throwing', 'rocks', ',', 'dodge', 'side', '!', 'Try', 'throw', 'enemies', 'Unraveled', 'Earth', 'using', 'Seismic', 'Shove', '.', 'Remember', ',', \"n't\", 'always', 'ride', 'Weaver', \"'s\", 'Wall', '.', 'Once', 'Rylai', \"'s\", 'Crystal', 'Scepter', ',', 'casting', 'Threaded', 'Volley', 'enemies', 'chasing', 'great', 'way', 'making', 'regret', 'everything.Taliyah', 'throws', 'volley', 'missiles', 'target', 'direction', ',', 'moving', 'freely', '.', 'This', 'works', 'ground', '.', 'If', 'Taliyah', 'casts', 'Threaded', 'Volley', 'worked', 'ground', ',', 'throws', 'one', 'missile.Taliyah', 'causes', 'area', 'ground', 'erupt', 'throws', 'enemies', 'within', 'direction', 'choosing.Taliyah', 'creates', 'slowing', 'minefield', 'explodes', 'enemies', 'dash', 'pushed/pulled', 'it.Taliyah', 'creates', 'long', 'wall', 'surfs', '.']\n",
            "['Talon', \"'s\", 'attacks', 'are', 'all', 'physical', 'damage', '.', 'Build', 'armor', 'early', 'to', 'counter', 'his', 'burst', 'damage', '.', 'Talon', 'is', 'heavily', 'reliant', 'on', 'Shadow', 'Assault', 'to', 'escape', 'a', 'fight', '.', 'When', 'it', 'is', 'down', 'he', \"'s\", 'significantly', 'more', 'vulnerable', '.', 'Talon', 'has', 'unrivaled', 'roaming', 'ability', '.', 'Make', 'sure', 'to', 'keep', 'track', 'of', 'his', 'position', 'or', 'force', 'him', 'to', 'stay', 'in', 'lane', 'by', 'pushing', 'aggressively', '.', 'You', 'can', 'use', 'Assassin', \"'s\", 'Path', 'to', 'get', 'behind', 'the', 'enemy', 'and', 'set', 'up', 'for', 'Noxian', 'Diplomacy', \"'s\", 'melee', 'attack', '.', 'Shadow', 'Assault', 'is', 'a', 'powerful', 'escape', 'tool', ',', 'but', 'can', 'also', 'be', 'offensively', 'used', 'to', 'assault', 'a', 'group', '.', 'Remember', 'to', 'pick', 'your', 'target', 'before', 'the', 'fight', '.', 'Focusing', 'all', 'of', 'Talon', \"'s\", 'abilities', 'on', 'one', 'target', 'can', 'be', 'very', 'rewarding', ',', 'but', 'splitting', 'them', 'up', 'between', 'many', 'may', 'leave', 'you', 'helpless.Talon', 'stabs', 'the', 'target', 'unit', '.', 'If', 'they', 'are', 'within', 'melee', 'range', ',', 'this', 'attack', 'deals', 'critical', 'damage', '.', 'If', 'they', 'are', 'outside', 'melee', 'range', ',', 'Talon', 'will', 'leap', 'at', 'his', 'target', 'before', 'stabbing', 'them', '.', 'Talon', 'refunds', 'some', 'health', 'and', 'cooldown', 'if', 'this', 'ability', 'kills', 'the', 'target.Talon', 'sends', 'out', 'a', 'volley', 'of', 'daggers', 'that', 'then', 'return', 'back', 'to', 'him', ',', 'dealing', 'physical', 'damage', 'every', 'time', 'it', 'passes', 'through', 'an', 'enemy', '.', 'The', 'returning', 'blades', 'deal', 'bonus', 'damage', 'and', 'slow', 'units', 'hit.Talon', 'vaults', 'over', 'any', 'terrain', 'or', 'structure', ',', 'up', 'to', 'a', 'max', 'distance', '.', 'This', 'ability', 'has', 'a', 'low', 'cooldown', ',', 'but', 'puts', 'the', 'used', 'terrain', 'on', 'a', 'long', 'cooldown.Talon', 'disperses', 'a', 'ring', 'of', 'blades', 'and', 'becomes', 'Invisible', 'while', 'gaining', 'additional', 'Movement', 'Speed', '.', 'When', 'Talon', 'emerges', 'from', 'Invisibility', ',', 'the', 'blades', 'converge', 'on', 'his', 'location', '.', 'Each', 'time', 'the', 'blades', 'move', ',', 'Shadow', 'Assault', 'deals', 'physical', 'damage', 'to', 'enemies', 'hit', 'by', 'at', 'least', 'one', 'blade', '.'] \n",
            "\n",
            "['Talon', \"'s\", 'attacks', 'physical', 'damage', '.', 'Build', 'armor', 'early', 'counter', 'burst', 'damage', '.', 'Talon', 'heavily', 'reliant', 'Shadow', 'Assault', 'escape', 'fight', '.', 'When', \"'s\", 'significantly', 'vulnerable', '.', 'Talon', 'unrivaled', 'roaming', 'ability', '.', 'Make', 'sure', 'keep', 'track', 'position', 'force', 'stay', 'lane', 'pushing', 'aggressively', '.', 'You', 'use', 'Assassin', \"'s\", 'Path', 'get', 'behind', 'enemy', 'set', 'Noxian', 'Diplomacy', \"'s\", 'melee', 'attack', '.', 'Shadow', 'Assault', 'powerful', 'escape', 'tool', ',', 'also', 'offensively', 'used', 'assault', 'group', '.', 'Remember', 'pick', 'target', 'fight', '.', 'Focusing', 'Talon', \"'s\", 'abilities', 'one', 'target', 'rewarding', ',', 'splitting', 'many', 'may', 'leave', 'helpless.Talon', 'stabs', 'target', 'unit', '.', 'If', 'within', 'melee', 'range', ',', 'attack', 'deals', 'critical', 'damage', '.', 'If', 'outside', 'melee', 'range', ',', 'Talon', 'leap', 'target', 'stabbing', '.', 'Talon', 'refunds', 'health', 'cooldown', 'ability', 'kills', 'target.Talon', 'sends', 'volley', 'daggers', 'return', 'back', ',', 'dealing', 'physical', 'damage', 'every', 'time', 'passes', 'enemy', '.', 'The', 'returning', 'blades', 'deal', 'bonus', 'damage', 'slow', 'units', 'hit.Talon', 'vaults', 'terrain', 'structure', ',', 'max', 'distance', '.', 'This', 'ability', 'low', 'cooldown', ',', 'puts', 'used', 'terrain', 'long', 'cooldown.Talon', 'disperses', 'ring', 'blades', 'becomes', 'Invisible', 'gaining', 'additional', 'Movement', 'Speed', '.', 'When', 'Talon', 'emerges', 'Invisibility', ',', 'blades', 'converge', 'location', '.', 'Each', 'time', 'blades', 'move', ',', 'Shadow', 'Assault', 'deals', 'physical', 'damage', 'enemies', 'hit', 'least', 'one', 'blade', '.']\n",
            "['Taric', \"'s\", 'ultimate', ',', 'Cosmic', 'Radiance', ',', 'has', 'a', 'long', 'delay', 'before', 'its', 'effect', '.', 'Try', 'to', 'quickly', 'assess', 'whether', 'to', 'disengage', 'the', 'fight', 'or', 'attempt', 'to', 'kill', 'his', 'allies', 'before', 'it', 'goes', 'off', '.', 'Taric', 'reduces', 'his', 'spell', 'cooldowns', 'by', 'basic', 'attacking', 'enemies', 'with', 'Bravado', '.', 'Try', 'to', 'kite', 'him', 'in', 'teamfights', 'and', 'punish', 'him', 'for', 'approaching', 'the', 'minion', 'wave', 'in', 'lane', '.', 'The', 'cooldown', 'reducing', 'component', 'of', 'Bravado', 'makes', 'Cooldown', 'Reduction', 'items', 'like', 'Frozen', 'Heart', ',', 'Iceborn', 'Gauntlet', ',', 'and', 'Spirit', 'Visage', 'exceptionally', 'powerful', 'on', 'Taric', '.', 'Using', 'Starlight', \"'s\", 'Touch', 'at', 'lower', 'charges', 'makes', 'its', 'healing', 'less', 'Mana', 'efficient', ',', 'but', 'can', 'greatly', 'increase', 'Taric', \"'s\", 'sustained', 'damage', 'via', 'Bravado', '.', 'Rather', 'than', 'saving', 'Cosmic', 'Radiance', 'for', 'the', 'last', 'moment', 'and', 'risking', 'someone', 'dying', 'during', 'the', 'delay', ',', 'it', 'can', 'be', 'more', 'beneficial', 'to', 'cast', 'it', 'as', 'soon', 'as', 'you', 'know', 'a', 'teamfight', 'is', 'guaranteed', 'to', 'start.Heals', 'nearby', 'allied', 'champions', 'based', 'on', 'charges', 'stored', '.', 'Bravado-empowered', 'attacks', 'grant', 'a', 'charge', 'of', 'Starlight', \"'s\", 'Touch.Passively', 'increase', 'the', 'Armor', 'of', 'Taric', 'and', 'any', 'allied', 'champion', 'with', 'Bastion.Actively', 'shields', 'an', 'ally', 'and', 'grants', 'them', 'Bastion', 'for', 'as', 'long', 'as', 'they', 'remain', 'near', 'Taric', '.', 'Taric', \"'s\", 'spells', 'also', 'cast', 'off', 'the', 'ally', 'with', 'Bastion.Taric', 'readies', 'a', 'beam', 'of', 'starlight', 'that', ',', 'after', 'a', 'brief', 'delay', ',', 'deals', 'magic', 'damage', 'and', 'stuns', 'enemies.Pulses', 'cosmic', 'energy', 'onto', 'nearby', 'allied', 'champions', 'after', 'a', 'delay', ',', 'making', 'them', 'invulnerable', 'for', 'a', 'short', 'duration', '.'] \n",
            "\n",
            "['Taric', \"'s\", 'ultimate', ',', 'Cosmic', 'Radiance', ',', 'long', 'delay', 'effect', '.', 'Try', 'quickly', 'assess', 'whether', 'disengage', 'fight', 'attempt', 'kill', 'allies', 'goes', '.', 'Taric', 'reduces', 'spell', 'cooldowns', 'basic', 'attacking', 'enemies', 'Bravado', '.', 'Try', 'kite', 'teamfights', 'punish', 'approaching', 'minion', 'wave', 'lane', '.', 'The', 'cooldown', 'reducing', 'component', 'Bravado', 'makes', 'Cooldown', 'Reduction', 'items', 'like', 'Frozen', 'Heart', ',', 'Iceborn', 'Gauntlet', ',', 'Spirit', 'Visage', 'exceptionally', 'powerful', 'Taric', '.', 'Using', 'Starlight', \"'s\", 'Touch', 'lower', 'charges', 'makes', 'healing', 'less', 'Mana', 'efficient', ',', 'greatly', 'increase', 'Taric', \"'s\", 'sustained', 'damage', 'via', 'Bravado', '.', 'Rather', 'saving', 'Cosmic', 'Radiance', 'last', 'moment', 'risking', 'someone', 'dying', 'delay', ',', 'beneficial', 'cast', 'soon', 'know', 'teamfight', 'guaranteed', 'start.Heals', 'nearby', 'allied', 'champions', 'based', 'charges', 'stored', '.', 'Bravado-empowered', 'attacks', 'grant', 'charge', 'Starlight', \"'s\", 'Touch.Passively', 'increase', 'Armor', 'Taric', 'allied', 'champion', 'Bastion.Actively', 'shields', 'ally', 'grants', 'Bastion', 'long', 'remain', 'near', 'Taric', '.', 'Taric', \"'s\", 'spells', 'also', 'cast', 'ally', 'Bastion.Taric', 'readies', 'beam', 'starlight', ',', 'brief', 'delay', ',', 'deals', 'magic', 'damage', 'stuns', 'enemies.Pulses', 'cosmic', 'energy', 'onto', 'nearby', 'allied', 'champions', 'delay', ',', 'making', 'invulnerable', 'short', 'duration', '.']\n",
            "['Teemo', \"'s\", 'Toxic', 'Shot', 'punishes', 'players', 'who', 'get', 'hit', 'and', 'back', 'out', ',', 'so', 'stay', 'at', 'a', 'safe', 'range', 'until', 'you', \"'re\", 'ready', 'to', 'commit', '.', 'It', 'can', 'be', 'valuable', 'to', 'use', 'Oracle', \"'s\", 'Lens', '(', 'Trinket', ')', 'to', 'destroy', 'mushrooms', 'around', 'key', 'locations', '.', 'Teemo', \"'s\", 'mushrooms', 'can', 'be', 'used', 'to', 'farm', 'creep', 'waves', 'very', 'effectively', '.', 'Place', 'your', 'mushrooms', 'at', 'key', 'locations', 'on', 'the', 'map', ',', 'such', 'as', 'by', 'the', 'Dragon', 'or', 'Baron', 'Nashor', ',', 'to', 'reveal', 'when', 'your', 'enemies', 'might', 'be', 'attempting', 'to', 'kill', 'them.Obscures', 'an', 'enemy', \"'s\", 'vision', 'with', 'a', 'powerful', 'venom', ',', 'dealing', 'damage', 'to', 'the', 'target', 'unit', 'and', 'blinding', 'it', 'for', 'the', 'duration.Teemo', 'scampers', 'around', ',', 'passively', 'increasing', 'his', 'Move', 'Speed', 'until', 'he', 'is', 'struck', 'by', 'an', 'enemy', 'champion', 'or', 'turret', '.', 'Teemo', 'can', 'sprint', 'to', 'gain', 'bonus', 'Move', 'Speed', 'that', 'is', \"n't\", 'stopped', 'by', 'being', 'struck', 'for', 'a', 'short', 'time.Each', 'of', 'Teemo', \"'s\", 'attacks', 'will', 'poison', 'the', 'target', ',', 'dealing', 'damage', 'on', 'impact', 'and', 'each', 'second', 'after', 'for', '4', 'seconds.Teemo', 'throws', 'an', 'explosive', 'poisonous', 'trap', 'using', 'one', 'of', 'the', 'mushrooms', 'stored', 'in', 'his', 'pack', '.', 'If', 'an', 'enemy', 'steps', 'on', 'the', 'trap', ',', 'it', 'will', 'release', 'a', 'poisonous', 'cloud', ',', 'slowing', 'enemies', 'and', 'damaging', 'them', 'over', 'time', '.', 'If', 'Teemo', 'throws', 'a', 'mushroom', 'onto', 'another', 'mushroom', 'it', 'will', 'bounce', ',', 'gaining', 'additional', 'range', '.'] \n",
            "\n",
            "['Teemo', \"'s\", 'Toxic', 'Shot', 'punishes', 'players', 'get', 'hit', 'back', ',', 'stay', 'safe', 'range', \"'re\", 'ready', 'commit', '.', 'It', 'valuable', 'use', 'Oracle', \"'s\", 'Lens', '(', 'Trinket', ')', 'destroy', 'mushrooms', 'around', 'key', 'locations', '.', 'Teemo', \"'s\", 'mushrooms', 'used', 'farm', 'creep', 'waves', 'effectively', '.', 'Place', 'mushrooms', 'key', 'locations', 'map', ',', 'Dragon', 'Baron', 'Nashor', ',', 'reveal', 'enemies', 'might', 'attempting', 'kill', 'them.Obscures', 'enemy', \"'s\", 'vision', 'powerful', 'venom', ',', 'dealing', 'damage', 'target', 'unit', 'blinding', 'duration.Teemo', 'scampers', 'around', ',', 'passively', 'increasing', 'Move', 'Speed', 'struck', 'enemy', 'champion', 'turret', '.', 'Teemo', 'sprint', 'gain', 'bonus', 'Move', 'Speed', \"n't\", 'stopped', 'struck', 'short', 'time.Each', 'Teemo', \"'s\", 'attacks', 'poison', 'target', ',', 'dealing', 'damage', 'impact', 'second', '4', 'seconds.Teemo', 'throws', 'explosive', 'poisonous', 'trap', 'using', 'one', 'mushrooms', 'stored', 'pack', '.', 'If', 'enemy', 'steps', 'trap', ',', 'release', 'poisonous', 'cloud', ',', 'slowing', 'enemies', 'damaging', 'time', '.', 'If', 'Teemo', 'throws', 'mushroom', 'onto', 'another', 'mushroom', 'bounce', ',', 'gaining', 'additional', 'range', '.']\n",
            "['Thresh', \"'s\", 'Death', 'Sentence', 'has', 'a', 'long', 'cast', 'time', '.', 'Watch', 'for', 'the', 'cast', 'to', 'begin', 'to', 'take', 'evasive', 'actions', '.', 'Intentionally', 'breaking', 'a', 'wall', 'of', 'The', 'Box', 'can', 'allow', 'a', 'vulnerable', 'ally', 'to', 'escape', 'unscathed', '.', 'Thresh', 'relies', 'on', 'collecting', 'souls', 'for', 'a', 'portion', 'of', 'his', 'defense', 'and', 'damage', '.', 'Try', 'punishing', 'him', 'when', 'he', 'moves', 'to', 'collect', 'them', '.', 'Communication', 'is', 'key', 'when', 'making', 'use', 'of', 'Thresh', \"'s\", 'lantern', '.', 'Let', 'your', 'teammates', 'know', 'how', 'you', 'like', 'to', 'use', 'it', '.', 'Death', 'Sentence', 'and', 'Flay', 'can', 'be', 'combined', 'in', 'either', 'cast', 'order', 'for', 'powerful', 'combinations', '.', 'Thresh', 'can', 'collect', 'souls', 'without', 'needing', 'to', 'kill', 'units', 'himself', '.', 'Planning', 'your', 'map', 'position', 'to', 'be', 'near', 'the', 'most', 'deaths', 'will', 'help', 'to', 'maximize', 'soul', 'collection.Thresh', 'binds', 'an', 'enemy', 'in', 'chains', 'and', 'pulls', 'them', 'toward', 'him', '.', 'Activating', 'this', 'ability', 'a', 'second', 'time', 'pulls', 'Thresh', 'to', 'the', 'enemy.Thresh', 'throws', 'out', 'a', 'lantern', 'that', 'shields', 'nearby', 'allied', 'Champions', 'from', 'damage', '.', 'Allies', 'can', 'click', 'the', 'lantern', 'to', 'dash', 'to', 'Thresh.Thresh', \"'s\", 'attacks', 'wind', 'up', ',', 'dealing', 'more', 'damage', 'the', 'longer', 'he', 'waits', 'between', 'attacks', '.', 'When', 'activated', ',', 'Thresh', 'sweeps', 'his', 'chain', ',', 'knocking', 'all', 'enemies', 'hit', 'in', 'the', 'direction', 'of', 'the', 'blow.A', 'prison', 'of', 'walls', 'that', 'slow', 'and', 'deal', 'damage', 'if', 'broken', '.'] \n",
            "\n",
            "['Thresh', \"'s\", 'Death', 'Sentence', 'long', 'cast', 'time', '.', 'Watch', 'cast', 'begin', 'take', 'evasive', 'actions', '.', 'Intentionally', 'breaking', 'wall', 'The', 'Box', 'allow', 'vulnerable', 'ally', 'escape', 'unscathed', '.', 'Thresh', 'relies', 'collecting', 'souls', 'portion', 'defense', 'damage', '.', 'Try', 'punishing', 'moves', 'collect', '.', 'Communication', 'key', 'making', 'use', 'Thresh', \"'s\", 'lantern', '.', 'Let', 'teammates', 'know', 'like', 'use', '.', 'Death', 'Sentence', 'Flay', 'combined', 'either', 'cast', 'order', 'powerful', 'combinations', '.', 'Thresh', 'collect', 'souls', 'without', 'needing', 'kill', 'units', '.', 'Planning', 'map', 'position', 'near', 'deaths', 'help', 'maximize', 'soul', 'collection.Thresh', 'binds', 'enemy', 'chains', 'pulls', 'toward', '.', 'Activating', 'ability', 'second', 'time', 'pulls', 'Thresh', 'enemy.Thresh', 'throws', 'lantern', 'shields', 'nearby', 'allied', 'Champions', 'damage', '.', 'Allies', 'click', 'lantern', 'dash', 'Thresh.Thresh', \"'s\", 'attacks', 'wind', ',', 'dealing', 'damage', 'longer', 'waits', 'attacks', '.', 'When', 'activated', ',', 'Thresh', 'sweeps', 'chain', ',', 'knocking', 'enemies', 'hit', 'direction', 'blow.A', 'prison', 'walls', 'slow', 'deal', 'damage', 'broken', '.']\n",
            "['If', 'you', 'see', 'Tristana', 'activate', 'Rapid', 'Fire', 'in', 'a', 'fight', ',', 'stun', 'her', 'and', 'try', 'to', 'back', 'off', 'until', 'the', 'spell', 'dissipates', '.', 'Stand', 'away', 'from', 'your', 'creeps', 'in', 'a', 'lane', 'to', 'take', 'less', 'collateral', 'damage', 'from', 'Explosive', 'Charge', '.', 'Her', 'massive', 'gun', 'allows', 'Tristana', 'to', 'fire', 'on', 'targets', 'at', 'a', 'great', 'distance', '.', 'Utilize', 'this', 'to', 'prevent', 'your', 'enemies', 'from', 'ever', 'laying', 'a', 'hand', 'on', 'you', '.', 'Use', 'Rocket', 'Jump', 'after', 'you', 'have', 'stacked', 'up', 'your', 'Explosive', 'Charge', 'on', 'an', 'enemy', 'to', 'finish', 'them', 'off', 'with', 'a', 'burst', 'of', 'damage', '.', 'Use', 'Rapid', 'Fire', 'to', 'help', 'stack', 'up', 'your', 'Explosive', 'Charge', 'on', 'enemy', 'champions.Tristana', 'fires', 'her', 'weapon', 'rapidly', ',', 'increasing', 'her', 'Attack', 'Speed', 'for', 'a', 'short', 'time.Tristana', 'fires', 'at', 'the', 'ground', 'to', 'propel', 'her', 'to', 'a', 'distant', 'location', ',', 'dealing', 'damage', 'and', 'slowing', 'surrounding', 'units', 'for', 'a', 'brief', 'period', 'where', 'she', 'lands.When', 'Tristana', 'kills', 'a', 'unit', ',', 'her', 'cannonballs', 'burst', 'into', 'shrapnel', ',', 'dealing', 'damage', 'to', 'surrounding', 'enemies', '.', 'Can', 'be', 'activated', 'to', 'place', 'a', 'bomb', 'on', 'a', 'target', 'enemy', 'that', 'explodes', 'after', 'a', 'short', 'duration', 'dealing', 'damage', 'to', 'surrounding', 'units.Tristana', 'loads', 'a', 'massive', 'cannonball', 'into', 'her', 'weapon', 'and', 'fires', 'it', 'at', 'an', 'enemy', 'unit', '.', 'This', 'deals', 'Magic', 'Damage', 'and', 'knocks', 'the', 'target', 'back', '.', 'If', 'the', 'target', 'is', 'carrying', 'the', 'Explosive', 'Charge', 'bomb', ',', 'the', 'bomb', 'detonation', 'radius', 'is', 'doubled', '.'] \n",
            "\n",
            "['If', 'see', 'Tristana', 'activate', 'Rapid', 'Fire', 'fight', ',', 'stun', 'try', 'back', 'spell', 'dissipates', '.', 'Stand', 'away', 'creeps', 'lane', 'take', 'less', 'collateral', 'damage', 'Explosive', 'Charge', '.', 'Her', 'massive', 'gun', 'allows', 'Tristana', 'fire', 'targets', 'great', 'distance', '.', 'Utilize', 'prevent', 'enemies', 'ever', 'laying', 'hand', '.', 'Use', 'Rocket', 'Jump', 'stacked', 'Explosive', 'Charge', 'enemy', 'finish', 'burst', 'damage', '.', 'Use', 'Rapid', 'Fire', 'help', 'stack', 'Explosive', 'Charge', 'enemy', 'champions.Tristana', 'fires', 'weapon', 'rapidly', ',', 'increasing', 'Attack', 'Speed', 'short', 'time.Tristana', 'fires', 'ground', 'propel', 'distant', 'location', ',', 'dealing', 'damage', 'slowing', 'surrounding', 'units', 'brief', 'period', 'lands.When', 'Tristana', 'kills', 'unit', ',', 'cannonballs', 'burst', 'shrapnel', ',', 'dealing', 'damage', 'surrounding', 'enemies', '.', 'Can', 'activated', 'place', 'bomb', 'target', 'enemy', 'explodes', 'short', 'duration', 'dealing', 'damage', 'surrounding', 'units.Tristana', 'loads', 'massive', 'cannonball', 'weapon', 'fires', 'enemy', 'unit', '.', 'This', 'deals', 'Magic', 'Damage', 'knocks', 'target', 'back', '.', 'If', 'target', 'carrying', 'Explosive', 'Charge', 'bomb', ',', 'bomb', 'detonation', 'radius', 'doubled', '.']\n",
            "['Trundle', 'is', 'very', 'powerful', 'at', 'location-based', 'combat', '.', 'Try', 'to', 'draw', 'him', 'off', 'of', 'his', 'Frozen', 'Domain', '.', 'Make', 'sure', 'to', 'get', 'out', 'of', 'his', 'Pillar', 'of', 'Ice', 'as', 'quickly', 'as', 'possible', ',', 'as', 'it', 'significantly', 'slows', 'you', 'down', '.', 'Trundle', 'excels', 'at', 'fighting', 'within', 'his', 'Frozen', 'Domain', '.', 'Try', 'to', 'draw', 'enemies', 'onto', 'it', '.', 'Use', 'Subjugate', 'to', 'soften', 'a', 'powerful', 'enemy', 'tank', 'or', 'to', 'create', 'a', 'target', 'for', 'your', 'team', 'to', 'focus', 'fire', '.', 'Chomp', 'is', 'good', 'for', 'lowering', 'the', 'physical', 'damage', 'of', 'enemies', ';', 'try', 'to', 'focus', 'it', 'on', 'enemy', 'physical', 'damage', 'dealers.Trundle', 'bites', 'his', 'opponent', ',', 'dealing', 'damage', ',', 'briefly', 'slowing', 'and', 'sapping', 'some', 'of', 'their', 'Attack', 'Damage.Trundle', 'turns', 'target', 'location', 'into', 'his', 'domain', ',', 'gaining', 'Attack', 'Speed', ',', 'Movement', 'Speed', ',', 'and', 'increased', 'healing', 'from', 'all', 'sources', 'while', 'on', 'it.Trundle', 'creates', 'an', 'ice', 'pillar', 'at', 'target', 'location', ',', 'becoming', 'impassable', 'terrain', 'and', 'slowing', 'all', 'nearby', 'enemy', 'units.Trundle', 'immediately', 'steals', 'a', 'percent', 'of', 'his', 'target', \"'s\", 'Health', ',', 'Armor', 'and', 'Magic', 'Resistance', '.', 'Over', 'the', 'next', '4', 'seconds', 'the', 'amount', 'of', 'Health', ',', 'Armor', ',', 'and', 'Magic', 'Resistance', 'stolen', 'is', 'doubled', '.'] \n",
            "\n",
            "['Trundle', 'powerful', 'location-based', 'combat', '.', 'Try', 'draw', 'Frozen', 'Domain', '.', 'Make', 'sure', 'get', 'Pillar', 'Ice', 'quickly', 'possible', ',', 'significantly', 'slows', '.', 'Trundle', 'excels', 'fighting', 'within', 'Frozen', 'Domain', '.', 'Try', 'draw', 'enemies', 'onto', '.', 'Use', 'Subjugate', 'soften', 'powerful', 'enemy', 'tank', 'create', 'target', 'team', 'focus', 'fire', '.', 'Chomp', 'good', 'lowering', 'physical', 'damage', 'enemies', ';', 'try', 'focus', 'enemy', 'physical', 'damage', 'dealers.Trundle', 'bites', 'opponent', ',', 'dealing', 'damage', ',', 'briefly', 'slowing', 'sapping', 'Attack', 'Damage.Trundle', 'turns', 'target', 'location', 'domain', ',', 'gaining', 'Attack', 'Speed', ',', 'Movement', 'Speed', ',', 'increased', 'healing', 'sources', 'it.Trundle', 'creates', 'ice', 'pillar', 'target', 'location', ',', 'becoming', 'impassable', 'terrain', 'slowing', 'nearby', 'enemy', 'units.Trundle', 'immediately', 'steals', 'percent', 'target', \"'s\", 'Health', ',', 'Armor', 'Magic', 'Resistance', '.', 'Over', 'next', '4', 'seconds', 'amount', 'Health', ',', 'Armor', ',', 'Magic', 'Resistance', 'stolen', 'doubled', '.']\n",
            "['Try', 'harassing', 'Tryndamere', 'early', 'so', 'he', 'ca', \"n't\", 'kill', 'minions', 'and', 'heal', 'with', 'Bloodlust', '.', 'Remember', ',', 'Tryndamere', 'can', 'only', 'slow', 'you', 'if', 'you', 'are', 'facing', 'away', 'from', 'him', '.', 'Most', 'of', 'Tryndamere', \"'s\", 'damage', 'is', 'physical', '.', 'If', 'he', \"'s\", 'getting', 'too', 'strong', ',', 'consider', 'buying', 'a', 'Thornmail', '.', 'Delaying', 'the', 'activation', 'of', 'Undying', 'Rage', 'is', 'a', 'very', 'effective', 'way', 'to', 'make', 'an', 'enemy', 'champion', 'over-commit', 'to', 'trying', 'to', 'kill', 'you', '.', 'Bloodlust', 'is', 'an', 'excellent', 'way', 'to', 'heal', 'Tryndamere', '.', 'Try', 'not', 'to', 'let', 'it', 'fade', 'off', 'before', 'you', 'activate', 'it', '.', 'If', 'the', 'enemy', 'is', 'stacking', 'Armor', ',', 'try', 'building', 'items', 'like', 'Last', 'Whisper', 'or', 'Youmuu', \"'s\", 'Ghostblade.Tryndamere', 'thrives', 'on', 'the', 'thrills', 'of', 'combat', ',', 'increasing', 'his', 'Attack', 'Damage', 'as', 'he', 'is', 'more', 'and', 'more', 'wounded', '.', 'He', 'can', 'cast', 'Bloodlust', 'to', 'consume', 'his', 'Fury', 'and', 'heal', 'himself.Tryndamere', 'lets', 'out', 'an', 'insulting', 'cry', ',', 'decreasing', 'surrounding', 'champions', \"'\", 'Attack', 'Damage', '.', 'Enemies', 'with', 'their', 'backs', 'turned', 'to', 'Tryndamere', 'also', 'have', 'their', 'Movement', 'Speed', 'reduced.Tryndamere', 'slices', 'toward', 'a', 'target', 'unit', ',', 'dealing', 'damage', 'to', 'enemies', 'in', 'his', 'path.Tryndamere', \"'s\", 'lust', 'for', 'battle', 'becomes', 'so', 'strong', 'that', 'he', 'is', 'unable', 'to', 'die', ',', 'no', 'matter', 'how', 'wounded', 'he', 'becomes', '.'] \n",
            "\n",
            "['Try', 'harassing', 'Tryndamere', 'early', 'ca', \"n't\", 'kill', 'minions', 'heal', 'Bloodlust', '.', 'Remember', ',', 'Tryndamere', 'slow', 'facing', 'away', '.', 'Most', 'Tryndamere', \"'s\", 'damage', 'physical', '.', 'If', \"'s\", 'getting', 'strong', ',', 'consider', 'buying', 'Thornmail', '.', 'Delaying', 'activation', 'Undying', 'Rage', 'effective', 'way', 'make', 'enemy', 'champion', 'over-commit', 'trying', 'kill', '.', 'Bloodlust', 'excellent', 'way', 'heal', 'Tryndamere', '.', 'Try', 'let', 'fade', 'activate', '.', 'If', 'enemy', 'stacking', 'Armor', ',', 'try', 'building', 'items', 'like', 'Last', 'Whisper', 'Youmuu', \"'s\", 'Ghostblade.Tryndamere', 'thrives', 'thrills', 'combat', ',', 'increasing', 'Attack', 'Damage', 'wounded', '.', 'He', 'cast', 'Bloodlust', 'consume', 'Fury', 'heal', 'himself.Tryndamere', 'lets', 'insulting', 'cry', ',', 'decreasing', 'surrounding', 'champions', \"'\", 'Attack', 'Damage', '.', 'Enemies', 'backs', 'turned', 'Tryndamere', 'also', 'Movement', 'Speed', 'reduced.Tryndamere', 'slices', 'toward', 'target', 'unit', ',', 'dealing', 'damage', 'enemies', 'path.Tryndamere', \"'s\", 'lust', 'battle', 'becomes', 'strong', 'unable', 'die', ',', 'matter', 'wounded', 'becomes', '.']\n",
            "['Focus', 'on', 'dodging', 'Wild', 'Cards', 'early', 'when', 'your', 'champion', 'does', \"n't\", 'have', 'the', 'hit', 'points', 'to', 'afford', 'getting', 'hit', '.', 'If', 'you', 'have', 'low', 'Health', ',', 'use', 'Destiny', 'as', 'an', 'indicator', 'to', 'run', 'to', 'safety', '.', 'It', 'will', 'give', 'you', 'a', 'head', 'start', 'in', 'escaping', 'any', 'possible', 'ganks', '.', 'Coordinate', 'with', 'your', 'allies', 'for', 'the', 'best', 'time', 'to', 'use', 'Destiny', 'to', 'ambush', 'enemies', '.', 'Stealth', 'characters', 'often', 'escape', 'a', 'battle', 'with', 'very', 'low', 'hit', 'points', '.', 'Take', 'advantage', 'of', 'Destiny', \"'s\", 'ability', 'to', 'reveal', 'stealthed', 'units', 'to', 'finish', 'them', 'off', '.', 'Twisted', 'Fate', 'is', 'viable', 'as', 'an', 'Attack', 'Damage', 'or', 'Ability', 'Power', 'character', ',', 'letting', 'him', 'fit', 'on', 'many', 'different', 'team', 'compositions.Twisted', 'Fate', 'throws', 'three', 'cards', ',', 'dealing', 'damage', 'to', 'each', 'enemy', 'unit', 'they', 'pass', 'through.Twisted', 'Fate', 'chooses', 'a', 'magic', 'card', 'from', 'his', 'deck', ',', 'and', 'uses', 'that', 'for', 'his', 'next', 'attack', ',', 'causing', 'bonus', 'effects.Every', '4', 'attacks', ',', 'Twisted', 'Fate', 'deals', 'bonus', 'damage', '.', 'In', 'addition', ',', 'his', 'Attack', 'Speed', 'is', 'increased.Twisted', 'Fate', 'predicts', 'the', 'fortunes', 'of', 'his', 'foes', ',', 'revealing', 'all', 'enemy', 'champions', 'and', 'enabling', 'the', 'use', 'of', 'Gate', ',', 'which', 'teleports', 'Twisted', 'Fate', 'to', 'any', 'target', 'location', 'in', '1.5', 'seconds', '.'] \n",
            "\n",
            "['Focus', 'dodging', 'Wild', 'Cards', 'early', 'champion', \"n't\", 'hit', 'points', 'afford', 'getting', 'hit', '.', 'If', 'low', 'Health', ',', 'use', 'Destiny', 'indicator', 'run', 'safety', '.', 'It', 'give', 'head', 'start', 'escaping', 'possible', 'ganks', '.', 'Coordinate', 'allies', 'best', 'time', 'use', 'Destiny', 'ambush', 'enemies', '.', 'Stealth', 'characters', 'often', 'escape', 'battle', 'low', 'hit', 'points', '.', 'Take', 'advantage', 'Destiny', \"'s\", 'ability', 'reveal', 'stealthed', 'units', 'finish', '.', 'Twisted', 'Fate', 'viable', 'Attack', 'Damage', 'Ability', 'Power', 'character', ',', 'letting', 'fit', 'many', 'different', 'team', 'compositions.Twisted', 'Fate', 'throws', 'three', 'cards', ',', 'dealing', 'damage', 'enemy', 'unit', 'pass', 'through.Twisted', 'Fate', 'chooses', 'magic', 'card', 'deck', ',', 'uses', 'next', 'attack', ',', 'causing', 'bonus', 'effects.Every', '4', 'attacks', ',', 'Twisted', 'Fate', 'deals', 'bonus', 'damage', '.', 'In', 'addition', ',', 'Attack', 'Speed', 'increased.Twisted', 'Fate', 'predicts', 'fortunes', 'foes', ',', 'revealing', 'enemy', 'champions', 'enabling', 'use', 'Gate', ',', 'teleports', 'Twisted', 'Fate', 'target', 'location', '1.5', 'seconds', '.']\n",
            "['Twitch', 'is', 'fragile', '.', 'Work', 'with', 'teammates', 'to', 'focus', 'on', 'him', 'when', 'you', \"'re\", 'able', 'to', 'catch', 'him', 'out', 'of', 'Camouflage', '.', 'Spell', 'Shields', 'wo', \"n't\", 'block', 'the', 'damage', 'from', 'Deadly', 'Venom', ',', 'but', 'they', 'will', 'block', 'the', 'effects', 'Twitch', 'can', 'trigger', 'with', 'it', '.', 'If', 'you', 'suspect', 'Twitch', 'has', 'left', 'the', 'lane', ',', 'let', 'your', 'teammates', 'know', 'that', 'Twitch', 'is', '``', 'MIA', '.', \"''\", 'Twitch', \"'s\", 'Attack', 'Speed', 'is', 'among', 'the', 'highest', 'in', 'the', 'game', ';', 'try', 'purchasing', 'items', 'with', 'on-hit', 'effects', 'such', 'as', 'Black', 'Cleaver', 'or', 'Wit', \"'s\", 'End', '.', 'Contaminate', 'has', 'a', 'large', 'range', ';', 'apply', 'as', 'many', 'stacks', 'of', 'Deadly', 'Venom', 'as', 'possible', 'before', 'using', 'it', '.', 'You', 'can', 'catch', 'up', 'to', 'an', 'enemy', 'out', 'of', 'attack', 'range', 'with', 'Venom', 'Cask.Twitch', 'becomes', 'Camouflaged', 'for', 'a', 'short', 'duration', 'and', 'gains', 'Move', 'Speed', '.', 'When', 'leaving', 'Camouflage', ',', 'Twitch', 'gains', 'Attack', 'Speed', 'for', 'a', 'short', 'duration.When', 'an', 'enemy', 'champion', 'with', 'Deadly', 'Venom', 'dies', ',', 'Ambush', \"'s\", 'cooldown', 'is', 'reset.Twitch', 'hurls', 'a', 'cask', 'of', 'venom', 'that', 'explodes', 'in', 'an', 'area', ',', 'slowing', 'targets', 'and', 'applying', 'deadly', 'venom', 'to', 'the', 'target.Twitch', 'wreaks', 'further', 'havoc', 'on', 'poisoned', 'enemies', 'with', 'a', 'blast', 'of', 'his', 'vile', 'diseases.Twitch', 'unleashes', 'the', 'full', 'power', 'of', 'his', 'crossbow', ',', 'shooting', 'bolts', 'over', 'a', 'great', 'distance', 'that', 'pierce', 'all', 'enemies', 'caught', 'in', 'their', 'path', '.'] \n",
            "\n",
            "['Twitch', 'fragile', '.', 'Work', 'teammates', 'focus', \"'re\", 'able', 'catch', 'Camouflage', '.', 'Spell', 'Shields', 'wo', \"n't\", 'block', 'damage', 'Deadly', 'Venom', ',', 'block', 'effects', 'Twitch', 'trigger', '.', 'If', 'suspect', 'Twitch', 'left', 'lane', ',', 'let', 'teammates', 'know', 'Twitch', '``', 'MIA', '.', \"''\", 'Twitch', \"'s\", 'Attack', 'Speed', 'among', 'highest', 'game', ';', 'try', 'purchasing', 'items', 'on-hit', 'effects', 'Black', 'Cleaver', 'Wit', \"'s\", 'End', '.', 'Contaminate', 'large', 'range', ';', 'apply', 'many', 'stacks', 'Deadly', 'Venom', 'possible', 'using', '.', 'You', 'catch', 'enemy', 'attack', 'range', 'Venom', 'Cask.Twitch', 'becomes', 'Camouflaged', 'short', 'duration', 'gains', 'Move', 'Speed', '.', 'When', 'leaving', 'Camouflage', ',', 'Twitch', 'gains', 'Attack', 'Speed', 'short', 'duration.When', 'enemy', 'champion', 'Deadly', 'Venom', 'dies', ',', 'Ambush', \"'s\", 'cooldown', 'reset.Twitch', 'hurls', 'cask', 'venom', 'explodes', 'area', ',', 'slowing', 'targets', 'applying', 'deadly', 'venom', 'target.Twitch', 'wreaks', 'havoc', 'poisoned', 'enemies', 'blast', 'vile', 'diseases.Twitch', 'unleashes', 'full', 'power', 'crossbow', ',', 'shooting', 'bolts', 'great', 'distance', 'pierce', 'enemies', 'caught', 'path', '.']\n",
            "['Udyr', 'players', 'will', 'often', 'start', 'in', 'the', 'jungle', 'and', 'only', 'appear', 'to', 'gank', 'in', 'lanes', '.', 'Try', 'warding', 'key', 'locations', 'to', 'keep', 'track', 'of', 'his', 'movement', '.', 'Once', 'the', 'initial', 'shield', 'effect', 'has', 'faded', ',', 'Turtle', 'Stance', 'is', 'weak', 'against', 'other', 'champions', '.', 'Press', 'the', 'attack', 'to', 'force', 'him', 'to', 'switch', 'stances', 'and', 'prevent', 'him', 'from', 'regenerating', 'health', '.', 'Some', 'Udyr', 'players', 'buy', 'tank', 'items', 'to', 'become', 'very', 'durable', '.', 'If', 'they', 'do', ',', 'focus', 'their', 'weaker', 'teammates', 'instead', '.', 'Damage', 'is', 'applied', 'to', 'turtle', 'shield', 'post-mitigation', '.', 'Therefore', ',', 'buying', 'defensive', 'items', 'can', 'drastically', 'increase', 'your', 'survivability', '.', 'Udyr', 'is', 'one', 'of', 'the', 'best', 'junglers', 'in', 'the', 'game', '.', 'Taking', 'advantage', 'of', 'this', 'can', 'give', 'your', 'team', 'a', 'large', 'XP', 'advantage', 'and', 'map', 'control.Tiger', 'Stance', ':', 'Activation', '-', 'Udyr', \"'s\", 'Attack', 'Speed', 'is', 'increased', 'for', 'a', 'few', 'seconds', '.', 'Persistent', 'Effect', '-', 'Udyr', \"'s\", 'first', 'attack', 'and', 'every', 'third', 'attack', 'after', 'will', 'deal', 'a', 'high', 'amount', 'of', 'damage', 'over', '2', 'seconds.Turtle', 'Stance', ':', 'Activation', '-', 'Udyr', 'gains', 'a', 'temporary', 'shield', 'that', 'absorbs', 'damage', '.', 'Persistent', 'Effect', '-', 'Udyr', \"'s\", 'first', 'attack', 'and', 'every', 'third', 'attack', 'after', 'heals', 'him', 'for', '2.5', '%', 'of', 'his', 'maximum', 'health.Bear', 'Stance', ':', 'Activation', '-', 'Udyr', 'increases', 'Movement', 'Speed', 'for', 'a', 'short', 'duration', '.', 'Persistent', 'Effect', '-', 'Udyr', \"'s\", 'basic', 'attacks', 'stun', 'his', 'target', 'for', '1', 'second', '.', 'This', 'effect', 'can', 'not', 'occur', 'on', 'the', 'same', 'target', 'for', 'several', 'seconds.Phoenix', 'Stance', ':', 'Activation', '-', 'Udyr', 'unleashes', 'pulsing', 'waves', 'of', 'fire', ',', 'dealing', 'damage', 'to', 'nearby', 'enemies', '.', 'Persistent', 'Effect', '-', 'Udyr', \"'s\", 'first', 'attack', 'and', 'every', 'third', 'attack', 'after', 'engulfs', 'enemies', 'in', 'front', 'of', 'him', 'with', 'flames', '.'] \n",
            "\n",
            "['Udyr', 'players', 'often', 'start', 'jungle', 'appear', 'gank', 'lanes', '.', 'Try', 'warding', 'key', 'locations', 'keep', 'track', 'movement', '.', 'Once', 'initial', 'shield', 'effect', 'faded', ',', 'Turtle', 'Stance', 'weak', 'champions', '.', 'Press', 'attack', 'force', 'switch', 'stances', 'prevent', 'regenerating', 'health', '.', 'Some', 'Udyr', 'players', 'buy', 'tank', 'items', 'become', 'durable', '.', 'If', ',', 'focus', 'weaker', 'teammates', 'instead', '.', 'Damage', 'applied', 'turtle', 'shield', 'post-mitigation', '.', 'Therefore', ',', 'buying', 'defensive', 'items', 'drastically', 'increase', 'survivability', '.', 'Udyr', 'one', 'best', 'junglers', 'game', '.', 'Taking', 'advantage', 'give', 'team', 'large', 'XP', 'advantage', 'map', 'control.Tiger', 'Stance', ':', 'Activation', '-', 'Udyr', \"'s\", 'Attack', 'Speed', 'increased', 'seconds', '.', 'Persistent', 'Effect', '-', 'Udyr', \"'s\", 'first', 'attack', 'every', 'third', 'attack', 'deal', 'high', 'amount', 'damage', '2', 'seconds.Turtle', 'Stance', ':', 'Activation', '-', 'Udyr', 'gains', 'temporary', 'shield', 'absorbs', 'damage', '.', 'Persistent', 'Effect', '-', 'Udyr', \"'s\", 'first', 'attack', 'every', 'third', 'attack', 'heals', '2.5', '%', 'maximum', 'health.Bear', 'Stance', ':', 'Activation', '-', 'Udyr', 'increases', 'Movement', 'Speed', 'short', 'duration', '.', 'Persistent', 'Effect', '-', 'Udyr', \"'s\", 'basic', 'attacks', 'stun', 'target', '1', 'second', '.', 'This', 'effect', 'occur', 'target', 'several', 'seconds.Phoenix', 'Stance', ':', 'Activation', '-', 'Udyr', 'unleashes', 'pulsing', 'waves', 'fire', ',', 'dealing', 'damage', 'nearby', 'enemies', '.', 'Persistent', 'Effect', '-', 'Udyr', \"'s\", 'first', 'attack', 'every', 'third', 'attack', 'engulfs', 'enemies', 'front', 'flames', '.']\n",
            "['Urgot', 'relies', 'heavily', 'on', 'blasting', 'opponents', 'with', 'his', 'legs', ',', 'which', 'have', 'their', 'own', 'cooldowns', 'and', 'only', 'detonate', 'when', 'he', 'attacks', 'in', 'the', 'direction', 'they', 'are', 'facing', '.', 'Avoid', 'getting', 'hit', 'by', 'multiple', '.', 'Urgot', 'can', 'deal', 'and', 'absorb', 'tremendous', 'amounts', 'of', 'damage', 'with', 'Purge', ',', 'but', 'slows', 'himself', 'while', 'firing', '.', 'If', 'you', 'are', 'struck', 'by', 'Fear', 'Beyond', 'Death', ',', 'do', 'your', 'best', 'to', 'avoid', 'falling', 'below', 'the', 'execution', 'threshold', '(', '25', '%', 'of', 'your', 'Maximum', 'Health', ')', 'until', 'the', 'effect', 'times', 'out', '.', 'Pay', 'attention', 'to', 'your', 'individual', 'leg', \"'s\", 'cooldowns', ',', 'as', 'they', 'make', 'for', 'a', 'signficiant', 'portion', 'of', 'your', 'damage', 'Land', 'Corrosive', 'Charge', 'or', 'Disdain', 'to', 'lock', 'on', 'to', 'target', \"'s\", 'with', 'Purge', '-', 'a', 'great', 'way', 'to', 'trigger', 'multiple', 'legs', 'in', 'rapid', 'succession', '.', 'Save', 'Fear', 'Beyond', 'Death', 'for', 'opponents', 'you', 'know', 'are', 'already', 'too', 'weak', 'to', 'survive', '.', 'It', \"'s\", 'especially', 'good', 'for', 'picking', 'off', 'fleeing', 'foes.Fires', 'an', 'explosive', 'charge', 'at', 'the', 'target', 'location', ',', 'dealing', 'physical', 'damage', 'and', 'slowing', 'enemies', 'caught', 'in', 'the', 'explosion.Urgot', 'slows', 'himself', 'while', 'he', 'unloads', 'his', 'weapon', 'on', 'nearby', 'enemies', '.', 'Prioritizes', 'enemy', 'champions', 'Urgot', 'has', 'recently', 'struck', 'with', 'other', 'abilities', 'and', 'triggers', 'Echoing', 'Flames.Urgot', 'charges', 'in', 'a', 'direction', ',', 'shielding', 'himself', 'and', 'trampling', 'non-champion', 'enemies', '.', 'If', 'he', 'catches', 'an', 'enemy', 'champion', ',', 'he', 'will', 'stop', 'and', 'hurl', 'them', 'out', 'of', 'his', 'way.Urgot', 'fires', 'a', 'chem-drill', 'that', 'impales', 'the', 'first', 'enemy', 'champion', 'hit', '.', 'If', 'that', 'champion', 'falls', 'below', 'a', 'health', 'threshold', ',', 'Urgot', 'judges', 'them', 'weak', 'and', 'can', 'execute', 'them', '.'] \n",
            "\n",
            "['Urgot', 'relies', 'heavily', 'blasting', 'opponents', 'legs', ',', 'cooldowns', 'detonate', 'attacks', 'direction', 'facing', '.', 'Avoid', 'getting', 'hit', 'multiple', '.', 'Urgot', 'deal', 'absorb', 'tremendous', 'amounts', 'damage', 'Purge', ',', 'slows', 'firing', '.', 'If', 'struck', 'Fear', 'Beyond', 'Death', ',', 'best', 'avoid', 'falling', 'execution', 'threshold', '(', '25', '%', 'Maximum', 'Health', ')', 'effect', 'times', '.', 'Pay', 'attention', 'individual', 'leg', \"'s\", 'cooldowns', ',', 'make', 'signficiant', 'portion', 'damage', 'Land', 'Corrosive', 'Charge', 'Disdain', 'lock', 'target', \"'s\", 'Purge', '-', 'great', 'way', 'trigger', 'multiple', 'legs', 'rapid', 'succession', '.', 'Save', 'Fear', 'Beyond', 'Death', 'opponents', 'know', 'already', 'weak', 'survive', '.', 'It', \"'s\", 'especially', 'good', 'picking', 'fleeing', 'foes.Fires', 'explosive', 'charge', 'target', 'location', ',', 'dealing', 'physical', 'damage', 'slowing', 'enemies', 'caught', 'explosion.Urgot', 'slows', 'unloads', 'weapon', 'nearby', 'enemies', '.', 'Prioritizes', 'enemy', 'champions', 'Urgot', 'recently', 'struck', 'abilities', 'triggers', 'Echoing', 'Flames.Urgot', 'charges', 'direction', ',', 'shielding', 'trampling', 'non-champion', 'enemies', '.', 'If', 'catches', 'enemy', 'champion', ',', 'stop', 'hurl', 'way.Urgot', 'fires', 'chem-drill', 'impales', 'first', 'enemy', 'champion', 'hit', '.', 'If', 'champion', 'falls', 'health', 'threshold', ',', 'Urgot', 'judges', 'weak', 'execute', '.']\n",
            "['If', 'you', 'are', 'affected', 'by', 'Blight', ',', 'Varus', \"'\", 'abilities', 'will', 'deal', 'extra', 'damage', 'to', 'you', '.', 'When', 'he', 'gets', 'a', 'kill', 'or', 'assist', ',', 'Varus', 'temporarily', 'gains', 'Attack', 'Speed', 'and', 'is', 'much', 'more', 'dangerous', '.', 'You', \"'ll\", 'get', 'bound', 'in', 'place', 'if', 'a', 'tendril', 'from', 'Varus', \"'\", 'ultimate', ',', 'Chain', 'of', 'Corruption', ',', 'reaches', 'you', '.', 'You', 'can', 'cause', 'the', 'tendril', 'to', 'die', 'however', 'by', 'running', 'far', 'enough', 'away', 'from', 'it', '.', 'An', 'early', 'point', 'in', 'Blighted', 'Quiver', 'helps', 'harass', 'enemy', 'champions', 'and', 'get', 'killing', 'blows', 'on', 'minions', '.', 'During', 'short', 'range', 'fights', 'it', \"'s\", 'sometimes', 'best', 'to', 'fire', 'Piercing', 'Arrow', 'quickly', ',', 'rather', 'than', 'charging', 'it', 'to', 'full', 'power', '.', 'Try', 'to', 'take', 'advantage', 'of', 'Piercing', 'Arrow', \"'s\", 'very', 'long', 'range', 'to', 'snipe', 'at', 'enemy', 'champions', 'before', 'a', 'fight', 'or', 'as', 'they', \"'re\", 'trying', 'to', 'flee.Varus', 'readies', 'and', 'then', 'fires', 'a', 'powerful', 'shot', 'that', 'gains', 'extra', 'range', 'and', 'damage', 'the', 'longer', 'he', 'spends', 'preparing', 'to', 'fire.Passive', ':', 'Varus', \"'\", 'basic', 'attacks', 'deal', 'bonus', 'magic', 'damage', 'and', 'apply', 'Blight', '.', 'Varus', \"'\", 'other', 'abilities', 'detonate', 'Blight', ',', 'dealing', 'magic', 'damage', 'based', 'on', 'the', 'target', \"'s\", 'maximum', 'Health', '.', 'Active', ':', 'Varus', 'empowers', 'his', 'next', 'Piercing', 'Arrow.Varus', 'fires', 'a', 'hail', 'of', 'arrows', 'that', 'deal', 'physical', 'damage', 'and', 'desecrate', 'the', 'ground', '.', 'Desecrated', 'ground', 'slows', 'enemies', \"'\", 'Movement', 'Speed', 'and', 'reduces', 'their', 'self', 'healing', 'and', 'regeneration.Varus', 'flings', 'out', 'a', 'damaging', 'tendril', 'of', 'corruption', 'that', 'immobilizes', 'the', 'first', 'enemy', 'champion', 'hit', 'and', 'then', 'spreads', 'towards', 'nearby', 'uninfected', 'champions', ',', 'immobilizing', 'them', 'too', 'on', 'contact', '.'] \n",
            "\n",
            "['If', 'affected', 'Blight', ',', 'Varus', \"'\", 'abilities', 'deal', 'extra', 'damage', '.', 'When', 'gets', 'kill', 'assist', ',', 'Varus', 'temporarily', 'gains', 'Attack', 'Speed', 'much', 'dangerous', '.', 'You', \"'ll\", 'get', 'bound', 'place', 'tendril', 'Varus', \"'\", 'ultimate', ',', 'Chain', 'Corruption', ',', 'reaches', '.', 'You', 'cause', 'tendril', 'die', 'however', 'running', 'far', 'enough', 'away', '.', 'An', 'early', 'point', 'Blighted', 'Quiver', 'helps', 'harass', 'enemy', 'champions', 'get', 'killing', 'blows', 'minions', '.', 'During', 'short', 'range', 'fights', \"'s\", 'sometimes', 'best', 'fire', 'Piercing', 'Arrow', 'quickly', ',', 'rather', 'charging', 'full', 'power', '.', 'Try', 'take', 'advantage', 'Piercing', 'Arrow', \"'s\", 'long', 'range', 'snipe', 'enemy', 'champions', 'fight', \"'re\", 'trying', 'flee.Varus', 'readies', 'fires', 'powerful', 'shot', 'gains', 'extra', 'range', 'damage', 'longer', 'spends', 'preparing', 'fire.Passive', ':', 'Varus', \"'\", 'basic', 'attacks', 'deal', 'bonus', 'magic', 'damage', 'apply', 'Blight', '.', 'Varus', \"'\", 'abilities', 'detonate', 'Blight', ',', 'dealing', 'magic', 'damage', 'based', 'target', \"'s\", 'maximum', 'Health', '.', 'Active', ':', 'Varus', 'empowers', 'next', 'Piercing', 'Arrow.Varus', 'fires', 'hail', 'arrows', 'deal', 'physical', 'damage', 'desecrate', 'ground', '.', 'Desecrated', 'ground', 'slows', 'enemies', \"'\", 'Movement', 'Speed', 'reduces', 'self', 'healing', 'regeneration.Varus', 'flings', 'damaging', 'tendril', 'corruption', 'immobilizes', 'first', 'enemy', 'champion', 'hit', 'spreads', 'towards', 'nearby', 'uninfected', 'champions', ',', 'immobilizing', 'contact', '.']\n",
            "['Vayne', 'is', 'fragile', '-', 'turn', 'the', 'pressure', 'up', 'on', 'her', 'and', 'she', 'will', 'be', 'forced', 'to', 'play', 'cautiously', '.', 'Deny', 'Vayne', 'the', 'opportunity', 'to', 'pin', 'you', 'against', 'walls', '.', 'Tumble', 'has', 'many', 'uses', ',', 'but', 'it', 'can', 'not', 'pass', 'over', 'walls', '.', 'Condemn', 'can', 'be', 'used', 'to', 'both', 'pin', 'targets', 'to', 'walls', 'to', 'ensure', 'a', 'kill', ',', 'or', 'to', 'escape', 'a', 'pursuer', '.', 'Do', \"n't\", 'go', 'in', 'first', 'to', 'a', 'large', 'teamfight', '.', 'Wait', 'for', 'your', 'teammates', 'to', 'initiate.Vayne', 'tumbles', ',', 'maneuvering', 'to', 'carefully', 'place', 'her', 'next', 'shot', '.', 'Her', 'next', 'attack', 'deals', 'bonus', 'damage.Vayne', 'tips', 'her', 'bolts', 'with', 'a', 'rare', 'metal', ',', 'toxic', 'to', 'evil', 'things', '.', 'The', 'third', 'consecutive', 'attack', 'or', 'ability', 'against', 'the', 'same', 'target', 'deals', 'a', 'percentage', 'of', 'the', 'target', \"'s\", 'max', 'health', 'as', 'bonus', 'true', 'damage.Vayne', 'draws', 'a', 'heavy', 'crossbow', 'from', 'her', 'back', ',', 'and', 'fires', 'a', 'huge', 'bolt', 'at', 'her', 'target', ',', 'knocking', 'them', 'back', 'and', 'dealing', 'damage', '.', 'If', 'they', 'collide', 'with', 'terrain', ',', 'they', 'are', 'impaled', ',', 'dealing', 'bonus', 'damage', 'and', 'stunning', 'them.Readying', 'herself', 'for', 'an', 'epic', 'confrontation', ',', 'Vayne', 'gains', 'increased', 'Attack', 'Damage', ',', 'Invisibility', 'during', 'Tumble', ',', 'reduced', 'Tumble', 'cooldown', ',', 'and', 'more', 'bonus', 'Movement', 'Speed', 'from', 'Night', 'Hunter'] \n",
            "\n",
            "['Vayne', 'fragile', '-', 'turn', 'pressure', 'forced', 'play', 'cautiously', '.', 'Deny', 'Vayne', 'opportunity', 'pin', 'walls', '.', 'Tumble', 'many', 'uses', ',', 'pass', 'walls', '.', 'Condemn', 'used', 'pin', 'targets', 'walls', 'ensure', 'kill', ',', 'escape', 'pursuer', '.', 'Do', \"n't\", 'go', 'first', 'large', 'teamfight', '.', 'Wait', 'teammates', 'initiate.Vayne', 'tumbles', ',', 'maneuvering', 'carefully', 'place', 'next', 'shot', '.', 'Her', 'next', 'attack', 'deals', 'bonus', 'damage.Vayne', 'tips', 'bolts', 'rare', 'metal', ',', 'toxic', 'evil', 'things', '.', 'The', 'third', 'consecutive', 'attack', 'ability', 'target', 'deals', 'percentage', 'target', \"'s\", 'max', 'health', 'bonus', 'true', 'damage.Vayne', 'draws', 'heavy', 'crossbow', 'back', ',', 'fires', 'huge', 'bolt', 'target', ',', 'knocking', 'back', 'dealing', 'damage', '.', 'If', 'collide', 'terrain', ',', 'impaled', ',', 'dealing', 'bonus', 'damage', 'stunning', 'them.Readying', 'epic', 'confrontation', ',', 'Vayne', 'gains', 'increased', 'Attack', 'Damage', ',', 'Invisibility', 'Tumble', ',', 'reduced', 'Tumble', 'cooldown', ',', 'bonus', 'Movement', 'Speed', 'Night', 'Hunter']\n",
            "['Dark', 'Matter', 'deals', 'very', 'high', 'damage', ',', 'but', 'it', 'can', 'be', 'avoided', '.', 'Pay', 'attention', 'to', 'the', 'sound', 'and', 'visual', 'indicator', 'to', 'be', 'aware', 'of', 'when', 'and', 'where', 'the', 'spell', 'will', 'land', '.', 'Event', 'Horizon', 'only', 'stuns', 'units', 'on', 'the', 'edge', '.', 'If', 'you', \"'re\", 'inside', 'the', 'spell', ',', 'you', 'can', 'still', 'move', 'and', 'attack', '.', 'Veigar', \"'s\", 'ultimate', 'deals', 'increased', 'damage', 'based', 'on', 'your', 'missing', 'health', '.', 'Use', 'Event', 'Horizon', 'to', 'increase', 'your', 'chances', 'of', 'landing', 'Dark', 'Matter', '.', 'Veigar', 'is', 'extremely', 'Mana', 'and', 'Cooldown', 'Reduction', 'dependent', '.', 'Try', 'buying', 'items', 'with', 'these', 'stats', 'in', 'order', 'to', 'increase', 'the', 'effectiveness', 'of', 'your', 'passive', 'and', 'Baleful', 'Strike', '.', 'Veigar', 'is', 'very', 'fragile', '.', 'It', 'is', 'valuable', 'to', 'select', 'at', 'least', 'one', 'summoner', 'spell', 'that', 'can', 'be', 'used', 'defensively.Veigar', 'unleashes', 'a', 'bolt', 'of', 'dark', 'energy', 'that', 'deals', 'magic', 'damage', 'to', 'the', 'first', 'two', 'enemies', 'hit', '.', 'Units', 'killed', 'by', 'this', 'bolt', 'grant', 'Veigar', 'some', 'ability', 'power', 'permanently.Veigar', 'calls', 'a', 'great', 'mass', 'of', 'dark', 'matter', 'to', 'fall', 'from', 'the', 'sky', 'to', 'the', 'target', 'location', ',', 'dealing', 'magic', 'damage', 'when', 'it', 'lands', '.', 'Stacks', 'of', 'Phenomenal', 'Evil', 'reduce', 'Dark', 'Matter', \"'s\", 'cooldown.Veigar', 'twists', 'the', 'edges', 'of', 'space', ',', 'creating', 'a', 'cage', 'that', 'Stuns', 'enemies', 'that', 'pass', 'through.Blasts', 'target', 'enemy', 'champion', ',', 'dealing', 'a', 'large', 'amount', 'of', 'magic', 'damage', ',', 'increasing', 'based', 'on', 'the', 'target', \"'s\", 'missing', 'health', '.'] \n",
            "\n",
            "['Dark', 'Matter', 'deals', 'high', 'damage', ',', 'avoided', '.', 'Pay', 'attention', 'sound', 'visual', 'indicator', 'aware', 'spell', 'land', '.', 'Event', 'Horizon', 'stuns', 'units', 'edge', '.', 'If', \"'re\", 'inside', 'spell', ',', 'still', 'move', 'attack', '.', 'Veigar', \"'s\", 'ultimate', 'deals', 'increased', 'damage', 'based', 'missing', 'health', '.', 'Use', 'Event', 'Horizon', 'increase', 'chances', 'landing', 'Dark', 'Matter', '.', 'Veigar', 'extremely', 'Mana', 'Cooldown', 'Reduction', 'dependent', '.', 'Try', 'buying', 'items', 'stats', 'order', 'increase', 'effectiveness', 'passive', 'Baleful', 'Strike', '.', 'Veigar', 'fragile', '.', 'It', 'valuable', 'select', 'least', 'one', 'summoner', 'spell', 'used', 'defensively.Veigar', 'unleashes', 'bolt', 'dark', 'energy', 'deals', 'magic', 'damage', 'first', 'two', 'enemies', 'hit', '.', 'Units', 'killed', 'bolt', 'grant', 'Veigar', 'ability', 'power', 'permanently.Veigar', 'calls', 'great', 'mass', 'dark', 'matter', 'fall', 'sky', 'target', 'location', ',', 'dealing', 'magic', 'damage', 'lands', '.', 'Stacks', 'Phenomenal', 'Evil', 'reduce', 'Dark', 'Matter', \"'s\", 'cooldown.Veigar', 'twists', 'edges', 'space', ',', 'creating', 'cage', 'Stuns', 'enemies', 'pass', 'through.Blasts', 'target', 'enemy', 'champion', ',', 'dealing', 'large', 'amount', 'magic', 'damage', ',', 'increasing', 'based', 'target', \"'s\", 'missing', 'health', '.']\n",
            "[\"Vel'Koz\", 'is', 'very', 'dangerous', 'if', 'left', 'alone', 'in', 'a', 'fight', '.', 'Try', 'to', 'focus', 'him', 'down', 'early', '.', \"Vel'Koz\", 'has', 'fairly', 'low', 'mobility', 'and', 'is', 'vulnerable', 'to', 'ganks', '.', 'Life', 'Form', 'Disintegration', 'Ray', 'can', 'be', 'interrupted', 'by', 'stuns', ',', 'silences', 'and', 'knockups', '.', 'When', 'laning', ',', 'use', 'Void', 'Rift', 'to', 'kill', 'minions', 'while', 'building', 'stacks', 'of', 'Organic', 'Deconstruction', 'on', 'your', 'opponent', '.', 'You', 'can', 'then', 'follow', 'up', 'with', 'your', 'other', 'abilities', '.', 'Shooting', 'Plasma', 'Fission', 'diagonally', 'and', 'splitting', 'at', 'maximum', 'range', 'allows', 'you', 'to', 'hit', 'opponents', 'that', 'are', 'out', 'of', 'the', 'range', 'of', 'the', 'initial', 'missile', ',', 'but', 'is', 'more', 'challenging', 'to', 'pull', 'off', '.', 'Be', 'very', 'careful', 'about', 'when', 'to', 'use', 'Life', 'Form', 'Disintegration', 'Ray', '.', 'Many', 'champions', 'have', 'abilities', 'that', 'can', 'interrupt', 'the', \"spell.Vel'Koz\", 'shoots', 'a', 'bolt', 'of', 'plasma', 'that', 'splits', 'in', 'two', 'on', 'reactivation', 'or', 'upon', 'hitting', 'an', 'enemy', '.', 'The', 'bolt', 'slows', 'and', 'damages', 'on', \"hit.Vel'Koz\", 'opens', 'a', 'rift', 'to', 'the', 'void', 'that', 'deals', 'an', 'initial', 'burst', 'of', 'damage', ',', 'then', 'explodes', 'for', 'a', 'second', 'burst', 'of', 'damage', 'after', 'a', \"delay.Vel'Koz\", 'causes', 'an', 'area', 'to', 'explode', ',', 'knocking', 'up', 'enemies', ',', 'and', 'knocking', 'close', 'enemies', 'slightly', \"away.Vel'Koz\", 'unleashes', 'a', 'channelled', 'beam', 'that', 'follows', 'the', 'cursor', 'for', '2.5', 'seconds', 'that', 'deals', 'magic', 'damage', '.', 'Organic', 'Deconstruction', 'Researches', 'enemy', 'champions', 'causing', 'them', 'to', 'take', 'true', 'damage', 'instead', '.'] \n",
            "\n",
            "[\"Vel'Koz\", 'dangerous', 'left', 'alone', 'fight', '.', 'Try', 'focus', 'early', '.', \"Vel'Koz\", 'fairly', 'low', 'mobility', 'vulnerable', 'ganks', '.', 'Life', 'Form', 'Disintegration', 'Ray', 'interrupted', 'stuns', ',', 'silences', 'knockups', '.', 'When', 'laning', ',', 'use', 'Void', 'Rift', 'kill', 'minions', 'building', 'stacks', 'Organic', 'Deconstruction', 'opponent', '.', 'You', 'follow', 'abilities', '.', 'Shooting', 'Plasma', 'Fission', 'diagonally', 'splitting', 'maximum', 'range', 'allows', 'hit', 'opponents', 'range', 'initial', 'missile', ',', 'challenging', 'pull', '.', 'Be', 'careful', 'use', 'Life', 'Form', 'Disintegration', 'Ray', '.', 'Many', 'champions', 'abilities', 'interrupt', \"spell.Vel'Koz\", 'shoots', 'bolt', 'plasma', 'splits', 'two', 'reactivation', 'upon', 'hitting', 'enemy', '.', 'The', 'bolt', 'slows', 'damages', \"hit.Vel'Koz\", 'opens', 'rift', 'void', 'deals', 'initial', 'burst', 'damage', ',', 'explodes', 'second', 'burst', 'damage', \"delay.Vel'Koz\", 'causes', 'area', 'explode', ',', 'knocking', 'enemies', ',', 'knocking', 'close', 'enemies', 'slightly', \"away.Vel'Koz\", 'unleashes', 'channelled', 'beam', 'follows', 'cursor', '2.5', 'seconds', 'deals', 'magic', 'damage', '.', 'Organic', 'Deconstruction', 'Researches', 'enemy', 'champions', 'causing', 'take', 'true', 'damage', 'instead', '.']\n",
            "['A', 'fully', 'charged', 'Vault', 'breaker', 'deals', 'double', 'damage', '.', 'If', 'you', 'see', 'Vi', 'start', 'to', 'charge', 'you', 'should', 'back', 'off', 'or', 'try', 'to', 'dodge', 'it', '.', 'Vi', 'will', 'shred', 'your', 'Armor', 'and', 'gain', 'Attack', 'Speed', 'if', 'she', 'manages', 'to', 'hit', 'you', 'three', 'times', 'in', 'a', 'row', '.', 'Try', 'not', 'to', 'engage', 'in', 'extended', 'brawls', 'with', 'her', '.', 'Vi', 'can', 'not', 'be', 'stopped', 'while', 'using', 'her', 'ult', '.', 'Remember', 'to', 'save', 'your', 'displacement', 'effects', 'until', 'after', 'she', \"'s\", 'done', 'charging', '.', 'A', 'fully', 'charged', 'Vault', 'Breaker', 'will', 'deal', 'double', 'damage', '.', 'It', \"'s\", 'great', 'for', 'catching', 'and', 'finishing', 'off', 'fleeing', 'enemies', '.', 'Excessive', 'Force', 'does', 'full', 'damage', 'to', 'anyone', 'caught', 'in', 'the', 'shockwave', '.', 'Use', 'it', 'on', 'minions', 'in', 'lane', 'to', 'hit', 'enemies', 'hiding', 'behind', 'them', '.', 'Assault', 'and', 'Battery', 'is', 'a', 'powerful', 'initiation', 'tool', ',', 'just', 'remember', 'not', 'to', 'get', 'too', 'far', 'ahead', 'of', 'the', 'rest', 'of', 'your', 'team.Vi', 'charges', 'her', 'gauntlets', 'and', 'unleashes', 'a', 'vault', 'shattering', 'punch', ',', 'carrying', 'her', 'forward', '.', 'Enemies', 'she', 'hits', 'are', 'knocked', 'back', 'and', 'receive', 'a', 'stack', 'of', 'Denting', 'Blows.Vi', \"'s\", 'punches', 'break', 'her', 'opponent', \"'s\", 'Armor', ',', 'dealing', 'bonus', 'damage', 'and', 'granting', 'her', 'Attack', 'Speed.Vi', \"'s\", 'next', 'attack', 'blasts', 'through', 'her', 'target', ',', 'dealing', 'damage', 'to', 'enemies', 'behind', 'it.Vi', 'runs', 'down', 'an', 'enemy', ',', 'knocking', 'aside', 'anyone', 'in', 'the', 'way', '.', 'When', 'she', 'reaches', 'her', 'target', 'she', 'knocks', 'it', 'into', 'the', 'air', ',', 'jumps', 'after', 'it', ',', 'and', 'slams', 'it', 'back', 'into', 'the', 'ground', '.'] \n",
            "\n",
            "['A', 'fully', 'charged', 'Vault', 'breaker', 'deals', 'double', 'damage', '.', 'If', 'see', 'Vi', 'start', 'charge', 'back', 'try', 'dodge', '.', 'Vi', 'shred', 'Armor', 'gain', 'Attack', 'Speed', 'manages', 'hit', 'three', 'times', 'row', '.', 'Try', 'engage', 'extended', 'brawls', '.', 'Vi', 'stopped', 'using', 'ult', '.', 'Remember', 'save', 'displacement', 'effects', \"'s\", 'done', 'charging', '.', 'A', 'fully', 'charged', 'Vault', 'Breaker', 'deal', 'double', 'damage', '.', 'It', \"'s\", 'great', 'catching', 'finishing', 'fleeing', 'enemies', '.', 'Excessive', 'Force', 'full', 'damage', 'anyone', 'caught', 'shockwave', '.', 'Use', 'minions', 'lane', 'hit', 'enemies', 'hiding', 'behind', '.', 'Assault', 'Battery', 'powerful', 'initiation', 'tool', ',', 'remember', 'get', 'far', 'ahead', 'rest', 'team.Vi', 'charges', 'gauntlets', 'unleashes', 'vault', 'shattering', 'punch', ',', 'carrying', 'forward', '.', 'Enemies', 'hits', 'knocked', 'back', 'receive', 'stack', 'Denting', 'Blows.Vi', \"'s\", 'punches', 'break', 'opponent', \"'s\", 'Armor', ',', 'dealing', 'bonus', 'damage', 'granting', 'Attack', 'Speed.Vi', \"'s\", 'next', 'attack', 'blasts', 'target', ',', 'dealing', 'damage', 'enemies', 'behind', 'it.Vi', 'runs', 'enemy', ',', 'knocking', 'aside', 'anyone', 'way', '.', 'When', 'reaches', 'target', 'knocks', 'air', ',', 'jumps', ',', 'slams', 'back', 'ground', '.']\n",
            "['Viego', \"'s\", 'spectral', 'blade', 'passively', 'deals', 'bonus', 'percent', 'current', 'Health', 'damage', 'On-Hit', 'and', 'strikes', 'twice', 'vs.', 'enemies', 'he', 'recently', 'hit', 'with', 'an', 'Ability', ',', 'stealing', 'Health.Viego', 'can', 'activate', 'this', 'Ability', 'to', 'thrust', 'his', 'zweihander', 'forward', ',', 'impaling', 'enemies', 'in', 'front', 'of', 'him.Viego', 'charges', 'up', 'before', 'dashing', 'forward', ',', 'releasing', 'a', 'ball', 'of', 'concentrated', 'Black', 'Mist', 'that', 'stuns', 'the', 'first', 'enemy', 'hit.Viego', 'commands', 'the', 'Black', 'Mist', 'to', 'haunt', 'and', 'surround', 'a', 'piece', 'of', 'terrain', '.', 'Viego', 'can', 'hide', 'in', 'the', 'Mist', 'as', 'a', 'wraith', ',', 'gaining', 'camouflage', ',', 'Move', 'Speed', ',', 'and', 'Attack', 'Speed.Viego', 'teleports', 'to', 'a', 'nearby', 'location', 'and', 'executes', 'an', 'enemy', 'champion', 'on', 'arrival', ',', 'piercing', 'their', 'heart', 'and', 'causing', 'a', 'destructive', 'shockwave', 'around', 'them', 'that', 'knocks', 'away', 'their', 'allies', '.'] \n",
            "\n",
            "['Viego', \"'s\", 'spectral', 'blade', 'passively', 'deals', 'bonus', 'percent', 'current', 'Health', 'damage', 'On-Hit', 'strikes', 'twice', 'vs.', 'enemies', 'recently', 'hit', 'Ability', ',', 'stealing', 'Health.Viego', 'activate', 'Ability', 'thrust', 'zweihander', 'forward', ',', 'impaling', 'enemies', 'front', 'him.Viego', 'charges', 'dashing', 'forward', ',', 'releasing', 'ball', 'concentrated', 'Black', 'Mist', 'stuns', 'first', 'enemy', 'hit.Viego', 'commands', 'Black', 'Mist', 'haunt', 'surround', 'piece', 'terrain', '.', 'Viego', 'hide', 'Mist', 'wraith', ',', 'gaining', 'camouflage', ',', 'Move', 'Speed', ',', 'Attack', 'Speed.Viego', 'teleports', 'nearby', 'location', 'executes', 'enemy', 'champion', 'arrival', ',', 'piercing', 'heart', 'causing', 'destructive', 'shockwave', 'around', 'knocks', 'away', 'allies', '.']\n",
            "['Be', 'careful', 'about', 'how', 'close', 'you', 'let', 'Viktor', 'get', 'to', 'you', '.', 'Viktor', \"'s\", 'control', 'of', 'the', 'battlefield', 'increases', 'with', 'his', 'proximity', 'to', 'his', 'opponent', '.', 'Be', 'aware', 'of', 'how', 'many', 'augments', 'Viktor', 'has', 'upgraded', 'by', 'looking', 'at', 'the', 'color', 'of', 'the', 'light', 'on', 'his', 'staff', '(', 'purple', ',', 'yellow', ',', 'blue', ',', 'red', ')', '.', 'Death', 'Ray', 'is', 'a', 'powerful', 'poke', 'and', 'a', 'strong', 'area', 'of', 'denial', 'tool', '.', 'Use', 'it', 'in', 'combination', 'with', 'Gravity', 'Field', 'to', 'control', 'your', 'enemy', \"'s\", 'position', '.', 'Make', 'sure', 'you', 'choose', 'the', 'right', 'augment', 'at', 'the', 'right', 'time.Viktor', 'blasts', 'an', 'enemy', 'unit', 'dealing', 'magic', 'damage', ',', 'gaining', 'a', 'shield', 'and', 'empowering', 'his', 'next', 'basic', 'attack.Augment', ':', 'Siphon', 'Power', \"'s\", 'shield', 'is', 'increased', 'by', '60', '%', 'and', 'Viktor', 'gains', 'bonus', 'Movement', 'Speed', 'after', 'casting.Viktor', 'conjures', 'a', 'heavy', 'gravitational', 'field', 'that', 'slows', 'enemies', 'in', 'its', 'radius', '.', 'Enemies', 'who', 'stay', 'within', 'the', 'device', 'for', 'too', 'long', 'are', 'stunned.Augment', ':', 'Viktor', \"'s\", 'non-periodic', 'spells', 'apply', 'a', 'slow', 'to', 'enemies.Viktor', 'uses', 'his', 'robotic', 'arm', 'to', 'fire', 'a', 'chaos', 'beam', 'that', 'cuts', 'across', 'the', 'field', 'in', 'a', 'line', ',', 'dealing', 'damage', 'to', 'all', 'enemies', 'in', 'its', 'path.Augment', ':', 'An', 'explosion', 'follows', 'the', 'Death', 'Ray', \"'s\", 'wake', ',', 'dealing', 'magic', 'damage.Viktor', 'conjures', 'a', 'singularity', 'on', 'the', 'field', 'which', 'deals', 'magic', 'damage', 'and', 'interrupts', 'enemy', 'channels', '.', 'The', 'singularity', 'then', 'periodically', 'does', 'magic', 'damage', 'to', 'all', 'nearby', 'enemies', '.', 'Viktor', 'can', 'redirect', 'the', 'singularity.Augment', ':', 'The', 'Chaos', 'Storm', 'moves', '25', '%', 'faster', '.'] \n",
            "\n",
            "['Be', 'careful', 'close', 'let', 'Viktor', 'get', '.', 'Viktor', \"'s\", 'control', 'battlefield', 'increases', 'proximity', 'opponent', '.', 'Be', 'aware', 'many', 'augments', 'Viktor', 'upgraded', 'looking', 'color', 'light', 'staff', '(', 'purple', ',', 'yellow', ',', 'blue', ',', 'red', ')', '.', 'Death', 'Ray', 'powerful', 'poke', 'strong', 'area', 'denial', 'tool', '.', 'Use', 'combination', 'Gravity', 'Field', 'control', 'enemy', \"'s\", 'position', '.', 'Make', 'sure', 'choose', 'right', 'augment', 'right', 'time.Viktor', 'blasts', 'enemy', 'unit', 'dealing', 'magic', 'damage', ',', 'gaining', 'shield', 'empowering', 'next', 'basic', 'attack.Augment', ':', 'Siphon', 'Power', \"'s\", 'shield', 'increased', '60', '%', 'Viktor', 'gains', 'bonus', 'Movement', 'Speed', 'casting.Viktor', 'conjures', 'heavy', 'gravitational', 'field', 'slows', 'enemies', 'radius', '.', 'Enemies', 'stay', 'within', 'device', 'long', 'stunned.Augment', ':', 'Viktor', \"'s\", 'non-periodic', 'spells', 'apply', 'slow', 'enemies.Viktor', 'uses', 'robotic', 'arm', 'fire', 'chaos', 'beam', 'cuts', 'across', 'field', 'line', ',', 'dealing', 'damage', 'enemies', 'path.Augment', ':', 'An', 'explosion', 'follows', 'Death', 'Ray', \"'s\", 'wake', ',', 'dealing', 'magic', 'damage.Viktor', 'conjures', 'singularity', 'field', 'deals', 'magic', 'damage', 'interrupts', 'enemy', 'channels', '.', 'The', 'singularity', 'periodically', 'magic', 'damage', 'nearby', 'enemies', '.', 'Viktor', 'redirect', 'singularity.Augment', ':', 'The', 'Chaos', 'Storm', 'moves', '25', '%', 'faster', '.']\n",
            "['Try', 'to', 'take', 'Vladimir', 'down', 'before', 'Hemoplague', 'detonates', ',', 'as', 'it', 'will', 'heal', 'him', 'for', 'each', 'afflicted', 'enemy', 'Champion', '.', 'Making', 'Vladimir', 'use', 'Sanguine', 'Pool', 'at', 'the', 'start', 'of', 'a', 'fight', 'will', 'maximize', 'the', 'Health', 'cost', 'of', 'the', 'ability', 'to', 'him', '.', 'Items', 'that', 'counter', 'Health', 'stacking', ',', 'such', 'as', 'Liandry', \"'s\", 'Torment', 'and', 'Blade', 'of', 'the', 'Ruined', 'King', ',', 'are', 'very', 'effective', 'against', 'Vladimir', '.', 'Transfusion', 'instantly', 'deals', 'damage', 'to', 'the', 'enemy', 'before', 'healing', 'Vladimir', ',', 'making', 'it', 'one', 'of', 'the', 'best', 'last', 'hitting', 'tools', 'in', 'the', 'game', '.', 'Cast', 'Hemoplague', 'where', 'it', 'will', 'afflict', 'the', 'most', 'units', '.', 'Sanguine', 'Pool', 'pops', 'incoming', 'missiles', ',', 'so', 'it', 'can', 'be', 'used', 'to', 'dodge', 'disables.Vladimir', 'steals', 'life', 'from', 'the', 'target', 'enemy', '.', 'When', 'Vladimir', \"'s\", 'resource', 'is', 'full', ',', 'Transfusion', 'will', 'benefit', 'from', 'massively', 'increased', 'damage', 'and', 'healing', 'for', 'a', 'brief', 'time.Vladimir', 'sinks', 'into', 'a', 'pool', 'of', 'blood', ',', 'becoming', 'untargetable', 'for', '2', 'seconds', '.', 'Additionally', ',', 'enemies', 'on', 'the', 'pool', 'are', 'slowed', 'and', 'Vladimir', 'siphons', 'life', 'from', 'them.Vladimir', 'pays', 'his', 'own', 'health', 'to', 'charge', 'up', 'a', 'reservoir', 'of', 'blood', 'which', ',', 'when', 'released', ',', 'deals', 'damage', 'in', 'the', 'area', 'around', 'him', 'but', 'can', 'be', 'blocked', 'by', 'enemy', 'units.Vladimir', 'infects', 'an', 'area', 'with', 'a', 'virulent', 'plague', '.', 'Affected', 'enemies', 'take', 'increased', 'damage', 'for', 'the', 'duration', '.', 'After', 'a', 'few', 'seconds', ',', 'Hemoplague', 'deals', 'magic', 'damage', 'to', 'infected', 'enemies', 'and', 'heals', 'Vladimir', 'for', 'each', 'enemy', 'Champion', 'hit', '.'] \n",
            "\n",
            "['Try', 'take', 'Vladimir', 'Hemoplague', 'detonates', ',', 'heal', 'afflicted', 'enemy', 'Champion', '.', 'Making', 'Vladimir', 'use', 'Sanguine', 'Pool', 'start', 'fight', 'maximize', 'Health', 'cost', 'ability', '.', 'Items', 'counter', 'Health', 'stacking', ',', 'Liandry', \"'s\", 'Torment', 'Blade', 'Ruined', 'King', ',', 'effective', 'Vladimir', '.', 'Transfusion', 'instantly', 'deals', 'damage', 'enemy', 'healing', 'Vladimir', ',', 'making', 'one', 'best', 'last', 'hitting', 'tools', 'game', '.', 'Cast', 'Hemoplague', 'afflict', 'units', '.', 'Sanguine', 'Pool', 'pops', 'incoming', 'missiles', ',', 'used', 'dodge', 'disables.Vladimir', 'steals', 'life', 'target', 'enemy', '.', 'When', 'Vladimir', \"'s\", 'resource', 'full', ',', 'Transfusion', 'benefit', 'massively', 'increased', 'damage', 'healing', 'brief', 'time.Vladimir', 'sinks', 'pool', 'blood', ',', 'becoming', 'untargetable', '2', 'seconds', '.', 'Additionally', ',', 'enemies', 'pool', 'slowed', 'Vladimir', 'siphons', 'life', 'them.Vladimir', 'pays', 'health', 'charge', 'reservoir', 'blood', ',', 'released', ',', 'deals', 'damage', 'area', 'around', 'blocked', 'enemy', 'units.Vladimir', 'infects', 'area', 'virulent', 'plague', '.', 'Affected', 'enemies', 'take', 'increased', 'damage', 'duration', '.', 'After', 'seconds', ',', 'Hemoplague', 'deals', 'magic', 'damage', 'infected', 'enemies', 'heals', 'Vladimir', 'enemy', 'Champion', 'hit', '.']\n",
            "['Volibear', 'gains', 'speed', 'towards', 'enemies', ',', 'Stunning', 'and', 'damaging', 'the', 'first', 'one', 'he', 'Attacks.Volibear', 'damages', 'an', 'enemy', ',', 'applying', 'on-hit', 'effects', 'and', 'marking', 'them', '.', 'Casting', 'this', 'ability', 'again', 'on', 'the', 'same', 'target', 'deals', 'bonus', 'damage', 'and', 'Heals', 'Volibear.Volibear', 'summons', 'a', 'lightning', 'bolt', 'at', 'a', 'location', ',', 'dealing', 'damage', 'and', 'Slowing', 'enemies', 'while', 'granting', 'Volibear', 'a', 'Shield', 'if', 'he', \"'s\", 'inside', 'the', 'blast', 'radius.Volibear', 'leaps', 'to', 'a', 'target', 'location', ',', 'Slowing', 'and', 'damaging', 'enemies', 'beneath', 'him', 'while', 'gaining', 'bonus', 'Health', '.', 'Enemy', 'towers', 'near', 'his', 'landing', 'location', 'become', 'temporarily', 'disabled', '.'] \n",
            "\n",
            "['Volibear', 'gains', 'speed', 'towards', 'enemies', ',', 'Stunning', 'damaging', 'first', 'one', 'Attacks.Volibear', 'damages', 'enemy', ',', 'applying', 'on-hit', 'effects', 'marking', '.', 'Casting', 'ability', 'target', 'deals', 'bonus', 'damage', 'Heals', 'Volibear.Volibear', 'summons', 'lightning', 'bolt', 'location', ',', 'dealing', 'damage', 'Slowing', 'enemies', 'granting', 'Volibear', 'Shield', \"'s\", 'inside', 'blast', 'radius.Volibear', 'leaps', 'target', 'location', ',', 'Slowing', 'damaging', 'enemies', 'beneath', 'gaining', 'bonus', 'Health', '.', 'Enemy', 'towers', 'near', 'landing', 'location', 'become', 'temporarily', 'disabled', '.']\n",
            "['Warwick', \"'s\", 'attacks', 'heal', 'him', 'at', 'low', 'health', '.', 'Save', 'your', 'disables', 'to', 'finish', 'him', 'off', '.', 'Warwick', 'is', 'empowered', 'versus', 'low', 'health', 'enemies', '.', 'Manage', 'your', 'health', 'to', 'keep', 'him', 'at', 'bay', '.', 'Warwick', \"'s\", 'ultimate', 'cast', 'range', 'scales', 'with', 'his', 'movement', 'speed', '.', 'Follow', 'your', 'Blood', 'Hunt', 'trails', 'to', 'low', 'health', 'enemy', 'champions', '.', 'Infinite', 'Duress', '(', 'R', ')', \"'s\", 'distance', 'scales', 'with', 'any', 'movement', 'speed', 'you', 'gain', ',', 'even', 'from', 'ally', 'buffs', 'and', 'summoner', 'spells', '.', 'Jaws', 'of', 'the', 'Beast', '(', 'Q', ')', 'will', 'follow', 'enemies', 'who', 'run', ',', 'dash', 'or', 'teleport', 'if', 'you', 'keep', 'the', 'button', 'held', 'down.Warwick', 'lunges', 'forward', 'and', 'bites', 'his', 'target', ',', 'dealing', 'damage', 'based', 'on', 'their', 'maximum', 'health', 'and', 'healing', 'for', 'damage', 'dealt.Warwick', 'senses', 'enemies', 'below', '50', '%', 'health', ',', 'gaining', 'movement', 'speed', 'toward', 'and', 'attack', 'speed', 'against', 'them', '.', 'When', 'they', 'fall', 'below', '20', '%', 'health', ',', 'he', 'frenzies', 'and', 'these', 'bonuses', 'triple.Warwick', 'gains', 'damage', 'reduction', 'for', '2.5', 'seconds', '.', 'At', 'the', 'end', ',', 'or', 'if', 're-activated', ',', 'he', 'howls', ',', 'causing', 'nearby', 'enemies', 'to', 'flee', 'for', '1', 'second.Warwick', 'leaps', 'in', 'a', 'direction', '(', 'scaling', 'with', 'his', 'bonus', 'Move', 'Speed', ')', ',', 'suppressing', 'the', 'first', 'champion', 'he', 'collides', 'with', 'for', '1.5', 'seconds', '.'] \n",
            "\n",
            "['Warwick', \"'s\", 'attacks', 'heal', 'low', 'health', '.', 'Save', 'disables', 'finish', '.', 'Warwick', 'empowered', 'versus', 'low', 'health', 'enemies', '.', 'Manage', 'health', 'keep', 'bay', '.', 'Warwick', \"'s\", 'ultimate', 'cast', 'range', 'scales', 'movement', 'speed', '.', 'Follow', 'Blood', 'Hunt', 'trails', 'low', 'health', 'enemy', 'champions', '.', 'Infinite', 'Duress', '(', 'R', ')', \"'s\", 'distance', 'scales', 'movement', 'speed', 'gain', ',', 'even', 'ally', 'buffs', 'summoner', 'spells', '.', 'Jaws', 'Beast', '(', 'Q', ')', 'follow', 'enemies', 'run', ',', 'dash', 'teleport', 'keep', 'button', 'held', 'down.Warwick', 'lunges', 'forward', 'bites', 'target', ',', 'dealing', 'damage', 'based', 'maximum', 'health', 'healing', 'damage', 'dealt.Warwick', 'senses', 'enemies', '50', '%', 'health', ',', 'gaining', 'movement', 'speed', 'toward', 'attack', 'speed', '.', 'When', 'fall', '20', '%', 'health', ',', 'frenzies', 'bonuses', 'triple.Warwick', 'gains', 'damage', 'reduction', '2.5', 'seconds', '.', 'At', 'end', ',', 're-activated', ',', 'howls', ',', 'causing', 'nearby', 'enemies', 'flee', '1', 'second.Warwick', 'leaps', 'direction', '(', 'scaling', 'bonus', 'Move', 'Speed', ')', ',', 'suppressing', 'first', 'champion', 'collides', '1.5', 'seconds', '.']\n",
            "['Xayah', \"'s\", 'Bladecaller', 'will', 'only', 'root', 'targets', 'hit', 'by', '3', 'or', 'more', 'returning', 'Feathers', '.', 'Long', 'fights', 'in', 'the', 'same', 'area', 'with', 'Xayah', 'will', 'allow', 'her', 'to', 'drop', 'a', 'lot', 'of', 'Feathers', '.', 'Try', 'to', 'stay', 'on', 'the', 'move', '!', 'Make', 'sure', 'you', 'are', 'ready', 'when', 'you', 'go', 'for', 'the', 'kill', '.', 'Untargetability', 'from', 'Featherstorm', 'can', 'quickly', 'turn', 'an', 'ambush', 'in', 'Xayah', \"'s\", 'favor', '.', 'Xayah', \"'s\", 'attacks', 'and', 'abilities', 'leave', 'Feathers', 'on', 'the', 'ground', 'that', 'she', 'can', 'later', 'recall', 'for', 'massive', 'area', 'damage', 'and', 'control', '.', 'Xayah', 'can', 'use', 'Featherstorm', 'to', 'dodge', 'almost', 'any', 'ability', 'while', 'also', 'creating', 'a', 'ton', 'of', 'Feathers', '.', 'Try', 'to', 'utilize', 'the', 'offensive', 'and', 'defensive', 'aspects', 'of', 'this', 'ability.Xayah', 'throws', 'two', 'damaging', 'daggers', 'that', 'also', 'drop', 'Feathers', 'she', 'can', 'recall.Xayah', 'creates', 'a', 'storm', 'of', 'blades', 'that', 'increase', 'her', 'basic', 'attack', 'speed', 'and', 'damage', 'while', 'granting', 'her', 'movement', 'speed', 'if', 'she', 'attacks', 'a', 'champion.Xayah', 'calls', 'back', 'all', 'her', 'dropped', 'Feathers', 'dealing', 'damage', 'and', 'rooting', 'enemies.Xayah', 'leaps', 'into', 'the', 'air', 'becoming', 'untargetable', 'and', 'throwing', 'out', 'a', 'fan', 'of', 'daggers', ',', 'dropping', 'Feathers', 'she', 'can', 'recall', '.'] \n",
            "\n",
            "['Xayah', \"'s\", 'Bladecaller', 'root', 'targets', 'hit', '3', 'returning', 'Feathers', '.', 'Long', 'fights', 'area', 'Xayah', 'allow', 'drop', 'lot', 'Feathers', '.', 'Try', 'stay', 'move', '!', 'Make', 'sure', 'ready', 'go', 'kill', '.', 'Untargetability', 'Featherstorm', 'quickly', 'turn', 'ambush', 'Xayah', \"'s\", 'favor', '.', 'Xayah', \"'s\", 'attacks', 'abilities', 'leave', 'Feathers', 'ground', 'later', 'recall', 'massive', 'area', 'damage', 'control', '.', 'Xayah', 'use', 'Featherstorm', 'dodge', 'almost', 'ability', 'also', 'creating', 'ton', 'Feathers', '.', 'Try', 'utilize', 'offensive', 'defensive', 'aspects', 'ability.Xayah', 'throws', 'two', 'damaging', 'daggers', 'also', 'drop', 'Feathers', 'recall.Xayah', 'creates', 'storm', 'blades', 'increase', 'basic', 'attack', 'speed', 'damage', 'granting', 'movement', 'speed', 'attacks', 'champion.Xayah', 'calls', 'back', 'dropped', 'Feathers', 'dealing', 'damage', 'rooting', 'enemies.Xayah', 'leaps', 'air', 'becoming', 'untargetable', 'throwing', 'fan', 'daggers', ',', 'dropping', 'Feathers', 'recall', '.']\n",
            "['Xerath', \"'s\", 'range', 'can', 'be', 'intimidating', ',', 'but', 'most', 'champions', 'who', 'close', 'distance', 'with', 'him', 'can', 'trade', 'favorably', '.', 'Xerath', 'takes', 'a', 'long', 'time', 'to', 'engage', 'Rite', 'of', 'the', 'Arcane', '.', 'Watch', 'for', 'his', 'spellcast', 'animation', 'and', 'start', 'dodging', '.', 'Banshee', \"'s\", 'Veil', 'will', 'make', 'it', 'much', 'harder', 'for', 'Xerath', 'to', 'land', 'Shocking', 'Orb', 'on', 'you', '.', 'It', \"'s\", 'easier', 'to', 'land', 'Arcanopulse', 'on', 'an', 'enemy', 'when', 'they', \"'re\", 'moving', 'toward', 'or', 'away', 'from', 'you', ',', 'rather', 'than', 'side', 'to', 'side', '.', 'Eye', 'of', 'Destruction', 'will', 'make', 'landing', 'Arcanopulse', 'easier', 'as', 'the', 'target', 'will', 'be', 'slowed', '.', 'If', 'you', 'stun', 'an', 'enemy', 'with', 'Shocking', 'Orb', ',', 'follow', 'up', 'with', 'a', 'guaranteed', 'center', 'hit', 'on', 'Eye', 'of', 'Destruction.Fires', 'a', 'long-range', 'beam', 'of', 'energy', ',', 'dealing', 'magic', 'damage', 'to', 'all', 'targets', 'hit.Calls', 'down', 'a', 'barrage', 'of', 'arcane', 'energy', ',', 'slowing', 'and', 'dealing', 'magic', 'damage', 'to', 'all', 'enemies', 'in', 'an', 'area', '.', 'Targets', 'in', 'the', 'middle', 'receive', 'additional', 'damage', 'and', 'a', 'stronger', 'slow.Deals', 'magic', 'damage', 'to', 'an', 'enemy', 'and', 'stuns', 'them.Xerath', 'immobilizes', 'himself', 'and', 'gains', 'numerous', 'long-range', 'barrages', '.'] \n",
            "\n",
            "['Xerath', \"'s\", 'range', 'intimidating', ',', 'champions', 'close', 'distance', 'trade', 'favorably', '.', 'Xerath', 'takes', 'long', 'time', 'engage', 'Rite', 'Arcane', '.', 'Watch', 'spellcast', 'animation', 'start', 'dodging', '.', 'Banshee', \"'s\", 'Veil', 'make', 'much', 'harder', 'Xerath', 'land', 'Shocking', 'Orb', '.', 'It', \"'s\", 'easier', 'land', 'Arcanopulse', 'enemy', \"'re\", 'moving', 'toward', 'away', ',', 'rather', 'side', 'side', '.', 'Eye', 'Destruction', 'make', 'landing', 'Arcanopulse', 'easier', 'target', 'slowed', '.', 'If', 'stun', 'enemy', 'Shocking', 'Orb', ',', 'follow', 'guaranteed', 'center', 'hit', 'Eye', 'Destruction.Fires', 'long-range', 'beam', 'energy', ',', 'dealing', 'magic', 'damage', 'targets', 'hit.Calls', 'barrage', 'arcane', 'energy', ',', 'slowing', 'dealing', 'magic', 'damage', 'enemies', 'area', '.', 'Targets', 'middle', 'receive', 'additional', 'damage', 'stronger', 'slow.Deals', 'magic', 'damage', 'enemy', 'stuns', 'them.Xerath', 'immobilizes', 'gains', 'numerous', 'long-range', 'barrages', '.']\n",
            "['Xin', 'Zhao', 'is', 'a', 'powerful', 'initiator', 'with', 'both', 'his', 'charge', 'and', 'ultimate', 'dealing', 'damage', 'to', 'all', 'units', 'around', 'him', '.', 'Try', 'having', 'your', 'team', 'stay', 'spread', 'out', 'until', 'he', \"'s\", 'used', 'his', 'ultimate', '.', 'Xin', 'Zhao', 'relies', 'heavily', 'on', 'his', 'Three', 'Talon', 'Strikes', 'for', 'damage', 'and', 'cooldown', 'resets', ',', 'so', 'preventing', 'him', 'from', 'finishing', 'his', 'combo', 'will', 'have', 'a', 'dramatic', 'effect', '.', 'Xin', 'Zhao', 'is', 'a', 'great', 'initiator', 'to', 'combat', '.', 'Lead', 'the', 'front', 'to', 'start', 'a', 'fight', 'and', 'use', 'your', 'ultimate', 'to', 'do', 'the', 'most', 'damage', 'possible', '.', 'Try', 'to', 'position', 'yourself', 'so', 'your', 'ultimate', \"'s\", 'knockback', 'is', 'most', 'effective.Xin', 'Zhao', \"'s\", 'next', '3', 'standard', 'attacks', 'deal', 'increased', 'damage', 'with', 'the', 'third', 'attack', 'knocking', 'an', 'opponent', 'into', 'the', 'air.Xin', 'Zhao', 'slashes', 'in', 'front', 'of', 'himself', 'with', 'his', 'spear', ',', 'then', 'thrusts', 'it', 'forward', ',', 'slowing', 'affected', 'enemies', 'and', 'marking', 'them', 'as', 'Challenged.Xin', 'Zhao', 'charges', 'to', 'an', 'enemy', ',', 'gaining', 'increased', 'Attack', 'Speed', 'and', 'dealing', 'damage', 'to', 'all', 'enemies', 'in', 'the', 'area', ',', 'slowing', 'them', 'briefly', '.', 'Audacious', 'Charge', 'gains', 'increased', 'range', 'against', 'Challenged', 'targets.Xin', 'Zhao', 'challenges', 'an', 'enemy', 'he', 'damaged', 'recently', '.', 'Xin', 'Zhao', 'deals', 'damage', 'to', 'nearby', 'enemies', 'based', 'on', 'their', 'current', 'Health', 'and', 'knocks', 'non-challenged', 'targets', 'back', ',', 'becoming', 'impervious', 'to', 'damage', 'dealt', 'by', 'champions', 'outside', 'of', 'the', 'circle', 'created', '.'] \n",
            "\n",
            "['Xin', 'Zhao', 'powerful', 'initiator', 'charge', 'ultimate', 'dealing', 'damage', 'units', 'around', '.', 'Try', 'team', 'stay', 'spread', \"'s\", 'used', 'ultimate', '.', 'Xin', 'Zhao', 'relies', 'heavily', 'Three', 'Talon', 'Strikes', 'damage', 'cooldown', 'resets', ',', 'preventing', 'finishing', 'combo', 'dramatic', 'effect', '.', 'Xin', 'Zhao', 'great', 'initiator', 'combat', '.', 'Lead', 'front', 'start', 'fight', 'use', 'ultimate', 'damage', 'possible', '.', 'Try', 'position', 'ultimate', \"'s\", 'knockback', 'effective.Xin', 'Zhao', \"'s\", 'next', '3', 'standard', 'attacks', 'deal', 'increased', 'damage', 'third', 'attack', 'knocking', 'opponent', 'air.Xin', 'Zhao', 'slashes', 'front', 'spear', ',', 'thrusts', 'forward', ',', 'slowing', 'affected', 'enemies', 'marking', 'Challenged.Xin', 'Zhao', 'charges', 'enemy', ',', 'gaining', 'increased', 'Attack', 'Speed', 'dealing', 'damage', 'enemies', 'area', ',', 'slowing', 'briefly', '.', 'Audacious', 'Charge', 'gains', 'increased', 'range', 'Challenged', 'targets.Xin', 'Zhao', 'challenges', 'enemy', 'damaged', 'recently', '.', 'Xin', 'Zhao', 'deals', 'damage', 'nearby', 'enemies', 'based', 'current', 'Health', 'knocks', 'non-challenged', 'targets', 'back', ',', 'becoming', 'impervious', 'damage', 'dealt', 'champions', 'outside', 'circle', 'created', '.']\n",
            "['Steel', 'Tempest', 'is', 'very', 'narrow', '.', 'Dodge', 'laterally', 'if', 'possible', '.', 'When', 'Yasuo', 'lands', 'two', 'Steel', 'Tempests', 'in', 'a', 'row', ',', 'his', 'next', 'will', 'fire', 'a', 'tornado', '.', 'Watch', 'and', 'listen', 'for', 'the', 'associated', 'sound', 'to', 'prepare', 'to', 'dodge', '.', 'Yasuo', 'is', 'at', 'his', 'weakest', 'just', 'after', 'he', 'has', 'launched', 'a', 'whirlwind', '.', 'Engage', 'at', 'that', 'point', '.', 'Yasuo', \"'s\", 'shield', 'from', 'Resolve', 'lasts', 'only', '2', 'seconds', '.', 'Dealing', 'damage', 'to', 'him', 'will', 'trigger', 'it', '.', 'Wait', 'it', 'out', ',', 'then', 'engage', '.', 'Dash', 'through', 'a', 'minion', 'to', 'have', 'Sweeping', 'Blade', 'available', 'to', 'chase', 'your', 'opponent', 'should', 'they', 'flee', ';', 'Dash', 'directly', 'to', 'your', 'opponent', 'to', 'preserve', 'a', 'minion', 'as', 'your', 'escape', 'route', '.', 'At', 'level', '18', ',', 'Yasuo', \"'s\", 'Steel', 'Tempest', 'reaches', 'its', 'Attack', 'Speed', 'cap', 'with', '55', '%', 'Attack', 'Speed', 'from', 'items', '.', 'Last', 'Breath', 'can', 'be', 'cast', 'on', 'any', 'target', 'that', 'is', 'knocked', 'Airborne', ',', 'even', 'by', 'one', 'of', 'your', 'allies.Thrusts', 'forward', ',', 'damaging', 'all', 'enemies', 'in', 'a', 'line.On', 'hit', ',', 'grants', 'a', 'stack', 'of', 'Gathering', 'Storm', 'for', 'a', 'few', 'seconds', '.', 'At', '2', 'stacks', ',', 'Steel', 'Tempest', 'fires', 'a', 'whirlwind', 'that', 'knocks', 'Airborne.Steel', 'Tempest', 'is', 'treated', 'as', 'a', 'basic', 'attack', 'and', 'scales', 'with', 'all', 'the', 'same', 'things.Creates', 'a', 'moving', 'wall', 'that', 'blocks', 'all', 'enemy', 'projectiles', 'for', '4', 'seconds.Dashes', 'through', 'target', 'enemy', ',', 'dealing', 'magic', 'damage', '.', 'Each', 'cast', 'increases', 'your', 'next', 'dash', \"'s\", 'base', 'Damage', ',', 'up', 'to', 'a', 'max', 'amount.', 'Can', 'not', 'be', 're-cast', 'on', 'the', 'same', 'enemy', 'for', 'a', 'few', 'seconds.If', 'Steel', 'Tempest', 'is', 'cast', 'while', 'dashing', ',', 'it', 'will', 'strike', 'as', 'a', 'circle.Blinks', 'to', 'an', 'Airborne', 'enemy', 'champion', ',', 'dealing', 'physical', 'damage', 'and', 'holding', 'all', 'Airborne', 'enemies', 'in', 'the', 'area', 'in', 'the', 'air', '.', 'Grants', 'maximum', 'Flow', 'but', 'resets', 'all', 'stacks', 'of', 'Gathering', 'Storm.For', 'a', 'moderate', 'time', 'afterwards', ',', 'Yasuo', \"'s\", 'critical', 'strikes', 'gain', 'significant', 'Bonus', 'Armor', 'Penetration', '.'] \n",
            "\n",
            "['Steel', 'Tempest', 'narrow', '.', 'Dodge', 'laterally', 'possible', '.', 'When', 'Yasuo', 'lands', 'two', 'Steel', 'Tempests', 'row', ',', 'next', 'fire', 'tornado', '.', 'Watch', 'listen', 'associated', 'sound', 'prepare', 'dodge', '.', 'Yasuo', 'weakest', 'launched', 'whirlwind', '.', 'Engage', 'point', '.', 'Yasuo', \"'s\", 'shield', 'Resolve', 'lasts', '2', 'seconds', '.', 'Dealing', 'damage', 'trigger', '.', 'Wait', ',', 'engage', '.', 'Dash', 'minion', 'Sweeping', 'Blade', 'available', 'chase', 'opponent', 'flee', ';', 'Dash', 'directly', 'opponent', 'preserve', 'minion', 'escape', 'route', '.', 'At', 'level', '18', ',', 'Yasuo', \"'s\", 'Steel', 'Tempest', 'reaches', 'Attack', 'Speed', 'cap', '55', '%', 'Attack', 'Speed', 'items', '.', 'Last', 'Breath', 'cast', 'target', 'knocked', 'Airborne', ',', 'even', 'one', 'allies.Thrusts', 'forward', ',', 'damaging', 'enemies', 'line.On', 'hit', ',', 'grants', 'stack', 'Gathering', 'Storm', 'seconds', '.', 'At', '2', 'stacks', ',', 'Steel', 'Tempest', 'fires', 'whirlwind', 'knocks', 'Airborne.Steel', 'Tempest', 'treated', 'basic', 'attack', 'scales', 'things.Creates', 'moving', 'wall', 'blocks', 'enemy', 'projectiles', '4', 'seconds.Dashes', 'target', 'enemy', ',', 'dealing', 'magic', 'damage', '.', 'Each', 'cast', 'increases', 'next', 'dash', \"'s\", 'base', 'Damage', ',', 'max', 'amount.', 'Can', 're-cast', 'enemy', 'seconds.If', 'Steel', 'Tempest', 'cast', 'dashing', ',', 'strike', 'circle.Blinks', 'Airborne', 'enemy', 'champion', ',', 'dealing', 'physical', 'damage', 'holding', 'Airborne', 'enemies', 'area', 'air', '.', 'Grants', 'maximum', 'Flow', 'resets', 'stacks', 'Gathering', 'Storm.For', 'moderate', 'time', 'afterwards', ',', 'Yasuo', \"'s\", 'critical', 'strikes', 'gain', 'significant', 'Bonus', 'Armor', 'Penetration', '.']\n",
            "['Thrusts', 'forward', ',', 'damaging', 'all', 'enemies', 'in', 'a', 'line.On', 'hit', ',', 'grants', 'a', 'stack', 'of', 'Gathering', 'Storm', 'for', 'a', 'few', 'seconds', '.', 'At', '2', 'stacks', ',', 'Mortal', 'Steel', 'dashes', 'Yone', 'forward', 'with', 'a', 'gust', 'of', 'wind', 'knocking', 'enemies', 'Airborne.Mortal', 'Steel', 'is', 'treated', 'as', 'a', 'basic', 'attack', 'and', 'scales', 'with', 'all', 'the', 'same', 'things.Cleaves', 'forward', ',', 'damaging', 'all', 'enemies', 'in', 'a', 'cone', '.', 'Grants', 'a', 'shield', 'to', 'Yone', ',', 'the', 'value', 'is', 'increased', 'by', 'the', 'number', 'of', 'champions', 'hit', 'by', 'the', 'swipe.Spirit', 'Cleave', \"'s\", 'cooldown', 'and', 'cast', 'time', 'scale', 'with', 'attack', 'speed.Yone', \"'s\", 'spirit', 'leaves', 'his', 'body', 'behind', ',', 'gaining', 'movement', 'speed', '.', 'When', 'this', 'skill', 'ends', ',', 'Yone', \"'s\", 'spirit', 'is', 'forced', 'back', 'to', 'his', 'body', 'and', 'he', 'repeats', 'a', 'portion', 'of', 'the', 'damage', 'he', 'dealt', 'as', 'a', 'spirit.Yone', 'blinks', 'behind', 'the', 'last', 'champion', 'in', 'a', 'line', 'with', 'a', 'slash', 'so', 'powerful', 'it', 'pulls', 'all', 'enemies', 'hit', 'towards', 'him', '.'] \n",
            "\n",
            "['Thrusts', 'forward', ',', 'damaging', 'enemies', 'line.On', 'hit', ',', 'grants', 'stack', 'Gathering', 'Storm', 'seconds', '.', 'At', '2', 'stacks', ',', 'Mortal', 'Steel', 'dashes', 'Yone', 'forward', 'gust', 'wind', 'knocking', 'enemies', 'Airborne.Mortal', 'Steel', 'treated', 'basic', 'attack', 'scales', 'things.Cleaves', 'forward', ',', 'damaging', 'enemies', 'cone', '.', 'Grants', 'shield', 'Yone', ',', 'value', 'increased', 'number', 'champions', 'hit', 'swipe.Spirit', 'Cleave', \"'s\", 'cooldown', 'cast', 'time', 'scale', 'attack', 'speed.Yone', \"'s\", 'spirit', 'leaves', 'body', 'behind', ',', 'gaining', 'movement', 'speed', '.', 'When', 'skill', 'ends', ',', 'Yone', \"'s\", 'spirit', 'forced', 'back', 'body', 'repeats', 'portion', 'damage', 'dealt', 'spirit.Yone', 'blinks', 'behind', 'last', 'champion', 'line', 'slash', 'powerful', 'pulls', 'enemies', 'hit', 'towards', '.']\n",
            "['You', 'can', 'cast', 'Smite', 'on', 'Mist', 'Walkers', 'and', 'the', 'Maiden', 'of', 'the', 'Mist', 'to', 'damage', 'or', 'kill', 'them', '.', 'Try', 'to', 'thin', 'out', 'Yorick', \"'s\", 'minions', 'before', 'you', 'engage', 'him', ',', 'Mist', 'Walkers', 'will', 'die', 'from', 'a', 'basic', 'attack', 'or', 'a', 'single', 'target', 'spell', '.', 'You', 'can', 'attack', 'Dark', 'Procession', 'to', 'break', 'the', 'wall', 'down', '.', 'You', 'do', 'not', 'need', 'to', 'cast', 'Awakening', 'to', 'regain', 'the', 'ability', 'to', 'cast', 'Last', 'Rites', '.', 'The', 'Maiden', 'will', 'attempt', 'to', 'assist', 'you', 'in', 'a', 'fight', ',', 'so', 'choose', 'your', 'targets', 'well', '.', 'You', 'can', 'send', 'the', 'Maiden', 'down', 'a', 'lane', 'alone', ',', 'be', 'careful', 'though', ',', 'as', 'she', 'represents', 'a', 'large', 'portion', 'of', 'your', 'combat', 'power.Yorick', 'deals', 'bonus', 'damage', 'on', 'his', 'next', 'attack', 'and', 'heals', 'himself', '.', 'If', 'the', 'target', 'dies', 'a', 'grave', 'will', 'be', 'dug.Yorick', 'summons', 'a', 'destructible', 'wall', 'at', 'target', 'location', 'that', 'will', 'block', 'enemy', 'movement.Yorick', 'throws', 'a', 'globule', 'of', 'Black', 'Mist', 'that', 'damages', ',', 'slows', 'and', 'marks', 'enemies.Yorick', 'summons', 'the', 'Maiden', 'of', 'the', 'Mist', 'that', 'causes', 'Yorick', \"'s\", 'attacks', 'against', 'the', 'Maiden', \"'s\", 'target', 'to', 'deal', 'bonus', 'damage', '.', 'The', 'Maiden', 'will', 'also', 'automatically', 'raise', 'Walkers', 'from', 'dead', 'enemies', '.'] \n",
            "\n",
            "['You', 'cast', 'Smite', 'Mist', 'Walkers', 'Maiden', 'Mist', 'damage', 'kill', '.', 'Try', 'thin', 'Yorick', \"'s\", 'minions', 'engage', ',', 'Mist', 'Walkers', 'die', 'basic', 'attack', 'single', 'target', 'spell', '.', 'You', 'attack', 'Dark', 'Procession', 'break', 'wall', '.', 'You', 'need', 'cast', 'Awakening', 'regain', 'ability', 'cast', 'Last', 'Rites', '.', 'The', 'Maiden', 'attempt', 'assist', 'fight', ',', 'choose', 'targets', 'well', '.', 'You', 'send', 'Maiden', 'lane', 'alone', ',', 'careful', 'though', ',', 'represents', 'large', 'portion', 'combat', 'power.Yorick', 'deals', 'bonus', 'damage', 'next', 'attack', 'heals', '.', 'If', 'target', 'dies', 'grave', 'dug.Yorick', 'summons', 'destructible', 'wall', 'target', 'location', 'block', 'enemy', 'movement.Yorick', 'throws', 'globule', 'Black', 'Mist', 'damages', ',', 'slows', 'marks', 'enemies.Yorick', 'summons', 'Maiden', 'Mist', 'causes', 'Yorick', \"'s\", 'attacks', 'Maiden', \"'s\", 'target', 'deal', 'bonus', 'damage', '.', 'The', 'Maiden', 'also', 'automatically', 'raise', 'Walkers', 'dead', 'enemies', '.']\n",
            "['Yuumi', 'fires', 'a', 'missile', ',', 'dealing', 'damage', 'to', 'the', 'first', 'target', 'hit', '.', 'It', 'deals', 'bonus', 'damage', 'and', 'slows', 'if', 'it', 'takes', 'at', 'least', '1', 'second', 'to', 'get', 'to', 'its', 'target.While', 'Attached', ',', 'the', 'missile', 'can', 'be', 'controlled', 'with', 'your', 'cursor.Passively', ',', 'Yuumi', 'increases', 'her', 'ally', \"'s\", 'Adaptive', 'Force', 'and', 'her', 'own', '.', 'Actively', ',', 'Yuumi', 'dashes', 'to', 'a', 'target', 'ally', ',', 'becoming', 'untargetable', 'from', 'everything', 'except', 'turrets.Heals', 'Yuumi', 'and', 'boosts', 'Movement', 'Speed', 'and', 'Attack', 'Speed', '.', 'If', 'she', \"'s\", 'attached', ',', 'she', 'passes', 'it', 'to', 'her', 'ally', 'instead.Yuumi', 'channels', 'seven', 'waves', 'of', 'damage', ',', 'rooting', 'anyone', 'hit', 'by', 'three', 'or', 'more', '.', 'Yuumi', 'can', 'move', ',', 'attach', ',', 'and', 'cast', 'Zoomies', '!', 'while', 'channeling', '.'] \n",
            "\n",
            "['Yuumi', 'fires', 'missile', ',', 'dealing', 'damage', 'first', 'target', 'hit', '.', 'It', 'deals', 'bonus', 'damage', 'slows', 'takes', 'least', '1', 'second', 'get', 'target.While', 'Attached', ',', 'missile', 'controlled', 'cursor.Passively', ',', 'Yuumi', 'increases', 'ally', \"'s\", 'Adaptive', 'Force', '.', 'Actively', ',', 'Yuumi', 'dashes', 'target', 'ally', ',', 'becoming', 'untargetable', 'everything', 'except', 'turrets.Heals', 'Yuumi', 'boosts', 'Movement', 'Speed', 'Attack', 'Speed', '.', 'If', \"'s\", 'attached', ',', 'passes', 'ally', 'instead.Yuumi', 'channels', 'seven', 'waves', 'damage', ',', 'rooting', 'anyone', 'hit', 'three', '.', 'Yuumi', 'move', ',', 'attach', ',', 'cast', 'Zoomies', '!', 'channeling', '.']\n",
            "['Zac', 'heals', 'from', 'the', 'goo', 'that', 'separates', 'from', 'him', '.', 'You', 'can', 'crush', 'the', 'goo', 'pieces', 'by', 'stepping', 'on', 'them', '.', 'Kill', 'all', 'of', 'Zac', \"'s\", 'bloblets', 'when', 'he', 'splits', 'apart', 'to', 'stop', 'him', 'from', 'reforming', '.', 'Silences', ',', 'stuns', ',', 'roots', 'and', 'knockups', 'will', 'all', 'interrupt', 'Zac', 'when', 'he', 'is', 'charging', 'Elastic', 'Slingshot', '.', 'Picking', 'up', 'goo', 'chunks', 'is', 'very', 'important', 'to', 'staying', 'alive', '.', 'When', 'Cell', 'Division', 'is', 'ready', ',', 'try', 'to', 'die', 'in', 'a', 'position', 'that', 'makes', 'it', 'difficult', 'for', 'the', 'enemy', 'team', 'to', 'kill', 'your', 'bloblets', '.', 'Charging', 'Elastic', 'Slingshot', 'from', 'the', 'fog', 'of', 'war', 'will', 'give', 'opponents', 'less', 'time', 'to', 'react.Zac', 'stretches', 'an', 'arm', ',', 'grabbing', 'an', 'enemy', '.', 'Attacking', 'a', 'different', 'enemy', 'will', 'cause', 'him', 'to', 'throw', 'both', 'targets', 'towards', 'each', 'other.Zac', 'explodes', 'outward', 'towards', 'nearby', 'enemies', ',', 'dealing', 'a', 'percentage', 'of', 'their', 'maximum', 'health', 'as', 'magic', 'damage.Zac', 'attaches', 'his', 'arms', 'to', 'the', 'ground', 'and', 'stretches', 'back', ',', 'launching', 'himself', 'forward.Zac', 'bounces', 'four', 'times', ',', 'knocking', 'up', 'enemies', 'hit', 'and', 'slowing', 'them', '.'] \n",
            "\n",
            "['Zac', 'heals', 'goo', 'separates', '.', 'You', 'crush', 'goo', 'pieces', 'stepping', '.', 'Kill', 'Zac', \"'s\", 'bloblets', 'splits', 'apart', 'stop', 'reforming', '.', 'Silences', ',', 'stuns', ',', 'roots', 'knockups', 'interrupt', 'Zac', 'charging', 'Elastic', 'Slingshot', '.', 'Picking', 'goo', 'chunks', 'important', 'staying', 'alive', '.', 'When', 'Cell', 'Division', 'ready', ',', 'try', 'die', 'position', 'makes', 'difficult', 'enemy', 'team', 'kill', 'bloblets', '.', 'Charging', 'Elastic', 'Slingshot', 'fog', 'war', 'give', 'opponents', 'less', 'time', 'react.Zac', 'stretches', 'arm', ',', 'grabbing', 'enemy', '.', 'Attacking', 'different', 'enemy', 'cause', 'throw', 'targets', 'towards', 'other.Zac', 'explodes', 'outward', 'towards', 'nearby', 'enemies', ',', 'dealing', 'percentage', 'maximum', 'health', 'magic', 'damage.Zac', 'attaches', 'arms', 'ground', 'stretches', 'back', ',', 'launching', 'forward.Zac', 'bounces', 'four', 'times', ',', 'knocking', 'enemies', 'hit', 'slowing', '.']\n",
            "['Zed', 'receives', 'bonus', 'effect', 'from', 'Attack', 'Damage', 'items', 'he', 'purchases', ',', 'so', 'Armor', 'is', 'super', 'effective', 'against', 'him', '.', 'After', 'Zed', 'uses', 'his', 'Living', 'Shadow', ',', 'he', 'is', 'at', 'his', 'most', 'vulnerable', 'as', 'his', 'damage', ',', 'slow', ',', 'and', 'mobility', 'are', 'both', 'dependent', 'upon', 'it', '.', 'Zed', \"'s\", 'Shadow', 'Slash', 'can', 'only', 'slow', 'you', 'if', 'his', 'shadow', 'hits', 'you', 'with', 'it', '.', 'Saving', 'energy', 'and', 'spell', 'cooldowns', 'until', 'you', 'use', 'your', 'ultimate', 'will', 'maximize', 'Death', 'Mark', \"'s\", 'damage', '.', 'Quickly', 'double', 'tapping', 'Living', 'Shadow', 'will', 'teleport', 'Zed', 'to', 'his', 'shadow', 'immediately', 'for', 'rapid', 'escapes', '.', 'Placing', 'a', 'Living', 'Shadow', 'before', 'using', 'Death', 'Mark', 'can', 'give', 'Zed', 'a', 'safe', 'escape', 'from', 'combat.Zed', 'and', 'his', 'shadows', 'throw', 'their', 'shurikens.Each', 'shuriken', 'deals', 'damage', 'to', 'every', 'enemy', 'hit.Passive', ':', 'Zed', 'gains', 'energy', 'whenever', 'he', 'and', 'his', 'shadows', 'strike', 'an', 'enemy', 'with', 'the', 'same', 'ability', '.', 'Energy', 'can', 'only', 'be', 'gained', 'once', 'per', 'cast', 'ability.Active', ':', 'Zed', \"'s\", 'shadow', 'dashes', 'forward', ',', 'remaining', 'in', 'place', 'for', 'a', 'few', 'seconds', '.', 'Reactivating', 'Living', 'Shadow', 'will', 'cause', 'Zed', 'to', 'switch', 'positions', 'with', 'this', 'shadow.Zed', 'and', 'his', 'shadows', 'slash', ',', 'dealing', 'damage', 'to', 'nearby', 'enemies.Zed', 'becomes', 'untargetable', 'and', 'dashes', 'to', 'an', 'enemy', 'champion', ',', 'marking', 'them', '.', 'After', '3', 'seconds', 'the', 'mark', 'triggers', ',', 'repeating', 'a', 'portion', 'of', 'all', 'the', 'damage', 'Zed', 'dealt', 'to', 'the', 'target', 'while', 'they', 'were', 'marked', '.'] \n",
            "\n",
            "['Zed', 'receives', 'bonus', 'effect', 'Attack', 'Damage', 'items', 'purchases', ',', 'Armor', 'super', 'effective', '.', 'After', 'Zed', 'uses', 'Living', 'Shadow', ',', 'vulnerable', 'damage', ',', 'slow', ',', 'mobility', 'dependent', 'upon', '.', 'Zed', \"'s\", 'Shadow', 'Slash', 'slow', 'shadow', 'hits', '.', 'Saving', 'energy', 'spell', 'cooldowns', 'use', 'ultimate', 'maximize', 'Death', 'Mark', \"'s\", 'damage', '.', 'Quickly', 'double', 'tapping', 'Living', 'Shadow', 'teleport', 'Zed', 'shadow', 'immediately', 'rapid', 'escapes', '.', 'Placing', 'Living', 'Shadow', 'using', 'Death', 'Mark', 'give', 'Zed', 'safe', 'escape', 'combat.Zed', 'shadows', 'throw', 'shurikens.Each', 'shuriken', 'deals', 'damage', 'every', 'enemy', 'hit.Passive', ':', 'Zed', 'gains', 'energy', 'whenever', 'shadows', 'strike', 'enemy', 'ability', '.', 'Energy', 'gained', 'per', 'cast', 'ability.Active', ':', 'Zed', \"'s\", 'shadow', 'dashes', 'forward', ',', 'remaining', 'place', 'seconds', '.', 'Reactivating', 'Living', 'Shadow', 'cause', 'Zed', 'switch', 'positions', 'shadow.Zed', 'shadows', 'slash', ',', 'dealing', 'damage', 'nearby', 'enemies.Zed', 'becomes', 'untargetable', 'dashes', 'enemy', 'champion', ',', 'marking', '.', 'After', '3', 'seconds', 'mark', 'triggers', ',', 'repeating', 'portion', 'damage', 'Zed', 'dealt', 'target', 'marked', '.']\n",
            "['Do', \"n't\", 'step', 'on', 'Ziggs', \"'\", 'mines', '!', 'They', \"'ll\", 'slow', 'you', 'and', 'make', 'it', 'much', 'easier', 'for', 'him', 'to', 'hit', 'you', 'with', 'his', 'other', 'abiltiies', '.', 'Many', 'of', 'Ziggs', \"'\", 'abilities', 'have', 'long', 'cooldowns', '.', 'Try', 'catching', 'him', 'just', 'after', 'he', \"'s\", 'used', 'his', 'abilities', '.', 'Ziggs', \"'\", 'ultimate', ',', 'Mega', 'Inferno', 'Bomb', ',', 'deals', 'more', 'damage', 'in', 'the', 'center', 'of', 'the', 'explosion', '.', 'Even', 'if', 'you', \"'re\", 'far', 'from', 'a', 'fight', 'you', 'can', 'still', 'help', 'from', 'afar', 'with', 'Mega', 'Inferno', 'Bomb', '.', 'Slowing', 'your', 'enemies', 'with', 'Hexplosive', 'Minefield', 'makes', 'it', 'easier', 'to', 'land', 'other', 'abilities', '.', 'Knocking', 'yourself', 'over', 'walls', 'with', 'Satchel', 'Charge', 'can', 'be', 'great', 'when', 'chasing', 'after', 'or', 'escaping', 'from', 'enemies.Ziggs', 'throws', 'a', 'bouncing', 'bomb', 'that', 'deals', 'magic', 'damage.Ziggs', 'flings', 'an', 'explosive', 'charge', 'that', 'detonates', 'after', '4', 'seconds', ',', 'or', 'when', 'this', 'ability', 'is', 'activated', 'again', '.', 'The', 'explosion', 'deals', 'magic', 'damage', 'to', 'enemies', ',', 'knocking', 'them', 'away', '.', 'Ziggs', 'is', 'also', 'knocked', 'away', ',', 'but', 'takes', 'no', 'damage', '.', 'Ziggs', 'can', 'use', 'the', 'Satchel', 'to', 'hexplode', 'vulnerable', 'enemy', 'turrets.Ziggs', 'scatters', 'proximity', 'mines', 'that', 'detonate', 'on', 'enemy', 'contact', ',', 'dealing', 'magic', 'damage', 'and', 'slowing', '.', 'Successive', 'mine', 'detonations', 'on', 'the', 'same', 'target', 'deal', 'reduced', 'damage.Ziggs', 'deploys', 'his', 'ultimate', 'creation', ',', 'the', 'Mega', 'Inferno', 'Bomb', ',', 'hurling', 'it', 'an', 'enormous', 'distance', '.', 'Enemies', 'in', 'the', 'primary', 'blast', 'zone', 'take', 'more', 'damage', 'than', 'those', 'farther', 'away', '.'] \n",
            "\n",
            "['Do', \"n't\", 'step', 'Ziggs', \"'\", 'mines', '!', 'They', \"'ll\", 'slow', 'make', 'much', 'easier', 'hit', 'abiltiies', '.', 'Many', 'Ziggs', \"'\", 'abilities', 'long', 'cooldowns', '.', 'Try', 'catching', \"'s\", 'used', 'abilities', '.', 'Ziggs', \"'\", 'ultimate', ',', 'Mega', 'Inferno', 'Bomb', ',', 'deals', 'damage', 'center', 'explosion', '.', 'Even', \"'re\", 'far', 'fight', 'still', 'help', 'afar', 'Mega', 'Inferno', 'Bomb', '.', 'Slowing', 'enemies', 'Hexplosive', 'Minefield', 'makes', 'easier', 'land', 'abilities', '.', 'Knocking', 'walls', 'Satchel', 'Charge', 'great', 'chasing', 'escaping', 'enemies.Ziggs', 'throws', 'bouncing', 'bomb', 'deals', 'magic', 'damage.Ziggs', 'flings', 'explosive', 'charge', 'detonates', '4', 'seconds', ',', 'ability', 'activated', '.', 'The', 'explosion', 'deals', 'magic', 'damage', 'enemies', ',', 'knocking', 'away', '.', 'Ziggs', 'also', 'knocked', 'away', ',', 'takes', 'damage', '.', 'Ziggs', 'use', 'Satchel', 'hexplode', 'vulnerable', 'enemy', 'turrets.Ziggs', 'scatters', 'proximity', 'mines', 'detonate', 'enemy', 'contact', ',', 'dealing', 'magic', 'damage', 'slowing', '.', 'Successive', 'mine', 'detonations', 'target', 'deal', 'reduced', 'damage.Ziggs', 'deploys', 'ultimate', 'creation', ',', 'Mega', 'Inferno', 'Bomb', ',', 'hurling', 'enormous', 'distance', '.', 'Enemies', 'primary', 'blast', 'zone', 'take', 'damage', 'farther', 'away', '.']\n",
            "['If', 'you', \"'re\", 'able', 'to', 'match', 'Zilean', \"'s\", 'speed', ',', 'it', 'can', 'sometimes', 'be', 'beneficial', 'to', 'wait', 'until', 'his', 'ultimate', 'has', 'faded', 'before', 'landing', 'the', 'killing', 'blow', '.', 'Zilean', 'is', 'fragile', 'if', 'a', 'team', 'focuses', 'on', 'him', ',', 'but', 'otherwise', 'he', \"'s\", 'very', 'difficult', 'to', 'kill', '.', 'Commit', 'to', 'killing', 'him', 'as', 'a', 'team', '.', 'You', 'can', 'combine', 'the', 'use', 'of', 'Time', 'Bomb', 'and', 'Rewind', 'to', 'place', 'two', 'Time', 'Bombs', 'on', 'a', 'target', 'quickly', '.', 'Placing', 'the', 'second', 'bomb', 'will', 'detonate', 'the', 'first', 'and', 'stun', 'all', 'nearby', 'enemies', '.', 'Time', 'Warp', 'is', 'an', 'effective', 'way', 'to', 'enable', 'allies', 'to', 'finish', 'off', 'enemies', ',', 'or', 'escape', 'from', 'a', 'losing', 'battle', '.', 'Chronoshift', 'is', 'a', 'powerful', 'deterrent', 'to', 'attacking', 'your', 'carries', ',', 'but', 'casting', 'Chronoshift', 'too', 'early', 'in', 'a', 'fight', 'can', 'cause', 'the', 'enemy', 'to', 'switch', 'targets', 'too', 'soon', ',', 'making', 'it', 'less', 'effective.Tosses', 'a', 'bomb', 'to', 'target', 'area', 'that', 'sticks', 'to', 'units', 'that', 'come', 'near', 'it', '(', 'prioritizes', 'Champions', ')', '.', 'It', 'detonates', 'after', '3', 'seconds', ',', 'dealing', 'area', 'of', 'effect', 'damage', '.', 'If', 'a', 'Time', 'Bomb', 'is', 'detonated', 'early', 'by', 'another', 'Time', 'Bomb', ',', 'it', 'also', 'stuns', 'enemies.Zilean', 'can', 'prepare', 'himself', 'for', 'future', 'confrontations', ',', 'reducing', 'the', 'cooldowns', 'of', 'his', 'other', 'basic', 'abilities.Zilean', 'bends', 'time', 'around', 'any', 'unit', ',', 'decreasing', 'an', 'enemy', \"'s\", 'Move', 'Speed', 'or', 'increasing', 'an', 'ally', \"'s\", 'Move', 'Speed', 'for', 'a', 'short', 'time.Zilean', 'places', 'a', 'protective', 'time', 'rune', 'on', 'an', 'allied', 'champion', ',', 'teleporting', 'the', 'champion', 'back', 'in', 'time', 'if', 'they', 'take', 'lethal', 'damage', '.'] \n",
            "\n",
            "['If', \"'re\", 'able', 'match', 'Zilean', \"'s\", 'speed', ',', 'sometimes', 'beneficial', 'wait', 'ultimate', 'faded', 'landing', 'killing', 'blow', '.', 'Zilean', 'fragile', 'team', 'focuses', ',', 'otherwise', \"'s\", 'difficult', 'kill', '.', 'Commit', 'killing', 'team', '.', 'You', 'combine', 'use', 'Time', 'Bomb', 'Rewind', 'place', 'two', 'Time', 'Bombs', 'target', 'quickly', '.', 'Placing', 'second', 'bomb', 'detonate', 'first', 'stun', 'nearby', 'enemies', '.', 'Time', 'Warp', 'effective', 'way', 'enable', 'allies', 'finish', 'enemies', ',', 'escape', 'losing', 'battle', '.', 'Chronoshift', 'powerful', 'deterrent', 'attacking', 'carries', ',', 'casting', 'Chronoshift', 'early', 'fight', 'cause', 'enemy', 'switch', 'targets', 'soon', ',', 'making', 'less', 'effective.Tosses', 'bomb', 'target', 'area', 'sticks', 'units', 'come', 'near', '(', 'prioritizes', 'Champions', ')', '.', 'It', 'detonates', '3', 'seconds', ',', 'dealing', 'area', 'effect', 'damage', '.', 'If', 'Time', 'Bomb', 'detonated', 'early', 'another', 'Time', 'Bomb', ',', 'also', 'stuns', 'enemies.Zilean', 'prepare', 'future', 'confrontations', ',', 'reducing', 'cooldowns', 'basic', 'abilities.Zilean', 'bends', 'time', 'around', 'unit', ',', 'decreasing', 'enemy', \"'s\", 'Move', 'Speed', 'increasing', 'ally', \"'s\", 'Move', 'Speed', 'short', 'time.Zilean', 'places', 'protective', 'time', 'rune', 'allied', 'champion', ',', 'teleporting', 'champion', 'back', 'time', 'take', 'lethal', 'damage', '.']\n",
            "['Zoe', \"'s\", 'Paddle', 'Star', 'deals', 'more', 'damage', 'the', 'further', 'it', 'has', 'flown', '.', 'Zoe', 'must', 'return', 'to', 'her', 'starting', 'point', 'after', 'casting', 'Portal', 'Jump', ',', 'making', 'her', 'vulnerable', 'to', 'a', 'counterattack', '.', 'Sleepy', 'Trouble', 'Bubble', 'travels', 'further', 'over', 'walls', '.', 'Stop', 'Zoe', 'from', 'hiding', 'in', 'fog', 'of', 'war', 'to', 'prevent', 'her', 'from', 'setting', 'the', 'spell', 'up', '.', 'Paddle', 'Star', 'deals', 'more', 'damage', 'the', 'further', 'it', 'has', 'flown', '.', 'Casting', 'it', 'behind', 'yourself', 'before', 'redirecting', 'can', 'deal', 'tons', 'of', 'damage', '.', 'Break', 'Sleep', 'with', 'your', 'biggest', 'damage', 'source', ',', 'since', 'enemies', 'who', 'are', 'asleep', 'take', 'double', 'damage', '.', 'Sleepy', 'Trouble', 'Bubble', 'travels', 'further', 'over', 'walls', '.', 'Find', 'a', 'hiding', 'spot', 'to', 'set', 'up', 'for', 'a', 'long', 'distance', 'kill.Zoe', 'fires', 'a', 'missile', 'that', 'she', 'can', 'redirect', 'in', 'flight', '.', 'Deals', 'more', 'damage', 'the', 'longer', 'it', 'flies', 'in', 'a', 'straight', 'line.Zoe', 'can', 'pick', 'up', 'the', 'remnants', 'of', 'enemy', 'summoner', 'spell', 'and', 'active', 'item', 'casts', 'and', 'cast', 'them', 'once', 'herself', '.', 'Whenever', 'she', 'casts', 'a', 'summoner', 'spell', ',', 'she', 'gains', '3', 'missiles', 'that', 'fire', 'at', 'the', 'nearest', 'target.Causes', 'the', 'target', 'to', 'become', 'drowsy', ',', 'then', 'fall', 'asleep', '.', 'The', 'first', 'source', 'of', 'damage', 'that', 'breaks', 'the', 'sleep', 'is', 'doubled', ',', 'up', 'to', 'a', 'cap.Blink', 'to', 'a', 'nearby', 'position', 'for', '1', 'second', '.', 'Then', 'blink', 'back', '.'] \n",
            "\n",
            "['Zoe', \"'s\", 'Paddle', 'Star', 'deals', 'damage', 'flown', '.', 'Zoe', 'must', 'return', 'starting', 'point', 'casting', 'Portal', 'Jump', ',', 'making', 'vulnerable', 'counterattack', '.', 'Sleepy', 'Trouble', 'Bubble', 'travels', 'walls', '.', 'Stop', 'Zoe', 'hiding', 'fog', 'war', 'prevent', 'setting', 'spell', '.', 'Paddle', 'Star', 'deals', 'damage', 'flown', '.', 'Casting', 'behind', 'redirecting', 'deal', 'tons', 'damage', '.', 'Break', 'Sleep', 'biggest', 'damage', 'source', ',', 'since', 'enemies', 'asleep', 'take', 'double', 'damage', '.', 'Sleepy', 'Trouble', 'Bubble', 'travels', 'walls', '.', 'Find', 'hiding', 'spot', 'set', 'long', 'distance', 'kill.Zoe', 'fires', 'missile', 'redirect', 'flight', '.', 'Deals', 'damage', 'longer', 'flies', 'straight', 'line.Zoe', 'pick', 'remnants', 'enemy', 'summoner', 'spell', 'active', 'item', 'casts', 'cast', '.', 'Whenever', 'casts', 'summoner', 'spell', ',', 'gains', '3', 'missiles', 'fire', 'nearest', 'target.Causes', 'target', 'become', 'drowsy', ',', 'fall', 'asleep', '.', 'The', 'first', 'source', 'damage', 'breaks', 'sleep', 'doubled', ',', 'cap.Blink', 'nearby', 'position', '1', 'second', '.', 'Then', 'blink', 'back', '.']\n",
            "['Zyra', \"'s\", 'seeds', 'can', 'be', 'destroyed', 'by', 'stepping', 'on', 'them', '.', 'If', 'she', 'tries', 'to', 'grow', 'them', 'as', 'you', 'do', ',', 'dodge', 'back', 'at', 'the', 'last', 'moment', '.', 'Moving', 'closer', 'to', 'Zyra', 'can', 'be', 'a', 'smart', 'move', 'if', 'she', 'places', 'plants', 'too', 'far', 'away', 'from', 'herself', '.', 'Plants', 'take', 'fixed', 'damage', 'from', 'attacks', 'and', 'effects', ',', 'similar', 'to', 'wards', '.', 'They', 'also', 'expire', 'quickly', 'on', 'their', 'own', '.', 'Moving', 'the', 'fight', 'to', 'a', 'different', 'area', 'will', 'deprive', 'Zyra', 'of', 'accumulated', 'seeds', '.', 'Seeds', 'placed', 'by', 'Zyra', \"'s\", 'W', 'are', 'larger', ',', 'a', 'different', 'color', ',', 'and', 'grant', 'a', 'small', 'amount', 'of', 'vision', 'to', 'her', 'team', '.', 'Placing', 'a', 'seed', 'in', 'your', 'spell', \"'s\", 'path', 'after', 'you', 'have', 'cast', 'it', 'gives', 'you', 'the', 'best', 'chance', 'of', 'having', 'a', 'seed', 'in', 'the', 'proper', 'spot', '.', 'Seeds', 'grant', 'vision', 'to', 'your', 'team', '.', 'Zyra', 'is', 'a', 'great', 'ambusher', '-', 'look', 'for', 'opportunities', 'to', 'set', 'a', 'trap', 'of', 'seeds', 'in', 'brush', ',', 'then', 'lure', 'enemies', 'in.Thick', 'vines', 'spread', 'through', 'the', 'ground', 'and', 'explode', 'into', 'spines', ',', 'dealing', 'magic', 'damage', 'to', 'enemies', 'within', 'the', 'area', '.', 'If', 'cast', 'near', 'a', 'seed', ',', 'Deadly', 'Spines', 'grows', 'a', 'Thorn', 'Spitter', 'plant', ',', 'which', 'fires', 'at', 'enemies', 'from', 'afar.Zyra', 'plants', 'a', 'seed', ',', 'lasting', 'up', 'to', '60', 'seconds', '.', 'Deadly', 'Spines', 'and', 'Grasping', 'Roots', 'cast', 'near', 'seeds', 'will', 'turn', 'them', 'into', 'plants', 'who', 'fight', 'for', 'Zyra', '.', 'Zyra', 'can', 'store', 'multiple', 'seeds', 'at', 'once', ',', 'and', 'killing', 'enemies', 'reduces', 'Rampant', 'Growth', \"'s\", 'recharge', 'time.Zyra', 'sends', 'forth', 'vines', 'through', 'the', 'ground', 'to', 'ensnare', 'her', 'target', ',', 'dealing', 'damage', 'and', 'rooting', 'enemies', 'they', 'come', 'across', '.', 'If', 'cast', 'near', 'a', 'seed', ',', 'Grasping', 'Roots', 'grows', 'a', 'Vine', 'Lasher', ',', 'whose', 'short', 'range', 'attacks', 'reduce', 'enemy', 'Movement', 'Speed.Zyra', 'summons', 'a', 'twisted', 'thicket', 'at', 'her', 'target', 'location', ',', 'dealing', 'damage', 'to', 'enemies', 'as', 'it', 'expands', 'and', 'knocking', 'them', 'airborne', 'as', 'it', 'contracts', '.', 'Plants', 'within', 'the', 'thicket', 'are', 'enraged', '.'] \n",
            "\n",
            "['Zyra', \"'s\", 'seeds', 'destroyed', 'stepping', '.', 'If', 'tries', 'grow', ',', 'dodge', 'back', 'last', 'moment', '.', 'Moving', 'closer', 'Zyra', 'smart', 'move', 'places', 'plants', 'far', 'away', '.', 'Plants', 'take', 'fixed', 'damage', 'attacks', 'effects', ',', 'similar', 'wards', '.', 'They', 'also', 'expire', 'quickly', '.', 'Moving', 'fight', 'different', 'area', 'deprive', 'Zyra', 'accumulated', 'seeds', '.', 'Seeds', 'placed', 'Zyra', \"'s\", 'W', 'larger', ',', 'different', 'color', ',', 'grant', 'small', 'amount', 'vision', 'team', '.', 'Placing', 'seed', 'spell', \"'s\", 'path', 'cast', 'gives', 'best', 'chance', 'seed', 'proper', 'spot', '.', 'Seeds', 'grant', 'vision', 'team', '.', 'Zyra', 'great', 'ambusher', '-', 'look', 'opportunities', 'set', 'trap', 'seeds', 'brush', ',', 'lure', 'enemies', 'in.Thick', 'vines', 'spread', 'ground', 'explode', 'spines', ',', 'dealing', 'magic', 'damage', 'enemies', 'within', 'area', '.', 'If', 'cast', 'near', 'seed', ',', 'Deadly', 'Spines', 'grows', 'Thorn', 'Spitter', 'plant', ',', 'fires', 'enemies', 'afar.Zyra', 'plants', 'seed', ',', 'lasting', '60', 'seconds', '.', 'Deadly', 'Spines', 'Grasping', 'Roots', 'cast', 'near', 'seeds', 'turn', 'plants', 'fight', 'Zyra', '.', 'Zyra', 'store', 'multiple', 'seeds', ',', 'killing', 'enemies', 'reduces', 'Rampant', 'Growth', \"'s\", 'recharge', 'time.Zyra', 'sends', 'forth', 'vines', 'ground', 'ensnare', 'target', ',', 'dealing', 'damage', 'rooting', 'enemies', 'come', 'across', '.', 'If', 'cast', 'near', 'seed', ',', 'Grasping', 'Roots', 'grows', 'Vine', 'Lasher', ',', 'whose', 'short', 'range', 'attacks', 'reduce', 'enemy', 'Movement', 'Speed.Zyra', 'summons', 'twisted', 'thicket', 'target', 'location', ',', 'dealing', 'damage', 'enemies', 'expands', 'knocking', 'airborne', 'contracts', '.', 'Plants', 'within', 'thicket', 'enraged', '.']\n"
          ]
        }
      ]
    },
    {
      "cell_type": "code",
      "metadata": {
        "id": "i3b_Ilo4xaI1"
      },
      "source": [
        "champ_summ['clean_discrib'] = clean_discrib"
      ],
      "execution_count": 54,
      "outputs": []
    },
    {
      "cell_type": "code",
      "metadata": {
        "id": "HwP82nqZCEck"
      },
      "source": [
        "champ_summ['clean_discrib'] = champ_summ['clean_discrib'].apply(lambda x : (' ').join(x))"
      ],
      "execution_count": 55,
      "outputs": []
    },
    {
      "cell_type": "code",
      "metadata": {
        "colab": {
          "base_uri": "https://localhost:8080/",
          "height": 510
        },
        "id": "sIAur7WN_y9i",
        "outputId": "ea99a18b-c831-4420-fd44-ac459c5ba009"
      },
      "source": [
        "champ_summ.head()"
      ],
      "execution_count": 56,
      "outputs": [
        {
          "output_type": "execute_result",
          "data": {
            "text/html": [
              "<div>\n",
              "<style scoped>\n",
              "    .dataframe tbody tr th:only-of-type {\n",
              "        vertical-align: middle;\n",
              "    }\n",
              "\n",
              "    .dataframe tbody tr th {\n",
              "        vertical-align: top;\n",
              "    }\n",
              "\n",
              "    .dataframe thead th {\n",
              "        text-align: right;\n",
              "    }\n",
              "</style>\n",
              "<table border=\"1\" class=\"dataframe\">\n",
              "  <thead>\n",
              "    <tr style=\"text-align: right;\">\n",
              "      <th></th>\n",
              "      <th>id</th>\n",
              "      <th>key</th>\n",
              "      <th>tags</th>\n",
              "      <th>champ_q</th>\n",
              "      <th>champ_w</th>\n",
              "      <th>champ_e</th>\n",
              "      <th>champ_r</th>\n",
              "      <th>champ_all_skill</th>\n",
              "      <th>all_tips</th>\n",
              "      <th>all_tips_literal</th>\n",
              "      <th>all_discribtion</th>\n",
              "      <th>clean_discrib</th>\n",
              "    </tr>\n",
              "  </thead>\n",
              "  <tbody>\n",
              "    <tr>\n",
              "      <th>0</th>\n",
              "      <td>Aatrox</td>\n",
              "      <td>266</td>\n",
              "      <td>['Fighter', 'Tank']</td>\n",
              "      <td>Aatrox slams his greatsword down, dealing phys...</td>\n",
              "      <td>Aatrox smashes the ground, dealing damage to t...</td>\n",
              "      <td>Passively, Aatrox heals when damaging enemy ch...</td>\n",
              "      <td>Aatrox unleashes his demonic form, fearing nea...</td>\n",
              "      <td>Aatrox slams his greatsword down, dealing phys...</td>\n",
              "      <td>[Aatrox's attacks are very telegraphed, so use...</td>\n",
              "      <td>Aatrox's attacks are very telegraphed, so use ...</td>\n",
              "      <td>Aatrox's attacks are very telegraphed, so use ...</td>\n",
              "      <td>Aatrox 's attacks telegraphed , use time dodge...</td>\n",
              "    </tr>\n",
              "    <tr>\n",
              "      <th>1</th>\n",
              "      <td>Ahri</td>\n",
              "      <td>103</td>\n",
              "      <td>['Mage', 'Assassin']</td>\n",
              "      <td>Ahri sends out and pulls back her orb, dealing...</td>\n",
              "      <td>Ahri gains a brief burst of movement speed and...</td>\n",
              "      <td>Ahri blows a kiss that damages and charms an e...</td>\n",
              "      <td>Ahri dashes forward and fires essence bolts, d...</td>\n",
              "      <td>Ahri sends out and pulls back her orb, dealing...</td>\n",
              "      <td>[Ahri's survivability is dramatically reduced ...</td>\n",
              "      <td>Ahri's survivability is dramatically reduced w...</td>\n",
              "      <td>Ahri's survivability is dramatically reduced w...</td>\n",
              "      <td>Ahri 's survivability dramatically reduced Ult...</td>\n",
              "    </tr>\n",
              "    <tr>\n",
              "      <th>2</th>\n",
              "      <td>Akali</td>\n",
              "      <td>84</td>\n",
              "      <td>['Assassin']</td>\n",
              "      <td>Akali throws out five kunai, dealing damage ba...</td>\n",
              "      <td>Akali drops a cover of smoke and briefly gains...</td>\n",
              "      <td>Flip backward and fire a shuriken forward, dea...</td>\n",
              "      <td>Akali leaps in a direction, damaging enemies s...</td>\n",
              "      <td>Akali throws out five kunai, dealing damage ba...</td>\n",
              "      <td>[Akali can still be hit by area effect spells ...</td>\n",
              "      <td>Akali can still be hit by area effect spells w...</td>\n",
              "      <td>Akali can still be hit by area effect spells w...</td>\n",
              "      <td>Akali still hit area effect spells obscured in...</td>\n",
              "    </tr>\n",
              "    <tr>\n",
              "      <th>3</th>\n",
              "      <td>Akshan</td>\n",
              "      <td>166</td>\n",
              "      <td>['Marksman', 'Assassin']</td>\n",
              "      <td>Akshan throws a boomerang that deals damage go...</td>\n",
              "      <td>Akshan passively marks enemy champions as Scou...</td>\n",
              "      <td>Akshan fires a grappling hook into terrain the...</td>\n",
              "      <td>Akshan locks onto an enemy champion and starts...</td>\n",
              "      <td>Akshan throws a boomerang that deals damage go...</td>\n",
              "      <td>[Raising an eyebrow in the face of danger, Aks...</td>\n",
              "      <td>Raising an eyebrow in the face of danger, Aksh...</td>\n",
              "      <td>Raising an eyebrow in the face of danger, Aksh...</td>\n",
              "      <td>Raising eyebrow face danger , Akshan fights ev...</td>\n",
              "    </tr>\n",
              "    <tr>\n",
              "      <th>4</th>\n",
              "      <td>Alistar</td>\n",
              "      <td>12</td>\n",
              "      <td>['Tank', 'Support']</td>\n",
              "      <td>Alistar smashes the ground, dealing damage to ...</td>\n",
              "      <td>Alistar rams a target with his head, dealing d...</td>\n",
              "      <td>Alistar tramples nearby enemy units, ignoring ...</td>\n",
              "      <td>Alistar lets out a wild roar, removing all cro...</td>\n",
              "      <td>Alistar smashes the ground, dealing damage to ...</td>\n",
              "      <td>[Alistar is very disruptive but very tough - t...</td>\n",
              "      <td>Alistar is very disruptive but very tough - tr...</td>\n",
              "      <td>Alistar is very disruptive but very tough - tr...</td>\n",
              "      <td>Alistar disruptive tough - try target fragile ...</td>\n",
              "    </tr>\n",
              "  </tbody>\n",
              "</table>\n",
              "</div>"
            ],
            "text/plain": [
              "        id  ...                                      clean_discrib\n",
              "0   Aatrox  ...  Aatrox 's attacks telegraphed , use time dodge...\n",
              "1     Ahri  ...  Ahri 's survivability dramatically reduced Ult...\n",
              "2    Akali  ...  Akali still hit area effect spells obscured in...\n",
              "3   Akshan  ...  Raising eyebrow face danger , Akshan fights ev...\n",
              "4  Alistar  ...  Alistar disruptive tough - try target fragile ...\n",
              "\n",
              "[5 rows x 12 columns]"
            ]
          },
          "metadata": {},
          "execution_count": 56
        }
      ]
    },
    {
      "cell_type": "code",
      "metadata": {
        "id": "k2tzz0NdyXdP"
      },
      "source": [
        "from sklearn.feature_extraction.text import CountVectorizer\n",
        "from sklearn.metrics.pairwise import cosine_similarity\n"
      ],
      "execution_count": 57,
      "outputs": []
    },
    {
      "cell_type": "markdown",
      "metadata": {
        "id": "zdR-apWg2QBn"
      },
      "source": [
        "## 벡터화 해서 추천 하는 함수"
      ]
    },
    {
      "cell_type": "code",
      "metadata": {
        "colab": {
          "base_uri": "https://localhost:8080/",
          "height": 666
        },
        "id": "HbzcEhtl_ia-",
        "outputId": "f6399113-0260-4134-da88-ba8ba2ed2e59"
      },
      "source": [
        "champ_info = pd.read_csv(\"/content/drive/MyDrive/Colab Notebooks/동욱코드모음/마지막프로젝트/3주차/시도/champ_addSk.csv\")\n",
        "champ_info.head()"
      ],
      "execution_count": 58,
      "outputs": [
        {
          "output_type": "execute_result",
          "data": {
            "text/html": [
              "<div>\n",
              "<style scoped>\n",
              "    .dataframe tbody tr th:only-of-type {\n",
              "        vertical-align: middle;\n",
              "    }\n",
              "\n",
              "    .dataframe tbody tr th {\n",
              "        vertical-align: top;\n",
              "    }\n",
              "\n",
              "    .dataframe thead th {\n",
              "        text-align: right;\n",
              "    }\n",
              "</style>\n",
              "<table border=\"1\" class=\"dataframe\">\n",
              "  <thead>\n",
              "    <tr style=\"text-align: right;\">\n",
              "      <th></th>\n",
              "      <th>Unnamed: 0</th>\n",
              "      <th>version</th>\n",
              "      <th>id</th>\n",
              "      <th>key</th>\n",
              "      <th>name</th>\n",
              "      <th>title</th>\n",
              "      <th>blurb</th>\n",
              "      <th>info</th>\n",
              "      <th>image</th>\n",
              "      <th>tags</th>\n",
              "      <th>partype</th>\n",
              "      <th>stats</th>\n",
              "      <th>attack</th>\n",
              "      <th>defense</th>\n",
              "      <th>magic</th>\n",
              "      <th>difficulty</th>\n",
              "      <th>hp</th>\n",
              "      <th>hpperlevel</th>\n",
              "      <th>mp</th>\n",
              "      <th>mpperlevel</th>\n",
              "      <th>movespeed</th>\n",
              "      <th>armor</th>\n",
              "      <th>armorperlevel</th>\n",
              "      <th>spellblock</th>\n",
              "      <th>spellblockperlevel</th>\n",
              "      <th>attackrange</th>\n",
              "      <th>hpregen</th>\n",
              "      <th>hpregenperlevel</th>\n",
              "      <th>mpregen</th>\n",
              "      <th>mpregenperlevel</th>\n",
              "      <th>crit</th>\n",
              "      <th>critperlevel</th>\n",
              "      <th>attackdamage</th>\n",
              "      <th>attackdamageperlevel</th>\n",
              "      <th>attackspeedperlevel</th>\n",
              "      <th>attackspeed</th>\n",
              "      <th>skins</th>\n",
              "      <th>lore</th>\n",
              "      <th>allytips</th>\n",
              "      <th>enemytips</th>\n",
              "      <th>spells</th>\n",
              "      <th>passive</th>\n",
              "      <th>recommended</th>\n",
              "      <th>skillQ</th>\n",
              "      <th>skillW</th>\n",
              "      <th>skillE</th>\n",
              "      <th>skillR</th>\n",
              "    </tr>\n",
              "  </thead>\n",
              "  <tbody>\n",
              "    <tr>\n",
              "      <th>0</th>\n",
              "      <td>0</td>\n",
              "      <td>11.17.1</td>\n",
              "      <td>Aatrox</td>\n",
              "      <td>266</td>\n",
              "      <td>Aatrox</td>\n",
              "      <td>the Darkin Blade</td>\n",
              "      <td>Once honored defenders of Shurima against the ...</td>\n",
              "      <td>{'attack': 8, 'defense': 4, 'magic': 3, 'diffi...</td>\n",
              "      <td>{'full': 'Aatrox.png', 'sprite': 'champion0.pn...</td>\n",
              "      <td>['Fighter', 'Tank']</td>\n",
              "      <td>Blood Well</td>\n",
              "      <td>{'hp': 580, 'hpperlevel': 90, 'mp': 0, 'mpperl...</td>\n",
              "      <td>8</td>\n",
              "      <td>4</td>\n",
              "      <td>3</td>\n",
              "      <td>4</td>\n",
              "      <td>580.0</td>\n",
              "      <td>90</td>\n",
              "      <td>0.0</td>\n",
              "      <td>0.0</td>\n",
              "      <td>345</td>\n",
              "      <td>38</td>\n",
              "      <td>3.25</td>\n",
              "      <td>32.0</td>\n",
              "      <td>1.25</td>\n",
              "      <td>175</td>\n",
              "      <td>3.00</td>\n",
              "      <td>1.00</td>\n",
              "      <td>0.000</td>\n",
              "      <td>0.0</td>\n",
              "      <td>0</td>\n",
              "      <td>0</td>\n",
              "      <td>60.0</td>\n",
              "      <td>5.00</td>\n",
              "      <td>2.500</td>\n",
              "      <td>0.651</td>\n",
              "      <td>[{'id': '266000', 'num': 0, 'name': 'default',...</td>\n",
              "      <td>Once honored defenders of Shurima against the ...</td>\n",
              "      <td>['Use Umbral Dash while casting The Darkin Bla...</td>\n",
              "      <td>[\"Aatrox's attacks are very telegraphed, so us...</td>\n",
              "      <td>[{'id': 'AatroxQ', 'name': 'The Darkin Blade',...</td>\n",
              "      <td>{'name': 'Deathbringer Stance', 'description':...</td>\n",
              "      <td>[]</td>\n",
              "      <td>{'id': 'AatroxQ', 'name': 'The Darkin Blade', ...</td>\n",
              "      <td>{'id': 'AatroxW', 'name': 'Infernal Chains', '...</td>\n",
              "      <td>{'id': 'AatroxE', 'name': 'Umbral Dash', 'desc...</td>\n",
              "      <td>{'id': 'AatroxR', 'name': 'World Ender', 'desc...</td>\n",
              "    </tr>\n",
              "    <tr>\n",
              "      <th>1</th>\n",
              "      <td>1</td>\n",
              "      <td>11.17.1</td>\n",
              "      <td>Ahri</td>\n",
              "      <td>103</td>\n",
              "      <td>Ahri</td>\n",
              "      <td>the Nine-Tailed Fox</td>\n",
              "      <td>Innately connected to the latent power of Rune...</td>\n",
              "      <td>{'attack': 3, 'defense': 4, 'magic': 8, 'diffi...</td>\n",
              "      <td>{'full': 'Ahri.png', 'sprite': 'champion0.png'...</td>\n",
              "      <td>['Mage', 'Assassin']</td>\n",
              "      <td>Mana</td>\n",
              "      <td>{'hp': 526, 'hpperlevel': 92, 'mp': 418, 'mppe...</td>\n",
              "      <td>3</td>\n",
              "      <td>4</td>\n",
              "      <td>8</td>\n",
              "      <td>5</td>\n",
              "      <td>526.0</td>\n",
              "      <td>92</td>\n",
              "      <td>418.0</td>\n",
              "      <td>25.0</td>\n",
              "      <td>330</td>\n",
              "      <td>21</td>\n",
              "      <td>3.50</td>\n",
              "      <td>30.0</td>\n",
              "      <td>0.50</td>\n",
              "      <td>550</td>\n",
              "      <td>5.50</td>\n",
              "      <td>0.60</td>\n",
              "      <td>8.000</td>\n",
              "      <td>0.8</td>\n",
              "      <td>0</td>\n",
              "      <td>0</td>\n",
              "      <td>53.0</td>\n",
              "      <td>3.00</td>\n",
              "      <td>2.000</td>\n",
              "      <td>0.668</td>\n",
              "      <td>[{'id': '103000', 'num': 0, 'name': 'default',...</td>\n",
              "      <td>Innately connected to the latent power of Rune...</td>\n",
              "      <td>['Use Charm to set up your combos, it will mak...</td>\n",
              "      <td>[\"Ahri's survivability is dramatically reduced...</td>\n",
              "      <td>[{'id': 'AhriOrbofDeception', 'name': 'Orb of ...</td>\n",
              "      <td>{'name': 'Essence Theft', 'description': 'When...</td>\n",
              "      <td>[]</td>\n",
              "      <td>{'id': 'AhriOrbofDeception', 'name': 'Orb of D...</td>\n",
              "      <td>{'id': 'AhriFoxFire', 'name': 'Fox-Fire', 'des...</td>\n",
              "      <td>{'id': 'AhriSeduce', 'name': 'Charm', 'descrip...</td>\n",
              "      <td>{'id': 'AhriTumble', 'name': 'Spirit Rush', 'd...</td>\n",
              "    </tr>\n",
              "    <tr>\n",
              "      <th>2</th>\n",
              "      <td>2</td>\n",
              "      <td>11.17.1</td>\n",
              "      <td>Akali</td>\n",
              "      <td>84</td>\n",
              "      <td>Akali</td>\n",
              "      <td>the Rogue Assassin</td>\n",
              "      <td>Abandoning the Kinkou Order and her title of t...</td>\n",
              "      <td>{'attack': 5, 'defense': 3, 'magic': 8, 'diffi...</td>\n",
              "      <td>{'full': 'Akali.png', 'sprite': 'champion0.png...</td>\n",
              "      <td>['Assassin']</td>\n",
              "      <td>Energy</td>\n",
              "      <td>{'hp': 500, 'hpperlevel': 105, 'mp': 200, 'mpp...</td>\n",
              "      <td>5</td>\n",
              "      <td>3</td>\n",
              "      <td>8</td>\n",
              "      <td>7</td>\n",
              "      <td>500.0</td>\n",
              "      <td>105</td>\n",
              "      <td>200.0</td>\n",
              "      <td>0.0</td>\n",
              "      <td>345</td>\n",
              "      <td>23</td>\n",
              "      <td>3.50</td>\n",
              "      <td>37.0</td>\n",
              "      <td>1.25</td>\n",
              "      <td>125</td>\n",
              "      <td>8.00</td>\n",
              "      <td>0.50</td>\n",
              "      <td>50.000</td>\n",
              "      <td>0.0</td>\n",
              "      <td>0</td>\n",
              "      <td>0</td>\n",
              "      <td>62.0</td>\n",
              "      <td>3.30</td>\n",
              "      <td>3.200</td>\n",
              "      <td>0.625</td>\n",
              "      <td>[{'id': '84000', 'num': 0, 'name': 'default', ...</td>\n",
              "      <td>Abandoning the Kinkou Order and her title of t...</td>\n",
              "      <td>['Akali excels at killing fragile champions. L...</td>\n",
              "      <td>['Akali can still be hit by area effect spells...</td>\n",
              "      <td>[{'id': 'AkaliQ', 'name': 'Five Point Strike',...</td>\n",
              "      <td>{'name': \"Assassin's Mark\", 'description': \"De...</td>\n",
              "      <td>[]</td>\n",
              "      <td>{'id': 'AkaliQ', 'name': 'Five Point Strike', ...</td>\n",
              "      <td>{'id': 'AkaliW', 'name': 'Twilight Shroud', 'd...</td>\n",
              "      <td>{'id': 'AkaliE', 'name': 'Shuriken Flip', 'des...</td>\n",
              "      <td>{'id': 'AkaliR', 'name': 'Perfect Execution', ...</td>\n",
              "    </tr>\n",
              "    <tr>\n",
              "      <th>3</th>\n",
              "      <td>3</td>\n",
              "      <td>11.17.1</td>\n",
              "      <td>Akshan</td>\n",
              "      <td>166</td>\n",
              "      <td>Akshan</td>\n",
              "      <td>the Rogue Sentinel</td>\n",
              "      <td>Raising an eyebrow in the face of danger, Aksh...</td>\n",
              "      <td>{'attack': 0, 'defense': 0, 'magic': 0, 'diffi...</td>\n",
              "      <td>{'full': 'Akshan.png', 'sprite': 'champion0.pn...</td>\n",
              "      <td>['Marksman', 'Assassin']</td>\n",
              "      <td>Mana</td>\n",
              "      <td>{'hp': 560, 'hpperlevel': 90, 'mp': 350, 'mppe...</td>\n",
              "      <td>0</td>\n",
              "      <td>0</td>\n",
              "      <td>0</td>\n",
              "      <td>0</td>\n",
              "      <td>560.0</td>\n",
              "      <td>90</td>\n",
              "      <td>350.0</td>\n",
              "      <td>40.0</td>\n",
              "      <td>330</td>\n",
              "      <td>26</td>\n",
              "      <td>3.00</td>\n",
              "      <td>30.0</td>\n",
              "      <td>0.50</td>\n",
              "      <td>500</td>\n",
              "      <td>3.75</td>\n",
              "      <td>0.65</td>\n",
              "      <td>8.175</td>\n",
              "      <td>0.7</td>\n",
              "      <td>0</td>\n",
              "      <td>0</td>\n",
              "      <td>52.0</td>\n",
              "      <td>3.50</td>\n",
              "      <td>4.000</td>\n",
              "      <td>0.638</td>\n",
              "      <td>[{'id': '166000', 'num': 0, 'name': 'default',...</td>\n",
              "      <td>Raising an eyebrow in the face of danger, Aksh...</td>\n",
              "      <td>[\"Raising an eyebrow in the face of danger, Ak...</td>\n",
              "      <td>[]</td>\n",
              "      <td>[{'id': 'AkshanQ', 'name': 'Avengerang', 'desc...</td>\n",
              "      <td>{'name': 'Dirty Fighting', 'description': \"Eve...</td>\n",
              "      <td>[]</td>\n",
              "      <td>{'id': 'AkshanQ', 'name': 'Avengerang', 'descr...</td>\n",
              "      <td>{'id': 'AkshanW', 'name': 'Going Rogue', 'desc...</td>\n",
              "      <td>{'id': 'AkshanE', 'name': 'Heroic Swing', 'des...</td>\n",
              "      <td>{'id': 'AkshanR', 'name': 'Comeuppance', 'desc...</td>\n",
              "    </tr>\n",
              "    <tr>\n",
              "      <th>4</th>\n",
              "      <td>4</td>\n",
              "      <td>11.17.1</td>\n",
              "      <td>Alistar</td>\n",
              "      <td>12</td>\n",
              "      <td>Alistar</td>\n",
              "      <td>the Minotaur</td>\n",
              "      <td>Always a mighty warrior with a fearsome reputa...</td>\n",
              "      <td>{'attack': 6, 'defense': 9, 'magic': 5, 'diffi...</td>\n",
              "      <td>{'full': 'Alistar.png', 'sprite': 'champion0.p...</td>\n",
              "      <td>['Tank', 'Support']</td>\n",
              "      <td>Mana</td>\n",
              "      <td>{'hp': 600, 'hpperlevel': 106, 'mp': 350, 'mpp...</td>\n",
              "      <td>6</td>\n",
              "      <td>9</td>\n",
              "      <td>5</td>\n",
              "      <td>7</td>\n",
              "      <td>600.0</td>\n",
              "      <td>106</td>\n",
              "      <td>350.0</td>\n",
              "      <td>40.0</td>\n",
              "      <td>330</td>\n",
              "      <td>44</td>\n",
              "      <td>3.50</td>\n",
              "      <td>32.0</td>\n",
              "      <td>1.25</td>\n",
              "      <td>125</td>\n",
              "      <td>8.50</td>\n",
              "      <td>0.85</td>\n",
              "      <td>8.500</td>\n",
              "      <td>0.8</td>\n",
              "      <td>0</td>\n",
              "      <td>0</td>\n",
              "      <td>62.0</td>\n",
              "      <td>3.75</td>\n",
              "      <td>2.125</td>\n",
              "      <td>0.625</td>\n",
              "      <td>[{'id': '12000', 'num': 0, 'name': 'default', ...</td>\n",
              "      <td>Always a mighty warrior with a fearsome reputa...</td>\n",
              "      <td>['Using Pulverize can allow you to establish b...</td>\n",
              "      <td>['Alistar is very disruptive but very tough - ...</td>\n",
              "      <td>[{'id': 'Pulverize', 'name': 'Pulverize', 'des...</td>\n",
              "      <td>{'name': 'Triumphant Roar', 'description': 'Al...</td>\n",
              "      <td>[]</td>\n",
              "      <td>{'id': 'Pulverize', 'name': 'Pulverize', 'desc...</td>\n",
              "      <td>{'id': 'Headbutt', 'name': 'Headbutt', 'descri...</td>\n",
              "      <td>{'id': 'AlistarE', 'name': 'Trample', 'descrip...</td>\n",
              "      <td>{'id': 'FerociousHowl', 'name': 'Unbreakable W...</td>\n",
              "    </tr>\n",
              "  </tbody>\n",
              "</table>\n",
              "</div>"
            ],
            "text/plain": [
              "   Unnamed: 0  ...                                             skillR\n",
              "0           0  ...  {'id': 'AatroxR', 'name': 'World Ender', 'desc...\n",
              "1           1  ...  {'id': 'AhriTumble', 'name': 'Spirit Rush', 'd...\n",
              "2           2  ...  {'id': 'AkaliR', 'name': 'Perfect Execution', ...\n",
              "3           3  ...  {'id': 'AkshanR', 'name': 'Comeuppance', 'desc...\n",
              "4           4  ...  {'id': 'FerociousHowl', 'name': 'Unbreakable W...\n",
              "\n",
              "[5 rows x 47 columns]"
            ]
          },
          "metadata": {},
          "execution_count": 58
        }
      ]
    },
    {
      "cell_type": "code",
      "metadata": {
        "id": "BBaGY053y_pq"
      },
      "source": [
        "def make_it_simm(df,column,champ_name):\n",
        "    count_vect = CountVectorizer(min_df=0, ngram_range=(1,2))\n",
        "    clean_discrib_mat = count_vect.fit_transform(df[column])\n",
        "    all_discribtion_sim = cosine_similarity(clean_discrib_mat, clean_discrib_mat)\n",
        "    all_discribtion_sorted_ind = all_discribtion_sim.argsort()[:, ::-1]\n",
        "    all_discribtion_sim_sorted_ind = np.sort(all_discribtion_sim, axis=1)[:,::-1]\n",
        "    # titile 데이터 추출\n",
        "    champ_skill = df[df['id'] == champ_name]\n",
        "    \n",
        "    # title_name에 해당되는 데이터프레임 index 객체를 배열로 반환하고\n",
        "    # 유사도 순으로 top_n개의 index 추출\n",
        "    champ_index = champ_skill.index.values\n",
        "    similar_indexes = all_discribtion_sorted_ind[champ_index, :(10)]\n",
        "    print(all_discribtion_sim_sorted_ind[champ_index, :(10)])\n",
        "    # 추출된 top_n index 출력 \n",
        "    # 2차원 데이터를 1차원 array로 변환\n",
        "    print(similar_indexes)\n",
        "    similar_indexes = similar_indexes.reshape(-1)\n",
        "    \n",
        "    # index에 해당되는 데이터프레임 반환\n",
        "    return df.loc[similar_indexes][['id', 'tags']]\n"
      ],
      "execution_count": 59,
      "outputs": []
    },
    {
      "cell_type": "code",
      "metadata": {
        "id": "k2u_fcpZBbIe"
      },
      "source": [
        ""
      ],
      "execution_count": 59,
      "outputs": []
    },
    {
      "cell_type": "code",
      "metadata": {
        "colab": {
          "base_uri": "https://localhost:8080/",
          "height": 410
        },
        "id": "-fiyjBSu_gsz",
        "outputId": "a6bf24ff-d7cf-4bbd-dd7c-3f36b7122383"
      },
      "source": [
        "make_it_simm(champ_summ, 'clean_discrib', 'DrMundo')"
      ],
      "execution_count": 60,
      "outputs": [
        {
          "output_type": "stream",
          "name": "stdout",
          "text": [
            "[[1.         0.34977271 0.31612923 0.28894979 0.28881647 0.27821256\n",
            "  0.27434145 0.2711978  0.26239489 0.26145392]]\n",
            "[[ 24  39 107  34  38  65  66 108  49  36]]\n"
          ]
        },
        {
          "output_type": "execute_result",
          "data": {
            "text/html": [
              "<div>\n",
              "<style scoped>\n",
              "    .dataframe tbody tr th:only-of-type {\n",
              "        vertical-align: middle;\n",
              "    }\n",
              "\n",
              "    .dataframe tbody tr th {\n",
              "        vertical-align: top;\n",
              "    }\n",
              "\n",
              "    .dataframe thead th {\n",
              "        text-align: right;\n",
              "    }\n",
              "</style>\n",
              "<table border=\"1\" class=\"dataframe\">\n",
              "  <thead>\n",
              "    <tr style=\"text-align: right;\">\n",
              "      <th></th>\n",
              "      <th>id</th>\n",
              "      <th>tags</th>\n",
              "    </tr>\n",
              "  </thead>\n",
              "  <tbody>\n",
              "    <tr>\n",
              "      <th>24</th>\n",
              "      <td>DrMundo</td>\n",
              "      <td>['Fighter', 'Tank']</td>\n",
              "    </tr>\n",
              "    <tr>\n",
              "      <th>39</th>\n",
              "      <td>Hecarim</td>\n",
              "      <td>['Fighter', 'Tank']</td>\n",
              "    </tr>\n",
              "    <tr>\n",
              "      <th>107</th>\n",
              "      <td>Sett</td>\n",
              "      <td>['Fighter', 'Tank']</td>\n",
              "    </tr>\n",
              "    <tr>\n",
              "      <th>34</th>\n",
              "      <td>Garen</td>\n",
              "      <td>['Fighter', 'Tank']</td>\n",
              "    </tr>\n",
              "    <tr>\n",
              "      <th>38</th>\n",
              "      <td>Gwen</td>\n",
              "      <td>['Fighter', 'Assassin']</td>\n",
              "    </tr>\n",
              "    <tr>\n",
              "      <th>65</th>\n",
              "      <td>Leona</td>\n",
              "      <td>['Tank', 'Support']</td>\n",
              "    </tr>\n",
              "    <tr>\n",
              "      <th>66</th>\n",
              "      <td>Lillia</td>\n",
              "      <td>['Fighter', 'Mage']</td>\n",
              "    </tr>\n",
              "    <tr>\n",
              "      <th>108</th>\n",
              "      <td>Shaco</td>\n",
              "      <td>['Assassin']</td>\n",
              "    </tr>\n",
              "    <tr>\n",
              "      <th>49</th>\n",
              "      <td>Jinx</td>\n",
              "      <td>['Marksman']</td>\n",
              "    </tr>\n",
              "    <tr>\n",
              "      <th>36</th>\n",
              "      <td>Gragas</td>\n",
              "      <td>['Fighter', 'Mage']</td>\n",
              "    </tr>\n",
              "  </tbody>\n",
              "</table>\n",
              "</div>"
            ],
            "text/plain": [
              "          id                     tags\n",
              "24   DrMundo      ['Fighter', 'Tank']\n",
              "39   Hecarim      ['Fighter', 'Tank']\n",
              "107     Sett      ['Fighter', 'Tank']\n",
              "34     Garen      ['Fighter', 'Tank']\n",
              "38      Gwen  ['Fighter', 'Assassin']\n",
              "65     Leona      ['Tank', 'Support']\n",
              "66    Lillia      ['Fighter', 'Mage']\n",
              "108    Shaco             ['Assassin']\n",
              "49      Jinx             ['Marksman']\n",
              "36    Gragas      ['Fighter', 'Mage']"
            ]
          },
          "metadata": {},
          "execution_count": 60
        }
      ]
    },
    {
      "cell_type": "code",
      "metadata": {
        "colab": {
          "base_uri": "https://localhost:8080/",
          "height": 410
        },
        "id": "DKLBl3y42BFU",
        "outputId": "2c888239-ab15-49ab-c76e-6f0d6641cb84"
      },
      "source": [
        "make_it_simm(champ_summ, 'clean_discrib', 'Zed')\n",
        "## 음 결과가 그시기 하다. 0.19가 가장 높은데 제드랑 문도? 안 좋음"
      ],
      "execution_count": 61,
      "outputs": [
        {
          "output_type": "stream",
          "name": "stdout",
          "text": [
            "[[1.         0.19304814 0.18855779 0.17723707 0.17693585 0.1693994\n",
            "  0.16639426 0.16627369 0.16537351 0.16488595]]\n",
            "[[151  24  39  34 122  65 108  38  54 118]]\n"
          ]
        },
        {
          "output_type": "execute_result",
          "data": {
            "text/html": [
              "<div>\n",
              "<style scoped>\n",
              "    .dataframe tbody tr th:only-of-type {\n",
              "        vertical-align: middle;\n",
              "    }\n",
              "\n",
              "    .dataframe tbody tr th {\n",
              "        vertical-align: top;\n",
              "    }\n",
              "\n",
              "    .dataframe thead th {\n",
              "        text-align: right;\n",
              "    }\n",
              "</style>\n",
              "<table border=\"1\" class=\"dataframe\">\n",
              "  <thead>\n",
              "    <tr style=\"text-align: right;\">\n",
              "      <th></th>\n",
              "      <th>id</th>\n",
              "      <th>tags</th>\n",
              "    </tr>\n",
              "  </thead>\n",
              "  <tbody>\n",
              "    <tr>\n",
              "      <th>151</th>\n",
              "      <td>Zed</td>\n",
              "      <td>['Assassin']</td>\n",
              "    </tr>\n",
              "    <tr>\n",
              "      <th>24</th>\n",
              "      <td>DrMundo</td>\n",
              "      <td>['Fighter', 'Tank']</td>\n",
              "    </tr>\n",
              "    <tr>\n",
              "      <th>39</th>\n",
              "      <td>Hecarim</td>\n",
              "      <td>['Fighter', 'Tank']</td>\n",
              "    </tr>\n",
              "    <tr>\n",
              "      <th>34</th>\n",
              "      <td>Garen</td>\n",
              "      <td>['Fighter', 'Tank']</td>\n",
              "    </tr>\n",
              "    <tr>\n",
              "      <th>122</th>\n",
              "      <td>Talon</td>\n",
              "      <td>['Assassin']</td>\n",
              "    </tr>\n",
              "    <tr>\n",
              "      <th>65</th>\n",
              "      <td>Leona</td>\n",
              "      <td>['Tank', 'Support']</td>\n",
              "    </tr>\n",
              "    <tr>\n",
              "      <th>108</th>\n",
              "      <td>Shaco</td>\n",
              "      <td>['Assassin']</td>\n",
              "    </tr>\n",
              "    <tr>\n",
              "      <th>38</th>\n",
              "      <td>Gwen</td>\n",
              "      <td>['Fighter', 'Assassin']</td>\n",
              "    </tr>\n",
              "    <tr>\n",
              "      <th>54</th>\n",
              "      <td>Kassadin</td>\n",
              "      <td>['Assassin', 'Mage']</td>\n",
              "    </tr>\n",
              "    <tr>\n",
              "      <th>118</th>\n",
              "      <td>Sylas</td>\n",
              "      <td>['Mage', 'Assassin']</td>\n",
              "    </tr>\n",
              "  </tbody>\n",
              "</table>\n",
              "</div>"
            ],
            "text/plain": [
              "           id                     tags\n",
              "151       Zed             ['Assassin']\n",
              "24    DrMundo      ['Fighter', 'Tank']\n",
              "39    Hecarim      ['Fighter', 'Tank']\n",
              "34      Garen      ['Fighter', 'Tank']\n",
              "122     Talon             ['Assassin']\n",
              "65      Leona      ['Tank', 'Support']\n",
              "108     Shaco             ['Assassin']\n",
              "38       Gwen  ['Fighter', 'Assassin']\n",
              "54   Kassadin     ['Assassin', 'Mage']\n",
              "118     Sylas     ['Mage', 'Assassin']"
            ]
          },
          "metadata": {},
          "execution_count": 61
        }
      ]
    },
    {
      "cell_type": "code",
      "metadata": {
        "id": "DOzxKa6Dyg4k"
      },
      "source": [
        "# pip install pororo"
      ],
      "execution_count": 62,
      "outputs": []
    },
    {
      "cell_type": "code",
      "metadata": {
        "id": "eqQl2holyFvq",
        "colab": {
          "base_uri": "https://localhost:8080/"
        },
        "outputId": "89fd63b0-477b-4683-bdf8-50bedcf22213"
      },
      "source": [
        "from pororo import Pororo"
      ],
      "execution_count": 63,
      "outputs": [
        {
          "output_type": "stream",
          "name": "stderr",
          "text": [
            "[Korean Sentence Splitter]: Initializing Kss...\n"
          ]
        }
      ]
    },
    {
      "cell_type": "code",
      "metadata": {
        "colab": {
          "base_uri": "https://localhost:8080/"
        },
        "id": "KJy96_va--uL",
        "outputId": "fef8fd70-fa0e-4c2a-fc4b-184667903e0a"
      },
      "source": [
        "champ_skill = champ_summ[champ_summ['id'] == 'Zed'].index.values[0]\n",
        "champ_skill"
      ],
      "execution_count": 64,
      "outputs": [
        {
          "output_type": "execute_result",
          "data": {
            "text/plain": [
              "151"
            ]
          },
          "metadata": {},
          "execution_count": 64
        }
      ]
    },
    {
      "cell_type": "code",
      "metadata": {
        "id": "Ni8EtLCaZVn_"
      },
      "source": [
        ""
      ],
      "execution_count": 64,
      "outputs": []
    },
    {
      "cell_type": "code",
      "metadata": {
        "colab": {
          "base_uri": "https://localhost:8080/",
          "height": 140
        },
        "id": "2ocM8slDDOSA",
        "outputId": "d2308833-4c8b-44d7-8376-a735e8cde9b0"
      },
      "source": [
        "champ_summ['all_discribtion'][champ_skill]"
      ],
      "execution_count": 65,
      "outputs": [
        {
          "output_type": "execute_result",
          "data": {
            "application/vnd.google.colaboratory.intrinsic+json": {
              "type": "string"
            },
            "text/plain": [
              "\"Zed receives bonus effect from Attack Damage items he purchases, so Armor is super effective against him. After Zed uses his Living Shadow, he is at his most vulnerable as his damage, slow, and mobility are both dependent upon it. Zed's Shadow Slash can only slow you if his shadow hits you with it.  Saving energy and spell cooldowns until you use your ultimate will maximize Death Mark's damage. Quickly double tapping Living Shadow will teleport Zed to his shadow immediately for rapid escapes. Placing a Living Shadow before using Death Mark can give Zed a safe escape from combat.Zed and his shadows throw their shurikens.Each shuriken deals damage to every enemy hit.Passive: Zed gains energy whenever he and his shadows strike an enemy with the same ability. Energy can only be gained once per cast ability.Active: Zed's shadow dashes forward, remaining in place for a few seconds. Reactivating Living Shadow will cause Zed to switch positions with this shadow.Zed and his shadows slash, dealing damage to nearby enemies.Zed becomes untargetable and dashes to an enemy champion, marking them. After 3 seconds the mark triggers, repeating a portion of all the damage Zed dealt to the target while they were marked.\""
            ]
          },
          "metadata": {},
          "execution_count": 65
        }
      ]
    },
    {
      "cell_type": "code",
      "metadata": {
        "id": "S8tt28qQZVL8"
      },
      "source": [
        ""
      ],
      "execution_count": 65,
      "outputs": []
    },
    {
      "cell_type": "code",
      "metadata": {
        "colab": {
          "base_uri": "https://localhost:8080/",
          "height": 140
        },
        "id": "4izYDrn7WnKw",
        "outputId": "455f3b39-a361-4132-ddf1-6177ba966ae5"
      },
      "source": [
        "champ_summ['all_discribtion'][0]"
      ],
      "execution_count": 66,
      "outputs": [
        {
          "output_type": "execute_result",
          "data": {
            "application/vnd.google.colaboratory.intrinsic+json": {
              "type": "string"
            },
            "text/plain": [
              "\"Aatrox's attacks are very telegraphed, so use the time to dodge the hit zones. Aatrox's Infernal Chains are easier to exit when running towards the sides or at Aatrox. Keep your distance when Aatrox uses his Ultimate to prevent him from reviving. Use Umbral Dash while casting The Darkin Blade to increase your chances of hitting the enemy. Crowd Control abilities like Infernal Chains or your allies' immobilizing effects will help you set up The Darkin Blade. Cast World Ender when you are sure you can force a fight.Aatrox slams his greatsword down, dealing physical damage. He can swing three times, each with a different area of effect.Aatrox smashes the ground, dealing damage to the first enemy hit. Champions and large monsters have to leave the impact area quickly or they will be dragged to the center and take the damage again.Passively, Aatrox heals when damaging enemy champions. On activation, he dashes in a direction.Aatrox unleashes his demonic form, fearing nearby enemy minions and gaining attack damage, increased healing, and movement speed. If he gets a takedown, this effect is extended.\""
            ]
          },
          "metadata": {},
          "execution_count": 66
        }
      ]
    },
    {
      "cell_type": "code",
      "metadata": {
        "colab": {
          "base_uri": "https://localhost:8080/"
        },
        "id": "f7tRDrwKEmrQ",
        "outputId": "3bb9f148-3a48-460b-8f0b-0e27ad08d240"
      },
      "source": [
        "se = Pororo(task=\"sentence_embedding\")\n",
        "query = \"He is the tallest person in the world\"\n",
        "cands = [\n",
        "     \"I hate this guy.\",\n",
        "     \"You are so lovely!.\",\n",
        "     \"Tom is taller than Jim.\"]\n",
        "se.find_similar_sentences(query, cands)"
      ],
      "execution_count": 67,
      "outputs": [
        {
          "output_type": "execute_result",
          "data": {
            "text/plain": [
              "{'query': 'He is the tallest person in the world',\n",
              " 'ranking': [(1, 'You are so lovely!.', 0.49),\n",
              "  (2, 'Tom is taller than Jim.', 0.44),\n",
              "  (0, 'I hate this guy.', 0.2)]}"
            ]
          },
          "metadata": {},
          "execution_count": 67
        }
      ]
    },
    {
      "cell_type": "code",
      "metadata": {
        "id": "yibC5PEbE8Z4"
      },
      "source": [
        "# ranking['ranking'][1]"
      ],
      "execution_count": 68,
      "outputs": []
    },
    {
      "cell_type": "code",
      "metadata": {
        "id": "gfWpHMnGVDI7"
      },
      "source": [
        ""
      ],
      "execution_count": 68,
      "outputs": []
    },
    {
      "cell_type": "markdown",
      "metadata": {
        "id": "SzTmvTADzUWA"
      },
      "source": [
        "## 뽀로로가 좋아 - all_discribtion Ver."
      ]
    },
    {
      "cell_type": "code",
      "metadata": {
        "colab": {
          "base_uri": "https://localhost:8080/"
        },
        "id": "uo0P17hiVAYu",
        "outputId": "68db0f3f-7f3e-4ffc-d611-f1ebf9d99259"
      },
      "source": [
        "champ_info.info()"
      ],
      "execution_count": 69,
      "outputs": [
        {
          "output_type": "stream",
          "name": "stdout",
          "text": [
            "<class 'pandas.core.frame.DataFrame'>\n",
            "RangeIndex: 156 entries, 0 to 155\n",
            "Data columns (total 47 columns):\n",
            " #   Column                Non-Null Count  Dtype  \n",
            "---  ------                --------------  -----  \n",
            " 0   Unnamed: 0            156 non-null    int64  \n",
            " 1   version               156 non-null    object \n",
            " 2   id                    156 non-null    object \n",
            " 3   key                   156 non-null    int64  \n",
            " 4   name                  156 non-null    object \n",
            " 5   title                 156 non-null    object \n",
            " 6   blurb                 156 non-null    object \n",
            " 7   info                  156 non-null    object \n",
            " 8   image                 156 non-null    object \n",
            " 9   tags                  156 non-null    object \n",
            " 10  partype               156 non-null    object \n",
            " 11  stats                 156 non-null    object \n",
            " 12  attack                156 non-null    int64  \n",
            " 13  defense               156 non-null    int64  \n",
            " 14  magic                 156 non-null    int64  \n",
            " 15  difficulty            156 non-null    int64  \n",
            " 16  hp                    156 non-null    float64\n",
            " 17  hpperlevel            156 non-null    int64  \n",
            " 18  mp                    156 non-null    float64\n",
            " 19  mpperlevel            156 non-null    float64\n",
            " 20  movespeed             156 non-null    int64  \n",
            " 21  armor                 156 non-null    int64  \n",
            " 22  armorperlevel         156 non-null    float64\n",
            " 23  spellblock            156 non-null    float64\n",
            " 24  spellblockperlevel    156 non-null    float64\n",
            " 25  attackrange           156 non-null    int64  \n",
            " 26  hpregen               156 non-null    float64\n",
            " 27  hpregenperlevel       156 non-null    float64\n",
            " 28  mpregen               156 non-null    float64\n",
            " 29  mpregenperlevel       156 non-null    float64\n",
            " 30  crit                  156 non-null    int64  \n",
            " 31  critperlevel          156 non-null    int64  \n",
            " 32  attackdamage          156 non-null    float64\n",
            " 33  attackdamageperlevel  156 non-null    float64\n",
            " 34  attackspeedperlevel   156 non-null    float64\n",
            " 35  attackspeed           156 non-null    float64\n",
            " 36  skins                 156 non-null    object \n",
            " 37  lore                  156 non-null    object \n",
            " 38  allytips              156 non-null    object \n",
            " 39  enemytips             156 non-null    object \n",
            " 40  spells                156 non-null    object \n",
            " 41  passive               156 non-null    object \n",
            " 42  recommended           156 non-null    object \n",
            " 43  skillQ                156 non-null    object \n",
            " 44  skillW                156 non-null    object \n",
            " 45  skillE                156 non-null    object \n",
            " 46  skillR                156 non-null    object \n",
            "dtypes: float64(14), int64(12), object(21)\n",
            "memory usage: 57.4+ KB\n"
          ]
        }
      ]
    },
    {
      "cell_type": "code",
      "metadata": {
        "id": "ti5c502l1fTW"
      },
      "source": [
        "champ_summ['allytips'] = champ_info['allytips']\n",
        "champ_summ['enemytips'] = champ_info['enemytips']"
      ],
      "execution_count": 70,
      "outputs": []
    },
    {
      "cell_type": "code",
      "metadata": {
        "id": "fh3fCoom-Ntx"
      },
      "source": [
        "def pororo_good(column, champ_name):\n",
        "    # clean_discrib = []\n",
        "    cands = []\n",
        "    for i in range(len(champ_summ[column])):\n",
        "        cands.append(champ_summ[column][i])\n",
        "    se = Pororo(task=\"sentence_embedding\")\n",
        "    # champ_skill = df[df['id'] == champ_name]['key']\n",
        "    key = champ_summ[champ_summ['id'] == champ_name].index.values[0]\n",
        "    discrib = champ_summ[column][key]\n",
        "    # cands = []\n",
        "    # for i in range(len(champ_summ['all_discribtion'])):\n",
        "    #     cands.append(champ_summ['all_discribtion'][i])\n",
        "    # se.find_similar_sentences(discrib, cands)\n",
        "    return se.find_similar_sentences(discrib, cands)['ranking'][:6]"
      ],
      "execution_count": 71,
      "outputs": []
    },
    {
      "cell_type": "code",
      "metadata": {
        "colab": {
          "base_uri": "https://localhost:8080/"
        },
        "id": "nModT3cv2061",
        "outputId": "21a99163-1d6e-4644-b8c0-c5902e9442a9"
      },
      "source": [
        "champ_summ['key']"
      ],
      "execution_count": 72,
      "outputs": [
        {
          "output_type": "execute_result",
          "data": {
            "text/plain": [
              "0      266\n",
              "1      103\n",
              "2       84\n",
              "3      166\n",
              "4       12\n",
              "      ... \n",
              "151    238\n",
              "152    115\n",
              "153     26\n",
              "154    142\n",
              "155    143\n",
              "Name: key, Length: 156, dtype: int64"
            ]
          },
          "metadata": {},
          "execution_count": 72
        }
      ]
    },
    {
      "cell_type": "code",
      "metadata": {
        "colab": {
          "base_uri": "https://localhost:8080/"
        },
        "id": "tGktlTyU3XAF",
        "outputId": "506fc369-b7bf-49da-c54a-4ff3a38b43e0"
      },
      "source": [
        "champ_summ.info()"
      ],
      "execution_count": 73,
      "outputs": [
        {
          "output_type": "stream",
          "name": "stdout",
          "text": [
            "<class 'pandas.core.frame.DataFrame'>\n",
            "RangeIndex: 156 entries, 0 to 155\n",
            "Data columns (total 14 columns):\n",
            " #   Column            Non-Null Count  Dtype \n",
            "---  ------            --------------  ----- \n",
            " 0   id                156 non-null    object\n",
            " 1   key               156 non-null    int64 \n",
            " 2   tags              156 non-null    object\n",
            " 3   champ_q           156 non-null    object\n",
            " 4   champ_w           156 non-null    object\n",
            " 5   champ_e           156 non-null    object\n",
            " 6   champ_r           156 non-null    object\n",
            " 7   champ_all_skill   156 non-null    object\n",
            " 8   all_tips          156 non-null    object\n",
            " 9   all_tips_literal  156 non-null    object\n",
            " 10  all_discribtion   156 non-null    object\n",
            " 11  clean_discrib     156 non-null    object\n",
            " 12  allytips          156 non-null    object\n",
            " 13  enemytips         156 non-null    object\n",
            "dtypes: int64(1), object(13)\n",
            "memory usage: 17.2+ KB\n"
          ]
        }
      ]
    },
    {
      "cell_type": "code",
      "metadata": {
        "colab": {
          "base_uri": "https://localhost:8080/"
        },
        "id": "eRpaiLX83o6d",
        "outputId": "e712fe5b-94c9-41db-facf-e4aa487785f7"
      },
      "source": [
        "champ_summ['key'][0]"
      ],
      "execution_count": 74,
      "outputs": [
        {
          "output_type": "execute_result",
          "data": {
            "text/plain": [
              "266"
            ]
          },
          "metadata": {},
          "execution_count": 74
        }
      ]
    },
    {
      "cell_type": "code",
      "metadata": {
        "colab": {
          "base_uri": "https://localhost:8080/"
        },
        "id": "5j7uL8bV2mrt",
        "outputId": "dbf1f9a9-30d5-4923-974c-74b75fdf9093"
      },
      "source": [
        "champ_summ[champ_summ['key'] == 266]['id']"
      ],
      "execution_count": 75,
      "outputs": [
        {
          "output_type": "execute_result",
          "data": {
            "text/plain": [
              "0    Aatrox\n",
              "Name: id, dtype: object"
            ]
          },
          "metadata": {},
          "execution_count": 75
        }
      ]
    },
    {
      "cell_type": "code",
      "metadata": {
        "colab": {
          "base_uri": "https://localhost:8080/",
          "height": 37
        },
        "id": "ypAXzL9m4WEF",
        "outputId": "d23846f7-5afc-46d2-f938-82e0aebcb55b"
      },
      "source": [
        "champ_summ['id'][151]"
      ],
      "execution_count": 76,
      "outputs": [
        {
          "output_type": "execute_result",
          "data": {
            "application/vnd.google.colaboratory.intrinsic+json": {
              "type": "string"
            },
            "text/plain": [
              "'Zed'"
            ]
          },
          "metadata": {},
          "execution_count": 76
        }
      ]
    },
    {
      "cell_type": "code",
      "metadata": {
        "id": "E_bK87ka4L1L"
      },
      "source": [
        ""
      ],
      "execution_count": 76,
      "outputs": []
    },
    {
      "cell_type": "code",
      "metadata": {
        "id": "eno0YnD92Y2W"
      },
      "source": [
        "def who_are_u(champ_key):\n",
        "    return champ_summ['id'][champ_key]"
      ],
      "execution_count": 77,
      "outputs": []
    },
    {
      "cell_type": "code",
      "metadata": {
        "id": "hnlMqRqb2V2b"
      },
      "source": [
        ""
      ],
      "execution_count": 77,
      "outputs": []
    },
    {
      "cell_type": "code",
      "metadata": {
        "colab": {
          "base_uri": "https://localhost:8080/",
          "height": 37
        },
        "id": "Eub_wY6h4DZX",
        "outputId": "1163298a-a535-46ae-ce88-fcb813b40de4"
      },
      "source": [
        "who_are_u(58)"
      ],
      "execution_count": 78,
      "outputs": [
        {
          "output_type": "execute_result",
          "data": {
            "application/vnd.google.colaboratory.intrinsic+json": {
              "type": "string"
            },
            "text/plain": [
              "'Kennen'"
            ]
          },
          "metadata": {},
          "execution_count": 78
        }
      ]
    },
    {
      "cell_type": "code",
      "metadata": {
        "colab": {
          "base_uri": "https://localhost:8080/"
        },
        "id": "bhndwYAqFdBA",
        "outputId": "4516f564-e09c-4340-b066-ac3dada4182f"
      },
      "source": [
        "pororo_good('clean_discrib','Leona')\n",
        "# 1번 제드, 2번 탈론, 3번 가렌???, 4번 헤카림??, 5번 베이가"
      ],
      "execution_count": 79,
      "outputs": [
        {
          "output_type": "execute_result",
          "data": {
            "text/plain": [
              "[(65,\n",
              "  \"When Leona activates Eclipse , three seconds get away deals damage . Only foes center Solar Flare get stunned , often avoid 're quick . Lead charge mark foes Sunlight allies deal damage . Shield Daybreak Zenith Blade form powerful offensive combo . You absorb huge amount damage using Eclipse , must stay near enemies gain bonus duration.Leona uses shield perform next basic attack , dealing bonus magic damage stunning target.Leona raises shield gain Damage Reduction , Armor , Magic Resist . When duration first ends , nearby enemies , deal magic damage prolong duration effect.Leona projects solar image sword , dealing magic damage enemies line . When image fades , last enemy champion struck briefly immobilized Leona dash them.Leona calls beam solar energy , dealing damage enemies area . Enemies center area stunned , enemies outside slowed .\",\n",
              "  1.0),\n",
              " (101,\n",
              "  \"Watch Rumble 's Heat bar carefully . If see Overheat , go kill skills disabled . Rumble 's ultimate deal lot damage stay inside area effect . When see missiles falling , move way quickly possible . Rumble deals almost entirely magic damage . Build Magic Resistance reduce damage . Try pace stay Danger Zone maximize effectiveness . It easy overheat rapidly use abilities . Try keep targets range Flamespitter . It deal lot damage overtime . If winning fight use ultimate wall escape path.Rumble torches opponents front , dealing magic damage cone 3 seconds . While Danger Zone damage increased.Rumble pulls shield , protecting damage granting quick burst speed . While Danger Zone , shield strength speed bonus increased.Rumble launches harpoon , electrocuting target magic damage , slowing Move Speed , reducing Magic Resist . Rumble carry 2 harpoons time . While Danger Zone damage slow percentage increased.Rumble fires group rockets , creating wall flames damages slows enemies .\",\n",
              "  0.81),\n",
              " (58,\n",
              "  'Consider playing bit cautiously around Kennen Mark Storm debuff . If hits 3 Marks Storm , get stunned . Kennen flimsy nature - turn attack gets careless Lightning Rush . You stun opponents inflicting 3 Marks Storm upon . Lightning Rush used initiate fights Energy return component , allowing use abilities afterward . You land initial Mark Storm debuff opponent Thundering Shuriken , add Electrical Surge.Kennen throws fast moving shuriken towards location , causing damage adding Mark Storm opponent hits.Kennen passively deals extra damage adds Mark Storm target every attacks , activate ability damage add another Mark Storm targets already marked.Kennen morphs lightning form , enabling pass units apply Mark Storm . Kennen gains movement speed entering form , attack speed leaving it.Kennen summons storm strikes nearby enemy champions magical damage .',\n",
              "  0.81),\n",
              " (144,\n",
              "  \"Xerath 's range intimidating , champions close distance trade favorably . Xerath takes long time engage Rite Arcane . Watch spellcast animation start dodging . Banshee 's Veil make much harder Xerath land Shocking Orb . It 's easier land Arcanopulse enemy 're moving toward away , rather side side . Eye Destruction make landing Arcanopulse easier target slowed . If stun enemy Shocking Orb , follow guaranteed center hit Eye Destruction.Fires long-range beam energy , dealing magic damage targets hit.Calls barrage arcane energy , slowing dealing magic damage enemies area . Targets middle receive additional damage stronger slow.Deals magic damage enemy stuns them.Xerath immobilizes gains numerous long-range barrages .\",\n",
              "  0.8),\n",
              " (71,\n",
              "  \"If 're physical damage character stay behind allies fighting Malphite . Ground Slam significantly reduce damage output . Malphite one couple tanks capable jungling . Watch gets Smite . Armor naturally reduces rate attacks go Granite Shield , Brutal Strikes strengthen shield physical damage . Despite abilities scaling Armor , games require Malphite get Magic Resist . When games occur , try getting Aegis Legion , Mercury 's Treads , Guardian Angel.Malphite sends shard earth ground foe , dealing damage upon impact stealing Movement Speed 3 seconds.Malphite attacks force creates sonic boom . For next seconds , attacks create aftershocks front him.Malphite slams ground , sending shockwave deals magic damage based Armor reduces Attack Speed enemies short duration.Malphite launches location high speed , damaging enemies knocking air .\",\n",
              "  0.79)]"
            ]
          },
          "metadata": {},
          "execution_count": 79
        }
      ]
    },
    {
      "cell_type": "code",
      "metadata": {
        "colab": {
          "base_uri": "https://localhost:8080/"
        },
        "id": "MGPBiTZB1yF7",
        "outputId": "93ed1ef9-38fc-457d-cf15-1d0c2546b045"
      },
      "source": [
        "pororo_good('allytips','Zed')\n",
        "# 1번 제드, 2번 르블랑, 3번 진???, 4번 헤카림??, 5번 리신?"
      ],
      "execution_count": 80,
      "outputs": [
        {
          "output_type": "execute_result",
          "data": {
            "text/plain": [
              "[(151,\n",
              "  '[\"Saving energy and spell cooldowns until you use your ultimate will maximize Death Mark\\'s damage.\", \\'Quickly double tapping Living Shadow will teleport Zed to his shadow immediately for rapid escapes.\\', \\'Placing a Living Shadow before using Death Mark can give Zed a safe escape from combat.\\']',\n",
              "  1.0),\n",
              " (63,\n",
              "  \"['Distortion allows you to be aggressive with your other spells while being able to return to safety.', 'Using Distortion can help your positioning to land Ethereal Chains.', 'You can chain Sigil of Malice and Ethereal Chains to prevent characters with blink from escaping for up to 4 seconds.']\",\n",
              "  0.79),\n",
              " (48,\n",
              "  \"['Deadly Flourish has incredible range. When approaching a fight be sure to look ahead for enemies that could be rooted.', 'Your ultimate deals significantly less damage to enemies with full health. Look to pick off weakened targets as they run away.', 'You can still cast your spells while reloading. Use them to fill the down time.']\",\n",
              "  0.79),\n",
              " (39,\n",
              "  '[\"Spirit of Dread restores Health when nearby enemies take damage, including damage dealt by allies. Cast this during a large fight to maximize Hecarim\\'s survivability.\", \\'Devastating Charge deals more damage based on the distance traveled. Try using Onslaught of Shadows or Summoner Spells such as Ghost or Flash to maximize this damage.\\']',\n",
              "  0.79),\n",
              " (64,\n",
              "  '[\"Use Sonic Wave before Dragon\\'s Rage so you can chase the target with Resonating Strike.\", \\'Take advantage of Flurry by weaving in basic attacks between spell casts - this maximizes damage output and minimizes Energy loss.\\', \\'Self-casting Safeguard and using Iron Will are powerful tools for killing neutral monsters (in the jungle).\\']',\n",
              "  0.78)]"
            ]
          },
          "metadata": {},
          "execution_count": 80
        }
      ]
    },
    {
      "cell_type": "code",
      "metadata": {
        "colab": {
          "base_uri": "https://localhost:8080/",
          "height": 37
        },
        "id": "bAkrMaUS2MSD",
        "outputId": "420203a5-7a23-409f-fbba-58622b147938"
      },
      "source": [
        "who_are_u(64)"
      ],
      "execution_count": 81,
      "outputs": [
        {
          "output_type": "execute_result",
          "data": {
            "application/vnd.google.colaboratory.intrinsic+json": {
              "type": "string"
            },
            "text/plain": [
              "'LeeSin'"
            ]
          },
          "metadata": {},
          "execution_count": 81
        }
      ]
    },
    {
      "cell_type": "code",
      "metadata": {
        "colab": {
          "base_uri": "https://localhost:8080/"
        },
        "id": "B3GRvmse13mT",
        "outputId": "553b6307-4350-455f-ad2d-264bd684c13f"
      },
      "source": [
        "pororo_good('enemytips','Zed')\n",
        "# 1 :제드, 2: 탈론, 3: 스웨인??, 4: 가렌???, 5: 카사딘?"
      ],
      "execution_count": 82,
      "outputs": [
        {
          "output_type": "execute_result",
          "data": {
            "text/plain": [
              "[(151,\n",
              "  '[\\'Zed receives bonus effect from Attack Damage items he purchases, so Armor is super effective against him.\\', \\'After Zed uses his Living Shadow, he is at his most vulnerable as his damage, slow, and mobility are both dependent upon it.\\', \"Zed\\'s Shadow Slash can only slow you if his shadow hits you with it. \"]',\n",
              "  1.0),\n",
              " (122,\n",
              "  '[\"Talon\\'s attacks are all physical damage. Build armor early to counter his burst damage.\", \"Talon is heavily reliant on Shadow Assault to escape a fight. When it is down he\\'s significantly more vulnerable.\", \\'Talon has unrivaled roaming ability. Make sure to keep track of his position or force him to stay in lane by pushing aggressively.\\']',\n",
              "  0.77),\n",
              " (117,\n",
              "  '[\"Swain\\'s passive is very potent if you are immobilized. Make sure to be extra careful around enemies who have immobilizing effects.\", \"High mobility counters all of Swain\\'s basic abilities: Death\\'s Hand does more damage the closer he is, Vision of Empire has a very long delay and Nevermove must start returning back to him to be dangerous.\", \\'Buying an item with Grievous Wounds will make Swain much easier to kill during his Demonic Ascension.\\']',\n",
              "  0.73),\n",
              " (34,\n",
              "  '[\\'Stack armor items to lower the large amount of physical damage that Garen deals out.\\', \\'Try to run away from Garen as your health gets lower, as he can execute you quickly with Demacian Justice.\\', \\'Be careful about attacking Garen in brush. It often will lead to taking full damage from Judgment.\\', \"Judgment deals maximum damage when only hitting a single target. If getting out of its radius isn\\'t possible, move through allied minions to reduce damage taken.\"]',\n",
              "  0.72),\n",
              " (54,\n",
              "  '[\"Kassadin deals mostly magic damage. If he\\'s doing well consider buying magic resist items like Mercury\\'s Treads and Banshee\\'s Veil.\", \\'Each time Kassadin consecutively uses Riftwalk, he pays more and more mana. Keep this in mind as you chase him.\\', \"It takes 6 spell casts for Kassadin\\'s slow, Force Pulse, to become castable. If he levels up that ability, judiciously use your own skills while laning against him.\"]',\n",
              "  0.71)]"
            ]
          },
          "metadata": {},
          "execution_count": 82
        }
      ]
    },
    {
      "cell_type": "code",
      "metadata": {
        "id": "aXbJFX6u5Qfc",
        "colab": {
          "base_uri": "https://localhost:8080/",
          "height": 37
        },
        "outputId": "87e1416b-a618-46cc-b45f-207f92857fa0"
      },
      "source": [
        "who_are_u(54)"
      ],
      "execution_count": 83,
      "outputs": [
        {
          "output_type": "execute_result",
          "data": {
            "application/vnd.google.colaboratory.intrinsic+json": {
              "type": "string"
            },
            "text/plain": [
              "'Kassadin'"
            ]
          },
          "metadata": {},
          "execution_count": 83
        }
      ]
    },
    {
      "cell_type": "code",
      "metadata": {
        "id": "3V-p0Wa118AV"
      },
      "source": [
        ""
      ],
      "execution_count": 83,
      "outputs": []
    },
    {
      "cell_type": "code",
      "metadata": {
        "colab": {
          "base_uri": "https://localhost:8080/",
          "height": 37
        },
        "id": "nRLLx2BD7h4g",
        "outputId": "5cfbe56b-94c8-49a4-ade6-e2377af8002b"
      },
      "source": [
        "who_are_u(17)"
      ],
      "execution_count": 84,
      "outputs": [
        {
          "output_type": "execute_result",
          "data": {
            "application/vnd.google.colaboratory.intrinsic+json": {
              "type": "string"
            },
            "text/plain": [
              "'Camille'"
            ]
          },
          "metadata": {},
          "execution_count": 84
        }
      ]
    },
    {
      "cell_type": "code",
      "metadata": {
        "id": "YB97H5mByYRj",
        "colab": {
          "base_uri": "https://localhost:8080/"
        },
        "outputId": "59884a33-a178-469c-c26d-b63ad8dc8263"
      },
      "source": [
        "pororo_good('all_discribtion','Leona')\n",
        "# 다리우스, 올라프, 워윅, 오공, 문도"
      ],
      "execution_count": 85,
      "outputs": [
        {
          "output_type": "execute_result",
          "data": {
            "text/plain": [
              "[(65,\n",
              "  \"When Leona activates Eclipse, you have three seconds to get away from her before she deals damage. Only foes in the center of Solar Flare get stunned, so you can often avoid this if you're quick. Lead the charge and mark your foes with Sunlight before your allies deal damage. Shield of Daybreak and Zenith Blade form a powerful offensive combo. You can absorb a huge amount of damage using Eclipse, but you must stay near enemies to gain the bonus duration.Leona uses her shield to perform her next basic attack, dealing bonus magic damage and stunning the target.Leona raises her shield to gain Damage Reduction, Armor, and Magic Resist. When the duration first ends, if there are nearby enemies, she will deal magic damage to them and prolong the duration of the effect.Leona projects a solar image of her sword, dealing magic damage to all enemies in a line. When the image fades, the last enemy champion struck will be briefly immobilized and Leona will dash to them.Leona calls down a beam of solar energy, dealing damage to enemies in an area. Enemies in the center of the area are stunned, while enemies on the outside are slowed.\",\n",
              "  1.0),\n",
              " (17,\n",
              "  \"Camille's shield only works against one damage type, so hit her when she's vulnerable to your damage. The Hextech Ultimatum has a very short range to cast, so try to flash away from her before she gets close. Try waiting until the other team is distracted with fighting your team, and use Hookshot to pick off vulnerable targets. Use the CC from your abilities to land both of your Precision Protocol attacks on enemies.Camille's next attack deals bonus damage and grants bonus movement speed. This spell can be recast for a short period of time, doing significantly increased bonus damage if Camille delays a period of time between the two attacks.Camille blasts in a cone after a delay, dealing damage. Enemies in the outer half are slowed and take extra damage, while also healing Camille.Camille pulls herself to a wall, leaping off and knocking up enemy champions upon landing.Camille dashes to target champion, anchoring them to the area. She also deals bonus magic damage to the target with her basic attacks.\",\n",
              "  0.8),\n",
              " (89,\n",
              "  \"Pantheon's Aegis Assault makes him invulnerable from the front. Get behind him or wait it out. Be careful near Pantheon if your health is low - a thrown Comet Spear executes low health enemies. Grand Starfall gives several seconds of warning before Pantheon arrives. Use this time to get out of the way or to form a plan to deal with him. Mortal Will activates after 5 spells or basic attacks - plan your way through fights to allow you to activate it more than once. Whittle the enemy down with Comet Spears before you jump in. If an enemy is going to get out of range of your Aegis Assault, you can recast the spell to immediately fire the shield slam.Pantheon either thrusts his spear or throws his spear in the chosen direction.Pantheon dashes to a target, damaging and stunning them.Pantheon sets his shield, becoming invulnerable to damage from the front and striking repeatedly with his spear.Pantheon composes himself and then leaps into the air, landing at a chosen location as a comet.\",\n",
              "  0.79),\n",
              " (58,\n",
              "  'Consider playing a bit more cautiously around Kennen when you have a Mark of the Storm debuff. If he hits you with 3 Marks of the Storm, you will get stunned. Kennen is flimsy by nature - turn and attack him if he gets careless with Lightning Rush. You can stun your opponents by inflicting 3 Marks of the Storm upon them. Lightning Rush can be used to initiate fights with its Energy return component, allowing him to use other abilities afterward. You can land an initial Mark of the Storm debuff on an opponent with Thundering Shuriken, and then add to it with Electrical Surge.Kennen throws a fast moving shuriken towards a location, causing damage and adding a Mark of the Storm to any opponent that it hits.Kennen passively deals extra damage and adds a Mark of the Storm to his target every few attacks, and he can activate this ability to damage and add another Mark of the Storm to targets who are already marked.Kennen morphs into a lightning form, enabling him to pass through units and apply a Mark of the Storm. Kennen gains movement speed when entering this form, and attack speed when leaving it.Kennen summons a storm that strikes at nearby enemy champions for magical damage.',\n",
              "  0.79),\n",
              " (56,\n",
              "  \"Divine Judgment only grants Kayle or her allies immunity to damage. Slows and stuns can still be applied, so trap them if they're being overzealous. Kayle is usually a fragile target. If you see her ultimate cast on an ally, switch to attacking her. Kayle starts the game as a weaker melee champion. Try to put her behind before she ascends to her ranged form. Using Divine Judgment on a high-DPS ally can turn the tides of battle by giving your ally free reign to attack.  Kayle's attacks become incredibly powerful once she gains attack range from Divine Ascent. Play safe until then.  Kayle benefits greatly from Attack Damage and Ability Power, making hybrid items like Nashor's Tooth and Hextech Gunblade very effective on her.Kayle conjures a portal, summoning a celestial sword that pierces through enemies, slowing, damaging, and reducing the resistances of all hit.Blessed by the divine, Kayle heals and grants movement speed to herself and the nearest ally.Passive: Kayle's celestial sword, Virtue, deals bonus magic damage to enemies she attacks.Active: Kayle's next attack smites her target with celestial fire, dealing bonus damage proportionate to their missing health.Kayle makes an ally invulnerable and calls upon former Aspects of Justice to purify the area around her target with a holy rain of swords.\",\n",
              "  0.79)]"
            ]
          },
          "metadata": {},
          "execution_count": 85
        }
      ]
    },
    {
      "cell_type": "code",
      "metadata": {
        "colab": {
          "base_uri": "https://localhost:8080/",
          "height": 37
        },
        "id": "3g_VBgL7YrWw",
        "outputId": "54fd2943-1f12-4a75-c8ac-423dbc523e47"
      },
      "source": [
        "who_are_u(11)"
      ],
      "execution_count": 86,
      "outputs": [
        {
          "output_type": "execute_result",
          "data": {
            "application/vnd.google.colaboratory.intrinsic+json": {
              "type": "string"
            },
            "text/plain": [
              "'Azir'"
            ]
          },
          "metadata": {},
          "execution_count": 86
        }
      ]
    },
    {
      "cell_type": "code",
      "metadata": {
        "colab": {
          "base_uri": "https://localhost:8080/"
        },
        "id": "La-GLp758Pit",
        "outputId": "fa03e4f1-8177-410d-aa34-336a0a233524"
      },
      "source": [
        "pororo_good('enemytips','Leona')\n",
        "# 다리우스, 렝가, 올라프, 트린다미어, 잔나????"
      ],
      "execution_count": 87,
      "outputs": [
        {
          "output_type": "execute_result",
          "data": {
            "text/plain": [
              "[(65,\n",
              "  '[\\'When Leona activates Eclipse, you have three seconds to get away from her before she deals damage.\\', \"Only foes in the center of Solar Flare get stunned, so you can often avoid this if you\\'re quick.\"]',\n",
              "  1.0),\n",
              " (126,\n",
              "  \"['If you see Tristana activate Rapid Fire in a fight, stun her and try to back off until the spell dissipates.', 'Stand away from your creeps in a lane to take less collateral damage from Explosive Charge.']\",\n",
              "  0.69),\n",
              " (22,\n",
              "  \"['Dodge Crescent Strike, or move to safety if you are affected by Moonlight.', 'Pale Cascade orbs only last a few seconds. Avoid Diana and engage her after the shield dissipates.', 'Diana can play very aggressively if she uses Lunar Rush without Moonlight, but you can punish her by slowing or stunning her when she has no way to get back into position.']\",\n",
              "  0.67),\n",
              " (10,\n",
              "  '[\"Try to get inside his orbit, since his stars can\\'t hurt you up close.\", \\'His stars disappear while stunned or silenced, giving you an easy opportunity to fight him.\\', \\'He gains speed while chasing in a straight line, but taking damage makes him lose that momentum.\\', \"His Starsurge ability can grow to cover a huge area - don\\'t stay in the same place too long!\"]',\n",
              "  0.66),\n",
              " (11,\n",
              "  '[\\'Azir relies on his soldiers to deal damage and can only move them so often. Try to capitalize on windows of time when his soldiers are stationary.\\', \\'Azir has immense damage over a prolonged amount of time but lacks the upfront burst of other mages. Try to burst him out before he can turn a confrontation around.\\', \"Try to think of Sand Soldiers as fire. Don\\'t stand in the fire.\"]',\n",
              "  0.65)]"
            ]
          },
          "metadata": {},
          "execution_count": 87
        }
      ]
    },
    {
      "cell_type": "code",
      "metadata": {
        "colab": {
          "base_uri": "https://localhost:8080/"
        },
        "id": "LF0bHHMWVAT7",
        "outputId": "e730bf7d-87c2-4631-f915-f17cc60705b1"
      },
      "source": [
        "pororo_good('allytips','Leona')"
      ],
      "execution_count": 88,
      "outputs": [
        {
          "output_type": "execute_result",
          "data": {
            "text/plain": [
              "[(65,\n",
              "  \"['Lead the charge and mark your foes with Sunlight before your allies deal damage.', 'Shield of Daybreak and Zenith Blade form a powerful offensive combo.', 'You can absorb a huge amount of damage using Eclipse, but you must stay near enemies to gain the bonus duration.']\",\n",
              "  1.0),\n",
              " (9,\n",
              "  \"['Try to fire Enchanted Crystal Arrow in the same direction enemies are moving, so it is more likely to hit.', 'Volley arrows are blocked by the first enemy they hit, so keep your distance to avoid having them all absorbed by enemy frontliners.', 'Hawkshot reveals units in brush. If a team fight is occuring in the jungle it can give you a significant advantage.']\",\n",
              "  0.73),\n",
              " (68,\n",
              "  \"['For optimal burst, try to combine Relentless Pursuit into Piercing Light.', 'Ardent Blaze actually explodes in a star pattern. Try to line it up so the spokes hit enemy champions.', 'Once you have chosen an angle for The Culling, you cannot change it. Pick your moment well!', 'Because of Lightslinger, Lucian benefits more from Attack Damage than he does from Attack Speed.']\",\n",
              "  0.71),\n",
              " (59,\n",
              "  '[\\'Enemies are considered isolated if they have no allies within a short distance. The damage of Taste Their Fear is massively increased against these targets.\\', \"Unseen Threat activates when Kha\\'Zix cannot be seen by the enemy team. Reactivate by using brush or Void Assault. Don\\'t forget to apply Unseen Threat by autoattacking enemy champions.\", \"Kha\\'Zix has a great deal of freedom to choose where and when to fight. Pick your battles carefully to succeed.\"]',\n",
              "  0.7),\n",
              " (115,\n",
              "  '[\"Make sure to tag your allies while Sona\\'s auras are active, but avoid getting caught out by enemies.\", \\'Save Crescendo for the game-altering moment.\\', \\'Well-timed uses of Aria of Perseverance will grant you maximum survivability.\\']',\n",
              "  0.7)]"
            ]
          },
          "metadata": {},
          "execution_count": 88
        }
      ]
    },
    {
      "cell_type": "code",
      "metadata": {
        "colab": {
          "base_uri": "https://localhost:8080/",
          "height": 37
        },
        "id": "0oc6vyGY7vEf",
        "outputId": "b4c03f85-5111-47e3-b3b7-7c717d757088"
      },
      "source": [
        "who_are_u(115)"
      ],
      "execution_count": 89,
      "outputs": [
        {
          "output_type": "execute_result",
          "data": {
            "application/vnd.google.colaboratory.intrinsic+json": {
              "type": "string"
            },
            "text/plain": [
              "'Sona'"
            ]
          },
          "metadata": {},
          "execution_count": 89
        }
      ]
    },
    {
      "cell_type": "code",
      "metadata": {
        "colab": {
          "base_uri": "https://localhost:8080/"
        },
        "id": "O4ziTkDnS1P2",
        "outputId": "aed8753e-60d1-471c-bd6e-62ea9333b320"
      },
      "source": [
        "pororo_good('all_discribtion','Talon')\n",
        "# 가렌?, 제드, 아트록스, 애니?"
      ],
      "execution_count": 90,
      "outputs": [
        {
          "output_type": "execute_result",
          "data": {
            "text/plain": [
              "[(122,\n",
              "  \"Talon's attacks are all physical damage. Build armor early to counter his burst damage. Talon is heavily reliant on Shadow Assault to escape a fight. When it is down he's significantly more vulnerable. Talon has unrivaled roaming ability. Make sure to keep track of his position or force him to stay in lane by pushing aggressively. You can use Assassin's Path to get behind the enemy and set up for Noxian Diplomacy's melee attack. Shadow Assault is a powerful escape tool, but can also be offensively used to assault a group. Remember to pick your target before the fight. Focusing all of Talon's abilities on one target can be very rewarding, but splitting them up between many may leave you helpless.Talon stabs the target unit. If they are within melee range, this attack deals critical damage. If they are outside melee range, Talon will leap at his target before stabbing them. Talon refunds some health and cooldown if this ability kills the target.Talon sends out a volley of daggers that then return back to him, dealing physical damage every time it passes through an enemy. The returning blades deal bonus damage and slow units hit.Talon vaults over any terrain or structure, up to a max distance. This ability has a low cooldown, but puts the used terrain on a long cooldown.Talon disperses a ring of blades and becomes Invisible while gaining additional Movement Speed. When Talon emerges from Invisibility, the blades converge on his location. Each time the blades move, Shadow Assault deals physical damage to enemies hit by at least one blade.\",\n",
              "  1.0),\n",
              " (34,\n",
              "  \"Stack armor items to lower the large amount of physical damage that Garen deals out. Try to run away from Garen as your health gets lower, as he can execute you quickly with Demacian Justice. Be careful about attacking Garen in brush. It often will lead to taking full damage from Judgment. Judgment deals maximum damage when only hitting a single target. If getting out of its radius isn't possible, move through allied minions to reduce damage taken. Garen's regeneration greatly increases if he can avoid receiving damage for several seconds. Judgment deals maximum damage when only hitting a single target. For effective trading, try to position such that only the enemy champion is hit. Garen is only constrained by cooldowns, making items such as Black Cleaver very effective for him.Garen gains a burst of Move Speed, breaking free of all slows affecting him. His next attack strikes a vital area of his foe, dealing bonus damage and silencing them.Garen passively increases his armor and magic resist by killing enemies. He may also activate this ability to give him a shield and tenacity for a brief moment followed by a lesser amount of damage reduction for a longer duration.Garen rapidly spins his sword around his body, dealing physical damage to nearby enemies.Garen calls upon the might of Demacia to attempt to execute an enemy champion.\",\n",
              "  0.85),\n",
              " (151,\n",
              "  \"Zed receives bonus effect from Attack Damage items he purchases, so Armor is super effective against him. After Zed uses his Living Shadow, he is at his most vulnerable as his damage, slow, and mobility are both dependent upon it. Zed's Shadow Slash can only slow you if his shadow hits you with it.  Saving energy and spell cooldowns until you use your ultimate will maximize Death Mark's damage. Quickly double tapping Living Shadow will teleport Zed to his shadow immediately for rapid escapes. Placing a Living Shadow before using Death Mark can give Zed a safe escape from combat.Zed and his shadows throw their shurikens.Each shuriken deals damage to every enemy hit.Passive: Zed gains energy whenever he and his shadows strike an enemy with the same ability. Energy can only be gained once per cast ability.Active: Zed's shadow dashes forward, remaining in place for a few seconds. Reactivating Living Shadow will cause Zed to switch positions with this shadow.Zed and his shadows slash, dealing damage to nearby enemies.Zed becomes untargetable and dashes to an enemy champion, marking them. After 3 seconds the mark triggers, repeating a portion of all the damage Zed dealt to the target while they were marked.\",\n",
              "  0.84),\n",
              " (0,\n",
              "  \"Aatrox's attacks are very telegraphed, so use the time to dodge the hit zones. Aatrox's Infernal Chains are easier to exit when running towards the sides or at Aatrox. Keep your distance when Aatrox uses his Ultimate to prevent him from reviving. Use Umbral Dash while casting The Darkin Blade to increase your chances of hitting the enemy. Crowd Control abilities like Infernal Chains or your allies' immobilizing effects will help you set up The Darkin Blade. Cast World Ender when you are sure you can force a fight.Aatrox slams his greatsword down, dealing physical damage. He can swing three times, each with a different area of effect.Aatrox smashes the ground, dealing damage to the first enemy hit. Champions and large monsters have to leave the impact area quickly or they will be dragged to the center and take the damage again.Passively, Aatrox heals when damaging enemy champions. On activation, he dashes in a direction.Aatrox unleashes his demonic form, fearing nearby enemy minions and gaining attack damage, increased healing, and movement speed. If he gets a takedown, this effect is extended.\",\n",
              "  0.83),\n",
              " (7,\n",
              "  \"Annie's summoned bear, Tibbers, burns opposing units around himself. Try to keep your distance from him after he's been summoned. Summoner Smite can be used to help take down Tibbers. Keep an eye out for a white, swirling power around Annie. It means she's ready to unleash her stun. Storing a stun for use with her ultimate can turn the tide of a team fight. Striking killing blows on minions with Disintegrate enables Annie to farm extremely well early in the game. Molten Shield is a good spell to cast to work up to Annie's stun, so sometimes it's beneficial to grab at least 1 rank in it early.Annie hurls a Mana infused fireball, dealing damage and refunding the Mana cost if it destroys the target.Annie casts a blazing cone of fire, dealing damage to all enemies in the area.Grants Annie or an ally a shield, a burst of Movement Speed, and damages enemies who attack her with basic attacks.Annie wills her bear Tibbers to life, dealing damage to units in the area. Tibbers can attack and also burns enemies that stand near him.\",\n",
              "  0.83)]"
            ]
          },
          "metadata": {},
          "execution_count": 90
        }
      ]
    },
    {
      "cell_type": "code",
      "metadata": {
        "colab": {
          "base_uri": "https://localhost:8080/"
        },
        "id": "GZoB4AX6bOpp",
        "outputId": "9c6663c5-1863-43fa-fb01-9e815b466442"
      },
      "source": [
        "pororo_good('all_discribtion','Garen')"
      ],
      "execution_count": 91,
      "outputs": [
        {
          "output_type": "execute_result",
          "data": {
            "text/plain": [
              "[(34,\n",
              "  \"Stack armor items to lower the large amount of physical damage that Garen deals out. Try to run away from Garen as your health gets lower, as he can execute you quickly with Demacian Justice. Be careful about attacking Garen in brush. It often will lead to taking full damage from Judgment. Judgment deals maximum damage when only hitting a single target. If getting out of its radius isn't possible, move through allied minions to reduce damage taken. Garen's regeneration greatly increases if he can avoid receiving damage for several seconds. Judgment deals maximum damage when only hitting a single target. For effective trading, try to position such that only the enemy champion is hit. Garen is only constrained by cooldowns, making items such as Black Cleaver very effective for him.Garen gains a burst of Move Speed, breaking free of all slows affecting him. His next attack strikes a vital area of his foe, dealing bonus damage and silencing them.Garen passively increases his armor and magic resist by killing enemies. He may also activate this ability to give him a shield and tenacity for a brief moment followed by a lesser amount of damage reduction for a longer duration.Garen rapidly spins his sword around his body, dealing physical damage to nearby enemies.Garen calls upon the might of Demacia to attempt to execute an enemy champion.\",\n",
              "  1.0),\n",
              " (122,\n",
              "  \"Talon's attacks are all physical damage. Build armor early to counter his burst damage. Talon is heavily reliant on Shadow Assault to escape a fight. When it is down he's significantly more vulnerable. Talon has unrivaled roaming ability. Make sure to keep track of his position or force him to stay in lane by pushing aggressively. You can use Assassin's Path to get behind the enemy and set up for Noxian Diplomacy's melee attack. Shadow Assault is a powerful escape tool, but can also be offensively used to assault a group. Remember to pick your target before the fight. Focusing all of Talon's abilities on one target can be very rewarding, but splitting them up between many may leave you helpless.Talon stabs the target unit. If they are within melee range, this attack deals critical damage. If they are outside melee range, Talon will leap at his target before stabbing them. Talon refunds some health and cooldown if this ability kills the target.Talon sends out a volley of daggers that then return back to him, dealing physical damage every time it passes through an enemy. The returning blades deal bonus damage and slow units hit.Talon vaults over any terrain or structure, up to a max distance. This ability has a low cooldown, but puts the used terrain on a long cooldown.Talon disperses a ring of blades and becomes Invisible while gaining additional Movement Speed. When Talon emerges from Invisibility, the blades converge on his location. Each time the blades move, Shadow Assault deals physical damage to enemies hit by at least one blade.\",\n",
              "  0.85),\n",
              " (151,\n",
              "  \"Zed receives bonus effect from Attack Damage items he purchases, so Armor is super effective against him. After Zed uses his Living Shadow, he is at his most vulnerable as his damage, slow, and mobility are both dependent upon it. Zed's Shadow Slash can only slow you if his shadow hits you with it.  Saving energy and spell cooldowns until you use your ultimate will maximize Death Mark's damage. Quickly double tapping Living Shadow will teleport Zed to his shadow immediately for rapid escapes. Placing a Living Shadow before using Death Mark can give Zed a safe escape from combat.Zed and his shadows throw their shurikens.Each shuriken deals damage to every enemy hit.Passive: Zed gains energy whenever he and his shadows strike an enemy with the same ability. Energy can only be gained once per cast ability.Active: Zed's shadow dashes forward, remaining in place for a few seconds. Reactivating Living Shadow will cause Zed to switch positions with this shadow.Zed and his shadows slash, dealing damage to nearby enemies.Zed becomes untargetable and dashes to an enemy champion, marking them. After 3 seconds the mark triggers, repeating a portion of all the damage Zed dealt to the target while they were marked.\",\n",
              "  0.83),\n",
              " (37,\n",
              "  \"Graves deals mostly physical damage so Armor is an effective counter. Leaving the Smoke Screen's area of effect removes the harmful effect immediately. Smoke Screen can be used both to escape and to set up a kill. Using Quickdraw to get into range and delivering a point blank Buckshot can do lots of damage.Graves fires an explosive shell that detonates after 2 seconds, or 0.2 seconds if it strikes terrain.Graves fires a smoke canister at the target area creating a cloud of smoke that reduces sight range. Enemies caught in the initial impact are dealt magic damage and have their movement speed reduced briefly.Graves dashes forward gaining an Armor boost for several seconds. If Graves dashes towards an enemy champion, gain two stacks of True Grit instead. Hitting enemies with basic attacks lowers the cooldown of this skill and refreshes the resistance boost.Graves fires an explosive shell dealing heavy damage to the first champion it hits. After hitting a champion or reaching the end of its range, the shell explodes dealing damage in a cone.\",\n",
              "  0.83),\n",
              " (109,\n",
              "  \"Be ready to dodge Shen's taunt and punish him if he misses. Once Shen reaches level 6, watch out for his global-range ultimate, which can turn fights quickly. Keep an eye on allies and be ready to save them with your teleport. Leverage your Energy to get a long-term advantage over Mana users.Shen recalls his spirit blade to attack with it, dealing damage based on the target's max health. The attacks are greatly empowered if it collides with an enemy champion, and all collided enemies are slowed while running away from Shen.Attacks that would hit Shen or his allies near his spirit blade are blocked.Shen dashes in a direction, taunting enemies in his path.Shen shields target allied champion from incoming damage, and soon after teleports to their location.\",\n",
              "  0.81)]"
            ]
          },
          "metadata": {},
          "execution_count": 91
        }
      ]
    },
    {
      "cell_type": "code",
      "metadata": {
        "colab": {
          "base_uri": "https://localhost:8080/"
        },
        "id": "kao8WY-izeQG",
        "outputId": "71655e46-f7cb-4e90-8bbd-ebc094fbe86c"
      },
      "source": [
        "champ_summ.info()"
      ],
      "execution_count": 92,
      "outputs": [
        {
          "output_type": "stream",
          "name": "stdout",
          "text": [
            "<class 'pandas.core.frame.DataFrame'>\n",
            "RangeIndex: 156 entries, 0 to 155\n",
            "Data columns (total 14 columns):\n",
            " #   Column            Non-Null Count  Dtype \n",
            "---  ------            --------------  ----- \n",
            " 0   id                156 non-null    object\n",
            " 1   key               156 non-null    int64 \n",
            " 2   tags              156 non-null    object\n",
            " 3   champ_q           156 non-null    object\n",
            " 4   champ_w           156 non-null    object\n",
            " 5   champ_e           156 non-null    object\n",
            " 6   champ_r           156 non-null    object\n",
            " 7   champ_all_skill   156 non-null    object\n",
            " 8   all_tips          156 non-null    object\n",
            " 9   all_tips_literal  156 non-null    object\n",
            " 10  all_discribtion   156 non-null    object\n",
            " 11  clean_discrib     156 non-null    object\n",
            " 12  allytips          156 non-null    object\n",
            " 13  enemytips         156 non-null    object\n",
            "dtypes: int64(1), object(13)\n",
            "memory usage: 17.2+ KB\n"
          ]
        }
      ]
    },
    {
      "cell_type": "code",
      "metadata": {
        "id": "8BTjp6bfbyAt"
      },
      "source": [
        ""
      ],
      "execution_count": 92,
      "outputs": []
    },
    {
      "cell_type": "markdown",
      "metadata": {
        "id": "F5mfuVnHUN9t"
      },
      "source": [
        "## 텍스트 정제 하기\n",
        "https://wikidocs.net/34256"
      ]
    },
    {
      "cell_type": "code",
      "metadata": {
        "colab": {
          "base_uri": "https://localhost:8080/"
        },
        "id": "l-VyTNw4U2tS",
        "outputId": "0fc281b4-9fa9-4a32-cd04-5a32c72939bc"
      },
      "source": [
        "pip install nltk"
      ],
      "execution_count": 93,
      "outputs": [
        {
          "output_type": "stream",
          "name": "stdout",
          "text": [
            "Requirement already satisfied: nltk in /usr/local/lib/python3.7/dist-packages (3.6.2)\n",
            "Requirement already satisfied: regex in /usr/local/lib/python3.7/dist-packages (from nltk) (2019.12.20)\n",
            "Requirement already satisfied: tqdm in /usr/local/lib/python3.7/dist-packages (from nltk) (4.62.0)\n",
            "Requirement already satisfied: click in /usr/local/lib/python3.7/dist-packages (from nltk) (7.1.2)\n",
            "Requirement already satisfied: joblib in /usr/local/lib/python3.7/dist-packages (from nltk) (1.0.1)\n"
          ]
        }
      ]
    },
    {
      "cell_type": "code",
      "metadata": {
        "colab": {
          "base_uri": "https://localhost:8080/"
        },
        "id": "2N_hAyVRWs-t",
        "outputId": "a00ec987-c7f9-4e50-b50f-7ba247ff7c55"
      },
      "source": [
        "import nltk\n",
        "nltk.download('averaged_perceptron_tagger')"
      ],
      "execution_count": 94,
      "outputs": [
        {
          "output_type": "stream",
          "name": "stderr",
          "text": [
            "[nltk_data] Downloading package averaged_perceptron_tagger to\n",
            "[nltk_data]     /root/nltk_data...\n",
            "[nltk_data]   Package averaged_perceptron_tagger is already up-to-\n",
            "[nltk_data]       date!\n"
          ]
        },
        {
          "output_type": "execute_result",
          "data": {
            "text/plain": [
              "True"
            ]
          },
          "metadata": {},
          "execution_count": 94
        }
      ]
    },
    {
      "cell_type": "code",
      "metadata": {
        "colab": {
          "base_uri": "https://localhost:8080/"
        },
        "id": "BqmzwN_9UNwm",
        "outputId": "1153387a-c978-4524-9f82-d186e3314caf"
      },
      "source": [
        "import nltk\n",
        "\n",
        "text = \"beautiful Emma refused to permit us to obtain the refuse permit\"\n",
        "\n",
        "nltk.download('punkt')\n",
        "words = nltk.tokenize.word_tokenize(text)\n",
        "print(words) #['beautiful', 'Emma', 'refused', 'to', 'permit', 'us', 'to', 'obtain', 'the', 'refuse', 'permit']\n",
        "\n",
        "print(nltk.tag.pos_tag(words)) #[('beautiful', 'JJ'), ('Emma', 'NNP'), ('refused', 'VBD'), ('to', 'TO'), ('permit', 'VB'), ('us', 'PRP'), ('to', 'TO'), ('obtain', 'VB'), ('the', 'DT'), ('refuse', 'NN'), ('permit', 'NN')]"
      ],
      "execution_count": 95,
      "outputs": [
        {
          "output_type": "stream",
          "name": "stderr",
          "text": [
            "[nltk_data] Downloading package punkt to /root/nltk_data...\n",
            "[nltk_data]   Package punkt is already up-to-date!\n"
          ]
        },
        {
          "output_type": "stream",
          "name": "stdout",
          "text": [
            "['beautiful', 'Emma', 'refused', 'to', 'permit', 'us', 'to', 'obtain', 'the', 'refuse', 'permit']\n",
            "[('beautiful', 'JJ'), ('Emma', 'NNP'), ('refused', 'VBD'), ('to', 'TO'), ('permit', 'VB'), ('us', 'PRP'), ('to', 'TO'), ('obtain', 'VB'), ('the', 'DT'), ('refuse', 'NN'), ('permit', 'NN')]\n"
          ]
        }
      ]
    },
    {
      "cell_type": "code",
      "metadata": {
        "colab": {
          "base_uri": "https://localhost:8080/",
          "height": 700
        },
        "id": "JD_fPXbyUNoI",
        "outputId": "b0b5ffe0-6774-4a6a-e207-2af8f326e7ac"
      },
      "source": [
        "champ_summ.head()"
      ],
      "execution_count": 96,
      "outputs": [
        {
          "output_type": "execute_result",
          "data": {
            "text/html": [
              "<div>\n",
              "<style scoped>\n",
              "    .dataframe tbody tr th:only-of-type {\n",
              "        vertical-align: middle;\n",
              "    }\n",
              "\n",
              "    .dataframe tbody tr th {\n",
              "        vertical-align: top;\n",
              "    }\n",
              "\n",
              "    .dataframe thead th {\n",
              "        text-align: right;\n",
              "    }\n",
              "</style>\n",
              "<table border=\"1\" class=\"dataframe\">\n",
              "  <thead>\n",
              "    <tr style=\"text-align: right;\">\n",
              "      <th></th>\n",
              "      <th>id</th>\n",
              "      <th>key</th>\n",
              "      <th>tags</th>\n",
              "      <th>champ_q</th>\n",
              "      <th>champ_w</th>\n",
              "      <th>champ_e</th>\n",
              "      <th>champ_r</th>\n",
              "      <th>champ_all_skill</th>\n",
              "      <th>all_tips</th>\n",
              "      <th>all_tips_literal</th>\n",
              "      <th>all_discribtion</th>\n",
              "      <th>clean_discrib</th>\n",
              "      <th>allytips</th>\n",
              "      <th>enemytips</th>\n",
              "    </tr>\n",
              "  </thead>\n",
              "  <tbody>\n",
              "    <tr>\n",
              "      <th>0</th>\n",
              "      <td>Aatrox</td>\n",
              "      <td>266</td>\n",
              "      <td>['Fighter', 'Tank']</td>\n",
              "      <td>Aatrox slams his greatsword down, dealing phys...</td>\n",
              "      <td>Aatrox smashes the ground, dealing damage to t...</td>\n",
              "      <td>Passively, Aatrox heals when damaging enemy ch...</td>\n",
              "      <td>Aatrox unleashes his demonic form, fearing nea...</td>\n",
              "      <td>Aatrox slams his greatsword down, dealing phys...</td>\n",
              "      <td>[Aatrox's attacks are very telegraphed, so use...</td>\n",
              "      <td>Aatrox's attacks are very telegraphed, so use ...</td>\n",
              "      <td>Aatrox's attacks are very telegraphed, so use ...</td>\n",
              "      <td>Aatrox 's attacks telegraphed , use time dodge...</td>\n",
              "      <td>['Use Umbral Dash while casting The Darkin Bla...</td>\n",
              "      <td>[\"Aatrox's attacks are very telegraphed, so us...</td>\n",
              "    </tr>\n",
              "    <tr>\n",
              "      <th>1</th>\n",
              "      <td>Ahri</td>\n",
              "      <td>103</td>\n",
              "      <td>['Mage', 'Assassin']</td>\n",
              "      <td>Ahri sends out and pulls back her orb, dealing...</td>\n",
              "      <td>Ahri gains a brief burst of movement speed and...</td>\n",
              "      <td>Ahri blows a kiss that damages and charms an e...</td>\n",
              "      <td>Ahri dashes forward and fires essence bolts, d...</td>\n",
              "      <td>Ahri sends out and pulls back her orb, dealing...</td>\n",
              "      <td>[Ahri's survivability is dramatically reduced ...</td>\n",
              "      <td>Ahri's survivability is dramatically reduced w...</td>\n",
              "      <td>Ahri's survivability is dramatically reduced w...</td>\n",
              "      <td>Ahri 's survivability dramatically reduced Ult...</td>\n",
              "      <td>['Use Charm to set up your combos, it will mak...</td>\n",
              "      <td>[\"Ahri's survivability is dramatically reduced...</td>\n",
              "    </tr>\n",
              "    <tr>\n",
              "      <th>2</th>\n",
              "      <td>Akali</td>\n",
              "      <td>84</td>\n",
              "      <td>['Assassin']</td>\n",
              "      <td>Akali throws out five kunai, dealing damage ba...</td>\n",
              "      <td>Akali drops a cover of smoke and briefly gains...</td>\n",
              "      <td>Flip backward and fire a shuriken forward, dea...</td>\n",
              "      <td>Akali leaps in a direction, damaging enemies s...</td>\n",
              "      <td>Akali throws out five kunai, dealing damage ba...</td>\n",
              "      <td>[Akali can still be hit by area effect spells ...</td>\n",
              "      <td>Akali can still be hit by area effect spells w...</td>\n",
              "      <td>Akali can still be hit by area effect spells w...</td>\n",
              "      <td>Akali still hit area effect spells obscured in...</td>\n",
              "      <td>['Akali excels at killing fragile champions. L...</td>\n",
              "      <td>['Akali can still be hit by area effect spells...</td>\n",
              "    </tr>\n",
              "    <tr>\n",
              "      <th>3</th>\n",
              "      <td>Akshan</td>\n",
              "      <td>166</td>\n",
              "      <td>['Marksman', 'Assassin']</td>\n",
              "      <td>Akshan throws a boomerang that deals damage go...</td>\n",
              "      <td>Akshan passively marks enemy champions as Scou...</td>\n",
              "      <td>Akshan fires a grappling hook into terrain the...</td>\n",
              "      <td>Akshan locks onto an enemy champion and starts...</td>\n",
              "      <td>Akshan throws a boomerang that deals damage go...</td>\n",
              "      <td>[Raising an eyebrow in the face of danger, Aks...</td>\n",
              "      <td>Raising an eyebrow in the face of danger, Aksh...</td>\n",
              "      <td>Raising an eyebrow in the face of danger, Aksh...</td>\n",
              "      <td>Raising eyebrow face danger , Akshan fights ev...</td>\n",
              "      <td>[\"Raising an eyebrow in the face of danger, Ak...</td>\n",
              "      <td>[]</td>\n",
              "    </tr>\n",
              "    <tr>\n",
              "      <th>4</th>\n",
              "      <td>Alistar</td>\n",
              "      <td>12</td>\n",
              "      <td>['Tank', 'Support']</td>\n",
              "      <td>Alistar smashes the ground, dealing damage to ...</td>\n",
              "      <td>Alistar rams a target with his head, dealing d...</td>\n",
              "      <td>Alistar tramples nearby enemy units, ignoring ...</td>\n",
              "      <td>Alistar lets out a wild roar, removing all cro...</td>\n",
              "      <td>Alistar smashes the ground, dealing damage to ...</td>\n",
              "      <td>[Alistar is very disruptive but very tough - t...</td>\n",
              "      <td>Alistar is very disruptive but very tough - tr...</td>\n",
              "      <td>Alistar is very disruptive but very tough - tr...</td>\n",
              "      <td>Alistar disruptive tough - try target fragile ...</td>\n",
              "      <td>['Using Pulverize can allow you to establish b...</td>\n",
              "      <td>['Alistar is very disruptive but very tough - ...</td>\n",
              "    </tr>\n",
              "  </tbody>\n",
              "</table>\n",
              "</div>"
            ],
            "text/plain": [
              "        id  ...                                          enemytips\n",
              "0   Aatrox  ...  [\"Aatrox's attacks are very telegraphed, so us...\n",
              "1     Ahri  ...  [\"Ahri's survivability is dramatically reduced...\n",
              "2    Akali  ...  ['Akali can still be hit by area effect spells...\n",
              "3   Akshan  ...                                                 []\n",
              "4  Alistar  ...  ['Alistar is very disruptive but very tough - ...\n",
              "\n",
              "[5 rows x 14 columns]"
            ]
          },
          "metadata": {},
          "execution_count": 96
        }
      ]
    },
    {
      "cell_type": "code",
      "metadata": {
        "colab": {
          "base_uri": "https://localhost:8080/"
        },
        "id": "cejMkX9QZ-DF",
        "outputId": "173ea89d-3e87-492f-c5ad-111f10b960eb"
      },
      "source": [
        "pip install python-mecab-ko"
      ],
      "execution_count": 98,
      "outputs": [
        {
          "output_type": "stream",
          "name": "stdout",
          "text": [
            "Collecting python-mecab-ko\n",
            "  Downloading python-mecab-ko-1.0.12.tar.gz (9.7 kB)\n",
            "Collecting pybind11~=2.0\n",
            "  Downloading pybind11-2.7.1-py2.py3-none-any.whl (200 kB)\n",
            "\u001b[K     |████████████████████████████████| 200 kB 40.0 MB/s \n",
            "\u001b[?25hBuilding wheels for collected packages: python-mecab-ko\n",
            "  Building wheel for python-mecab-ko (setup.py) ... \u001b[?25lerror\n",
            "\u001b[31m  ERROR: Failed building wheel for python-mecab-ko\u001b[0m\n",
            "\u001b[?25h  Running setup.py clean for python-mecab-ko\n",
            "Failed to build python-mecab-ko\n",
            "Installing collected packages: pybind11, python-mecab-ko\n",
            "    Running setup.py install for python-mecab-ko ... \u001b[?25l\u001b[?25hdone\n",
            "\u001b[33m  DEPRECATION: python-mecab-ko was installed using the legacy 'setup.py install' method, because a wheel could not be built for it. A possible replacement is to fix the wheel build issue reported above. You can find discussion regarding this at https://github.com/pypa/pip/issues/8368.\u001b[0m\n",
            "Successfully installed pybind11-2.7.1 python-mecab-ko-1.0.12\n"
          ]
        }
      ]
    },
    {
      "cell_type": "code",
      "metadata": {
        "id": "psu7yqMwUNfy"
      },
      "source": [
        " srl = Pororo(task=\"srl\", lang=\"ko\")"
      ],
      "execution_count": 99,
      "outputs": []
    },
    {
      "cell_type": "code",
      "metadata": {
        "colab": {
          "base_uri": "https://localhost:8080/"
        },
        "id": "uw2shwVtUNZi",
        "outputId": "270a4870-16c1-481a-e1bf-87aa9f29b699"
      },
      "source": [
        "srl(\"카터는 역삼에서 카카오브레인으로 출근한다.\")"
      ],
      "execution_count": 100,
      "outputs": [
        {
          "output_type": "execute_result",
          "data": {
            "text/plain": [
              "[[('카터는', 'AGT'),\n",
              "  ('역삼에서', 'LOC'),\n",
              "  ('카카오브레인으로', 'GOL'),\n",
              "  ('출근한다.', 'PREDICATE')]]"
            ]
          },
          "metadata": {},
          "execution_count": 100
        }
      ]
    },
    {
      "cell_type": "code",
      "metadata": {
        "id": "bdY3Vuf2XN-l"
      },
      "source": [
        "pos = Pororo(\"pos\", lang=\"en\")\n",
        "test1 = pos(\"The striped bats are hanging, on their feet for best.\")"
      ],
      "execution_count": 104,
      "outputs": []
    },
    {
      "cell_type": "code",
      "metadata": {
        "colab": {
          "base_uri": "https://localhost:8080/"
        },
        "id": "h0zMb0VeZDgQ",
        "outputId": "f5bc68fb-111d-4be2-f13e-1f5764906355"
      },
      "source": [
        "test1[0]"
      ],
      "execution_count": 108,
      "outputs": [
        {
          "output_type": "execute_result",
          "data": {
            "text/plain": [
              "('The', 'DT')"
            ]
          },
          "metadata": {},
          "execution_count": 108
        }
      ]
    },
    {
      "cell_type": "code",
      "metadata": {
        "colab": {
          "base_uri": "https://localhost:8080/"
        },
        "id": "-ZRtbuDJfo51",
        "outputId": "c250aabf-cd6b-427f-c17d-1a82a2df96e3"
      },
      "source": [
        "## 명사\n",
        "import nltk\n",
        "nltk.download('punkt')"
      ],
      "execution_count": 112,
      "outputs": [
        {
          "output_type": "stream",
          "name": "stderr",
          "text": [
            "[nltk_data] Downloading package punkt to /root/nltk_data...\n",
            "[nltk_data]   Package punkt is already up-to-date!\n"
          ]
        },
        {
          "output_type": "execute_result",
          "data": {
            "text/plain": [
              "True"
            ]
          },
          "metadata": {},
          "execution_count": 112
        }
      ]
    },
    {
      "cell_type": "code",
      "metadata": {
        "colab": {
          "base_uri": "https://localhost:8080/"
        },
        "id": "Ii1E_4ZzZxQs",
        "outputId": "868bbc5e-7e48-4208-e2a1-e6ae4d88a229"
      },
      "source": [
        "## 명사\n",
        "text = \"Emma refused to permit us to obtain the refuse permit\"\n",
        "\n",
        "for word in nltk.tag.pos_tag(nltk.tokenize.word_tokenize(text)): #명사\n",
        "    if word[1] in ['NN', 'NNS', 'NNP', 'NNPS']:\n",
        "        print(word[0])"
      ],
      "execution_count": 113,
      "outputs": [
        {
          "output_type": "stream",
          "name": "stdout",
          "text": [
            "Emma\n",
            "refuse\n",
            "permit\n"
          ]
        }
      ]
    },
    {
      "cell_type": "markdown",
      "metadata": {
        "id": "xMBnGphNf_Bt"
      },
      "source": [
        "## 명사만 추출 해볼까?"
      ]
    },
    {
      "cell_type": "code",
      "metadata": {
        "colab": {
          "base_uri": "https://localhost:8080/",
          "height": 130
        },
        "id": "LiwhacZNgBcZ",
        "outputId": "400e157b-b36f-4321-b4cc-45d4c7d28b3f"
      },
      "source": [
        "def only_NN(column):\n",
        "    this\n",
        "    for i in range(len(champ_summ)):\n",
        "        champ_NN = []\n",
        "        for word in nltk.tag.pos_tag(nltk.tokenize.word_tokenize(text)): #명사\n",
        "            if word[1] in ['NN', 'NNS', 'NNP', 'NNPS']:\n",
        "                champ_NN.append(word[0])"
      ],
      "execution_count": 114,
      "outputs": [
        {
          "output_type": "error",
          "ename": "SyntaxError",
          "evalue": "ignored",
          "traceback": [
            "\u001b[0;36m  File \u001b[0;32m\"<ipython-input-114-e04da44f766b>\"\u001b[0;36m, line \u001b[0;32m2\u001b[0m\n\u001b[0;31m    for i in range(len(champ_mm))\u001b[0m\n\u001b[0m                                 ^\u001b[0m\n\u001b[0;31mSyntaxError\u001b[0m\u001b[0;31m:\u001b[0m invalid syntax\n"
          ]
        }
      ]
    },
    {
      "cell_type": "code",
      "metadata": {
        "id": "W4OWqez-f9s1"
      },
      "source": [
        ""
      ],
      "execution_count": null,
      "outputs": []
    },
    {
      "cell_type": "code",
      "metadata": {
        "id": "mCAroth_eUc1"
      },
      "source": [
        ""
      ],
      "execution_count": null,
      "outputs": []
    }
  ]
}