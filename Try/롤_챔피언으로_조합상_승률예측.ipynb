{
  "nbformat": 4,
  "nbformat_minor": 5,
  "metadata": {
    "kernelspec": {
      "display_name": "Python 3",
      "language": "python",
      "name": "python3"
    },
    "language_info": {
      "codemirror_mode": {
        "name": "ipython",
        "version": 3
      },
      "file_extension": ".py",
      "mimetype": "text/x-python",
      "name": "python",
      "nbconvert_exporter": "python",
      "pygments_lexer": "ipython3",
      "version": "3.8.8"
    },
    "colab": {
      "name": "롤 챔피언으로 조합상 승률예측.ipynb",
      "provenance": [],
      "include_colab_link": true
    }
  },
  "cells": [
    {
      "cell_type": "markdown",
      "metadata": {
        "id": "view-in-github",
        "colab_type": "text"
      },
      "source": [
        "<a href=\"https://colab.research.google.com/github/cabbi120101/final_multi/blob/main/Try/%EB%A1%A4_%EC%B1%94%ED%94%BC%EC%96%B8%EC%9C%BC%EB%A1%9C_%EC%A1%B0%ED%95%A9%EC%83%81_%EC%8A%B9%EB%A5%A0%EC%98%88%EC%B8%A1.ipynb\" target=\"_parent\"><img src=\"https://colab.research.google.com/assets/colab-badge.svg\" alt=\"Open In Colab\"/></a>"
      ]
    },
    {
      "cell_type": "code",
      "metadata": {
        "id": "a10d5c71"
      },
      "source": [
        "import pandas as pd\n",
        "import numpy as np\n",
        "import matplotlib.pyplot as plt\n",
        "import seaborn as sns\n",
        "import matplotlib as mp\n",
        "from pandas.io.json import json_normalize"
      ],
      "id": "a10d5c71",
      "execution_count": 4,
      "outputs": []
    },
    {
      "cell_type": "code",
      "metadata": {
        "colab": {
          "base_uri": "https://localhost:8080/"
        },
        "id": "VKxVYQ_dJxPZ",
        "outputId": "f0950947-9af3-4b97-a661-ef450158a710"
      },
      "source": [
        "from google.colab import drive\n",
        "drive.mount('/content/drive')"
      ],
      "id": "VKxVYQ_dJxPZ",
      "execution_count": 8,
      "outputs": [
        {
          "output_type": "stream",
          "name": "stdout",
          "text": [
            "Drive already mounted at /content/drive; to attempt to forcibly remount, call drive.mount(\"/content/drive\", force_remount=True).\n"
          ]
        }
      ]
    },
    {
      "cell_type": "code",
      "metadata": {
        "id": "71ca925c"
      },
      "source": [
        "fm = mp.font_manager.FontManager()\n",
        "plt.rcParams['font.family'] = 'Malgun Gothic'"
      ],
      "id": "71ca925c",
      "execution_count": 6,
      "outputs": []
    },
    {
      "cell_type": "code",
      "metadata": {
        "colab": {
          "base_uri": "https://localhost:8080/",
          "height": 1000
        },
        "id": "ad4c635e",
        "outputId": "716978d4-0dc3-41f0-f843-9d277279ee81"
      },
      "source": [
        "df = pd.read_csv('/content/drive/MyDrive/Colab Notebooks/동욱코드모음/마지막프로젝트/3주차/시도/champ_addSk.csv', encoding='utf-8', engine='python', thousands=',')\n",
        "df.head()"
      ],
      "id": "ad4c635e",
      "execution_count": 84,
      "outputs": [
        {
          "output_type": "execute_result",
          "data": {
            "text/html": [
              "<div>\n",
              "<style scoped>\n",
              "    .dataframe tbody tr th:only-of-type {\n",
              "        vertical-align: middle;\n",
              "    }\n",
              "\n",
              "    .dataframe tbody tr th {\n",
              "        vertical-align: top;\n",
              "    }\n",
              "\n",
              "    .dataframe thead th {\n",
              "        text-align: right;\n",
              "    }\n",
              "</style>\n",
              "<table border=\"1\" class=\"dataframe\">\n",
              "  <thead>\n",
              "    <tr style=\"text-align: right;\">\n",
              "      <th></th>\n",
              "      <th>Unnamed: 0</th>\n",
              "      <th>version</th>\n",
              "      <th>id</th>\n",
              "      <th>key</th>\n",
              "      <th>name</th>\n",
              "      <th>title</th>\n",
              "      <th>blurb</th>\n",
              "      <th>info</th>\n",
              "      <th>image</th>\n",
              "      <th>tags</th>\n",
              "      <th>partype</th>\n",
              "      <th>stats</th>\n",
              "      <th>attack</th>\n",
              "      <th>defense</th>\n",
              "      <th>magic</th>\n",
              "      <th>difficulty</th>\n",
              "      <th>hp</th>\n",
              "      <th>hpperlevel</th>\n",
              "      <th>mp</th>\n",
              "      <th>mpperlevel</th>\n",
              "      <th>movespeed</th>\n",
              "      <th>armor</th>\n",
              "      <th>armorperlevel</th>\n",
              "      <th>spellblock</th>\n",
              "      <th>spellblockperlevel</th>\n",
              "      <th>attackrange</th>\n",
              "      <th>hpregen</th>\n",
              "      <th>hpregenperlevel</th>\n",
              "      <th>mpregen</th>\n",
              "      <th>mpregenperlevel</th>\n",
              "      <th>crit</th>\n",
              "      <th>critperlevel</th>\n",
              "      <th>attackdamage</th>\n",
              "      <th>attackdamageperlevel</th>\n",
              "      <th>attackspeedperlevel</th>\n",
              "      <th>attackspeed</th>\n",
              "      <th>skins</th>\n",
              "      <th>lore</th>\n",
              "      <th>allytips</th>\n",
              "      <th>enemytips</th>\n",
              "      <th>spells</th>\n",
              "      <th>passive</th>\n",
              "      <th>recommended</th>\n",
              "      <th>skillQ</th>\n",
              "      <th>skillW</th>\n",
              "      <th>skillE</th>\n",
              "      <th>skillR</th>\n",
              "    </tr>\n",
              "  </thead>\n",
              "  <tbody>\n",
              "    <tr>\n",
              "      <th>0</th>\n",
              "      <td>0</td>\n",
              "      <td>11.17.1</td>\n",
              "      <td>Aatrox</td>\n",
              "      <td>266</td>\n",
              "      <td>Aatrox</td>\n",
              "      <td>the Darkin Blade</td>\n",
              "      <td>Once honored defenders of Shurima against the Void, Aatrox and his brethren would eventually bec...</td>\n",
              "      <td>{'attack': 8, 'defense': 4, 'magic': 3, 'difficulty': 4}</td>\n",
              "      <td>{'full': 'Aatrox.png', 'sprite': 'champion0.png', 'group': 'champion', 'x': 0, 'y': 0, 'w': 48, ...</td>\n",
              "      <td>['Fighter', 'Tank']</td>\n",
              "      <td>Blood Well</td>\n",
              "      <td>{'hp': 580, 'hpperlevel': 90, 'mp': 0, 'mpperlevel': 0, 'movespeed': 345, 'armor': 38, 'armorper...</td>\n",
              "      <td>8</td>\n",
              "      <td>4</td>\n",
              "      <td>3</td>\n",
              "      <td>4</td>\n",
              "      <td>580.0</td>\n",
              "      <td>90</td>\n",
              "      <td>0.0</td>\n",
              "      <td>0.0</td>\n",
              "      <td>345</td>\n",
              "      <td>38</td>\n",
              "      <td>3.25</td>\n",
              "      <td>32.0</td>\n",
              "      <td>1.25</td>\n",
              "      <td>175</td>\n",
              "      <td>3.00</td>\n",
              "      <td>1.00</td>\n",
              "      <td>0.000</td>\n",
              "      <td>0.0</td>\n",
              "      <td>0</td>\n",
              "      <td>0</td>\n",
              "      <td>60.0</td>\n",
              "      <td>5.00</td>\n",
              "      <td>2.500</td>\n",
              "      <td>0.651</td>\n",
              "      <td>[{'id': '266000', 'num': 0, 'name': 'default', 'chromas': False}, {'id': '266001', 'num': 1, 'na...</td>\n",
              "      <td>Once honored defenders of Shurima against the Void, Aatrox and his brethren would eventually bec...</td>\n",
              "      <td>['Use Umbral Dash while casting The Darkin Blade to increase your chances of hitting the enemy.'...</td>\n",
              "      <td>[\"Aatrox's attacks are very telegraphed, so use the time to dodge the hit zones.\", \"Aatrox's Inf...</td>\n",
              "      <td>[{'id': 'AatroxQ', 'name': 'The Darkin Blade', 'description': 'Aatrox slams his greatsword down,...</td>\n",
              "      <td>{'name': 'Deathbringer Stance', 'description': \"Periodically, Aatrox's next basic attack deals b...</td>\n",
              "      <td>[]</td>\n",
              "      <td>{'id': 'AatroxQ', 'name': 'The Darkin Blade', 'description': 'Aatrox slams his greatsword down, ...</td>\n",
              "      <td>{'id': 'AatroxW', 'name': 'Infernal Chains', 'description': 'Aatrox smashes the ground, dealing ...</td>\n",
              "      <td>{'id': 'AatroxE', 'name': 'Umbral Dash', 'description': 'Passively, Aatrox heals when damaging e...</td>\n",
              "      <td>{'id': 'AatroxR', 'name': 'World Ender', 'description': 'Aatrox unleashes his demonic form, fear...</td>\n",
              "    </tr>\n",
              "    <tr>\n",
              "      <th>1</th>\n",
              "      <td>1</td>\n",
              "      <td>11.17.1</td>\n",
              "      <td>Ahri</td>\n",
              "      <td>103</td>\n",
              "      <td>Ahri</td>\n",
              "      <td>the Nine-Tailed Fox</td>\n",
              "      <td>Innately connected to the latent power of Runeterra, Ahri is a vastaya who can reshape magic int...</td>\n",
              "      <td>{'attack': 3, 'defense': 4, 'magic': 8, 'difficulty': 5}</td>\n",
              "      <td>{'full': 'Ahri.png', 'sprite': 'champion0.png', 'group': 'champion', 'x': 48, 'y': 0, 'w': 48, '...</td>\n",
              "      <td>['Mage', 'Assassin']</td>\n",
              "      <td>Mana</td>\n",
              "      <td>{'hp': 526, 'hpperlevel': 92, 'mp': 418, 'mpperlevel': 25, 'movespeed': 330, 'armor': 21, 'armor...</td>\n",
              "      <td>3</td>\n",
              "      <td>4</td>\n",
              "      <td>8</td>\n",
              "      <td>5</td>\n",
              "      <td>526.0</td>\n",
              "      <td>92</td>\n",
              "      <td>418.0</td>\n",
              "      <td>25.0</td>\n",
              "      <td>330</td>\n",
              "      <td>21</td>\n",
              "      <td>3.50</td>\n",
              "      <td>30.0</td>\n",
              "      <td>0.50</td>\n",
              "      <td>550</td>\n",
              "      <td>5.50</td>\n",
              "      <td>0.60</td>\n",
              "      <td>8.000</td>\n",
              "      <td>0.8</td>\n",
              "      <td>0</td>\n",
              "      <td>0</td>\n",
              "      <td>53.0</td>\n",
              "      <td>3.00</td>\n",
              "      <td>2.000</td>\n",
              "      <td>0.668</td>\n",
              "      <td>[{'id': '103000', 'num': 0, 'name': 'default', 'chromas': False}, {'id': '103001', 'num': 1, 'na...</td>\n",
              "      <td>Innately connected to the latent power of Runeterra, Ahri is a vastaya who can reshape magic int...</td>\n",
              "      <td>['Use Charm to set up your combos, it will make landing Orb of Deception and Fox-Fire dramatical...</td>\n",
              "      <td>[\"Ahri's survivability is dramatically reduced when her Ultimate, Spirit Rush, is down.\", \"Stay ...</td>\n",
              "      <td>[{'id': 'AhriOrbofDeception', 'name': 'Orb of Deception', 'description': 'Ahri sends out and pul...</td>\n",
              "      <td>{'name': 'Essence Theft', 'description': 'When Ahri strikes 9 enemies with her abilities, her ne...</td>\n",
              "      <td>[]</td>\n",
              "      <td>{'id': 'AhriOrbofDeception', 'name': 'Orb of Deception', 'description': 'Ahri sends out and pull...</td>\n",
              "      <td>{'id': 'AhriFoxFire', 'name': 'Fox-Fire', 'description': 'Ahri gains a brief burst of movement s...</td>\n",
              "      <td>{'id': 'AhriSeduce', 'name': 'Charm', 'description': 'Ahri blows a kiss that damages and charms ...</td>\n",
              "      <td>{'id': 'AhriTumble', 'name': 'Spirit Rush', 'description': 'Ahri dashes forward and fires essenc...</td>\n",
              "    </tr>\n",
              "    <tr>\n",
              "      <th>2</th>\n",
              "      <td>2</td>\n",
              "      <td>11.17.1</td>\n",
              "      <td>Akali</td>\n",
              "      <td>84</td>\n",
              "      <td>Akali</td>\n",
              "      <td>the Rogue Assassin</td>\n",
              "      <td>Abandoning the Kinkou Order and her title of the Fist of Shadow, Akali now strikes alone, ready ...</td>\n",
              "      <td>{'attack': 5, 'defense': 3, 'magic': 8, 'difficulty': 7}</td>\n",
              "      <td>{'full': 'Akali.png', 'sprite': 'champion0.png', 'group': 'champion', 'x': 96, 'y': 0, 'w': 48, ...</td>\n",
              "      <td>['Assassin']</td>\n",
              "      <td>Energy</td>\n",
              "      <td>{'hp': 500, 'hpperlevel': 105, 'mp': 200, 'mpperlevel': 0, 'movespeed': 345, 'armor': 23, 'armor...</td>\n",
              "      <td>5</td>\n",
              "      <td>3</td>\n",
              "      <td>8</td>\n",
              "      <td>7</td>\n",
              "      <td>500.0</td>\n",
              "      <td>105</td>\n",
              "      <td>200.0</td>\n",
              "      <td>0.0</td>\n",
              "      <td>345</td>\n",
              "      <td>23</td>\n",
              "      <td>3.50</td>\n",
              "      <td>37.0</td>\n",
              "      <td>1.25</td>\n",
              "      <td>125</td>\n",
              "      <td>8.00</td>\n",
              "      <td>0.50</td>\n",
              "      <td>50.000</td>\n",
              "      <td>0.0</td>\n",
              "      <td>0</td>\n",
              "      <td>0</td>\n",
              "      <td>62.0</td>\n",
              "      <td>3.30</td>\n",
              "      <td>3.200</td>\n",
              "      <td>0.625</td>\n",
              "      <td>[{'id': '84000', 'num': 0, 'name': 'default', 'chromas': False}, {'id': '84001', 'num': 1, 'name...</td>\n",
              "      <td>Abandoning the Kinkou Order and her title of the Fist of Shadow, Akali now strikes alone, ready ...</td>\n",
              "      <td>['Akali excels at killing fragile champions. Let your team initiate and then strike at the peopl...</td>\n",
              "      <td>['Akali can still be hit by area effect spells while obscured inside Twilight Shroud. Doing so w...</td>\n",
              "      <td>[{'id': 'AkaliQ', 'name': 'Five Point Strike', 'description': 'Akali throws out five kunai, deal...</td>\n",
              "      <td>{'name': \"Assassin's Mark\", 'description': \"Dealing spell damage to a champion creates a ring of...</td>\n",
              "      <td>[]</td>\n",
              "      <td>{'id': 'AkaliQ', 'name': 'Five Point Strike', 'description': 'Akali throws out five kunai, deali...</td>\n",
              "      <td>{'id': 'AkaliW', 'name': 'Twilight Shroud', 'description': 'Akali drops a cover of smoke and bri...</td>\n",
              "      <td>{'id': 'AkaliE', 'name': 'Shuriken Flip', 'description': 'Flip backward and fire a shuriken forw...</td>\n",
              "      <td>{'id': 'AkaliR', 'name': 'Perfect Execution', 'description': 'Akali leaps in a direction, damagi...</td>\n",
              "    </tr>\n",
              "    <tr>\n",
              "      <th>3</th>\n",
              "      <td>3</td>\n",
              "      <td>11.17.1</td>\n",
              "      <td>Akshan</td>\n",
              "      <td>166</td>\n",
              "      <td>Akshan</td>\n",
              "      <td>the Rogue Sentinel</td>\n",
              "      <td>Raising an eyebrow in the face of danger, Akshan fights evil with dashing charisma, righteous ve...</td>\n",
              "      <td>{'attack': 0, 'defense': 0, 'magic': 0, 'difficulty': 0}</td>\n",
              "      <td>{'full': 'Akshan.png', 'sprite': 'champion0.png', 'group': 'champion', 'x': 144, 'y': 0, 'w': 48...</td>\n",
              "      <td>['Marksman', 'Assassin']</td>\n",
              "      <td>Mana</td>\n",
              "      <td>{'hp': 560, 'hpperlevel': 90, 'mp': 350, 'mpperlevel': 40, 'movespeed': 330, 'armor': 26, 'armor...</td>\n",
              "      <td>0</td>\n",
              "      <td>0</td>\n",
              "      <td>0</td>\n",
              "      <td>0</td>\n",
              "      <td>560.0</td>\n",
              "      <td>90</td>\n",
              "      <td>350.0</td>\n",
              "      <td>40.0</td>\n",
              "      <td>330</td>\n",
              "      <td>26</td>\n",
              "      <td>3.00</td>\n",
              "      <td>30.0</td>\n",
              "      <td>0.50</td>\n",
              "      <td>500</td>\n",
              "      <td>3.75</td>\n",
              "      <td>0.65</td>\n",
              "      <td>8.175</td>\n",
              "      <td>0.7</td>\n",
              "      <td>0</td>\n",
              "      <td>0</td>\n",
              "      <td>52.0</td>\n",
              "      <td>3.50</td>\n",
              "      <td>4.000</td>\n",
              "      <td>0.638</td>\n",
              "      <td>[{'id': '166000', 'num': 0, 'name': 'default', 'chromas': False}, {'id': '166001', 'num': 1, 'na...</td>\n",
              "      <td>Raising an eyebrow in the face of danger, Akshan fights evil with dashing charisma, righteous ve...</td>\n",
              "      <td>[\"Raising an eyebrow in the face of danger, Akshan fights evil with dashing charisma, righteous ...</td>\n",
              "      <td>[]</td>\n",
              "      <td>[{'id': 'AkshanQ', 'name': 'Avengerang', 'description': 'Akshan throws a boomerang that deals da...</td>\n",
              "      <td>{'name': 'Dirty Fighting', 'description': \"Every three hits from Akshan's Attacks and Abilities ...</td>\n",
              "      <td>[]</td>\n",
              "      <td>{'id': 'AkshanQ', 'name': 'Avengerang', 'description': 'Akshan throws a boomerang that deals dam...</td>\n",
              "      <td>{'id': 'AkshanW', 'name': 'Going Rogue', 'description': 'Akshan passively marks enemy champions ...</td>\n",
              "      <td>{'id': 'AkshanE', 'name': 'Heroic Swing', 'description': 'Akshan fires a grappling hook into ter...</td>\n",
              "      <td>{'id': 'AkshanR', 'name': 'Comeuppance', 'description': 'Akshan locks onto an enemy champion and...</td>\n",
              "    </tr>\n",
              "    <tr>\n",
              "      <th>4</th>\n",
              "      <td>4</td>\n",
              "      <td>11.17.1</td>\n",
              "      <td>Alistar</td>\n",
              "      <td>12</td>\n",
              "      <td>Alistar</td>\n",
              "      <td>the Minotaur</td>\n",
              "      <td>Always a mighty warrior with a fearsome reputation, Alistar seeks revenge for the death of his c...</td>\n",
              "      <td>{'attack': 6, 'defense': 9, 'magic': 5, 'difficulty': 7}</td>\n",
              "      <td>{'full': 'Alistar.png', 'sprite': 'champion0.png', 'group': 'champion', 'x': 192, 'y': 0, 'w': 4...</td>\n",
              "      <td>['Tank', 'Support']</td>\n",
              "      <td>Mana</td>\n",
              "      <td>{'hp': 600, 'hpperlevel': 106, 'mp': 350, 'mpperlevel': 40, 'movespeed': 330, 'armor': 44, 'armo...</td>\n",
              "      <td>6</td>\n",
              "      <td>9</td>\n",
              "      <td>5</td>\n",
              "      <td>7</td>\n",
              "      <td>600.0</td>\n",
              "      <td>106</td>\n",
              "      <td>350.0</td>\n",
              "      <td>40.0</td>\n",
              "      <td>330</td>\n",
              "      <td>44</td>\n",
              "      <td>3.50</td>\n",
              "      <td>32.0</td>\n",
              "      <td>1.25</td>\n",
              "      <td>125</td>\n",
              "      <td>8.50</td>\n",
              "      <td>0.85</td>\n",
              "      <td>8.500</td>\n",
              "      <td>0.8</td>\n",
              "      <td>0</td>\n",
              "      <td>0</td>\n",
              "      <td>62.0</td>\n",
              "      <td>3.75</td>\n",
              "      <td>2.125</td>\n",
              "      <td>0.625</td>\n",
              "      <td>[{'id': '12000', 'num': 0, 'name': 'default', 'chromas': False}, {'id': '12001', 'num': 1, 'name...</td>\n",
              "      <td>Always a mighty warrior with a fearsome reputation, Alistar seeks revenge for the death of his c...</td>\n",
              "      <td>['Using Pulverize can allow you to establish better positioning for Headbutt.', 'Movement speed ...</td>\n",
              "      <td>['Alistar is very disruptive but very tough - try to target more fragile damage dealers.', 'Watc...</td>\n",
              "      <td>[{'id': 'Pulverize', 'name': 'Pulverize', 'description': 'Alistar smashes the ground, dealing da...</td>\n",
              "      <td>{'name': 'Triumphant Roar', 'description': 'Alistar charges his roar by stunning or displacing e...</td>\n",
              "      <td>[]</td>\n",
              "      <td>{'id': 'Pulverize', 'name': 'Pulverize', 'description': 'Alistar smashes the ground, dealing dam...</td>\n",
              "      <td>{'id': 'Headbutt', 'name': 'Headbutt', 'description': 'Alistar rams a target with his head, deal...</td>\n",
              "      <td>{'id': 'AlistarE', 'name': 'Trample', 'description': \"Alistar tramples nearby enemy units, ignor...</td>\n",
              "      <td>{'id': 'FerociousHowl', 'name': 'Unbreakable Will', 'description': 'Alistar lets out a wild roar...</td>\n",
              "    </tr>\n",
              "  </tbody>\n",
              "</table>\n",
              "</div>"
            ],
            "text/plain": [
              "   Unnamed: 0  ...                                                                                               skillR\n",
              "0           0  ...  {'id': 'AatroxR', 'name': 'World Ender', 'description': 'Aatrox unleashes his demonic form, fear...\n",
              "1           1  ...  {'id': 'AhriTumble', 'name': 'Spirit Rush', 'description': 'Ahri dashes forward and fires essenc...\n",
              "2           2  ...  {'id': 'AkaliR', 'name': 'Perfect Execution', 'description': 'Akali leaps in a direction, damagi...\n",
              "3           3  ...  {'id': 'AkshanR', 'name': 'Comeuppance', 'description': 'Akshan locks onto an enemy champion and...\n",
              "4           4  ...  {'id': 'FerociousHowl', 'name': 'Unbreakable Will', 'description': 'Alistar lets out a wild roar...\n",
              "\n",
              "[5 rows x 47 columns]"
            ]
          },
          "metadata": {},
          "execution_count": 84
        }
      ]
    },
    {
      "cell_type": "code",
      "metadata": {
        "colab": {
          "base_uri": "https://localhost:8080/"
        },
        "id": "a29775eb",
        "outputId": "0ff52bb1-da0c-48df-a2c7-c47a67cdc95b"
      },
      "source": [
        "df.info()"
      ],
      "id": "a29775eb",
      "execution_count": 85,
      "outputs": [
        {
          "output_type": "stream",
          "name": "stdout",
          "text": [
            "<class 'pandas.core.frame.DataFrame'>\n",
            "RangeIndex: 156 entries, 0 to 155\n",
            "Data columns (total 47 columns):\n",
            " #   Column                Non-Null Count  Dtype  \n",
            "---  ------                --------------  -----  \n",
            " 0   Unnamed: 0            156 non-null    int64  \n",
            " 1   version               156 non-null    object \n",
            " 2   id                    156 non-null    object \n",
            " 3   key                   156 non-null    int64  \n",
            " 4   name                  156 non-null    object \n",
            " 5   title                 156 non-null    object \n",
            " 6   blurb                 156 non-null    object \n",
            " 7   info                  156 non-null    object \n",
            " 8   image                 156 non-null    object \n",
            " 9   tags                  156 non-null    object \n",
            " 10  partype               156 non-null    object \n",
            " 11  stats                 156 non-null    object \n",
            " 12  attack                156 non-null    int64  \n",
            " 13  defense               156 non-null    int64  \n",
            " 14  magic                 156 non-null    int64  \n",
            " 15  difficulty            156 non-null    int64  \n",
            " 16  hp                    156 non-null    float64\n",
            " 17  hpperlevel            156 non-null    int64  \n",
            " 18  mp                    156 non-null    float64\n",
            " 19  mpperlevel            156 non-null    float64\n",
            " 20  movespeed             156 non-null    int64  \n",
            " 21  armor                 156 non-null    int64  \n",
            " 22  armorperlevel         156 non-null    float64\n",
            " 23  spellblock            156 non-null    float64\n",
            " 24  spellblockperlevel    156 non-null    float64\n",
            " 25  attackrange           156 non-null    int64  \n",
            " 26  hpregen               156 non-null    float64\n",
            " 27  hpregenperlevel       156 non-null    float64\n",
            " 28  mpregen               156 non-null    float64\n",
            " 29  mpregenperlevel       156 non-null    float64\n",
            " 30  crit                  156 non-null    int64  \n",
            " 31  critperlevel          156 non-null    int64  \n",
            " 32  attackdamage          156 non-null    float64\n",
            " 33  attackdamageperlevel  156 non-null    float64\n",
            " 34  attackspeedperlevel   156 non-null    float64\n",
            " 35  attackspeed           156 non-null    float64\n",
            " 36  skins                 156 non-null    object \n",
            " 37  lore                  156 non-null    object \n",
            " 38  allytips              156 non-null    object \n",
            " 39  enemytips             156 non-null    object \n",
            " 40  spells                156 non-null    object \n",
            " 41  passive               156 non-null    object \n",
            " 42  recommended           156 non-null    object \n",
            " 43  skillQ                156 non-null    object \n",
            " 44  skillW                156 non-null    object \n",
            " 45  skillE                156 non-null    object \n",
            " 46  skillR                156 non-null    object \n",
            "dtypes: float64(14), int64(12), object(21)\n",
            "memory usage: 57.4+ KB\n"
          ]
        }
      ]
    },
    {
      "cell_type": "markdown",
      "metadata": {
        "id": "defa2211"
      },
      "source": [
        "## 컬럼설명"
      ],
      "id": "defa2211"
    },
    {
      "cell_type": "markdown",
      "metadata": {
        "id": "67b9f950"
      },
      "source": [
        "1. version : 버전\n",
        "2. id : 챔피언 이름 \n",
        "3. key : 키(무슨키인지 모르겠음)  \n",
        "4. name : 챔피언 이름\n",
        "5. title : 별명\n",
        "6. blurb : 선전\n",
        "7. info : 챔피언 정보\n",
        "8. image : 챔피언들 어디에있는지 위치, 이미지 \n",
        "9. tags : 챔피언 역할군\n",
        "10. partype : 챔피언의 자원 \n",
        "11. stats : 통계\n",
        "12. attack : 공격\n",
        "13. defense : 방어  \n",
        "14. magic : 마력  \n",
        "15. difficulty : 난이도 \n",
        "16. hp : 체력량\n",
        "17. hpperlevel : 레벨에 따른 체력 증가량   \n",
        "18. mp : 마나량 (마나:스킬을 쓸수있는 총량)\n",
        "19. mpperlevel : 레벨에 따른 마나 증가량\n",
        "20. movespeed : 이동속도  \n",
        "21. armor : 갑옷  \n",
        "22. armorperlevel : 갑옷레벨\n",
        "23. spellblock : 주문차단\n",
        "24. spellblockperlevel : 주문차단레벨\n",
        "25. attackrange : 공격범위  \n",
        "26. hpregen : 체력회복량\n",
        "27. hpregenperlevel : 레벨에 따른 체력회복량\n",
        "28. mpregen : 마나회복량\n",
        "29. mpregenperlevel : 레벨에 따른 마나회복량\n",
        "30. crit : 치명타\n",
        "31. critperlevel : 레벨에 따른 치명타   \n",
        "32. attackdamage : 공격 피해          \n",
        "33. attackdamageperlevel : 공격 데미지당 레벨\n",
        "34. attackspeedperlevel : 공격 속도당 레벨\n",
        "35. attackspeed : 공격 속도 오프셋         \n",
        "36. skins : 스킨(챔피언별 단계)        \n",
        "37. lore : 배경                 \n",
        "38. allytips : 동맹국             \n",
        "39. enemytips : 귓속말            \n",
        "40. spells : 주문                 \n",
        "41. passive : 패시브              \n",
        "42. recommended : 추천          \n",
        "43. skillQ : 스킬Q               \n",
        "44. skillW : 스킬W                \n",
        "45. skillE : 스킬E                \n",
        "46. skillR : 스킬R                "
      ],
      "id": "67b9f950"
    },
    {
      "cell_type": "code",
      "metadata": {
        "colab": {
          "base_uri": "https://localhost:8080/"
        },
        "id": "87dc5478",
        "outputId": "3b3a43f4-4478-41ca-ba85-d4608ec76f1a"
      },
      "source": [
        "len(df['tags'].iloc[0])"
      ],
      "id": "87dc5478",
      "execution_count": 86,
      "outputs": [
        {
          "output_type": "execute_result",
          "data": {
            "text/plain": [
              "19"
            ]
          },
          "metadata": {},
          "execution_count": 86
        }
      ]
    },
    {
      "cell_type": "code",
      "metadata": {
        "id": "c2f34b4c"
      },
      "source": [
        "pd.set_option('max_colwidth', 100)\n",
        "df = df[['id', 'tags']]"
      ],
      "id": "c2f34b4c",
      "execution_count": 87,
      "outputs": []
    },
    {
      "cell_type": "markdown",
      "metadata": {
        "id": "f0906ddb"
      },
      "source": [
        "## 텍스트 정보들을 피처 벡터화"
      ],
      "id": "f0906ddb"
    },
    {
      "cell_type": "code",
      "metadata": {
        "colab": {
          "base_uri": "https://localhost:8080/"
        },
        "id": "KMaxqNpPOzYd",
        "outputId": "4f959908-a5c0-451a-97da-25904a0ea3b9"
      },
      "source": [
        "df['tags']"
      ],
      "id": "KMaxqNpPOzYd",
      "execution_count": 88,
      "outputs": [
        {
          "output_type": "execute_result",
          "data": {
            "text/plain": [
              "0           ['Fighter', 'Tank']\n",
              "1          ['Mage', 'Assassin']\n",
              "2                  ['Assassin']\n",
              "3      ['Marksman', 'Assassin']\n",
              "4           ['Tank', 'Support']\n",
              "                 ...           \n",
              "151                ['Assassin']\n",
              "152                    ['Mage']\n",
              "153         ['Support', 'Mage']\n",
              "154         ['Mage', 'Support']\n",
              "155         ['Mage', 'Support']\n",
              "Name: tags, Length: 156, dtype: object"
            ]
          },
          "metadata": {},
          "execution_count": 88
        }
      ]
    },
    {
      "cell_type": "code",
      "metadata": {
        "id": "LxugiyoGQCdc"
      },
      "source": [
        "# genres 문자열 데이터를 리스트 객체로 변환\n",
        "from ast import literal_eval\n",
        "\n",
        "df['tags'] = df['tags'].apply(literal_eval)"
      ],
      "id": "LxugiyoGQCdc",
      "execution_count": 90,
      "outputs": []
    },
    {
      "cell_type": "code",
      "metadata": {
        "colab": {
          "base_uri": "https://localhost:8080/"
        },
        "id": "664f6849",
        "outputId": "970bea0f-ef54-4ce9-91f3-03abaf27f575"
      },
      "source": [
        "# 리스트인 장르 칼럼을 문자열로 변환\n",
        "\n",
        "from sklearn.feature_extraction.text import CountVectorizer\n",
        "\n",
        "# CountVectorizer를 적용하기 위해 공백 문자로 단어 단위가 구분되는 문자열로 변환\n",
        "# join() 메소드 사용해서 리스트의 각 원소들을 공백으로 결합해서 문자열로 변환\n",
        "df['new_tags'] = df['tags'].apply(lambda x : (' ').join(x))\n",
        "count_vect = CountVectorizer(min_df=0, ngram_range=(1,2))\n",
        "tags_mat = count_vect.fit_transform(df['new_tags'])\n",
        "print(tags_mat.shape)"
      ],
      "id": "664f6849",
      "execution_count": 94,
      "outputs": [
        {
          "output_type": "stream",
          "name": "stdout",
          "text": [
            "(156, 27)\n"
          ]
        }
      ]
    },
    {
      "cell_type": "code",
      "metadata": {
        "colab": {
          "base_uri": "https://localhost:8080/"
        },
        "id": "a0459b0f",
        "outputId": "82d0b77b-e728-401f-e599-2ae6cc0135a6"
      },
      "source": [
        "tags_mat.toarray()[1]"
      ],
      "id": "a0459b0f",
      "execution_count": 95,
      "outputs": [
        {
          "output_type": "execute_result",
          "data": {
            "text/plain": [
              "array([1, 0, 0, 0, 0, 0, 0, 0, 0, 1, 1, 0, 0, 0, 0, 0, 0, 0, 0, 0, 0, 0,\n",
              "       0, 0, 0, 0, 0])"
            ]
          },
          "metadata": {},
          "execution_count": 95
        }
      ]
    },
    {
      "cell_type": "code",
      "metadata": {
        "colab": {
          "base_uri": "https://localhost:8080/"
        },
        "id": "8550aed1",
        "outputId": "b5296fc8-7098-4f11-ea81-eebad8cc0a9e"
      },
      "source": [
        "df['new_tags']"
      ],
      "id": "8550aed1",
      "execution_count": 96,
      "outputs": [
        {
          "output_type": "execute_result",
          "data": {
            "text/plain": [
              "0           Fighter Tank\n",
              "1          Mage Assassin\n",
              "2               Assassin\n",
              "3      Marksman Assassin\n",
              "4           Tank Support\n",
              "             ...        \n",
              "151             Assassin\n",
              "152                 Mage\n",
              "153         Support Mage\n",
              "154         Mage Support\n",
              "155         Mage Support\n",
              "Name: new_tags, Length: 156, dtype: object"
            ]
          },
          "metadata": {},
          "execution_count": 96
        }
      ]
    },
    {
      "cell_type": "markdown",
      "metadata": {
        "id": "ed3c12ae"
      },
      "source": [
        "## 코사인 유사도로 챔피언별 유사도 계산"
      ],
      "id": "ed3c12ae"
    },
    {
      "cell_type": "markdown",
      "metadata": {
        "id": "9b5eb6cc"
      },
      "source": [
        "### 태그에 따른 챔피언별 코사인 유사도 추출"
      ],
      "id": "9b5eb6cc"
    },
    {
      "cell_type": "code",
      "metadata": {
        "colab": {
          "base_uri": "https://localhost:8080/"
        },
        "id": "2e4669fb",
        "outputId": "52ab5351-bf54-47a5-9741-fe88c239e44a"
      },
      "source": [
        "# 사이킷런의 cosine_similarity() 함수 이용해서 코사인 유사도 계산\n",
        "\n",
        "from sklearn.metrics.pairwise import cosine_similarity\n",
        "\n",
        "tags_sim = cosine_similarity(tags_mat, tags_mat)\n",
        "print(tags_sim.shape)  # 유사도 행렬 크기\n",
        "print(tags_sim[:5])    # 앞 5개만 출력"
      ],
      "id": "2e4669fb",
      "execution_count": 109,
      "outputs": [
        {
          "output_type": "stream",
          "name": "stdout",
          "text": [
            "(156, 156)\n",
            "[[1.         0.         0.         0.         0.33333333 0.33333333\n",
            "  0.         0.         0.         0.         0.         0.\n",
            "  0.         0.66666667 0.         0.33333333 0.         1.\n",
            "  0.         0.33333333 0.         1.         0.33333333 0.\n",
            "  1.         0.33333333 0.33333333 0.         0.         0.\n",
            "  0.33333333 0.33333333 0.33333333 0.57735027 1.         1.\n",
            "  0.33333333 0.         0.33333333 1.         0.         1.\n",
            "  0.33333333 0.         0.         0.66666667 0.33333333 0.33333333\n",
            "  0.         0.         0.         0.         0.         0.\n",
            "  0.         0.         0.33333333 0.33333333 0.         0.\n",
            "  0.         1.         0.         0.         0.33333333 0.33333333\n",
            "  0.33333333 0.         0.         0.         0.         0.66666667\n",
            "  0.         0.33333333 0.33333333 0.         1.         0.57735027\n",
            "  0.         0.         1.         0.66666667 0.         0.\n",
            "  0.33333333 0.66666667 1.         0.         0.66666667 0.33333333\n",
            "  0.66666667 0.         0.33333333 0.         0.         0.66666667\n",
            "  0.57735027 0.57735027 1.         0.33333333 0.33333333 0.33333333\n",
            "  0.33333333 0.         0.66666667 0.         0.         1.\n",
            "  0.         0.57735027 1.         0.66666667 0.66666667 0.\n",
            "  1.         0.         0.         0.33333333 0.         0.\n",
            "  0.33333333 0.         0.         0.33333333 0.         0.33333333\n",
            "  0.         1.         0.33333333 0.         0.         1.\n",
            "  1.         0.         0.         0.         0.         0.33333333\n",
            "  0.33333333 0.         0.         1.         1.         0.\n",
            "  0.         0.33333333 0.33333333 0.33333333 1.         0.\n",
            "  0.66666667 0.         0.         0.         0.         0.        ]\n",
            " [0.         1.         0.57735027 0.33333333 0.         0.33333333\n",
            "  0.33333333 0.57735027 0.         0.         0.57735027 0.33333333\n",
            "  0.33333333 0.         0.57735027 0.         0.         0.\n",
            "  0.57735027 0.33333333 0.         0.         0.33333333 0.\n",
            "  0.         0.33333333 0.33333333 0.66666667 0.33333333 0.33333333\n",
            "  0.33333333 0.33333333 0.33333333 0.         0.         0.\n",
            "  0.33333333 0.         0.33333333 0.         0.33333333 0.\n",
            "  0.33333333 0.33333333 0.33333333 0.         0.33333333 0.\n",
            "  0.33333333 0.         0.         0.         0.33333333 0.57735027\n",
            "  0.66666667 0.66666667 0.         0.33333333 0.33333333 0.57735027\n",
            "  0.         0.         0.33333333 0.66666667 0.33333333 0.\n",
            "  0.33333333 0.57735027 0.         0.33333333 0.33333333 0.\n",
            "  1.         0.33333333 0.33333333 0.         0.         0.\n",
            "  0.33333333 0.33333333 0.         0.         0.33333333 0.66666667\n",
            "  0.33333333 0.         0.         0.33333333 0.         0.33333333\n",
            "  0.         0.33333333 0.33333333 0.33333333 0.         0.\n",
            "  0.         0.         0.         0.33333333 0.33333333 0.33333333\n",
            "  0.33333333 0.         0.         0.         0.33333333 0.\n",
            "  0.57735027 0.         0.         0.         0.         0.\n",
            "  0.         0.33333333 0.33333333 0.33333333 1.         0.33333333\n",
            "  0.         0.33333333 0.57735027 0.         0.33333333 0.\n",
            "  0.33333333 0.         0.33333333 0.57735027 0.33333333 0.\n",
            "  0.         0.33333333 0.33333333 0.57735027 0.57735027 0.33333333\n",
            "  0.33333333 0.57735027 0.57735027 0.         0.         0.\n",
            "  0.57735027 0.33333333 0.33333333 0.33333333 0.         0.33333333\n",
            "  0.         0.57735027 0.57735027 0.33333333 0.33333333 0.33333333]\n",
            " [0.         0.57735027 1.         0.57735027 0.         0.\n",
            "  0.         0.         0.         0.         0.         0.\n",
            "  0.         0.         0.         0.         0.         0.\n",
            "  0.         0.         0.         0.         0.         0.\n",
            "  0.         0.57735027 0.         0.57735027 0.         0.\n",
            "  0.57735027 0.57735027 0.         0.         0.         0.\n",
            "  0.         0.         0.57735027 0.         0.         0.\n",
            "  0.57735027 0.         0.         0.         0.57735027 0.\n",
            "  0.         0.         0.         0.         0.         0.\n",
            "  0.57735027 0.57735027 0.         0.57735027 0.         1.\n",
            "  0.         0.         0.         0.57735027 0.57735027 0.\n",
            "  0.         0.         0.         0.         0.         0.\n",
            "  0.57735027 0.         0.57735027 0.         0.         0.\n",
            "  0.         0.         0.         0.         0.         0.57735027\n",
            "  0.57735027 0.         0.         0.         0.         0.57735027\n",
            "  0.         0.57735027 0.57735027 0.57735027 0.         0.\n",
            "  0.         0.         0.         0.57735027 0.57735027 0.\n",
            "  0.         0.         0.         0.         0.         0.\n",
            "  1.         0.         0.         0.         0.         0.\n",
            "  0.         0.         0.         0.         0.57735027 0.\n",
            "  0.         0.         1.         0.         0.57735027 0.\n",
            "  0.57735027 0.         0.57735027 0.         0.57735027 0.\n",
            "  0.         0.         0.57735027 0.         0.         0.57735027\n",
            "  0.57735027 0.         0.         0.         0.         0.\n",
            "  0.         0.57735027 0.57735027 0.57735027 0.         0.\n",
            "  0.         1.         0.         0.         0.         0.        ]\n",
            " [0.         0.33333333 0.57735027 1.         0.         0.\n",
            "  0.         0.         0.57735027 0.33333333 0.         0.33333333\n",
            "  0.         0.         0.         0.         0.57735027 0.\n",
            "  0.         0.         0.57735027 0.         0.         0.57735027\n",
            "  0.         0.33333333 0.         0.33333333 0.33333333 0.\n",
            "  0.33333333 0.33333333 0.         0.         0.         0.\n",
            "  0.         0.57735027 0.33333333 0.         0.         0.\n",
            "  0.33333333 0.         0.         0.         0.33333333 0.33333333\n",
            "  0.33333333 0.57735027 0.57735027 0.57735027 0.         0.\n",
            "  0.33333333 0.33333333 0.         0.33333333 0.33333333 0.57735027\n",
            "  0.57735027 0.         0.33333333 0.33333333 0.33333333 0.\n",
            "  0.         0.         0.57735027 0.         0.         0.\n",
            "  0.33333333 0.         0.33333333 0.57735027 0.         0.\n",
            "  0.         0.         0.         0.         0.         0.33333333\n",
            "  0.33333333 0.         0.         0.         0.         0.33333333\n",
            "  0.         0.33333333 0.33333333 1.         0.         0.\n",
            "  0.         0.         0.         0.33333333 0.33333333 0.\n",
            "  0.         0.57735027 0.         0.33333333 0.         0.\n",
            "  0.57735027 0.         0.         0.         0.         0.57735027\n",
            "  0.         0.         0.         0.         0.33333333 0.\n",
            "  0.         0.         0.57735027 0.         1.         0.\n",
            "  1.         0.         0.33333333 0.         1.         0.\n",
            "  0.         0.33333333 1.         0.         0.         0.33333333\n",
            "  0.33333333 0.         0.         0.         0.         0.57735027\n",
            "  0.         0.33333333 0.33333333 0.33333333 0.         0.\n",
            "  0.         0.57735027 0.         0.         0.         0.        ]\n",
            " [0.33333333 0.         0.         0.         1.         0.33333333\n",
            "  0.33333333 0.         0.         0.33333333 0.         0.\n",
            "  0.33333333 0.33333333 0.         0.66666667 0.         0.33333333\n",
            "  0.         0.33333333 0.         0.33333333 0.         0.\n",
            "  0.33333333 0.         0.         0.         0.         0.33333333\n",
            "  0.         0.         0.33333333 0.         0.33333333 0.33333333\n",
            "  0.         0.         0.         0.33333333 0.33333333 0.33333333\n",
            "  0.         0.33333333 0.33333333 0.33333333 0.         0.\n",
            "  0.         0.         0.         0.         0.33333333 0.\n",
            "  0.         0.         0.33333333 0.         0.         0.\n",
            "  0.         0.33333333 0.         0.         0.         1.\n",
            "  0.         0.         0.         0.33333333 0.33333333 0.33333333\n",
            "  0.         0.33333333 0.         0.         0.33333333 0.\n",
            "  0.33333333 0.33333333 0.33333333 0.33333333 0.33333333 0.\n",
            "  0.         0.33333333 0.33333333 0.33333333 0.33333333 0.\n",
            "  0.33333333 0.33333333 0.         0.         0.57735027 0.33333333\n",
            "  0.         0.57735027 0.33333333 0.         0.         0.\n",
            "  0.         0.         0.33333333 0.33333333 0.33333333 0.33333333\n",
            "  0.         0.57735027 0.33333333 0.33333333 0.33333333 0.\n",
            "  0.33333333 0.33333333 0.33333333 0.         0.         0.33333333\n",
            "  0.66666667 0.33333333 0.         0.33333333 0.         0.33333333\n",
            "  0.         0.33333333 0.         0.         0.         0.33333333\n",
            "  0.33333333 0.         0.         0.         0.         0.\n",
            "  0.         0.         0.         0.33333333 0.33333333 0.\n",
            "  0.         0.         0.         0.         0.33333333 0.33333333\n",
            "  0.33333333 0.         0.         0.33333333 0.33333333 0.33333333]]\n"
          ]
        }
      ]
    },
    {
      "cell_type": "code",
      "metadata": {
        "colab": {
          "base_uri": "https://localhost:8080/"
        },
        "id": "WDoibb4SQppn",
        "outputId": "00e5bb25-3fb3-4ef9-db10-5f1f19587709"
      },
      "source": [
        "type(tags_sim)"
      ],
      "id": "WDoibb4SQppn",
      "execution_count": 110,
      "outputs": [
        {
          "output_type": "execute_result",
          "data": {
            "text/plain": [
              "numpy.ndarray"
            ]
          },
          "metadata": {},
          "execution_count": 110
        }
      ]
    },
    {
      "cell_type": "code",
      "metadata": {
        "colab": {
          "base_uri": "https://localhost:8080/"
        },
        "id": "60a93fb0",
        "outputId": "1ea9a16f-57d2-48ab-ca7e-4eadaf8d5c0c"
      },
      "source": [
        "tags_sim.argsort()"
      ],
      "id": "60a93fb0",
      "execution_count": 111,
      "outputs": [
        {
          "output_type": "execute_result",
          "data": {
            "text/plain": [
              "array([[155,  78, 154, ..., 110, 142,   0],\n",
              "       [  0,  96,  95, ...,   1,  72, 118],\n",
              "       [  0, 106, 105, ..., 151,   2, 122],\n",
              "       ...,\n",
              "       [  0, 103, 100, ..., 116,  69, 153],\n",
              "       [  0, 103, 100, ...,  52, 121, 155],\n",
              "       [  0, 103, 100, ...,  52, 121, 155]])"
            ]
          },
          "metadata": {},
          "execution_count": 111
        }
      ]
    },
    {
      "cell_type": "code",
      "metadata": {
        "colab": {
          "base_uri": "https://localhost:8080/"
        },
        "id": "f39879b1",
        "outputId": "ed04c7dd-0496-44f3-e913-188ada3c51bd"
      },
      "source": [
        "# 행으로 내림차순 정렬\n",
        "tags_sim.argsort()[::-1]"
      ],
      "id": "f39879b1",
      "execution_count": 112,
      "outputs": [
        {
          "output_type": "execute_result",
          "data": {
            "text/plain": [
              "array([[  0, 103, 100, ...,  52, 121, 155],\n",
              "       [  0, 103, 100, ...,  52, 121, 155],\n",
              "       [  0, 103, 100, ..., 116,  69, 153],\n",
              "       ...,\n",
              "       [  0, 106, 105, ..., 151,   2, 122],\n",
              "       [  0,  96,  95, ...,   1,  72, 118],\n",
              "       [155,  78, 154, ..., 110, 142,   0]])"
            ]
          },
          "metadata": {},
          "execution_count": 112
        }
      ]
    },
    {
      "cell_type": "code",
      "metadata": {
        "colab": {
          "base_uri": "https://localhost:8080/"
        },
        "id": "c1c25446",
        "outputId": "dcc1ba96-0517-4eba-88f5-782f36d61733"
      },
      "source": [
        "# 행은 그대로, 열로 내림차순 정렬\n",
        "tags_sim.argsort()[:, ::-1]"
      ],
      "id": "c1c25446",
      "execution_count": 113,
      "outputs": [
        {
          "output_type": "execute_result",
          "data": {
            "text/plain": [
              "array([[  0, 142, 110, ..., 154,  78, 155],\n",
              "       [118,  72,   1, ...,  95,  96,   0],\n",
              "       [122,   2, 151, ..., 105, 106,   0],\n",
              "       ...,\n",
              "       [153,  69, 116, ..., 100, 103,   0],\n",
              "       [155, 121,  52, ..., 100, 103,   0],\n",
              "       [155, 121,  52, ..., 100, 103,   0]])"
            ]
          },
          "metadata": {},
          "execution_count": 113
        }
      ]
    },
    {
      "cell_type": "code",
      "metadata": {
        "colab": {
          "base_uri": "https://localhost:8080/"
        },
        "id": "fd8d8915",
        "outputId": "77c924cb-1884-4a51-8bef-a06cec174464"
      },
      "source": [
        "tags_sim.argsort()[:, ::-1][1]"
      ],
      "id": "fd8d8915",
      "execution_count": 114,
      "outputs": [
        {
          "output_type": "execute_result",
          "data": {
            "text/plain": [
              "array([118,  72,   1,  63,  83,  55,  27,  54,  67,   7, 129, 108,  18,\n",
              "       136,  10, 122,  14,  59, 135,   2, 152, 139, 140,  53, 144, 151,\n",
              "        29,  79,  92,  32,  91,  89,  31,  82, 154,  28,  84,  87,  30,\n",
              "        78, 155,  74,  58,  44,  48,  43,  42,  52,  40,  57,  38,  73,\n",
              "        62,  64,  66,  26,  36,  69,  70,  93, 100,  25, 117, 121, 124,\n",
              "       126, 128, 130,   6, 133, 134, 137, 138,   5,   3, 145, 146, 147,\n",
              "       149, 153, 119,  11, 116, 106,  22,  99, 101, 102,  19,  46,  12,\n",
              "       115,  37,   4,  23,  35,  24,  45,  41,  33,  21,   8,  20,   9,\n",
              "        34,  39,  16,  15,  13,  17,  77,  47, 103, 105, 107, 109, 110,\n",
              "       111, 112, 113, 114, 120, 123, 125, 127, 131, 132, 141, 142, 143,\n",
              "       148, 150, 104,  98,  49,  97,  50,  51,  56,  60,  61,  65,  68,\n",
              "        71,  75,  76,  80,  81,  85,  86,  88,  90,  94,  95,  96,   0])"
            ]
          },
          "metadata": {},
          "execution_count": 114
        }
      ]
    },
    {
      "cell_type": "code",
      "metadata": {
        "colab": {
          "base_uri": "https://localhost:8080/"
        },
        "id": "0c0e3b5f",
        "outputId": "19af36e5-83c4-4cfc-f8e6-e420bd90b819"
      },
      "source": [
        "# 높은 순으로 정렬된(내림차순 정렬된) 비교 행 위치 인덱스 값 구해서\n",
        "# 첫 번째(0번 레코드)의 비교 행 위치 인덱스 값만 샘플로 추출\n",
        "tags_sim_sorted_ind = tags_sim.argsort()[:, ::-1]\n",
        "print(tags_sim_sorted_ind[:1]) # [0]\n",
        "\n",
        "\n",
        "# 결과\n",
        "# 0번 레코드의 경우 자신인 0번 레코들 제외하면\n",
        "# 142번 레코드가 가장 유사도가 높고\n",
        "# 그 다음이 110 레코드이고, ...\n",
        "# 가장 유사도가 낮은 레코드는 155 레코드라는 의미\n",
        "\n",
        "# 이제  tags_sim_sorted_ind 객체는\n",
        "# 각 레코드의 장르 코사인 유사도가 가장 높은 순으로 정렬된\n",
        "# 타 레코드의 위치 인덱스 값을 가지고 있음\n",
        "# 이 위치 인덱스를 이용해서 언제든지 특정 레코드와 \n",
        "# 코사인 유도가 높은 다른 레코드 추출 가능"
      ],
      "id": "0c0e3b5f",
      "execution_count": 115,
      "outputs": [
        {
          "output_type": "stream",
          "name": "stdout",
          "text": [
            "[[  0 142 110 107  98 127 131 132  86 114  76  61 141  80  41  39  35  34\n",
            "   17 148  24  21  95 111  13 104 150  90  45  88  85  81  71 112  96  97\n",
            "   33 109  77  46  47  36  15  89 145 146 147  19  84  64  22  30  65  66\n",
            "   25  26 137  32  74  73  31  92 138  38 117   4   5  42 128 123 102 101\n",
            "  100  99  56 125  57 120  44 140  40  43 143 144  37 116  29  28   1   2\n",
            "    3   6   7   8   9  10  11  12 153  14  16 152  18  20  23 149  27 151\n",
            "   58  48 126  83 134 133  87 130 129  91  93  94 124 135 103 105 106 122\n",
            "  108 121 119 118 113  82 136  49 139  50  51  52  53  54  55 115  59  60\n",
            "   62  79  63  67  68  69  70  72  75 154  78 155]]\n"
          ]
        }
      ]
    },
    {
      "cell_type": "markdown",
      "metadata": {
        "id": "6a456530"
      },
      "source": [
        "### 특정 챔피언과 태그가 유사한  챔피언을 반환하는 함수 생성"
      ],
      "id": "6a456530"
    },
    {
      "cell_type": "code",
      "metadata": {
        "id": "4415cba9"
      },
      "source": [
        "# def find_sim_movie(df, sorted_ind, title_name, top_n=10):\n",
        "    \n",
        "#     # 인자로 입력된 movies_df DataFrame에서 'title' 컬럼이 입력된 title_name 값인 DataFrame추출\n",
        "#     title_movie = df[df['title'] == title_name]\n",
        "    \n",
        "#     # title_named을 가진 DataFrame의 index 객체를 ndarray로 반환하고 \n",
        "#     # sorted_ind 인자로 입력된 genre_sim_sorted_ind 객체에서 유사도 순으로 top_n 개의 index 추출\n",
        "#     title_index = title_movie.index.values\n",
        "#     similar_indexes = sorted_ind[title_index, :(top_n)]\n",
        "    \n",
        "#     # 추출된 top_n index들 출력. top_n index는 2차원 데이터 임. \n",
        "#     #dataframe에서 index로 사용하기 위해서 1차원 array로 변경\n",
        "#     print(similar_indexes)\n",
        "#     similar_indexes = similar_indexes.reshape(-1)\n",
        "    \n",
        "#     return df.iloc[similar_indexes]"
      ],
      "id": "4415cba9",
      "execution_count": 116,
      "outputs": []
    },
    {
      "cell_type": "code",
      "metadata": {
        "id": "e708f63e"
      },
      "source": [
        "# 태그 유사도에 따라 챔피언을 추천하는 함수\n",
        "\n",
        "def find_sim_id(lol_df, sorted_ind, title_name, top_n=10):\n",
        "    # titile 데이터 추출\n",
        "    title_id = lol_df[lol_df['id'] == title_name]\n",
        "    \n",
        "    # title_name에 해당되는 데이터프레임 index 객체를 배열로 반환하고\n",
        "    # 유사도 순으로 top_n개의 index 추출\n",
        "    title_index = title_id.index.values\n",
        "    similar_indexes = sorted_ind[title_index, :(top_n)]\n",
        "    \n",
        "    # 추출된 top_n index 출력 \n",
        "    # 2차원 데이터를 1차원 array로 변환\n",
        "    print(similar_indexes)\n",
        "    similar_indexes = similar_indexes.reshape(-1)\n",
        "    \n",
        "    # index에 해당되는 데이터프레임 반환\n",
        "    return lol_df.loc[similar_indexes]"
      ],
      "id": "e708f63e",
      "execution_count": 119,
      "outputs": []
    },
    {
      "cell_type": "code",
      "metadata": {
        "id": "B8DIByViRwxj"
      },
      "source": [
        ""
      ],
      "id": "B8DIByViRwxj",
      "execution_count": null,
      "outputs": []
    },
    {
      "cell_type": "code",
      "metadata": {
        "colab": {
          "base_uri": "https://localhost:8080/",
          "height": 376
        },
        "id": "563d2e66",
        "outputId": "3535df2a-9c6c-4821-9a5c-b18fe1f1973e"
      },
      "source": [
        "# 태그 'Assassin'와 챔피언별로 유사한 챔피언 10개 추천\n",
        "similar_id = find_sim_id(df, tags_sim_sorted_ind, 'Aatrox', 10)\n",
        "similar_id[['id', 'tags']]"
      ],
      "id": "563d2e66",
      "execution_count": 121,
      "outputs": [
        {
          "output_type": "stream",
          "name": "stdout",
          "text": [
            "[[  0 142 110 107  98 127 131 132  86 114]]\n"
          ]
        },
        {
          "output_type": "execute_result",
          "data": {
            "text/html": [
              "<div>\n",
              "<style scoped>\n",
              "    .dataframe tbody tr th:only-of-type {\n",
              "        vertical-align: middle;\n",
              "    }\n",
              "\n",
              "    .dataframe tbody tr th {\n",
              "        vertical-align: top;\n",
              "    }\n",
              "\n",
              "    .dataframe thead th {\n",
              "        text-align: right;\n",
              "    }\n",
              "</style>\n",
              "<table border=\"1\" class=\"dataframe\">\n",
              "  <thead>\n",
              "    <tr style=\"text-align: right;\">\n",
              "      <th></th>\n",
              "      <th>id</th>\n",
              "      <th>tags</th>\n",
              "    </tr>\n",
              "  </thead>\n",
              "  <tbody>\n",
              "    <tr>\n",
              "      <th>0</th>\n",
              "      <td>Aatrox</td>\n",
              "      <td>[Fighter, Tank]</td>\n",
              "    </tr>\n",
              "    <tr>\n",
              "      <th>142</th>\n",
              "      <td>Warwick</td>\n",
              "      <td>[Fighter, Tank]</td>\n",
              "    </tr>\n",
              "    <tr>\n",
              "      <th>110</th>\n",
              "      <td>Shyvana</td>\n",
              "      <td>[Fighter, Tank]</td>\n",
              "    </tr>\n",
              "    <tr>\n",
              "      <th>107</th>\n",
              "      <td>Sett</td>\n",
              "      <td>[Fighter, Tank]</td>\n",
              "    </tr>\n",
              "    <tr>\n",
              "      <th>98</th>\n",
              "      <td>Renekton</td>\n",
              "      <td>[Fighter, Tank]</td>\n",
              "    </tr>\n",
              "    <tr>\n",
              "      <th>127</th>\n",
              "      <td>Trundle</td>\n",
              "      <td>[Fighter, Tank]</td>\n",
              "    </tr>\n",
              "    <tr>\n",
              "      <th>131</th>\n",
              "      <td>Udyr</td>\n",
              "      <td>[Fighter, Tank]</td>\n",
              "    </tr>\n",
              "    <tr>\n",
              "      <th>132</th>\n",
              "      <td>Urgot</td>\n",
              "      <td>[Fighter, Tank]</td>\n",
              "    </tr>\n",
              "    <tr>\n",
              "      <th>86</th>\n",
              "      <td>Olaf</td>\n",
              "      <td>[Fighter, Tank]</td>\n",
              "    </tr>\n",
              "    <tr>\n",
              "      <th>114</th>\n",
              "      <td>Skarner</td>\n",
              "      <td>[Fighter, Tank]</td>\n",
              "    </tr>\n",
              "  </tbody>\n",
              "</table>\n",
              "</div>"
            ],
            "text/plain": [
              "           id             tags\n",
              "0      Aatrox  [Fighter, Tank]\n",
              "142   Warwick  [Fighter, Tank]\n",
              "110   Shyvana  [Fighter, Tank]\n",
              "107      Sett  [Fighter, Tank]\n",
              "98   Renekton  [Fighter, Tank]\n",
              "127   Trundle  [Fighter, Tank]\n",
              "131      Udyr  [Fighter, Tank]\n",
              "132     Urgot  [Fighter, Tank]\n",
              "86       Olaf  [Fighter, Tank]\n",
              "114   Skarner  [Fighter, Tank]"
            ]
          },
          "metadata": {},
          "execution_count": 121
        }
      ]
    },
    {
      "cell_type": "code",
      "metadata": {
        "colab": {
          "base_uri": "https://localhost:8080/",
          "height": 419
        },
        "id": "FNeSQtsvLrWD",
        "outputId": "7721ab03-0f7a-4e23-ec22-0c1db2128fc6"
      },
      "source": [
        "df"
      ],
      "id": "FNeSQtsvLrWD",
      "execution_count": 39,
      "outputs": [
        {
          "output_type": "execute_result",
          "data": {
            "text/html": [
              "<div>\n",
              "<style scoped>\n",
              "    .dataframe tbody tr th:only-of-type {\n",
              "        vertical-align: middle;\n",
              "    }\n",
              "\n",
              "    .dataframe tbody tr th {\n",
              "        vertical-align: top;\n",
              "    }\n",
              "\n",
              "    .dataframe thead th {\n",
              "        text-align: right;\n",
              "    }\n",
              "</style>\n",
              "<table border=\"1\" class=\"dataframe\">\n",
              "  <thead>\n",
              "    <tr style=\"text-align: right;\">\n",
              "      <th></th>\n",
              "      <th>id</th>\n",
              "      <th>tags</th>\n",
              "      <th>new_tags</th>\n",
              "    </tr>\n",
              "  </thead>\n",
              "  <tbody>\n",
              "    <tr>\n",
              "      <th>0</th>\n",
              "      <td>Aatrox</td>\n",
              "      <td>['Fighter', 'Tank']</td>\n",
              "      <td>['Fighter', 'Tank']</td>\n",
              "    </tr>\n",
              "    <tr>\n",
              "      <th>1</th>\n",
              "      <td>Ahri</td>\n",
              "      <td>['Mage', 'Assassin']</td>\n",
              "      <td>['Mage', 'Assassin']</td>\n",
              "    </tr>\n",
              "    <tr>\n",
              "      <th>2</th>\n",
              "      <td>Akali</td>\n",
              "      <td>['Assassin']</td>\n",
              "      <td>['Assassin']</td>\n",
              "    </tr>\n",
              "    <tr>\n",
              "      <th>3</th>\n",
              "      <td>Akshan</td>\n",
              "      <td>['Marksman', 'Assassin']</td>\n",
              "      <td>['Marksman', 'Assassin']</td>\n",
              "    </tr>\n",
              "    <tr>\n",
              "      <th>4</th>\n",
              "      <td>Alistar</td>\n",
              "      <td>['Tank', 'Support']</td>\n",
              "      <td>['Tank', 'Support']</td>\n",
              "    </tr>\n",
              "    <tr>\n",
              "      <th>...</th>\n",
              "      <td>...</td>\n",
              "      <td>...</td>\n",
              "      <td>...</td>\n",
              "    </tr>\n",
              "    <tr>\n",
              "      <th>151</th>\n",
              "      <td>Zed</td>\n",
              "      <td>['Assassin']</td>\n",
              "      <td>['Assassin']</td>\n",
              "    </tr>\n",
              "    <tr>\n",
              "      <th>152</th>\n",
              "      <td>Ziggs</td>\n",
              "      <td>['Mage']</td>\n",
              "      <td>['Mage']</td>\n",
              "    </tr>\n",
              "    <tr>\n",
              "      <th>153</th>\n",
              "      <td>Zilean</td>\n",
              "      <td>['Support', 'Mage']</td>\n",
              "      <td>['Support', 'Mage']</td>\n",
              "    </tr>\n",
              "    <tr>\n",
              "      <th>154</th>\n",
              "      <td>Zoe</td>\n",
              "      <td>['Mage', 'Support']</td>\n",
              "      <td>['Mage', 'Support']</td>\n",
              "    </tr>\n",
              "    <tr>\n",
              "      <th>155</th>\n",
              "      <td>Zyra</td>\n",
              "      <td>['Mage', 'Support']</td>\n",
              "      <td>['Mage', 'Support']</td>\n",
              "    </tr>\n",
              "  </tbody>\n",
              "</table>\n",
              "<p>156 rows × 3 columns</p>\n",
              "</div>"
            ],
            "text/plain": [
              "          id                      tags                  new_tags\n",
              "0     Aatrox       ['Fighter', 'Tank']       ['Fighter', 'Tank']\n",
              "1       Ahri      ['Mage', 'Assassin']      ['Mage', 'Assassin']\n",
              "2      Akali              ['Assassin']              ['Assassin']\n",
              "3     Akshan  ['Marksman', 'Assassin']  ['Marksman', 'Assassin']\n",
              "4    Alistar       ['Tank', 'Support']       ['Tank', 'Support']\n",
              "..       ...                       ...                       ...\n",
              "151      Zed              ['Assassin']              ['Assassin']\n",
              "152    Ziggs                  ['Mage']                  ['Mage']\n",
              "153   Zilean       ['Support', 'Mage']       ['Support', 'Mage']\n",
              "154      Zoe       ['Mage', 'Support']       ['Mage', 'Support']\n",
              "155     Zyra       ['Mage', 'Support']       ['Mage', 'Support']\n",
              "\n",
              "[156 rows x 3 columns]"
            ]
          },
          "metadata": {},
          "execution_count": 39
        }
      ]
    },
    {
      "cell_type": "markdown",
      "metadata": {
        "id": "9ec3b64e"
      },
      "source": [
        "--> 함수가 오류난거같음"
      ],
      "id": "9ec3b64e"
    },
    {
      "cell_type": "code",
      "metadata": {
        "id": "b3c538ed",
        "outputId": "11ba31e7-4bbb-4584-86e9-7d1f171a9d7e"
      },
      "source": [
        "df[['name', 'title', 'attack']].sort_values('attack', ascending=False)[:10]"
      ],
      "id": "b3c538ed",
      "execution_count": null,
      "outputs": [
        {
          "data": {
            "text/html": [
              "<div>\n",
              "<style scoped>\n",
              "    .dataframe tbody tr th:only-of-type {\n",
              "        vertical-align: middle;\n",
              "    }\n",
              "\n",
              "    .dataframe tbody tr th {\n",
              "        vertical-align: top;\n",
              "    }\n",
              "\n",
              "    .dataframe thead th {\n",
              "        text-align: right;\n",
              "    }\n",
              "</style>\n",
              "<table border=\"1\" class=\"dataframe\">\n",
              "  <thead>\n",
              "    <tr style=\"text-align: right;\">\n",
              "      <th></th>\n",
              "      <th>name</th>\n",
              "      <th>title</th>\n",
              "      <th>attack</th>\n",
              "    </tr>\n",
              "  </thead>\n",
              "  <tbody>\n",
              "    <tr>\n",
              "      <th>143</th>\n",
              "      <td>Xayah</td>\n",
              "      <td>the Rebel</td>\n",
              "      <td>10</td>\n",
              "    </tr>\n",
              "    <tr>\n",
              "      <th>48</th>\n",
              "      <td>Jhin</td>\n",
              "      <td>the Virtuoso</td>\n",
              "      <td>10</td>\n",
              "    </tr>\n",
              "    <tr>\n",
              "      <th>30</th>\n",
              "      <td>Fiora</td>\n",
              "      <td>the Grand Duelist</td>\n",
              "      <td>10</td>\n",
              "    </tr>\n",
              "    <tr>\n",
              "      <th>74</th>\n",
              "      <td>Master Yi</td>\n",
              "      <td>the Wuju Bladesman</td>\n",
              "      <td>10</td>\n",
              "    </tr>\n",
              "    <tr>\n",
              "      <th>57</th>\n",
              "      <td>Kayn</td>\n",
              "      <td>the Shadow Reaper</td>\n",
              "      <td>10</td>\n",
              "    </tr>\n",
              "    <tr>\n",
              "      <th>134</th>\n",
              "      <td>Vayne</td>\n",
              "      <td>the Night Hunter</td>\n",
              "      <td>10</td>\n",
              "    </tr>\n",
              "    <tr>\n",
              "      <th>128</th>\n",
              "      <td>Tryndamere</td>\n",
              "      <td>the Barbarian King</td>\n",
              "      <td>10</td>\n",
              "    </tr>\n",
              "    <tr>\n",
              "      <th>86</th>\n",
              "      <td>Olaf</td>\n",
              "      <td>the Berserker</td>\n",
              "      <td>9</td>\n",
              "    </tr>\n",
              "    <tr>\n",
              "      <th>23</th>\n",
              "      <td>Draven</td>\n",
              "      <td>the Glorious Executioner</td>\n",
              "      <td>9</td>\n",
              "    </tr>\n",
              "    <tr>\n",
              "      <th>122</th>\n",
              "      <td>Talon</td>\n",
              "      <td>the Blade's Shadow</td>\n",
              "      <td>9</td>\n",
              "    </tr>\n",
              "  </tbody>\n",
              "</table>\n",
              "</div>"
            ],
            "text/plain": [
              "           name                     title  attack\n",
              "143       Xayah                 the Rebel      10\n",
              "48         Jhin              the Virtuoso      10\n",
              "30        Fiora         the Grand Duelist      10\n",
              "74    Master Yi        the Wuju Bladesman      10\n",
              "57         Kayn         the Shadow Reaper      10\n",
              "134       Vayne          the Night Hunter      10\n",
              "128  Tryndamere        the Barbarian King      10\n",
              "86         Olaf             the Berserker       9\n",
              "23       Draven  the Glorious Executioner       9\n",
              "122       Talon        the Blade's Shadow       9"
            ]
          },
          "execution_count": 18,
          "metadata": {},
          "output_type": "execute_result"
        }
      ]
    },
    {
      "cell_type": "markdown",
      "metadata": {
        "id": "cc5804ff"
      },
      "source": [
        "- 컬럼설명 부분이 명확하지 않다\n",
        "- 태그가 유사한 챔피언들 함수 생성 함수가 오류난거 같음\n",
        "- 수업시간에 배웠던 가중치를 어디에 줘야할지 모르겠다"
      ],
      "id": "cc5804ff"
    },
    {
      "cell_type": "code",
      "metadata": {
        "id": "f15d1d48"
      },
      "source": [
        ""
      ],
      "id": "f15d1d48",
      "execution_count": null,
      "outputs": []
    },
    {
      "cell_type": "code",
      "metadata": {
        "id": "198161d7"
      },
      "source": [
        ""
      ],
      "id": "198161d7",
      "execution_count": null,
      "outputs": []
    }
  ]
}