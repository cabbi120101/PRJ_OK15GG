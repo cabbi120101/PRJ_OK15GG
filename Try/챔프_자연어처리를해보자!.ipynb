{
  "nbformat": 4,
  "nbformat_minor": 0,
  "metadata": {
    "colab": {
      "name": "자연어처리를해보자!.ipynb",
      "provenance": [],
      "mount_file_id": "1mOe4qp_EoV2btgqNvRu-9vjamCvK4st8",
      "authorship_tag": "ABX9TyO074sa4XD+23xT4T/zHmy0",
      "include_colab_link": true
    },
    "kernelspec": {
      "name": "python3",
      "display_name": "Python 3"
    },
    "language_info": {
      "name": "python"
    }
  },
  "cells": [
    {
      "cell_type": "markdown",
      "metadata": {
        "id": "view-in-github",
        "colab_type": "text"
      },
      "source": [
        "<a href=\"https://colab.research.google.com/github/cabbi120101/final_multi/blob/main/Try/%EC%B1%94%ED%94%84_%EC%9E%90%EC%97%B0%EC%96%B4%EC%B2%98%EB%A6%AC%EB%A5%BC%ED%95%B4%EB%B3%B4%EC%9E%90!.ipynb\" target=\"_parent\"><img src=\"https://colab.research.google.com/assets/colab-badge.svg\" alt=\"Open In Colab\"/></a>"
      ]
    },
    {
      "cell_type": "code",
      "metadata": {
        "id": "kH1IM6alWarB"
      },
      "source": [
        "import pandas as pd\n",
        "import numpy as np\n",
        "import warnings; warnings.filterwarnings('ignore')"
      ],
      "execution_count": 1,
      "outputs": []
    },
    {
      "cell_type": "code",
      "metadata": {
        "colab": {
          "base_uri": "https://localhost:8080/",
          "height": 666
        },
        "id": "Ys40rbT5WmMN",
        "outputId": "2dc457a9-3165-420a-9ff7-375fd42d4532"
      },
      "source": [
        "champ_info = pd.read_csv(\"/content/drive/MyDrive/Colab Notebooks/동욱코드모음/마지막프로젝트/3주차/시도/champ_addSk.csv\")\n",
        "champ_info.head()"
      ],
      "execution_count": 2,
      "outputs": [
        {
          "output_type": "execute_result",
          "data": {
            "text/html": [
              "<div>\n",
              "<style scoped>\n",
              "    .dataframe tbody tr th:only-of-type {\n",
              "        vertical-align: middle;\n",
              "    }\n",
              "\n",
              "    .dataframe tbody tr th {\n",
              "        vertical-align: top;\n",
              "    }\n",
              "\n",
              "    .dataframe thead th {\n",
              "        text-align: right;\n",
              "    }\n",
              "</style>\n",
              "<table border=\"1\" class=\"dataframe\">\n",
              "  <thead>\n",
              "    <tr style=\"text-align: right;\">\n",
              "      <th></th>\n",
              "      <th>Unnamed: 0</th>\n",
              "      <th>version</th>\n",
              "      <th>id</th>\n",
              "      <th>key</th>\n",
              "      <th>name</th>\n",
              "      <th>title</th>\n",
              "      <th>blurb</th>\n",
              "      <th>info</th>\n",
              "      <th>image</th>\n",
              "      <th>tags</th>\n",
              "      <th>partype</th>\n",
              "      <th>stats</th>\n",
              "      <th>attack</th>\n",
              "      <th>defense</th>\n",
              "      <th>magic</th>\n",
              "      <th>difficulty</th>\n",
              "      <th>hp</th>\n",
              "      <th>hpperlevel</th>\n",
              "      <th>mp</th>\n",
              "      <th>mpperlevel</th>\n",
              "      <th>movespeed</th>\n",
              "      <th>armor</th>\n",
              "      <th>armorperlevel</th>\n",
              "      <th>spellblock</th>\n",
              "      <th>spellblockperlevel</th>\n",
              "      <th>attackrange</th>\n",
              "      <th>hpregen</th>\n",
              "      <th>hpregenperlevel</th>\n",
              "      <th>mpregen</th>\n",
              "      <th>mpregenperlevel</th>\n",
              "      <th>crit</th>\n",
              "      <th>critperlevel</th>\n",
              "      <th>attackdamage</th>\n",
              "      <th>attackdamageperlevel</th>\n",
              "      <th>attackspeedperlevel</th>\n",
              "      <th>attackspeed</th>\n",
              "      <th>skins</th>\n",
              "      <th>lore</th>\n",
              "      <th>allytips</th>\n",
              "      <th>enemytips</th>\n",
              "      <th>spells</th>\n",
              "      <th>passive</th>\n",
              "      <th>recommended</th>\n",
              "      <th>skillQ</th>\n",
              "      <th>skillW</th>\n",
              "      <th>skillE</th>\n",
              "      <th>skillR</th>\n",
              "    </tr>\n",
              "  </thead>\n",
              "  <tbody>\n",
              "    <tr>\n",
              "      <th>0</th>\n",
              "      <td>0</td>\n",
              "      <td>11.17.1</td>\n",
              "      <td>Aatrox</td>\n",
              "      <td>266</td>\n",
              "      <td>Aatrox</td>\n",
              "      <td>the Darkin Blade</td>\n",
              "      <td>Once honored defenders of Shurima against the ...</td>\n",
              "      <td>{'attack': 8, 'defense': 4, 'magic': 3, 'diffi...</td>\n",
              "      <td>{'full': 'Aatrox.png', 'sprite': 'champion0.pn...</td>\n",
              "      <td>['Fighter', 'Tank']</td>\n",
              "      <td>Blood Well</td>\n",
              "      <td>{'hp': 580, 'hpperlevel': 90, 'mp': 0, 'mpperl...</td>\n",
              "      <td>8</td>\n",
              "      <td>4</td>\n",
              "      <td>3</td>\n",
              "      <td>4</td>\n",
              "      <td>580.0</td>\n",
              "      <td>90</td>\n",
              "      <td>0.0</td>\n",
              "      <td>0.0</td>\n",
              "      <td>345</td>\n",
              "      <td>38</td>\n",
              "      <td>3.25</td>\n",
              "      <td>32.0</td>\n",
              "      <td>1.25</td>\n",
              "      <td>175</td>\n",
              "      <td>3.00</td>\n",
              "      <td>1.00</td>\n",
              "      <td>0.000</td>\n",
              "      <td>0.0</td>\n",
              "      <td>0</td>\n",
              "      <td>0</td>\n",
              "      <td>60.0</td>\n",
              "      <td>5.00</td>\n",
              "      <td>2.500</td>\n",
              "      <td>0.651</td>\n",
              "      <td>[{'id': '266000', 'num': 0, 'name': 'default',...</td>\n",
              "      <td>Once honored defenders of Shurima against the ...</td>\n",
              "      <td>['Use Umbral Dash while casting The Darkin Bla...</td>\n",
              "      <td>[\"Aatrox's attacks are very telegraphed, so us...</td>\n",
              "      <td>[{'id': 'AatroxQ', 'name': 'The Darkin Blade',...</td>\n",
              "      <td>{'name': 'Deathbringer Stance', 'description':...</td>\n",
              "      <td>[]</td>\n",
              "      <td>{'id': 'AatroxQ', 'name': 'The Darkin Blade', ...</td>\n",
              "      <td>{'id': 'AatroxW', 'name': 'Infernal Chains', '...</td>\n",
              "      <td>{'id': 'AatroxE', 'name': 'Umbral Dash', 'desc...</td>\n",
              "      <td>{'id': 'AatroxR', 'name': 'World Ender', 'desc...</td>\n",
              "    </tr>\n",
              "    <tr>\n",
              "      <th>1</th>\n",
              "      <td>1</td>\n",
              "      <td>11.17.1</td>\n",
              "      <td>Ahri</td>\n",
              "      <td>103</td>\n",
              "      <td>Ahri</td>\n",
              "      <td>the Nine-Tailed Fox</td>\n",
              "      <td>Innately connected to the latent power of Rune...</td>\n",
              "      <td>{'attack': 3, 'defense': 4, 'magic': 8, 'diffi...</td>\n",
              "      <td>{'full': 'Ahri.png', 'sprite': 'champion0.png'...</td>\n",
              "      <td>['Mage', 'Assassin']</td>\n",
              "      <td>Mana</td>\n",
              "      <td>{'hp': 526, 'hpperlevel': 92, 'mp': 418, 'mppe...</td>\n",
              "      <td>3</td>\n",
              "      <td>4</td>\n",
              "      <td>8</td>\n",
              "      <td>5</td>\n",
              "      <td>526.0</td>\n",
              "      <td>92</td>\n",
              "      <td>418.0</td>\n",
              "      <td>25.0</td>\n",
              "      <td>330</td>\n",
              "      <td>21</td>\n",
              "      <td>3.50</td>\n",
              "      <td>30.0</td>\n",
              "      <td>0.50</td>\n",
              "      <td>550</td>\n",
              "      <td>5.50</td>\n",
              "      <td>0.60</td>\n",
              "      <td>8.000</td>\n",
              "      <td>0.8</td>\n",
              "      <td>0</td>\n",
              "      <td>0</td>\n",
              "      <td>53.0</td>\n",
              "      <td>3.00</td>\n",
              "      <td>2.000</td>\n",
              "      <td>0.668</td>\n",
              "      <td>[{'id': '103000', 'num': 0, 'name': 'default',...</td>\n",
              "      <td>Innately connected to the latent power of Rune...</td>\n",
              "      <td>['Use Charm to set up your combos, it will mak...</td>\n",
              "      <td>[\"Ahri's survivability is dramatically reduced...</td>\n",
              "      <td>[{'id': 'AhriOrbofDeception', 'name': 'Orb of ...</td>\n",
              "      <td>{'name': 'Essence Theft', 'description': 'When...</td>\n",
              "      <td>[]</td>\n",
              "      <td>{'id': 'AhriOrbofDeception', 'name': 'Orb of D...</td>\n",
              "      <td>{'id': 'AhriFoxFire', 'name': 'Fox-Fire', 'des...</td>\n",
              "      <td>{'id': 'AhriSeduce', 'name': 'Charm', 'descrip...</td>\n",
              "      <td>{'id': 'AhriTumble', 'name': 'Spirit Rush', 'd...</td>\n",
              "    </tr>\n",
              "    <tr>\n",
              "      <th>2</th>\n",
              "      <td>2</td>\n",
              "      <td>11.17.1</td>\n",
              "      <td>Akali</td>\n",
              "      <td>84</td>\n",
              "      <td>Akali</td>\n",
              "      <td>the Rogue Assassin</td>\n",
              "      <td>Abandoning the Kinkou Order and her title of t...</td>\n",
              "      <td>{'attack': 5, 'defense': 3, 'magic': 8, 'diffi...</td>\n",
              "      <td>{'full': 'Akali.png', 'sprite': 'champion0.png...</td>\n",
              "      <td>['Assassin']</td>\n",
              "      <td>Energy</td>\n",
              "      <td>{'hp': 500, 'hpperlevel': 105, 'mp': 200, 'mpp...</td>\n",
              "      <td>5</td>\n",
              "      <td>3</td>\n",
              "      <td>8</td>\n",
              "      <td>7</td>\n",
              "      <td>500.0</td>\n",
              "      <td>105</td>\n",
              "      <td>200.0</td>\n",
              "      <td>0.0</td>\n",
              "      <td>345</td>\n",
              "      <td>23</td>\n",
              "      <td>3.50</td>\n",
              "      <td>37.0</td>\n",
              "      <td>1.25</td>\n",
              "      <td>125</td>\n",
              "      <td>8.00</td>\n",
              "      <td>0.50</td>\n",
              "      <td>50.000</td>\n",
              "      <td>0.0</td>\n",
              "      <td>0</td>\n",
              "      <td>0</td>\n",
              "      <td>62.0</td>\n",
              "      <td>3.30</td>\n",
              "      <td>3.200</td>\n",
              "      <td>0.625</td>\n",
              "      <td>[{'id': '84000', 'num': 0, 'name': 'default', ...</td>\n",
              "      <td>Abandoning the Kinkou Order and her title of t...</td>\n",
              "      <td>['Akali excels at killing fragile champions. L...</td>\n",
              "      <td>['Akali can still be hit by area effect spells...</td>\n",
              "      <td>[{'id': 'AkaliQ', 'name': 'Five Point Strike',...</td>\n",
              "      <td>{'name': \"Assassin's Mark\", 'description': \"De...</td>\n",
              "      <td>[]</td>\n",
              "      <td>{'id': 'AkaliQ', 'name': 'Five Point Strike', ...</td>\n",
              "      <td>{'id': 'AkaliW', 'name': 'Twilight Shroud', 'd...</td>\n",
              "      <td>{'id': 'AkaliE', 'name': 'Shuriken Flip', 'des...</td>\n",
              "      <td>{'id': 'AkaliR', 'name': 'Perfect Execution', ...</td>\n",
              "    </tr>\n",
              "    <tr>\n",
              "      <th>3</th>\n",
              "      <td>3</td>\n",
              "      <td>11.17.1</td>\n",
              "      <td>Akshan</td>\n",
              "      <td>166</td>\n",
              "      <td>Akshan</td>\n",
              "      <td>the Rogue Sentinel</td>\n",
              "      <td>Raising an eyebrow in the face of danger, Aksh...</td>\n",
              "      <td>{'attack': 0, 'defense': 0, 'magic': 0, 'diffi...</td>\n",
              "      <td>{'full': 'Akshan.png', 'sprite': 'champion0.pn...</td>\n",
              "      <td>['Marksman', 'Assassin']</td>\n",
              "      <td>Mana</td>\n",
              "      <td>{'hp': 560, 'hpperlevel': 90, 'mp': 350, 'mppe...</td>\n",
              "      <td>0</td>\n",
              "      <td>0</td>\n",
              "      <td>0</td>\n",
              "      <td>0</td>\n",
              "      <td>560.0</td>\n",
              "      <td>90</td>\n",
              "      <td>350.0</td>\n",
              "      <td>40.0</td>\n",
              "      <td>330</td>\n",
              "      <td>26</td>\n",
              "      <td>3.00</td>\n",
              "      <td>30.0</td>\n",
              "      <td>0.50</td>\n",
              "      <td>500</td>\n",
              "      <td>3.75</td>\n",
              "      <td>0.65</td>\n",
              "      <td>8.175</td>\n",
              "      <td>0.7</td>\n",
              "      <td>0</td>\n",
              "      <td>0</td>\n",
              "      <td>52.0</td>\n",
              "      <td>3.50</td>\n",
              "      <td>4.000</td>\n",
              "      <td>0.638</td>\n",
              "      <td>[{'id': '166000', 'num': 0, 'name': 'default',...</td>\n",
              "      <td>Raising an eyebrow in the face of danger, Aksh...</td>\n",
              "      <td>[\"Raising an eyebrow in the face of danger, Ak...</td>\n",
              "      <td>[]</td>\n",
              "      <td>[{'id': 'AkshanQ', 'name': 'Avengerang', 'desc...</td>\n",
              "      <td>{'name': 'Dirty Fighting', 'description': \"Eve...</td>\n",
              "      <td>[]</td>\n",
              "      <td>{'id': 'AkshanQ', 'name': 'Avengerang', 'descr...</td>\n",
              "      <td>{'id': 'AkshanW', 'name': 'Going Rogue', 'desc...</td>\n",
              "      <td>{'id': 'AkshanE', 'name': 'Heroic Swing', 'des...</td>\n",
              "      <td>{'id': 'AkshanR', 'name': 'Comeuppance', 'desc...</td>\n",
              "    </tr>\n",
              "    <tr>\n",
              "      <th>4</th>\n",
              "      <td>4</td>\n",
              "      <td>11.17.1</td>\n",
              "      <td>Alistar</td>\n",
              "      <td>12</td>\n",
              "      <td>Alistar</td>\n",
              "      <td>the Minotaur</td>\n",
              "      <td>Always a mighty warrior with a fearsome reputa...</td>\n",
              "      <td>{'attack': 6, 'defense': 9, 'magic': 5, 'diffi...</td>\n",
              "      <td>{'full': 'Alistar.png', 'sprite': 'champion0.p...</td>\n",
              "      <td>['Tank', 'Support']</td>\n",
              "      <td>Mana</td>\n",
              "      <td>{'hp': 600, 'hpperlevel': 106, 'mp': 350, 'mpp...</td>\n",
              "      <td>6</td>\n",
              "      <td>9</td>\n",
              "      <td>5</td>\n",
              "      <td>7</td>\n",
              "      <td>600.0</td>\n",
              "      <td>106</td>\n",
              "      <td>350.0</td>\n",
              "      <td>40.0</td>\n",
              "      <td>330</td>\n",
              "      <td>44</td>\n",
              "      <td>3.50</td>\n",
              "      <td>32.0</td>\n",
              "      <td>1.25</td>\n",
              "      <td>125</td>\n",
              "      <td>8.50</td>\n",
              "      <td>0.85</td>\n",
              "      <td>8.500</td>\n",
              "      <td>0.8</td>\n",
              "      <td>0</td>\n",
              "      <td>0</td>\n",
              "      <td>62.0</td>\n",
              "      <td>3.75</td>\n",
              "      <td>2.125</td>\n",
              "      <td>0.625</td>\n",
              "      <td>[{'id': '12000', 'num': 0, 'name': 'default', ...</td>\n",
              "      <td>Always a mighty warrior with a fearsome reputa...</td>\n",
              "      <td>['Using Pulverize can allow you to establish b...</td>\n",
              "      <td>['Alistar is very disruptive but very tough - ...</td>\n",
              "      <td>[{'id': 'Pulverize', 'name': 'Pulverize', 'des...</td>\n",
              "      <td>{'name': 'Triumphant Roar', 'description': 'Al...</td>\n",
              "      <td>[]</td>\n",
              "      <td>{'id': 'Pulverize', 'name': 'Pulverize', 'desc...</td>\n",
              "      <td>{'id': 'Headbutt', 'name': 'Headbutt', 'descri...</td>\n",
              "      <td>{'id': 'AlistarE', 'name': 'Trample', 'descrip...</td>\n",
              "      <td>{'id': 'FerociousHowl', 'name': 'Unbreakable W...</td>\n",
              "    </tr>\n",
              "  </tbody>\n",
              "</table>\n",
              "</div>"
            ],
            "text/plain": [
              "   Unnamed: 0  ...                                             skillR\n",
              "0           0  ...  {'id': 'AatroxR', 'name': 'World Ender', 'desc...\n",
              "1           1  ...  {'id': 'AhriTumble', 'name': 'Spirit Rush', 'd...\n",
              "2           2  ...  {'id': 'AkaliR', 'name': 'Perfect Execution', ...\n",
              "3           3  ...  {'id': 'AkshanR', 'name': 'Comeuppance', 'desc...\n",
              "4           4  ...  {'id': 'FerociousHowl', 'name': 'Unbreakable W...\n",
              "\n",
              "[5 rows x 47 columns]"
            ]
          },
          "metadata": {},
          "execution_count": 2
        }
      ]
    },
    {
      "cell_type": "code",
      "metadata": {
        "colab": {
          "base_uri": "https://localhost:8080/",
          "height": 140
        },
        "id": "VO6E0_KOWopW",
        "outputId": "98c37f6e-51ff-4bba-e0ec-93b28a6433a1"
      },
      "source": [
        "champ_info['skillQ'][0]"
      ],
      "execution_count": 3,
      "outputs": [
        {
          "output_type": "execute_result",
          "data": {
            "application/vnd.google.colaboratory.intrinsic+json": {
              "type": "string"
            },
            "text/plain": [
              "\"{'id': 'AatroxQ', 'name': 'The Darkin Blade', 'description': 'Aatrox slams his greatsword down, dealing physical damage. He can swing three times, each with a different area of effect.', 'tooltip': 'Aatrox slams his greatsword, dealing {{ qdamage }} physical damage. If they are hit on the edge, they are briefly Knocked Up and they take {{ qedgedamage }} instead. This Ability can be Recast twice, each one changing shape and dealing 25% more damage than the previous one.', 'leveltip': {'label': ['Cooldown', 'Damage', 'Total AD Ratio'], 'effect': ['{{ cooldown }} -> {{ cooldownNL }}', '{{ qbasedamage }} -> {{ qbasedamageNL }}', '{{ qtotaladratio*100.000000 }}% -> {{ qtotaladrationl*100.000000 }}%']}, 'maxrank': 5, 'cooldown': [14, 12, 10, 8, 6], 'cooldownBurn': '14/12/10/8/6', 'cost': [0, 0, 0, 0, 0], 'costBurn': '0', 'datavalues': {}, 'effect': [None, [0, 0, 0, 0, 0], [0, 0, 0, 0, 0], [0, 0, 0, 0, 0], [0, 0, 0, 0, 0], [0, 0, 0, 0, 0], [0, 0, 0, 0, 0], [0, 0, 0, 0, 0], [0, 0, 0, 0, 0], [0, 0, 0, 0, 0], [0, 0, 0, 0, 0]], 'effectBurn': [None, '0', '0', '0', '0', '0', '0', '0', '0', '0', '0'], 'vars': [], 'costType': 'No Cost', 'maxammo': '-1', 'range': [25000, 25000, 25000, 25000, 25000], 'rangeBurn': '25000', 'image': {'full': 'AatroxQ.png', 'sprite': 'spell0.png', 'group': 'spell', 'x': 240, 'y': 48, 'w': 48, 'h': 48}, 'resource': 'No Cost'}\""
            ]
          },
          "metadata": {},
          "execution_count": 3
        }
      ]
    },
    {
      "cell_type": "code",
      "metadata": {
        "id": "wifml1CyW1bF"
      },
      "source": [
        "from ast import literal_eval\n",
        "\n",
        "champ_info['skillQ'] = champ_info['skillQ'].apply(literal_eval)\n",
        "champ_info['skillW'] = champ_info['skillW'].apply(literal_eval)\n",
        "champ_info['skillE'] = champ_info['skillE'].apply(literal_eval)\n",
        "champ_info['skillR'] = champ_info['skillR'].apply(literal_eval)"
      ],
      "execution_count": 4,
      "outputs": []
    },
    {
      "cell_type": "code",
      "metadata": {
        "colab": {
          "base_uri": "https://localhost:8080/",
          "height": 37
        },
        "id": "lcnspk0TW1YM",
        "outputId": "b79559a2-58ad-4b14-ff5f-c6ff8edf1270"
      },
      "source": [
        "champ_info['skillQ'][0]['description']"
      ],
      "execution_count": 5,
      "outputs": [
        {
          "output_type": "execute_result",
          "data": {
            "application/vnd.google.colaboratory.intrinsic+json": {
              "type": "string"
            },
            "text/plain": [
              "'Aatrox slams his greatsword down, dealing physical damage. He can swing three times, each with a different area of effect.'"
            ]
          },
          "metadata": {},
          "execution_count": 5
        }
      ]
    },
    {
      "cell_type": "code",
      "metadata": {
        "id": "R4oPiaslXDbJ"
      },
      "source": [
        "champ_q = []\n",
        "for i in range(len(champ_info)):\n",
        "    champ_q.append(champ_info['skillQ'][i]['description'])"
      ],
      "execution_count": 6,
      "outputs": []
    },
    {
      "cell_type": "code",
      "metadata": {
        "id": "_2yZL1TpW1U-"
      },
      "source": [
        "champ_w = []\n",
        "for i in range(len(champ_info)):\n",
        "    champ_w.append(champ_info['skillW'][i]['description'])"
      ],
      "execution_count": 7,
      "outputs": []
    },
    {
      "cell_type": "code",
      "metadata": {
        "id": "lvc5ONgyW1P3"
      },
      "source": [
        "champ_e = []\n",
        "for i in range(len(champ_info)):\n",
        "    champ_e.append(champ_info['skillE'][i]['description'])"
      ],
      "execution_count": 8,
      "outputs": []
    },
    {
      "cell_type": "code",
      "metadata": {
        "id": "3QHqN8JxW1Mj"
      },
      "source": [
        "champ_r = []\n",
        "for i in range(len(champ_info)):\n",
        "    champ_r.append(champ_info['skillR'][i]['description'])"
      ],
      "execution_count": 9,
      "outputs": []
    },
    {
      "cell_type": "code",
      "metadata": {
        "id": "j1lyP0hxW07E"
      },
      "source": [
        "champ_summ = champ_info[['id','key','tags']]"
      ],
      "execution_count": 10,
      "outputs": []
    },
    {
      "cell_type": "code",
      "metadata": {
        "id": "MtKoTIfFW0Or"
      },
      "source": [
        "champ_summ['champ_q'] = champ_q\n",
        "champ_summ['champ_w'] = champ_w\n",
        "champ_summ['champ_e'] = champ_e\n",
        "champ_summ['champ_r'] = champ_r\n",
        "champ_summ['champ_all_skill'] = champ_summ['champ_q']+champ_summ['champ_w']+champ_summ['champ_e']+champ_summ['champ_r']"
      ],
      "execution_count": 11,
      "outputs": []
    },
    {
      "cell_type": "code",
      "metadata": {
        "id": "772g00ZiXMIW"
      },
      "source": [
        "from sklearn.feature_extraction.text import CountVectorizer"
      ],
      "execution_count": 12,
      "outputs": []
    },
    {
      "cell_type": "code",
      "metadata": {
        "id": "GHkTQBQWXN5C"
      },
      "source": [
        "champ_tips = champ_info[['key','allytips','enemytips']]"
      ],
      "execution_count": 13,
      "outputs": []
    },
    {
      "cell_type": "code",
      "metadata": {
        "id": "0qyMI0HZXTss"
      },
      "source": [
        "champ_tips['allytips'] = champ_tips['allytips'].apply(literal_eval)\n",
        "champ_tips['enemytips'] = champ_tips['enemytips'].apply(literal_eval)"
      ],
      "execution_count": 14,
      "outputs": []
    },
    {
      "cell_type": "code",
      "metadata": {
        "id": "k1sXTzceXeds"
      },
      "source": [
        "champ_tips['all_tips'] = champ_tips['enemytips'] + champ_tips['allytips']"
      ],
      "execution_count": 15,
      "outputs": []
    },
    {
      "cell_type": "code",
      "metadata": {
        "id": "_Z_QUH4iXg-S"
      },
      "source": [
        "champ_summ['all_tips'] = champ_tips['all_tips']"
      ],
      "execution_count": 16,
      "outputs": []
    },
    {
      "cell_type": "code",
      "metadata": {
        "id": "l9xti8quZMIe"
      },
      "source": [
        "champ_summ['all_tips_literal'] = champ_summ['all_tips'].apply(lambda x : (' ').join(x))"
      ],
      "execution_count": 26,
      "outputs": []
    },
    {
      "cell_type": "code",
      "metadata": {
        "id": "fH72o9rDXnHG"
      },
      "source": [
        "champ_summ['all_discribtion'] = champ_summ['all_tips_literal'] + champ_summ['champ_all_skill']"
      ],
      "execution_count": 28,
      "outputs": []
    },
    {
      "cell_type": "code",
      "metadata": {
        "colab": {
          "base_uri": "https://localhost:8080/"
        },
        "id": "m071o7PTYnAs",
        "outputId": "53e13e85-9e2c-4b1e-d43c-78c7b9fdda14"
      },
      "source": [
        "champ_summ['champ_all_skill'] "
      ],
      "execution_count": 24,
      "outputs": [
        {
          "output_type": "execute_result",
          "data": {
            "text/plain": [
              "0      Aatrox slams his greatsword down, dealing phys...\n",
              "1      Ahri sends out and pulls back her orb, dealing...\n",
              "2      Akali throws out five kunai, dealing damage ba...\n",
              "3      Akshan throws a boomerang that deals damage go...\n",
              "4      Alistar smashes the ground, dealing damage to ...\n",
              "                             ...                        \n",
              "151    Zed and his shadows throw their shurikens.Each...\n",
              "152    Ziggs throws a bouncing bomb that deals magic ...\n",
              "153    Tosses a bomb to target area that sticks to un...\n",
              "154    Zoe fires a missile that she can redirect in f...\n",
              "155    Thick vines spread through the ground and expl...\n",
              "Name: champ_all_skill, Length: 156, dtype: object"
            ]
          },
          "metadata": {},
          "execution_count": 24
        }
      ]
    },
    {
      "cell_type": "code",
      "metadata": {
        "colab": {
          "base_uri": "https://localhost:8080/"
        },
        "id": "vIWlolMKYeDh",
        "outputId": "ceb706bb-8ac0-433d-988f-5cc27a3e56ea"
      },
      "source": [
        "champ_summ['all_tips']"
      ],
      "execution_count": 22,
      "outputs": [
        {
          "output_type": "execute_result",
          "data": {
            "text/plain": [
              "0      [Aatrox's attacks are very telegraphed, so use...\n",
              "1      [Ahri's survivability is dramatically reduced ...\n",
              "2      [Akali can still be hit by area effect spells ...\n",
              "3      [Raising an eyebrow in the face of danger, Aks...\n",
              "4      [Alistar is very disruptive but very tough - t...\n",
              "                             ...                        \n",
              "151    [Zed receives bonus effect from Attack Damage ...\n",
              "152    [Don't step on Ziggs' mines! They'll slow you ...\n",
              "153    [If you're able to match Zilean's speed, it ca...\n",
              "154    [Zoe's Paddle Star deals more damage the furth...\n",
              "155    [Zyra's seeds can be destroyed by stepping on ...\n",
              "Name: all_tips, Length: 156, dtype: object"
            ]
          },
          "metadata": {},
          "execution_count": 22
        }
      ]
    },
    {
      "cell_type": "code",
      "metadata": {
        "colab": {
          "base_uri": "https://localhost:8080/"
        },
        "id": "B3N8hta2YVkY",
        "outputId": "89416807-ba88-4324-a217-d7f1759879cb"
      },
      "source": [
        "champ_summ.info()"
      ],
      "execution_count": 29,
      "outputs": [
        {
          "output_type": "stream",
          "name": "stdout",
          "text": [
            "<class 'pandas.core.frame.DataFrame'>\n",
            "RangeIndex: 156 entries, 0 to 155\n",
            "Data columns (total 11 columns):\n",
            " #   Column            Non-Null Count  Dtype \n",
            "---  ------            --------------  ----- \n",
            " 0   id                156 non-null    object\n",
            " 1   key               156 non-null    int64 \n",
            " 2   tags              156 non-null    object\n",
            " 3   champ_q           156 non-null    object\n",
            " 4   champ_w           156 non-null    object\n",
            " 5   champ_e           156 non-null    object\n",
            " 6   champ_r           156 non-null    object\n",
            " 7   champ_all_skill   156 non-null    object\n",
            " 8   all_tips          156 non-null    object\n",
            " 9   all_tips_literal  156 non-null    object\n",
            " 10  all_discribtion   156 non-null    object\n",
            "dtypes: int64(1), object(10)\n",
            "memory usage: 13.5+ KB\n"
          ]
        }
      ]
    },
    {
      "cell_type": "code",
      "metadata": {
        "colab": {
          "base_uri": "https://localhost:8080/"
        },
        "id": "I2RkNsHwYbTS",
        "outputId": "bd7320b4-93a7-4b23-f43d-526518ee7e51"
      },
      "source": [
        "champ_summ['all_discribtion']"
      ],
      "execution_count": 30,
      "outputs": [
        {
          "output_type": "execute_result",
          "data": {
            "text/plain": [
              "0      Aatrox's attacks are very telegraphed, so use ...\n",
              "1      Ahri's survivability is dramatically reduced w...\n",
              "2      Akali can still be hit by area effect spells w...\n",
              "3      Raising an eyebrow in the face of danger, Aksh...\n",
              "4      Alistar is very disruptive but very tough - tr...\n",
              "                             ...                        \n",
              "151    Zed receives bonus effect from Attack Damage i...\n",
              "152    Don't step on Ziggs' mines! They'll slow you a...\n",
              "153    If you're able to match Zilean's speed, it can...\n",
              "154    Zoe's Paddle Star deals more damage the furthe...\n",
              "155    Zyra's seeds can be destroyed by stepping on t...\n",
              "Name: all_discribtion, Length: 156, dtype: object"
            ]
          },
          "metadata": {},
          "execution_count": 30
        }
      ]
    },
    {
      "cell_type": "markdown",
      "metadata": {
        "id": "RAvjayo-Zf_7"
      },
      "source": [
        "## 1st Try - 자연어 처리 안하고 그냥 팁 + 스킬설명"
      ]
    },
    {
      "cell_type": "code",
      "metadata": {
        "colab": {
          "base_uri": "https://localhost:8080/"
        },
        "id": "vd0DxMuVZaCO",
        "outputId": "10c4401d-9094-417f-f242-8731e824282e"
      },
      "source": [
        "count_vect = CountVectorizer(min_df=0, ngram_range=(1,2))\n",
        "# ngram_range : 단어의 묶음\n",
        "# ngram_range=(1,2) : 1개, 2개 단어 묶음 존재\n",
        "all_discribtion_mat = count_vect.fit_transform(champ_summ['all_discribtion'])\n",
        "print(all_discribtion_mat.shape)"
      ],
      "execution_count": 36,
      "outputs": [
        {
          "output_type": "stream",
          "name": "stdout",
          "text": [
            "(156, 21740)\n"
          ]
        }
      ]
    },
    {
      "cell_type": "code",
      "metadata": {
        "colab": {
          "base_uri": "https://localhost:8080/"
        },
        "id": "P7VT45tsZfWr",
        "outputId": "d31ac15e-219c-487f-ee11-4bb5bd9ccfde"
      },
      "source": [
        "from sklearn.metrics.pairwise import cosine_similarity\n",
        "\n",
        "all_discribtion_sim = cosine_similarity(all_discribtion_mat, all_discribtion_mat)\n",
        "print(all_discribtion_sim.shape)  # 유사도 행렬 크기\n",
        "print(all_discribtion_sim[:2])    # 앞 2개만 출력"
      ],
      "execution_count": 105,
      "outputs": [
        {
          "output_type": "stream",
          "name": "stdout",
          "text": [
            "(156, 156)\n",
            "[[1.         0.28759603 0.36180512 0.37021708 0.3773982  0.29195168\n",
            "  0.35727112 0.34732854 0.26346765 0.35104646 0.32122127 0.42979843\n",
            "  0.30623516 0.34742115 0.36386681 0.40773075 0.37999692 0.40512282\n",
            "  0.26721392 0.35125519 0.29533144 0.39519544 0.38448027 0.37806789\n",
            "  0.43920031 0.41396638 0.26112049 0.38228728 0.35672353 0.29986489\n",
            "  0.42048037 0.37757614 0.31072476 0.31128851 0.32594352 0.35741113\n",
            "  0.40980661 0.36299852 0.32201118 0.33960201 0.38899528 0.44179416\n",
            "  0.27693079 0.28411529 0.35672414 0.37835104 0.27143935 0.40934447\n",
            "  0.3706716  0.37996544 0.2119022  0.35722516 0.4060141  0.38503754\n",
            "  0.27829777 0.37190064 0.30449577 0.35182472 0.36324514 0.35344889\n",
            "  0.39148038 0.37086328 0.24381599 0.37142847 0.3795568  0.44862328\n",
            "  0.24580586 0.38157683 0.27898602 0.32616816 0.37046126 0.37413501\n",
            "  0.39956906 0.3155262  0.34702868 0.29936224 0.34466204 0.44263891\n",
            "  0.34634826 0.34508552 0.35409485 0.38560105 0.31703109 0.34880495\n",
            "  0.42319951 0.34379911 0.36360893 0.37466417 0.4024735  0.38402425\n",
            "  0.31074913 0.39273994 0.15379103 0.37290874 0.30677276 0.36837416\n",
            "  0.32675377 0.26188785 0.42465925 0.38141977 0.26268427 0.37261706\n",
            "  0.37574313 0.12109776 0.28588918 0.24108568 0.21814773 0.33493067\n",
            "  0.39591236 0.31051649 0.32828827 0.38026581 0.43232446 0.27205321\n",
            "  0.33487604 0.29591829 0.3468328  0.36654244 0.38102785 0.28300769\n",
            "  0.37590759 0.26410296 0.40086299 0.29174782 0.365749   0.41738822\n",
            "  0.36621619 0.31300089 0.33819278 0.35076716 0.30130239 0.30665689\n",
            "  0.36887572 0.377577   0.33169379 0.39474041 0.35812806 0.32706425\n",
            "  0.26970514 0.38970448 0.39969691 0.26520061 0.31693255 0.31899134\n",
            "  0.33326786 0.3584473  0.32702112 0.28628302 0.39880792 0.28410438\n",
            "  0.3517435  0.31811328 0.33801    0.36397201 0.32744911 0.34742443]\n",
            " [0.28759603 1.         0.33948054 0.27293629 0.33417096 0.25843398\n",
            "  0.29725251 0.32292276 0.20854928 0.27887352 0.28432082 0.3497369\n",
            "  0.27738829 0.3306902  0.31337903 0.34173956 0.26349679 0.3313602\n",
            "  0.30723877 0.28574561 0.25865962 0.29039591 0.36615842 0.25338561\n",
            "  0.30576218 0.33749764 0.2659904  0.33199962 0.30098815 0.2152219\n",
            "  0.28086322 0.28970552 0.21519315 0.24982694 0.27860447 0.36266022\n",
            "  0.32597482 0.29710065 0.36628525 0.32747472 0.29684267 0.32985817\n",
            "  0.30246304 0.25373513 0.31169048 0.30058524 0.25042208 0.33944549\n",
            "  0.31349314 0.37565641 0.24966877 0.31093693 0.38957507 0.27838849\n",
            "  0.29877339 0.28969694 0.32511528 0.24624956 0.31917421 0.27249592\n",
            "  0.31404556 0.32129853 0.255296   0.28539962 0.27503856 0.34501429\n",
            "  0.29307808 0.38901635 0.19609418 0.35859834 0.33206005 0.27506487\n",
            "  0.29487767 0.25560525 0.27543246 0.30770316 0.35596897 0.29673176\n",
            "  0.33796748 0.35149044 0.31630447 0.30349949 0.26224973 0.32723516\n",
            "  0.33495749 0.30953533 0.25395588 0.34153939 0.28855626 0.27653132\n",
            "  0.34422328 0.30653498 0.28075008 0.34115569 0.28736009 0.29697698\n",
            "  0.33403926 0.29420556 0.3446879  0.27855495 0.31037691 0.31394929\n",
            "  0.34207218 0.19310345 0.26217355 0.27618179 0.21149685 0.29630638\n",
            "  0.34669279 0.26083352 0.34370412 0.29708153 0.33721428 0.26742218\n",
            "  0.29776572 0.27828876 0.27613693 0.34506356 0.26752985 0.29421161\n",
            "  0.32119837 0.21324882 0.30802482 0.27580425 0.30530924 0.30532705\n",
            "  0.34973366 0.3135613  0.2693877  0.24801131 0.24207785 0.26048691\n",
            "  0.30589961 0.35304482 0.33656519 0.33840514 0.32812022 0.35707746\n",
            "  0.27744497 0.28239189 0.293442   0.24424656 0.25226944 0.29884011\n",
            "  0.36066928 0.30894073 0.27654533 0.26371103 0.27077615 0.30866486\n",
            "  0.27926441 0.24765696 0.26067256 0.27610996 0.28733914 0.30888201]]\n"
          ]
        }
      ]
    },
    {
      "cell_type": "code",
      "metadata": {
        "colab": {
          "base_uri": "https://localhost:8080/"
        },
        "id": "AmWFVtCNrDCc",
        "outputId": "7c5e926c-3ed1-436f-e341-5c553c94e9cb"
      },
      "source": [
        "all_discribtion_sim.argsort()[:, ::-1]"
      ],
      "execution_count": 106,
      "outputs": [
        {
          "output_type": "execute_result",
          "data": {
            "text/plain": [
              "array([[  0,  65,  77, ...,  50,  92, 103],\n",
              "       [  1,  52,  67, ...,   8,  68, 103],\n",
              "       [  2,  67,  52, ...,  32,  68,   8],\n",
              "       ...,\n",
              "       [153,  25,  14, ..., 106,  92, 103],\n",
              "       [154,  83,  16, ...,  92, 141, 103],\n",
              "       [155,  65,  67, ...,   8, 103,  92]])"
            ]
          },
          "metadata": {},
          "execution_count": 106
        }
      ]
    },
    {
      "cell_type": "code",
      "metadata": {
        "id": "hWD_mQ9ttpko"
      },
      "source": [
        ""
      ],
      "execution_count": 131,
      "outputs": []
    },
    {
      "cell_type": "code",
      "metadata": {
        "colab": {
          "base_uri": "https://localhost:8080/"
        },
        "id": "pQOjsonIrk_l",
        "outputId": "45bdbc47-a92f-43bb-ca7a-f33a8155af9d"
      },
      "source": [
        "all_discribtion_sim_sorted_ind = np.sort(all_discribtion_sim, axis=1)[:,::-1]\n",
        "\n",
        "print(all_discribtion_sim_sorted_ind[:1])"
      ],
      "execution_count": 141,
      "outputs": [
        {
          "output_type": "stream",
          "name": "stdout",
          "text": [
            "[[1.         0.44862328 0.44263891 0.44179416 0.43920031 0.43232446\n",
            "  0.42979843 0.42465925 0.42319951 0.42048037 0.41738822 0.41396638\n",
            "  0.40980661 0.40934447 0.40773075 0.4060141  0.40512282 0.4024735\n",
            "  0.40086299 0.39969691 0.39956906 0.39880792 0.39591236 0.39519544\n",
            "  0.39474041 0.39273994 0.39148038 0.38970448 0.38899528 0.38560105\n",
            "  0.38503754 0.38448027 0.38402425 0.38228728 0.38157683 0.38141977\n",
            "  0.38102785 0.38026581 0.37999692 0.37996544 0.3795568  0.37835104\n",
            "  0.37806789 0.377577   0.37757614 0.3773982  0.37590759 0.37574313\n",
            "  0.37466417 0.37413501 0.37290874 0.37261706 0.37190064 0.37142847\n",
            "  0.37086328 0.3706716  0.37046126 0.37021708 0.36887572 0.36837416\n",
            "  0.36654244 0.36621619 0.365749   0.36397201 0.36386681 0.36360893\n",
            "  0.36324514 0.36299852 0.36180512 0.3584473  0.35812806 0.35741113\n",
            "  0.35727112 0.35722516 0.35672414 0.35672353 0.35409485 0.35344889\n",
            "  0.35182472 0.3517435  0.35125519 0.35104646 0.35076716 0.34880495\n",
            "  0.34742443 0.34742115 0.34732854 0.34702868 0.3468328  0.34634826\n",
            "  0.34508552 0.34466204 0.34379911 0.33960201 0.33819278 0.33801\n",
            "  0.33493067 0.33487604 0.33326786 0.33169379 0.32828827 0.32744911\n",
            "  0.32706425 0.32702112 0.32675377 0.32616816 0.32594352 0.32201118\n",
            "  0.32122127 0.31899134 0.31811328 0.31703109 0.31693255 0.3155262\n",
            "  0.31300089 0.31128851 0.31074913 0.31072476 0.31051649 0.30677276\n",
            "  0.30665689 0.30623516 0.30449577 0.30130239 0.29986489 0.29936224\n",
            "  0.29591829 0.29533144 0.29195168 0.29174782 0.28759603 0.28628302\n",
            "  0.28588918 0.28411529 0.28410438 0.28300769 0.27898602 0.27829777\n",
            "  0.27693079 0.27205321 0.27143935 0.26970514 0.26721392 0.26520061\n",
            "  0.26410296 0.26346765 0.26268427 0.26188785 0.26112049 0.24580586\n",
            "  0.24381599 0.24108568 0.21814773 0.2119022  0.15379103 0.12109776]]\n"
          ]
        }
      ]
    },
    {
      "cell_type": "code",
      "metadata": {
        "colab": {
          "base_uri": "https://localhost:8080/"
        },
        "id": "fIoJhGPvZsWJ",
        "outputId": "1e791282-aef1-44d5-ed70-e3e808cab6e1"
      },
      "source": [
        "# 높은 순으로 정렬된(내림차순 정렬된) 비교 행 위치 인덱스 값 구해서\n",
        "# 첫 번째(0번 레코드)의 비교 행 위치 인덱스 값만 샘플로 추출\n",
        "all_discribtion_sorted_ind = all_discribtion_sim.argsort()[:, ::-1]\n",
        "print(all_discribtion_sorted_ind[:1]) # [0]"
      ],
      "execution_count": 115,
      "outputs": [
        {
          "output_type": "stream",
          "name": "stdout",
          "text": [
            "[[  0  65  77  41  24 112  11  98  84  30 125  25  36  47  15  52  17  88\n",
            "  122 140  72 148 108  21 135  91  60 139  40  81  53  22  89  27  67  99\n",
            "  118 111  16  49  64  45  23 133  31   4 120 102  87  71  93 101  55  63\n",
            "   61  48  70   3 132  95 117 126 124 153  14  86  58  37   2 145 136  35\n",
            "    6  51  44  28  80  59  57 150  19   9 129  83 155  13   7  74 116  78\n",
            "   79  76  85  39 128 152 107 114 144 134 110 154 137 146  96  69  34  38\n",
            "   10 143 151  82 142  73 127  33  90  32 109  94 131  12  56 130  29  75\n",
            "  115  20   5 123   1 147 104  43 149 119  68  54  42 113  46 138  18 141\n",
            "  121   8 100  97  26  66  62 105 106  50  92 103]]\n"
          ]
        }
      ]
    },
    {
      "cell_type": "code",
      "metadata": {
        "id": "vD_4v3kHh0x0"
      },
      "source": [
        "# all_discribtion_sim_sorted_ind = all_discribtion_sim[all_discribtion_sim.argsort()[:, ::-1]]"
      ],
      "execution_count": 63,
      "outputs": []
    },
    {
      "cell_type": "code",
      "metadata": {
        "id": "GveWKWULqtsJ"
      },
      "source": [
        "# all_discribtion_sim[all_discribtion_sim.argsort()[:, ::-1]]"
      ],
      "execution_count": 142,
      "outputs": []
    },
    {
      "cell_type": "code",
      "metadata": {
        "id": "1y7gv3RLiRu1"
      },
      "source": [
        "# all_discribtion_sim_sorted_ind[:1]"
      ],
      "execution_count": 143,
      "outputs": []
    },
    {
      "cell_type": "code",
      "metadata": {
        "colab": {
          "base_uri": "https://localhost:8080/"
        },
        "id": "mhtt45SZp1US",
        "outputId": "9c2dd944-7e6a-4f5a-d175-9f0e0df89883"
      },
      "source": [
        "all_discribtion_sim_sorted_ind.shape"
      ],
      "execution_count": 144,
      "outputs": [
        {
          "output_type": "execute_result",
          "data": {
            "text/plain": [
              "(156, 156)"
            ]
          },
          "metadata": {},
          "execution_count": 144
        }
      ]
    },
    {
      "cell_type": "code",
      "metadata": {
        "colab": {
          "base_uri": "https://localhost:8080/"
        },
        "id": "ZrzCB9KHqVCQ",
        "outputId": "351401d4-7249-480f-c31b-161b06c2f925"
      },
      "source": [
        "all_discribtion_sim.shape"
      ],
      "execution_count": 145,
      "outputs": [
        {
          "output_type": "execute_result",
          "data": {
            "text/plain": [
              "(156, 156)"
            ]
          },
          "metadata": {},
          "execution_count": 145
        }
      ]
    },
    {
      "cell_type": "code",
      "metadata": {
        "id": "r7WH1RBzqaAu"
      },
      "source": [
        "# all_discribtion_sim[0]"
      ],
      "execution_count": 146,
      "outputs": []
    },
    {
      "cell_type": "code",
      "metadata": {
        "id": "rIYrTFzxqHsq"
      },
      "source": [
        "# all_discribtion_sim_sorted_ind"
      ],
      "execution_count": 147,
      "outputs": []
    },
    {
      "cell_type": "code",
      "metadata": {
        "id": "-q0wFB9AZ5ZT"
      },
      "source": [
        "# def find_sim_with_all_discribtion(df, sorted_ind, champ_name, top_n=10):\n",
        "#     # titile 데이터 추출\n",
        "#     champ_find = df[df['id'] == champ_name]\n",
        "    \n",
        "#     # title_name에 해당되는 데이터프레임 index 객체를 배열로 반환하고\n",
        "#     # 유사도 순으로 top_n개의 index 추출\n",
        "#     champ_index = champ_find.index.values\n",
        "#     similar_indexes = sorted_ind[champ_index, :(top_n)]\n",
        "    \n",
        "#     # 추출된 top_n index 출력 \n",
        "#     # 2차원 데이터를 1차원 array로 변환\n",
        "#     print(similar_indexes)\n",
        "#     similar_indexes_tips = similar_indexes.reshape(-1)\n",
        "    \n",
        "#     # index에 해당되는 데이터프레임 반환\n",
        "#     return df.loc[similar_indexes]"
      ],
      "execution_count": 68,
      "outputs": []
    },
    {
      "cell_type": "markdown",
      "metadata": {
        "id": "CaqRuMHqv32X"
      },
      "source": [
        "### 1st Try 함수 부분"
      ]
    },
    {
      "cell_type": "code",
      "metadata": {
        "id": "vpDS-HvRkyXT"
      },
      "source": [
        "def find_sim_with_all_discribtion(df, sorted_ind, champ_name, top_n=10):\n",
        "    # titile 데이터 추출\n",
        "    champ_skill = df[df['id'] == champ_name]\n",
        "    \n",
        "    # title_name에 해당되는 데이터프레임 index 객체를 배열로 반환하고\n",
        "    # 유사도 순으로 top_n개의 index 추출\n",
        "    champ_index = champ_skill.index.values\n",
        "    similar_indexes = sorted_ind[champ_index, :(top_n)]\n",
        "    print(all_discribtion_sim_sorted_ind[champ_index, :(top_n)])\n",
        "    # 추출된 top_n index 출력 \n",
        "    # 2차원 데이터를 1차원 array로 변환\n",
        "    print(similar_indexes)\n",
        "    similar_indexes = similar_indexes.reshape(-1)\n",
        "    \n",
        "    # index에 해당되는 데이터프레임 반환\n",
        "    return df.loc[similar_indexes][['id', 'tags']]"
      ],
      "execution_count": 148,
      "outputs": []
    },
    {
      "cell_type": "code",
      "metadata": {
        "id": "8YYGuK_Wk9dr"
      },
      "source": [
        "champ_skill = champ_summ[champ_summ['id'] == 'Zed']"
      ],
      "execution_count": 73,
      "outputs": []
    },
    {
      "cell_type": "code",
      "metadata": {
        "colab": {
          "base_uri": "https://localhost:8080/",
          "height": 131
        },
        "id": "8wL6Ame7marA",
        "outputId": "2bdb4fa0-2b74-4aed-c6cd-8ae140c4e752"
      },
      "source": [
        "champ_skill"
      ],
      "execution_count": 75,
      "outputs": [
        {
          "output_type": "execute_result",
          "data": {
            "text/html": [
              "<div>\n",
              "<style scoped>\n",
              "    .dataframe tbody tr th:only-of-type {\n",
              "        vertical-align: middle;\n",
              "    }\n",
              "\n",
              "    .dataframe tbody tr th {\n",
              "        vertical-align: top;\n",
              "    }\n",
              "\n",
              "    .dataframe thead th {\n",
              "        text-align: right;\n",
              "    }\n",
              "</style>\n",
              "<table border=\"1\" class=\"dataframe\">\n",
              "  <thead>\n",
              "    <tr style=\"text-align: right;\">\n",
              "      <th></th>\n",
              "      <th>id</th>\n",
              "      <th>key</th>\n",
              "      <th>tags</th>\n",
              "      <th>champ_q</th>\n",
              "      <th>champ_w</th>\n",
              "      <th>champ_e</th>\n",
              "      <th>champ_r</th>\n",
              "      <th>champ_all_skill</th>\n",
              "      <th>all_tips</th>\n",
              "      <th>all_tips_literal</th>\n",
              "      <th>all_discribtion</th>\n",
              "    </tr>\n",
              "  </thead>\n",
              "  <tbody>\n",
              "    <tr>\n",
              "      <th>151</th>\n",
              "      <td>Zed</td>\n",
              "      <td>238</td>\n",
              "      <td>['Assassin']</td>\n",
              "      <td>Zed and his shadows throw their shurikens.Each...</td>\n",
              "      <td>Passive: Zed gains energy whenever he and his ...</td>\n",
              "      <td>Zed and his shadows slash, dealing damage to n...</td>\n",
              "      <td>Zed becomes untargetable and dashes to an enem...</td>\n",
              "      <td>Zed and his shadows throw their shurikens.Each...</td>\n",
              "      <td>[Zed receives bonus effect from Attack Damage ...</td>\n",
              "      <td>Zed receives bonus effect from Attack Damage i...</td>\n",
              "      <td>Zed receives bonus effect from Attack Damage i...</td>\n",
              "    </tr>\n",
              "  </tbody>\n",
              "</table>\n",
              "</div>"
            ],
            "text/plain": [
              "      id  ...                                    all_discribtion\n",
              "151  Zed  ...  Zed receives bonus effect from Attack Damage i...\n",
              "\n",
              "[1 rows x 11 columns]"
            ]
          },
          "metadata": {},
          "execution_count": 75
        }
      ]
    },
    {
      "cell_type": "code",
      "metadata": {
        "id": "1MXPqdq3meCd"
      },
      "source": [
        "champ_index = champ_skill.index.values"
      ],
      "execution_count": 76,
      "outputs": []
    },
    {
      "cell_type": "code",
      "metadata": {
        "colab": {
          "base_uri": "https://localhost:8080/"
        },
        "id": "z2XRmna-me7v",
        "outputId": "ba48c7a2-a4c6-4dcf-cd8f-09f7b71addae"
      },
      "source": [
        "champ_index"
      ],
      "execution_count": 77,
      "outputs": [
        {
          "output_type": "execute_result",
          "data": {
            "text/plain": [
              "array([151])"
            ]
          },
          "metadata": {},
          "execution_count": 77
        }
      ]
    },
    {
      "cell_type": "code",
      "metadata": {
        "id": "q9X1SBfomguu"
      },
      "source": [
        "similar_indexes = all_discribtion_sorted_ind[champ_index, :10]"
      ],
      "execution_count": 80,
      "outputs": []
    },
    {
      "cell_type": "code",
      "metadata": {
        "colab": {
          "base_uri": "https://localhost:8080/"
        },
        "id": "P9lGDHccmuRT",
        "outputId": "9e3db34d-dec9-43e6-dda8-96a05c8f97a4"
      },
      "source": [
        "similar_indexes"
      ],
      "execution_count": 81,
      "outputs": [
        {
          "output_type": "execute_result",
          "data": {
            "text/plain": [
              "array([[151,  25,  98,  24, 108,  36, 118,  21, 145, 114]])"
            ]
          },
          "metadata": {},
          "execution_count": 81
        }
      ]
    },
    {
      "cell_type": "code",
      "metadata": {
        "id": "T2Ee7tkbmxe4"
      },
      "source": [
        " similar_indexes = similar_indexes.reshape(-1)"
      ],
      "execution_count": 82,
      "outputs": []
    },
    {
      "cell_type": "code",
      "metadata": {
        "colab": {
          "base_uri": "https://localhost:8080/"
        },
        "id": "ycG-VfB7myRT",
        "outputId": "9314e60a-5e64-40ae-dde5-349ba175df92"
      },
      "source": [
        " similar_indexes"
      ],
      "execution_count": 83,
      "outputs": [
        {
          "output_type": "execute_result",
          "data": {
            "text/plain": [
              "array([151,  25,  98,  24, 108,  36, 118,  21, 145, 114])"
            ]
          },
          "metadata": {},
          "execution_count": 83
        }
      ]
    },
    {
      "cell_type": "code",
      "metadata": {
        "colab": {
          "base_uri": "https://localhost:8080/",
          "height": 359
        },
        "id": "ZqHt-rnFnJoo",
        "outputId": "e0808b1f-8820-4a4f-a28b-96eab3bf2cc3"
      },
      "source": [
        "champ_summ.loc[similar_indexes][['id', 'tags']]"
      ],
      "execution_count": 87,
      "outputs": [
        {
          "output_type": "execute_result",
          "data": {
            "text/html": [
              "<div>\n",
              "<style scoped>\n",
              "    .dataframe tbody tr th:only-of-type {\n",
              "        vertical-align: middle;\n",
              "    }\n",
              "\n",
              "    .dataframe tbody tr th {\n",
              "        vertical-align: top;\n",
              "    }\n",
              "\n",
              "    .dataframe thead th {\n",
              "        text-align: right;\n",
              "    }\n",
              "</style>\n",
              "<table border=\"1\" class=\"dataframe\">\n",
              "  <thead>\n",
              "    <tr style=\"text-align: right;\">\n",
              "      <th></th>\n",
              "      <th>id</th>\n",
              "      <th>tags</th>\n",
              "    </tr>\n",
              "  </thead>\n",
              "  <tbody>\n",
              "    <tr>\n",
              "      <th>151</th>\n",
              "      <td>Zed</td>\n",
              "      <td>['Assassin']</td>\n",
              "    </tr>\n",
              "    <tr>\n",
              "      <th>25</th>\n",
              "      <td>Ekko</td>\n",
              "      <td>['Assassin', 'Fighter']</td>\n",
              "    </tr>\n",
              "    <tr>\n",
              "      <th>98</th>\n",
              "      <td>Renekton</td>\n",
              "      <td>['Fighter', 'Tank']</td>\n",
              "    </tr>\n",
              "    <tr>\n",
              "      <th>24</th>\n",
              "      <td>DrMundo</td>\n",
              "      <td>['Fighter', 'Tank']</td>\n",
              "    </tr>\n",
              "    <tr>\n",
              "      <th>108</th>\n",
              "      <td>Shaco</td>\n",
              "      <td>['Assassin']</td>\n",
              "    </tr>\n",
              "    <tr>\n",
              "      <th>36</th>\n",
              "      <td>Gragas</td>\n",
              "      <td>['Fighter', 'Mage']</td>\n",
              "    </tr>\n",
              "    <tr>\n",
              "      <th>118</th>\n",
              "      <td>Sylas</td>\n",
              "      <td>['Mage', 'Assassin']</td>\n",
              "    </tr>\n",
              "    <tr>\n",
              "      <th>21</th>\n",
              "      <td>Darius</td>\n",
              "      <td>['Fighter', 'Tank']</td>\n",
              "    </tr>\n",
              "    <tr>\n",
              "      <th>145</th>\n",
              "      <td>XinZhao</td>\n",
              "      <td>['Fighter', 'Assassin']</td>\n",
              "    </tr>\n",
              "    <tr>\n",
              "      <th>114</th>\n",
              "      <td>Skarner</td>\n",
              "      <td>['Fighter', 'Tank']</td>\n",
              "    </tr>\n",
              "  </tbody>\n",
              "</table>\n",
              "</div>"
            ],
            "text/plain": [
              "           id                     tags\n",
              "151       Zed             ['Assassin']\n",
              "25       Ekko  ['Assassin', 'Fighter']\n",
              "98   Renekton      ['Fighter', 'Tank']\n",
              "24    DrMundo      ['Fighter', 'Tank']\n",
              "108     Shaco             ['Assassin']\n",
              "36     Gragas      ['Fighter', 'Mage']\n",
              "118     Sylas     ['Mage', 'Assassin']\n",
              "21     Darius      ['Fighter', 'Tank']\n",
              "145   XinZhao  ['Fighter', 'Assassin']\n",
              "114   Skarner      ['Fighter', 'Tank']"
            ]
          },
          "metadata": {},
          "execution_count": 87
        }
      ]
    },
    {
      "cell_type": "markdown",
      "metadata": {
        "id": "gCX0M-oUv-hc"
      },
      "source": [
        "### 1st Try 결과"
      ]
    },
    {
      "cell_type": "code",
      "metadata": {
        "colab": {
          "base_uri": "https://localhost:8080/",
          "height": 410
        },
        "id": "O02Q_0hNawZH",
        "outputId": "c77c536e-62fc-4df9-eb7a-c15db1044d97"
      },
      "source": [
        "similar_all_discribtion_champ = find_sim_with_all_discribtion(champ_summ,all_discribtion_sorted_ind, 'Zed', 10)\n",
        "similar_all_discribtion_champ[['id', 'tags']]"
      ],
      "execution_count": 149,
      "outputs": [
        {
          "output_type": "stream",
          "name": "stdout",
          "text": [
            "[[1.         0.36947769 0.36226941 0.36045008 0.35584601 0.35117223\n",
            "  0.35038825 0.34547008 0.34286385 0.34190286]]\n",
            "[[151  25  98  24 108  36 118  21 145 114]]\n"
          ]
        },
        {
          "output_type": "execute_result",
          "data": {
            "text/html": [
              "<div>\n",
              "<style scoped>\n",
              "    .dataframe tbody tr th:only-of-type {\n",
              "        vertical-align: middle;\n",
              "    }\n",
              "\n",
              "    .dataframe tbody tr th {\n",
              "        vertical-align: top;\n",
              "    }\n",
              "\n",
              "    .dataframe thead th {\n",
              "        text-align: right;\n",
              "    }\n",
              "</style>\n",
              "<table border=\"1\" class=\"dataframe\">\n",
              "  <thead>\n",
              "    <tr style=\"text-align: right;\">\n",
              "      <th></th>\n",
              "      <th>id</th>\n",
              "      <th>tags</th>\n",
              "    </tr>\n",
              "  </thead>\n",
              "  <tbody>\n",
              "    <tr>\n",
              "      <th>151</th>\n",
              "      <td>Zed</td>\n",
              "      <td>['Assassin']</td>\n",
              "    </tr>\n",
              "    <tr>\n",
              "      <th>25</th>\n",
              "      <td>Ekko</td>\n",
              "      <td>['Assassin', 'Fighter']</td>\n",
              "    </tr>\n",
              "    <tr>\n",
              "      <th>98</th>\n",
              "      <td>Renekton</td>\n",
              "      <td>['Fighter', 'Tank']</td>\n",
              "    </tr>\n",
              "    <tr>\n",
              "      <th>24</th>\n",
              "      <td>DrMundo</td>\n",
              "      <td>['Fighter', 'Tank']</td>\n",
              "    </tr>\n",
              "    <tr>\n",
              "      <th>108</th>\n",
              "      <td>Shaco</td>\n",
              "      <td>['Assassin']</td>\n",
              "    </tr>\n",
              "    <tr>\n",
              "      <th>36</th>\n",
              "      <td>Gragas</td>\n",
              "      <td>['Fighter', 'Mage']</td>\n",
              "    </tr>\n",
              "    <tr>\n",
              "      <th>118</th>\n",
              "      <td>Sylas</td>\n",
              "      <td>['Mage', 'Assassin']</td>\n",
              "    </tr>\n",
              "    <tr>\n",
              "      <th>21</th>\n",
              "      <td>Darius</td>\n",
              "      <td>['Fighter', 'Tank']</td>\n",
              "    </tr>\n",
              "    <tr>\n",
              "      <th>145</th>\n",
              "      <td>XinZhao</td>\n",
              "      <td>['Fighter', 'Assassin']</td>\n",
              "    </tr>\n",
              "    <tr>\n",
              "      <th>114</th>\n",
              "      <td>Skarner</td>\n",
              "      <td>['Fighter', 'Tank']</td>\n",
              "    </tr>\n",
              "  </tbody>\n",
              "</table>\n",
              "</div>"
            ],
            "text/plain": [
              "           id                     tags\n",
              "151       Zed             ['Assassin']\n",
              "25       Ekko  ['Assassin', 'Fighter']\n",
              "98   Renekton      ['Fighter', 'Tank']\n",
              "24    DrMundo      ['Fighter', 'Tank']\n",
              "108     Shaco             ['Assassin']\n",
              "36     Gragas      ['Fighter', 'Mage']\n",
              "118     Sylas     ['Mage', 'Assassin']\n",
              "21     Darius      ['Fighter', 'Tank']\n",
              "145   XinZhao  ['Fighter', 'Assassin']\n",
              "114   Skarner      ['Fighter', 'Tank']"
            ]
          },
          "metadata": {},
          "execution_count": 149
        }
      ]
    },
    {
      "cell_type": "code",
      "metadata": {
        "id": "-yjRQZO4frzM"
      },
      "source": [
        ""
      ],
      "execution_count": 84,
      "outputs": []
    }
  ]
}