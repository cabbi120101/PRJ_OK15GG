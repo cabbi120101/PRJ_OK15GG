{
  "nbformat": 4,
  "nbformat_minor": 0,
  "metadata": {
    "colab": {
      "name": "한글을 자연어 처리해보자.ipynb",
      "provenance": [],
      "collapsed_sections": [],
      "mount_file_id": "1PxlodoVQC1tAGN2ECzmQMmQX6nSYoaN-",
      "authorship_tag": "ABX9TyMsblEa++hp9yR/zGGa8/EZ",
      "include_colab_link": true
    },
    "kernelspec": {
      "name": "python3",
      "display_name": "Python 3"
    },
    "language_info": {
      "name": "python"
    }
  },
  "cells": [
    {
      "cell_type": "markdown",
      "metadata": {
        "id": "view-in-github",
        "colab_type": "text"
      },
      "source": [
        "<a href=\"https://colab.research.google.com/github/cabbi120101/final_multi/blob/main/Try/%ED%95%9C%EA%B8%80%EC%9D%84_%EC%9E%90%EC%97%B0%EC%96%B4_%EC%B2%98%EB%A6%AC%ED%95%B4%EB%B3%B4%EC%9E%90.ipynb\" target=\"_parent\"><img src=\"https://colab.research.google.com/assets/colab-badge.svg\" alt=\"Open In Colab\"/></a>"
      ]
    },
    {
      "cell_type": "code",
      "metadata": {
        "id": "D5UP1LxMval-"
      },
      "source": [
        "import pandas as pd\n",
        "import numpy as np\n",
        "import warnings; warnings.filterwarnings('ignore')"
      ],
      "execution_count": 1,
      "outputs": []
    },
    {
      "cell_type": "code",
      "metadata": {
        "colab": {
          "base_uri": "https://localhost:8080/",
          "height": 1000
        },
        "id": "grTq1uF0vkvn",
        "outputId": "d86c5cc2-96f1-4c82-8b11-a5636cb647f1"
      },
      "source": [
        "champ_info = pd.read_csv(\"/content/drive/MyDrive/Colab Notebooks/동욱코드모음/마지막프로젝트/3주차/시도/머신러닝 부분/champ_kor.csv\")\n",
        "champ_info.head()"
      ],
      "execution_count": 2,
      "outputs": [
        {
          "output_type": "execute_result",
          "data": {
            "text/html": [
              "<div>\n",
              "<style scoped>\n",
              "    .dataframe tbody tr th:only-of-type {\n",
              "        vertical-align: middle;\n",
              "    }\n",
              "\n",
              "    .dataframe tbody tr th {\n",
              "        vertical-align: top;\n",
              "    }\n",
              "\n",
              "    .dataframe thead th {\n",
              "        text-align: right;\n",
              "    }\n",
              "</style>\n",
              "<table border=\"1\" class=\"dataframe\">\n",
              "  <thead>\n",
              "    <tr style=\"text-align: right;\">\n",
              "      <th></th>\n",
              "      <th>Unnamed: 0</th>\n",
              "      <th>version</th>\n",
              "      <th>id</th>\n",
              "      <th>key</th>\n",
              "      <th>name</th>\n",
              "      <th>title</th>\n",
              "      <th>blurb</th>\n",
              "      <th>info</th>\n",
              "      <th>image</th>\n",
              "      <th>tags</th>\n",
              "      <th>partype</th>\n",
              "      <th>stats</th>\n",
              "      <th>attack</th>\n",
              "      <th>defense</th>\n",
              "      <th>magic</th>\n",
              "      <th>difficulty</th>\n",
              "      <th>hp</th>\n",
              "      <th>hpperlevel</th>\n",
              "      <th>mp</th>\n",
              "      <th>mpperlevel</th>\n",
              "      <th>movespeed</th>\n",
              "      <th>armor</th>\n",
              "      <th>armorperlevel</th>\n",
              "      <th>spellblock</th>\n",
              "      <th>spellblockperlevel</th>\n",
              "      <th>attackrange</th>\n",
              "      <th>hpregen</th>\n",
              "      <th>hpregenperlevel</th>\n",
              "      <th>mpregen</th>\n",
              "      <th>mpregenperlevel</th>\n",
              "      <th>crit</th>\n",
              "      <th>critperlevel</th>\n",
              "      <th>attackdamage</th>\n",
              "      <th>attackdamageperlevel</th>\n",
              "      <th>attackspeedperlevel</th>\n",
              "      <th>attackspeed</th>\n",
              "      <th>skins</th>\n",
              "      <th>lore</th>\n",
              "      <th>allytips</th>\n",
              "      <th>enemytips</th>\n",
              "      <th>spells</th>\n",
              "      <th>passive</th>\n",
              "      <th>recommended</th>\n",
              "      <th>skillQ</th>\n",
              "      <th>skillW</th>\n",
              "      <th>skillE</th>\n",
              "      <th>skillR</th>\n",
              "    </tr>\n",
              "  </thead>\n",
              "  <tbody>\n",
              "    <tr>\n",
              "      <th>0</th>\n",
              "      <td>0</td>\n",
              "      <td>11.17.1</td>\n",
              "      <td>Aatrox</td>\n",
              "      <td>266</td>\n",
              "      <td>아트록스</td>\n",
              "      <td>다르킨의 검</td>\n",
              "      <td>한때는 공허에 맞서 싸웠던 슈리마의 명예로운 수호자 아트록스와 그의 종족은 결국 공...</td>\n",
              "      <td>{'attack': 8, 'defense': 4, 'magic': 3, 'diffi...</td>\n",
              "      <td>{'full': 'Aatrox.png', 'sprite': 'champion0.pn...</td>\n",
              "      <td>['Fighter', 'Tank']</td>\n",
              "      <td>피의 샘</td>\n",
              "      <td>{'hp': 580, 'hpperlevel': 90, 'mp': 0, 'mpperl...</td>\n",
              "      <td>8</td>\n",
              "      <td>4</td>\n",
              "      <td>3</td>\n",
              "      <td>4</td>\n",
              "      <td>580.0</td>\n",
              "      <td>90</td>\n",
              "      <td>0.0</td>\n",
              "      <td>0.0</td>\n",
              "      <td>345</td>\n",
              "      <td>38</td>\n",
              "      <td>3.25</td>\n",
              "      <td>32.0</td>\n",
              "      <td>1.25</td>\n",
              "      <td>175</td>\n",
              "      <td>3.00</td>\n",
              "      <td>1.00</td>\n",
              "      <td>0.000</td>\n",
              "      <td>0.0</td>\n",
              "      <td>0</td>\n",
              "      <td>0</td>\n",
              "      <td>60.0</td>\n",
              "      <td>5.00</td>\n",
              "      <td>2.500</td>\n",
              "      <td>0.651</td>\n",
              "      <td>[{'id': '266000', 'num': 0, 'name': 'default',...</td>\n",
              "      <td>한때는 공허에 맞서 싸웠던 슈리마의 명예로운 수호자 아트록스와 그의 종족은 결국 공...</td>\n",
              "      <td>['공격 성공률을 높이려면 다르킨의 검을 사용하는 동안 파멸의 돌진을 사용하세요.'...</td>\n",
              "      <td>['아트록스의 공격은 미리 표시되므로 공격이 예상되는 지역에서 벗어나세요.', '아...</td>\n",
              "      <td>[{'id': 'AatroxQ', 'name': '다르킨의 검', 'descript...</td>\n",
              "      <td>{'name': '사신 태세', 'description': '주기적으로 아트록스의 ...</td>\n",
              "      <td>[]</td>\n",
              "      <td>{'id': 'AatroxQ', 'name': '다르킨의 검', 'descripti...</td>\n",
              "      <td>{'id': 'AatroxW', 'name': '지옥사슬', 'description...</td>\n",
              "      <td>{'id': 'AatroxE', 'name': '파멸의 돌진', 'descripti...</td>\n",
              "      <td>{'id': 'AatroxR', 'name': '세계의 종결자', 'descript...</td>\n",
              "    </tr>\n",
              "    <tr>\n",
              "      <th>1</th>\n",
              "      <td>1</td>\n",
              "      <td>11.17.1</td>\n",
              "      <td>Ahri</td>\n",
              "      <td>103</td>\n",
              "      <td>아리</td>\n",
              "      <td>구미호</td>\n",
              "      <td>룬테라가 가진 잠재력과 선천적으로 연결된 아리는 마법을 순수한 에너지의 구체로 변환...</td>\n",
              "      <td>{'attack': 3, 'defense': 4, 'magic': 8, 'diffi...</td>\n",
              "      <td>{'full': 'Ahri.png', 'sprite': 'champion0.png'...</td>\n",
              "      <td>['Mage', 'Assassin']</td>\n",
              "      <td>마나</td>\n",
              "      <td>{'hp': 526, 'hpperlevel': 92, 'mp': 418, 'mppe...</td>\n",
              "      <td>3</td>\n",
              "      <td>4</td>\n",
              "      <td>8</td>\n",
              "      <td>5</td>\n",
              "      <td>526.0</td>\n",
              "      <td>92</td>\n",
              "      <td>418.0</td>\n",
              "      <td>25.0</td>\n",
              "      <td>330</td>\n",
              "      <td>21</td>\n",
              "      <td>3.50</td>\n",
              "      <td>30.0</td>\n",
              "      <td>0.50</td>\n",
              "      <td>550</td>\n",
              "      <td>5.50</td>\n",
              "      <td>0.60</td>\n",
              "      <td>8.000</td>\n",
              "      <td>0.8</td>\n",
              "      <td>0</td>\n",
              "      <td>0</td>\n",
              "      <td>53.0</td>\n",
              "      <td>3.00</td>\n",
              "      <td>2.000</td>\n",
              "      <td>0.668</td>\n",
              "      <td>[{'id': '103000', 'num': 0, 'name': 'default',...</td>\n",
              "      <td>룬테라가 가진 잠재력과 선천적으로 연결된 아리는 마법을 순수한 에너지의 구체로 변환...</td>\n",
              "      <td>['스킬을 연속으로 쓸 때 매혹으로 시작하면 현혹의 구슬과 여우불의 적중률이 크게 ...</td>\n",
              "      <td>['아리는 궁극기 혼령 질주가 없으면 생존력이 극도로 낮아집니다.', '미니언 뒤에...</td>\n",
              "      <td>[{'id': 'AhriOrbofDeception', 'name': '현혹의 구슬'...</td>\n",
              "      <td>{'name': '정기 흡수', 'description': '아리가 9명의 적에게 ...</td>\n",
              "      <td>[]</td>\n",
              "      <td>{'id': 'AhriOrbofDeception', 'name': '현혹의 구슬',...</td>\n",
              "      <td>{'id': 'AhriFoxFire', 'name': '여우불', 'descript...</td>\n",
              "      <td>{'id': 'AhriSeduce', 'name': '매혹', 'descriptio...</td>\n",
              "      <td>{'id': 'AhriTumble', 'name': '혼령 질주', 'descrip...</td>\n",
              "    </tr>\n",
              "    <tr>\n",
              "      <th>2</th>\n",
              "      <td>2</td>\n",
              "      <td>11.17.1</td>\n",
              "      <td>Akali</td>\n",
              "      <td>84</td>\n",
              "      <td>아칼리</td>\n",
              "      <td>섬기는 이 없는 암살자</td>\n",
              "      <td>킨코우 결사단과 그림자의 권이라는 지위를 버린 아칼리는 아이오니아인들에게 필요한 강...</td>\n",
              "      <td>{'attack': 5, 'defense': 3, 'magic': 8, 'diffi...</td>\n",
              "      <td>{'full': 'Akali.png', 'sprite': 'champion0.png...</td>\n",
              "      <td>['Assassin']</td>\n",
              "      <td>기력</td>\n",
              "      <td>{'hp': 500, 'hpperlevel': 105, 'mp': 200, 'mpp...</td>\n",
              "      <td>5</td>\n",
              "      <td>3</td>\n",
              "      <td>8</td>\n",
              "      <td>7</td>\n",
              "      <td>500.0</td>\n",
              "      <td>105</td>\n",
              "      <td>200.0</td>\n",
              "      <td>0.0</td>\n",
              "      <td>345</td>\n",
              "      <td>23</td>\n",
              "      <td>3.50</td>\n",
              "      <td>37.0</td>\n",
              "      <td>1.25</td>\n",
              "      <td>125</td>\n",
              "      <td>8.00</td>\n",
              "      <td>0.50</td>\n",
              "      <td>50.000</td>\n",
              "      <td>0.0</td>\n",
              "      <td>0</td>\n",
              "      <td>0</td>\n",
              "      <td>62.0</td>\n",
              "      <td>3.30</td>\n",
              "      <td>3.200</td>\n",
              "      <td>0.625</td>\n",
              "      <td>[{'id': '84000', 'num': 0, 'name': 'default', ...</td>\n",
              "      <td>킨코우 결사단과 그림자의 권이라는 지위를 버린 아칼리는 아이오니아인들에게 필요한 강...</td>\n",
              "      <td>['아칼리는 체력이 낮은 챔피언을 처치하는 데 뛰어납니다. 아군이 먼저 공격하기를 ...</td>\n",
              "      <td>['아칼리는 황혼의 장막 안에 숨어도 광역 스킬에 영향을 받을 수 있습니다. 이 경...</td>\n",
              "      <td>[{'id': 'AkaliQ', 'name': '오연투척검', 'descriptio...</td>\n",
              "      <td>{'name': '암살자의 표식', 'description': '스킬 공격으로 챔피...</td>\n",
              "      <td>[]</td>\n",
              "      <td>{'id': 'AkaliQ', 'name': '오연투척검', 'description...</td>\n",
              "      <td>{'id': 'AkaliW', 'name': '황혼의 장막', 'descriptio...</td>\n",
              "      <td>{'id': 'AkaliE', 'name': '표창곡예', 'description'...</td>\n",
              "      <td>{'id': 'AkaliR', 'name': '무결처형', 'description'...</td>\n",
              "    </tr>\n",
              "    <tr>\n",
              "      <th>3</th>\n",
              "      <td>3</td>\n",
              "      <td>11.17.1</td>\n",
              "      <td>Akshan</td>\n",
              "      <td>166</td>\n",
              "      <td>아크샨</td>\n",
              "      <td>떠도는 감시자</td>\n",
              "      <td>상반신을 드러낸 아크샨은 위험에 직면하면 눈썹을 치켜올리며 당당한 카리스마, 정의로...</td>\n",
              "      <td>{'attack': 0, 'defense': 0, 'magic': 0, 'diffi...</td>\n",
              "      <td>{'full': 'Akshan.png', 'sprite': 'champion0.pn...</td>\n",
              "      <td>['Marksman', 'Assassin']</td>\n",
              "      <td>마나</td>\n",
              "      <td>{'hp': 560, 'hpperlevel': 90, 'mp': 350, 'mppe...</td>\n",
              "      <td>0</td>\n",
              "      <td>0</td>\n",
              "      <td>0</td>\n",
              "      <td>0</td>\n",
              "      <td>560.0</td>\n",
              "      <td>90</td>\n",
              "      <td>350.0</td>\n",
              "      <td>40.0</td>\n",
              "      <td>330</td>\n",
              "      <td>26</td>\n",
              "      <td>3.00</td>\n",
              "      <td>30.0</td>\n",
              "      <td>0.50</td>\n",
              "      <td>500</td>\n",
              "      <td>3.75</td>\n",
              "      <td>0.65</td>\n",
              "      <td>8.175</td>\n",
              "      <td>0.7</td>\n",
              "      <td>0</td>\n",
              "      <td>0</td>\n",
              "      <td>52.0</td>\n",
              "      <td>3.50</td>\n",
              "      <td>4.000</td>\n",
              "      <td>0.638</td>\n",
              "      <td>[{'id': '166000', 'num': 0, 'name': 'default',...</td>\n",
              "      <td>상반신을 드러낸 아크샨은 위험에 직면하면 눈썹을 치켜올리며 당당한 카리스마, 정의로...</td>\n",
              "      <td>[\"상반신을 드러낸 아크샨은 위험에 직면하면 눈썹을 치켜올리며 당당한 카리스마, 정...</td>\n",
              "      <td>[]</td>\n",
              "      <td>[{'id': 'AkshanQ', 'name': '복수의 부메랑', 'descrip...</td>\n",
              "      <td>{'name': '비열한 싸움', 'description': '아크샨의 기본 공격 ...</td>\n",
              "      <td>[]</td>\n",
              "      <td>{'id': 'AkshanQ', 'name': '복수의 부메랑', 'descript...</td>\n",
              "      <td>{'id': 'AkshanW', 'name': '악당 처단', 'descriptio...</td>\n",
              "      <td>{'id': 'AkshanE', 'name': '영웅의 비상', 'descripti...</td>\n",
              "      <td>{'id': 'AkshanR', 'name': '인과응보', 'description...</td>\n",
              "    </tr>\n",
              "    <tr>\n",
              "      <th>4</th>\n",
              "      <td>4</td>\n",
              "      <td>11.17.1</td>\n",
              "      <td>Alistar</td>\n",
              "      <td>12</td>\n",
              "      <td>알리스타</td>\n",
              "      <td>미노타우로스</td>\n",
              "      <td>비할 데 없이 강력한 전사라는 평판이 자자한 알리스타는 녹서스 제국에게 부족 전체가...</td>\n",
              "      <td>{'attack': 6, 'defense': 9, 'magic': 5, 'diffi...</td>\n",
              "      <td>{'full': 'Alistar.png', 'sprite': 'champion0.p...</td>\n",
              "      <td>['Tank', 'Support']</td>\n",
              "      <td>마나</td>\n",
              "      <td>{'hp': 600, 'hpperlevel': 106, 'mp': 350, 'mpp...</td>\n",
              "      <td>6</td>\n",
              "      <td>9</td>\n",
              "      <td>5</td>\n",
              "      <td>7</td>\n",
              "      <td>600.0</td>\n",
              "      <td>106</td>\n",
              "      <td>350.0</td>\n",
              "      <td>40.0</td>\n",
              "      <td>330</td>\n",
              "      <td>44</td>\n",
              "      <td>3.50</td>\n",
              "      <td>32.0</td>\n",
              "      <td>1.25</td>\n",
              "      <td>125</td>\n",
              "      <td>8.50</td>\n",
              "      <td>0.85</td>\n",
              "      <td>8.500</td>\n",
              "      <td>0.8</td>\n",
              "      <td>0</td>\n",
              "      <td>0</td>\n",
              "      <td>62.0</td>\n",
              "      <td>3.75</td>\n",
              "      <td>2.125</td>\n",
              "      <td>0.625</td>\n",
              "      <td>[{'id': '12000', 'num': 0, 'name': 'default', ...</td>\n",
              "      <td>비할 데 없이 강력한 전사라는 평판이 자자한 알리스타는 녹서스 제국에게 부족 전체가...</td>\n",
              "      <td>['분쇄를 사용하면 박치기를 사용하기 좋은 위치를 잡을 수 있습니다.', '알리스타...</td>\n",
              "      <td>['알리스타는 방해 효과 스킬을 많이 가지고 있지만 매우 튼튼합니다. 방어력이 약한...</td>\n",
              "      <td>[{'id': 'Pulverize', 'name': '분쇄', 'descriptio...</td>\n",
              "      <td>{'name': '승리의 포효', 'description': '근처에서 적이 죽거나...</td>\n",
              "      <td>[]</td>\n",
              "      <td>{'id': 'Pulverize', 'name': '분쇄', 'description...</td>\n",
              "      <td>{'id': 'Headbutt', 'name': '박치기', 'description...</td>\n",
              "      <td>{'id': 'AlistarE', 'name': '짓밟기', 'description...</td>\n",
              "      <td>{'id': 'FerociousHowl', 'name': '꺾을 수 없는 의지', ...</td>\n",
              "    </tr>\n",
              "  </tbody>\n",
              "</table>\n",
              "</div>"
            ],
            "text/plain": [
              "   Unnamed: 0  ...                                             skillR\n",
              "0           0  ...  {'id': 'AatroxR', 'name': '세계의 종결자', 'descript...\n",
              "1           1  ...  {'id': 'AhriTumble', 'name': '혼령 질주', 'descrip...\n",
              "2           2  ...  {'id': 'AkaliR', 'name': '무결처형', 'description'...\n",
              "3           3  ...  {'id': 'AkshanR', 'name': '인과응보', 'description...\n",
              "4           4  ...  {'id': 'FerociousHowl', 'name': '꺾을 수 없는 의지', ...\n",
              "\n",
              "[5 rows x 47 columns]"
            ]
          },
          "metadata": {},
          "execution_count": 2
        }
      ]
    },
    {
      "cell_type": "code",
      "metadata": {
        "colab": {
          "base_uri": "https://localhost:8080/",
          "height": 423
        },
        "id": "EGeOTKDHvxtF",
        "outputId": "b83e4785-81de-4055-f941-6f4bbd6546ed"
      },
      "source": [
        "champ_info[29:30]"
      ],
      "execution_count": 3,
      "outputs": [
        {
          "output_type": "execute_result",
          "data": {
            "text/html": [
              "<div>\n",
              "<style scoped>\n",
              "    .dataframe tbody tr th:only-of-type {\n",
              "        vertical-align: middle;\n",
              "    }\n",
              "\n",
              "    .dataframe tbody tr th {\n",
              "        vertical-align: top;\n",
              "    }\n",
              "\n",
              "    .dataframe thead th {\n",
              "        text-align: right;\n",
              "    }\n",
              "</style>\n",
              "<table border=\"1\" class=\"dataframe\">\n",
              "  <thead>\n",
              "    <tr style=\"text-align: right;\">\n",
              "      <th></th>\n",
              "      <th>Unnamed: 0</th>\n",
              "      <th>version</th>\n",
              "      <th>id</th>\n",
              "      <th>key</th>\n",
              "      <th>name</th>\n",
              "      <th>title</th>\n",
              "      <th>blurb</th>\n",
              "      <th>info</th>\n",
              "      <th>image</th>\n",
              "      <th>tags</th>\n",
              "      <th>partype</th>\n",
              "      <th>stats</th>\n",
              "      <th>attack</th>\n",
              "      <th>defense</th>\n",
              "      <th>magic</th>\n",
              "      <th>difficulty</th>\n",
              "      <th>hp</th>\n",
              "      <th>hpperlevel</th>\n",
              "      <th>mp</th>\n",
              "      <th>mpperlevel</th>\n",
              "      <th>movespeed</th>\n",
              "      <th>armor</th>\n",
              "      <th>armorperlevel</th>\n",
              "      <th>spellblock</th>\n",
              "      <th>spellblockperlevel</th>\n",
              "      <th>attackrange</th>\n",
              "      <th>hpregen</th>\n",
              "      <th>hpregenperlevel</th>\n",
              "      <th>mpregen</th>\n",
              "      <th>mpregenperlevel</th>\n",
              "      <th>crit</th>\n",
              "      <th>critperlevel</th>\n",
              "      <th>attackdamage</th>\n",
              "      <th>attackdamageperlevel</th>\n",
              "      <th>attackspeedperlevel</th>\n",
              "      <th>attackspeed</th>\n",
              "      <th>skins</th>\n",
              "      <th>lore</th>\n",
              "      <th>allytips</th>\n",
              "      <th>enemytips</th>\n",
              "      <th>spells</th>\n",
              "      <th>passive</th>\n",
              "      <th>recommended</th>\n",
              "      <th>skillQ</th>\n",
              "      <th>skillW</th>\n",
              "      <th>skillE</th>\n",
              "      <th>skillR</th>\n",
              "    </tr>\n",
              "  </thead>\n",
              "  <tbody>\n",
              "    <tr>\n",
              "      <th>29</th>\n",
              "      <td>29</td>\n",
              "      <td>11.17.1</td>\n",
              "      <td>Fiddlesticks</td>\n",
              "      <td>9</td>\n",
              "      <td>피들스틱</td>\n",
              "      <td>오래된 공포</td>\n",
              "      <td>룬테라에 무시무시한 고대의 무언가가 깨어났다. 시간을 초월한 공포의 존재 피들스틱은...</td>\n",
              "      <td>{'attack': 2, 'defense': 3, 'magic': 9, 'diffi...</td>\n",
              "      <td>{'full': 'Fiddlesticks.png', 'sprite': 'champi...</td>\n",
              "      <td>['Mage', 'Support']</td>\n",
              "      <td>마나</td>\n",
              "      <td>{'hp': 580.4, 'hpperlevel': 92, 'mp': 500, 'mp...</td>\n",
              "      <td>2</td>\n",
              "      <td>3</td>\n",
              "      <td>9</td>\n",
              "      <td>9</td>\n",
              "      <td>580.4</td>\n",
              "      <td>92</td>\n",
              "      <td>500.0</td>\n",
              "      <td>28.0</td>\n",
              "      <td>335</td>\n",
              "      <td>34</td>\n",
              "      <td>3.5</td>\n",
              "      <td>30.0</td>\n",
              "      <td>0.5</td>\n",
              "      <td>480</td>\n",
              "      <td>5.5</td>\n",
              "      <td>0.6</td>\n",
              "      <td>8.0</td>\n",
              "      <td>0.8</td>\n",
              "      <td>0</td>\n",
              "      <td>0</td>\n",
              "      <td>55.36</td>\n",
              "      <td>2.63</td>\n",
              "      <td>2.11</td>\n",
              "      <td>0.625</td>\n",
              "      <td>[{'id': '9000', 'num': 0, 'name': 'default', '...</td>\n",
              "      <td>룬테라에 무시무시한 고대의 무언가가 깨어났다. 시간을 초월한 공포의 존재 피들스틱은...</td>\n",
              "      <td>[]</td>\n",
              "      <td>[]</td>\n",
              "      <td>[{'id': 'FiddleSticksQ', 'name': '공포', 'descri...</td>\n",
              "      <td>{'name': '무해한 허수아비', 'description': '피들스틱의 장신구...</td>\n",
              "      <td>[]</td>\n",
              "      <td>{'id': 'FiddleSticksQ', 'name': '공포', 'descrip...</td>\n",
              "      <td>{'id': 'FiddleSticksW', 'name': '풍작', 'descrip...</td>\n",
              "      <td>{'id': 'FiddleSticksE', 'name': '수확', 'descrip...</td>\n",
              "      <td>{'id': 'FiddleSticksR', 'name': '까마귀 폭풍', 'des...</td>\n",
              "    </tr>\n",
              "  </tbody>\n",
              "</table>\n",
              "</div>"
            ],
            "text/plain": [
              "    Unnamed: 0  ...                                             skillR\n",
              "29          29  ...  {'id': 'FiddleSticksR', 'name': '까마귀 폭풍', 'des...\n",
              "\n",
              "[1 rows x 47 columns]"
            ]
          },
          "metadata": {},
          "execution_count": 3
        }
      ]
    },
    {
      "cell_type": "code",
      "metadata": {
        "id": "uiihMuXZv22X"
      },
      "source": [
        "from ast import literal_eval\n",
        "\n",
        "champ_info['skillQ'] = champ_info['skillQ'].apply(literal_eval)\n",
        "champ_info['skillW'] = champ_info['skillW'].apply(literal_eval)\n",
        "champ_info['skillE'] = champ_info['skillE'].apply(literal_eval)\n",
        "champ_info['skillR'] = champ_info['skillR'].apply(literal_eval)"
      ],
      "execution_count": 4,
      "outputs": []
    },
    {
      "cell_type": "code",
      "metadata": {
        "id": "y6yeJTWAwEDC"
      },
      "source": [
        "champ_q = []\n",
        "for i in range(len(champ_info)):\n",
        "    champ_q.append(champ_info['skillQ'][i]['description'])"
      ],
      "execution_count": 5,
      "outputs": []
    },
    {
      "cell_type": "code",
      "metadata": {
        "id": "u4WW9-qrwG2i"
      },
      "source": [
        "champ_w = []\n",
        "for i in range(len(champ_info)):\n",
        "    champ_w.append(champ_info['skillW'][i]['description'])"
      ],
      "execution_count": 6,
      "outputs": []
    },
    {
      "cell_type": "code",
      "metadata": {
        "id": "9wyrqmE3wG0L"
      },
      "source": [
        "champ_e = []\n",
        "for i in range(len(champ_info)):\n",
        "    champ_e.append(champ_info['skillE'][i]['description'])"
      ],
      "execution_count": 7,
      "outputs": []
    },
    {
      "cell_type": "code",
      "metadata": {
        "id": "-RCOCCCFwGxw"
      },
      "source": [
        "champ_r = []\n",
        "for i in range(len(champ_info)):\n",
        "    champ_r.append(champ_info['skillR'][i]['description'])"
      ],
      "execution_count": 8,
      "outputs": []
    },
    {
      "cell_type": "code",
      "metadata": {
        "id": "iRv15yY4wGvg"
      },
      "source": [
        "champ_summ = champ_info[['id','key','tags']]"
      ],
      "execution_count": 9,
      "outputs": []
    },
    {
      "cell_type": "code",
      "metadata": {
        "id": "Wo8K69N3wGtK"
      },
      "source": [
        "champ_summ['champ_q'] = champ_q\n",
        "champ_summ['champ_w'] = champ_w\n",
        "champ_summ['champ_e'] = champ_e\n",
        "champ_summ['champ_r'] = champ_r\n",
        "champ_summ['champ_all_skill'] = champ_summ['champ_q']+champ_summ['champ_w']+champ_summ['champ_e']+champ_summ['champ_r']"
      ],
      "execution_count": 10,
      "outputs": []
    },
    {
      "cell_type": "code",
      "metadata": {
        "id": "y4gpgw9twGq3"
      },
      "source": [
        "champ_tips = champ_info[['key','allytips','enemytips']]"
      ],
      "execution_count": 11,
      "outputs": []
    },
    {
      "cell_type": "code",
      "metadata": {
        "id": "sOqs-QyNwGoT"
      },
      "source": [
        "champ_tips['allytips'] = champ_tips['allytips'].apply(literal_eval)\n",
        "champ_tips['enemytips'] = champ_tips['enemytips'].apply(literal_eval)"
      ],
      "execution_count": 12,
      "outputs": []
    },
    {
      "cell_type": "code",
      "metadata": {
        "id": "gNDSU229wGlx"
      },
      "source": [
        "champ_tips['all_tips'] = champ_tips['enemytips'] + champ_tips['allytips']"
      ],
      "execution_count": 13,
      "outputs": []
    },
    {
      "cell_type": "code",
      "metadata": {
        "id": "KNtSVoBiwc9y"
      },
      "source": [
        "champ_summ['all_tips'] = champ_tips['all_tips']"
      ],
      "execution_count": 14,
      "outputs": []
    },
    {
      "cell_type": "code",
      "metadata": {
        "id": "gnFB9gk8wc7W"
      },
      "source": [
        "champ_summ['all_tips_literal'] = champ_summ['all_tips'].apply(lambda x : (' ').join(x))"
      ],
      "execution_count": 15,
      "outputs": []
    },
    {
      "cell_type": "code",
      "metadata": {
        "id": "XYscwANIwc4r"
      },
      "source": [
        "champ_summ['all_discribtion'] = champ_summ['all_tips_literal'] + champ_summ['champ_all_skill']"
      ],
      "execution_count": 16,
      "outputs": []
    },
    {
      "cell_type": "code",
      "metadata": {
        "id": "NMLr0s9Uwc1W"
      },
      "source": [
        "from sklearn.feature_extraction.text import CountVectorizer\n",
        "from sklearn.metrics.pairwise import cosine_similarity\n"
      ],
      "execution_count": 17,
      "outputs": []
    },
    {
      "cell_type": "code",
      "metadata": {
        "colab": {
          "base_uri": "https://localhost:8080/",
          "height": 1000
        },
        "id": "GnPa_ak_wcwb",
        "outputId": "53c80c4e-b58c-4edb-8a74-7c538f5b6878"
      },
      "source": [
        "pip install pororo"
      ],
      "execution_count": 18,
      "outputs": [
        {
          "output_type": "stream",
          "name": "stdout",
          "text": [
            "Collecting pororo\n",
            "  Downloading pororo-0.4.2-py3-none-any.whl (256 kB)\n",
            "\u001b[K     |████████████████████████████████| 256 kB 5.4 MB/s \n",
            "\u001b[?25hCollecting nltk>=3.5\n",
            "  Downloading nltk-3.6.2-py3-none-any.whl (1.5 MB)\n",
            "\u001b[K     |████████████████████████████████| 1.5 MB 37.7 MB/s \n",
            "\u001b[?25hCollecting whoosh\n",
            "  Downloading Whoosh-2.7.4-py2.py3-none-any.whl (468 kB)\n",
            "\u001b[K     |████████████████████████████████| 468 kB 48.3 MB/s \n",
            "\u001b[?25hCollecting kss\n",
            "  Downloading kss-3.2.0.tar.gz (42.4 MB)\n",
            "\u001b[K     |████████████████████████████████| 42.4 MB 53 kB/s \n",
            "\u001b[?25hCollecting torchvision==0.7.0\n",
            "  Downloading torchvision-0.7.0-cp37-cp37m-manylinux1_x86_64.whl (5.9 MB)\n",
            "\u001b[K     |████████████████████████████████| 5.9 MB 13.1 MB/s \n",
            "\u001b[?25hCollecting torch==1.6.0\n",
            "  Downloading torch-1.6.0-cp37-cp37m-manylinux1_x86_64.whl (748.8 MB)\n",
            "\u001b[K     |████████████████████████████████| 748.8 MB 9.8 kB/s \n",
            "\u001b[?25hCollecting transformers>=4.0.0\n",
            "  Downloading transformers-4.10.2-py3-none-any.whl (2.8 MB)\n",
            "\u001b[K     |████████████████████████████████| 2.8 MB 26.4 MB/s \n",
            "\u001b[?25hCollecting g2p-en\n",
            "  Downloading g2p_en-2.1.0-py3-none-any.whl (3.1 MB)\n",
            "\u001b[K     |████████████████████████████████| 3.1 MB 51.3 MB/s \n",
            "\u001b[?25hRequirement already satisfied: pillow>=4.1.1 in /usr/local/lib/python3.7/dist-packages (from pororo) (7.1.2)\n",
            "Collecting fairseq>=0.10.2\n",
            "  Downloading fairseq-0.10.2-cp37-cp37m-manylinux1_x86_64.whl (1.7 MB)\n",
            "\u001b[K     |████████████████████████████████| 1.7 MB 33.3 MB/s \n",
            "\u001b[?25hCollecting word2word\n",
            "  Downloading word2word-1.0.0-py3-none-any.whl (31 kB)\n",
            "Collecting wget\n",
            "  Downloading wget-3.2.zip (10 kB)\n",
            "Requirement already satisfied: joblib in /usr/local/lib/python3.7/dist-packages (from pororo) (1.0.1)\n",
            "Collecting marisa-trie\n",
            "  Downloading marisa_trie-0.7.7-cp37-cp37m-manylinux_2_5_x86_64.manylinux1_x86_64.manylinux_2_12_x86_64.manylinux2010_x86_64.whl (1.2 MB)\n",
            "\u001b[K     |████████████████████████████████| 1.2 MB 48.3 MB/s \n",
            "\u001b[?25hRequirement already satisfied: lxml in /usr/local/lib/python3.7/dist-packages (from pororo) (4.2.6)\n",
            "Collecting sentence-transformers>=0.4.1.2\n",
            "  Downloading sentence-transformers-2.0.0.tar.gz (85 kB)\n",
            "\u001b[K     |████████████████████████████████| 85 kB 3.5 MB/s \n",
            "\u001b[?25hRequirement already satisfied: future in /usr/local/lib/python3.7/dist-packages (from torch==1.6.0->pororo) (0.16.0)\n",
            "Requirement already satisfied: numpy in /usr/local/lib/python3.7/dist-packages (from torch==1.6.0->pororo) (1.19.5)\n",
            "Requirement already satisfied: cffi in /usr/local/lib/python3.7/dist-packages (from fairseq>=0.10.2->pororo) (1.14.6)\n",
            "Requirement already satisfied: regex in /usr/local/lib/python3.7/dist-packages (from fairseq>=0.10.2->pororo) (2019.12.20)\n",
            "Collecting dataclasses\n",
            "  Downloading dataclasses-0.6-py3-none-any.whl (14 kB)\n",
            "Collecting hydra-core\n",
            "  Downloading hydra_core-1.1.1-py3-none-any.whl (145 kB)\n",
            "\u001b[K     |████████████████████████████████| 145 kB 52.6 MB/s \n",
            "\u001b[?25hCollecting sacrebleu>=1.4.12\n",
            "  Downloading sacrebleu-2.0.0-py3-none-any.whl (90 kB)\n",
            "\u001b[K     |████████████████████████████████| 90 kB 6.9 MB/s \n",
            "\u001b[?25hRequirement already satisfied: cython in /usr/local/lib/python3.7/dist-packages (from fairseq>=0.10.2->pororo) (0.29.24)\n",
            "Requirement already satisfied: tqdm in /usr/local/lib/python3.7/dist-packages (from fairseq>=0.10.2->pororo) (4.62.0)\n",
            "Requirement already satisfied: click in /usr/local/lib/python3.7/dist-packages (from nltk>=3.5->pororo) (7.1.2)\n",
            "Collecting colorama\n",
            "  Downloading colorama-0.4.4-py2.py3-none-any.whl (16 kB)\n",
            "Collecting portalocker\n",
            "  Downloading portalocker-2.3.2-py2.py3-none-any.whl (15 kB)\n",
            "Requirement already satisfied: tabulate>=0.8.9 in /usr/local/lib/python3.7/dist-packages (from sacrebleu>=1.4.12->fairseq>=0.10.2->pororo) (0.8.9)\n",
            "Requirement already satisfied: scikit-learn in /usr/local/lib/python3.7/dist-packages (from sentence-transformers>=0.4.1.2->pororo) (0.22.2.post1)\n",
            "Requirement already satisfied: scipy in /usr/local/lib/python3.7/dist-packages (from sentence-transformers>=0.4.1.2->pororo) (1.4.1)\n",
            "Collecting sentencepiece\n",
            "  Downloading sentencepiece-0.1.96-cp37-cp37m-manylinux_2_17_x86_64.manylinux2014_x86_64.whl (1.2 MB)\n",
            "\u001b[K     |████████████████████████████████| 1.2 MB 43.0 MB/s \n",
            "\u001b[?25hCollecting huggingface-hub\n",
            "  Downloading huggingface_hub-0.0.16-py3-none-any.whl (50 kB)\n",
            "\u001b[K     |████████████████████████████████| 50 kB 5.4 MB/s \n",
            "\u001b[?25hRequirement already satisfied: requests in /usr/local/lib/python3.7/dist-packages (from transformers>=4.0.0->pororo) (2.23.0)\n",
            "Collecting sacremoses\n",
            "  Downloading sacremoses-0.0.45-py3-none-any.whl (895 kB)\n",
            "\u001b[K     |████████████████████████████████| 895 kB 57.9 MB/s \n",
            "\u001b[?25hRequirement already satisfied: packaging in /usr/local/lib/python3.7/dist-packages (from transformers>=4.0.0->pororo) (21.0)\n",
            "Collecting pyyaml>=5.1\n",
            "  Downloading PyYAML-5.4.1-cp37-cp37m-manylinux1_x86_64.whl (636 kB)\n",
            "\u001b[K     |████████████████████████████████| 636 kB 51.2 MB/s \n",
            "\u001b[?25hCollecting tokenizers<0.11,>=0.10.1\n",
            "  Downloading tokenizers-0.10.3-cp37-cp37m-manylinux_2_5_x86_64.manylinux1_x86_64.manylinux_2_12_x86_64.manylinux2010_x86_64.whl (3.3 MB)\n",
            "\u001b[K     |████████████████████████████████| 3.3 MB 36.2 MB/s \n",
            "\u001b[?25hRequirement already satisfied: filelock in /usr/local/lib/python3.7/dist-packages (from transformers>=4.0.0->pororo) (3.0.12)\n",
            "Requirement already satisfied: importlib-metadata in /usr/local/lib/python3.7/dist-packages (from transformers>=4.0.0->pororo) (4.6.4)\n",
            "Requirement already satisfied: typing-extensions in /usr/local/lib/python3.7/dist-packages (from huggingface-hub->sentence-transformers>=0.4.1.2->pororo) (3.7.4.3)\n",
            "Requirement already satisfied: pyparsing>=2.0.2 in /usr/local/lib/python3.7/dist-packages (from packaging->transformers>=4.0.0->pororo) (2.4.7)\n",
            "Requirement already satisfied: pycparser in /usr/local/lib/python3.7/dist-packages (from cffi->fairseq>=0.10.2->pororo) (2.20)\n",
            "Requirement already satisfied: inflect>=0.3.1 in /usr/local/lib/python3.7/dist-packages (from g2p-en->pororo) (2.1.0)\n",
            "Collecting distance>=0.1.3\n",
            "  Downloading Distance-0.1.3.tar.gz (180 kB)\n",
            "\u001b[K     |████████████████████████████████| 180 kB 55.7 MB/s \n",
            "\u001b[?25hCollecting omegaconf==2.1.*\n",
            "  Downloading omegaconf-2.1.1-py3-none-any.whl (74 kB)\n",
            "\u001b[K     |████████████████████████████████| 74 kB 2.8 MB/s \n",
            "\u001b[?25hRequirement already satisfied: importlib-resources in /usr/local/lib/python3.7/dist-packages (from hydra-core->fairseq>=0.10.2->pororo) (5.2.2)\n",
            "Collecting antlr4-python3-runtime==4.8\n",
            "  Downloading antlr4-python3-runtime-4.8.tar.gz (112 kB)\n",
            "\u001b[K     |████████████████████████████████| 112 kB 61.6 MB/s \n",
            "\u001b[?25hRequirement already satisfied: zipp>=0.5 in /usr/local/lib/python3.7/dist-packages (from importlib-metadata->transformers>=4.0.0->pororo) (3.5.0)\n",
            "Collecting emoji\n",
            "  Downloading emoji-1.4.2.tar.gz (184 kB)\n",
            "\u001b[K     |████████████████████████████████| 184 kB 43.2 MB/s \n",
            "\u001b[?25hRequirement already satisfied: setuptools in /usr/local/lib/python3.7/dist-packages (from marisa-trie->pororo) (57.4.0)\n",
            "Requirement already satisfied: idna<3,>=2.5 in /usr/local/lib/python3.7/dist-packages (from requests->transformers>=4.0.0->pororo) (2.10)\n",
            "Requirement already satisfied: urllib3!=1.25.0,!=1.25.1,<1.26,>=1.21.1 in /usr/local/lib/python3.7/dist-packages (from requests->transformers>=4.0.0->pororo) (1.24.3)\n",
            "Requirement already satisfied: certifi>=2017.4.17 in /usr/local/lib/python3.7/dist-packages (from requests->transformers>=4.0.0->pororo) (2021.5.30)\n",
            "Requirement already satisfied: chardet<4,>=3.0.2 in /usr/local/lib/python3.7/dist-packages (from requests->transformers>=4.0.0->pororo) (3.0.4)\n",
            "Requirement already satisfied: six in /usr/local/lib/python3.7/dist-packages (from sacremoses->transformers>=4.0.0->pororo) (1.15.0)\n",
            "Building wheels for collected packages: sentence-transformers, distance, antlr4-python3-runtime, kss, emoji, wget\n",
            "  Building wheel for sentence-transformers (setup.py) ... \u001b[?25l\u001b[?25hdone\n",
            "  Created wheel for sentence-transformers: filename=sentence_transformers-2.0.0-py3-none-any.whl size=126710 sha256=f2303466a6f4d2108a3893129f58d82eb99c0554d198301bb907c1c1c658c584\n",
            "  Stored in directory: /root/.cache/pip/wheels/d1/c1/0f/faafd427f705c4b012274ba60d9a91d75830306811e1355293\n",
            "  Building wheel for distance (setup.py) ... \u001b[?25l\u001b[?25hdone\n",
            "  Created wheel for distance: filename=Distance-0.1.3-py3-none-any.whl size=16275 sha256=ea07b9fe22cc0cbe11f0131e366c2c20262ceaca0dc0ae1feb0f03087e9950a6\n",
            "  Stored in directory: /root/.cache/pip/wheels/b2/10/1b/96fca621a1be378e2fe104cfb0d160bb6cdf3d04a3d35266cc\n",
            "  Building wheel for antlr4-python3-runtime (setup.py) ... \u001b[?25l\u001b[?25hdone\n",
            "  Created wheel for antlr4-python3-runtime: filename=antlr4_python3_runtime-4.8-py3-none-any.whl size=141230 sha256=94ff16ba3f547d414bc1434fad54baa302488b6fdc78c7f63900a2869c495634\n",
            "  Stored in directory: /root/.cache/pip/wheels/ca/33/b7/336836125fc9bb4ceaa4376d8abca10ca8bc84ddc824baea6c\n",
            "  Building wheel for kss (setup.py) ... \u001b[?25l\u001b[?25hdone\n",
            "  Created wheel for kss: filename=kss-3.2.0-py3-none-any.whl size=42447995 sha256=565fa7c249a4c14e4984d9b44e4b55f12ccab7cd8ba34576358d41f3d58354b3\n",
            "  Stored in directory: /root/.cache/pip/wheels/a1/47/9c/a5f83b5ab6096e3c4a33643fc553b26098c23e72b6539b86f4\n",
            "  Building wheel for emoji (setup.py) ... \u001b[?25l\u001b[?25hdone\n",
            "  Created wheel for emoji: filename=emoji-1.4.2-py3-none-any.whl size=186469 sha256=f8d7a24a38cb2cd21a58a7fc4f8ef7ed1bcbbeac6beaeffd5bc3f09c153e9677\n",
            "  Stored in directory: /root/.cache/pip/wheels/e4/61/e7/2fc1ac8f306848fc66c6c013ab511f0a39ef4b1825b11363b2\n",
            "  Building wheel for wget (setup.py) ... \u001b[?25l\u001b[?25hdone\n",
            "  Created wheel for wget: filename=wget-3.2-py3-none-any.whl size=9672 sha256=b0211585029bd7cb37433a2cee255a10f7bc46c558938125bd8334c8598e5a1d\n",
            "  Stored in directory: /root/.cache/pip/wheels/a1/b6/7c/0e63e34eb06634181c63adacca38b79ff8f35c37e3c13e3c02\n",
            "Successfully built sentence-transformers distance antlr4-python3-runtime kss emoji wget\n",
            "Installing collected packages: pyyaml, antlr4-python3-runtime, torch, tokenizers, sacremoses, portalocker, omegaconf, huggingface-hub, colorama, wget, transformers, torchvision, sentencepiece, sacrebleu, nltk, hydra-core, emoji, distance, dataclasses, word2word, whoosh, sentence-transformers, marisa-trie, kss, g2p-en, fairseq, pororo\n",
            "  Attempting uninstall: pyyaml\n",
            "    Found existing installation: PyYAML 3.13\n",
            "    Uninstalling PyYAML-3.13:\n",
            "      Successfully uninstalled PyYAML-3.13\n",
            "  Attempting uninstall: torch\n",
            "    Found existing installation: torch 1.9.0+cu102\n",
            "    Uninstalling torch-1.9.0+cu102:\n",
            "      Successfully uninstalled torch-1.9.0+cu102\n",
            "  Attempting uninstall: torchvision\n",
            "    Found existing installation: torchvision 0.10.0+cu102\n",
            "    Uninstalling torchvision-0.10.0+cu102:\n",
            "      Successfully uninstalled torchvision-0.10.0+cu102\n",
            "  Attempting uninstall: nltk\n",
            "    Found existing installation: nltk 3.2.5\n",
            "    Uninstalling nltk-3.2.5:\n",
            "      Successfully uninstalled nltk-3.2.5\n",
            "\u001b[31mERROR: pip's dependency resolver does not currently take into account all the packages that are installed. This behaviour is the source of the following dependency conflicts.\n",
            "torchtext 0.10.0 requires torch==1.9.0, but you have torch 1.6.0 which is incompatible.\u001b[0m\n",
            "Successfully installed antlr4-python3-runtime-4.8 colorama-0.4.4 dataclasses-0.6 distance-0.1.3 emoji-1.4.2 fairseq-0.10.2 g2p-en-2.1.0 huggingface-hub-0.0.16 hydra-core-1.1.1 kss-3.2.0 marisa-trie-0.7.7 nltk-3.6.2 omegaconf-2.1.1 pororo-0.4.2 portalocker-2.3.2 pyyaml-5.4.1 sacrebleu-2.0.0 sacremoses-0.0.45 sentence-transformers-2.0.0 sentencepiece-0.1.96 tokenizers-0.10.3 torch-1.6.0 torchvision-0.7.0 transformers-4.10.2 wget-3.2 whoosh-2.7.4 word2word-1.0.0\n"
          ]
        },
        {
          "output_type": "display_data",
          "data": {
            "application/vnd.colab-display-data+json": {
              "pip_warning": {
                "packages": [
                  "pydevd_plugins"
                ]
              }
            }
          },
          "metadata": {}
        }
      ]
    },
    {
      "cell_type": "code",
      "metadata": {
        "colab": {
          "base_uri": "https://localhost:8080/"
        },
        "id": "HqwVjealyDdL",
        "outputId": "831c1a98-0c59-4404-d53e-3ce73cc77b73"
      },
      "source": [
        "from pororo import Pororo"
      ],
      "execution_count": 19,
      "outputs": [
        {
          "output_type": "stream",
          "name": "stderr",
          "text": [
            "[Korean Sentence Splitter]: Initializing Kss...\n"
          ]
        }
      ]
    },
    {
      "cell_type": "code",
      "metadata": {
        "id": "eeQD6jnbwcr7"
      },
      "source": [
        "def make_it_simm(df,column,champ_name):\n",
        "    count_vect = CountVectorizer(min_df=0, ngram_range=(1,2))\n",
        "    clean_discrib_mat = count_vect.fit_transform(df[column])\n",
        "    all_discribtion_sim = cosine_similarity(clean_discrib_mat, clean_discrib_mat)\n",
        "    all_discribtion_sorted_ind = all_discribtion_sim.argsort()[:, ::-1]\n",
        "    all_discribtion_sim_sorted_ind = np.sort(all_discribtion_sim, axis=1)[:,::-1]\n",
        "    # titile 데이터 추출\n",
        "    champ_skill = df[df['id'] == champ_name]\n",
        "    \n",
        "    # title_name에 해당되는 데이터프레임 index 객체를 배열로 반환하고\n",
        "    # 유사도 순으로 top_n개의 index 추출\n",
        "    champ_index = champ_skill.index.values\n",
        "    similar_indexes = all_discribtion_sorted_ind[champ_index, :(10)]\n",
        "    print(all_discribtion_sim_sorted_ind[champ_index, :(10)])\n",
        "    # 추출된 top_n index 출력 \n",
        "    # 2차원 데이터를 1차원 array로 변환\n",
        "    print(similar_indexes)\n",
        "    similar_indexes = similar_indexes.reshape(-1)\n",
        "    \n",
        "    # index에 해당되는 데이터프레임 반환\n",
        "    return df.loc[similar_indexes][['id', 'tags']]\n"
      ],
      "execution_count": 20,
      "outputs": []
    },
    {
      "cell_type": "code",
      "metadata": {
        "colab": {
          "base_uri": "https://localhost:8080/",
          "height": 410
        },
        "id": "ImtRhyShwcpF",
        "outputId": "a39fbb14-6dc0-4212-89e9-12e12b6dc160"
      },
      "source": [
        "make_it_simm(champ_summ, 'all_discribtion', 'DrMundo')"
      ],
      "execution_count": 21,
      "outputs": [
        {
          "output_type": "stream",
          "name": "stdout",
          "text": [
            "[[1.         0.28964925 0.23284118 0.22905312 0.21819097 0.20818397\n",
            "  0.20653373 0.20293173 0.20262051 0.1954839 ]]\n",
            "[[ 24  66  92 102 141  38  39  98 145  13]]\n"
          ]
        },
        {
          "output_type": "execute_result",
          "data": {
            "text/html": [
              "<div>\n",
              "<style scoped>\n",
              "    .dataframe tbody tr th:only-of-type {\n",
              "        vertical-align: middle;\n",
              "    }\n",
              "\n",
              "    .dataframe tbody tr th {\n",
              "        vertical-align: top;\n",
              "    }\n",
              "\n",
              "    .dataframe thead th {\n",
              "        text-align: right;\n",
              "    }\n",
              "</style>\n",
              "<table border=\"1\" class=\"dataframe\">\n",
              "  <thead>\n",
              "    <tr style=\"text-align: right;\">\n",
              "      <th></th>\n",
              "      <th>id</th>\n",
              "      <th>tags</th>\n",
              "    </tr>\n",
              "  </thead>\n",
              "  <tbody>\n",
              "    <tr>\n",
              "      <th>24</th>\n",
              "      <td>DrMundo</td>\n",
              "      <td>['Fighter', 'Tank']</td>\n",
              "    </tr>\n",
              "    <tr>\n",
              "      <th>66</th>\n",
              "      <td>Lillia</td>\n",
              "      <td>['Fighter', 'Mage']</td>\n",
              "    </tr>\n",
              "    <tr>\n",
              "      <th>92</th>\n",
              "      <td>Qiyana</td>\n",
              "      <td>['Assassin', 'Fighter']</td>\n",
              "    </tr>\n",
              "    <tr>\n",
              "      <th>102</th>\n",
              "      <td>Ryze</td>\n",
              "      <td>['Mage', 'Fighter']</td>\n",
              "    </tr>\n",
              "    <tr>\n",
              "      <th>141</th>\n",
              "      <td>Volibear</td>\n",
              "      <td>['Fighter', 'Tank']</td>\n",
              "    </tr>\n",
              "    <tr>\n",
              "      <th>38</th>\n",
              "      <td>Gwen</td>\n",
              "      <td>['Fighter', 'Assassin']</td>\n",
              "    </tr>\n",
              "    <tr>\n",
              "      <th>39</th>\n",
              "      <td>Hecarim</td>\n",
              "      <td>['Fighter', 'Tank']</td>\n",
              "    </tr>\n",
              "    <tr>\n",
              "      <th>98</th>\n",
              "      <td>Renekton</td>\n",
              "      <td>['Fighter', 'Tank']</td>\n",
              "    </tr>\n",
              "    <tr>\n",
              "      <th>145</th>\n",
              "      <td>XinZhao</td>\n",
              "      <td>['Fighter', 'Assassin']</td>\n",
              "    </tr>\n",
              "    <tr>\n",
              "      <th>13</th>\n",
              "      <td>Blitzcrank</td>\n",
              "      <td>['Tank', 'Fighter']</td>\n",
              "    </tr>\n",
              "  </tbody>\n",
              "</table>\n",
              "</div>"
            ],
            "text/plain": [
              "             id                     tags\n",
              "24      DrMundo      ['Fighter', 'Tank']\n",
              "66       Lillia      ['Fighter', 'Mage']\n",
              "92       Qiyana  ['Assassin', 'Fighter']\n",
              "102        Ryze      ['Mage', 'Fighter']\n",
              "141    Volibear      ['Fighter', 'Tank']\n",
              "38         Gwen  ['Fighter', 'Assassin']\n",
              "39      Hecarim      ['Fighter', 'Tank']\n",
              "98     Renekton      ['Fighter', 'Tank']\n",
              "145     XinZhao  ['Fighter', 'Assassin']\n",
              "13   Blitzcrank      ['Tank', 'Fighter']"
            ]
          },
          "metadata": {},
          "execution_count": 21
        }
      ]
    },
    {
      "cell_type": "markdown",
      "metadata": {
        "id": "wI4iS1MWyE-7"
      },
      "source": [
        "## 뽀로로"
      ]
    },
    {
      "cell_type": "code",
      "metadata": {
        "colab": {
          "base_uri": "https://localhost:8080/"
        },
        "id": "-cmZEv1O2FGL",
        "outputId": "dea313e9-9f47-4618-fff2-0b17981b936d"
      },
      "source": [
        "pip install konlpy   "
      ],
      "execution_count": 22,
      "outputs": [
        {
          "output_type": "stream",
          "name": "stdout",
          "text": [
            "Collecting konlpy\n",
            "  Downloading konlpy-0.5.2-py2.py3-none-any.whl (19.4 MB)\n",
            "\u001b[K     |████████████████████████████████| 19.4 MB 1.2 MB/s \n",
            "\u001b[?25hRequirement already satisfied: colorama in /usr/local/lib/python3.7/dist-packages (from konlpy) (0.4.4)\n",
            "Collecting beautifulsoup4==4.6.0\n",
            "  Downloading beautifulsoup4-4.6.0-py3-none-any.whl (86 kB)\n",
            "\u001b[K     |████████████████████████████████| 86 kB 4.5 MB/s \n",
            "\u001b[?25hRequirement already satisfied: numpy>=1.6 in /usr/local/lib/python3.7/dist-packages (from konlpy) (1.19.5)\n",
            "Requirement already satisfied: tweepy>=3.7.0 in /usr/local/lib/python3.7/dist-packages (from konlpy) (3.10.0)\n",
            "Collecting JPype1>=0.7.0\n",
            "  Downloading JPype1-1.3.0-cp37-cp37m-manylinux_2_5_x86_64.manylinux1_x86_64.whl (448 kB)\n",
            "\u001b[K     |████████████████████████████████| 448 kB 61.5 MB/s \n",
            "\u001b[?25hRequirement already satisfied: lxml>=4.1.0 in /usr/local/lib/python3.7/dist-packages (from konlpy) (4.2.6)\n",
            "Requirement already satisfied: typing-extensions in /usr/local/lib/python3.7/dist-packages (from JPype1>=0.7.0->konlpy) (3.7.4.3)\n",
            "Requirement already satisfied: six>=1.10.0 in /usr/local/lib/python3.7/dist-packages (from tweepy>=3.7.0->konlpy) (1.15.0)\n",
            "Requirement already satisfied: requests[socks]>=2.11.1 in /usr/local/lib/python3.7/dist-packages (from tweepy>=3.7.0->konlpy) (2.23.0)\n",
            "Requirement already satisfied: requests-oauthlib>=0.7.0 in /usr/local/lib/python3.7/dist-packages (from tweepy>=3.7.0->konlpy) (1.3.0)\n",
            "Requirement already satisfied: oauthlib>=3.0.0 in /usr/local/lib/python3.7/dist-packages (from requests-oauthlib>=0.7.0->tweepy>=3.7.0->konlpy) (3.1.1)\n",
            "Requirement already satisfied: chardet<4,>=3.0.2 in /usr/local/lib/python3.7/dist-packages (from requests[socks]>=2.11.1->tweepy>=3.7.0->konlpy) (3.0.4)\n",
            "Requirement already satisfied: certifi>=2017.4.17 in /usr/local/lib/python3.7/dist-packages (from requests[socks]>=2.11.1->tweepy>=3.7.0->konlpy) (2021.5.30)\n",
            "Requirement already satisfied: idna<3,>=2.5 in /usr/local/lib/python3.7/dist-packages (from requests[socks]>=2.11.1->tweepy>=3.7.0->konlpy) (2.10)\n",
            "Requirement already satisfied: urllib3!=1.25.0,!=1.25.1,<1.26,>=1.21.1 in /usr/local/lib/python3.7/dist-packages (from requests[socks]>=2.11.1->tweepy>=3.7.0->konlpy) (1.24.3)\n",
            "Requirement already satisfied: PySocks!=1.5.7,>=1.5.6 in /usr/local/lib/python3.7/dist-packages (from requests[socks]>=2.11.1->tweepy>=3.7.0->konlpy) (1.7.1)\n",
            "Installing collected packages: JPype1, beautifulsoup4, konlpy\n",
            "  Attempting uninstall: beautifulsoup4\n",
            "    Found existing installation: beautifulsoup4 4.6.3\n",
            "    Uninstalling beautifulsoup4-4.6.3:\n",
            "      Successfully uninstalled beautifulsoup4-4.6.3\n",
            "Successfully installed JPype1-1.3.0 beautifulsoup4-4.6.0 konlpy-0.5.2\n"
          ]
        }
      ]
    },
    {
      "cell_type": "code",
      "metadata": {
        "colab": {
          "base_uri": "https://localhost:8080/"
        },
        "id": "Y_F5HFrA2d1p",
        "outputId": "c79c7839-cd69-4201-fb10-baf5b122377a"
      },
      "source": [
        "import nltk\n",
        "nltk.download('averaged_perceptron_tagger')"
      ],
      "execution_count": 23,
      "outputs": [
        {
          "output_type": "stream",
          "name": "stderr",
          "text": [
            "[nltk_data] Downloading package averaged_perceptron_tagger to\n",
            "[nltk_data]     /root/nltk_data...\n",
            "[nltk_data]   Unzipping taggers/averaged_perceptron_tagger.zip.\n"
          ]
        },
        {
          "output_type": "execute_result",
          "data": {
            "text/plain": [
              "True"
            ]
          },
          "metadata": {},
          "execution_count": 23
        }
      ]
    },
    {
      "cell_type": "code",
      "metadata": {
        "colab": {
          "base_uri": "https://localhost:8080/"
        },
        "id": "z0aiHZ1U1cGJ",
        "outputId": "5197a6e1-d842-467f-910e-aa9f41fefbf1"
      },
      "source": [
        "## 명사\n",
        "import nltk\n",
        "nltk.download('punkt')\n",
        "from konlpy.tag import Kkma\n",
        "from konlpy.utils import pprint\n",
        "from konlpy.tag import Hannanum"
      ],
      "execution_count": 24,
      "outputs": [
        {
          "output_type": "stream",
          "name": "stderr",
          "text": [
            "[nltk_data] Downloading package punkt to /root/nltk_data...\n",
            "[nltk_data]   Unzipping tokenizers/punkt.zip.\n"
          ]
        }
      ]
    },
    {
      "cell_type": "code",
      "metadata": {
        "id": "AnpF4nKlx8Xo"
      },
      "source": [
        "def only_NN(column):\n",
        "\n",
        "    this_champ_NN = []\n",
        "    for i in range(len(champ_summ)):\n",
        "        champ_NN = ' '\n",
        "        for word in nltk.tag.pos_tag(nltk.tokenize.word_tokenize(champ_summ[column][i])): #명사\n",
        "            # if word[1] in ['NN', 'NNS', 'NNP', 'NNPS']:\n",
        "            #     champ_NN = champ_NN + ' ' + word[0]\n",
        "            if word[1] in ['NN', 'NNS', 'NNP', 'NNPS', 'VB', 'VBD', 'VBG', 'VBN', 'VBP', 'VBZ', 'JJ', 'JJR', 'JJS']: #명사, 동사, 형용사\n",
        "                champ_NN = champ_NN + ' ' + word[0]\n",
        "        this_champ_NN.append(champ_NN)\n",
        "    return this_champ_NN"
      ],
      "execution_count": 25,
      "outputs": []
    },
    {
      "cell_type": "code",
      "metadata": {
        "id": "gfCx1YV-x8UR"
      },
      "source": [
        "def really_only_NN(column):\n",
        "\n",
        "    this_champ_NN = []\n",
        "    for i in range(len(champ_summ)):\n",
        "        champ_NN = ' '\n",
        "        for word in nltk.tag.pos_tag(nltk.tokenize.word_tokenize(champ_summ[column][i])): #명사\n",
        "            # if word[1] in ['NN', 'NNS', 'NNP', 'NNPS']:\n",
        "            #     champ_NN = champ_NN + ' ' + word[0]\n",
        "            if word[1] in ['NN', 'NNS', 'NNP', 'NNPS']: #명사, 동사, 형용사\n",
        "                champ_NN = champ_NN + ' ' + word[0]\n",
        "        this_champ_NN.append(champ_NN)\n",
        "    return this_champ_NN"
      ],
      "execution_count": 26,
      "outputs": []
    },
    {
      "cell_type": "code",
      "metadata": {
        "id": "TFBalpy2x8Ps"
      },
      "source": [
        "def only_VB(column):\n",
        "\n",
        "    this_champ_NN = []\n",
        "    for i in range(len(champ_summ)):\n",
        "        champ_NN = ' '\n",
        "        for word in nltk.tag.pos_tag(nltk.tokenize.word_tokenize(champ_summ[column][i])): \n",
        "            # if word[1] in ['NN', 'NNS', 'NNP', 'NNPS']:\n",
        "            #     champ_NN = champ_NN + ' ' + word[0]\n",
        "            if word[1] in ['VB', 'VBD', 'VBG', 'VBN', 'VBP', 'VBZ', 'JJ', 'JJR', 'JJS']: # 동사, 형용사\n",
        "                champ_NN = champ_NN + ' ' + word[0]\n",
        "        this_champ_NN.append(champ_NN)\n",
        "    return this_champ_NN"
      ],
      "execution_count": 27,
      "outputs": []
    },
    {
      "cell_type": "code",
      "metadata": {
        "id": "7hRnKp40z4Op"
      },
      "source": [
        "def who_are_u(champ_key):\n",
        "    return champ_summ['id'][champ_key]"
      ],
      "execution_count": 28,
      "outputs": []
    },
    {
      "cell_type": "code",
      "metadata": {
        "id": "3k1UEwD1x8M9"
      },
      "source": [
        "def pororo_good_update(column, champ_name):\n",
        "    # clean_discrib = []\n",
        "    cands = []\n",
        "    for i in range(len(champ_summ[column])):\n",
        "        cands.append(champ_summ[column][i])\n",
        "    se = Pororo(task=\"sentence_embedding\", lang=\"ko\")\n",
        "\n",
        "    key = champ_summ[champ_summ['id'] == champ_name].index.values[0]\n",
        "    discrib = champ_summ[column][key]\n",
        "    # 랭킹 매기는 부분\n",
        "    ranking_1 = se.find_similar_sentences(discrib, cands)['ranking'][:6]\n",
        "    # 잘 보여주기 부분\n",
        "    ranking_list = pd.DataFrame()\n",
        "    champ_rank = []\n",
        "    how_close = []\n",
        "    how = []\n",
        "    for i in range(len(ranking_1)):\n",
        "        name_1 = who_are_u(ranking_1[i][0])\n",
        "        champ_rank.append(name_1)\n",
        "        how_close.append(ranking_1[i][2])\n",
        "        how.append(ranking_1[i][1])\n",
        "    ranking_list['champ_rank'] = champ_rank\n",
        "    ranking_list['how_close'] = how_close\n",
        "    ranking_list['how'] = how\n",
        "        \n",
        "    return ranking_list"
      ],
      "execution_count": 29,
      "outputs": []
    },
    {
      "cell_type": "code",
      "metadata": {
        "colab": {
          "base_uri": "https://localhost:8080/"
        },
        "id": "Lcxz7C5tzRI6",
        "outputId": "9dae5cd9-e463-40a9-9a0c-4d75d9bcecba"
      },
      "source": [
        "champ_summ.info()"
      ],
      "execution_count": 30,
      "outputs": [
        {
          "output_type": "stream",
          "name": "stdout",
          "text": [
            "<class 'pandas.core.frame.DataFrame'>\n",
            "RangeIndex: 156 entries, 0 to 155\n",
            "Data columns (total 11 columns):\n",
            " #   Column            Non-Null Count  Dtype \n",
            "---  ------            --------------  ----- \n",
            " 0   id                156 non-null    object\n",
            " 1   key               156 non-null    int64 \n",
            " 2   tags              156 non-null    object\n",
            " 3   champ_q           156 non-null    object\n",
            " 4   champ_w           156 non-null    object\n",
            " 5   champ_e           156 non-null    object\n",
            " 6   champ_r           156 non-null    object\n",
            " 7   champ_all_skill   156 non-null    object\n",
            " 8   all_tips          156 non-null    object\n",
            " 9   all_tips_literal  156 non-null    object\n",
            " 10  all_discribtion   156 non-null    object\n",
            "dtypes: int64(1), object(10)\n",
            "memory usage: 13.5+ KB\n"
          ]
        }
      ]
    },
    {
      "cell_type": "code",
      "metadata": {
        "colab": {
          "base_uri": "https://localhost:8080/",
          "height": 255
        },
        "id": "wTAfvjOXx8Jd",
        "outputId": "cd2e777a-bb41-42fc-c322-1984b12ea468"
      },
      "source": [
        "pororo_good_update('all_discribtion', 'Leona')"
      ],
      "execution_count": 31,
      "outputs": [
        {
          "output_type": "stream",
          "name": "stderr",
          "text": [
            "\n",
            "\n",
            "\n"
          ]
        },
        {
          "output_type": "execute_result",
          "data": {
            "text/html": [
              "<div>\n",
              "<style scoped>\n",
              "    .dataframe tbody tr th:only-of-type {\n",
              "        vertical-align: middle;\n",
              "    }\n",
              "\n",
              "    .dataframe tbody tr th {\n",
              "        vertical-align: top;\n",
              "    }\n",
              "\n",
              "    .dataframe thead th {\n",
              "        text-align: right;\n",
              "    }\n",
              "</style>\n",
              "<table border=\"1\" class=\"dataframe\">\n",
              "  <thead>\n",
              "    <tr style=\"text-align: right;\">\n",
              "      <th></th>\n",
              "      <th>champ_rank</th>\n",
              "      <th>how_close</th>\n",
              "      <th>how</th>\n",
              "    </tr>\n",
              "  </thead>\n",
              "  <tbody>\n",
              "    <tr>\n",
              "      <th>0</th>\n",
              "      <td>Leona</td>\n",
              "      <td>1.00</td>\n",
              "      <td>레오나가 일식을 사용하면 피해를 받기 전에 3초 동안 도망칠 시간이 있습니다. 흑점...</td>\n",
              "    </tr>\n",
              "    <tr>\n",
              "      <th>1</th>\n",
              "      <td>Pantheon</td>\n",
              "      <td>0.81</td>\n",
              "      <td>판테온이 방패 돌격을 사용하면 정면의 공격으로부터 무적이 됩니다. 따라서 뒤에서 공...</td>\n",
              "    </tr>\n",
              "    <tr>\n",
              "      <th>2</th>\n",
              "      <td>Aatrox</td>\n",
              "      <td>0.79</td>\n",
              "      <td>아트록스의 공격은 미리 표시되므로 공격이 예상되는 지역에서 벗어나세요. 아트록스를 ...</td>\n",
              "    </tr>\n",
              "    <tr>\n",
              "      <th>3</th>\n",
              "      <td>Gwen</td>\n",
              "      <td>0.79</td>\n",
              "      <td>그웬의 신성한 안개 장막은 그웬을 한 번만 따라오며 이후 그웬이 이동하면 사라집니다...</td>\n",
              "    </tr>\n",
              "    <tr>\n",
              "      <th>4</th>\n",
              "      <td>Fizz</td>\n",
              "      <td>0.78</td>\n",
              "      <td>피즈가 강화된 스킬을 사용한 후에는 몇 초 동안 기본 공격이 강력해지니 삼지창이 빛...</td>\n",
              "    </tr>\n",
              "  </tbody>\n",
              "</table>\n",
              "</div>"
            ],
            "text/plain": [
              "  champ_rank  how_close                                                how\n",
              "0      Leona       1.00  레오나가 일식을 사용하면 피해를 받기 전에 3초 동안 도망칠 시간이 있습니다. 흑점...\n",
              "1   Pantheon       0.81  판테온이 방패 돌격을 사용하면 정면의 공격으로부터 무적이 됩니다. 따라서 뒤에서 공...\n",
              "2     Aatrox       0.79  아트록스의 공격은 미리 표시되므로 공격이 예상되는 지역에서 벗어나세요. 아트록스를 ...\n",
              "3       Gwen       0.79  그웬의 신성한 안개 장막은 그웬을 한 번만 따라오며 이후 그웬이 이동하면 사라집니다...\n",
              "4       Fizz       0.78  피즈가 강화된 스킬을 사용한 후에는 몇 초 동안 기본 공격이 강력해지니 삼지창이 빛..."
            ]
          },
          "metadata": {},
          "execution_count": 31
        }
      ]
    },
    {
      "cell_type": "code",
      "metadata": {
        "colab": {
          "base_uri": "https://localhost:8080/",
          "height": 204
        },
        "id": "rBbwf65fwcl8",
        "outputId": "a4cf0099-60b7-4546-c6d0-ccd0aae0dbd7"
      },
      "source": [
        "pororo_good_update('all_discribtion', 'Yasuo')"
      ],
      "execution_count": 32,
      "outputs": [
        {
          "output_type": "execute_result",
          "data": {
            "text/html": [
              "<div>\n",
              "<style scoped>\n",
              "    .dataframe tbody tr th:only-of-type {\n",
              "        vertical-align: middle;\n",
              "    }\n",
              "\n",
              "    .dataframe tbody tr th {\n",
              "        vertical-align: top;\n",
              "    }\n",
              "\n",
              "    .dataframe thead th {\n",
              "        text-align: right;\n",
              "    }\n",
              "</style>\n",
              "<table border=\"1\" class=\"dataframe\">\n",
              "  <thead>\n",
              "    <tr style=\"text-align: right;\">\n",
              "      <th></th>\n",
              "      <th>champ_rank</th>\n",
              "      <th>how_close</th>\n",
              "      <th>how</th>\n",
              "    </tr>\n",
              "  </thead>\n",
              "  <tbody>\n",
              "    <tr>\n",
              "      <th>0</th>\n",
              "      <td>Yasuo</td>\n",
              "      <td>1.00</td>\n",
              "      <td>강철 폭풍의 폭은 아주 좁습니다. 가능하면 옆으로 피하세요. 야스오가 강철 폭풍을 ...</td>\n",
              "    </tr>\n",
              "    <tr>\n",
              "      <th>1</th>\n",
              "      <td>Zilean</td>\n",
              "      <td>0.78</td>\n",
              "      <td>질리언의 이동 속도에 맞출 수 있다면 그의 궁극기가 끝날 때까지 기다렸다가 결정타를...</td>\n",
              "    </tr>\n",
              "    <tr>\n",
              "      <th>2</th>\n",
              "      <td>Viego</td>\n",
              "      <td>0.75</td>\n",
              "      <td>비에고의 유령 칼날이 적중 시 현재 체력에 비례한 추가 피해를 입히고 최근 비에고의...</td>\n",
              "    </tr>\n",
              "    <tr>\n",
              "      <th>3</th>\n",
              "      <td>Lissandra</td>\n",
              "      <td>0.73</td>\n",
              "      <td>리산드라가 얼음갈퀴 길을 활용해 이동하지 못하도록 막으려면, 이 스킬을 재시전하기 ...</td>\n",
              "    </tr>\n",
              "    <tr>\n",
              "      <th>4</th>\n",
              "      <td>Katarina</td>\n",
              "      <td>0.73</td>\n",
              "      <td>카타리나는 마법 피해를 주로 입히므로 카타리나가 공격력을 올려주는 아이템을 가지고 ...</td>\n",
              "    </tr>\n",
              "  </tbody>\n",
              "</table>\n",
              "</div>"
            ],
            "text/plain": [
              "  champ_rank  how_close                                                how\n",
              "0      Yasuo       1.00  강철 폭풍의 폭은 아주 좁습니다. 가능하면 옆으로 피하세요. 야스오가 강철 폭풍을 ...\n",
              "1     Zilean       0.78  질리언의 이동 속도에 맞출 수 있다면 그의 궁극기가 끝날 때까지 기다렸다가 결정타를...\n",
              "2      Viego       0.75  비에고의 유령 칼날이 적중 시 현재 체력에 비례한 추가 피해를 입히고 최근 비에고의...\n",
              "3  Lissandra       0.73  리산드라가 얼음갈퀴 길을 활용해 이동하지 못하도록 막으려면, 이 스킬을 재시전하기 ...\n",
              "4   Katarina       0.73  카타리나는 마법 피해를 주로 입히므로 카타리나가 공격력을 올려주는 아이템을 가지고 ..."
            ]
          },
          "metadata": {},
          "execution_count": 32
        }
      ]
    },
    {
      "cell_type": "code",
      "metadata": {
        "colab": {
          "base_uri": "https://localhost:8080/",
          "height": 204
        },
        "id": "t61Y7kSy0PNq",
        "outputId": "5d0efad7-8da3-4c07-e7cb-8a3277706d55"
      },
      "source": [
        "clean_all_skill = only_NN('champ_all_skill')\n",
        "champ_summ['clean_all_skill'] = clean_all_skill\n",
        "pororo_good_update('clean_all_skill', 'Leona')"
      ],
      "execution_count": 33,
      "outputs": [
        {
          "output_type": "execute_result",
          "data": {
            "text/html": [
              "<div>\n",
              "<style scoped>\n",
              "    .dataframe tbody tr th:only-of-type {\n",
              "        vertical-align: middle;\n",
              "    }\n",
              "\n",
              "    .dataframe tbody tr th {\n",
              "        vertical-align: top;\n",
              "    }\n",
              "\n",
              "    .dataframe thead th {\n",
              "        text-align: right;\n",
              "    }\n",
              "</style>\n",
              "<table border=\"1\" class=\"dataframe\">\n",
              "  <thead>\n",
              "    <tr style=\"text-align: right;\">\n",
              "      <th></th>\n",
              "      <th>champ_rank</th>\n",
              "      <th>how_close</th>\n",
              "      <th>how</th>\n",
              "    </tr>\n",
              "  </thead>\n",
              "  <tbody>\n",
              "    <tr>\n",
              "      <th>0</th>\n",
              "      <td>Leona</td>\n",
              "      <td>1.00</td>\n",
              "      <td>레오나가 다음 기본 공격에서 방패를 사용하여 대상에게 추가 마법 피해를 입히고 기절...</td>\n",
              "    </tr>\n",
              "    <tr>\n",
              "      <th>1</th>\n",
              "      <td>Darius</td>\n",
              "      <td>0.76</td>\n",
              "      <td>다리우스가 도끼를 큰 원의 형태로 휘두릅니다 도끼날에 맞은 적들은 도끼자루에 맞은 ...</td>\n",
              "    </tr>\n",
              "    <tr>\n",
              "      <th>2</th>\n",
              "      <td>Alistar</td>\n",
              "      <td>0.75</td>\n",
              "      <td>알리스타가 땅을 내리쳐 주변의 적에게 피해를 입히고 공중에 띄웁니다.알리스타가 적에...</td>\n",
              "    </tr>\n",
              "    <tr>\n",
              "      <th>3</th>\n",
              "      <td>Viktor</td>\n",
              "      <td>0.72</td>\n",
              "      <td>빅토르가 대상에게 강력한 에너지를 주입해 마법 피해를 주고 보호막이 생기면서 다음번...</td>\n",
              "    </tr>\n",
              "    <tr>\n",
              "      <th>4</th>\n",
              "      <td>Jinx</td>\n",
              "      <td>0.71</td>\n",
              "      <td>징크스는 '빵야빵야 미니건과 '생선대가리 로켓 런처 중에서 원하는 것을 선택하여 기...</td>\n",
              "    </tr>\n",
              "  </tbody>\n",
              "</table>\n",
              "</div>"
            ],
            "text/plain": [
              "  champ_rank  how_close                                                how\n",
              "0      Leona       1.00  레오나가 다음 기본 공격에서 방패를 사용하여 대상에게 추가 마법 피해를 입히고 기절...\n",
              "1     Darius       0.76  다리우스가 도끼를 큰 원의 형태로 휘두릅니다 도끼날에 맞은 적들은 도끼자루에 맞은 ...\n",
              "2    Alistar       0.75  알리스타가 땅을 내리쳐 주변의 적에게 피해를 입히고 공중에 띄웁니다.알리스타가 적에...\n",
              "3     Viktor       0.72  빅토르가 대상에게 강력한 에너지를 주입해 마법 피해를 주고 보호막이 생기면서 다음번...\n",
              "4       Jinx       0.71  징크스는 '빵야빵야 미니건과 '생선대가리 로켓 런처 중에서 원하는 것을 선택하여 기..."
            ]
          },
          "metadata": {},
          "execution_count": 33
        }
      ]
    },
    {
      "cell_type": "markdown",
      "metadata": {
        "id": "TqwUObpD21h9"
      },
      "source": [
        "## 우선 nltk로 전처리 한 방법"
      ]
    },
    {
      "cell_type": "code",
      "metadata": {
        "colab": {
          "base_uri": "https://localhost:8080/",
          "height": 204
        },
        "id": "owPZRMok0PJ2",
        "outputId": "1b051db6-0575-4721-e285-03ac76b0a512"
      },
      "source": [
        "## 명사 , 동사, 형용사\n",
        "NN_skill = only_NN('champ_all_skill')\n",
        "champ_summ['NN_skill'] = NN_skill\n",
        "pororo_good_update('NN_skill', 'Leona')"
      ],
      "execution_count": 34,
      "outputs": [
        {
          "output_type": "execute_result",
          "data": {
            "text/html": [
              "<div>\n",
              "<style scoped>\n",
              "    .dataframe tbody tr th:only-of-type {\n",
              "        vertical-align: middle;\n",
              "    }\n",
              "\n",
              "    .dataframe tbody tr th {\n",
              "        vertical-align: top;\n",
              "    }\n",
              "\n",
              "    .dataframe thead th {\n",
              "        text-align: right;\n",
              "    }\n",
              "</style>\n",
              "<table border=\"1\" class=\"dataframe\">\n",
              "  <thead>\n",
              "    <tr style=\"text-align: right;\">\n",
              "      <th></th>\n",
              "      <th>champ_rank</th>\n",
              "      <th>how_close</th>\n",
              "      <th>how</th>\n",
              "    </tr>\n",
              "  </thead>\n",
              "  <tbody>\n",
              "    <tr>\n",
              "      <th>0</th>\n",
              "      <td>Leona</td>\n",
              "      <td>1.00</td>\n",
              "      <td>레오나가 다음 기본 공격에서 방패를 사용하여 대상에게 추가 마법 피해를 입히고 기절...</td>\n",
              "    </tr>\n",
              "    <tr>\n",
              "      <th>1</th>\n",
              "      <td>Darius</td>\n",
              "      <td>0.76</td>\n",
              "      <td>다리우스가 도끼를 큰 원의 형태로 휘두릅니다 도끼날에 맞은 적들은 도끼자루에 맞은 ...</td>\n",
              "    </tr>\n",
              "    <tr>\n",
              "      <th>2</th>\n",
              "      <td>Alistar</td>\n",
              "      <td>0.75</td>\n",
              "      <td>알리스타가 땅을 내리쳐 주변의 적에게 피해를 입히고 공중에 띄웁니다.알리스타가 적에...</td>\n",
              "    </tr>\n",
              "    <tr>\n",
              "      <th>3</th>\n",
              "      <td>Viktor</td>\n",
              "      <td>0.72</td>\n",
              "      <td>빅토르가 대상에게 강력한 에너지를 주입해 마법 피해를 주고 보호막이 생기면서 다음번...</td>\n",
              "    </tr>\n",
              "    <tr>\n",
              "      <th>4</th>\n",
              "      <td>Jinx</td>\n",
              "      <td>0.71</td>\n",
              "      <td>징크스는 '빵야빵야 미니건과 '생선대가리 로켓 런처 중에서 원하는 것을 선택하여 기...</td>\n",
              "    </tr>\n",
              "  </tbody>\n",
              "</table>\n",
              "</div>"
            ],
            "text/plain": [
              "  champ_rank  how_close                                                how\n",
              "0      Leona       1.00  레오나가 다음 기본 공격에서 방패를 사용하여 대상에게 추가 마법 피해를 입히고 기절...\n",
              "1     Darius       0.76  다리우스가 도끼를 큰 원의 형태로 휘두릅니다 도끼날에 맞은 적들은 도끼자루에 맞은 ...\n",
              "2    Alistar       0.75  알리스타가 땅을 내리쳐 주변의 적에게 피해를 입히고 공중에 띄웁니다.알리스타가 적에...\n",
              "3     Viktor       0.72  빅토르가 대상에게 강력한 에너지를 주입해 마법 피해를 주고 보호막이 생기면서 다음번...\n",
              "4       Jinx       0.71  징크스는 '빵야빵야 미니건과 '생선대가리 로켓 런처 중에서 원하는 것을 선택하여 기..."
            ]
          },
          "metadata": {},
          "execution_count": 34
        }
      ]
    },
    {
      "cell_type": "code",
      "metadata": {
        "colab": {
          "base_uri": "https://localhost:8080/",
          "height": 204
        },
        "id": "okK7ERlT0PHA",
        "outputId": "e4d5af75-bdf4-4527-d288-bed1811ff041"
      },
      "source": [
        "pororo_good_update('NN_skill', 'Yasuo')"
      ],
      "execution_count": 35,
      "outputs": [
        {
          "output_type": "execute_result",
          "data": {
            "text/html": [
              "<div>\n",
              "<style scoped>\n",
              "    .dataframe tbody tr th:only-of-type {\n",
              "        vertical-align: middle;\n",
              "    }\n",
              "\n",
              "    .dataframe tbody tr th {\n",
              "        vertical-align: top;\n",
              "    }\n",
              "\n",
              "    .dataframe thead th {\n",
              "        text-align: right;\n",
              "    }\n",
              "</style>\n",
              "<table border=\"1\" class=\"dataframe\">\n",
              "  <thead>\n",
              "    <tr style=\"text-align: right;\">\n",
              "      <th></th>\n",
              "      <th>champ_rank</th>\n",
              "      <th>how_close</th>\n",
              "      <th>how</th>\n",
              "    </tr>\n",
              "  </thead>\n",
              "  <tbody>\n",
              "    <tr>\n",
              "      <th>0</th>\n",
              "      <td>Yasuo</td>\n",
              "      <td>1.00</td>\n",
              "      <td>전방으로 내질러 일직선 상의 모든 적에게 피해를 입힙니다.적중 시 몇 초간 폭풍 구...</td>\n",
              "    </tr>\n",
              "    <tr>\n",
              "      <th>1</th>\n",
              "      <td>Yone</td>\n",
              "      <td>0.82</td>\n",
              "      <td>전방으로 검을 내질러 일직선상의 모든 적에게 피해를 입힙니다.적중 시 몇 초간 폭풍...</td>\n",
              "    </tr>\n",
              "    <tr>\n",
              "      <th>2</th>\n",
              "      <td>Jayce</td>\n",
              "      <td>0.81</td>\n",
              "      <td>해머 사용 시 공중으로 도약해 적들에게 물리 피해를 입히고 이동 속도를 감소시킵니다...</td>\n",
              "    </tr>\n",
              "    <tr>\n",
              "      <th>3</th>\n",
              "      <td>Jhin</td>\n",
              "      <td>0.80</td>\n",
              "      <td>진이 마법 폭탄을 적에게 던집니다 최대 네 명의 대상에게 적중하며 적을 처치할 때마...</td>\n",
              "    </tr>\n",
              "    <tr>\n",
              "      <th>4</th>\n",
              "      <td>Xerath</td>\n",
              "      <td>0.78</td>\n",
              "      <td>긴 사거리를 지닌 에너지 포를 쏘아 적중한 모든 적에게 마법 피해를 줍니다.비전 에...</td>\n",
              "    </tr>\n",
              "  </tbody>\n",
              "</table>\n",
              "</div>"
            ],
            "text/plain": [
              "  champ_rank  how_close                                                how\n",
              "0      Yasuo       1.00  전방으로 내질러 일직선 상의 모든 적에게 피해를 입힙니다.적중 시 몇 초간 폭풍 구...\n",
              "1       Yone       0.82  전방으로 검을 내질러 일직선상의 모든 적에게 피해를 입힙니다.적중 시 몇 초간 폭풍...\n",
              "2      Jayce       0.81  해머 사용 시 공중으로 도약해 적들에게 물리 피해를 입히고 이동 속도를 감소시킵니다...\n",
              "3       Jhin       0.80  진이 마법 폭탄을 적에게 던집니다 최대 네 명의 대상에게 적중하며 적을 처치할 때마...\n",
              "4     Xerath       0.78  긴 사거리를 지닌 에너지 포를 쏘아 적중한 모든 적에게 마법 피해를 줍니다.비전 에..."
            ]
          },
          "metadata": {},
          "execution_count": 35
        }
      ]
    },
    {
      "cell_type": "code",
      "metadata": {
        "colab": {
          "base_uri": "https://localhost:8080/",
          "height": 204
        },
        "id": "K6Zoa0dF0PDy",
        "outputId": "c4b4f7f7-0357-4b9f-ea76-0bdb349e36ef"
      },
      "source": [
        "# 진짜 명사만 돌림\n",
        "real_NN_skill = really_only_NN('champ_all_skill')\n",
        "champ_summ['real_NN_skill'] = real_NN_skill\n",
        "pororo_good_update('real_NN_skill', 'Leona')"
      ],
      "execution_count": 36,
      "outputs": [
        {
          "output_type": "execute_result",
          "data": {
            "text/html": [
              "<div>\n",
              "<style scoped>\n",
              "    .dataframe tbody tr th:only-of-type {\n",
              "        vertical-align: middle;\n",
              "    }\n",
              "\n",
              "    .dataframe tbody tr th {\n",
              "        vertical-align: top;\n",
              "    }\n",
              "\n",
              "    .dataframe thead th {\n",
              "        text-align: right;\n",
              "    }\n",
              "</style>\n",
              "<table border=\"1\" class=\"dataframe\">\n",
              "  <thead>\n",
              "    <tr style=\"text-align: right;\">\n",
              "      <th></th>\n",
              "      <th>champ_rank</th>\n",
              "      <th>how_close</th>\n",
              "      <th>how</th>\n",
              "    </tr>\n",
              "  </thead>\n",
              "  <tbody>\n",
              "    <tr>\n",
              "      <th>0</th>\n",
              "      <td>Leona</td>\n",
              "      <td>1.00</td>\n",
              "      <td>다음 기본 공격에서 방패를 사용하여 대상에게 추가 마법 피해를 입히고 기절시킵니다....</td>\n",
              "    </tr>\n",
              "    <tr>\n",
              "      <th>1</th>\n",
              "      <td>Darius</td>\n",
              "      <td>0.79</td>\n",
              "      <td>도끼를 큰 원의 형태로 휘두릅니다 적들은 도끼자루에 맞은 적들보다 더 큰 피해를 입...</td>\n",
              "    </tr>\n",
              "    <tr>\n",
              "      <th>2</th>\n",
              "      <td>Viktor</td>\n",
              "      <td>0.76</td>\n",
              "      <td>대상에게 강력한 에너지를 주입해 마법 피해를 주고 보호막이 생기면서 다음번 기본 공...</td>\n",
              "    </tr>\n",
              "    <tr>\n",
              "      <th>3</th>\n",
              "      <td>Alistar</td>\n",
              "      <td>0.75</td>\n",
              "      <td>땅을 내리쳐 주변의 적에게 피해를 입히고 공중에 띄웁니다.알리스타가 적에게 박치기를...</td>\n",
              "    </tr>\n",
              "    <tr>\n",
              "      <th>4</th>\n",
              "      <td>Rammus</td>\n",
              "      <td>0.74</td>\n",
              "      <td>공 모양으로 적을 향해 굴러가며 충돌 시 피해를 입히고 적의 이동 속도를 늦춥니다....</td>\n",
              "    </tr>\n",
              "  </tbody>\n",
              "</table>\n",
              "</div>"
            ],
            "text/plain": [
              "  champ_rank  how_close                                                how\n",
              "0      Leona       1.00  다음 기본 공격에서 방패를 사용하여 대상에게 추가 마법 피해를 입히고 기절시킵니다....\n",
              "1     Darius       0.79  도끼를 큰 원의 형태로 휘두릅니다 적들은 도끼자루에 맞은 적들보다 더 큰 피해를 입...\n",
              "2     Viktor       0.76  대상에게 강력한 에너지를 주입해 마법 피해를 주고 보호막이 생기면서 다음번 기본 공...\n",
              "3    Alistar       0.75  땅을 내리쳐 주변의 적에게 피해를 입히고 공중에 띄웁니다.알리스타가 적에게 박치기를...\n",
              "4     Rammus       0.74  공 모양으로 적을 향해 굴러가며 충돌 시 피해를 입히고 적의 이동 속도를 늦춥니다...."
            ]
          },
          "metadata": {},
          "execution_count": 36
        }
      ]
    },
    {
      "cell_type": "code",
      "metadata": {
        "colab": {
          "base_uri": "https://localhost:8080/",
          "height": 204
        },
        "id": "a3cDkqZ80PBD",
        "outputId": "bdd0aef5-6838-4efd-85ee-3815fedc0d82"
      },
      "source": [
        "pororo_good_update('real_NN_skill', 'Yasuo')"
      ],
      "execution_count": 37,
      "outputs": [
        {
          "output_type": "execute_result",
          "data": {
            "text/html": [
              "<div>\n",
              "<style scoped>\n",
              "    .dataframe tbody tr th:only-of-type {\n",
              "        vertical-align: middle;\n",
              "    }\n",
              "\n",
              "    .dataframe tbody tr th {\n",
              "        vertical-align: top;\n",
              "    }\n",
              "\n",
              "    .dataframe thead th {\n",
              "        text-align: right;\n",
              "    }\n",
              "</style>\n",
              "<table border=\"1\" class=\"dataframe\">\n",
              "  <thead>\n",
              "    <tr style=\"text-align: right;\">\n",
              "      <th></th>\n",
              "      <th>champ_rank</th>\n",
              "      <th>how_close</th>\n",
              "      <th>how</th>\n",
              "    </tr>\n",
              "  </thead>\n",
              "  <tbody>\n",
              "    <tr>\n",
              "      <th>0</th>\n",
              "      <td>Yasuo</td>\n",
              "      <td>1.00</td>\n",
              "      <td>내질러 일직선 상의 모든 적에게 피해를 입힙니다.적중 시 몇 초간 폭풍 구름 중첩됩...</td>\n",
              "    </tr>\n",
              "    <tr>\n",
              "      <th>1</th>\n",
              "      <td>Jayce</td>\n",
              "      <td>0.81</td>\n",
              "      <td>사용 시 도약해 적들에게 물리 피해를 입히고 이동 속도를 감소시킵니다.캐논 사용 시...</td>\n",
              "    </tr>\n",
              "    <tr>\n",
              "      <th>2</th>\n",
              "      <td>Yone</td>\n",
              "      <td>0.79</td>\n",
              "      <td>검을 내질러 일직선상의 모든 적에게 피해를 입힙니다.적중 시 몇 초간 폭풍 구름 중...</td>\n",
              "    </tr>\n",
              "    <tr>\n",
              "      <th>3</th>\n",
              "      <td>Kled</td>\n",
              "      <td>0.79</td>\n",
              "      <td>밧줄에 묶인 덫을 던져 적 챔피언에게 피해를 입히고 붙잡습니다 잠시 동안 근거리를 ...</td>\n",
              "    </tr>\n",
              "    <tr>\n",
              "      <th>4</th>\n",
              "      <td>Kayle</td>\n",
              "      <td>0.76</td>\n",
              "      <td>차원문을 열어 적을 관통하는 천상의 검을 소환합니다 모든 대상에게 피해를 입히고 이...</td>\n",
              "    </tr>\n",
              "  </tbody>\n",
              "</table>\n",
              "</div>"
            ],
            "text/plain": [
              "  champ_rank  how_close                                                how\n",
              "0      Yasuo       1.00  내질러 일직선 상의 모든 적에게 피해를 입힙니다.적중 시 몇 초간 폭풍 구름 중첩됩...\n",
              "1      Jayce       0.81  사용 시 도약해 적들에게 물리 피해를 입히고 이동 속도를 감소시킵니다.캐논 사용 시...\n",
              "2       Yone       0.79  검을 내질러 일직선상의 모든 적에게 피해를 입힙니다.적중 시 몇 초간 폭풍 구름 중...\n",
              "3       Kled       0.79  밧줄에 묶인 덫을 던져 적 챔피언에게 피해를 입히고 붙잡습니다 잠시 동안 근거리를 ...\n",
              "4      Kayle       0.76  차원문을 열어 적을 관통하는 천상의 검을 소환합니다 모든 대상에게 피해를 입히고 이..."
            ]
          },
          "metadata": {},
          "execution_count": 37
        }
      ]
    },
    {
      "cell_type": "code",
      "metadata": {
        "colab": {
          "base_uri": "https://localhost:8080/",
          "height": 204
        },
        "id": "5R1q0c750O-A",
        "outputId": "e7ed9bce-1d02-4b0d-dd95-4de5888abd01"
      },
      "source": [
        "# 동사 형용사\n",
        "VB_skill = only_VB('champ_all_skill')\n",
        "champ_summ['VB_skill'] = VB_skill\n",
        "pororo_good_update('VB_skill', 'Leona')"
      ],
      "execution_count": 38,
      "outputs": [
        {
          "output_type": "execute_result",
          "data": {
            "text/html": [
              "<div>\n",
              "<style scoped>\n",
              "    .dataframe tbody tr th:only-of-type {\n",
              "        vertical-align: middle;\n",
              "    }\n",
              "\n",
              "    .dataframe tbody tr th {\n",
              "        vertical-align: top;\n",
              "    }\n",
              "\n",
              "    .dataframe thead th {\n",
              "        text-align: right;\n",
              "    }\n",
              "</style>\n",
              "<table border=\"1\" class=\"dataframe\">\n",
              "  <thead>\n",
              "    <tr style=\"text-align: right;\">\n",
              "      <th></th>\n",
              "      <th>champ_rank</th>\n",
              "      <th>how_close</th>\n",
              "      <th>how</th>\n",
              "    </tr>\n",
              "  </thead>\n",
              "  <tbody>\n",
              "    <tr>\n",
              "      <th>0</th>\n",
              "      <td>Leona</td>\n",
              "      <td>1.00</td>\n",
              "      <td>레오나가 지속시간이 끝날 이 형상이 이 범위</td>\n",
              "    </tr>\n",
              "    <tr>\n",
              "      <th>1</th>\n",
              "      <td>Galio</td>\n",
              "      <td>0.65</td>\n",
              "      <td>갈리오가 스킬을 다시 잠시 후</td>\n",
              "    </tr>\n",
              "    <tr>\n",
              "      <th>2</th>\n",
              "      <td>Yone</td>\n",
              "      <td>0.53</td>\n",
              "      <td>전방으로 효과가 중첩되면 적중한 챔피언 지속시간이 끝나면</td>\n",
              "    </tr>\n",
              "    <tr>\n",
              "      <th>3</th>\n",
              "      <td>Amumu</td>\n",
              "      <td>0.53</td>\n",
              "      <td>아무무가 활성화 시 아무무가 공격당할 대기시간이</td>\n",
              "    </tr>\n",
              "    <tr>\n",
              "      <th>4</th>\n",
              "      <td>Leblanc</td>\n",
              "      <td>0.52</td>\n",
              "      <td>르블랑이 주고 표식이 남은 안에 동안</td>\n",
              "    </tr>\n",
              "  </tbody>\n",
              "</table>\n",
              "</div>"
            ],
            "text/plain": [
              "  champ_rank  how_close                              how\n",
              "0      Leona       1.00         레오나가 지속시간이 끝날 이 형상이 이 범위\n",
              "1      Galio       0.65                 갈리오가 스킬을 다시 잠시 후\n",
              "2       Yone       0.53  전방으로 효과가 중첩되면 적중한 챔피언 지속시간이 끝나면\n",
              "3      Amumu       0.53       아무무가 활성화 시 아무무가 공격당할 대기시간이\n",
              "4    Leblanc       0.52             르블랑이 주고 표식이 남은 안에 동안"
            ]
          },
          "metadata": {},
          "execution_count": 38
        }
      ]
    },
    {
      "cell_type": "code",
      "metadata": {
        "colab": {
          "base_uri": "https://localhost:8080/",
          "height": 204
        },
        "id": "mmOE2W_t0O7J",
        "outputId": "6e5aa662-127f-40aa-9233-61d993a6c3dd"
      },
      "source": [
        "pororo_good_update('VB_skill', 'Yasuo')"
      ],
      "execution_count": 39,
      "outputs": [
        {
          "output_type": "execute_result",
          "data": {
            "text/html": [
              "<div>\n",
              "<style scoped>\n",
              "    .dataframe tbody tr th:only-of-type {\n",
              "        vertical-align: middle;\n",
              "    }\n",
              "\n",
              "    .dataframe tbody tr th {\n",
              "        vertical-align: top;\n",
              "    }\n",
              "\n",
              "    .dataframe thead th {\n",
              "        text-align: right;\n",
              "    }\n",
              "</style>\n",
              "<table border=\"1\" class=\"dataframe\">\n",
              "  <thead>\n",
              "    <tr style=\"text-align: right;\">\n",
              "      <th></th>\n",
              "      <th>champ_rank</th>\n",
              "      <th>how_close</th>\n",
              "      <th>how</th>\n",
              "    </tr>\n",
              "  </thead>\n",
              "  <tbody>\n",
              "    <tr>\n",
              "      <th>0</th>\n",
              "      <td>Yasuo</td>\n",
              "      <td>1.00</td>\n",
              "      <td>전방으로 효과가 중첩되면 사용할 때마다 기류가 최대치로</td>\n",
              "    </tr>\n",
              "    <tr>\n",
              "      <th>1</th>\n",
              "      <td>Yone</td>\n",
              "      <td>0.62</td>\n",
              "      <td>전방으로 효과가 중첩되면 적중한 챔피언 지속시간이 끝나면</td>\n",
              "    </tr>\n",
              "    <tr>\n",
              "      <th>2</th>\n",
              "      <td>Taric</td>\n",
              "      <td>0.58</td>\n",
              "      <td>충전량을 타릭이 스킬을</td>\n",
              "    </tr>\n",
              "    <tr>\n",
              "      <th>3</th>\n",
              "      <td>Kennen</td>\n",
              "      <td>0.55</td>\n",
              "      <td>케넨이 스킬 활성화시 번개로 변신하면</td>\n",
              "    </tr>\n",
              "    <tr>\n",
              "      <th>4</th>\n",
              "      <td>Rengar</td>\n",
              "      <td>0.53</td>\n",
              "      <td>렝가의 피해량과 모든 대상을 사냥의 전율이</td>\n",
              "    </tr>\n",
              "  </tbody>\n",
              "</table>\n",
              "</div>"
            ],
            "text/plain": [
              "  champ_rank  how_close                              how\n",
              "0      Yasuo       1.00   전방으로 효과가 중첩되면 사용할 때마다 기류가 최대치로\n",
              "1       Yone       0.62  전방으로 효과가 중첩되면 적중한 챔피언 지속시간이 끝나면\n",
              "2      Taric       0.58                     충전량을 타릭이 스킬을\n",
              "3     Kennen       0.55             케넨이 스킬 활성화시 번개로 변신하면\n",
              "4     Rengar       0.53          렝가의 피해량과 모든 대상을 사냥의 전율이"
            ]
          },
          "metadata": {},
          "execution_count": 39
        }
      ]
    },
    {
      "cell_type": "code",
      "metadata": {
        "colab": {
          "base_uri": "https://localhost:8080/",
          "height": 204
        },
        "id": "ZSvGIT1j0O3i",
        "outputId": "07281830-bb12-4d5e-b53f-91711b42e49b"
      },
      "source": [
        "## 명사 , 동사, 형용사\n",
        "NN_discrib = only_NN('all_discribtion')\n",
        "champ_summ['NN_discrib'] = NN_discrib\n",
        "pororo_good_update('NN_discrib', 'Leona')"
      ],
      "execution_count": 40,
      "outputs": [
        {
          "output_type": "execute_result",
          "data": {
            "text/html": [
              "<div>\n",
              "<style scoped>\n",
              "    .dataframe tbody tr th:only-of-type {\n",
              "        vertical-align: middle;\n",
              "    }\n",
              "\n",
              "    .dataframe tbody tr th {\n",
              "        vertical-align: top;\n",
              "    }\n",
              "\n",
              "    .dataframe thead th {\n",
              "        text-align: right;\n",
              "    }\n",
              "</style>\n",
              "<table border=\"1\" class=\"dataframe\">\n",
              "  <thead>\n",
              "    <tr style=\"text-align: right;\">\n",
              "      <th></th>\n",
              "      <th>champ_rank</th>\n",
              "      <th>how_close</th>\n",
              "      <th>how</th>\n",
              "    </tr>\n",
              "  </thead>\n",
              "  <tbody>\n",
              "    <tr>\n",
              "      <th>0</th>\n",
              "      <td>Leona</td>\n",
              "      <td>1.00</td>\n",
              "      <td>레오나가 일식을 사용하면 피해를 받기 전에 동안 도망칠 시간이 있습니다 흑점 폭발의...</td>\n",
              "    </tr>\n",
              "    <tr>\n",
              "      <th>1</th>\n",
              "      <td>Pantheon</td>\n",
              "      <td>0.81</td>\n",
              "      <td>판테온이 방패 돌격을 사용하면 정면의 공격으로부터 무적이 됩니다 따라서 뒤에서 공격...</td>\n",
              "    </tr>\n",
              "    <tr>\n",
              "      <th>2</th>\n",
              "      <td>Gwen</td>\n",
              "      <td>0.80</td>\n",
              "      <td>그웬의 신성한 안개 장막은 그웬을 한 번만 따라오며 이후 그웬이 이동하면 사라집니다...</td>\n",
              "    </tr>\n",
              "    <tr>\n",
              "      <th>3</th>\n",
              "      <td>Illaoi</td>\n",
              "      <td>0.79</td>\n",
              "      <td>일라오이를 상대할 때는 수시로 촉수를 처치하는 것이 승리의 발판이 됩니다 자신의 영...</td>\n",
              "    </tr>\n",
              "    <tr>\n",
              "      <th>4</th>\n",
              "      <td>Aatrox</td>\n",
              "      <td>0.78</td>\n",
              "      <td>아트록스의 공격은 미리 표시되므로 공격이 예상되는 지역에서 벗어나세요 아트록스를 향...</td>\n",
              "    </tr>\n",
              "  </tbody>\n",
              "</table>\n",
              "</div>"
            ],
            "text/plain": [
              "  champ_rank  how_close                                                how\n",
              "0      Leona       1.00  레오나가 일식을 사용하면 피해를 받기 전에 동안 도망칠 시간이 있습니다 흑점 폭발의...\n",
              "1   Pantheon       0.81  판테온이 방패 돌격을 사용하면 정면의 공격으로부터 무적이 됩니다 따라서 뒤에서 공격...\n",
              "2       Gwen       0.80  그웬의 신성한 안개 장막은 그웬을 한 번만 따라오며 이후 그웬이 이동하면 사라집니다...\n",
              "3     Illaoi       0.79  일라오이를 상대할 때는 수시로 촉수를 처치하는 것이 승리의 발판이 됩니다 자신의 영...\n",
              "4     Aatrox       0.78  아트록스의 공격은 미리 표시되므로 공격이 예상되는 지역에서 벗어나세요 아트록스를 향..."
            ]
          },
          "metadata": {},
          "execution_count": 40
        }
      ]
    },
    {
      "cell_type": "code",
      "metadata": {
        "colab": {
          "base_uri": "https://localhost:8080/",
          "height": 204
        },
        "id": "aUZIpC4g0OZp",
        "outputId": "cafb8232-c9ba-4040-bedb-5ab2530c5c43"
      },
      "source": [
        "pororo_good_update('NN_discrib', 'Yasuo')"
      ],
      "execution_count": 41,
      "outputs": [
        {
          "output_type": "execute_result",
          "data": {
            "text/html": [
              "<div>\n",
              "<style scoped>\n",
              "    .dataframe tbody tr th:only-of-type {\n",
              "        vertical-align: middle;\n",
              "    }\n",
              "\n",
              "    .dataframe tbody tr th {\n",
              "        vertical-align: top;\n",
              "    }\n",
              "\n",
              "    .dataframe thead th {\n",
              "        text-align: right;\n",
              "    }\n",
              "</style>\n",
              "<table border=\"1\" class=\"dataframe\">\n",
              "  <thead>\n",
              "    <tr style=\"text-align: right;\">\n",
              "      <th></th>\n",
              "      <th>champ_rank</th>\n",
              "      <th>how_close</th>\n",
              "      <th>how</th>\n",
              "    </tr>\n",
              "  </thead>\n",
              "  <tbody>\n",
              "    <tr>\n",
              "      <th>0</th>\n",
              "      <td>Yasuo</td>\n",
              "      <td>1.00</td>\n",
              "      <td>강철 폭풍의 폭은 아주 좁습니다 가능하면 옆으로 피하세요 야스오가 강철 폭풍을 연이...</td>\n",
              "    </tr>\n",
              "    <tr>\n",
              "      <th>1</th>\n",
              "      <td>Lissandra</td>\n",
              "      <td>0.84</td>\n",
              "      <td>리산드라가 얼음갈퀴 길을 활용해 이동하지 못하도록 막으려면 이 스킬을 재시전하기 전...</td>\n",
              "    </tr>\n",
              "    <tr>\n",
              "      <th>2</th>\n",
              "      <td>Varus</td>\n",
              "      <td>0.81</td>\n",
              "      <td>역병에 감염된 경우 바루스의 스킬 공격으로 추가 피해를 입을 수 있습니다 적을 처치...</td>\n",
              "    </tr>\n",
              "    <tr>\n",
              "      <th>3</th>\n",
              "      <td>Katarina</td>\n",
              "      <td>0.81</td>\n",
              "      <td>카타리나는 마법 피해를 주로 입히므로 카타리나가 공격력을 올려주는 아이템을 가지고 ...</td>\n",
              "    </tr>\n",
              "    <tr>\n",
              "      <th>4</th>\n",
              "      <td>Jhin</td>\n",
              "      <td>0.81</td>\n",
              "      <td>살상연희 스킬은 최근 안에 진의 기본 공격이나 함정 또는 진의 아군에게 공격당한 적...</td>\n",
              "    </tr>\n",
              "  </tbody>\n",
              "</table>\n",
              "</div>"
            ],
            "text/plain": [
              "  champ_rank  how_close                                                how\n",
              "0      Yasuo       1.00  강철 폭풍의 폭은 아주 좁습니다 가능하면 옆으로 피하세요 야스오가 강철 폭풍을 연이...\n",
              "1  Lissandra       0.84  리산드라가 얼음갈퀴 길을 활용해 이동하지 못하도록 막으려면 이 스킬을 재시전하기 전...\n",
              "2      Varus       0.81  역병에 감염된 경우 바루스의 스킬 공격으로 추가 피해를 입을 수 있습니다 적을 처치...\n",
              "3   Katarina       0.81  카타리나는 마법 피해를 주로 입히므로 카타리나가 공격력을 올려주는 아이템을 가지고 ...\n",
              "4       Jhin       0.81  살상연희 스킬은 최근 안에 진의 기본 공격이나 함정 또는 진의 아군에게 공격당한 적..."
            ]
          },
          "metadata": {},
          "execution_count": 41
        }
      ]
    },
    {
      "cell_type": "code",
      "metadata": {
        "colab": {
          "base_uri": "https://localhost:8080/",
          "height": 204
        },
        "id": "zBf3QNq_3D3E",
        "outputId": "54aa9eda-cc76-4cc3-a103-54ab8098beea"
      },
      "source": [
        "# 진짜 명사만 돌림\n",
        "real_NN_discrib = really_only_NN('all_discribtion')\n",
        "champ_summ['real_NN_discrib'] = real_NN_discrib\n",
        "pororo_good_update('real_NN_discrib', 'Leona')"
      ],
      "execution_count": 42,
      "outputs": [
        {
          "output_type": "execute_result",
          "data": {
            "text/html": [
              "<div>\n",
              "<style scoped>\n",
              "    .dataframe tbody tr th:only-of-type {\n",
              "        vertical-align: middle;\n",
              "    }\n",
              "\n",
              "    .dataframe tbody tr th {\n",
              "        vertical-align: top;\n",
              "    }\n",
              "\n",
              "    .dataframe thead th {\n",
              "        text-align: right;\n",
              "    }\n",
              "</style>\n",
              "<table border=\"1\" class=\"dataframe\">\n",
              "  <thead>\n",
              "    <tr style=\"text-align: right;\">\n",
              "      <th></th>\n",
              "      <th>champ_rank</th>\n",
              "      <th>how_close</th>\n",
              "      <th>how</th>\n",
              "    </tr>\n",
              "  </thead>\n",
              "  <tbody>\n",
              "    <tr>\n",
              "      <th>0</th>\n",
              "      <td>Leona</td>\n",
              "      <td>1.00</td>\n",
              "      <td>일식을 사용하면 피해를 받기 동안 도망칠 시간이 있습니다 한가운데 있는 적만 기절하...</td>\n",
              "    </tr>\n",
              "    <tr>\n",
              "      <th>1</th>\n",
              "      <td>Gwen</td>\n",
              "      <td>0.83</td>\n",
              "      <td>신성한 안개 장막은 그웬을 한 번만 따라오며 이후 그웬이 이동하면 사라집니다 적중시...</td>\n",
              "    </tr>\n",
              "    <tr>\n",
              "      <th>2</th>\n",
              "      <td>Akali</td>\n",
              "      <td>0.82</td>\n",
              "      <td>황혼의 장막 안에 숨어도 광역 스킬에 영향을 받을 수 있습니다 잠시 동안 아칼리의 ...</td>\n",
              "    </tr>\n",
              "    <tr>\n",
              "      <th>3</th>\n",
              "      <td>LeeSin</td>\n",
              "      <td>0.82</td>\n",
              "      <td>신의 궁극기인 용의 분노로 받는 피해를 최소화하려면 유닛을 분산시키십시오 강철의 의...</td>\n",
              "    </tr>\n",
              "    <tr>\n",
              "      <th>4</th>\n",
              "      <td>Katarina</td>\n",
              "      <td>0.82</td>\n",
              "      <td>마법 피해를 주로 입히므로 카타리나가 공격력을 올려주는 아이템을 가지고 있다 하더라...</td>\n",
              "    </tr>\n",
              "  </tbody>\n",
              "</table>\n",
              "</div>"
            ],
            "text/plain": [
              "  champ_rank  how_close                                                how\n",
              "0      Leona       1.00  일식을 사용하면 피해를 받기 동안 도망칠 시간이 있습니다 한가운데 있는 적만 기절하...\n",
              "1       Gwen       0.83  신성한 안개 장막은 그웬을 한 번만 따라오며 이후 그웬이 이동하면 사라집니다 적중시...\n",
              "2      Akali       0.82  황혼의 장막 안에 숨어도 광역 스킬에 영향을 받을 수 있습니다 잠시 동안 아칼리의 ...\n",
              "3     LeeSin       0.82  신의 궁극기인 용의 분노로 받는 피해를 최소화하려면 유닛을 분산시키십시오 강철의 의...\n",
              "4   Katarina       0.82  마법 피해를 주로 입히므로 카타리나가 공격력을 올려주는 아이템을 가지고 있다 하더라..."
            ]
          },
          "metadata": {},
          "execution_count": 42
        }
      ]
    },
    {
      "cell_type": "code",
      "metadata": {
        "colab": {
          "base_uri": "https://localhost:8080/",
          "height": 204
        },
        "id": "5LtejlCU3Dyo",
        "outputId": "1a1369bf-e207-4395-ffc9-97c716679fe9"
      },
      "source": [
        "pororo_good_update('real_NN_discrib', 'Yasuo')"
      ],
      "execution_count": 43,
      "outputs": [
        {
          "output_type": "execute_result",
          "data": {
            "text/html": [
              "<div>\n",
              "<style scoped>\n",
              "    .dataframe tbody tr th:only-of-type {\n",
              "        vertical-align: middle;\n",
              "    }\n",
              "\n",
              "    .dataframe tbody tr th {\n",
              "        vertical-align: top;\n",
              "    }\n",
              "\n",
              "    .dataframe thead th {\n",
              "        text-align: right;\n",
              "    }\n",
              "</style>\n",
              "<table border=\"1\" class=\"dataframe\">\n",
              "  <thead>\n",
              "    <tr style=\"text-align: right;\">\n",
              "      <th></th>\n",
              "      <th>champ_rank</th>\n",
              "      <th>how_close</th>\n",
              "      <th>how</th>\n",
              "    </tr>\n",
              "  </thead>\n",
              "  <tbody>\n",
              "    <tr>\n",
              "      <th>0</th>\n",
              "      <td>Yasuo</td>\n",
              "      <td>1.00</td>\n",
              "      <td>폭풍의 폭은 아주 좁습니다 피하세요 폭풍을 연이어 두 번 맞히면 다음에는 회오리가 ...</td>\n",
              "    </tr>\n",
              "    <tr>\n",
              "      <th>1</th>\n",
              "      <td>Caitlyn</td>\n",
              "      <td>0.86</td>\n",
              "      <td>필트오버 피스메이커를 사용하여 견제를 시도한다면 완전히 피하거나 아군 미니언 뒤에 ...</td>\n",
              "    </tr>\n",
              "    <tr>\n",
              "      <th>2</th>\n",
              "      <td>Jinx</td>\n",
              "      <td>0.84</td>\n",
              "      <td>미니건은 공격 속도가 상승할 때까지 시간이 걸립니다 로켓으로 공격한다면 덮쳐서 빠르...</td>\n",
              "    </tr>\n",
              "    <tr>\n",
              "      <th>3</th>\n",
              "      <td>Heimerdinger</td>\n",
              "      <td>0.84</td>\n",
              "      <td>포탑은 하나씩 제거하기보다 미니언의 도움을 받아 한꺼번에 제거하는 편이 낫습니다 곤...</td>\n",
              "    </tr>\n",
              "    <tr>\n",
              "      <th>4</th>\n",
              "      <td>Braum</td>\n",
              "      <td>0.82</td>\n",
              "      <td>동상 스킬 혹은 기본 공격을 맞혀야만 뇌진탕 펀치 중첩을 시작할 수 있습니다 표식이...</td>\n",
              "    </tr>\n",
              "  </tbody>\n",
              "</table>\n",
              "</div>"
            ],
            "text/plain": [
              "     champ_rank  how_close                                                how\n",
              "0         Yasuo       1.00  폭풍의 폭은 아주 좁습니다 피하세요 폭풍을 연이어 두 번 맞히면 다음에는 회오리가 ...\n",
              "1       Caitlyn       0.86  필트오버 피스메이커를 사용하여 견제를 시도한다면 완전히 피하거나 아군 미니언 뒤에 ...\n",
              "2          Jinx       0.84  미니건은 공격 속도가 상승할 때까지 시간이 걸립니다 로켓으로 공격한다면 덮쳐서 빠르...\n",
              "3  Heimerdinger       0.84  포탑은 하나씩 제거하기보다 미니언의 도움을 받아 한꺼번에 제거하는 편이 낫습니다 곤...\n",
              "4         Braum       0.82  동상 스킬 혹은 기본 공격을 맞혀야만 뇌진탕 펀치 중첩을 시작할 수 있습니다 표식이..."
            ]
          },
          "metadata": {},
          "execution_count": 43
        }
      ]
    },
    {
      "cell_type": "code",
      "metadata": {
        "colab": {
          "base_uri": "https://localhost:8080/",
          "height": 204
        },
        "id": "qE97W32n3Duz",
        "outputId": "f539321b-e261-4dec-f2ed-58face586d1a"
      },
      "source": [
        "# 동사 형용사\n",
        "VB_discrib = only_VB('all_discribtion')\n",
        "champ_summ['VB_discrib'] = VB_discrib\n",
        "pororo_good_update('VB_discrib', 'Leona')"
      ],
      "execution_count": 44,
      "outputs": [
        {
          "output_type": "execute_result",
          "data": {
            "text/html": [
              "<div>\n",
              "<style scoped>\n",
              "    .dataframe tbody tr th:only-of-type {\n",
              "        vertical-align: middle;\n",
              "    }\n",
              "\n",
              "    .dataframe tbody tr th {\n",
              "        vertical-align: top;\n",
              "    }\n",
              "\n",
              "    .dataframe thead th {\n",
              "        text-align: right;\n",
              "    }\n",
              "</style>\n",
              "<table border=\"1\" class=\"dataframe\">\n",
              "  <thead>\n",
              "    <tr style=\"text-align: right;\">\n",
              "      <th></th>\n",
              "      <th>champ_rank</th>\n",
              "      <th>how_close</th>\n",
              "      <th>how</th>\n",
              "    </tr>\n",
              "  </thead>\n",
              "  <tbody>\n",
              "    <tr>\n",
              "      <th>0</th>\n",
              "      <td>Leona</td>\n",
              "      <td>1.00</td>\n",
              "      <td>레오나가 전에 흑점 폭발의 최전선에서 목표 여명의 방패와 일식을 사용하여 지속시간이...</td>\n",
              "    </tr>\n",
              "    <tr>\n",
              "      <th>1</th>\n",
              "      <td>Nocturne</td>\n",
              "      <td>0.66</td>\n",
              "      <td>피해망상이 녹턴의 말할 피해망상 스킬은 황혼의 인도자는 전투 시 어둠의 장막을 적이...</td>\n",
              "    </tr>\n",
              "    <tr>\n",
              "      <th>2</th>\n",
              "      <td>Syndra</td>\n",
              "      <td>0.64</td>\n",
              "      <td>신드라를 적군 와해는 신드라가 이 신드라의 스킬은 궁극기의 피해량을 의지의 힘으로 ...</td>\n",
              "    </tr>\n",
              "    <tr>\n",
              "      <th>3</th>\n",
              "      <td>Pantheon</td>\n",
              "      <td>0.63</td>\n",
              "      <td>판테온이 따라서 뒤에서 체력이 낮은 혜성의 창은 판테온이 거대 이때 멀리 필멸자의 ...</td>\n",
              "    </tr>\n",
              "    <tr>\n",
              "      <th>4</th>\n",
              "      <td>Veigar</td>\n",
              "      <td>0.62</td>\n",
              "      <td>암흑 주의를 기울여 사건의 지평선 스킬 영역 베이가의 궁극기는 사건의 지평선 마나 ...</td>\n",
              "    </tr>\n",
              "  </tbody>\n",
              "</table>\n",
              "</div>"
            ],
            "text/plain": [
              "  champ_rank  how_close                                                how\n",
              "0      Leona       1.00  레오나가 전에 흑점 폭발의 최전선에서 목표 여명의 방패와 일식을 사용하여 지속시간이...\n",
              "1   Nocturne       0.66  피해망상이 녹턴의 말할 피해망상 스킬은 황혼의 인도자는 전투 시 어둠의 장막을 적이...\n",
              "2     Syndra       0.64  신드라를 적군 와해는 신드라가 이 신드라의 스킬은 궁극기의 피해량을 의지의 힘으로 ...\n",
              "3   Pantheon       0.63  판테온이 따라서 뒤에서 체력이 낮은 혜성의 창은 판테온이 거대 이때 멀리 필멸자의 ...\n",
              "4     Veigar       0.62  암흑 주의를 기울여 사건의 지평선 스킬 영역 베이가의 궁극기는 사건의 지평선 마나 ..."
            ]
          },
          "metadata": {},
          "execution_count": 44
        }
      ]
    },
    {
      "cell_type": "code",
      "metadata": {
        "colab": {
          "base_uri": "https://localhost:8080/",
          "height": 204
        },
        "id": "zleV0IJw3DqX",
        "outputId": "eb13e723-0519-4896-9f34-da0f512c404d"
      },
      "source": [
        "pororo_good_update('VB_discrib', 'Yasuo')"
      ],
      "execution_count": 45,
      "outputs": [
        {
          "output_type": "execute_result",
          "data": {
            "text/html": [
              "<div>\n",
              "<style scoped>\n",
              "    .dataframe tbody tr th:only-of-type {\n",
              "        vertical-align: middle;\n",
              "    }\n",
              "\n",
              "    .dataframe tbody tr th {\n",
              "        vertical-align: top;\n",
              "    }\n",
              "\n",
              "    .dataframe thead th {\n",
              "        text-align: right;\n",
              "    }\n",
              "</style>\n",
              "<table border=\"1\" class=\"dataframe\">\n",
              "  <thead>\n",
              "    <tr style=\"text-align: right;\">\n",
              "      <th></th>\n",
              "      <th>champ_rank</th>\n",
              "      <th>how_close</th>\n",
              "      <th>how</th>\n",
              "    </tr>\n",
              "  </thead>\n",
              "  <tbody>\n",
              "    <tr>\n",
              "      <th>0</th>\n",
              "      <td>Yasuo</td>\n",
              "      <td>1.00</td>\n",
              "      <td>강철 가능하면 옆으로 야스오가 강철 해당 스킬의 야스오는 회오리 이 때를 야스오의 ...</td>\n",
              "    </tr>\n",
              "    <tr>\n",
              "      <th>1</th>\n",
              "      <td>Lissandra</td>\n",
              "      <td>0.68</td>\n",
              "      <td>리산드라가 리산드라의 서릿발 재사용 대기가 리산드라의 얼음 아군 미니언 자기 자신에...</td>\n",
              "    </tr>\n",
              "    <tr>\n",
              "      <th>2</th>\n",
              "      <td>Jayce</td>\n",
              "      <td>0.64</td>\n",
              "      <td>제이스는 제이스의 자세와 가속 관문을 제이스는 게임 제이스가 추가 무기를 되도록 무...</td>\n",
              "    </tr>\n",
              "    <tr>\n",
              "      <th>3</th>\n",
              "      <td>LeeSin</td>\n",
              "      <td>0.62</td>\n",
              "      <td>리 리 신은 리 신은 방해 스킬을 용의 분노를 스킬을 시전하는 적에게 줄 자신에게 ...</td>\n",
              "    </tr>\n",
              "    <tr>\n",
              "      <th>4</th>\n",
              "      <td>Nautilus</td>\n",
              "      <td>0.62</td>\n",
              "      <td>노틸러스가 미리 달아나면 노틸러스는 보호막이 시간이 있으면 기습할 때 역조 스킬은 ...</td>\n",
              "    </tr>\n",
              "  </tbody>\n",
              "</table>\n",
              "</div>"
            ],
            "text/plain": [
              "  champ_rank  how_close                                                how\n",
              "0      Yasuo       1.00  강철 가능하면 옆으로 야스오가 강철 해당 스킬의 야스오는 회오리 이 때를 야스오의 ...\n",
              "1  Lissandra       0.68  리산드라가 리산드라의 서릿발 재사용 대기가 리산드라의 얼음 아군 미니언 자기 자신에...\n",
              "2      Jayce       0.64  제이스는 제이스의 자세와 가속 관문을 제이스는 게임 제이스가 추가 무기를 되도록 무...\n",
              "3     LeeSin       0.62  리 리 신은 리 신은 방해 스킬을 용의 분노를 스킬을 시전하는 적에게 줄 자신에게 ...\n",
              "4   Nautilus       0.62  노틸러스가 미리 달아나면 노틸러스는 보호막이 시간이 있으면 기습할 때 역조 스킬은 ..."
            ]
          },
          "metadata": {},
          "execution_count": 45
        }
      ]
    },
    {
      "cell_type": "markdown",
      "metadata": {
        "id": "nip7vYM14Jd1"
      },
      "source": [
        "## KoNLPy 를 이용해 보자"
      ]
    },
    {
      "cell_type": "code",
      "metadata": {
        "colab": {
          "base_uri": "https://localhost:8080/"
        },
        "id": "FdCER2NY5D5P",
        "outputId": "b61aa2bf-7355-49b9-c514-208f74242fa1"
      },
      "source": [
        "pip install konlpy"
      ],
      "execution_count": 46,
      "outputs": [
        {
          "output_type": "stream",
          "name": "stdout",
          "text": [
            "Requirement already satisfied: konlpy in /usr/local/lib/python3.7/dist-packages (0.5.2)\n",
            "Requirement already satisfied: numpy>=1.6 in /usr/local/lib/python3.7/dist-packages (from konlpy) (1.19.5)\n",
            "Requirement already satisfied: colorama in /usr/local/lib/python3.7/dist-packages (from konlpy) (0.4.4)\n",
            "Requirement already satisfied: tweepy>=3.7.0 in /usr/local/lib/python3.7/dist-packages (from konlpy) (3.10.0)\n",
            "Requirement already satisfied: lxml>=4.1.0 in /usr/local/lib/python3.7/dist-packages (from konlpy) (4.2.6)\n",
            "Requirement already satisfied: JPype1>=0.7.0 in /usr/local/lib/python3.7/dist-packages (from konlpy) (1.3.0)\n",
            "Requirement already satisfied: beautifulsoup4==4.6.0 in /usr/local/lib/python3.7/dist-packages (from konlpy) (4.6.0)\n",
            "Requirement already satisfied: typing-extensions in /usr/local/lib/python3.7/dist-packages (from JPype1>=0.7.0->konlpy) (3.7.4.3)\n",
            "Requirement already satisfied: requests[socks]>=2.11.1 in /usr/local/lib/python3.7/dist-packages (from tweepy>=3.7.0->konlpy) (2.23.0)\n",
            "Requirement already satisfied: six>=1.10.0 in /usr/local/lib/python3.7/dist-packages (from tweepy>=3.7.0->konlpy) (1.15.0)\n",
            "Requirement already satisfied: requests-oauthlib>=0.7.0 in /usr/local/lib/python3.7/dist-packages (from tweepy>=3.7.0->konlpy) (1.3.0)\n",
            "Requirement already satisfied: oauthlib>=3.0.0 in /usr/local/lib/python3.7/dist-packages (from requests-oauthlib>=0.7.0->tweepy>=3.7.0->konlpy) (3.1.1)\n",
            "Requirement already satisfied: idna<3,>=2.5 in /usr/local/lib/python3.7/dist-packages (from requests[socks]>=2.11.1->tweepy>=3.7.0->konlpy) (2.10)\n",
            "Requirement already satisfied: chardet<4,>=3.0.2 in /usr/local/lib/python3.7/dist-packages (from requests[socks]>=2.11.1->tweepy>=3.7.0->konlpy) (3.0.4)\n",
            "Requirement already satisfied: certifi>=2017.4.17 in /usr/local/lib/python3.7/dist-packages (from requests[socks]>=2.11.1->tweepy>=3.7.0->konlpy) (2021.5.30)\n",
            "Requirement already satisfied: urllib3!=1.25.0,!=1.25.1,<1.26,>=1.21.1 in /usr/local/lib/python3.7/dist-packages (from requests[socks]>=2.11.1->tweepy>=3.7.0->konlpy) (1.24.3)\n",
            "Requirement already satisfied: PySocks!=1.5.7,>=1.5.6 in /usr/local/lib/python3.7/dist-packages (from requests[socks]>=2.11.1->tweepy>=3.7.0->konlpy) (1.7.1)\n"
          ]
        }
      ]
    },
    {
      "cell_type": "code",
      "metadata": {
        "id": "59rApP-34JzY"
      },
      "source": [
        "from konlpy.tag import Mecab"
      ],
      "execution_count": 47,
      "outputs": []
    },
    {
      "cell_type": "code",
      "metadata": {
        "id": "64rJoiys47q_"
      },
      "source": [
        ""
      ],
      "execution_count": 47,
      "outputs": []
    },
    {
      "cell_type": "code",
      "metadata": {
        "id": "dtTIDwyS4Kds"
      },
      "source": [
        "kkma = Kkma()"
      ],
      "execution_count": 48,
      "outputs": []
    },
    {
      "cell_type": "code",
      "metadata": {
        "colab": {
          "base_uri": "https://localhost:8080/"
        },
        "id": "SSm57nym4KYt",
        "outputId": "e639dbb7-0e7b-4dcd-92d3-fa2a494cd9b7"
      },
      "source": [
        "pprint(kkma.nouns(u'질문이나 건의사항은 깃헙 이슈 트래커에 남겨주세요.'))"
      ],
      "execution_count": 49,
      "outputs": [
        {
          "output_type": "stream",
          "name": "stdout",
          "text": [
            "['질문', '건의', '건의사항', '사항', '깃헙', '이슈', '트래커']\n"
          ]
        }
      ]
    },
    {
      "cell_type": "code",
      "metadata": {
        "colab": {
          "base_uri": "https://localhost:8080/"
        },
        "id": "wSjfAN-94KT7",
        "outputId": "e932fa73-71ea-4737-c0b8-1456e4d7fdd7"
      },
      "source": [
        "pprint(kkma.pos(u'오류보고는 실행환경, 에러메세지와함께 설명을 최대한상세히!^^'))"
      ],
      "execution_count": 50,
      "outputs": [
        {
          "output_type": "stream",
          "name": "stdout",
          "text": [
            "[('오류', 'NNG'),\n",
            " ('보고', 'NNG'),\n",
            " ('는', 'JX'),\n",
            " ('실행', 'NNG'),\n",
            " ('환경', 'NNG'),\n",
            " (',', 'SP'),\n",
            " ('에러', 'NNG'),\n",
            " ('메세지', 'NNG'),\n",
            " ('와', 'JKM'),\n",
            " ('함께', 'MAG'),\n",
            " ('설명', 'NNG'),\n",
            " ('을', 'JKO'),\n",
            " ('최대한', 'NNG'),\n",
            " ('상세히', 'MAG'),\n",
            " ('!', 'SF'),\n",
            " ('^^', 'EMO')]\n"
          ]
        }
      ]
    },
    {
      "cell_type": "code",
      "metadata": {
        "id": "5J_ER8Gr4KPP"
      },
      "source": [
        "def ko_only_NN(column):\n",
        "\n",
        "    this_champ_NN = []\n",
        "    for i in range(len(champ_summ)):\n",
        "\n",
        "        champ_NN = kkma.nouns(champ_summ[column][i])\n",
        "\n",
        "        this_champ_NN.append(champ_NN)\n",
        "    return this_champ_NN"
      ],
      "execution_count": 51,
      "outputs": []
    },
    {
      "cell_type": "code",
      "metadata": {
        "id": "6BZHUqTQ8lQ_"
      },
      "source": [
        "def pororo_good_update(column, champ_name):\n",
        "    # clean_discrib = []\n",
        "    cands = []\n",
        "    for i in range(len(champ_summ[column])):\n",
        "        cands.append(champ_summ[column][i])\n",
        "    se = Pororo(task=\"sentence_embedding\", lang=\"ko\")\n",
        "\n",
        "    key = champ_summ[champ_summ['id'] == champ_name].index.values[0]\n",
        "    discrib = champ_summ[column][key]\n",
        "    # 랭킹 매기는 부분\n",
        "    ranking_1 = se.find_similar_sentences(discrib, cands)['ranking'][:6]\n",
        "    # 잘 보여주기 부분\n",
        "    ranking_list = pd.DataFrame()\n",
        "    champ_rank = []\n",
        "    how_close = []\n",
        "    how = []\n",
        "    for i in range(len(ranking_1)):\n",
        "        name_1 = who_are_u(ranking_1[i][0])\n",
        "        champ_rank.append(name_1)\n",
        "        how_close.append(ranking_1[i][2])\n",
        "        how.append(ranking_1[i][1])\n",
        "    ranking_list['champ_rank'] = champ_rank\n",
        "    ranking_list['how_close'] = how_close\n",
        "    ranking_list['how'] = how\n",
        "        \n",
        "    return ranking_list"
      ],
      "execution_count": 52,
      "outputs": []
    },
    {
      "cell_type": "code",
      "metadata": {
        "id": "7z_oixk74KJY"
      },
      "source": [
        "## 명사\n",
        "ko_NN_discrib = ko_only_NN('all_discribtion')\n",
        "champ_summ['NN_discrib'] = ko_NN_discrib"
      ],
      "execution_count": 53,
      "outputs": []
    },
    {
      "cell_type": "code",
      "metadata": {
        "colab": {
          "base_uri": "https://localhost:8080/"
        },
        "id": "aSK4gNRO9DRp",
        "outputId": "b222a8fa-9b13-4e66-b25b-a4f92831193b"
      },
      "source": [
        "champ_summ['NN_discrib']"
      ],
      "execution_count": 54,
      "outputs": [
        {
          "output_type": "execute_result",
          "data": {
            "text/plain": [
              "0      [아트, 아트록스, 록스, 공격, 표시, 예상, 지역, 이동, 양옆, 지옥, 지옥사...\n",
              "1      [아리, 궁극, 궁극기, 기, 혼령, 질주, 생존력, 극도, 미니, 미니언, 언, ...\n",
              "2      [칼리, 황혼, 장막, 안, 광역, 스킬, 영향, 수, 이, 경우, 잠시, 동안, ...\n",
              "3      [상반신, 아크, 은, 위험, 직면, 눈썹, 당, 카리스마, 정의, 복수심, 악과,...\n",
              "4      [알, 알리스타, 리, 스타, 방해, 효과, 스킬, 방어력, 공격수, 목표, 포탑,...\n",
              "                             ...                        \n",
              "151    [제, 공격력, 아이템, 구입, 때, 추가, 효과, 때문, 상대, 방어력, 쪽, 효...\n",
              "152    [직스, 설치, 지뢰, 속도, 스킬, 적중, 재사, 대기, 대기시간, 시간, 편, ...\n",
              "153    [질, 질리언, 리, 언, 이동, 속도, 수, 그, 궁극, 궁극기가, 기가, 때, ...\n",
              "154    [별은, 총, 이동, 거리, 비례, 피해, 차원, 후, 원래, 자리, 반격, 때, ...\n",
              "155    [자, 씨앗, 파괴, 수, 때, 자, 식물, 마지막, 순간, 발, 스킬, 낭비, 곳...\n",
              "Name: NN_discrib, Length: 156, dtype: object"
            ]
          },
          "metadata": {},
          "execution_count": 54
        }
      ]
    },
    {
      "cell_type": "code",
      "metadata": {
        "id": "B91zRk559QYb"
      },
      "source": [
        "champ_summ['NN_discrib'] = champ_summ['NN_discrib'].apply(lambda x : (' ').join(x))"
      ],
      "execution_count": 55,
      "outputs": []
    },
    {
      "cell_type": "code",
      "metadata": {
        "colab": {
          "base_uri": "https://localhost:8080/",
          "height": 204
        },
        "id": "hD4oj0zp82Ho",
        "outputId": "230a73db-a7ec-4859-a1e3-316274ef64cc"
      },
      "source": [
        "pororo_good_update('NN_discrib', 'Leona')"
      ],
      "execution_count": 56,
      "outputs": [
        {
          "output_type": "execute_result",
          "data": {
            "text/html": [
              "<div>\n",
              "<style scoped>\n",
              "    .dataframe tbody tr th:only-of-type {\n",
              "        vertical-align: middle;\n",
              "    }\n",
              "\n",
              "    .dataframe tbody tr th {\n",
              "        vertical-align: top;\n",
              "    }\n",
              "\n",
              "    .dataframe thead th {\n",
              "        text-align: right;\n",
              "    }\n",
              "</style>\n",
              "<table border=\"1\" class=\"dataframe\">\n",
              "  <thead>\n",
              "    <tr style=\"text-align: right;\">\n",
              "      <th></th>\n",
              "      <th>champ_rank</th>\n",
              "      <th>how_close</th>\n",
              "      <th>how</th>\n",
              "    </tr>\n",
              "  </thead>\n",
              "  <tbody>\n",
              "    <tr>\n",
              "      <th>0</th>\n",
              "      <td>Leona</td>\n",
              "      <td>1.00</td>\n",
              "      <td>레 레오나 오나 일식 사용 피해 전 3 3초 초 동안 시간 흑점 폭발 가운데 적 기...</td>\n",
              "    </tr>\n",
              "    <tr>\n",
              "      <th>1</th>\n",
              "      <td>LeeSin</td>\n",
              "      <td>0.80</td>\n",
              "      <td>리 신 궁극 궁극기인 기인 용의 분노 피해 최소화 유닛 분산 신은 강철 의지 무력화...</td>\n",
              "    </tr>\n",
              "    <tr>\n",
              "      <th>2</th>\n",
              "      <td>XinZhao</td>\n",
              "      <td>0.78</td>\n",
              "      <td>신 돌격 기술 주변 유닛 피해 궁극 궁극기가 기가 선제 공격 오 때 진형 최대한 편...</td>\n",
              "    </tr>\n",
              "    <tr>\n",
              "      <th>3</th>\n",
              "      <td>Akali</td>\n",
              "      <td>0.78</td>\n",
              "      <td>칼리 황혼 장막 안 광역 스킬 영향 수 이 경우 잠시 동안 위치 오연 오연투척 투척...</td>\n",
              "    </tr>\n",
              "    <tr>\n",
              "      <th>4</th>\n",
              "      <td>Ekko</td>\n",
              "      <td>0.76</td>\n",
              "      <td>에코 궁극 궁극기가 기가 사용 대기 뒤 자취 시공간 붕괴 수 판단 기 기절 절 지대...</td>\n",
              "    </tr>\n",
              "  </tbody>\n",
              "</table>\n",
              "</div>"
            ],
            "text/plain": [
              "  champ_rank  how_close                                                how\n",
              "0      Leona       1.00  레 레오나 오나 일식 사용 피해 전 3 3초 초 동안 시간 흑점 폭발 가운데 적 기...\n",
              "1     LeeSin       0.80  리 신 궁극 궁극기인 기인 용의 분노 피해 최소화 유닛 분산 신은 강철 의지 무력화...\n",
              "2    XinZhao       0.78  신 돌격 기술 주변 유닛 피해 궁극 궁극기가 기가 선제 공격 오 때 진형 최대한 편...\n",
              "3      Akali       0.78  칼리 황혼 장막 안 광역 스킬 영향 수 이 경우 잠시 동안 위치 오연 오연투척 투척...\n",
              "4       Ekko       0.76  에코 궁극 궁극기가 기가 사용 대기 뒤 자취 시공간 붕괴 수 판단 기 기절 절 지대..."
            ]
          },
          "metadata": {},
          "execution_count": 56
        }
      ]
    },
    {
      "cell_type": "code",
      "metadata": {
        "colab": {
          "base_uri": "https://localhost:8080/",
          "height": 204
        },
        "id": "feeSJ7D97tTX",
        "outputId": "0df713eb-97d0-47c1-d94b-6964a4380c2e"
      },
      "source": [
        "pororo_good_update('NN_discrib', 'Yasuo')"
      ],
      "execution_count": 57,
      "outputs": [
        {
          "output_type": "execute_result",
          "data": {
            "text/html": [
              "<div>\n",
              "<style scoped>\n",
              "    .dataframe tbody tr th:only-of-type {\n",
              "        vertical-align: middle;\n",
              "    }\n",
              "\n",
              "    .dataframe tbody tr th {\n",
              "        vertical-align: top;\n",
              "    }\n",
              "\n",
              "    .dataframe thead th {\n",
              "        text-align: right;\n",
              "    }\n",
              "</style>\n",
              "<table border=\"1\" class=\"dataframe\">\n",
              "  <thead>\n",
              "    <tr style=\"text-align: right;\">\n",
              "      <th></th>\n",
              "      <th>champ_rank</th>\n",
              "      <th>how_close</th>\n",
              "      <th>how</th>\n",
              "    </tr>\n",
              "  </thead>\n",
              "  <tbody>\n",
              "    <tr>\n",
              "      <th>0</th>\n",
              "      <td>Yasuo</td>\n",
              "      <td>1.00</td>\n",
              "      <td>강철 폭풍 폭 가능 옆 야스오 번 다음 회오리 발사 당 스킬 음향 효과 수 준비 바...</td>\n",
              "    </tr>\n",
              "    <tr>\n",
              "      <th>1</th>\n",
              "      <td>Varus</td>\n",
              "      <td>0.85</td>\n",
              "      <td>역병 감염 경우 바 바루스 루스 스킬 공격 추가 피해 수 적 처치 어시스트 잠시 속...</td>\n",
              "    </tr>\n",
              "    <tr>\n",
              "      <th>2</th>\n",
              "      <td>Quinn</td>\n",
              "      <td>0.84</td>\n",
              "      <td>발 발러 러 표식 퀸 이득 수 후퇴 현재 위치 예의 예의주시 주시 후방 지원 스킬 ...</td>\n",
              "    </tr>\n",
              "    <tr>\n",
              "      <th>3</th>\n",
              "      <td>Kled</td>\n",
              "      <td>0.83</td>\n",
              "      <td>빵 빵야 야 기본 공격 적 피해 미니 미니언 언 처치 구조물 몬스터 스칼 용기 회복...</td>\n",
              "    </tr>\n",
              "    <tr>\n",
              "      <th>4</th>\n",
              "      <td>Vi</td>\n",
              "      <td>0.83</td>\n",
              "      <td>금고 수기 충전 피해 피해량 량 배 후퇴 공격 번 연속 방어구 바 바이의 이의 속도...</td>\n",
              "    </tr>\n",
              "  </tbody>\n",
              "</table>\n",
              "</div>"
            ],
            "text/plain": [
              "  champ_rank  how_close                                                how\n",
              "0      Yasuo       1.00  강철 폭풍 폭 가능 옆 야스오 번 다음 회오리 발사 당 스킬 음향 효과 수 준비 바...\n",
              "1      Varus       0.85  역병 감염 경우 바 바루스 루스 스킬 공격 추가 피해 수 적 처치 어시스트 잠시 속...\n",
              "2      Quinn       0.84  발 발러 러 표식 퀸 이득 수 후퇴 현재 위치 예의 예의주시 주시 후방 지원 스킬 ...\n",
              "3       Kled       0.83  빵 빵야 야 기본 공격 적 피해 미니 미니언 언 처치 구조물 몬스터 스칼 용기 회복...\n",
              "4         Vi       0.83  금고 수기 충전 피해 피해량 량 배 후퇴 공격 번 연속 방어구 바 바이의 이의 속도..."
            ]
          },
          "metadata": {},
          "execution_count": 57
        }
      ]
    },
    {
      "cell_type": "code",
      "metadata": {
        "id": "MNek34sH8Ap2"
      },
      "source": [
        ""
      ],
      "execution_count": 57,
      "outputs": []
    },
    {
      "cell_type": "code",
      "metadata": {
        "id": "zfAjFpbZ_t29"
      },
      "source": [
        ""
      ],
      "execution_count": 57,
      "outputs": []
    },
    {
      "cell_type": "code",
      "metadata": {
        "id": "4U53qYgH3DlH"
      },
      "source": [
        "## 명사\n",
        "ko_NN_skill = ko_only_NN('champ_all_skill')\n",
        "champ_summ['NN_skill'] = ko_NN_skill\n",
        "champ_summ['NN_skill'] = champ_summ['NN_skill'].apply(lambda x : (' ').join(x))"
      ],
      "execution_count": 58,
      "outputs": []
    },
    {
      "cell_type": "code",
      "metadata": {
        "colab": {
          "base_uri": "https://localhost:8080/",
          "height": 204
        },
        "id": "nR0EgzVg-q8E",
        "outputId": "f68708fc-6a67-427d-cd63-a7cdda675756"
      },
      "source": [
        "pororo_good_update('NN_skill', 'Leona')"
      ],
      "execution_count": 59,
      "outputs": [
        {
          "output_type": "execute_result",
          "data": {
            "text/html": [
              "<div>\n",
              "<style scoped>\n",
              "    .dataframe tbody tr th:only-of-type {\n",
              "        vertical-align: middle;\n",
              "    }\n",
              "\n",
              "    .dataframe tbody tr th {\n",
              "        vertical-align: top;\n",
              "    }\n",
              "\n",
              "    .dataframe thead th {\n",
              "        text-align: right;\n",
              "    }\n",
              "</style>\n",
              "<table border=\"1\" class=\"dataframe\">\n",
              "  <thead>\n",
              "    <tr style=\"text-align: right;\">\n",
              "      <th></th>\n",
              "      <th>champ_rank</th>\n",
              "      <th>how_close</th>\n",
              "      <th>how</th>\n",
              "    </tr>\n",
              "  </thead>\n",
              "  <tbody>\n",
              "    <tr>\n",
              "      <th>0</th>\n",
              "      <td>Leona</td>\n",
              "      <td>1.00</td>\n",
              "      <td>레 레오나 오나 다음 기본 공격 방패 사용 대상 추가 마법 피해 기절 피해량 량 감...</td>\n",
              "    </tr>\n",
              "    <tr>\n",
              "      <th>1</th>\n",
              "      <td>Irelia</td>\n",
              "      <td>0.76</td>\n",
              "      <td>렐 렐리아가 리 아가 돌진 대상 공격 체력 회복 표식 칼날 쇄도 적 처치 사용 대기...</td>\n",
              "    </tr>\n",
              "    <tr>\n",
              "      <th>2</th>\n",
              "      <td>Galio</td>\n",
              "      <td>0.74</td>\n",
              "      <td>리 리오가 오가 개 돌풍 발사 지속 피해 거대 소용돌이 방어 태세 움직임 스킬 사용...</td>\n",
              "    </tr>\n",
              "    <tr>\n",
              "      <th>3</th>\n",
              "      <td>Fiora</td>\n",
              "      <td>0.73</td>\n",
              "      <td>피 피오라 오라 방향 돌진 근처 적 하나 물리 피해 적중 시 효과 적용 잠시 동안 ...</td>\n",
              "    </tr>\n",
              "    <tr>\n",
              "      <th>4</th>\n",
              "      <td>Velkoz</td>\n",
              "      <td>0.73</td>\n",
              "      <td>벨코즈 플라즈마 광선 발사 나 스킬 사용 적 둘 적중 시 둔화 적용 피해 벨 벨코즈...</td>\n",
              "    </tr>\n",
              "  </tbody>\n",
              "</table>\n",
              "</div>"
            ],
            "text/plain": [
              "  champ_rank  how_close                                                how\n",
              "0      Leona       1.00  레 레오나 오나 다음 기본 공격 방패 사용 대상 추가 마법 피해 기절 피해량 량 감...\n",
              "1     Irelia       0.76  렐 렐리아가 리 아가 돌진 대상 공격 체력 회복 표식 칼날 쇄도 적 처치 사용 대기...\n",
              "2      Galio       0.74  리 리오가 오가 개 돌풍 발사 지속 피해 거대 소용돌이 방어 태세 움직임 스킬 사용...\n",
              "3      Fiora       0.73  피 피오라 오라 방향 돌진 근처 적 하나 물리 피해 적중 시 효과 적용 잠시 동안 ...\n",
              "4     Velkoz       0.73  벨코즈 플라즈마 광선 발사 나 스킬 사용 적 둘 적중 시 둔화 적용 피해 벨 벨코즈..."
            ]
          },
          "metadata": {},
          "execution_count": 59
        }
      ]
    },
    {
      "cell_type": "code",
      "metadata": {
        "colab": {
          "base_uri": "https://localhost:8080/",
          "height": 204
        },
        "id": "22P2Yy-j7t__",
        "outputId": "f382209f-14f7-4225-959e-fe103767a193"
      },
      "source": [
        "pororo_good_update('NN_skill', 'Yasuo')"
      ],
      "execution_count": 60,
      "outputs": [
        {
          "output_type": "execute_result",
          "data": {
            "text/html": [
              "<div>\n",
              "<style scoped>\n",
              "    .dataframe tbody tr th:only-of-type {\n",
              "        vertical-align: middle;\n",
              "    }\n",
              "\n",
              "    .dataframe tbody tr th {\n",
              "        vertical-align: top;\n",
              "    }\n",
              "\n",
              "    .dataframe thead th {\n",
              "        text-align: right;\n",
              "    }\n",
              "</style>\n",
              "<table border=\"1\" class=\"dataframe\">\n",
              "  <thead>\n",
              "    <tr style=\"text-align: right;\">\n",
              "      <th></th>\n",
              "      <th>champ_rank</th>\n",
              "      <th>how_close</th>\n",
              "      <th>how</th>\n",
              "    </tr>\n",
              "  </thead>\n",
              "  <tbody>\n",
              "    <tr>\n",
              "      <th>0</th>\n",
              "      <td>Yasuo</td>\n",
              "      <td>1.00</td>\n",
              "      <td>전방 일직선 상의 적 피해 적중 시 초간 폭풍 구름 효과 1 1회 회 중첩 2 2회...</td>\n",
              "    </tr>\n",
              "    <tr>\n",
              "      <th>1</th>\n",
              "      <td>Yone</td>\n",
              "      <td>0.86</td>\n",
              "      <td>전방 검 일직선 적 피해 적중 시 초간 폭풍 구름 효과 1 1회 회 중첩 2 2회 ...</td>\n",
              "    </tr>\n",
              "    <tr>\n",
              "      <th>2</th>\n",
              "      <td>Jayce</td>\n",
              "      <td>0.80</td>\n",
              "      <td>해머 사용 시 공중 도약 적 물리 피해 이동 속도 감소 캐논 사거리 끝 폭발 전기 ...</td>\n",
              "    </tr>\n",
              "    <tr>\n",
              "      <th>3</th>\n",
              "      <td>Sett</td>\n",
              "      <td>0.78</td>\n",
              "      <td>세트 다음 번 공격 대상 최대 체력 비례 추가 피해 적 챔피언 이동 때 속도 기본 ...</td>\n",
              "    </tr>\n",
              "    <tr>\n",
              "      <th>4</th>\n",
              "      <td>Janna</td>\n",
              "      <td>0.78</td>\n",
              "      <td>잔 나 기압 온도 국지적 변경 시간 폭풍 생성 스킬 사용 수 방향 경로 적 피해 공...</td>\n",
              "    </tr>\n",
              "  </tbody>\n",
              "</table>\n",
              "</div>"
            ],
            "text/plain": [
              "  champ_rank  how_close                                                how\n",
              "0      Yasuo       1.00  전방 일직선 상의 적 피해 적중 시 초간 폭풍 구름 효과 1 1회 회 중첩 2 2회...\n",
              "1       Yone       0.86  전방 검 일직선 적 피해 적중 시 초간 폭풍 구름 효과 1 1회 회 중첩 2 2회 ...\n",
              "2      Jayce       0.80  해머 사용 시 공중 도약 적 물리 피해 이동 속도 감소 캐논 사거리 끝 폭발 전기 ...\n",
              "3       Sett       0.78  세트 다음 번 공격 대상 최대 체력 비례 추가 피해 적 챔피언 이동 때 속도 기본 ...\n",
              "4      Janna       0.78  잔 나 기압 온도 국지적 변경 시간 폭풍 생성 스킬 사용 수 방향 경로 적 피해 공..."
            ]
          },
          "metadata": {},
          "execution_count": 60
        }
      ]
    },
    {
      "cell_type": "markdown",
      "metadata": {
        "id": "t10IqBG9-FYH"
      },
      "source": [
        "## KoNLPy 를 이용해 보자 2번 째"
      ]
    },
    {
      "cell_type": "code",
      "metadata": {
        "id": "TQCaGDnN-RGZ"
      },
      "source": [
        "from konlpy.tag import Komoran\n",
        "komoran = Komoran(userdic='/tmp/dic.txt')"
      ],
      "execution_count": 61,
      "outputs": []
    },
    {
      "cell_type": "code",
      "metadata": {
        "colab": {
          "base_uri": "https://localhost:8080/"
        },
        "id": "E__pWQGP-WxJ",
        "outputId": "31e9b0ca-e1ce-40f8-c82c-d304fce355e2"
      },
      "source": [
        "print(komoran.nouns(u'오픈소스에 관심 많은 멋진 개발자님들!'))"
      ],
      "execution_count": 62,
      "outputs": [
        {
          "output_type": "stream",
          "name": "stdout",
          "text": [
            "['오픈', '소스', '관심', '개발자']\n"
          ]
        }
      ]
    },
    {
      "cell_type": "code",
      "metadata": {
        "id": "NrzlQi677tm5"
      },
      "source": [
        ""
      ],
      "execution_count": 62,
      "outputs": []
    },
    {
      "cell_type": "code",
      "metadata": {
        "id": "pFXY_eJJ-GTd"
      },
      "source": [
        "def komoran_only_NN(column):\n",
        "\n",
        "    this_champ_NN = []\n",
        "    for i in range(len(champ_summ)):\n",
        "\n",
        "        champ_NN = komoran.nouns(champ_summ[column][i])\n",
        "\n",
        "        this_champ_NN.append(champ_NN)\n",
        "    return this_champ_NN"
      ],
      "execution_count": 63,
      "outputs": []
    },
    {
      "cell_type": "code",
      "metadata": {
        "id": "m3S40HFE-G40"
      },
      "source": [
        "## 명사\n",
        "komoran_NN_skill = komoran_only_NN('champ_all_skill')\n",
        "champ_summ['NN_skill_komoran'] = komoran_NN_skill\n",
        "champ_summ['NN_skill_komoran'] = champ_summ['NN_skill_komoran'].apply(lambda x : (' ').join(x))"
      ],
      "execution_count": 64,
      "outputs": []
    },
    {
      "cell_type": "code",
      "metadata": {
        "colab": {
          "base_uri": "https://localhost:8080/",
          "height": 204
        },
        "id": "ZWzYE_Xc-GyN",
        "outputId": "4a0828dd-f860-4384-a276-c2d7c6b04839"
      },
      "source": [
        "pororo_good_update('NN_skill_komoran', 'Leona')"
      ],
      "execution_count": 65,
      "outputs": [
        {
          "output_type": "execute_result",
          "data": {
            "text/html": [
              "<div>\n",
              "<style scoped>\n",
              "    .dataframe tbody tr th:only-of-type {\n",
              "        vertical-align: middle;\n",
              "    }\n",
              "\n",
              "    .dataframe tbody tr th {\n",
              "        vertical-align: top;\n",
              "    }\n",
              "\n",
              "    .dataframe thead th {\n",
              "        text-align: right;\n",
              "    }\n",
              "</style>\n",
              "<table border=\"1\" class=\"dataframe\">\n",
              "  <thead>\n",
              "    <tr style=\"text-align: right;\">\n",
              "      <th></th>\n",
              "      <th>champ_rank</th>\n",
              "      <th>how_close</th>\n",
              "      <th>how</th>\n",
              "    </tr>\n",
              "  </thead>\n",
              "  <tbody>\n",
              "    <tr>\n",
              "      <th>0</th>\n",
              "      <td>Leona</td>\n",
              "      <td>1.00</td>\n",
              "      <td>레오 나가 다음 기본 공격 방패 사용 대상 추가 마법 피해 기절 레오 나가 방패 피...</td>\n",
              "    </tr>\n",
              "    <tr>\n",
              "      <th>1</th>\n",
              "      <td>Morgana</td>\n",
              "      <td>0.75</td>\n",
              "      <td>흑마 법 적 제자리 속박 적 유발 고통 마법 피해 대상 지역 저주 그림자 원 안 적...</td>\n",
              "    </tr>\n",
              "    <tr>\n",
              "      <th>2</th>\n",
              "      <td>Veigar</td>\n",
              "      <td>0.75</td>\n",
              "      <td>베이 가가 어둠 에너지 발사 처음 적 마법 피해 스키 적 유닛 처치 베이 가의 주문...</td>\n",
              "    </tr>\n",
              "    <tr>\n",
              "      <th>3</th>\n",
              "      <td>Rell</td>\n",
              "      <td>0.74</td>\n",
              "      <td>레 이 전방 창 일직선 유닛 마법 피해 보호막 파괴 처음 창 유닛 갑옷 파쇄 방어력...</td>\n",
              "    </tr>\n",
              "    <tr>\n",
              "      <th>4</th>\n",
              "      <td>Darius</td>\n",
              "      <td>0.74</td>\n",
              "      <td>다리우스 도끼 원 형태 도끼날 적 도끼 자루 적 피해 다리우스 도끼날 적 챔피언 대...</td>\n",
              "    </tr>\n",
              "  </tbody>\n",
              "</table>\n",
              "</div>"
            ],
            "text/plain": [
              "  champ_rank  how_close                                                how\n",
              "0      Leona       1.00  레오 나가 다음 기본 공격 방패 사용 대상 추가 마법 피해 기절 레오 나가 방패 피...\n",
              "1    Morgana       0.75  흑마 법 적 제자리 속박 적 유발 고통 마법 피해 대상 지역 저주 그림자 원 안 적...\n",
              "2     Veigar       0.75  베이 가가 어둠 에너지 발사 처음 적 마법 피해 스키 적 유닛 처치 베이 가의 주문...\n",
              "3       Rell       0.74  레 이 전방 창 일직선 유닛 마법 피해 보호막 파괴 처음 창 유닛 갑옷 파쇄 방어력...\n",
              "4     Darius       0.74  다리우스 도끼 원 형태 도끼날 적 도끼 자루 적 피해 다리우스 도끼날 적 챔피언 대..."
            ]
          },
          "metadata": {},
          "execution_count": 65
        }
      ]
    },
    {
      "cell_type": "code",
      "metadata": {
        "colab": {
          "base_uri": "https://localhost:8080/",
          "height": 204
        },
        "id": "LBDO73-5-Gq-",
        "outputId": "2f0b234d-4b03-4950-df5e-17ea4ef30071"
      },
      "source": [
        "pororo_good_update('NN_skill_komoran', 'Yasuo')"
      ],
      "execution_count": 66,
      "outputs": [
        {
          "output_type": "execute_result",
          "data": {
            "text/html": [
              "<div>\n",
              "<style scoped>\n",
              "    .dataframe tbody tr th:only-of-type {\n",
              "        vertical-align: middle;\n",
              "    }\n",
              "\n",
              "    .dataframe tbody tr th {\n",
              "        vertical-align: top;\n",
              "    }\n",
              "\n",
              "    .dataframe thead th {\n",
              "        text-align: right;\n",
              "    }\n",
              "</style>\n",
              "<table border=\"1\" class=\"dataframe\">\n",
              "  <thead>\n",
              "    <tr style=\"text-align: right;\">\n",
              "      <th></th>\n",
              "      <th>champ_rank</th>\n",
              "      <th>how_close</th>\n",
              "      <th>how</th>\n",
              "    </tr>\n",
              "  </thead>\n",
              "  <tbody>\n",
              "    <tr>\n",
              "      <th>0</th>\n",
              "      <td>Yasuo</td>\n",
              "      <td>1.00</td>\n",
              "      <td>전방 일직선 상 적 피해 적중 시 초간 폭풍 구름 효과 회 중첩 회 중첩 강철 폭풍...</td>\n",
              "    </tr>\n",
              "    <tr>\n",
              "      <th>1</th>\n",
              "      <td>Graves</td>\n",
              "      <td>0.83</td>\n",
              "      <td>탄환 발사 탄환 발사 초 뒤 지형 충돌 시 초 뒤 목표 지점 연막탄 발사 시야 연기...</td>\n",
              "    </tr>\n",
              "    <tr>\n",
              "      <th>2</th>\n",
              "      <td>Jayce</td>\n",
              "      <td>0.82</td>\n",
              "      <td>해머 사용 시 공중 도약 적 물리 피해 이동 속도 감소 캐논 사용 시 적 사거리 끝...</td>\n",
              "    </tr>\n",
              "    <tr>\n",
              "      <th>3</th>\n",
              "      <td>Warwick</td>\n",
              "      <td>0.82</td>\n",
              "      <td>앞 도약 대상 대상 최대 체력 비례 피해 이때 피해 량 체력 회복 체력 미만 적 감...</td>\n",
              "    </tr>\n",
              "    <tr>\n",
              "      <th>4</th>\n",
              "      <td>Brand</td>\n",
              "      <td>0.81</td>\n",
              "      <td>브랜드 덩이 발사 마법 피해 대상 스키 대상 1.5 초 동안 기절 잠시 후 목표 지...</td>\n",
              "    </tr>\n",
              "  </tbody>\n",
              "</table>\n",
              "</div>"
            ],
            "text/plain": [
              "  champ_rank  how_close                                                how\n",
              "0      Yasuo       1.00  전방 일직선 상 적 피해 적중 시 초간 폭풍 구름 효과 회 중첩 회 중첩 강철 폭풍...\n",
              "1     Graves       0.83  탄환 발사 탄환 발사 초 뒤 지형 충돌 시 초 뒤 목표 지점 연막탄 발사 시야 연기...\n",
              "2      Jayce       0.82  해머 사용 시 공중 도약 적 물리 피해 이동 속도 감소 캐논 사용 시 적 사거리 끝...\n",
              "3    Warwick       0.82  앞 도약 대상 대상 최대 체력 비례 피해 이때 피해 량 체력 회복 체력 미만 적 감...\n",
              "4      Brand       0.81  브랜드 덩이 발사 마법 피해 대상 스키 대상 1.5 초 동안 기절 잠시 후 목표 지..."
            ]
          },
          "metadata": {},
          "execution_count": 66
        }
      ]
    },
    {
      "cell_type": "code",
      "metadata": {
        "id": "OpZF5rysDRWw"
      },
      "source": [
        ""
      ],
      "execution_count": 66,
      "outputs": []
    },
    {
      "cell_type": "code",
      "metadata": {
        "id": "24NRO4KVDRKj"
      },
      "source": [
        ""
      ],
      "execution_count": 66,
      "outputs": []
    },
    {
      "cell_type": "markdown",
      "metadata": {
        "id": "oxuc6zLtCp2W"
      },
      "source": [
        "## 뽀로로를 이용하여 전처리 "
      ]
    },
    {
      "cell_type": "code",
      "metadata": {
        "colab": {
          "base_uri": "https://localhost:8080/"
        },
        "id": "KPCuXx38DOoi",
        "outputId": "cb66533b-86f5-4b7e-9efd-077f10acab58"
      },
      "source": [
        "pip install python-mecab-ko"
      ],
      "execution_count": 67,
      "outputs": [
        {
          "output_type": "stream",
          "name": "stdout",
          "text": [
            "Collecting python-mecab-ko\n",
            "  Downloading python-mecab-ko-1.0.12.tar.gz (9.7 kB)\n",
            "Collecting pybind11~=2.0\n",
            "  Downloading pybind11-2.7.1-py2.py3-none-any.whl (200 kB)\n",
            "\u001b[K     |████████████████████████████████| 200 kB 5.3 MB/s \n",
            "\u001b[?25hBuilding wheels for collected packages: python-mecab-ko\n",
            "  Building wheel for python-mecab-ko (setup.py) ... \u001b[?25lerror\n",
            "\u001b[31m  ERROR: Failed building wheel for python-mecab-ko\u001b[0m\n",
            "\u001b[?25h  Running setup.py clean for python-mecab-ko\n",
            "Failed to build python-mecab-ko\n",
            "Installing collected packages: pybind11, python-mecab-ko\n",
            "    Running setup.py install for python-mecab-ko ... \u001b[?25l\u001b[?25hdone\n",
            "\u001b[33m  DEPRECATION: python-mecab-ko was installed using the legacy 'setup.py install' method, because a wheel could not be built for it. A possible replacement is to fix the wheel build issue reported above. You can find discussion regarding this at https://github.com/pypa/pip/issues/8368.\u001b[0m\n",
            "Successfully installed pybind11-2.7.1 python-mecab-ko-1.0.12\n"
          ]
        }
      ]
    },
    {
      "cell_type": "code",
      "metadata": {
        "id": "6EnyuqafCP-5"
      },
      "source": [
        " pos = Pororo(task=\"pos\", lang=\"ko\")"
      ],
      "execution_count": 68,
      "outputs": []
    },
    {
      "cell_type": "code",
      "metadata": {
        "colab": {
          "base_uri": "https://localhost:8080/"
        },
        "id": "acUeBNAXDNSJ",
        "outputId": "302900fa-0ef6-47c8-bbd6-7142c7333de3"
      },
      "source": [
        "pos(\"안녕하세요. 제 이름은 카터입니다.\")"
      ],
      "execution_count": 69,
      "outputs": [
        {
          "output_type": "execute_result",
          "data": {
            "text/plain": [
              "[('안녕', 'NNG'),\n",
              " ('하', 'XSV'),\n",
              " ('시', 'EP'),\n",
              " ('어요', 'EF'),\n",
              " ('.', 'SF'),\n",
              " (' ', 'SPACE'),\n",
              " ('저', 'NP'),\n",
              " ('의', 'JKG'),\n",
              " (' ', 'SPACE'),\n",
              " ('이름', 'NNG'),\n",
              " ('은', 'JX'),\n",
              " (' ', 'SPACE'),\n",
              " ('카터', 'NNP'),\n",
              " ('이', 'VCP'),\n",
              " ('ᄇ니다', 'EF'),\n",
              " ('.', 'SF')]"
            ]
          },
          "metadata": {},
          "execution_count": 69
        }
      ]
    },
    {
      "cell_type": "code",
      "metadata": {
        "id": "wid_0Q9ZCP2w"
      },
      "source": [
        "def pororo_good_update(column, champ_name):\n",
        "    # clean_discrib = []\n",
        "    cands = []\n",
        "    for i in range(len(champ_summ[column])):\n",
        "        cands.append(champ_summ[column][i])\n",
        "    se = Pororo(task=\"sentence_embedding\", lang=\"ko\")\n",
        "\n",
        "    key = champ_summ[champ_summ['id'] == champ_name].index.values[0]\n",
        "    discrib = champ_summ[column][key]\n",
        "    # 랭킹 매기는 부분\n",
        "    ranking_1 = se.find_similar_sentences(discrib, cands)['ranking'][:6]\n",
        "    # 잘 보여주기 부분\n",
        "    ranking_list = pd.DataFrame()\n",
        "    champ_rank = []\n",
        "    how_close = []\n",
        "    how = []\n",
        "    for i in range(len(ranking_1)):\n",
        "        name_1 = who_are_u(ranking_1[i][0])\n",
        "        champ_rank.append(name_1)\n",
        "        how_close.append(ranking_1[i][2])\n",
        "        how.append(ranking_1[i][1])\n",
        "    ranking_list['champ_rank'] = champ_rank\n",
        "    ranking_list['how_close'] = how_close\n",
        "    ranking_list['how'] = how\n",
        "        \n",
        "    return ranking_list"
      ],
      "execution_count": 70,
      "outputs": []
    },
    {
      "cell_type": "code",
      "metadata": {
        "id": "pWg2VlEhCPxP"
      },
      "source": [
        "def poro_NN(column):\n",
        "    pos = Pororo(task=\"pos\", lang=\"ko\")\n",
        "    this_champ_NN = []\n",
        "    for i in range(len(champ_summ)):\n",
        "        champ_NN = ' '\n",
        "        for word in pos(champ_summ[column][i]): #명사\n",
        "\n",
        "            if word[1] in ['NN', 'NNG','NNS', 'NNP', 'NNPS']: #명사, 동사, 형용사\n",
        "                champ_NN = champ_NN + ' ' + word[0]\n",
        "        this_champ_NN.append(champ_NN)\n",
        "    return this_champ_NN"
      ],
      "execution_count": 71,
      "outputs": []
    },
    {
      "cell_type": "code",
      "metadata": {
        "colab": {
          "base_uri": "https://localhost:8080/"
        },
        "id": "oiT9KlSOEhPJ",
        "outputId": "929b3237-a5c5-4a08-96ef-f803da4eef9c"
      },
      "source": [
        "champ_summ.info()"
      ],
      "execution_count": 72,
      "outputs": [
        {
          "output_type": "stream",
          "name": "stdout",
          "text": [
            "<class 'pandas.core.frame.DataFrame'>\n",
            "RangeIndex: 156 entries, 0 to 155\n",
            "Data columns (total 19 columns):\n",
            " #   Column            Non-Null Count  Dtype \n",
            "---  ------            --------------  ----- \n",
            " 0   id                156 non-null    object\n",
            " 1   key               156 non-null    int64 \n",
            " 2   tags              156 non-null    object\n",
            " 3   champ_q           156 non-null    object\n",
            " 4   champ_w           156 non-null    object\n",
            " 5   champ_e           156 non-null    object\n",
            " 6   champ_r           156 non-null    object\n",
            " 7   champ_all_skill   156 non-null    object\n",
            " 8   all_tips          156 non-null    object\n",
            " 9   all_tips_literal  156 non-null    object\n",
            " 10  all_discribtion   156 non-null    object\n",
            " 11  clean_all_skill   156 non-null    object\n",
            " 12  NN_skill          156 non-null    object\n",
            " 13  real_NN_skill     156 non-null    object\n",
            " 14  VB_skill          156 non-null    object\n",
            " 15  NN_discrib        156 non-null    object\n",
            " 16  real_NN_discrib   156 non-null    object\n",
            " 17  VB_discrib        156 non-null    object\n",
            " 18  NN_skill_komoran  156 non-null    object\n",
            "dtypes: int64(1), object(18)\n",
            "memory usage: 23.3+ KB\n"
          ]
        }
      ]
    },
    {
      "cell_type": "code",
      "metadata": {
        "id": "Zycim0RtCPsK"
      },
      "source": [
        "poro_discrib = poro_NN('all_discribtion')\n",
        "champ_summ['poro_discrib'] = poro_discrib"
      ],
      "execution_count": 73,
      "outputs": []
    },
    {
      "cell_type": "code",
      "metadata": {
        "colab": {
          "base_uri": "https://localhost:8080/",
          "height": 204
        },
        "id": "7xwEAN2MCPlN",
        "outputId": "6e981a55-0969-4e67-f871-45ef94fb1fe3"
      },
      "source": [
        "pororo_good_update('poro_discrib', 'Leona')"
      ],
      "execution_count": 74,
      "outputs": [
        {
          "output_type": "execute_result",
          "data": {
            "text/html": [
              "<div>\n",
              "<style scoped>\n",
              "    .dataframe tbody tr th:only-of-type {\n",
              "        vertical-align: middle;\n",
              "    }\n",
              "\n",
              "    .dataframe tbody tr th {\n",
              "        vertical-align: top;\n",
              "    }\n",
              "\n",
              "    .dataframe thead th {\n",
              "        text-align: right;\n",
              "    }\n",
              "</style>\n",
              "<table border=\"1\" class=\"dataframe\">\n",
              "  <thead>\n",
              "    <tr style=\"text-align: right;\">\n",
              "      <th></th>\n",
              "      <th>champ_rank</th>\n",
              "      <th>how_close</th>\n",
              "      <th>how</th>\n",
              "    </tr>\n",
              "  </thead>\n",
              "  <tbody>\n",
              "    <tr>\n",
              "      <th>0</th>\n",
              "      <td>Leona</td>\n",
              "      <td>1.00</td>\n",
              "      <td>레오나 일식 사용 피해 전 동안 도망 시간 흑점 폭발 가운데 기절 이동 최 전선 목...</td>\n",
              "    </tr>\n",
              "    <tr>\n",
              "      <th>1</th>\n",
              "      <td>Irelia</td>\n",
              "      <td>0.80</td>\n",
              "      <td>렐리아 상대 때 이오니아 열정 중첩 주의 중첩 때 교전 미니언 무리 렐리아 이동 미...</td>\n",
              "    </tr>\n",
              "    <tr>\n",
              "      <th>2</th>\n",
              "      <td>Fiora</td>\n",
              "      <td>0.79</td>\n",
              "      <td>치명 검무 오라 공격 곳 때 반격 준비 피 오라 이동 불가 효과 때 주의 응수 스킬...</td>\n",
              "    </tr>\n",
              "    <tr>\n",
              "      <th>3</th>\n",
              "      <td>LeeSin</td>\n",
              "      <td>0.79</td>\n",
              "      <td>리 신 궁극 기인 분노 피해 최소 유닛 분산 리 신 강철 의지 무력 스킬 물리 피해...</td>\n",
              "    </tr>\n",
              "    <tr>\n",
              "      <th>4</th>\n",
              "      <td>Yone</td>\n",
              "      <td>0.79</td>\n",
              "      <td>전방 검 일 직선 적 피해 입 힙 적중 시 초간 폭풍 구름 효과 중첩 중첩 전방 돌...</td>\n",
              "    </tr>\n",
              "  </tbody>\n",
              "</table>\n",
              "</div>"
            ],
            "text/plain": [
              "  champ_rank  how_close                                                how\n",
              "0      Leona       1.00  레오나 일식 사용 피해 전 동안 도망 시간 흑점 폭발 가운데 기절 이동 최 전선 목...\n",
              "1     Irelia       0.80  렐리아 상대 때 이오니아 열정 중첩 주의 중첩 때 교전 미니언 무리 렐리아 이동 미...\n",
              "2      Fiora       0.79  치명 검무 오라 공격 곳 때 반격 준비 피 오라 이동 불가 효과 때 주의 응수 스킬...\n",
              "3     LeeSin       0.79  리 신 궁극 기인 분노 피해 최소 유닛 분산 리 신 강철 의지 무력 스킬 물리 피해...\n",
              "4       Yone       0.79  전방 검 일 직선 적 피해 입 힙 적중 시 초간 폭풍 구름 효과 중첩 중첩 전방 돌..."
            ]
          },
          "metadata": {},
          "execution_count": 74
        }
      ]
    },
    {
      "cell_type": "code",
      "metadata": {
        "colab": {
          "base_uri": "https://localhost:8080/",
          "height": 204
        },
        "id": "sB274-TmCPiO",
        "outputId": "4261350c-2166-425c-b199-b8b95888d797"
      },
      "source": [
        "pororo_good_update('poro_discrib', 'Yasuo')"
      ],
      "execution_count": 75,
      "outputs": [
        {
          "output_type": "execute_result",
          "data": {
            "text/html": [
              "<div>\n",
              "<style scoped>\n",
              "    .dataframe tbody tr th:only-of-type {\n",
              "        vertical-align: middle;\n",
              "    }\n",
              "\n",
              "    .dataframe tbody tr th {\n",
              "        vertical-align: top;\n",
              "    }\n",
              "\n",
              "    .dataframe thead th {\n",
              "        text-align: right;\n",
              "    }\n",
              "</style>\n",
              "<table border=\"1\" class=\"dataframe\">\n",
              "  <thead>\n",
              "    <tr style=\"text-align: right;\">\n",
              "      <th></th>\n",
              "      <th>champ_rank</th>\n",
              "      <th>how_close</th>\n",
              "      <th>how</th>\n",
              "    </tr>\n",
              "  </thead>\n",
              "  <tbody>\n",
              "    <tr>\n",
              "      <th>0</th>\n",
              "      <td>Yasuo</td>\n",
              "      <td>1.00</td>\n",
              "      <td>강철 폭풍 폭 가능 옆 야스오 강철 폭풍 다음 회오리 발사 해당 스킬 음향 효과 준...</td>\n",
              "    </tr>\n",
              "    <tr>\n",
              "      <th>1</th>\n",
              "      <td>Varus</td>\n",
              "      <td>0.86</td>\n",
              "      <td>역병 감염 경우 바루 스킬 공격 추가 피해 처치 어시스트 바루 공격 속도 상승 위협...</td>\n",
              "    </tr>\n",
              "    <tr>\n",
              "      <th>2</th>\n",
              "      <td>Jayce</td>\n",
              "      <td>0.84</td>\n",
              "      <td>제이스 근접 원 거리 공격 가능 제이스 자세 무기 색깔 근접 원 거리 파악 가속 관...</td>\n",
              "    </tr>\n",
              "    <tr>\n",
              "      <th>3</th>\n",
              "      <td>Shyvana</td>\n",
              "      <td>0.83</td>\n",
              "      <td>쉬바 위력 공격 운영 원 거리 공격 수 챔피언 상대 스킬 용 형상 때 적 피해 상대...</td>\n",
              "    </tr>\n",
              "    <tr>\n",
              "      <th>4</th>\n",
              "      <td>Kennen</td>\n",
              "      <td>0.81</td>\n",
              "      <td>폭풍 표식 때 조심 상대 폭풍 표식 중첩 기절 기본 체력 번개 질주 생각 사용 때 ...</td>\n",
              "    </tr>\n",
              "  </tbody>\n",
              "</table>\n",
              "</div>"
            ],
            "text/plain": [
              "  champ_rank  how_close                                                how\n",
              "0      Yasuo       1.00  강철 폭풍 폭 가능 옆 야스오 강철 폭풍 다음 회오리 발사 해당 스킬 음향 효과 준...\n",
              "1      Varus       0.86  역병 감염 경우 바루 스킬 공격 추가 피해 처치 어시스트 바루 공격 속도 상승 위협...\n",
              "2      Jayce       0.84  제이스 근접 원 거리 공격 가능 제이스 자세 무기 색깔 근접 원 거리 파악 가속 관...\n",
              "3    Shyvana       0.83  쉬바 위력 공격 운영 원 거리 공격 수 챔피언 상대 스킬 용 형상 때 적 피해 상대...\n",
              "4     Kennen       0.81  폭풍 표식 때 조심 상대 폭풍 표식 중첩 기절 기본 체력 번개 질주 생각 사용 때 ..."
            ]
          },
          "metadata": {},
          "execution_count": 75
        }
      ]
    },
    {
      "cell_type": "code",
      "metadata": {
        "id": "FkVFwLP4CPba"
      },
      "source": [
        "poro_skill = poro_NN('champ_all_skill')\n",
        "champ_summ['poro_skill'] = poro_skill"
      ],
      "execution_count": 76,
      "outputs": []
    },
    {
      "cell_type": "code",
      "metadata": {
        "colab": {
          "base_uri": "https://localhost:8080/",
          "height": 204
        },
        "id": "UNQs7FvH-Gn1",
        "outputId": "e9730e4e-b9e4-41ca-bd64-95e9730d40bf"
      },
      "source": [
        "pororo_good_update('poro_skill', 'Leona')"
      ],
      "execution_count": 77,
      "outputs": [
        {
          "output_type": "execute_result",
          "data": {
            "text/html": [
              "<div>\n",
              "<style scoped>\n",
              "    .dataframe tbody tr th:only-of-type {\n",
              "        vertical-align: middle;\n",
              "    }\n",
              "\n",
              "    .dataframe tbody tr th {\n",
              "        vertical-align: top;\n",
              "    }\n",
              "\n",
              "    .dataframe thead th {\n",
              "        text-align: right;\n",
              "    }\n",
              "</style>\n",
              "<table border=\"1\" class=\"dataframe\">\n",
              "  <thead>\n",
              "    <tr style=\"text-align: right;\">\n",
              "      <th></th>\n",
              "      <th>champ_rank</th>\n",
              "      <th>how_close</th>\n",
              "      <th>how</th>\n",
              "    </tr>\n",
              "  </thead>\n",
              "  <tbody>\n",
              "    <tr>\n",
              "      <th>0</th>\n",
              "      <td>Leona</td>\n",
              "      <td>1.00</td>\n",
              "      <td>레오나 다음 기본 공격 방패 사용 대상 추가 마법 피해 기절 레오나 방패 피해 량 ...</td>\n",
              "    </tr>\n",
              "    <tr>\n",
              "      <th>1</th>\n",
              "      <td>Fiora</td>\n",
              "      <td>0.76</td>\n",
              "      <td>오라 방향 돌진 근처 물리 피해 적중 시 효과 적용 피 오라 동안 공격 이동 불가 ...</td>\n",
              "    </tr>\n",
              "    <tr>\n",
              "      <th>2</th>\n",
              "      <td>Irelia</td>\n",
              "      <td>0.74</td>\n",
              "      <td>렐리아 돌진 대상 공격 체력 회복 대상 표식 칼 날 쇄도 처치 칼 날 쇄도 사용 대...</td>\n",
              "    </tr>\n",
              "    <tr>\n",
              "      <th>3</th>\n",
              "      <td>Sona</td>\n",
              "      <td>0.73</td>\n",
              "      <td>소나 용맹 찬가 연주 선율 발사 주변 적 마법 피해 입 힙 이 때 챔피언 몬스터 공...</td>\n",
              "    </tr>\n",
              "    <tr>\n",
              "      <th>4</th>\n",
              "      <td>Viktor</td>\n",
              "      <td>0.72</td>\n",
              "      <td>빅토르 대상 에너지 주입 마법 피해 보호 막 다음 기본 공격 강화 증강 사용 빅토르...</td>\n",
              "    </tr>\n",
              "  </tbody>\n",
              "</table>\n",
              "</div>"
            ],
            "text/plain": [
              "  champ_rank  how_close                                                how\n",
              "0      Leona       1.00  레오나 다음 기본 공격 방패 사용 대상 추가 마법 피해 기절 레오나 방패 피해 량 ...\n",
              "1      Fiora       0.76  오라 방향 돌진 근처 물리 피해 적중 시 효과 적용 피 오라 동안 공격 이동 불가 ...\n",
              "2     Irelia       0.74  렐리아 돌진 대상 공격 체력 회복 대상 표식 칼 날 쇄도 처치 칼 날 쇄도 사용 대...\n",
              "3       Sona       0.73  소나 용맹 찬가 연주 선율 발사 주변 적 마법 피해 입 힙 이 때 챔피언 몬스터 공...\n",
              "4     Viktor       0.72  빅토르 대상 에너지 주입 마법 피해 보호 막 다음 기본 공격 강화 증강 사용 빅토르..."
            ]
          },
          "metadata": {},
          "execution_count": 77
        }
      ]
    },
    {
      "cell_type": "code",
      "metadata": {
        "colab": {
          "base_uri": "https://localhost:8080/",
          "height": 204
        },
        "id": "9zv-axQeFLYB",
        "outputId": "7fbad2cb-d9ba-4ee7-e70f-81e0a31a6371"
      },
      "source": [
        "pororo_good_update('poro_skill', 'Yasuo')"
      ],
      "execution_count": 78,
      "outputs": [
        {
          "output_type": "execute_result",
          "data": {
            "text/html": [
              "<div>\n",
              "<style scoped>\n",
              "    .dataframe tbody tr th:only-of-type {\n",
              "        vertical-align: middle;\n",
              "    }\n",
              "\n",
              "    .dataframe tbody tr th {\n",
              "        vertical-align: top;\n",
              "    }\n",
              "\n",
              "    .dataframe thead th {\n",
              "        text-align: right;\n",
              "    }\n",
              "</style>\n",
              "<table border=\"1\" class=\"dataframe\">\n",
              "  <thead>\n",
              "    <tr style=\"text-align: right;\">\n",
              "      <th></th>\n",
              "      <th>champ_rank</th>\n",
              "      <th>how_close</th>\n",
              "      <th>how</th>\n",
              "    </tr>\n",
              "  </thead>\n",
              "  <tbody>\n",
              "    <tr>\n",
              "      <th>0</th>\n",
              "      <td>Yasuo</td>\n",
              "      <td>1.00</td>\n",
              "      <td>전방 일 직선 상 적 피해 입 힙 적중 시 초간 폭풍 구름 효과 중첩 중첩 강철 폭...</td>\n",
              "    </tr>\n",
              "    <tr>\n",
              "      <th>1</th>\n",
              "      <td>Yone</td>\n",
              "      <td>0.83</td>\n",
              "      <td>전방 검 일 직선 적 피해 입 힙 적중 시 초간 폭풍 구름 효과 중첩 중첩 전방 돌...</td>\n",
              "    </tr>\n",
              "    <tr>\n",
              "      <th>2</th>\n",
              "      <td>Jayce</td>\n",
              "      <td>0.82</td>\n",
              "      <td>해머 사용 공중 도약 적 물리 피해 이동 속도 감소 사용 적 사 거리 끝 폭발 전기...</td>\n",
              "    </tr>\n",
              "    <tr>\n",
              "      <th>3</th>\n",
              "      <td>Sylas</td>\n",
              "      <td>0.82</td>\n",
              "      <td>사일러스 사슬 교차 대상 지점 피해 이동 속도 늦 후 사슬 교차 지점 마력 폭발 피...</td>\n",
              "    </tr>\n",
              "    <tr>\n",
              "      <th>4</th>\n",
              "      <td>Varus</td>\n",
              "      <td>0.82</td>\n",
              "      <td>스가 조준한 다음 강화 화살 발사 조준한 시간 비례 사 거리 피해 량 기본 지속 효...</td>\n",
              "    </tr>\n",
              "  </tbody>\n",
              "</table>\n",
              "</div>"
            ],
            "text/plain": [
              "  champ_rank  how_close                                                how\n",
              "0      Yasuo       1.00  전방 일 직선 상 적 피해 입 힙 적중 시 초간 폭풍 구름 효과 중첩 중첩 강철 폭...\n",
              "1       Yone       0.83  전방 검 일 직선 적 피해 입 힙 적중 시 초간 폭풍 구름 효과 중첩 중첩 전방 돌...\n",
              "2      Jayce       0.82  해머 사용 공중 도약 적 물리 피해 이동 속도 감소 사용 적 사 거리 끝 폭발 전기...\n",
              "3      Sylas       0.82  사일러스 사슬 교차 대상 지점 피해 이동 속도 늦 후 사슬 교차 지점 마력 폭발 피...\n",
              "4      Varus       0.82  스가 조준한 다음 강화 화살 발사 조준한 시간 비례 사 거리 피해 량 기본 지속 효..."
            ]
          },
          "metadata": {},
          "execution_count": 78
        }
      ]
    },
    {
      "cell_type": "code",
      "metadata": {
        "id": "nj_9ab0wFLSp"
      },
      "source": [
        ""
      ],
      "execution_count": 78,
      "outputs": []
    },
    {
      "cell_type": "code",
      "metadata": {
        "id": "-qM-xoE5FLKg"
      },
      "source": [
        ""
      ],
      "execution_count": 78,
      "outputs": []
    },
    {
      "cell_type": "code",
      "metadata": {
        "id": "k6FaYtWLFLEe"
      },
      "source": [
        ""
      ],
      "execution_count": 78,
      "outputs": []
    },
    {
      "cell_type": "code",
      "metadata": {
        "id": "MRHQ1Yh_FK_1"
      },
      "source": [
        ""
      ],
      "execution_count": 78,
      "outputs": []
    }
  ]
}