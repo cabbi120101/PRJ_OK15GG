{
  "nbformat": 4,
  "nbformat_minor": 0,
  "metadata": {
    "colab": {
      "name": "좌표.ipynb",
      "provenance": [],
      "authorship_tag": "ABX9TyPE5B/DaYn4sD5b1ADc0w/c",
      "include_colab_link": true
    },
    "kernelspec": {
      "name": "python3",
      "display_name": "Python 3"
    },
    "language_info": {
      "name": "python"
    }
  },
  "cells": [
    {
      "cell_type": "markdown",
      "metadata": {
        "id": "view-in-github",
        "colab_type": "text"
      },
      "source": [
        "<a href=\"https://colab.research.google.com/github/cabbi120101/final_multi/blob/main/Try/%EC%A2%8C%ED%91%9C.ipynb\" target=\"_parent\"><img src=\"https://colab.research.google.com/assets/colab-badge.svg\" alt=\"Open In Colab\"/></a>"
      ]
    },
    {
      "cell_type": "code",
      "metadata": {
        "colab": {
          "base_uri": "https://localhost:8080/"
        },
        "id": "5eezL5v_WY_q",
        "outputId": "c78b13c1-946f-4993-e74e-40c2893696b5"
      },
      "source": [
        "from google.colab import drive\n",
        "drive.mount('/content/drive')"
      ],
      "execution_count": 1,
      "outputs": [
        {
          "output_type": "stream",
          "name": "stdout",
          "text": [
            "Mounted at /content/drive\n"
          ]
        }
      ]
    },
    {
      "cell_type": "code",
      "metadata": {
        "id": "fArJ7beKWWA5"
      },
      "source": [
        "import re\n",
        "import pandas as pd\n",
        "\n",
        "import numpy as np\n",
        "import json\n",
        "\n",
        "# from nltk.corpus import stopwords\n",
        "# from tensorflow.python.keras.preprocessing.sequence import pad_sequences\n",
        "# from tensorflow.python.keras.preprocessing.text import Tokenizer"
      ],
      "execution_count": 2,
      "outputs": []
    },
    {
      "cell_type": "code",
      "metadata": {
        "colab": {
          "base_uri": "https://localhost:8080/",
          "height": 204
        },
        "id": "dhdAjCUGWZ-F",
        "outputId": "e628d242-35db-4dab-c803-afba9fdf254f"
      },
      "source": [
        "timeline_info = pd.read_csv(\"/content/drive/MyDrive/Colab Notebooks/동욱코드모음/마지막프로젝트/4주차/데이터/timeline_info.csv\")\n",
        "timeline_info.head()"
      ],
      "execution_count": 3,
      "outputs": [
        {
          "output_type": "execute_result",
          "data": {
            "text/html": [
              "<div>\n",
              "<style scoped>\n",
              "    .dataframe tbody tr th:only-of-type {\n",
              "        vertical-align: middle;\n",
              "    }\n",
              "\n",
              "    .dataframe tbody tr th {\n",
              "        vertical-align: top;\n",
              "    }\n",
              "\n",
              "    .dataframe thead th {\n",
              "        text-align: right;\n",
              "    }\n",
              "</style>\n",
              "<table border=\"1\" class=\"dataframe\">\n",
              "  <thead>\n",
              "    <tr style=\"text-align: right;\">\n",
              "      <th></th>\n",
              "      <th>Unnamed: 0</th>\n",
              "      <th>gameId</th>\n",
              "      <th>time_stamp</th>\n",
              "      <th>participantId</th>\n",
              "      <th>positionX</th>\n",
              "      <th>positionY</th>\n",
              "      <th>currentGold</th>\n",
              "      <th>totalGold</th>\n",
              "      <th>p_level</th>\n",
              "      <th>xp</th>\n",
              "      <th>minionsKilled</th>\n",
              "      <th>jungleMinionsKilled</th>\n",
              "    </tr>\n",
              "  </thead>\n",
              "  <tbody>\n",
              "    <tr>\n",
              "      <th>0</th>\n",
              "      <td>0</td>\n",
              "      <td>5239649284</td>\n",
              "      <td>0</td>\n",
              "      <td>1</td>\n",
              "      <td>194</td>\n",
              "      <td>457</td>\n",
              "      <td>500</td>\n",
              "      <td>500</td>\n",
              "      <td>1</td>\n",
              "      <td>0</td>\n",
              "      <td>0</td>\n",
              "      <td>0</td>\n",
              "    </tr>\n",
              "    <tr>\n",
              "      <th>1</th>\n",
              "      <td>1</td>\n",
              "      <td>5239649284</td>\n",
              "      <td>0</td>\n",
              "      <td>2</td>\n",
              "      <td>557</td>\n",
              "      <td>345</td>\n",
              "      <td>500</td>\n",
              "      <td>500</td>\n",
              "      <td>1</td>\n",
              "      <td>0</td>\n",
              "      <td>0</td>\n",
              "      <td>0</td>\n",
              "    </tr>\n",
              "    <tr>\n",
              "      <th>2</th>\n",
              "      <td>2</td>\n",
              "      <td>5239649284</td>\n",
              "      <td>0</td>\n",
              "      <td>3</td>\n",
              "      <td>329</td>\n",
              "      <td>650</td>\n",
              "      <td>500</td>\n",
              "      <td>500</td>\n",
              "      <td>1</td>\n",
              "      <td>0</td>\n",
              "      <td>0</td>\n",
              "      <td>0</td>\n",
              "    </tr>\n",
              "    <tr>\n",
              "      <th>3</th>\n",
              "      <td>3</td>\n",
              "      <td>5239649284</td>\n",
              "      <td>0</td>\n",
              "      <td>4</td>\n",
              "      <td>554</td>\n",
              "      <td>581</td>\n",
              "      <td>500</td>\n",
              "      <td>500</td>\n",
              "      <td>1</td>\n",
              "      <td>0</td>\n",
              "      <td>0</td>\n",
              "      <td>0</td>\n",
              "    </tr>\n",
              "    <tr>\n",
              "      <th>4</th>\n",
              "      <td>4</td>\n",
              "      <td>5239649284</td>\n",
              "      <td>0</td>\n",
              "      <td>5</td>\n",
              "      <td>335</td>\n",
              "      <td>269</td>\n",
              "      <td>500</td>\n",
              "      <td>500</td>\n",
              "      <td>1</td>\n",
              "      <td>0</td>\n",
              "      <td>0</td>\n",
              "      <td>0</td>\n",
              "    </tr>\n",
              "  </tbody>\n",
              "</table>\n",
              "</div>"
            ],
            "text/plain": [
              "   Unnamed: 0      gameId  time_stamp  ...  xp  minionsKilled  jungleMinionsKilled\n",
              "0           0  5239649284           0  ...   0              0                    0\n",
              "1           1  5239649284           0  ...   0              0                    0\n",
              "2           2  5239649284           0  ...   0              0                    0\n",
              "3           3  5239649284           0  ...   0              0                    0\n",
              "4           4  5239649284           0  ...   0              0                    0\n",
              "\n",
              "[5 rows x 12 columns]"
            ]
          },
          "metadata": {},
          "execution_count": 3
        }
      ]
    },
    {
      "cell_type": "code",
      "metadata": {
        "colab": {
          "base_uri": "https://localhost:8080/",
          "height": 241
        },
        "id": "E7BD20G_W3dt",
        "outputId": "88614d7e-00e8-43aa-ee06-a6dae562155a"
      },
      "source": [
        "match_info = pd.read_csv(\"/content/drive/MyDrive/Colab Notebooks/동욱코드모음/마지막프로젝트/4주차/데이터/match_info.csv\")\n",
        "match_info.head()"
      ],
      "execution_count": 4,
      "outputs": [
        {
          "output_type": "execute_result",
          "data": {
            "text/html": [
              "<div>\n",
              "<style scoped>\n",
              "    .dataframe tbody tr th:only-of-type {\n",
              "        vertical-align: middle;\n",
              "    }\n",
              "\n",
              "    .dataframe tbody tr th {\n",
              "        vertical-align: top;\n",
              "    }\n",
              "\n",
              "    .dataframe thead th {\n",
              "        text-align: right;\n",
              "    }\n",
              "</style>\n",
              "<table border=\"1\" class=\"dataframe\">\n",
              "  <thead>\n",
              "    <tr style=\"text-align: right;\">\n",
              "      <th></th>\n",
              "      <th>Unnamed: 0</th>\n",
              "      <th>gameId</th>\n",
              "      <th>participantId</th>\n",
              "      <th>accountId</th>\n",
              "      <th>championId</th>\n",
              "      <th>spell1Id</th>\n",
              "      <th>spell2Id</th>\n",
              "      <th>item0</th>\n",
              "      <th>item1</th>\n",
              "      <th>item2</th>\n",
              "      <th>item3</th>\n",
              "      <th>item4</th>\n",
              "      <th>item5</th>\n",
              "      <th>item6</th>\n",
              "      <th>teamId</th>\n",
              "      <th>kills</th>\n",
              "      <th>deaths</th>\n",
              "      <th>assists</th>\n",
              "      <th>totalDamageDealt</th>\n",
              "      <th>totalDamageDealtToChampions</th>\n",
              "      <th>totalHeal</th>\n",
              "      <th>damageSelfMitigated</th>\n",
              "      <th>damageDealtToObjectives</th>\n",
              "      <th>damageDealtToTurrets</th>\n",
              "      <th>visionScore</th>\n",
              "      <th>timeCCingOthers</th>\n",
              "      <th>totalDamageTaken</th>\n",
              "      <th>goldEarned</th>\n",
              "      <th>turretKills</th>\n",
              "      <th>inhibitorKills</th>\n",
              "      <th>totalMinionsKilled</th>\n",
              "      <th>totalTimeCrowdControlDealt</th>\n",
              "      <th>champLevel</th>\n",
              "      <th>visionWardsBoughtInGame</th>\n",
              "      <th>wardsPlaced</th>\n",
              "      <th>wardsKilled</th>\n",
              "      <th>firstBloodKill</th>\n",
              "      <th>firstBloodAssist</th>\n",
              "      <th>firstTowerKill</th>\n",
              "      <th>firstTowerAssist</th>\n",
              "    </tr>\n",
              "  </thead>\n",
              "  <tbody>\n",
              "    <tr>\n",
              "      <th>0</th>\n",
              "      <td>0</td>\n",
              "      <td>5094010678</td>\n",
              "      <td>1</td>\n",
              "      <td>qQF7a08G9hzN3tzcrfeOaHsn7R_qi8hWVjERoh14PnQE5F...</td>\n",
              "      <td>111</td>\n",
              "      <td>14</td>\n",
              "      <td>4</td>\n",
              "      <td>2055</td>\n",
              "      <td>3117</td>\n",
              "      <td>3859</td>\n",
              "      <td>3067</td>\n",
              "      <td>1029</td>\n",
              "      <td>0</td>\n",
              "      <td>3364</td>\n",
              "      <td>100</td>\n",
              "      <td>0</td>\n",
              "      <td>3</td>\n",
              "      <td>5</td>\n",
              "      <td>12685</td>\n",
              "      <td>5065</td>\n",
              "      <td>0</td>\n",
              "      <td>5815</td>\n",
              "      <td>0</td>\n",
              "      <td>0</td>\n",
              "      <td>31</td>\n",
              "      <td>36</td>\n",
              "      <td>6037</td>\n",
              "      <td>3602</td>\n",
              "      <td>0</td>\n",
              "      <td>0</td>\n",
              "      <td>21</td>\n",
              "      <td>116</td>\n",
              "      <td>7</td>\n",
              "      <td>7</td>\n",
              "      <td>16</td>\n",
              "      <td>4</td>\n",
              "      <td>0</td>\n",
              "      <td>0</td>\n",
              "      <td>0</td>\n",
              "      <td>0</td>\n",
              "    </tr>\n",
              "    <tr>\n",
              "      <th>1</th>\n",
              "      <td>1</td>\n",
              "      <td>5094010678</td>\n",
              "      <td>2</td>\n",
              "      <td>s0wpd8i6-7NKlUmWEPj2-s7eVY9NoreBtnKHwJ-T61w6</td>\n",
              "      <td>203</td>\n",
              "      <td>11</td>\n",
              "      <td>4</td>\n",
              "      <td>1001</td>\n",
              "      <td>2031</td>\n",
              "      <td>6670</td>\n",
              "      <td>2055</td>\n",
              "      <td>1018</td>\n",
              "      <td>1037</td>\n",
              "      <td>3364</td>\n",
              "      <td>100</td>\n",
              "      <td>1</td>\n",
              "      <td>8</td>\n",
              "      <td>3</td>\n",
              "      <td>46822</td>\n",
              "      <td>7144</td>\n",
              "      <td>5278</td>\n",
              "      <td>5558</td>\n",
              "      <td>7192</td>\n",
              "      <td>0</td>\n",
              "      <td>16</td>\n",
              "      <td>3</td>\n",
              "      <td>14269</td>\n",
              "      <td>4193</td>\n",
              "      <td>0</td>\n",
              "      <td>0</td>\n",
              "      <td>14</td>\n",
              "      <td>142</td>\n",
              "      <td>7</td>\n",
              "      <td>5</td>\n",
              "      <td>6</td>\n",
              "      <td>3</td>\n",
              "      <td>0</td>\n",
              "      <td>0</td>\n",
              "      <td>0</td>\n",
              "      <td>0</td>\n",
              "    </tr>\n",
              "    <tr>\n",
              "      <th>2</th>\n",
              "      <td>2</td>\n",
              "      <td>5094010678</td>\n",
              "      <td>3</td>\n",
              "      <td>AbtyzuEj4qSZ2xP-hOusnuo7WYZRsGHccsND8156JzVajUU</td>\n",
              "      <td>122</td>\n",
              "      <td>6</td>\n",
              "      <td>4</td>\n",
              "      <td>6631</td>\n",
              "      <td>2031</td>\n",
              "      <td>1054</td>\n",
              "      <td>1001</td>\n",
              "      <td>1029</td>\n",
              "      <td>0</td>\n",
              "      <td>3340</td>\n",
              "      <td>100</td>\n",
              "      <td>1</td>\n",
              "      <td>4</td>\n",
              "      <td>1</td>\n",
              "      <td>42997</td>\n",
              "      <td>5725</td>\n",
              "      <td>1029</td>\n",
              "      <td>5946</td>\n",
              "      <td>668</td>\n",
              "      <td>668</td>\n",
              "      <td>9</td>\n",
              "      <td>12</td>\n",
              "      <td>10561</td>\n",
              "      <td>4895</td>\n",
              "      <td>0</td>\n",
              "      <td>0</td>\n",
              "      <td>89</td>\n",
              "      <td>48</td>\n",
              "      <td>10</td>\n",
              "      <td>0</td>\n",
              "      <td>4</td>\n",
              "      <td>2</td>\n",
              "      <td>0</td>\n",
              "      <td>0</td>\n",
              "      <td>0</td>\n",
              "      <td>0</td>\n",
              "    </tr>\n",
              "    <tr>\n",
              "      <th>3</th>\n",
              "      <td>3</td>\n",
              "      <td>5094010678</td>\n",
              "      <td>4</td>\n",
              "      <td>vqPRRBkpi9vZ2nMhuUAoqDKLwOOxZC7_rpdRH5q5kNTn</td>\n",
              "      <td>517</td>\n",
              "      <td>4</td>\n",
              "      <td>12</td>\n",
              "      <td>1082</td>\n",
              "      <td>6656</td>\n",
              "      <td>0</td>\n",
              "      <td>3111</td>\n",
              "      <td>1056</td>\n",
              "      <td>0</td>\n",
              "      <td>3340</td>\n",
              "      <td>100</td>\n",
              "      <td>5</td>\n",
              "      <td>5</td>\n",
              "      <td>0</td>\n",
              "      <td>41809</td>\n",
              "      <td>8257</td>\n",
              "      <td>2180</td>\n",
              "      <td>6370</td>\n",
              "      <td>128</td>\n",
              "      <td>128</td>\n",
              "      <td>7</td>\n",
              "      <td>9</td>\n",
              "      <td>12595</td>\n",
              "      <td>5730</td>\n",
              "      <td>0</td>\n",
              "      <td>0</td>\n",
              "      <td>81</td>\n",
              "      <td>172</td>\n",
              "      <td>9</td>\n",
              "      <td>2</td>\n",
              "      <td>6</td>\n",
              "      <td>1</td>\n",
              "      <td>0</td>\n",
              "      <td>0</td>\n",
              "      <td>0</td>\n",
              "      <td>0</td>\n",
              "    </tr>\n",
              "    <tr>\n",
              "      <th>4</th>\n",
              "      <td>4</td>\n",
              "      <td>5094010678</td>\n",
              "      <td>5</td>\n",
              "      <td>T2l7urTlY8nYXnMa0w37Js0WqFqcIUFMNGayO6oGl0gcEw...</td>\n",
              "      <td>523</td>\n",
              "      <td>7</td>\n",
              "      <td>4</td>\n",
              "      <td>1055</td>\n",
              "      <td>1018</td>\n",
              "      <td>6670</td>\n",
              "      <td>3006</td>\n",
              "      <td>1037</td>\n",
              "      <td>0</td>\n",
              "      <td>3340</td>\n",
              "      <td>100</td>\n",
              "      <td>2</td>\n",
              "      <td>5</td>\n",
              "      <td>1</td>\n",
              "      <td>37138</td>\n",
              "      <td>5804</td>\n",
              "      <td>1595</td>\n",
              "      <td>2730</td>\n",
              "      <td>1143</td>\n",
              "      <td>1143</td>\n",
              "      <td>12</td>\n",
              "      <td>11</td>\n",
              "      <td>7687</td>\n",
              "      <td>5362</td>\n",
              "      <td>0</td>\n",
              "      <td>0</td>\n",
              "      <td>107</td>\n",
              "      <td>86</td>\n",
              "      <td>8</td>\n",
              "      <td>1</td>\n",
              "      <td>5</td>\n",
              "      <td>3</td>\n",
              "      <td>0</td>\n",
              "      <td>0</td>\n",
              "      <td>0</td>\n",
              "      <td>0</td>\n",
              "    </tr>\n",
              "  </tbody>\n",
              "</table>\n",
              "</div>"
            ],
            "text/plain": [
              "   Unnamed: 0      gameId  ...  firstTowerKill firstTowerAssist\n",
              "0           0  5094010678  ...               0                0\n",
              "1           1  5094010678  ...               0                0\n",
              "2           2  5094010678  ...               0                0\n",
              "3           3  5094010678  ...               0                0\n",
              "4           4  5094010678  ...               0                0\n",
              "\n",
              "[5 rows x 40 columns]"
            ]
          },
          "metadata": {},
          "execution_count": 4
        }
      ]
    },
    {
      "cell_type": "code",
      "metadata": {
        "id": "kcJMTdRVYl6O"
      },
      "source": [
        "import csv\n",
        "import json"
      ],
      "execution_count": 13,
      "outputs": []
    },
    {
      "cell_type": "code",
      "metadata": {
        "id": "amcsgIsyYoOp"
      },
      "source": [
        "input_file_name = \"/content/drive/MyDrive/Colab Notebooks/동욱코드모음/마지막프로젝트/4주차/데이터/ko_KR/item.json\"\n",
        "output_file_name = \"item.csv\"\n",
        "with open(input_file_name, \"r\", encoding=\"utf-8\", newline=\"\") as input_file, \\\n",
        "        open(output_file_name, \"w\", encoding=\"utf-8\", newline=\"\") as output_file:\n",
        "    data = []\n",
        "    for line in input_file:\n",
        "        datum = json.loads(line)\n",
        "        data.append(datum)\n",
        "        \n",
        "    csvwriter = csv.writer(output_file)\n",
        "    csvwriter.writerow(data[0].keys())\n",
        "    for line in data:\n",
        "        csvwriter.writerow(line.values())"
      ],
      "execution_count": 17,
      "outputs": []
    },
    {
      "cell_type": "code",
      "metadata": {
        "id": "W7YwtNxzZY1W"
      },
      "source": [
        "pd.set_option('display.max_rows',None)"
      ],
      "execution_count": 26,
      "outputs": []
    },
    {
      "cell_type": "code",
      "metadata": {
        "id": "RIHHMG2NY_O-"
      },
      "source": [
        "item = pd.read_csv('item.csv')"
      ],
      "execution_count": 22,
      "outputs": []
    },
    {
      "cell_type": "code",
      "metadata": {
        "colab": {
          "base_uri": "https://localhost:8080/"
        },
        "id": "hkzBp0I8ZKsZ",
        "outputId": "0a84a12d-3b6c-43e6-dd18-35ba7c678040"
      },
      "source": [
        "item['basic'].keys"
      ],
      "execution_count": 32,
      "outputs": [
        {
          "output_type": "execute_result",
          "data": {
            "text/plain": [
              "<bound method Series.keys of 0    {'name': '', 'rune': {'isrune': False, 'tier':...\n",
              "Name: basic, dtype: object>"
            ]
          },
          "metadata": {},
          "execution_count": 32
        }
      ]
    },
    {
      "cell_type": "code",
      "metadata": {
        "colab": {
          "base_uri": "https://localhost:8080/",
          "height": 317
        },
        "id": "wnhim5AQXCNA",
        "outputId": "4464a0f3-ff08-4103-cbbd-4e3a7a9f2656"
      },
      "source": [
        "item = json.load(\"/content/drive/MyDrive/Colab Notebooks/동욱코드모음/마지막프로젝트/4주차/데이터/ko_KR/item.json\")\n",
        "# item = pd.json_normalize(\"/content/drive/MyDrive/Colab Notebooks/동욱코드모음/마지막프로젝트/4주차/데이터/ko_KR/item.json\")\n",
        "item.head()"
      ],
      "execution_count": 35,
      "outputs": [
        {
          "output_type": "error",
          "ename": "AttributeError",
          "evalue": "ignored",
          "traceback": [
            "\u001b[0;31m---------------------------------------------------------------------------\u001b[0m",
            "\u001b[0;31mAttributeError\u001b[0m                            Traceback (most recent call last)",
            "\u001b[0;32m<ipython-input-35-012b659c18a2>\u001b[0m in \u001b[0;36m<module>\u001b[0;34m()\u001b[0m\n\u001b[0;32m----> 1\u001b[0;31m \u001b[0mitem\u001b[0m \u001b[0;34m=\u001b[0m \u001b[0mjson\u001b[0m\u001b[0;34m.\u001b[0m\u001b[0mload\u001b[0m\u001b[0;34m(\u001b[0m\u001b[0;34m\"/content/drive/MyDrive/Colab Notebooks/동욱코드모음/마지막프로젝트/4주차/데이터/ko_KR/item.json\"\u001b[0m\u001b[0;34m)\u001b[0m\u001b[0;34m\u001b[0m\u001b[0;34m\u001b[0m\u001b[0m\n\u001b[0m\u001b[1;32m      2\u001b[0m \u001b[0;31m# item = pd.json_normalize(\"/content/drive/MyDrive/Colab Notebooks/동욱코드모음/마지막프로젝트/4주차/데이터/ko_KR/item.json\")\u001b[0m\u001b[0;34m\u001b[0m\u001b[0;34m\u001b[0m\u001b[0;34m\u001b[0m\u001b[0m\n\u001b[1;32m      3\u001b[0m \u001b[0mitem\u001b[0m\u001b[0;34m.\u001b[0m\u001b[0mhead\u001b[0m\u001b[0;34m(\u001b[0m\u001b[0;34m)\u001b[0m\u001b[0;34m\u001b[0m\u001b[0;34m\u001b[0m\u001b[0m\n",
            "\u001b[0;32m/usr/lib/python3.7/json/__init__.py\u001b[0m in \u001b[0;36mload\u001b[0;34m(fp, cls, object_hook, parse_float, parse_int, parse_constant, object_pairs_hook, **kw)\u001b[0m\n\u001b[1;32m    291\u001b[0m     \u001b[0mkwarg\u001b[0m\u001b[0;34m;\u001b[0m \u001b[0motherwise\u001b[0m\u001b[0;31m \u001b[0m\u001b[0;31m`\u001b[0m\u001b[0;31m`\u001b[0m\u001b[0mJSONDecoder\u001b[0m\u001b[0;31m`\u001b[0m\u001b[0;31m`\u001b[0m \u001b[0;32mis\u001b[0m \u001b[0mused\u001b[0m\u001b[0;34m.\u001b[0m\u001b[0;34m\u001b[0m\u001b[0;34m\u001b[0m\u001b[0m\n\u001b[1;32m    292\u001b[0m     \"\"\"\n\u001b[0;32m--> 293\u001b[0;31m     return loads(fp.read(),\n\u001b[0m\u001b[1;32m    294\u001b[0m         \u001b[0mcls\u001b[0m\u001b[0;34m=\u001b[0m\u001b[0mcls\u001b[0m\u001b[0;34m,\u001b[0m \u001b[0mobject_hook\u001b[0m\u001b[0;34m=\u001b[0m\u001b[0mobject_hook\u001b[0m\u001b[0;34m,\u001b[0m\u001b[0;34m\u001b[0m\u001b[0;34m\u001b[0m\u001b[0m\n\u001b[1;32m    295\u001b[0m         \u001b[0mparse_float\u001b[0m\u001b[0;34m=\u001b[0m\u001b[0mparse_float\u001b[0m\u001b[0;34m,\u001b[0m \u001b[0mparse_int\u001b[0m\u001b[0;34m=\u001b[0m\u001b[0mparse_int\u001b[0m\u001b[0;34m,\u001b[0m\u001b[0;34m\u001b[0m\u001b[0;34m\u001b[0m\u001b[0m\n",
            "\u001b[0;31mAttributeError\u001b[0m: 'str' object has no attribute 'read'"
          ]
        }
      ]
    },
    {
      "cell_type": "code",
      "metadata": {
        "id": "k6sbCTmqXTKK"
      },
      "source": [
        ""
      ],
      "execution_count": null,
      "outputs": []
    }
  ]
}