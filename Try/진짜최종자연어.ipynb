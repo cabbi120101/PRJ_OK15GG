{
  "nbformat": 4,
  "nbformat_minor": 0,
  "metadata": {
    "colab": {
      "name": "진짜최종자연어.ipynb",
      "provenance": [],
      "mount_file_id": "1hyFd86to3NMy88eunhOYJGCAA5Qhu6HJ",
      "authorship_tag": "ABX9TyMBPR/t2WupdeUowLBpwJKr",
      "include_colab_link": true
    },
    "kernelspec": {
      "name": "python3",
      "display_name": "Python 3"
    },
    "language_info": {
      "name": "python"
    }
  },
  "cells": [
    {
      "cell_type": "markdown",
      "metadata": {
        "id": "view-in-github",
        "colab_type": "text"
      },
      "source": [
        "<a href=\"https://colab.research.google.com/github/cabbi120101/final_multi/blob/main/Try/%EC%A7%84%EC%A7%9C%EC%B5%9C%EC%A2%85%EC%9E%90%EC%97%B0%EC%96%B4.ipynb\" target=\"_parent\"><img src=\"https://colab.research.google.com/assets/colab-badge.svg\" alt=\"Open In Colab\"/></a>"
      ]
    },
    {
      "cell_type": "code",
      "metadata": {
        "id": "kvDSbWK2_gSQ"
      },
      "source": [
        ""
      ],
      "execution_count": null,
      "outputs": []
    },
    {
      "cell_type": "code",
      "metadata": {
        "id": "5RmFZHQy_Xjm"
      },
      "source": [
        "import re\n",
        "import pandas as pd\n",
        "\n",
        "import numpy as np\n",
        "import json\n",
        "\n",
        "from nltk.corpus import stopwords\n",
        "from tensorflow.python.keras.preprocessing.sequence import pad_sequences\n",
        "from tensorflow.python.keras.preprocessing.text import Tokenizer"
      ],
      "execution_count": 1,
      "outputs": []
    },
    {
      "cell_type": "code",
      "metadata": {
        "colab": {
          "base_uri": "https://localhost:8080/",
          "height": 666
        },
        "id": "VHUAsi22_bbF",
        "outputId": "ae6f1ce5-288a-41dd-9db6-d1bd4c5f3f25"
      },
      "source": [
        "champ_info = pd.read_csv(\"/content/drive/MyDrive/Colab Notebooks/동욱코드모음/마지막프로젝트/3주차/시도/champ_addSk.csv\")\n",
        "champ_info.head()"
      ],
      "execution_count": 2,
      "outputs": [
        {
          "output_type": "execute_result",
          "data": {
            "text/html": [
              "<div>\n",
              "<style scoped>\n",
              "    .dataframe tbody tr th:only-of-type {\n",
              "        vertical-align: middle;\n",
              "    }\n",
              "\n",
              "    .dataframe tbody tr th {\n",
              "        vertical-align: top;\n",
              "    }\n",
              "\n",
              "    .dataframe thead th {\n",
              "        text-align: right;\n",
              "    }\n",
              "</style>\n",
              "<table border=\"1\" class=\"dataframe\">\n",
              "  <thead>\n",
              "    <tr style=\"text-align: right;\">\n",
              "      <th></th>\n",
              "      <th>Unnamed: 0</th>\n",
              "      <th>version</th>\n",
              "      <th>id</th>\n",
              "      <th>key</th>\n",
              "      <th>name</th>\n",
              "      <th>title</th>\n",
              "      <th>blurb</th>\n",
              "      <th>info</th>\n",
              "      <th>image</th>\n",
              "      <th>tags</th>\n",
              "      <th>partype</th>\n",
              "      <th>stats</th>\n",
              "      <th>attack</th>\n",
              "      <th>defense</th>\n",
              "      <th>magic</th>\n",
              "      <th>difficulty</th>\n",
              "      <th>hp</th>\n",
              "      <th>hpperlevel</th>\n",
              "      <th>mp</th>\n",
              "      <th>mpperlevel</th>\n",
              "      <th>movespeed</th>\n",
              "      <th>armor</th>\n",
              "      <th>armorperlevel</th>\n",
              "      <th>spellblock</th>\n",
              "      <th>spellblockperlevel</th>\n",
              "      <th>attackrange</th>\n",
              "      <th>hpregen</th>\n",
              "      <th>hpregenperlevel</th>\n",
              "      <th>mpregen</th>\n",
              "      <th>mpregenperlevel</th>\n",
              "      <th>crit</th>\n",
              "      <th>critperlevel</th>\n",
              "      <th>attackdamage</th>\n",
              "      <th>attackdamageperlevel</th>\n",
              "      <th>attackspeedperlevel</th>\n",
              "      <th>attackspeed</th>\n",
              "      <th>skins</th>\n",
              "      <th>lore</th>\n",
              "      <th>allytips</th>\n",
              "      <th>enemytips</th>\n",
              "      <th>spells</th>\n",
              "      <th>passive</th>\n",
              "      <th>recommended</th>\n",
              "      <th>skillQ</th>\n",
              "      <th>skillW</th>\n",
              "      <th>skillE</th>\n",
              "      <th>skillR</th>\n",
              "    </tr>\n",
              "  </thead>\n",
              "  <tbody>\n",
              "    <tr>\n",
              "      <th>0</th>\n",
              "      <td>0</td>\n",
              "      <td>11.17.1</td>\n",
              "      <td>Aatrox</td>\n",
              "      <td>266</td>\n",
              "      <td>Aatrox</td>\n",
              "      <td>the Darkin Blade</td>\n",
              "      <td>Once honored defenders of Shurima against the ...</td>\n",
              "      <td>{'attack': 8, 'defense': 4, 'magic': 3, 'diffi...</td>\n",
              "      <td>{'full': 'Aatrox.png', 'sprite': 'champion0.pn...</td>\n",
              "      <td>['Fighter', 'Tank']</td>\n",
              "      <td>Blood Well</td>\n",
              "      <td>{'hp': 580, 'hpperlevel': 90, 'mp': 0, 'mpperl...</td>\n",
              "      <td>8</td>\n",
              "      <td>4</td>\n",
              "      <td>3</td>\n",
              "      <td>4</td>\n",
              "      <td>580.0</td>\n",
              "      <td>90</td>\n",
              "      <td>0.0</td>\n",
              "      <td>0.0</td>\n",
              "      <td>345</td>\n",
              "      <td>38</td>\n",
              "      <td>3.25</td>\n",
              "      <td>32.0</td>\n",
              "      <td>1.25</td>\n",
              "      <td>175</td>\n",
              "      <td>3.00</td>\n",
              "      <td>1.00</td>\n",
              "      <td>0.000</td>\n",
              "      <td>0.0</td>\n",
              "      <td>0</td>\n",
              "      <td>0</td>\n",
              "      <td>60.0</td>\n",
              "      <td>5.00</td>\n",
              "      <td>2.500</td>\n",
              "      <td>0.651</td>\n",
              "      <td>[{'id': '266000', 'num': 0, 'name': 'default',...</td>\n",
              "      <td>Once honored defenders of Shurima against the ...</td>\n",
              "      <td>['Use Umbral Dash while casting The Darkin Bla...</td>\n",
              "      <td>[\"Aatrox's attacks are very telegraphed, so us...</td>\n",
              "      <td>[{'id': 'AatroxQ', 'name': 'The Darkin Blade',...</td>\n",
              "      <td>{'name': 'Deathbringer Stance', 'description':...</td>\n",
              "      <td>[]</td>\n",
              "      <td>{'id': 'AatroxQ', 'name': 'The Darkin Blade', ...</td>\n",
              "      <td>{'id': 'AatroxW', 'name': 'Infernal Chains', '...</td>\n",
              "      <td>{'id': 'AatroxE', 'name': 'Umbral Dash', 'desc...</td>\n",
              "      <td>{'id': 'AatroxR', 'name': 'World Ender', 'desc...</td>\n",
              "    </tr>\n",
              "    <tr>\n",
              "      <th>1</th>\n",
              "      <td>1</td>\n",
              "      <td>11.17.1</td>\n",
              "      <td>Ahri</td>\n",
              "      <td>103</td>\n",
              "      <td>Ahri</td>\n",
              "      <td>the Nine-Tailed Fox</td>\n",
              "      <td>Innately connected to the latent power of Rune...</td>\n",
              "      <td>{'attack': 3, 'defense': 4, 'magic': 8, 'diffi...</td>\n",
              "      <td>{'full': 'Ahri.png', 'sprite': 'champion0.png'...</td>\n",
              "      <td>['Mage', 'Assassin']</td>\n",
              "      <td>Mana</td>\n",
              "      <td>{'hp': 526, 'hpperlevel': 92, 'mp': 418, 'mppe...</td>\n",
              "      <td>3</td>\n",
              "      <td>4</td>\n",
              "      <td>8</td>\n",
              "      <td>5</td>\n",
              "      <td>526.0</td>\n",
              "      <td>92</td>\n",
              "      <td>418.0</td>\n",
              "      <td>25.0</td>\n",
              "      <td>330</td>\n",
              "      <td>21</td>\n",
              "      <td>3.50</td>\n",
              "      <td>30.0</td>\n",
              "      <td>0.50</td>\n",
              "      <td>550</td>\n",
              "      <td>5.50</td>\n",
              "      <td>0.60</td>\n",
              "      <td>8.000</td>\n",
              "      <td>0.8</td>\n",
              "      <td>0</td>\n",
              "      <td>0</td>\n",
              "      <td>53.0</td>\n",
              "      <td>3.00</td>\n",
              "      <td>2.000</td>\n",
              "      <td>0.668</td>\n",
              "      <td>[{'id': '103000', 'num': 0, 'name': 'default',...</td>\n",
              "      <td>Innately connected to the latent power of Rune...</td>\n",
              "      <td>['Use Charm to set up your combos, it will mak...</td>\n",
              "      <td>[\"Ahri's survivability is dramatically reduced...</td>\n",
              "      <td>[{'id': 'AhriOrbofDeception', 'name': 'Orb of ...</td>\n",
              "      <td>{'name': 'Essence Theft', 'description': 'When...</td>\n",
              "      <td>[]</td>\n",
              "      <td>{'id': 'AhriOrbofDeception', 'name': 'Orb of D...</td>\n",
              "      <td>{'id': 'AhriFoxFire', 'name': 'Fox-Fire', 'des...</td>\n",
              "      <td>{'id': 'AhriSeduce', 'name': 'Charm', 'descrip...</td>\n",
              "      <td>{'id': 'AhriTumble', 'name': 'Spirit Rush', 'd...</td>\n",
              "    </tr>\n",
              "    <tr>\n",
              "      <th>2</th>\n",
              "      <td>2</td>\n",
              "      <td>11.17.1</td>\n",
              "      <td>Akali</td>\n",
              "      <td>84</td>\n",
              "      <td>Akali</td>\n",
              "      <td>the Rogue Assassin</td>\n",
              "      <td>Abandoning the Kinkou Order and her title of t...</td>\n",
              "      <td>{'attack': 5, 'defense': 3, 'magic': 8, 'diffi...</td>\n",
              "      <td>{'full': 'Akali.png', 'sprite': 'champion0.png...</td>\n",
              "      <td>['Assassin']</td>\n",
              "      <td>Energy</td>\n",
              "      <td>{'hp': 500, 'hpperlevel': 105, 'mp': 200, 'mpp...</td>\n",
              "      <td>5</td>\n",
              "      <td>3</td>\n",
              "      <td>8</td>\n",
              "      <td>7</td>\n",
              "      <td>500.0</td>\n",
              "      <td>105</td>\n",
              "      <td>200.0</td>\n",
              "      <td>0.0</td>\n",
              "      <td>345</td>\n",
              "      <td>23</td>\n",
              "      <td>3.50</td>\n",
              "      <td>37.0</td>\n",
              "      <td>1.25</td>\n",
              "      <td>125</td>\n",
              "      <td>8.00</td>\n",
              "      <td>0.50</td>\n",
              "      <td>50.000</td>\n",
              "      <td>0.0</td>\n",
              "      <td>0</td>\n",
              "      <td>0</td>\n",
              "      <td>62.0</td>\n",
              "      <td>3.30</td>\n",
              "      <td>3.200</td>\n",
              "      <td>0.625</td>\n",
              "      <td>[{'id': '84000', 'num': 0, 'name': 'default', ...</td>\n",
              "      <td>Abandoning the Kinkou Order and her title of t...</td>\n",
              "      <td>['Akali excels at killing fragile champions. L...</td>\n",
              "      <td>['Akali can still be hit by area effect spells...</td>\n",
              "      <td>[{'id': 'AkaliQ', 'name': 'Five Point Strike',...</td>\n",
              "      <td>{'name': \"Assassin's Mark\", 'description': \"De...</td>\n",
              "      <td>[]</td>\n",
              "      <td>{'id': 'AkaliQ', 'name': 'Five Point Strike', ...</td>\n",
              "      <td>{'id': 'AkaliW', 'name': 'Twilight Shroud', 'd...</td>\n",
              "      <td>{'id': 'AkaliE', 'name': 'Shuriken Flip', 'des...</td>\n",
              "      <td>{'id': 'AkaliR', 'name': 'Perfect Execution', ...</td>\n",
              "    </tr>\n",
              "    <tr>\n",
              "      <th>3</th>\n",
              "      <td>3</td>\n",
              "      <td>11.17.1</td>\n",
              "      <td>Akshan</td>\n",
              "      <td>166</td>\n",
              "      <td>Akshan</td>\n",
              "      <td>the Rogue Sentinel</td>\n",
              "      <td>Raising an eyebrow in the face of danger, Aksh...</td>\n",
              "      <td>{'attack': 0, 'defense': 0, 'magic': 0, 'diffi...</td>\n",
              "      <td>{'full': 'Akshan.png', 'sprite': 'champion0.pn...</td>\n",
              "      <td>['Marksman', 'Assassin']</td>\n",
              "      <td>Mana</td>\n",
              "      <td>{'hp': 560, 'hpperlevel': 90, 'mp': 350, 'mppe...</td>\n",
              "      <td>0</td>\n",
              "      <td>0</td>\n",
              "      <td>0</td>\n",
              "      <td>0</td>\n",
              "      <td>560.0</td>\n",
              "      <td>90</td>\n",
              "      <td>350.0</td>\n",
              "      <td>40.0</td>\n",
              "      <td>330</td>\n",
              "      <td>26</td>\n",
              "      <td>3.00</td>\n",
              "      <td>30.0</td>\n",
              "      <td>0.50</td>\n",
              "      <td>500</td>\n",
              "      <td>3.75</td>\n",
              "      <td>0.65</td>\n",
              "      <td>8.175</td>\n",
              "      <td>0.7</td>\n",
              "      <td>0</td>\n",
              "      <td>0</td>\n",
              "      <td>52.0</td>\n",
              "      <td>3.50</td>\n",
              "      <td>4.000</td>\n",
              "      <td>0.638</td>\n",
              "      <td>[{'id': '166000', 'num': 0, 'name': 'default',...</td>\n",
              "      <td>Raising an eyebrow in the face of danger, Aksh...</td>\n",
              "      <td>[\"Raising an eyebrow in the face of danger, Ak...</td>\n",
              "      <td>[]</td>\n",
              "      <td>[{'id': 'AkshanQ', 'name': 'Avengerang', 'desc...</td>\n",
              "      <td>{'name': 'Dirty Fighting', 'description': \"Eve...</td>\n",
              "      <td>[]</td>\n",
              "      <td>{'id': 'AkshanQ', 'name': 'Avengerang', 'descr...</td>\n",
              "      <td>{'id': 'AkshanW', 'name': 'Going Rogue', 'desc...</td>\n",
              "      <td>{'id': 'AkshanE', 'name': 'Heroic Swing', 'des...</td>\n",
              "      <td>{'id': 'AkshanR', 'name': 'Comeuppance', 'desc...</td>\n",
              "    </tr>\n",
              "    <tr>\n",
              "      <th>4</th>\n",
              "      <td>4</td>\n",
              "      <td>11.17.1</td>\n",
              "      <td>Alistar</td>\n",
              "      <td>12</td>\n",
              "      <td>Alistar</td>\n",
              "      <td>the Minotaur</td>\n",
              "      <td>Always a mighty warrior with a fearsome reputa...</td>\n",
              "      <td>{'attack': 6, 'defense': 9, 'magic': 5, 'diffi...</td>\n",
              "      <td>{'full': 'Alistar.png', 'sprite': 'champion0.p...</td>\n",
              "      <td>['Tank', 'Support']</td>\n",
              "      <td>Mana</td>\n",
              "      <td>{'hp': 600, 'hpperlevel': 106, 'mp': 350, 'mpp...</td>\n",
              "      <td>6</td>\n",
              "      <td>9</td>\n",
              "      <td>5</td>\n",
              "      <td>7</td>\n",
              "      <td>600.0</td>\n",
              "      <td>106</td>\n",
              "      <td>350.0</td>\n",
              "      <td>40.0</td>\n",
              "      <td>330</td>\n",
              "      <td>44</td>\n",
              "      <td>3.50</td>\n",
              "      <td>32.0</td>\n",
              "      <td>1.25</td>\n",
              "      <td>125</td>\n",
              "      <td>8.50</td>\n",
              "      <td>0.85</td>\n",
              "      <td>8.500</td>\n",
              "      <td>0.8</td>\n",
              "      <td>0</td>\n",
              "      <td>0</td>\n",
              "      <td>62.0</td>\n",
              "      <td>3.75</td>\n",
              "      <td>2.125</td>\n",
              "      <td>0.625</td>\n",
              "      <td>[{'id': '12000', 'num': 0, 'name': 'default', ...</td>\n",
              "      <td>Always a mighty warrior with a fearsome reputa...</td>\n",
              "      <td>['Using Pulverize can allow you to establish b...</td>\n",
              "      <td>['Alistar is very disruptive but very tough - ...</td>\n",
              "      <td>[{'id': 'Pulverize', 'name': 'Pulverize', 'des...</td>\n",
              "      <td>{'name': 'Triumphant Roar', 'description': 'Al...</td>\n",
              "      <td>[]</td>\n",
              "      <td>{'id': 'Pulverize', 'name': 'Pulverize', 'desc...</td>\n",
              "      <td>{'id': 'Headbutt', 'name': 'Headbutt', 'descri...</td>\n",
              "      <td>{'id': 'AlistarE', 'name': 'Trample', 'descrip...</td>\n",
              "      <td>{'id': 'FerociousHowl', 'name': 'Unbreakable W...</td>\n",
              "    </tr>\n",
              "  </tbody>\n",
              "</table>\n",
              "</div>"
            ],
            "text/plain": [
              "   Unnamed: 0  ...                                             skillR\n",
              "0           0  ...  {'id': 'AatroxR', 'name': 'World Ender', 'desc...\n",
              "1           1  ...  {'id': 'AhriTumble', 'name': 'Spirit Rush', 'd...\n",
              "2           2  ...  {'id': 'AkaliR', 'name': 'Perfect Execution', ...\n",
              "3           3  ...  {'id': 'AkshanR', 'name': 'Comeuppance', 'desc...\n",
              "4           4  ...  {'id': 'FerociousHowl', 'name': 'Unbreakable W...\n",
              "\n",
              "[5 rows x 47 columns]"
            ]
          },
          "metadata": {},
          "execution_count": 2
        }
      ]
    },
    {
      "cell_type": "code",
      "metadata": {
        "id": "Mcu4UL7g_kJM"
      },
      "source": [
        "from ast import literal_eval\n",
        "\n",
        "champ_info['skillQ'] = champ_info['skillQ'].apply(literal_eval)\n",
        "champ_info['skillW'] = champ_info['skillW'].apply(literal_eval)\n",
        "champ_info['skillE'] = champ_info['skillE'].apply(literal_eval)\n",
        "champ_info['skillR'] = champ_info['skillR'].apply(literal_eval)"
      ],
      "execution_count": 3,
      "outputs": []
    },
    {
      "cell_type": "code",
      "metadata": {
        "colab": {
          "base_uri": "https://localhost:8080/",
          "height": 54
        },
        "id": "koZoZCrHA8BM",
        "outputId": "cc935f36-e20e-4f48-9022-3db7bcfc0715"
      },
      "source": [
        "champ_info['skillQ'][36]['description']"
      ],
      "execution_count": 4,
      "outputs": [
        {
          "output_type": "execute_result",
          "data": {
            "application/vnd.google.colaboratory.intrinsic+json": {
              "type": "string"
            },
            "text/plain": [
              "'Gragas rolls his cask to a location, which can be activated to explode or will explode on its own after 4 seconds. The potency of the explosion increases over time. Enemies struck by the blast have their Move Speed slowed.'"
            ]
          },
          "metadata": {},
          "execution_count": 4
        }
      ]
    },
    {
      "cell_type": "code",
      "metadata": {
        "colab": {
          "base_uri": "https://localhost:8080/",
          "height": 71
        },
        "id": "NA_-87wuA_L1",
        "outputId": "f010a750-e352-4281-ea22-9c483a4d3643"
      },
      "source": [
        "champ_info['passive'][4]"
      ],
      "execution_count": 324,
      "outputs": [
        {
          "output_type": "execute_result",
          "data": {
            "application/vnd.google.colaboratory.intrinsic+json": {
              "type": "string"
            },
            "text/plain": [
              "\"{'name': 'Triumphant Roar', 'description': 'Alistar charges his roar by stunning or displacing enemy champions or when nearby enemies die. When fully charged he heals himself all nearby allied champions.', 'image': {'full': 'Alistar_E.png', 'sprite': 'passive0.png', 'group': 'passive', 'x': 192, 'y': 0, 'w': 48, 'h': 48}}\""
            ]
          },
          "metadata": {},
          "execution_count": 324
        }
      ]
    },
    {
      "cell_type": "code",
      "metadata": {
        "colab": {
          "base_uri": "https://localhost:8080/"
        },
        "id": "JOJgpQfJ4Nds",
        "outputId": "4cd7e365-8584-4253-f6dc-eb0e94ecddbc"
      },
      "source": [
        "champ_info['passive'][0].replace('\\'','').lower().split()"
      ],
      "execution_count": 313,
      "outputs": [
        {
          "output_type": "execute_result",
          "data": {
            "text/plain": [
              "['{name:',\n",
              " 'deathbringer',\n",
              " 'stance,',\n",
              " 'description:',\n",
              " '\"periodically,',\n",
              " 'aatroxs',\n",
              " 'next',\n",
              " 'basic',\n",
              " 'attack',\n",
              " 'deals',\n",
              " 'bonus',\n",
              " 'physical',\n",
              " 'damage',\n",
              " 'and',\n",
              " 'heals',\n",
              " 'him,',\n",
              " 'based',\n",
              " 'on',\n",
              " 'the',\n",
              " 'targets',\n",
              " 'max',\n",
              " 'health.',\n",
              " '\",',\n",
              " 'image:',\n",
              " '{full:',\n",
              " 'aatrox_passive.png,',\n",
              " 'sprite:',\n",
              " 'passive0.png,',\n",
              " 'group:',\n",
              " 'passive,',\n",
              " 'x:',\n",
              " '0,',\n",
              " 'y:',\n",
              " '0,',\n",
              " 'w:',\n",
              " '48,',\n",
              " 'h:',\n",
              " '48}}']"
            ]
          },
          "metadata": {},
          "execution_count": 313
        }
      ]
    },
    {
      "cell_type": "code",
      "metadata": {
        "id": "xemSr3zg8GwV"
      },
      "source": [
        "    champ_pas = champ_info['passive'][0].replace('\\'','')\n",
        "    # 영어가 아닌 특수문자를 공백(\" \")으로 바꾸기\n",
        "    champ_pas = re.sub(\"[^a-zA-Z]\",\" \", champ_pas)\n",
        "    \n",
        "    # 대문자를 소문자로 바꾸고 공백 단위로 텍스트를 나누어 리스트화\n",
        "    k = champ_pas.lower().split()"
      ],
      "execution_count": 329,
      "outputs": []
    },
    {
      "cell_type": "code",
      "metadata": {
        "colab": {
          "base_uri": "https://localhost:8080/"
        },
        "id": "JrGgHPyf9n07",
        "outputId": "a4d406f7-e75c-4aa9-ed46-5d4b6997b35f"
      },
      "source": [
        "len(k)"
      ],
      "execution_count": 334,
      "outputs": [
        {
          "output_type": "execute_result",
          "data": {
            "text/plain": [
              "36"
            ]
          },
          "metadata": {},
          "execution_count": 334
        }
      ]
    },
    {
      "cell_type": "code",
      "metadata": {
        "colab": {
          "base_uri": "https://localhost:8080/"
        },
        "id": "TAYLq6l59w90",
        "outputId": "2633cf1f-54e1-46e5-e2fa-8fc299b55e2c"
      },
      "source": [
        "k[2:3]"
      ],
      "execution_count": 335,
      "outputs": [
        {
          "output_type": "execute_result",
          "data": {
            "text/plain": [
              "['stance']"
            ]
          },
          "metadata": {},
          "execution_count": 335
        }
      ]
    },
    {
      "cell_type": "code",
      "metadata": {
        "colab": {
          "base_uri": "https://localhost:8080/"
        },
        "id": "O5kKOAz86zc2",
        "outputId": "00b01403-f438-4fab-b127-bf06165295e2"
      },
      "source": [
        "re.sub(\"[^a-zA-Z]\",\" \", k).lower().split()[3: 10]"
      ],
      "execution_count": 301,
      "outputs": [
        {
          "output_type": "execute_result",
          "data": {
            "text/plain": [
              "['description', 'every', 'three', 'hits', 'from', 'akshans', 'attacks']"
            ]
          },
          "metadata": {},
          "execution_count": 301
        }
      ]
    },
    {
      "cell_type": "code",
      "metadata": {
        "id": "TQDiAEzT5hdH"
      },
      "source": [
        "passive = []\n",
        "for i in range(len(champ_summ)):\n",
        "    champ_pas = champ_info['passive'][i].replace('\\'','')\n",
        "    # 영어가 아닌 특수문자를 공백(\" \")으로 바꾸기\n",
        "    champ_pas = re.sub(\"[^a-zA-Z]\",\" \", champ_pas)\n",
        "    \n",
        "    # 대문자를 소문자로 바꾸고 공백 단위로 텍스트를 나누어 리스트화\n",
        "    k = champ_pas.lower().split()\n",
        "\n",
        "    for j in range(len(k)):\n",
        "        if k[j] == 'description':\n",
        "            start = j\n",
        "        if k[j] == 'image':\n",
        "            end = j\n",
        "     \n",
        "    real_passive = ' '.join(k[start : end])\n",
        "    passive.append(real_passive)"
      ],
      "execution_count": 342,
      "outputs": []
    },
    {
      "cell_type": "code",
      "metadata": {
        "colab": {
          "base_uri": "https://localhost:8080/"
        },
        "id": "ZXI6uMO18tb3",
        "outputId": "2ebe6de8-c1c9-44be-b9cc-eb1ace3eb122"
      },
      "source": [
        "champ_summ['passive'] = passive"
      ],
      "execution_count": 344,
      "outputs": [
        {
          "output_type": "stream",
          "name": "stderr",
          "text": [
            "/usr/local/lib/python3.7/dist-packages/ipykernel_launcher.py:1: SettingWithCopyWarning: \n",
            "A value is trying to be set on a copy of a slice from a DataFrame.\n",
            "Try using .loc[row_indexer,col_indexer] = value instead\n",
            "\n",
            "See the caveats in the documentation: https://pandas.pydata.org/pandas-docs/stable/user_guide/indexing.html#returning-a-view-versus-a-copy\n",
            "  \"\"\"Entry point for launching an IPython kernel.\n"
          ]
        }
      ]
    },
    {
      "cell_type": "code",
      "metadata": {
        "colab": {
          "base_uri": "https://localhost:8080/",
          "height": 37
        },
        "id": "_Q0Ja9VQ-uv0",
        "outputId": "18d3e6a6-2234-4840-d18c-7a2675410d52"
      },
      "source": [
        "passive[0]"
      ],
      "execution_count": 348,
      "outputs": [
        {
          "output_type": "execute_result",
          "data": {
            "application/vnd.google.colaboratory.intrinsic+json": {
              "type": "string"
            },
            "text/plain": [
              "'description periodically aatroxs next basic attack deals bonus physical damage and heals him based on the targets max health'"
            ]
          },
          "metadata": {},
          "execution_count": 348
        }
      ]
    },
    {
      "cell_type": "code",
      "metadata": {
        "colab": {
          "base_uri": "https://localhost:8080/",
          "height": 71
        },
        "id": "FzGpUDBzBeqI",
        "outputId": "45ed031b-1ce8-4001-ed9a-88abfa01791c"
      },
      "source": [
        "champ_info['skillQ'][36]['tooltip']"
      ],
      "execution_count": 6,
      "outputs": [
        {
          "output_type": "execute_result",
          "data": {
            "application/vnd.google.colaboratory.intrinsic+json": {
              "type": "string"
            },
            "text/plain": [
              "'Gragas rolls a cask that explodes after {{ e4 }} seconds, dealing between {{ mindamage }} magic damage and {{ maxdamage }} magic damage and Slowing for between {{ e2 }} and {{ effect2amount*1.5 }}% for {{ e3 }} seconds. The damage and Slow increase with time the cask spent before exploding. Gragas can Recast to detonate the cask early.'"
            ]
          },
          "metadata": {},
          "execution_count": 6
        }
      ]
    },
    {
      "cell_type": "code",
      "metadata": {
        "id": "DyntSN-jNrMi"
      },
      "source": [
        "champ_summ = champ_info[['id','key','tags']]"
      ],
      "execution_count": 9,
      "outputs": []
    },
    {
      "cell_type": "code",
      "metadata": {
        "id": "9zaE2dvUBOUc"
      },
      "source": [
        "def only_description(column):\n",
        "    champ_q = []\n",
        "    for i in range(len(champ_info)):\n",
        "        champ_q.append(champ_info[column][i]['description'])\n",
        "    champ_summ[column] = champ_q"
      ],
      "execution_count": 10,
      "outputs": []
    },
    {
      "cell_type": "code",
      "metadata": {
        "colab": {
          "base_uri": "https://localhost:8080/"
        },
        "id": "Zv4OmRK7B6Fi",
        "outputId": "1daa87b0-9c19-4ece-ab98-9ed4c6a0b60f"
      },
      "source": [
        "only_description('skillQ')"
      ],
      "execution_count": 11,
      "outputs": [
        {
          "output_type": "stream",
          "name": "stderr",
          "text": [
            "/usr/local/lib/python3.7/dist-packages/ipykernel_launcher.py:5: SettingWithCopyWarning: \n",
            "A value is trying to be set on a copy of a slice from a DataFrame.\n",
            "Try using .loc[row_indexer,col_indexer] = value instead\n",
            "\n",
            "See the caveats in the documentation: https://pandas.pydata.org/pandas-docs/stable/user_guide/indexing.html#returning-a-view-versus-a-copy\n",
            "  \"\"\"\n"
          ]
        }
      ]
    },
    {
      "cell_type": "code",
      "metadata": {
        "colab": {
          "base_uri": "https://localhost:8080/"
        },
        "id": "8RiZNrItB59I",
        "outputId": "95c12c33-5cfb-4f14-b676-0e5037aba7a6"
      },
      "source": [
        "only_description('skillW')"
      ],
      "execution_count": 12,
      "outputs": [
        {
          "output_type": "stream",
          "name": "stderr",
          "text": [
            "/usr/local/lib/python3.7/dist-packages/ipykernel_launcher.py:5: SettingWithCopyWarning: \n",
            "A value is trying to be set on a copy of a slice from a DataFrame.\n",
            "Try using .loc[row_indexer,col_indexer] = value instead\n",
            "\n",
            "See the caveats in the documentation: https://pandas.pydata.org/pandas-docs/stable/user_guide/indexing.html#returning-a-view-versus-a-copy\n",
            "  \"\"\"\n"
          ]
        }
      ]
    },
    {
      "cell_type": "code",
      "metadata": {
        "colab": {
          "base_uri": "https://localhost:8080/"
        },
        "id": "N94hW5QaCKKq",
        "outputId": "4d302a0c-56cc-4783-ed3b-327d23ebd867"
      },
      "source": [
        "only_description('skillE')"
      ],
      "execution_count": 13,
      "outputs": [
        {
          "output_type": "stream",
          "name": "stderr",
          "text": [
            "/usr/local/lib/python3.7/dist-packages/ipykernel_launcher.py:5: SettingWithCopyWarning: \n",
            "A value is trying to be set on a copy of a slice from a DataFrame.\n",
            "Try using .loc[row_indexer,col_indexer] = value instead\n",
            "\n",
            "See the caveats in the documentation: https://pandas.pydata.org/pandas-docs/stable/user_guide/indexing.html#returning-a-view-versus-a-copy\n",
            "  \"\"\"\n"
          ]
        }
      ]
    },
    {
      "cell_type": "code",
      "metadata": {
        "colab": {
          "base_uri": "https://localhost:8080/"
        },
        "id": "r0qdbQUGCOtg",
        "outputId": "abc751c3-e571-4b83-84c5-a906c91eb493"
      },
      "source": [
        "only_description('skillR')"
      ],
      "execution_count": 14,
      "outputs": [
        {
          "output_type": "stream",
          "name": "stderr",
          "text": [
            "/usr/local/lib/python3.7/dist-packages/ipykernel_launcher.py:5: SettingWithCopyWarning: \n",
            "A value is trying to be set on a copy of a slice from a DataFrame.\n",
            "Try using .loc[row_indexer,col_indexer] = value instead\n",
            "\n",
            "See the caveats in the documentation: https://pandas.pydata.org/pandas-docs/stable/user_guide/indexing.html#returning-a-view-versus-a-copy\n",
            "  \"\"\"\n"
          ]
        }
      ]
    },
    {
      "cell_type": "code",
      "metadata": {
        "id": "-0R6ViqDCRKk"
      },
      "source": [
        ""
      ],
      "execution_count": 14,
      "outputs": []
    },
    {
      "cell_type": "code",
      "metadata": {
        "colab": {
          "base_uri": "https://localhost:8080/"
        },
        "id": "VvVgGVfIB55K",
        "outputId": "d914f12c-86ed-43e6-f36e-b0cfb0cbadf2"
      },
      "source": [
        "champ_summ['champ_all_skill'] = champ_summ['passive'] + champ_summ['skillQ']+champ_summ['skillW']+champ_summ['skillE']+champ_summ['skillR']"
      ],
      "execution_count": 363,
      "outputs": [
        {
          "output_type": "stream",
          "name": "stderr",
          "text": [
            "/usr/local/lib/python3.7/dist-packages/ipykernel_launcher.py:1: SettingWithCopyWarning: \n",
            "A value is trying to be set on a copy of a slice from a DataFrame.\n",
            "Try using .loc[row_indexer,col_indexer] = value instead\n",
            "\n",
            "See the caveats in the documentation: https://pandas.pydata.org/pandas-docs/stable/user_guide/indexing.html#returning-a-view-versus-a-copy\n",
            "  \"\"\"Entry point for launching an IPython kernel.\n"
          ]
        }
      ]
    },
    {
      "cell_type": "code",
      "metadata": {
        "colab": {
          "base_uri": "https://localhost:8080/"
        },
        "id": "CGtcZJoN_3oS",
        "outputId": "448b77e9-0289-47de-82a0-862ef102e1fe"
      },
      "source": [
        "import nltk\n",
        "nltk.download('stopwords')"
      ],
      "execution_count": 346,
      "outputs": [
        {
          "output_type": "stream",
          "name": "stdout",
          "text": [
            "[nltk_data] Downloading package stopwords to /root/nltk_data...\n",
            "[nltk_data]   Package stopwords is already up-to-date!\n"
          ]
        },
        {
          "output_type": "execute_result",
          "data": {
            "text/plain": [
              "True"
            ]
          },
          "metadata": {},
          "execution_count": 346
        }
      ]
    },
    {
      "cell_type": "code",
      "metadata": {
        "id": "rphH2QW4FK7g"
      },
      "source": [
        "from sklearn.feature_extraction.text import CountVectorizer"
      ],
      "execution_count": 347,
      "outputs": []
    },
    {
      "cell_type": "code",
      "metadata": {
        "colab": {
          "base_uri": "https://localhost:8080/"
        },
        "id": "Ic14dfsiNxbq",
        "outputId": "8e48b222-6fa4-45c0-d973-7905b0d26538"
      },
      "source": [
        "champ_summ['id']"
      ],
      "execution_count": 20,
      "outputs": [
        {
          "output_type": "execute_result",
          "data": {
            "text/plain": [
              "0       Aatrox\n",
              "1         Ahri\n",
              "2        Akali\n",
              "3       Akshan\n",
              "4      Alistar\n",
              "        ...   \n",
              "151        Zed\n",
              "152      Ziggs\n",
              "153     Zilean\n",
              "154        Zoe\n",
              "155       Zyra\n",
              "Name: id, Length: 156, dtype: object"
            ]
          },
          "metadata": {},
          "execution_count": 20
        }
      ]
    },
    {
      "cell_type": "code",
      "metadata": {
        "id": "QXFNl2s2NdRv"
      },
      "source": [
        "stops = stopwords.words(\"english\")\n",
        "additional = [ 'keeps' ,'brieflysamira' ,'including' ,'builds','eventually' ,'cause' ,'enemiesvolibear','tower','rage','team','regenerationskarner','damageakali' ,'five' ,'kunai','causes' ,'crystals','spell','ring','spells','much','set','shes','secondtwitch','zeds','xeraths','yasuos','vial' ,'mega' ,'spiderling', 'swarm','trail', 'star', 'sky', 'tongue', 'opens','demon ','eye' ,'lunges','and','description','gust','stack', 'storm','things' ,'treated' ,'scales' ,'maximum' ,'flow' ,'leaves' ,'forced' ,'body' ,'last','small' ,'magma' ,'gathering' ,'grants' ,'tumbles' ,'lamb','applies' ,'siphon' ,'short' ,'effects' ,'hitting', 'claws','torrent' ,'citrus' ,'outside' ,'freezing' ,'become','damaging' ,'applying' ,'speed'  ,'sticks' ,'come' ,'near' ,'prioritizes' ,'effect' ,'brings' ,'wings' ,'together','lashes' ,'crystal' ,'explodes' ,'cask','based' ,'main' ,'hand' ,'calibrum' ,'rifle' ,'shot' ,'marks' ,'follow' ,'severum' ,'scythe' ,'pistol', 'arrows', 'mission' ,'aurelion' ,'sol' ,'nearby' ,'weapons' ,'gravitum' ,'infernum' ,'flamethrower' ,'hand' ,'crescendum' ,'chakram' ,'ability' ,'goes', 'game' ,'fixed may' ,'moonlight' ,'champions','shurikens' ,'shuriken' ,'every' ,'damages' ,'take' ,'based' ,'main' ,'hand','delay', 'creates', 'pillar', 'flame', 'throws', 'spheres', 'one', 'vines', 'spines', 'within']\n",
        "no_this_word = ['magic','commands', 'targets', 'along', 'less', 'knocks', 'sphere', 'barrage', 'arcane','lasher' ,'hit', 'shoot', 'line', 'spikes','snip', 'summons', 'mist', 'ablaze', 'minion', 'movement', 'feather', 'magical','seed' ,'blooms','launches', 'fire', 'forward', 'enemy',  'enemies', 'gains' ,'snips' ,'scissors' ,'cone' ,'deals' ,'true' ,'center' ,'remains' ,'manipulated' ,'powers','axe','ricochet' ,'high' ,'air', 'sphere','bouncing' ,'attack', 'bonus','sends' ,'shard', 'thrusts' ,'anchor','long' ,'range' ,'energy' ,'blasts', 'future', 'siphoning','slays' ,'ages','explosive', 'shell', 'detonates', 'canister' ,'area','basic', 'attacks', 'deal','kha' ,'zix','destination', 'next', 'seconds','gaining' ,'ground' ,'sending' ,'fissure' ,'dealing','power','strikes' ,'foe' ,'dealing','miss', 'fortune','wukong' ,'next','damage','wolf','enrages' ,'wavesshockwave' ,'earth' ,'stand' ,'unleashes' ,'mighty','sandstorm','steel' ,'tempest' ,'whirlwind','shadows','missile','beam','weapon','hammer','accelerates' ,'ball','barrels', 'relic' ,'cannon','tahm', 'kench','vel', 'koz',' piece' ,'terrain','mini' ,'jack' ,'boxes','land','location' ,'domain','starlight','globule','bomb','early','casts','cast','flight','wind','winds','slams','either','beam ','light' ,'shadow' ,'max','also','dark','picks','well','bite','twin','taken','third','three','units','xin' ,'zhao','fires', 'orb','time','gath','cho','comes' ,'across' ,'unit','non', 'epic' ,'monsters','minions','times','going','cloud','smoke','target','champion','two','first','vault','pix','rek', 'sai',\"'s\",'in','the','of','with',',','.','around','turrets','When','uses','often', 'better','back','wait','wears','important','consider','boots','buy',\"n't\",'ass.','lead', 'can','rift','tibbers','himself','keep','been','smite','poisoned',\"cho'gath\",'way', 'get', \"n't\", 'does',\"n't\",]\n",
        "for i in range(len(no_this_word)):\n",
        "    stops.append(no_this_word[i])\n",
        "for i in range(len(additional)):\n",
        "    stops.append(additional[i])\n",
        "\n",
        "for j in range(len(champ_summ['id'])):\n",
        "    champ_name = champ_summ['id'][j].lower()\n",
        "    champ_names = champ_summ['id'][j].lower() + 's'\n",
        "    stops.append(champ_name)\n",
        "    stops.append(champ_names)"
      ],
      "execution_count": 410,
      "outputs": []
    },
    {
      "cell_type": "code",
      "metadata": {
        "id": "eoyuHxajN4n1"
      },
      "source": [
        "# stops"
      ],
      "execution_count": 382,
      "outputs": []
    },
    {
      "cell_type": "code",
      "metadata": {
        "id": "I4jQQTQdEB7F"
      },
      "source": [
        "# 영문 텍스트 데이터 전처리 함수\n",
        "def preprocessing(column, remove_stopwords = False):\n",
        "    #불용어 제거는 선택이 가능하도록\n",
        "    clean_champ_skill = []\n",
        "    for i in range(len(champ_summ[column])):\n",
        "\n",
        "        champ_skill = champ_summ[column][i]\n",
        "        # 영어가 아닌 특수문자를 공백(\" \")으로 바꾸기\n",
        "        champ_skill = re.sub(\"[^a-zA-Z]\",\" \", champ_skill)\n",
        "        \n",
        "        # 대문자를 소문자로 바꾸고 공백 단위로 텍스트를 나누어 리스트화\n",
        "        words = champ_skill.lower().split()\n",
        "        \n",
        "\n",
        "        \n",
        "        if remove_stopwords:\n",
        "            # 불용어 제거\n",
        "            \n",
        "            # 영어 불용어 사전 불러오기\n",
        "            # [w for w in token_word if w not in stop_words]\n",
        "            # [w for w in words if not w in stops]\n",
        "            # 불용어가 아닌 단어로 이뤄진 새로운 리스트 생성\n",
        "            words = [w for w in words if w not in stops]\n",
        "            # 단어 리스트를 하나의 글로 합성\n",
        "            clean_review = ' '.join(words)\n",
        "            \n",
        "        else: # 불용어 제거 옵션이 안 걸렸을시\n",
        "            clean_review = ' '.join(words)\n",
        "        clean_champ_skill.append(clean_review)       \n",
        "    return clean_champ_skill"
      ],
      "execution_count": 383,
      "outputs": []
    },
    {
      "cell_type": "code",
      "metadata": {
        "colab": {
          "base_uri": "https://localhost:8080/"
        },
        "id": "HrTMLg1Cymg5",
        "outputId": "e59d870b-85bb-48ac-8664-3419f56c4eed"
      },
      "source": [
        "print(champ_summ[champ_summ['id'] == 'Syndra']['champ_all_skill'])"
      ],
      "execution_count": 384,
      "outputs": [
        {
          "output_type": "stream",
          "name": "stdout",
          "text": [
            "119    description syndras spells gain extra effects ...\n",
            "Name: champ_all_skill, dtype: object\n"
          ]
        }
      ]
    },
    {
      "cell_type": "code",
      "metadata": {
        "colab": {
          "base_uri": "https://localhost:8080/"
        },
        "id": "_vVXO-0RNO0g",
        "outputId": "a0f7a1c9-3d9e-4333-9ccc-77fe305655a2"
      },
      "source": [
        "preprocessing('champ_all_skill',remove_stopwords = True) "
      ],
      "execution_count": 411,
      "outputs": [
        {
          "output_type": "execute_result",
          "data": {
            "text/plain": [
              "['periodically physical heals healthaatrox greatsword physical swing different smashes large leave impact quickly dragged passively heals activation dashes direction demonic form fearing increased healing gets takedown extended',\n",
              " 'abilities heals hitahri pulls brief burst releases fox lock onto blows kiss charms encounters instantly stopping abilities causing walk harmlessly towards temporarily takes increased dashes essence bolts spirit rush cooldown',\n",
              " 'exiting empowers autoattack slowing drops cover briefly inside shroud becomes invisible unable selected attacking using abilities briefly reveal flip backward marked dash marked additional leaps direction dashes direction executing',\n",
              " 'hits abilities shield additional reduced cancels additional instead move speedakshan boomerang coming extending hits passively scoundrels kill ally kills scoundrel resurrects allies killed gold clears activated enters camouflage move mana regen moving towards scoundrels loses camouflage quickly brush grappling hook swings repeatedly firing nearest swinging jump gets knocked colliding locks onto starts storing bullets released stored bullets missing health structure',\n",
              " 'charges roar stunning displacing die fully charged heals allied championsalistar smashes tossing rams head knocking tramples ignoring collision stacks full stacks additional stuns lets wild roar removing crowd control reducing incoming physical duration',\n",
              " 'curse causing incoming damageamumu tosses sticky bandage stunning pulls overcome anguish lose percentage health second curses refreshed permanently reduces physical would unleash surrounding cooldown tantrum reduced entangles surrounding bandages curse stunning',\n",
              " 'upon taking fatal reverts egg reborn full healthanivia ice flies towards opponents chilling anyone path moderate radius stunning anyone condenses moisture impassable wall ice block wall lasts duration melts flap recently flash frost damaged fully formed glacial doubled driving rain ice hail slow advance',\n",
              " 'casting offensive stun targetannie hurls mana infused fireball refunding mana cost destroys blazing ally shield burst wills bear life burns',\n",
              " 'wields lunari made sister alune access unique abilities consume ammo ammo discards alune theaphelios different activated abilities run fast attacking root slowed blast deploy sentry shoots swaps gun gun replacing activated slot shows alune give order begins fixed may change ammo end order concentrated blast unique gun',\n",
              " 'slow causing increased critical apply empowered slow targetashe focus attacking focus ranger focus consume stacks focus temporarily increasing transforming powerful flurry duration increased frost hawk spirit scouting anywhere map ice straight arrow collides stuns stunning longer farther arrow traveled addition surrounding slowed',\n",
              " 'stars orbit enemyaurelion expanding disk stun moves far away pushes stars farther increasing takes flying distance projects blast pure starfire slowing caught knocking safer distance',\n",
              " 'summon disc sun ruins allied turretsazir sand soldiers towards sand soldiers pass apply slow second sand soldier replacing soldier arise passively sand soldiers shields briefly dashes sand soldiers hits instantly readies new sand soldier deployment halts dash wall soldiers charge knocking',\n",
              " 'meeps attracts lesser spirits assist extra collected enough chimes meeps slow chimes ancient chimes randomly appear collect grant experience restore mana provide combat move speedbard slow struck continue onward wall stun initial another stun reveals healing shrine disappearing healing speeding ally touches portal allies alike trip moving portal spirit arcing putting stasis brief',\n",
              " 'shield mana dropping low healthblitzcrank right grab opponent path dragging super charges dramatically increased move temporarily slowed ends charges fist make double pop attacked marked lightning second additionally activate remove shields silence briefly',\n",
              " 'stacking kills regains mana blaze reaches stacks large monster becomes unstable massive victimbrand sear stun additional conjures powerful blast spreads conflagration spread doubled devastating bounces bounce bounces prioritize stacking blaze pyroclasm briefly slow',\n",
              " 'apply concussive blows applied ally concussive blows upon reaching stacks stunned takes cannot receive new stacks attacksbraum propels ice shield slowing concussive blows leaps allied arrival ally gain armor resist raises shield direction several intercepting projectiles causing destroyed negates completely reduces subsequent direction knocking front left slows',\n",
              " 'trapped netted headshot critical strike chance trapped netted headshot doubledcaitlyn revs second unleash penetrating physical subsequent sets trap find sneaky yordles sprung trap reveals immobilizes granting empowered headshot heavy net slow recoil takes perfect massive single huge intercept bullet ally',\n",
              " 'grant shield equal percentage health type physical brief durationcamille recast period significantly increased delays period outer half slowed extra healing pulls wall leaping knocking upon landing dashes anchoring',\n",
              " 'move per level cannot purchase itemscassiopeia poison brief granting increased move hits releases several clouds poison slowing grounding lightly pass grounded cannot use abilities lets loose increased heals percentage dealt dies regains mana releases swirl eyes stunning front facing slowing others turned',\n",
              " 'whenever kills recovers health mana values restored increase levelruptures popping slowing terrible scream silencing release deadly slowing front devours amount killed grows health',\n",
              " 'percentage converted occasionally retrieve package inside base granting empowered valkyriecorki flash additionally reveals duration flies distance dropping bombs create opponents remain gatling gun rapidly front reducing armor resist toward impact stores missiles rd fired big extra',\n",
              " 'abilities bleed physical stacking massive reaches stacksdarius swings wide circle struck blade struck handle heals large blade crucial artery bleed move slowed hones passively causing physical ignore percentage armor activated sweeps hook pulls leaps lethal blow increased hemorrhage noxian guillotine killing blow cooldown refreshed brief duration',\n",
              " 'strike cleaves additional casting attacksunleashes bolt lunar arc afflicts struck revealing stealthed orbiting detonate contact temporary shield absorbs shield additional strength becomes living embodiment vengeful moon dashing lunar rush cooldown used dash afflicted debuff removed regardless whether lunar rush reveals draws slows pulls crashes onto increased beyond pulled',\n",
              " 'fans adoration catches spinning kills monster killing gold adoration hasdraven physical catches automatically readies another spinning spinning axes increased decreases rapidly duration catching spinning refresh cooldown blood rush axes physical knocking aside slowed hurls massive axes physical struck whirling death slowly reverses direction returns striking may activate axes return resets axes reverse direction',\n",
              " 'dr mundo resists immobilizing hits instead losing health dropping chemical cannister dr mundo pick walking restoring health reducing abilitys cooldown dr mundo significantly increased health regenerationdr mundo infected bonesaw current health slowing dr mundo electrocutes persistent storing portion takes end duration recast dr mundo burst burst heals percentage stored passive dr mundo increasing missing health active dr mundo medical bag additional missing health dies swatted away pass dr mundo pumps chemicals instantly healing percent missing health move regenerates portion health duration',\n",
              " 'burst championekko temporal grenade expands distortion field upon slowing anyone caught inside grenade rewinds return low health parallel convergence split timeline creating anomaly slows caught inside enters anomaly shielding stuns suspending rolls evasively charging z drive warps reality teleporting shatters timeline becoming untargetable rewinding favorable point returns whenever ago heals percentage received duration arrival zone massive',\n",
              " 'human form abilities dormant spider form restore health elisehuman form upon health spider form upon low health human form releases venom gorged nears spider form spiderlings gain human form stuns reveals stealthed spider form spiderlings ascend descend upon descending healing spider queen increased transforms menacing spider reducing exchange new abilities foes',\n",
              " 'combat enters demon shade demon shade heals low health camouflage levelevelynn foes curses causing charm reduce resist whips duration briefly untargetable decimates front warping backwards distance',\n",
              " 'increasing successfully hits stacking timesezreal bolt reduces cooldowns slightly objective hits teleports homing bolt nearest stuck essence flux firing powerful massive passes reduced',\n",
              " 'trinket replaced scarecrow effigiesfiddlesticks unseen targeting terrify activation fear causing flee terror duration drains health execute end duration slashes slowing silencing slash murder crows flock wildly per second',\n",
              " 'challenges dodge calls direction try strike complete challenge receives calls new directionfiora direction stabs physical parries incoming disables stabs direction stab slows stuns blocked immobilizing increased slows second critically strike reveals four vitals hits vitals dies least allies healed',\n",
              " 'move takes flat amount reduced sourcesfizz dashes bleed several empower empower hops landing gracefully upon spear becoming untargetable position slam choose jump smashing tosses fish direction attaches touches slowing shark erupts knocking knocking aside dealt slowed',\n",
              " 'areagalio windblasts converge large tornado charges defensive stance moving slowly upon releasing charge taunt briefly step charge knocking encounters designates ally position landing spot granting allies shield smashes knocking',\n",
              " 'melee strike opponent fireshoots plundering gold killed eats cure crowd control restore health uncovers powder keg spreading slowing signals ship bombard slowing',\n",
              " 'recently struck abilities regenerates percentage total health secondgaren burst move breaking free slows affecting vital silencing passively increases armor resist killing may activate give shield tenacity brief moment followed lesser amount reduction longer duration rapidly spins sword physical calls upon might demacia attempt execute',\n",
              " 'combat generates transform granting increased survivability access new spellsgnar boomerang slows hits returning catches boomerang cooldown reduced instead boulder stops slowing everything picked reduce cooldown hype granting enraged hyper instead rear hind legs smash front stunning leaps bounces head lands traveling large bounce instead lands shattering force everything chosen direction slowing hits wall stunned takes',\n",
              " 'periodically heals upon using skillgragas rolls activated explode explode potency explosion increases struck blast move slowed guzzles brew second finishing becomes drunkenly empowered reducing received charges collides stunning hurls knocking caught blast radius',\n",
              " 'shotgun unique properties must reload runs ammo bullets cannot pass struck multiple bullets knocked backgraves creating reduces sight caught initial impact dealt reduced briefly dashes armor boost several dashes towards gain stacks grit instead lowers cooldown skill refreshes resistance boost heavy hits reaching end',\n",
              " 'health heals portion dealt effectgwen passive protects targeted enter dashes distance hits cooldown partially refunded hurls needle slows thousand cuts throwing additional needles must unlock',\n",
              " 'equal percentage speedhecarim cleaves physical least increases lowers cooldown subsequent rampages duration health equal percentage suffer increasing move move duration additional physical distance traveled since activating spectral riders charges shockwave finishes charge causing flee terror',\n",
              " 'gain allied towers deployed heimerdingerheimerdinger lays rapid turret equipped secondary pass half towers rockets converge cursor lobs grenade stunning anyone directly slowing surrounding invents upgrade causing increased',\n",
              " 'vessels spawn tentacles impassible tentacles swing spirits vessels victims harsh lesson tentacles physical heal championincreases dealt tentacles activated smashes tentacle physical leaps physical causing tentacles swing rips spirit forcing spirits echo percentage original killed gets far spirit vessel begin spawning tentacles smashes idol physical tentacle spawns',\n",
              " 'stacking stacks hitirelia dashes strike healing marked dies bladesurge cooldown refreshes charges strike charges takes reduced physical charge blades converge caught damaged stunned marked massive number blades explode outward upon blades damaged marked afterwards blades form wall slow walk',\n",
              " 'cannot attacked create groves jungle camps grow grove fully grown may free receive gold experience level share jungle buffs alliesivern conjures vine rooting allies dash rooted brush activate create patch brush places shield ally duration slowing sentinel friend daisy fight daisy send shockwave row',\n",
              " 'passively move allied gain moving toward additionally additional move speedby creating localized change pressure temperature able create grows size activate release release fly towards direction knocking away path elemental passively increases move enables pass may activate slow move passive lost cooldown conjures defensive gale shields ally turret incoming increases surrounds throwing settled soothing heal allies active',\n",
              " 'jarvans physical current health cannot occur secondsjarvan iv extends lance physical lowering armor path additionally pull jarvan demacian standard knocking path jarvan iv calls upon ancient kings demacia shield harm slow surrounding jarvan iv carries pride demacia passively granting activating demacian standard allows jarvan iv place demacian flag impact allied jarvan iv heroically leaps battle force terraforms surrounding create arena damaged moment impact',\n",
              " 'consecutive continuously increase speedjax leaps toward charges causing additional combat prowess allows dodge incoming duration quickly counterattack stunning surrounding consecutive additional additionally activate strengthen resolve increasing armor resist duration',\n",
              " 'swaps durationhammer stance leaps physical slowing stance electricity upon reaching end path physical stance passive restores mana per strike active field lightning several stance burst increasing several stance distance stance deploys acceleration gate increasing allied pass shock blast fired gate increase stance transforms mercury mercury new abilities increased form reduces armor resist stance transforms mercury mercury new abilities increasing armor resist form additional',\n",
              " 'whisper precise instrument designed superior fixed rate carries four shots imbues final bullet magics critically strike execute whenever whisper crits inspires burst move speedjhin cartridge four kills brandishes cane firing single incredible pierces stops recently struck allies lotus traps damaged rooted places invisible lotus trap walked slows explosion serrated petals beauty death kills lotus trap bloom corpse channels transforming whisper shoulder mounted able super shots extreme pierce stop impacted whisper cripples slows execute th perfectly crafted epically powerful guaranteed critically strike',\n",
              " 'receives massively increased move whenever helps kill destroy jungle monster structurejinx modifies swapping pow pow minigun fishbones rocket launcher pow pow grant fishbones gain increased drain mana slower zapper shock blast slowing revealing snare grenades explode lighting chompers walk rooting place super rocket map travels rocket explode upon colliding surrounding missing health',\n",
              " 'plasma increasing allies immobilizing help plasma additionally item purchases upgrade powerful propertieskai sa shoots missiles seek living icathian rain upgraded missiles kai sa shoots marking passive living void seeker upgraded apply passive reduce cooldown kai sa briefly increases move increases living supercharge upgraded briefly grant invisibility kai sa dashes',\n",
              " 'enter command winding pierce lunge distance attackthrow fast moving spear passes kills gain oathsworn strike activate send soul scout path revealing front impale spears activate rip spears slowing escalating teleports oathsworn ally gain dash toward position knocking',\n",
              " 'abilities reduce mantras cooldownkarma forth spirit upon mantra addition explosion mantra increases destructive inner creating cataclysm tether targeted revealing tether broken rooted damaged mantra strengthens link healing extending root duration protective shield absorbs incoming increases move protected ally mantra radiates strengthening initial shield inspire allied empowers additional mantra available level require skill point',\n",
              " 'upon dying enters spirit form allows continue casting spellskarthus delayed blast increased isolated passable screen leeching walk screen resist reduced period passively steals victims mana kill alternatively surround souls prey quickly draining mana channeling',\n",
              " 'takes reduced ignores collisionkassadin void interrupting channels excess forms granting temporary shield absorbs passive active significant restores mana draws vicinity upon charging use force pulse slow front teleports multiple riftwalks period cost additional mana additional',\n",
              " 'whenever dies damaged recently remaining cooldowns dramatically reduced dagger slash damagekatarina dagger bounces ricocheting onto burst move tossing dagger directly blinks striking striking nearest otherwise becomes flurry blades massive channels nearest',\n",
              " 'empowered heavens levels spends skill points lit aflame progressively waves attackskayle conjures portal summoning celestial sword pierces slowing reducing resistances blessed divine heals nearest ally passive celestial sword virtue active smites celestial proportionate missing health makes ally invulnerable calls upon former aspects justice purify holy rain swords',\n",
              " 'wields ancient fights rhaast darkin control darkin triumph master rhaast assassin darkin heal percentage dealt assassin combat damagekayn dashes slashes slows walk hides massive bursts',\n",
              " 'stuns hits abilitieskennen fast moving towards causing adding mark opponent hits passively extra adds mark activate add another mark already marked morphs lightning form enabling pass apply mark entering form leaving',\n",
              " 'isolated allies marked abilities interactions isolated visible unseen threat causing slow secondsdeals physical increased isolated chooses evolve reaper refunds percent cooldown isolated increased taste fear exploding physical healed explosion radius chooses evolve spike racks void spike slow reveals isolated slowed extra leaps physical upon landing chooses evolve leap increases cooldown resets kill assist rank allows evolve abilities giving unique additional activated becomes invisible triggering unseen threat increasing chooses evolve adaptive cloaking void assault increased invisibility duration additional use',\n",
              " 'mark hunt successfully completing hunt permanently empowers abilities hunts completed increases rangekindred shoots passively stacks moving attacking fully charged restores health carefully placed slowing instead directs pounce savaging massive living inside zone respite death ends nothing die end healed',\n",
              " 'rides trusty steed skaarl takes skaarls health depletes dismounts dismounted abilities change restore skaarls courage fighting courage remounts portion skaarls healthkled bear trap hooks shackled duration takes additional physical yanked toward dismounted replaced pocket ranged gun blast restores courage massive four fourth dashes physical burst dash initial skaarl charge leaving granting behind shield skaarl locks onto rams encountered',\n",
              " 'dying surrounding enemieskog maw corrosive projectile corrodes armor resist kog maw additional kog maw gain percent health kog maw peculiar ooze passes slows kog maw artillery great distance increased significantly low health revealing stealthed additionally multiple living artilleries period cost additional mana',\n",
              " 'drops health becomes invisible second mirror image lasts secondsleblanc projects sigil marking marked sigil additional dashes activate distortion return starting chain shackles shackled roots additional mimicked version',\n",
              " 'lee sin gain return energysonic wave lee sin projects discordant wave sound locate physical encounters sonic wave hits lee sin resonating strike resonating strike lee sin dashes sonic wave physical missing health safeguard lee sin rushes ally shielding ally shielded using safeguard lee sin iron iron lee sin intense training allows thrive battle lee sin life steal vamp lee sin smashes shockwave reveals hits lee sin cripple cripple lee sin cripples damaged reducing move move recovers gradually duration lee sin performs powerful roundhouse kick launching physical collide collides knocked duration technique taught jesse perring although lee sin kick players map',\n",
              " 'afflict sunlight allied consume sunlight additional damageleona shield perform stunning raises shield gain reduction armor resist duration ends prolong duration projects solar image sword image fades struck briefly immobilized dash calls solar stunned slowed',\n",
              " 'monster skill additional health timepassively stacking move activate extra edge heavy hurls slows lands anything continue rolling hits wall dream dust drowsy falling asleep extra forcibly woken',\n",
              " 'dies frozen thrall frozen thralls slow shatter intense cold targetsthrows spear ice shatters hits slowing shards pass freezes ice rooting ice claw reactivating transports claw current frozen solid stunning encases ice healing becoming untargetable invulnerable ice emanates slowing',\n",
              " 'whenever becomes double shotlucian shoots bolt piercing shoots shape marking briefly revealing attacking marked quickly dashes distance lightslinger reduce relentless pursuit cooldown shots',\n",
              " 'bolts whenever hes following another bolts homing intercepted unitspix bolt heavily slows hits ally turns adorable critter ally jump ally shield follows aids jump follows vision enlarges ally knocking granting ally large amount health ally aura slows',\n",
              " 'charge ignites depending level targetlux releases binds wand bends friendly touches protecting anomaly twisted slows detonate addition triggers passive refreshes illumination debuff duration',\n",
              " 'shielded layer rock absorbs health rechargesmalphite upon impact stealing force sonic boom create aftershocks front shockwave armor reduces duration knocking',\n",
              " 'hasnt recently crowd controlled massive reduction crowd control immunity lingering period taking damagemalzahar portals void projectiles silence voidlings infects mind cruel visions demise using refresh visions dies afflicted visions pass mana voidlings attracted affected channels essence void suppress zone negative',\n",
              " 'heals moderate cooldown struck enemys cooldown reducedmaokai shockwave slowing contorts mass moving roots becoming untargetable dashing upon arrival roots flings sapling guard effective brush colossal wall brambles thorns slowly advances forwards rooting path',\n",
              " 'consecutive master yi twicemaster yi teleports battlefield blinding physical multiple path simultaneously becoming untargetable alpha strike critically strike physical reduce alpha strike cooldown master yi rejuvenates focus mind restoring health taking reduced addition master yi gain stacks double strike pause remaining duration wuju style highlander second channels master yi moves unparalleled agility temporarily increasing move making immune slowing active kills assists extend highlander duration passively reduces cooldown abilities kill assist',\n",
              " 'physical whenever new targetmiss bullet behind apply love tap passively attacked activated grant duration cooldown love taps reduce remaining cooldown strut reveals flurry bullets waves opponents slowing channels bullets front large amounts wave bullet critically strike',\n",
              " 'stacking armor health regeneration fighting monsterswukong reduces armor becomes invisible dashes direction leaving behind clone dashes targeted images struck extends staff spins repeatedly struck knocked',\n",
              " 'powerful aura move landing monstersmordekaiser smashes mace struck increased single stores takes create shield may consume shield heal pulls drags victim different dimension steals portion stats kills stats victim respawns',\n",
              " 'drains spirit healing large medium larger jungler monstersmorgana binds place forcing feel pain caused cursed dare circle receive increases lower health anoints ally protective barrier starfire absorbs disabling broken full force celestial unbinds hovers chains pain onto move towards chains slow initial stun unable break',\n",
              " 'abilities allied gain durationsends bubble stunning impact stream water bounces forth allied healing allies empowers allied duration ally slow massive tidal wave slows allies gain double surging tides',\n",
              " 'drains foes spiritual giving life stealnasus increasing decelerating move spirit reducing armor batters rages increased health reduced cooldown strike armor resistance',\n",
              " 'increased physical roots brieflynautilus hurls colliding pulls colliding pulls towards temporary shield persists surrounding exploding waves explosion slows shockwave chases opponent shockwave rips knocking reaches opponent shockwave erupts knocking stunning',\n",
              " 'look like ally taking casting breaks disguiseneeko killing passively activate send clone direction slings tangle root everything passes tangle kills passes becomes larger faster roots longer preparation leaps shield upon landing damaged stunned preparation hidden disguised',\n",
              " 'moving brush increases increased toward visible javelin toss bushwhack triggers hunt granting sight increased toward hunted takedown pounce enhanced themin human form spiked javelin flies cougar attempt fatally wound life human form lays trap unwary opponents sprung reveals cougar jumps direction lands human form channels spirit cougar heal allies imbue duration cougar direction front transforms cougar new abilities',\n",
              " 'surrounding physical heals reduce cooldownnocturne blade dusk leave dusk move increased empowers blades passively activating shroud darkness allows fade creating barrier blocks single doubles passive successful plants nightmare mind second fear end duration reduces sight radius removes ally vision process launch',\n",
              " 'increases willump ally willumps targetwillump takes monster healing willump snowball grows size rolls snowball multiple snowballs finished willump roots large snowball willump create powerful blizzard slows massive end',\n",
              " 'missing healtholaf passes slowing move cooldown reduced increased life steal increased healing sources health missing force refunding health cost destroys temporarily becomes immune disables',\n",
              " 'additional increases targetorianna toward subsequent release pulse field behind speeds allies slows attach allied shielding passes additionally additional armor resist attached unleash shockwave launching towards',\n",
              " 'additional armor resistance sources spend gold forge consumable items anywhere additionally create masterwork items alliesornn slowing forms end advances breathing final gout brittle charges passes collides charging impact shockwave massive elemental travels toward increasing run elemental slowed made brittle recast charge elemental redirecting direction hits causing elemental affect runs knocked brittle',\n",
              " 'empoweredpantheon spear spear chosen direction dashes stunning sets shield becoming invulnerable front striking repeatedly spear composes leaps landing chosen comet',\n",
              " 'buckler bounces pick gain temporary shieldpoppy swings creating zone slow explode passively armor resist increases low health activate steadfast presence gain stop dashes dash stopped slowed grounded dashes pushes pushed wall stunned channels strike far away',\n",
              " 'hidden regenerates recently cannot gain extra health source instead adpyke stabs front pulls towards enters camouflage significant decays dashes behind phantom return stunning path blinks executes low health allowing granting additional gold ally assists',\n",
              " 'damageqiyana swings element dashes enchants element abilities enchanted dashes shockwave whatever elements hits stunning',\n",
              " 'valor demacian eagle periodically vulnerable vulnerable physical damagequinn calls valor mark hinder vision immediate passively vulnerable activate valor reveal large dashes physical slowing upon reaching leaps briefly interrupting lands away valor fly great ending skystrike vulnerable',\n",
              " 'periodically shieldflings striking monster enables heal allies dashes knocking arrival flies allied granting shield free duration charming touched',\n",
              " 'scaling armorrammus towards slowing affected impact defensive formation vastly increasing armor resistance amplifying spiked shells returning slowed taunts monster reckless assault additionally increased extended active hops slowing powerball',\n",
              " 'generates fury abilities consumes fury burrowed restore healthrek physical burrowed burst void charged physical reveals burrows new abilities increased vision reduced cannot use burrowed may un burrow knock bites double fury burrowed usable lasting tunnel destroy standing top entrance passively activate briefly untargetable lunge marked heavy missing health',\n",
              " 'slowly steals armor resist amount stolenrell lance breaking shields additionally suffers break mold defense steal bound ally attract repel recover health passive additional move mounted additional armor resist armored active changes forms casting different form mounted crashes armor knocking large shield armored forms mount burst flipping binds piece armor another allied grant armor resist ally bound without targeting allied snap binding stun caught magnetic fury violently pulling towards constantly drags towards',\n",
              " 'generate fury increased low life fury empower abilities effectsrenekton swings blade moderate physical heals portion dealt fury heal increased slashes twice moderate physical stuns fury slashes destroying shields physical stunning dashes empowered reduces armor transforms tyrant form health form fury periodically',\n",
              " 'brush leaps leaping ferocity generates ferocity ferocity empowered casting empowered increases killing awards trophies bonetooth necklace granting damagerengar brutally stabs ferocity increased lets battle roar healing recent ferocity additionally breaks crowd control bola slowing duration ferocity roots predatory instincts camouflaging revealing nearest large radius thrill hunt leap tracked without brush reducing armor',\n",
              " 'abilities charge blade expend charges additional damageriven series reactivated frame knocking emits ki burst stunning steps distance blocks incoming empowers keepsake use slash powerful ranged',\n",
              " 'gives heat reaches heat reaches danger zone granting abilities reaches heat starts overheating granting making unable secondsrumble torches opponents front danger zone increased pulls shield protecting granting quick burst danger zone shield strength increased harpoon electrocuting slowing move reducing resist carry harpoons danger zone slow percentage increased group rockets creating wall flames slows',\n",
              " 'extra mana percentage increase mana powerpassively abilities reset cooldown overload charge rune overload runes charged brief burst charge pure struck flux overload extra bounces flux traps cage runes slowing flux instead rooted releases pure debuffs additional debuffed passively overload even flux portal allies standing portal teleported',\n",
              " 'combo abilities unique previous melee additional affected immobilizing dash knocked knocked swings sword wild rush strike path upon completion slashes destroying missiles dashes structures slashing passes killing refreshes cooldown shots wildly shooting surrounding',\n",
              " 'combat frost armor armor resist immunity slows frost armor persists takes stunned shatter massive damagesejuani charges knocking charge stops swings mace twice slowing frost stacks freezes stuns frost stacks bola freezes stuns ice slows',\n",
              " 'die souls periodically trapped black souls free absorbing held death fuels cannons increased critical strike chance longer briefly grant portion move speedfrom unified healing allies forth wave black hits latches onto hungrily rooting everything brief draws stored embracing darkness becoming wraith allies enter camouflaged appear wraiths shrouds wraiths gain increased move unselectable hide identities calls upon stones fallen sentinels splitting holy array global shields allies harm caught',\n",
              " 'twice additionally casting allies attackseraphine shields hastes allies already shielded heal allies impairs charms refreshing allied',\n",
              " 'alternate left right punch right punch slightly stronger faster hates losing additional health regeneration missing healthsett additional health moving towards passively stores takes grit expends stored grit gain shield punch physical sides pulls opposite sides stunning side slowed instead stunned carries slowing',\n",
              " 'shiv poison additional striking behindshaco becomes invisible teleports invisible empowered critically striking behind hidden animated box triggered fear shivs passively poison slowing throw shivs poison thrown shiv health illusion reduced upon death spawning',\n",
              " 'casting gets shield affecting reduces cooldown effectshen recalls spirit blade health greatly empowered collides collided slowed running away would allies spirit blade blocked dashes direction taunting path shields allied incoming soon teleports',\n",
              " 'dragons armor resistance allies slay dragons armor resistanceshyvana twice reduce cooldown dragon form cleaves front surrounds per second moving faster part applied burnout active reduces duration extend duration burnout dragon form burnout grows size fireball encounters cinders marking marked percentage health dragon form breath impact scorching duration transforms dragon takes path knocked toward passively fury per second fury',\n",
              " 'drafts burst passing themleaves poison behind caught path adhesive slowing grounding walk flings behind flings lands adhesive rooted drinks potent brew chemicals granting increased combat stats',\n",
              " 'killed temporarily reanimate rapidly decaying health rapid heal healthsion charges powerful swing front released charges enough swing knocked stunned shields reactivate kills passively health shockwave slows reduces armor shockwave hits monster knocked slowing reducing armor passes charges direction ramping steer charge slightly mouse cursor collides distance charged',\n",
              " 'burst championsivir hurls crossblade like boomerang bounce reduced secondary barrier blocks single receives mana blocked leads allies battle granting surge move period additionally passively active',\n",
              " 'presence spawn locations map captured standing close owns increased mana physical charging several struck slash powered shield increased shield persists blast crystalline struck slows attacking window stun suppresses move freely drag helpless victim ends dealt additional',\n",
              " 'accelerando ultimate haste permanently abilities abilities cap beyond cap successful reduce ultimates remaining cooldown instead chord addition additional activatedsona plays hymn valor bolts sound prioritizing temporary aura allies tagged zone plays aria perseverance protective melodies healing wounded ally temporary aura allies tagged zone temporary shield plays song celerity granting allies temporary aura allied tagged zone plays ultimate chord stunning forcing dance rank reduces base cooldown abilities',\n",
              " 'runs faster towards low health alliesa falls slowing starcall recovers health sacrifices portion health heal another friendly zone silences inside zone expires still inside rooted fills allies hope instantly restoring health friendly',\n",
              " 'ravens collect soul fragments heal permanently increase health right click immobilized pull closer ripping soul fragmentswain several bolts eldritch pierce bolt struck demon slows revealed grant soul fragment wave demonic returns roots hits transforms demon drains health neutral demonflare decimate nova soulfire equal portion health drained ending transformation',\n",
              " 'casting stores charge petricite burst expend charge whirl energized chains charge petricite burst speedsylas chains intersecting targeted slowing intersection point force healing dashes recast throw chains pulling hits steals ultimate freely',\n",
              " 'gain extra rank force scatter weak increased width unleashed increased rangesyndra conjures slowing stunned bombards',\n",
              " 'puts heft immense behind extra total health stacks acquired taste stacks use devour championtahm slowing healing acquired taste already stacks acquired taste stunned stacks consumed dive appear knocking passive stores percent takes heals combat active convert stored temporary shield devours shielding ally',\n",
              " 'wallstaliyah volley missiles direction moving freely works threaded volley worked erupt direction choosing slowing minefield dash pushed pulled wall surfs',\n",
              " 'wound large stacking stacks wound bleed heavy timetalon stabs melee critical melee leap stabbing refunds health cooldown kills volley daggers return physical passes returning blades slow vaults structure distance low cooldown puts used cooldown disperses blades becomes invisible additional emerges invisibility blades converge blades move assault physical least blade',\n",
              " 'spellcasts empower reduce cooldowns quick successionheals allied charges stored bravado empowered grant charge touch passively increase armor allied bastion actively shields ally bastion remain ally bastion readies brief stuns pulses cosmic onto allied making invulnerable duration',\n",
              " 'stands still takes actions duration becomes invisible indefinitely hes brush enter maintain invisibility moving leaving invisibility element surprise increasing secondsobscures vision powerful venom blinding duration scampers passively increasing move struck turret sprint gain move stopped struck poison impact second poisonous trap using mushrooms stored pack steps trap release poisonous slowing mushroom onto another mushroom bounce additional',\n",
              " 'harvest souls die permanently granting armor powerthresh binds chains pulls toward activating second pulls lantern shields allied allies click lantern dash longer waits activated sweeps chain knocking direction blow prison walls slow broken',\n",
              " 'increases levelstristana rapidly increasing propel distant slowing surrounding brief period lands kills cannonballs burst shrapnel surrounding activated place duration surrounding loads massive cannonball carrying charge detonation radius doubled',\n",
              " 'dies heals percent healthtrundle bites opponent briefly slowing sapping turns increased healing sources ice becoming impassable slowing immediately steals percent health armor resistance amount health armor resistance stolen doubled',\n",
              " 'fury critical strike killing blow makes fury passively increases critical strike chance consumed bloodlust spelltryndamere thrives thrills combat increasing wounded bloodlust consume fury heal lets insulting cry decreasing surrounding backs turned reduced slices toward path lust battle becomes strong unable die matter wounded becomes',\n",
              " 'upon killing twisted fate rolls lucky dice receiving goldtwisted fate cards pass twisted fate chooses card deck causing twisted fate addition increased twisted fate predicts fortunes foes revealing enabling use gate teleports twisted fate',\n",
              " 'infect becomes camouflaged duration move leaving camouflage duration deadly venom dies ambush cooldown reset hurls venom slowing deadly venom wreaks havoc blast vile diseases full crossbow shooting bolts great distance pierce caught path',\n",
              " 'stacking move using four abilities may use swap stances changing stances immediately ends passive portion previous stancetiger stance activation increased persistent amount turtle stance activation temporary shield absorbs persistent heals health bear stance activation increases duration persistent stun second cannot occur several phoenix stance activation pulsing waves persistent engulfs front flames',\n",
              " 'purge periodically trigger legs physical damagefires charge physical slowing caught explosion slows unloads recently struck abilities triggers echoing flames charges direction shielding trampling catches stop hurl chem drill impales falls health threshold judges weak execute',\n",
              " 'kill assist temporarily larger championvarus readies powerful extra longer spends preparing passive apply blight abilities detonate blight health active empowers piercing arrow hail physical desecrate desecrated slows reduces self healing regeneration flings tendril corruption immobilizes spreads towards uninfected immobilizing contact',\n",
              " 'ruthlessly hunts evil doers move moving toward championsvayne maneuvering carefully place tips bolts rare metal toxic evil consecutive percentage health draws heavy crossbow huge bolt knocking collide impaled stunning readying confrontation increased invisibility tumble reduced tumble cooldown night hunter',\n",
              " 'greatest evil ever strike hearts runeterra hes getting bigger striking scoring takedown permanently increased powerveigar bolt killed bolt grant permanently calls great mass matter fall lands stacks phenomenal evil reduce matter cooldown twists edges space creating cage stuns pass large amount increasing missing health',\n",
              " 'abilities apply organic deconstruction stacks accumulated burst damagevel shoots bolt plasma splits reactivation upon bolt slows void initial burst second burst explode knocking knocking close slightly away channelled follows cursor organic deconstruction researches causing instead',\n",
              " 'charges shield shield activated abilityvi charges gauntlets shattering punch carrying hits knocked receive denting blows punches break opponent armor granting behind runs knocking aside anyone reaches jumps',\n",
              " 'fall wraiths attacking wraith temporarily seizes control dead enemys healing percentage health access abilities items replaces ultimate free ownviego spectral blade passively percent current health twice vs recently stealing health activate thrust zweihander impaling front charges dashing releasing concentrated black stuns black haunt surround piece hide wraith camouflage move teleports executes arrival piercing heart causing destructive shockwave away allies',\n",
              " 'augment abilities gets kills enemiesviktor shield empowering augment shield increased casting conjures heavy gravitational field slows radius stay device stunned augment periodic apply slow robotic arm chaos cuts field path augment explosion follows death ray wake conjures singularity field interrupts channels singularity periodically redirect singularity augment chaos moves faster',\n",
              " 'points health gives point gives health itselfvladimir steals life resource full transfusion benefit massively increased healing brief sinks pool blood becoming untargetable additionally pool slowed siphons life pays health charge reservoir blood released blocked infects virulent plague affected increased duration hemoplague infected heals',\n",
              " 'abilities grant towards stunning marking casting heals lightning bolt slowing granting shield inside blast radius leaps slowing beneath health towers landing temporarily disabled',\n",
              " 'health heals amount health healing tripleswarwick bites health healing dealt senses health toward fall health frenzies bonuses triple reduction end activated howls causing flee second leaps direction scaling move suppressing collides',\n",
              " 'using path leave featherxayah daggers drop feathers recall blades increase granting calls dropped feathers rooting leaps becoming untargetable throwing fan daggers dropping feathers recall',\n",
              " 'periodically restore manafires calls slowing middle receive additional stronger slow stuns immobilizes numerous barrages',\n",
              " 'heals zhaoxin standard increased knocking opponent slashes front spear slowing affected marking challenged charges increased slowing briefly audacious charge increased challenged challenges damaged recently current health challenged becoming impervious dealt circle created',\n",
              " 'critical strike chance increased additionally toward shield whenever moving shield triggers takes monsterthrusts stacks airborne moving wall blocks projectiles dashes increases dash base amount cannot dashing strike circle blinks airborne physical holding airborne resets stacks moderate afterwards critical gain significant armor penetration',\n",
              " 'second addition critical strike chance increasedthrusts stacks mortal dashes knocking airborne mortal cleaves shield value increased number swipe spirit cleave cooldown scale spirit behind skill ends spirit repeats portion dealt spirit blinks behind slash powerful pulls towards',\n",
              " 'cursed horde summon walkers enemiesyorick heals dies grave dug destructible wall block black slows maiden maiden maiden automatically raise walkers dead',\n",
              " 'periodically restores mana shield follows protecting ally attached toyuumi slows takes least second attached controlled cursor passively increases ally adaptive force actively dashes ally becoming untargetable everything except heals boosts attached passes ally instead channels seven waves rooting anyone move attach zoomies channeling',\n",
              " 'hits sheds chunk reabsorbed restore health upon taking fatal splits bloblets attempt recombine bloblets remain revive amount health depending health surviving bloblets bloblet percentage health armor resistance minute cooldownzac stretches arm grabbing attacking different throw towards outward towards percentage health attaches arms stretches launching bounces four knocking slowing',\n",
              " 'low health occur championzed throw passive whenever strike gained per active dashes remaining place reactivating living switch positions slash becomes untargetable dashes marking mark triggers repeating portion dealt marked',\n",
              " 'periodically cooldown reduced whenever abilityziggs flings charge activated explosion knocking away knocked away takes use satchel hexplode vulnerable scatters proximity mines detonate contact slowing successive mine detonations reduced deploys ultimate creation inferno hurling enormous distance primary blast zone farther away',\n",
              " 'stores experience grant allies enough experience finish allys level right click impart receives experience givestosses detonated another stuns prepare confrontations reducing cooldowns abilities bends decreasing move increasing ally move places protective rune allied teleporting lethal',\n",
              " 'casting damagezoe redirect longer flies straight pick remnants summoner active item whenever summoner missiles nearest drowsy fall asleep source breaks sleep doubled cap blink position second blink',\n",
              " 'seeds spawn periodically becoming faster level deadly grasping roots seeds grow plants fight zyrathick spread explode deadly grows thorn spitter plant afar plants lasting deadly grasping roots seeds turn plants fight store multiple seeds killing reduces rampant growth recharge forth ensnare rooting grasping roots grows vine whose reduce twisted thicket expands knocking airborne contracts plants thicket enraged']"
            ]
          },
          "metadata": {},
          "execution_count": 411
        }
      ]
    },
    {
      "cell_type": "code",
      "metadata": {
        "colab": {
          "base_uri": "https://localhost:8080/"
        },
        "id": "4Xmdnu8QUgOH",
        "outputId": "fdb0d08c-ce60-4383-8bc8-f5675eefb4b0"
      },
      "source": [
        "pip install pororo"
      ],
      "execution_count": 82,
      "outputs": [
        {
          "output_type": "stream",
          "name": "stdout",
          "text": [
            "Requirement already satisfied: pororo in /usr/local/lib/python3.7/dist-packages (0.4.2)\n",
            "Requirement already satisfied: joblib in /usr/local/lib/python3.7/dist-packages (from pororo) (1.0.1)\n",
            "Requirement already satisfied: g2p-en in /usr/local/lib/python3.7/dist-packages (from pororo) (2.1.0)\n",
            "Requirement already satisfied: word2word in /usr/local/lib/python3.7/dist-packages (from pororo) (1.0.0)\n",
            "Requirement already satisfied: pillow>=4.1.1 in /usr/local/lib/python3.7/dist-packages (from pororo) (7.1.2)\n",
            "Requirement already satisfied: whoosh in /usr/local/lib/python3.7/dist-packages (from pororo) (2.7.4)\n",
            "Requirement already satisfied: torch==1.6.0 in /usr/local/lib/python3.7/dist-packages (from pororo) (1.6.0)\n",
            "Requirement already satisfied: transformers>=4.0.0 in /usr/local/lib/python3.7/dist-packages (from pororo) (4.10.2)\n",
            "Requirement already satisfied: sentence-transformers>=0.4.1.2 in /usr/local/lib/python3.7/dist-packages (from pororo) (2.0.0)\n",
            "Requirement already satisfied: marisa-trie in /usr/local/lib/python3.7/dist-packages (from pororo) (0.7.7)\n",
            "Requirement already satisfied: fairseq>=0.10.2 in /usr/local/lib/python3.7/dist-packages (from pororo) (0.10.2)\n",
            "Requirement already satisfied: lxml in /usr/local/lib/python3.7/dist-packages (from pororo) (4.2.6)\n",
            "Requirement already satisfied: kss in /usr/local/lib/python3.7/dist-packages (from pororo) (3.2.0)\n",
            "Requirement already satisfied: wget in /usr/local/lib/python3.7/dist-packages (from pororo) (3.2)\n",
            "Requirement already satisfied: torchvision==0.7.0 in /usr/local/lib/python3.7/dist-packages (from pororo) (0.7.0)\n",
            "Requirement already satisfied: nltk>=3.5 in /usr/local/lib/python3.7/dist-packages (from pororo) (3.6.2)\n",
            "Requirement already satisfied: numpy in /usr/local/lib/python3.7/dist-packages (from torch==1.6.0->pororo) (1.19.5)\n",
            "Requirement already satisfied: future in /usr/local/lib/python3.7/dist-packages (from torch==1.6.0->pororo) (0.16.0)\n",
            "Requirement already satisfied: regex in /usr/local/lib/python3.7/dist-packages (from fairseq>=0.10.2->pororo) (2019.12.20)\n",
            "Requirement already satisfied: tqdm in /usr/local/lib/python3.7/dist-packages (from fairseq>=0.10.2->pororo) (4.62.0)\n",
            "Requirement already satisfied: cffi in /usr/local/lib/python3.7/dist-packages (from fairseq>=0.10.2->pororo) (1.14.6)\n",
            "Requirement already satisfied: sacrebleu>=1.4.12 in /usr/local/lib/python3.7/dist-packages (from fairseq>=0.10.2->pororo) (2.0.0)\n",
            "Requirement already satisfied: cython in /usr/local/lib/python3.7/dist-packages (from fairseq>=0.10.2->pororo) (0.29.24)\n",
            "Requirement already satisfied: hydra-core in /usr/local/lib/python3.7/dist-packages (from fairseq>=0.10.2->pororo) (1.1.1)\n",
            "Requirement already satisfied: dataclasses in /usr/local/lib/python3.7/dist-packages (from fairseq>=0.10.2->pororo) (0.6)\n",
            "Requirement already satisfied: click in /usr/local/lib/python3.7/dist-packages (from nltk>=3.5->pororo) (7.1.2)\n",
            "Requirement already satisfied: portalocker in /usr/local/lib/python3.7/dist-packages (from sacrebleu>=1.4.12->fairseq>=0.10.2->pororo) (2.3.2)\n",
            "Requirement already satisfied: colorama in /usr/local/lib/python3.7/dist-packages (from sacrebleu>=1.4.12->fairseq>=0.10.2->pororo) (0.4.4)\n",
            "Requirement already satisfied: tabulate>=0.8.9 in /usr/local/lib/python3.7/dist-packages (from sacrebleu>=1.4.12->fairseq>=0.10.2->pororo) (0.8.9)\n",
            "Requirement already satisfied: sentencepiece in /usr/local/lib/python3.7/dist-packages (from sentence-transformers>=0.4.1.2->pororo) (0.1.96)\n",
            "Requirement already satisfied: scikit-learn in /usr/local/lib/python3.7/dist-packages (from sentence-transformers>=0.4.1.2->pororo) (0.22.2.post1)\n",
            "Requirement already satisfied: scipy in /usr/local/lib/python3.7/dist-packages (from sentence-transformers>=0.4.1.2->pororo) (1.4.1)\n",
            "Requirement already satisfied: huggingface-hub in /usr/local/lib/python3.7/dist-packages (from sentence-transformers>=0.4.1.2->pororo) (0.0.17)\n",
            "Requirement already satisfied: requests in /usr/local/lib/python3.7/dist-packages (from transformers>=4.0.0->pororo) (2.23.0)\n",
            "Requirement already satisfied: sacremoses in /usr/local/lib/python3.7/dist-packages (from transformers>=4.0.0->pororo) (0.0.45)\n",
            "Requirement already satisfied: pyyaml>=5.1 in /usr/local/lib/python3.7/dist-packages (from transformers>=4.0.0->pororo) (5.4.1)\n",
            "Requirement already satisfied: importlib-metadata in /usr/local/lib/python3.7/dist-packages (from transformers>=4.0.0->pororo) (4.6.4)\n",
            "Requirement already satisfied: tokenizers<0.11,>=0.10.1 in /usr/local/lib/python3.7/dist-packages (from transformers>=4.0.0->pororo) (0.10.3)\n",
            "Requirement already satisfied: filelock in /usr/local/lib/python3.7/dist-packages (from transformers>=4.0.0->pororo) (3.0.12)\n",
            "Requirement already satisfied: packaging in /usr/local/lib/python3.7/dist-packages (from transformers>=4.0.0->pororo) (21.0)\n",
            "Requirement already satisfied: typing-extensions in /usr/local/lib/python3.7/dist-packages (from huggingface-hub->sentence-transformers>=0.4.1.2->pororo) (3.7.4.3)\n",
            "Requirement already satisfied: pyparsing>=2.0.2 in /usr/local/lib/python3.7/dist-packages (from packaging->transformers>=4.0.0->pororo) (2.4.7)\n",
            "Requirement already satisfied: pycparser in /usr/local/lib/python3.7/dist-packages (from cffi->fairseq>=0.10.2->pororo) (2.20)\n",
            "Requirement already satisfied: inflect>=0.3.1 in /usr/local/lib/python3.7/dist-packages (from g2p-en->pororo) (2.1.0)\n",
            "Requirement already satisfied: distance>=0.1.3 in /usr/local/lib/python3.7/dist-packages (from g2p-en->pororo) (0.1.3)\n",
            "Requirement already satisfied: antlr4-python3-runtime==4.8 in /usr/local/lib/python3.7/dist-packages (from hydra-core->fairseq>=0.10.2->pororo) (4.8)\n",
            "Requirement already satisfied: importlib-resources in /usr/local/lib/python3.7/dist-packages (from hydra-core->fairseq>=0.10.2->pororo) (5.2.2)\n",
            "Requirement already satisfied: omegaconf==2.1.* in /usr/local/lib/python3.7/dist-packages (from hydra-core->fairseq>=0.10.2->pororo) (2.1.1)\n",
            "Requirement already satisfied: zipp>=0.5 in /usr/local/lib/python3.7/dist-packages (from importlib-metadata->transformers>=4.0.0->pororo) (3.5.0)\n",
            "Requirement already satisfied: emoji in /usr/local/lib/python3.7/dist-packages (from kss->pororo) (1.4.2)\n",
            "Requirement already satisfied: setuptools in /usr/local/lib/python3.7/dist-packages (from marisa-trie->pororo) (57.4.0)\n",
            "Requirement already satisfied: idna<3,>=2.5 in /usr/local/lib/python3.7/dist-packages (from requests->transformers>=4.0.0->pororo) (2.10)\n",
            "Requirement already satisfied: certifi>=2017.4.17 in /usr/local/lib/python3.7/dist-packages (from requests->transformers>=4.0.0->pororo) (2021.5.30)\n",
            "Requirement already satisfied: chardet<4,>=3.0.2 in /usr/local/lib/python3.7/dist-packages (from requests->transformers>=4.0.0->pororo) (3.0.4)\n",
            "Requirement already satisfied: urllib3!=1.25.0,!=1.25.1,<1.26,>=1.21.1 in /usr/local/lib/python3.7/dist-packages (from requests->transformers>=4.0.0->pororo) (1.24.3)\n",
            "Requirement already satisfied: six in /usr/local/lib/python3.7/dist-packages (from sacremoses->transformers>=4.0.0->pororo) (1.15.0)\n"
          ]
        }
      ]
    },
    {
      "cell_type": "code",
      "metadata": {
        "id": "If9NKn4zUvIY"
      },
      "source": [
        "from pororo import Pororo"
      ],
      "execution_count": 83,
      "outputs": []
    },
    {
      "cell_type": "code",
      "metadata": {
        "id": "pPkIO4unUvDT"
      },
      "source": [
        "def who_are_u(champ_key):\n",
        "    return champ_summ['id'][champ_key]"
      ],
      "execution_count": 84,
      "outputs": []
    },
    {
      "cell_type": "code",
      "metadata": {
        "id": "Y3QXn961NXhi"
      },
      "source": [
        "def pororo_good_update(column, champ_name):\n",
        "    # clean_discrib = []\n",
        "    cands = []\n",
        "    for i in range(len(champ_summ[column])):\n",
        "        cands.append(champ_summ[column][i])\n",
        "    se = Pororo(task=\"sentence_embedding\", lang=\"ko\")\n",
        "\n",
        "    key = champ_summ[champ_summ['id'] == champ_name].index.values[0]\n",
        "    discrib = champ_summ[column][key]\n",
        "    # 랭킹 매기는 부분\n",
        "    ranking_1 = se.find_similar_sentences(discrib, cands)['ranking'][:6]\n",
        "    # 잘 보여주기 부분\n",
        "    ranking_list = pd.DataFrame()\n",
        "    champ_rank = []\n",
        "    how_close = []\n",
        "    how = []\n",
        "    for i in range(len(ranking_1)):\n",
        "        name_1 = who_are_u(ranking_1[i][0])\n",
        "        champ_rank.append(name_1)\n",
        "        how_close.append(ranking_1[i][2])\n",
        "        how.append(ranking_1[i][1])\n",
        "    ranking_list['champ_rank'] = champ_rank\n",
        "    ranking_list['how_close'] = how_close\n",
        "    ranking_list['how'] = how\n",
        "        \n",
        "    return ranking_list"
      ],
      "execution_count": 85,
      "outputs": []
    },
    {
      "cell_type": "code",
      "metadata": {
        "colab": {
          "base_uri": "https://localhost:8080/"
        },
        "id": "ar-XFX6eUWFu",
        "outputId": "a308deda-adbd-4980-ada2-aabc7b52fd5a"
      },
      "source": [
        "champ_summ['clean_skills']= preprocessing('champ_all_skill',remove_stopwords = True)"
      ],
      "execution_count": 404,
      "outputs": [
        {
          "output_type": "stream",
          "name": "stderr",
          "text": [
            "/usr/local/lib/python3.7/dist-packages/ipykernel_launcher.py:1: SettingWithCopyWarning: \n",
            "A value is trying to be set on a copy of a slice from a DataFrame.\n",
            "Try using .loc[row_indexer,col_indexer] = value instead\n",
            "\n",
            "See the caveats in the documentation: https://pandas.pydata.org/pandas-docs/stable/user_guide/indexing.html#returning-a-view-versus-a-copy\n",
            "  \"\"\"Entry point for launching an IPython kernel.\n"
          ]
        }
      ]
    },
    {
      "cell_type": "code",
      "metadata": {
        "colab": {
          "base_uri": "https://localhost:8080/",
          "height": 204
        },
        "id": "xxDYcklaABmW",
        "outputId": "7967a69a-2858-44c4-cec7-433c5a059ff4"
      },
      "source": [
        "pororo_good_update('clean_skills', 'Leona')"
      ],
      "execution_count": 405,
      "outputs": [
        {
          "output_type": "execute_result",
          "data": {
            "text/html": [
              "<div>\n",
              "<style scoped>\n",
              "    .dataframe tbody tr th:only-of-type {\n",
              "        vertical-align: middle;\n",
              "    }\n",
              "\n",
              "    .dataframe tbody tr th {\n",
              "        vertical-align: top;\n",
              "    }\n",
              "\n",
              "    .dataframe thead th {\n",
              "        text-align: right;\n",
              "    }\n",
              "</style>\n",
              "<table border=\"1\" class=\"dataframe\">\n",
              "  <thead>\n",
              "    <tr style=\"text-align: right;\">\n",
              "      <th></th>\n",
              "      <th>champ_rank</th>\n",
              "      <th>how_close</th>\n",
              "      <th>how</th>\n",
              "    </tr>\n",
              "  </thead>\n",
              "  <tbody>\n",
              "    <tr>\n",
              "      <th>0</th>\n",
              "      <td>Leona</td>\n",
              "      <td>1.00</td>\n",
              "      <td>afflict sunlight allied consume sunlight addit...</td>\n",
              "    </tr>\n",
              "    <tr>\n",
              "      <th>1</th>\n",
              "      <td>Skarner</td>\n",
              "      <td>0.92</td>\n",
              "      <td>presence spawn locations map captured standing...</td>\n",
              "    </tr>\n",
              "    <tr>\n",
              "      <th>2</th>\n",
              "      <td>Nautilus</td>\n",
              "      <td>0.91</td>\n",
              "      <td>increased physical roots brieflynautilus hurls...</td>\n",
              "    </tr>\n",
              "    <tr>\n",
              "      <th>3</th>\n",
              "      <td>Samira</td>\n",
              "      <td>0.91</td>\n",
              "      <td>builds combo abilities unique previous melee a...</td>\n",
              "    </tr>\n",
              "    <tr>\n",
              "      <th>4</th>\n",
              "      <td>Bard</td>\n",
              "      <td>0.91</td>\n",
              "      <td>meeps attracts lesser spirits assist extra col...</td>\n",
              "    </tr>\n",
              "  </tbody>\n",
              "</table>\n",
              "</div>"
            ],
            "text/plain": [
              "  champ_rank  how_close                                                how\n",
              "0      Leona       1.00  afflict sunlight allied consume sunlight addit...\n",
              "1    Skarner       0.92  presence spawn locations map captured standing...\n",
              "2   Nautilus       0.91  increased physical roots brieflynautilus hurls...\n",
              "3     Samira       0.91  builds combo abilities unique previous melee a...\n",
              "4       Bard       0.91  meeps attracts lesser spirits assist extra col..."
            ]
          },
          "metadata": {},
          "execution_count": 405
        }
      ]
    },
    {
      "cell_type": "code",
      "metadata": {
        "colab": {
          "base_uri": "https://localhost:8080/",
          "height": 204
        },
        "id": "ZcY2JLGGlFGN",
        "outputId": "2eb3753f-daf1-4a93-a9d4-5a38e086e904"
      },
      "source": [
        "pororo_good_update('clean_skills', 'Fizz')"
      ],
      "execution_count": 406,
      "outputs": [
        {
          "output_type": "execute_result",
          "data": {
            "text/html": [
              "<div>\n",
              "<style scoped>\n",
              "    .dataframe tbody tr th:only-of-type {\n",
              "        vertical-align: middle;\n",
              "    }\n",
              "\n",
              "    .dataframe tbody tr th {\n",
              "        vertical-align: top;\n",
              "    }\n",
              "\n",
              "    .dataframe thead th {\n",
              "        text-align: right;\n",
              "    }\n",
              "</style>\n",
              "<table border=\"1\" class=\"dataframe\">\n",
              "  <thead>\n",
              "    <tr style=\"text-align: right;\">\n",
              "      <th></th>\n",
              "      <th>champ_rank</th>\n",
              "      <th>how_close</th>\n",
              "      <th>how</th>\n",
              "    </tr>\n",
              "  </thead>\n",
              "  <tbody>\n",
              "    <tr>\n",
              "      <th>0</th>\n",
              "      <td>Fizz</td>\n",
              "      <td>1.00</td>\n",
              "      <td>move takes flat amount reduced sourcesfizz das...</td>\n",
              "    </tr>\n",
              "    <tr>\n",
              "      <th>1</th>\n",
              "      <td>MissFortune</td>\n",
              "      <td>0.92</td>\n",
              "      <td>physical whenever new targetmiss bullet behind...</td>\n",
              "    </tr>\n",
              "    <tr>\n",
              "      <th>2</th>\n",
              "      <td>Nocturne</td>\n",
              "      <td>0.92</td>\n",
              "      <td>surrounding physical heals reduce cooldownnoct...</td>\n",
              "    </tr>\n",
              "    <tr>\n",
              "      <th>3</th>\n",
              "      <td>Hecarim</td>\n",
              "      <td>0.92</td>\n",
              "      <td>equal percentage speedhecarim cleaves physical...</td>\n",
              "    </tr>\n",
              "    <tr>\n",
              "      <th>4</th>\n",
              "      <td>Kassadin</td>\n",
              "      <td>0.92</td>\n",
              "      <td>takes reduced ignores collisionkassadin void i...</td>\n",
              "    </tr>\n",
              "  </tbody>\n",
              "</table>\n",
              "</div>"
            ],
            "text/plain": [
              "    champ_rank  how_close                                                how\n",
              "0         Fizz       1.00  move takes flat amount reduced sourcesfizz das...\n",
              "1  MissFortune       0.92  physical whenever new targetmiss bullet behind...\n",
              "2     Nocturne       0.92  surrounding physical heals reduce cooldownnoct...\n",
              "3      Hecarim       0.92  equal percentage speedhecarim cleaves physical...\n",
              "4     Kassadin       0.92  takes reduced ignores collisionkassadin void i..."
            ]
          },
          "metadata": {},
          "execution_count": 406
        }
      ]
    },
    {
      "cell_type": "code",
      "metadata": {
        "colab": {
          "base_uri": "https://localhost:8080/",
          "height": 204
        },
        "id": "rXBk6Q4F_08O",
        "outputId": "96ebd090-98f2-422a-f936-aa89d3607deb"
      },
      "source": [
        "pororo_good_update('clean_skills', 'Viktor') "
      ],
      "execution_count": 407,
      "outputs": [
        {
          "output_type": "execute_result",
          "data": {
            "text/html": [
              "<div>\n",
              "<style scoped>\n",
              "    .dataframe tbody tr th:only-of-type {\n",
              "        vertical-align: middle;\n",
              "    }\n",
              "\n",
              "    .dataframe tbody tr th {\n",
              "        vertical-align: top;\n",
              "    }\n",
              "\n",
              "    .dataframe thead th {\n",
              "        text-align: right;\n",
              "    }\n",
              "</style>\n",
              "<table border=\"1\" class=\"dataframe\">\n",
              "  <thead>\n",
              "    <tr style=\"text-align: right;\">\n",
              "      <th></th>\n",
              "      <th>champ_rank</th>\n",
              "      <th>how_close</th>\n",
              "      <th>how</th>\n",
              "    </tr>\n",
              "  </thead>\n",
              "  <tbody>\n",
              "    <tr>\n",
              "      <th>0</th>\n",
              "      <td>Viktor</td>\n",
              "      <td>1.00</td>\n",
              "      <td>augment abilities gets kills enemiesviktor shi...</td>\n",
              "    </tr>\n",
              "    <tr>\n",
              "      <th>1</th>\n",
              "      <td>Gnar</td>\n",
              "      <td>0.91</td>\n",
              "      <td>combat generates transform granting increased ...</td>\n",
              "    </tr>\n",
              "    <tr>\n",
              "      <th>2</th>\n",
              "      <td>Velkoz</td>\n",
              "      <td>0.90</td>\n",
              "      <td>abilities apply organic deconstruction stacks ...</td>\n",
              "    </tr>\n",
              "    <tr>\n",
              "      <th>3</th>\n",
              "      <td>Blitzcrank</td>\n",
              "      <td>0.90</td>\n",
              "      <td>shield mana dropping low healthblitzcrank righ...</td>\n",
              "    </tr>\n",
              "    <tr>\n",
              "      <th>4</th>\n",
              "      <td>Leona</td>\n",
              "      <td>0.90</td>\n",
              "      <td>afflict sunlight allied consume sunlight addit...</td>\n",
              "    </tr>\n",
              "  </tbody>\n",
              "</table>\n",
              "</div>"
            ],
            "text/plain": [
              "   champ_rank  how_close                                                how\n",
              "0      Viktor       1.00  augment abilities gets kills enemiesviktor shi...\n",
              "1        Gnar       0.91  combat generates transform granting increased ...\n",
              "2      Velkoz       0.90  abilities apply organic deconstruction stacks ...\n",
              "3  Blitzcrank       0.90  shield mana dropping low healthblitzcrank righ...\n",
              "4       Leona       0.90  afflict sunlight allied consume sunlight addit..."
            ]
          },
          "metadata": {},
          "execution_count": 407
        }
      ]
    },
    {
      "cell_type": "code",
      "metadata": {
        "colab": {
          "base_uri": "https://localhost:8080/",
          "height": 204
        },
        "id": "8kvTe0abEm2H",
        "outputId": "a86a2895-3382-4a77-cadb-a44e577feae0"
      },
      "source": [
        "pororo_good_update('clean_skills', 'Syndra') "
      ],
      "execution_count": 408,
      "outputs": [
        {
          "output_type": "execute_result",
          "data": {
            "text/html": [
              "<div>\n",
              "<style scoped>\n",
              "    .dataframe tbody tr th:only-of-type {\n",
              "        vertical-align: middle;\n",
              "    }\n",
              "\n",
              "    .dataframe tbody tr th {\n",
              "        vertical-align: top;\n",
              "    }\n",
              "\n",
              "    .dataframe thead th {\n",
              "        text-align: right;\n",
              "    }\n",
              "</style>\n",
              "<table border=\"1\" class=\"dataframe\">\n",
              "  <thead>\n",
              "    <tr style=\"text-align: right;\">\n",
              "      <th></th>\n",
              "      <th>champ_rank</th>\n",
              "      <th>how_close</th>\n",
              "      <th>how</th>\n",
              "    </tr>\n",
              "  </thead>\n",
              "  <tbody>\n",
              "    <tr>\n",
              "      <th>0</th>\n",
              "      <td>Syndra</td>\n",
              "      <td>1.00</td>\n",
              "      <td>gain extra rank force scatter weak increased w...</td>\n",
              "    </tr>\n",
              "    <tr>\n",
              "      <th>1</th>\n",
              "      <td>Gnar</td>\n",
              "      <td>0.86</td>\n",
              "      <td>combat generates transform granting increased ...</td>\n",
              "    </tr>\n",
              "    <tr>\n",
              "      <th>2</th>\n",
              "      <td>Heimerdinger</td>\n",
              "      <td>0.86</td>\n",
              "      <td>gain allied towers deployed heimerdingerheimer...</td>\n",
              "    </tr>\n",
              "    <tr>\n",
              "      <th>3</th>\n",
              "      <td>Cassiopeia</td>\n",
              "      <td>0.84</td>\n",
              "      <td>move per level cannot purchase itemscassiopeia...</td>\n",
              "    </tr>\n",
              "    <tr>\n",
              "      <th>4</th>\n",
              "      <td>Jinx</td>\n",
              "      <td>0.84</td>\n",
              "      <td>receives massively increased move whenever hel...</td>\n",
              "    </tr>\n",
              "  </tbody>\n",
              "</table>\n",
              "</div>"
            ],
            "text/plain": [
              "     champ_rank  how_close                                                how\n",
              "0        Syndra       1.00  gain extra rank force scatter weak increased w...\n",
              "1          Gnar       0.86  combat generates transform granting increased ...\n",
              "2  Heimerdinger       0.86  gain allied towers deployed heimerdingerheimer...\n",
              "3    Cassiopeia       0.84  move per level cannot purchase itemscassiopeia...\n",
              "4          Jinx       0.84  receives massively increased move whenever hel..."
            ]
          },
          "metadata": {},
          "execution_count": 408
        }
      ]
    },
    {
      "cell_type": "code",
      "metadata": {
        "colab": {
          "base_uri": "https://localhost:8080/",
          "height": 324
        },
        "id": "bPxG_eHDnAv0",
        "outputId": "238374d2-dc7c-4e4b-e319-c316f7d39025"
      },
      "source": [
        "pororo_good_update('clean_skills', 'Volibear')"
      ],
      "execution_count": 409,
      "outputs": [
        {
          "output_type": "error",
          "ename": "KeyboardInterrupt",
          "evalue": "ignored",
          "traceback": [
            "\u001b[0;31m---------------------------------------------------------------------------\u001b[0m",
            "\u001b[0;31mKeyboardInterrupt\u001b[0m                         Traceback (most recent call last)",
            "\u001b[0;32m<ipython-input-409-759b69599422>\u001b[0m in \u001b[0;36m<module>\u001b[0;34m()\u001b[0m\n\u001b[0;32m----> 1\u001b[0;31m \u001b[0mpororo_good_update\u001b[0m\u001b[0;34m(\u001b[0m\u001b[0;34m'clean_skills'\u001b[0m\u001b[0;34m,\u001b[0m \u001b[0;34m'Volibear'\u001b[0m\u001b[0;34m)\u001b[0m\u001b[0;34m\u001b[0m\u001b[0;34m\u001b[0m\u001b[0m\n\u001b[0m",
            "\u001b[0;32m<ipython-input-85-bc4c16572a99>\u001b[0m in \u001b[0;36mpororo_good_update\u001b[0;34m(column, champ_name)\u001b[0m\n\u001b[1;32m      9\u001b[0m     \u001b[0mdiscrib\u001b[0m \u001b[0;34m=\u001b[0m \u001b[0mchamp_summ\u001b[0m\u001b[0;34m[\u001b[0m\u001b[0mcolumn\u001b[0m\u001b[0;34m]\u001b[0m\u001b[0;34m[\u001b[0m\u001b[0mkey\u001b[0m\u001b[0;34m]\u001b[0m\u001b[0;34m\u001b[0m\u001b[0;34m\u001b[0m\u001b[0m\n\u001b[1;32m     10\u001b[0m     \u001b[0;31m# 랭킹 매기는 부분\u001b[0m\u001b[0;34m\u001b[0m\u001b[0;34m\u001b[0m\u001b[0;34m\u001b[0m\u001b[0m\n\u001b[0;32m---> 11\u001b[0;31m     \u001b[0mranking_1\u001b[0m \u001b[0;34m=\u001b[0m \u001b[0mse\u001b[0m\u001b[0;34m.\u001b[0m\u001b[0mfind_similar_sentences\u001b[0m\u001b[0;34m(\u001b[0m\u001b[0mdiscrib\u001b[0m\u001b[0;34m,\u001b[0m \u001b[0mcands\u001b[0m\u001b[0;34m)\u001b[0m\u001b[0;34m[\u001b[0m\u001b[0;34m'ranking'\u001b[0m\u001b[0;34m]\u001b[0m\u001b[0;34m[\u001b[0m\u001b[0;34m:\u001b[0m\u001b[0;36m6\u001b[0m\u001b[0;34m]\u001b[0m\u001b[0;34m\u001b[0m\u001b[0;34m\u001b[0m\u001b[0m\n\u001b[0m\u001b[1;32m     12\u001b[0m     \u001b[0;31m# 잘 보여주기 부분\u001b[0m\u001b[0;34m\u001b[0m\u001b[0;34m\u001b[0m\u001b[0;34m\u001b[0m\u001b[0m\n\u001b[1;32m     13\u001b[0m     \u001b[0mranking_list\u001b[0m \u001b[0;34m=\u001b[0m \u001b[0mpd\u001b[0m\u001b[0;34m.\u001b[0m\u001b[0mDataFrame\u001b[0m\u001b[0;34m(\u001b[0m\u001b[0;34m)\u001b[0m\u001b[0;34m\u001b[0m\u001b[0;34m\u001b[0m\u001b[0m\n",
            "\u001b[0;32m/usr/local/lib/python3.7/dist-packages/pororo/tasks/sentence_embedding.py\u001b[0m in \u001b[0;36mfind_similar_sentences\u001b[0;34m(self, query, cands)\u001b[0m\n\u001b[1;32m    155\u001b[0m         \"\"\"\n\u001b[1;32m    156\u001b[0m         \u001b[0mquery_embedding\u001b[0m \u001b[0;34m=\u001b[0m \u001b[0mself\u001b[0m\u001b[0;34m.\u001b[0m\u001b[0m_model\u001b[0m\u001b[0;34m.\u001b[0m\u001b[0mencode\u001b[0m\u001b[0;34m(\u001b[0m\u001b[0mquery\u001b[0m\u001b[0;34m,\u001b[0m \u001b[0mconvert_to_tensor\u001b[0m\u001b[0;34m=\u001b[0m\u001b[0;32mTrue\u001b[0m\u001b[0;34m)\u001b[0m\u001b[0;34m\u001b[0m\u001b[0;34m\u001b[0m\u001b[0m\n\u001b[0;32m--> 157\u001b[0;31m         \u001b[0mcorpus_embeddings\u001b[0m \u001b[0;34m=\u001b[0m \u001b[0mself\u001b[0m\u001b[0;34m.\u001b[0m\u001b[0m_model\u001b[0m\u001b[0;34m.\u001b[0m\u001b[0mencode\u001b[0m\u001b[0;34m(\u001b[0m\u001b[0mcands\u001b[0m\u001b[0;34m,\u001b[0m \u001b[0mconvert_to_tensor\u001b[0m\u001b[0;34m=\u001b[0m\u001b[0;32mTrue\u001b[0m\u001b[0;34m)\u001b[0m\u001b[0;34m\u001b[0m\u001b[0;34m\u001b[0m\u001b[0m\n\u001b[0m\u001b[1;32m    158\u001b[0m \u001b[0;34m\u001b[0m\u001b[0m\n\u001b[1;32m    159\u001b[0m         \u001b[0mcos_scores\u001b[0m \u001b[0;34m=\u001b[0m \u001b[0mutil\u001b[0m\u001b[0;34m.\u001b[0m\u001b[0mpytorch_cos_sim\u001b[0m\u001b[0;34m(\u001b[0m\u001b[0mquery_embedding\u001b[0m\u001b[0;34m,\u001b[0m \u001b[0mcorpus_embeddings\u001b[0m\u001b[0;34m)\u001b[0m\u001b[0;34m[\u001b[0m\u001b[0;36m0\u001b[0m\u001b[0;34m]\u001b[0m\u001b[0;34m\u001b[0m\u001b[0;34m\u001b[0m\u001b[0m\n",
            "\u001b[0;32m/usr/local/lib/python3.7/dist-packages/sentence_transformers/SentenceTransformer.py\u001b[0m in \u001b[0;36mencode\u001b[0;34m(self, sentences, batch_size, show_progress_bar, output_value, convert_to_numpy, convert_to_tensor, device, normalize_embeddings)\u001b[0m\n\u001b[1;32m    158\u001b[0m \u001b[0;34m\u001b[0m\u001b[0m\n\u001b[1;32m    159\u001b[0m             \u001b[0;32mwith\u001b[0m \u001b[0mtorch\u001b[0m\u001b[0;34m.\u001b[0m\u001b[0mno_grad\u001b[0m\u001b[0;34m(\u001b[0m\u001b[0;34m)\u001b[0m\u001b[0;34m:\u001b[0m\u001b[0;34m\u001b[0m\u001b[0;34m\u001b[0m\u001b[0m\n\u001b[0;32m--> 160\u001b[0;31m                 \u001b[0mout_features\u001b[0m \u001b[0;34m=\u001b[0m \u001b[0mself\u001b[0m\u001b[0;34m.\u001b[0m\u001b[0mforward\u001b[0m\u001b[0;34m(\u001b[0m\u001b[0mfeatures\u001b[0m\u001b[0;34m)\u001b[0m\u001b[0;34m\u001b[0m\u001b[0;34m\u001b[0m\u001b[0m\n\u001b[0m\u001b[1;32m    161\u001b[0m \u001b[0;34m\u001b[0m\u001b[0m\n\u001b[1;32m    162\u001b[0m                 \u001b[0;32mif\u001b[0m \u001b[0moutput_value\u001b[0m \u001b[0;34m==\u001b[0m \u001b[0;34m'token_embeddings'\u001b[0m\u001b[0;34m:\u001b[0m\u001b[0;34m\u001b[0m\u001b[0;34m\u001b[0m\u001b[0m\n",
            "\u001b[0;32m/usr/local/lib/python3.7/dist-packages/torch/nn/modules/container.py\u001b[0m in \u001b[0;36mforward\u001b[0;34m(self, input)\u001b[0m\n\u001b[1;32m    115\u001b[0m     \u001b[0;32mdef\u001b[0m \u001b[0mforward\u001b[0m\u001b[0;34m(\u001b[0m\u001b[0mself\u001b[0m\u001b[0;34m,\u001b[0m \u001b[0minput\u001b[0m\u001b[0;34m)\u001b[0m\u001b[0;34m:\u001b[0m\u001b[0;34m\u001b[0m\u001b[0;34m\u001b[0m\u001b[0m\n\u001b[1;32m    116\u001b[0m         \u001b[0;32mfor\u001b[0m \u001b[0mmodule\u001b[0m \u001b[0;32min\u001b[0m \u001b[0mself\u001b[0m\u001b[0;34m:\u001b[0m\u001b[0;34m\u001b[0m\u001b[0;34m\u001b[0m\u001b[0m\n\u001b[0;32m--> 117\u001b[0;31m             \u001b[0minput\u001b[0m \u001b[0;34m=\u001b[0m \u001b[0mmodule\u001b[0m\u001b[0;34m(\u001b[0m\u001b[0minput\u001b[0m\u001b[0;34m)\u001b[0m\u001b[0;34m\u001b[0m\u001b[0;34m\u001b[0m\u001b[0m\n\u001b[0m\u001b[1;32m    118\u001b[0m         \u001b[0;32mreturn\u001b[0m \u001b[0minput\u001b[0m\u001b[0;34m\u001b[0m\u001b[0;34m\u001b[0m\u001b[0m\n\u001b[1;32m    119\u001b[0m \u001b[0;34m\u001b[0m\u001b[0m\n",
            "\u001b[0;32m/usr/local/lib/python3.7/dist-packages/torch/nn/modules/module.py\u001b[0m in \u001b[0;36m_call_impl\u001b[0;34m(self, *input, **kwargs)\u001b[0m\n\u001b[1;32m    720\u001b[0m             \u001b[0mresult\u001b[0m \u001b[0;34m=\u001b[0m \u001b[0mself\u001b[0m\u001b[0;34m.\u001b[0m\u001b[0m_slow_forward\u001b[0m\u001b[0;34m(\u001b[0m\u001b[0;34m*\u001b[0m\u001b[0minput\u001b[0m\u001b[0;34m,\u001b[0m \u001b[0;34m**\u001b[0m\u001b[0mkwargs\u001b[0m\u001b[0;34m)\u001b[0m\u001b[0;34m\u001b[0m\u001b[0;34m\u001b[0m\u001b[0m\n\u001b[1;32m    721\u001b[0m         \u001b[0;32melse\u001b[0m\u001b[0;34m:\u001b[0m\u001b[0;34m\u001b[0m\u001b[0;34m\u001b[0m\u001b[0m\n\u001b[0;32m--> 722\u001b[0;31m             \u001b[0mresult\u001b[0m \u001b[0;34m=\u001b[0m \u001b[0mself\u001b[0m\u001b[0;34m.\u001b[0m\u001b[0mforward\u001b[0m\u001b[0;34m(\u001b[0m\u001b[0;34m*\u001b[0m\u001b[0minput\u001b[0m\u001b[0;34m,\u001b[0m \u001b[0;34m**\u001b[0m\u001b[0mkwargs\u001b[0m\u001b[0;34m)\u001b[0m\u001b[0;34m\u001b[0m\u001b[0;34m\u001b[0m\u001b[0m\n\u001b[0m\u001b[1;32m    723\u001b[0m         for hook in itertools.chain(\n\u001b[1;32m    724\u001b[0m                 \u001b[0m_global_forward_hooks\u001b[0m\u001b[0;34m.\u001b[0m\u001b[0mvalues\u001b[0m\u001b[0;34m(\u001b[0m\u001b[0;34m)\u001b[0m\u001b[0;34m,\u001b[0m\u001b[0;34m\u001b[0m\u001b[0;34m\u001b[0m\u001b[0m\n",
            "\u001b[0;32m/usr/local/lib/python3.7/dist-packages/pororo/models/brainsbert/BrainRoBERTa.py\u001b[0m in \u001b[0;36mforward\u001b[0;34m(self, features)\u001b[0m\n\u001b[1;32m     46\u001b[0m \u001b[0;34m\u001b[0m\u001b[0m\n\u001b[1;32m     47\u001b[0m     \u001b[0;32mdef\u001b[0m \u001b[0mforward\u001b[0m\u001b[0;34m(\u001b[0m\u001b[0mself\u001b[0m\u001b[0;34m,\u001b[0m \u001b[0mfeatures\u001b[0m\u001b[0;34m)\u001b[0m\u001b[0;34m:\u001b[0m\u001b[0;34m\u001b[0m\u001b[0;34m\u001b[0m\u001b[0m\n\u001b[0;32m---> 48\u001b[0;31m         \u001b[0moutput_states\u001b[0m \u001b[0;34m=\u001b[0m \u001b[0mself\u001b[0m\u001b[0;34m.\u001b[0m\u001b[0mroberta\u001b[0m\u001b[0;34m(\u001b[0m\u001b[0;34m**\u001b[0m\u001b[0mfeatures\u001b[0m\u001b[0;34m)\u001b[0m\u001b[0;34m\u001b[0m\u001b[0;34m\u001b[0m\u001b[0m\n\u001b[0m\u001b[1;32m     49\u001b[0m         \u001b[0moutput_tokens\u001b[0m \u001b[0;34m=\u001b[0m \u001b[0moutput_states\u001b[0m\u001b[0;34m[\u001b[0m\u001b[0;36m0\u001b[0m\u001b[0;34m]\u001b[0m\u001b[0;34m\u001b[0m\u001b[0;34m\u001b[0m\u001b[0m\n\u001b[1;32m     50\u001b[0m \u001b[0;34m\u001b[0m\u001b[0m\n",
            "\u001b[0;32m/usr/local/lib/python3.7/dist-packages/torch/nn/modules/module.py\u001b[0m in \u001b[0;36m_call_impl\u001b[0;34m(self, *input, **kwargs)\u001b[0m\n\u001b[1;32m    720\u001b[0m             \u001b[0mresult\u001b[0m \u001b[0;34m=\u001b[0m \u001b[0mself\u001b[0m\u001b[0;34m.\u001b[0m\u001b[0m_slow_forward\u001b[0m\u001b[0;34m(\u001b[0m\u001b[0;34m*\u001b[0m\u001b[0minput\u001b[0m\u001b[0;34m,\u001b[0m \u001b[0;34m**\u001b[0m\u001b[0mkwargs\u001b[0m\u001b[0;34m)\u001b[0m\u001b[0;34m\u001b[0m\u001b[0;34m\u001b[0m\u001b[0m\n\u001b[1;32m    721\u001b[0m         \u001b[0;32melse\u001b[0m\u001b[0;34m:\u001b[0m\u001b[0;34m\u001b[0m\u001b[0;34m\u001b[0m\u001b[0m\n\u001b[0;32m--> 722\u001b[0;31m             \u001b[0mresult\u001b[0m \u001b[0;34m=\u001b[0m \u001b[0mself\u001b[0m\u001b[0;34m.\u001b[0m\u001b[0mforward\u001b[0m\u001b[0;34m(\u001b[0m\u001b[0;34m*\u001b[0m\u001b[0minput\u001b[0m\u001b[0;34m,\u001b[0m \u001b[0;34m**\u001b[0m\u001b[0mkwargs\u001b[0m\u001b[0;34m)\u001b[0m\u001b[0;34m\u001b[0m\u001b[0;34m\u001b[0m\u001b[0m\n\u001b[0m\u001b[1;32m    723\u001b[0m         for hook in itertools.chain(\n\u001b[1;32m    724\u001b[0m                 \u001b[0m_global_forward_hooks\u001b[0m\u001b[0;34m.\u001b[0m\u001b[0mvalues\u001b[0m\u001b[0;34m(\u001b[0m\u001b[0;34m)\u001b[0m\u001b[0;34m,\u001b[0m\u001b[0;34m\u001b[0m\u001b[0;34m\u001b[0m\u001b[0m\n",
            "\u001b[0;32m/usr/local/lib/python3.7/dist-packages/transformers/models/roberta/modeling_roberta.py\u001b[0m in \u001b[0;36mforward\u001b[0;34m(self, input_ids, attention_mask, token_type_ids, position_ids, head_mask, inputs_embeds, encoder_hidden_states, encoder_attention_mask, past_key_values, use_cache, output_attentions, output_hidden_states, return_dict)\u001b[0m\n\u001b[1;32m    851\u001b[0m             \u001b[0moutput_attentions\u001b[0m\u001b[0;34m=\u001b[0m\u001b[0moutput_attentions\u001b[0m\u001b[0;34m,\u001b[0m\u001b[0;34m\u001b[0m\u001b[0;34m\u001b[0m\u001b[0m\n\u001b[1;32m    852\u001b[0m             \u001b[0moutput_hidden_states\u001b[0m\u001b[0;34m=\u001b[0m\u001b[0moutput_hidden_states\u001b[0m\u001b[0;34m,\u001b[0m\u001b[0;34m\u001b[0m\u001b[0;34m\u001b[0m\u001b[0m\n\u001b[0;32m--> 853\u001b[0;31m             \u001b[0mreturn_dict\u001b[0m\u001b[0;34m=\u001b[0m\u001b[0mreturn_dict\u001b[0m\u001b[0;34m,\u001b[0m\u001b[0;34m\u001b[0m\u001b[0;34m\u001b[0m\u001b[0m\n\u001b[0m\u001b[1;32m    854\u001b[0m         )\n\u001b[1;32m    855\u001b[0m         \u001b[0msequence_output\u001b[0m \u001b[0;34m=\u001b[0m \u001b[0mencoder_outputs\u001b[0m\u001b[0;34m[\u001b[0m\u001b[0;36m0\u001b[0m\u001b[0;34m]\u001b[0m\u001b[0;34m\u001b[0m\u001b[0;34m\u001b[0m\u001b[0m\n",
            "\u001b[0;32m/usr/local/lib/python3.7/dist-packages/torch/nn/modules/module.py\u001b[0m in \u001b[0;36m_call_impl\u001b[0;34m(self, *input, **kwargs)\u001b[0m\n\u001b[1;32m    720\u001b[0m             \u001b[0mresult\u001b[0m \u001b[0;34m=\u001b[0m \u001b[0mself\u001b[0m\u001b[0;34m.\u001b[0m\u001b[0m_slow_forward\u001b[0m\u001b[0;34m(\u001b[0m\u001b[0;34m*\u001b[0m\u001b[0minput\u001b[0m\u001b[0;34m,\u001b[0m \u001b[0;34m**\u001b[0m\u001b[0mkwargs\u001b[0m\u001b[0;34m)\u001b[0m\u001b[0;34m\u001b[0m\u001b[0;34m\u001b[0m\u001b[0m\n\u001b[1;32m    721\u001b[0m         \u001b[0;32melse\u001b[0m\u001b[0;34m:\u001b[0m\u001b[0;34m\u001b[0m\u001b[0;34m\u001b[0m\u001b[0m\n\u001b[0;32m--> 722\u001b[0;31m             \u001b[0mresult\u001b[0m \u001b[0;34m=\u001b[0m \u001b[0mself\u001b[0m\u001b[0;34m.\u001b[0m\u001b[0mforward\u001b[0m\u001b[0;34m(\u001b[0m\u001b[0;34m*\u001b[0m\u001b[0minput\u001b[0m\u001b[0;34m,\u001b[0m \u001b[0;34m**\u001b[0m\u001b[0mkwargs\u001b[0m\u001b[0;34m)\u001b[0m\u001b[0;34m\u001b[0m\u001b[0;34m\u001b[0m\u001b[0m\n\u001b[0m\u001b[1;32m    723\u001b[0m         for hook in itertools.chain(\n\u001b[1;32m    724\u001b[0m                 \u001b[0m_global_forward_hooks\u001b[0m\u001b[0;34m.\u001b[0m\u001b[0mvalues\u001b[0m\u001b[0;34m(\u001b[0m\u001b[0;34m)\u001b[0m\u001b[0;34m,\u001b[0m\u001b[0;34m\u001b[0m\u001b[0;34m\u001b[0m\u001b[0m\n",
            "\u001b[0;32m/usr/local/lib/python3.7/dist-packages/transformers/models/roberta/modeling_roberta.py\u001b[0m in \u001b[0;36mforward\u001b[0;34m(self, hidden_states, attention_mask, head_mask, encoder_hidden_states, encoder_attention_mask, past_key_values, use_cache, output_attentions, output_hidden_states, return_dict)\u001b[0m\n\u001b[1;32m    527\u001b[0m                     \u001b[0mencoder_attention_mask\u001b[0m\u001b[0;34m,\u001b[0m\u001b[0;34m\u001b[0m\u001b[0;34m\u001b[0m\u001b[0m\n\u001b[1;32m    528\u001b[0m                     \u001b[0mpast_key_value\u001b[0m\u001b[0;34m,\u001b[0m\u001b[0;34m\u001b[0m\u001b[0;34m\u001b[0m\u001b[0m\n\u001b[0;32m--> 529\u001b[0;31m                     \u001b[0moutput_attentions\u001b[0m\u001b[0;34m,\u001b[0m\u001b[0;34m\u001b[0m\u001b[0;34m\u001b[0m\u001b[0m\n\u001b[0m\u001b[1;32m    530\u001b[0m                 )\n\u001b[1;32m    531\u001b[0m \u001b[0;34m\u001b[0m\u001b[0m\n",
            "\u001b[0;32m/usr/local/lib/python3.7/dist-packages/torch/nn/modules/module.py\u001b[0m in \u001b[0;36m_call_impl\u001b[0;34m(self, *input, **kwargs)\u001b[0m\n\u001b[1;32m    720\u001b[0m             \u001b[0mresult\u001b[0m \u001b[0;34m=\u001b[0m \u001b[0mself\u001b[0m\u001b[0;34m.\u001b[0m\u001b[0m_slow_forward\u001b[0m\u001b[0;34m(\u001b[0m\u001b[0;34m*\u001b[0m\u001b[0minput\u001b[0m\u001b[0;34m,\u001b[0m \u001b[0;34m**\u001b[0m\u001b[0mkwargs\u001b[0m\u001b[0;34m)\u001b[0m\u001b[0;34m\u001b[0m\u001b[0;34m\u001b[0m\u001b[0m\n\u001b[1;32m    721\u001b[0m         \u001b[0;32melse\u001b[0m\u001b[0;34m:\u001b[0m\u001b[0;34m\u001b[0m\u001b[0;34m\u001b[0m\u001b[0m\n\u001b[0;32m--> 722\u001b[0;31m             \u001b[0mresult\u001b[0m \u001b[0;34m=\u001b[0m \u001b[0mself\u001b[0m\u001b[0;34m.\u001b[0m\u001b[0mforward\u001b[0m\u001b[0;34m(\u001b[0m\u001b[0;34m*\u001b[0m\u001b[0minput\u001b[0m\u001b[0;34m,\u001b[0m \u001b[0;34m**\u001b[0m\u001b[0mkwargs\u001b[0m\u001b[0;34m)\u001b[0m\u001b[0;34m\u001b[0m\u001b[0;34m\u001b[0m\u001b[0m\n\u001b[0m\u001b[1;32m    723\u001b[0m         for hook in itertools.chain(\n\u001b[1;32m    724\u001b[0m                 \u001b[0m_global_forward_hooks\u001b[0m\u001b[0;34m.\u001b[0m\u001b[0mvalues\u001b[0m\u001b[0;34m(\u001b[0m\u001b[0;34m)\u001b[0m\u001b[0;34m,\u001b[0m\u001b[0;34m\u001b[0m\u001b[0;34m\u001b[0m\u001b[0m\n",
            "\u001b[0;32m/usr/local/lib/python3.7/dist-packages/transformers/models/roberta/modeling_roberta.py\u001b[0m in \u001b[0;36mforward\u001b[0;34m(self, hidden_states, attention_mask, head_mask, encoder_hidden_states, encoder_attention_mask, past_key_value, output_attentions)\u001b[0m\n\u001b[1;32m    412\u001b[0m             \u001b[0mhead_mask\u001b[0m\u001b[0;34m,\u001b[0m\u001b[0;34m\u001b[0m\u001b[0;34m\u001b[0m\u001b[0m\n\u001b[1;32m    413\u001b[0m             \u001b[0moutput_attentions\u001b[0m\u001b[0;34m=\u001b[0m\u001b[0moutput_attentions\u001b[0m\u001b[0;34m,\u001b[0m\u001b[0;34m\u001b[0m\u001b[0;34m\u001b[0m\u001b[0m\n\u001b[0;32m--> 414\u001b[0;31m             \u001b[0mpast_key_value\u001b[0m\u001b[0;34m=\u001b[0m\u001b[0mself_attn_past_key_value\u001b[0m\u001b[0;34m,\u001b[0m\u001b[0;34m\u001b[0m\u001b[0;34m\u001b[0m\u001b[0m\n\u001b[0m\u001b[1;32m    415\u001b[0m         )\n\u001b[1;32m    416\u001b[0m         \u001b[0mattention_output\u001b[0m \u001b[0;34m=\u001b[0m \u001b[0mself_attention_outputs\u001b[0m\u001b[0;34m[\u001b[0m\u001b[0;36m0\u001b[0m\u001b[0;34m]\u001b[0m\u001b[0;34m\u001b[0m\u001b[0;34m\u001b[0m\u001b[0m\n",
            "\u001b[0;32m/usr/local/lib/python3.7/dist-packages/torch/nn/modules/module.py\u001b[0m in \u001b[0;36m_call_impl\u001b[0;34m(self, *input, **kwargs)\u001b[0m\n\u001b[1;32m    720\u001b[0m             \u001b[0mresult\u001b[0m \u001b[0;34m=\u001b[0m \u001b[0mself\u001b[0m\u001b[0;34m.\u001b[0m\u001b[0m_slow_forward\u001b[0m\u001b[0;34m(\u001b[0m\u001b[0;34m*\u001b[0m\u001b[0minput\u001b[0m\u001b[0;34m,\u001b[0m \u001b[0;34m**\u001b[0m\u001b[0mkwargs\u001b[0m\u001b[0;34m)\u001b[0m\u001b[0;34m\u001b[0m\u001b[0;34m\u001b[0m\u001b[0m\n\u001b[1;32m    721\u001b[0m         \u001b[0;32melse\u001b[0m\u001b[0;34m:\u001b[0m\u001b[0;34m\u001b[0m\u001b[0;34m\u001b[0m\u001b[0m\n\u001b[0;32m--> 722\u001b[0;31m             \u001b[0mresult\u001b[0m \u001b[0;34m=\u001b[0m \u001b[0mself\u001b[0m\u001b[0;34m.\u001b[0m\u001b[0mforward\u001b[0m\u001b[0;34m(\u001b[0m\u001b[0;34m*\u001b[0m\u001b[0minput\u001b[0m\u001b[0;34m,\u001b[0m \u001b[0;34m**\u001b[0m\u001b[0mkwargs\u001b[0m\u001b[0;34m)\u001b[0m\u001b[0;34m\u001b[0m\u001b[0;34m\u001b[0m\u001b[0m\n\u001b[0m\u001b[1;32m    723\u001b[0m         for hook in itertools.chain(\n\u001b[1;32m    724\u001b[0m                 \u001b[0m_global_forward_hooks\u001b[0m\u001b[0;34m.\u001b[0m\u001b[0mvalues\u001b[0m\u001b[0;34m(\u001b[0m\u001b[0;34m)\u001b[0m\u001b[0;34m,\u001b[0m\u001b[0;34m\u001b[0m\u001b[0;34m\u001b[0m\u001b[0m\n",
            "\u001b[0;32m/usr/local/lib/python3.7/dist-packages/transformers/models/roberta/modeling_roberta.py\u001b[0m in \u001b[0;36mforward\u001b[0;34m(self, hidden_states, attention_mask, head_mask, encoder_hidden_states, encoder_attention_mask, past_key_value, output_attentions)\u001b[0m\n\u001b[1;32m    342\u001b[0m             \u001b[0mencoder_attention_mask\u001b[0m\u001b[0;34m,\u001b[0m\u001b[0;34m\u001b[0m\u001b[0;34m\u001b[0m\u001b[0m\n\u001b[1;32m    343\u001b[0m             \u001b[0mpast_key_value\u001b[0m\u001b[0;34m,\u001b[0m\u001b[0;34m\u001b[0m\u001b[0;34m\u001b[0m\u001b[0m\n\u001b[0;32m--> 344\u001b[0;31m             \u001b[0moutput_attentions\u001b[0m\u001b[0;34m,\u001b[0m\u001b[0;34m\u001b[0m\u001b[0;34m\u001b[0m\u001b[0m\n\u001b[0m\u001b[1;32m    345\u001b[0m         )\n\u001b[1;32m    346\u001b[0m         \u001b[0mattention_output\u001b[0m \u001b[0;34m=\u001b[0m \u001b[0mself\u001b[0m\u001b[0;34m.\u001b[0m\u001b[0moutput\u001b[0m\u001b[0;34m(\u001b[0m\u001b[0mself_outputs\u001b[0m\u001b[0;34m[\u001b[0m\u001b[0;36m0\u001b[0m\u001b[0;34m]\u001b[0m\u001b[0;34m,\u001b[0m \u001b[0mhidden_states\u001b[0m\u001b[0;34m)\u001b[0m\u001b[0;34m\u001b[0m\u001b[0;34m\u001b[0m\u001b[0m\n",
            "\u001b[0;32m/usr/local/lib/python3.7/dist-packages/torch/nn/modules/module.py\u001b[0m in \u001b[0;36m_call_impl\u001b[0;34m(self, *input, **kwargs)\u001b[0m\n\u001b[1;32m    720\u001b[0m             \u001b[0mresult\u001b[0m \u001b[0;34m=\u001b[0m \u001b[0mself\u001b[0m\u001b[0;34m.\u001b[0m\u001b[0m_slow_forward\u001b[0m\u001b[0;34m(\u001b[0m\u001b[0;34m*\u001b[0m\u001b[0minput\u001b[0m\u001b[0;34m,\u001b[0m \u001b[0;34m**\u001b[0m\u001b[0mkwargs\u001b[0m\u001b[0;34m)\u001b[0m\u001b[0;34m\u001b[0m\u001b[0;34m\u001b[0m\u001b[0m\n\u001b[1;32m    721\u001b[0m         \u001b[0;32melse\u001b[0m\u001b[0;34m:\u001b[0m\u001b[0;34m\u001b[0m\u001b[0;34m\u001b[0m\u001b[0m\n\u001b[0;32m--> 722\u001b[0;31m             \u001b[0mresult\u001b[0m \u001b[0;34m=\u001b[0m \u001b[0mself\u001b[0m\u001b[0;34m.\u001b[0m\u001b[0mforward\u001b[0m\u001b[0;34m(\u001b[0m\u001b[0;34m*\u001b[0m\u001b[0minput\u001b[0m\u001b[0;34m,\u001b[0m \u001b[0;34m**\u001b[0m\u001b[0mkwargs\u001b[0m\u001b[0;34m)\u001b[0m\u001b[0;34m\u001b[0m\u001b[0;34m\u001b[0m\u001b[0m\n\u001b[0m\u001b[1;32m    723\u001b[0m         for hook in itertools.chain(\n\u001b[1;32m    724\u001b[0m                 \u001b[0m_global_forward_hooks\u001b[0m\u001b[0;34m.\u001b[0m\u001b[0mvalues\u001b[0m\u001b[0;34m(\u001b[0m\u001b[0;34m)\u001b[0m\u001b[0;34m,\u001b[0m\u001b[0;34m\u001b[0m\u001b[0;34m\u001b[0m\u001b[0m\n",
            "\u001b[0;32m/usr/local/lib/python3.7/dist-packages/transformers/models/roberta/modeling_roberta.py\u001b[0m in \u001b[0;36mforward\u001b[0;34m(self, hidden_states, attention_mask, head_mask, encoder_hidden_states, encoder_attention_mask, past_key_value, output_attentions)\u001b[0m\n\u001b[1;32m    237\u001b[0m \u001b[0;34m\u001b[0m\u001b[0m\n\u001b[1;32m    238\u001b[0m         \u001b[0;31m# Take the dot product between \"query\" and \"key\" to get the raw attention scores.\u001b[0m\u001b[0;34m\u001b[0m\u001b[0;34m\u001b[0m\u001b[0;34m\u001b[0m\u001b[0m\n\u001b[0;32m--> 239\u001b[0;31m         \u001b[0mattention_scores\u001b[0m \u001b[0;34m=\u001b[0m \u001b[0mtorch\u001b[0m\u001b[0;34m.\u001b[0m\u001b[0mmatmul\u001b[0m\u001b[0;34m(\u001b[0m\u001b[0mquery_layer\u001b[0m\u001b[0;34m,\u001b[0m \u001b[0mkey_layer\u001b[0m\u001b[0;34m.\u001b[0m\u001b[0mtranspose\u001b[0m\u001b[0;34m(\u001b[0m\u001b[0;34m-\u001b[0m\u001b[0;36m1\u001b[0m\u001b[0;34m,\u001b[0m \u001b[0;34m-\u001b[0m\u001b[0;36m2\u001b[0m\u001b[0;34m)\u001b[0m\u001b[0;34m)\u001b[0m\u001b[0;34m\u001b[0m\u001b[0;34m\u001b[0m\u001b[0m\n\u001b[0m\u001b[1;32m    240\u001b[0m \u001b[0;34m\u001b[0m\u001b[0m\n\u001b[1;32m    241\u001b[0m         \u001b[0;32mif\u001b[0m \u001b[0mself\u001b[0m\u001b[0;34m.\u001b[0m\u001b[0mposition_embedding_type\u001b[0m \u001b[0;34m==\u001b[0m \u001b[0;34m\"relative_key\"\u001b[0m \u001b[0;32mor\u001b[0m \u001b[0mself\u001b[0m\u001b[0;34m.\u001b[0m\u001b[0mposition_embedding_type\u001b[0m \u001b[0;34m==\u001b[0m \u001b[0;34m\"relative_key_query\"\u001b[0m\u001b[0;34m:\u001b[0m\u001b[0;34m\u001b[0m\u001b[0;34m\u001b[0m\u001b[0m\n",
            "\u001b[0;31mKeyboardInterrupt\u001b[0m: "
          ]
        }
      ]
    },
    {
      "cell_type": "code",
      "metadata": {
        "id": "M33pFIsCfaGc"
      },
      "source": [
        "from sklearn.feature_extraction.text import CountVectorizer\n",
        "from sklearn.metrics.pairwise import cosine_similarity"
      ],
      "execution_count": 376,
      "outputs": []
    },
    {
      "cell_type": "code",
      "metadata": {
        "id": "C7zRs_8-Emzr"
      },
      "source": [
        "def make_it_simm(column,champ_name):\n",
        "    count_vect = CountVectorizer(min_df=0, ngram_range=(1,2))\n",
        "    clean_discrib_mat = count_vect.fit_transform(champ_summ[column])\n",
        "    all_discribtion_sim = cosine_similarity(clean_discrib_mat, clean_discrib_mat)\n",
        "    all_discribtion_sorted_ind = all_discribtion_sim.argsort()[:, ::-1]\n",
        "    all_discribtion_sim_sorted_ind = np.sort(all_discribtion_sim, axis=1)[:,::-1]\n",
        "    # titile 데이터 추출\n",
        "    champ_skill = champ_summ[champ_summ['id'] == champ_name]\n",
        "    \n",
        "    # title_name에 해당되는 데이터프레임 index 객체를 배열로 반환하고\n",
        "    # 유사도 순으로 top_n개의 index 추출\n",
        "    champ_index = champ_skill.index.values\n",
        "    similar_indexes = all_discribtion_sorted_ind[champ_index, :(10)]\n",
        "    print(all_discribtion_sim_sorted_ind[champ_index, :(10)])\n",
        "    # 추출된 top_n index 출력 \n",
        "    # 2차원 데이터를 1차원 array로 변환\n",
        "    \n",
        "    similar_indexes = similar_indexes.reshape(-1)\n",
        "    \n",
        "    # 잘 보여주기 부분\n",
        "    # ranking_list = pd.DataFrame()\n",
        "    champ_rank = champ_summ.loc[similar_indexes]['id']\n",
        "    how_close = all_discribtion_sim_sorted_ind[champ_index, :(10)]\n",
        "    how = champ_summ.loc[similar_indexes][column]\n",
        "    \n",
        "    # ranking_list['champ_rank'] = champ_rank\n",
        "    # ranking_list['how_close'] = how_close\n",
        "    # ranking_list['how'] = how\n",
        "    print(champ_rank)\n",
        "    print(how_close)\n",
        "    print(how)\n",
        "    # index에 해당되는 데이터프레임 반환\n",
        "    return \n"
      ],
      "execution_count": 148,
      "outputs": []
    },
    {
      "cell_type": "code",
      "metadata": {
        "colab": {
          "base_uri": "https://localhost:8080/"
        },
        "id": "kxAzDEdiEmxT",
        "outputId": "96122c35-40fb-4b05-e4b7-29640f378ce1"
      },
      "source": [
        "# no additional \n",
        "make_it_simm('clean_skills', 'Leona')"
      ],
      "execution_count": 163,
      "outputs": [
        {
          "output_type": "stream",
          "name": "stdout",
          "text": [
            "[[1.         0.15715889 0.14898913 0.12038585 0.11945622 0.10452978\n",
            "  0.10452419 0.09638582 0.09400556 0.08959216]]\n",
            "65       Leona\n",
            "15       Braum\n",
            "34       Garen\n",
            "114    Skarner\n",
            "46         Jax\n",
            "97        Rell\n",
            "90       Poppy\n",
            "94       Rakan\n",
            "27     Evelynn\n",
            "107       Sett\n",
            "Name: id, dtype: object\n",
            "[[1.         0.15715889 0.14898913 0.12038585 0.11945622 0.10452978\n",
            "  0.10452419 0.09638582 0.09400556 0.08959216]]\n",
            "65     shield perform stunning raises shield gain red...\n",
            "15     propels freezing ice shield slowing applies st...\n",
            "34     burst move speed breaking free slows affecting...\n",
            "114    lashes claws physical nearby charging crystal ...\n",
            "46     leaps toward charges causing additional combat...\n",
            "97     lance breaking shields additionally suffers br...\n",
            "90     swings creating zone slow explode delay passiv...\n",
            "94     flings striking monster enables heal allies da...\n",
            "27     nearby foes curses causing spell delay charm r...\n",
            "107    additional based health speed moving towards c...\n",
            "Name: clean_skills, dtype: object\n"
          ]
        }
      ]
    },
    {
      "cell_type": "code",
      "metadata": {
        "id": "KJAWzf9ivuSg"
      },
      "source": [
        "make_it_simm('clean_skills', 'Evelynn')"
      ],
      "execution_count": null,
      "outputs": []
    },
    {
      "cell_type": "code",
      "metadata": {
        "id": "zF3MP8naEmvI"
      },
      "source": [
        "make_it_simm('clean_skills', 'Leona')"
      ],
      "execution_count": null,
      "outputs": []
    },
    {
      "cell_type": "code",
      "metadata": {
        "id": "Omq2o0-JEmsf"
      },
      "source": [
        "make_it_simm('clean_skills', 'Syndra')"
      ],
      "execution_count": null,
      "outputs": []
    },
    {
      "cell_type": "code",
      "metadata": {
        "id": "4K7EbFVuEmpQ"
      },
      "source": [
        "make_it_simm('clean_skills', 'Jax')"
      ],
      "execution_count": null,
      "outputs": []
    },
    {
      "cell_type": "code",
      "metadata": {
        "id": "hHgv6ckR2qAO"
      },
      "source": [
        ""
      ],
      "execution_count": null,
      "outputs": []
    }
  ]
}