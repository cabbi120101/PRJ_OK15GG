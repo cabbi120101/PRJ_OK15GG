{
  "nbformat": 4,
  "nbformat_minor": 0,
  "metadata": {
    "colab": {
      "name": "시도1.ipynb",
      "provenance": [],
      "mount_file_id": "1P2VJja7wOqZaBBHnJmk7e0sfwEbwV7_T",
      "authorship_tag": "ABX9TyM3ImXIc2WAgrmdfyW4FXOQ",
      "include_colab_link": true
    },
    "kernelspec": {
      "name": "python3",
      "display_name": "Python 3"
    },
    "language_info": {
      "name": "python"
    }
  },
  "cells": [
    {
      "cell_type": "markdown",
      "metadata": {
        "id": "view-in-github",
        "colab_type": "text"
      },
      "source": [
        "<a href=\"https://colab.research.google.com/github/cabbi120101/final_multi/blob/main/Try/%EC%8B%9C%EB%8F%841.ipynb\" target=\"_parent\"><img src=\"https://colab.research.google.com/assets/colab-badge.svg\" alt=\"Open In Colab\"/></a>"
      ]
    },
    {
      "cell_type": "code",
      "metadata": {
        "id": "cvcJ-mnC4S-Q"
      },
      "source": [
        "import numpy as np\n",
        "import pandas as pd\n",
        "import pickle\n",
        "import matplotlib.pyplot as plt\n",
        "import numpy as np\n",
        "import json\n",
        "import re \n",
        "import time\n",
        "from pandas.io.json import json_normalize"
      ],
      "execution_count": 1,
      "outputs": []
    },
    {
      "cell_type": "code",
      "metadata": {
        "id": "d_R9H1Vz4NQI"
      },
      "source": [
        "match_df = pd.read_pickle('/content/drive/MyDrive/Colab Notebooks/동욱코드모음/마지막프로젝트/2주차 롤 EDA/archive/match_data_version1.pickle')"
      ],
      "execution_count": null,
      "outputs": []
    },
    {
      "cell_type": "code",
      "metadata": {
        "id": "plIzJGsX4a4w"
      },
      "source": [
        "match_df2 = pd.read_pickle('/content/drive/MyDrive/Colab Notebooks/동욱코드모음/마지막프로젝트/2주차 롤 EDA/archive/match_data_version2.pickle')"
      ],
      "execution_count": null,
      "outputs": []
    },
    {
      "cell_type": "code",
      "metadata": {
        "id": "H6naEw9a4iA3"
      },
      "source": [
        "match_df.info()"
      ],
      "execution_count": null,
      "outputs": []
    },
    {
      "cell_type": "code",
      "metadata": {
        "id": "9zedlsdH4j1h"
      },
      "source": [
        ""
      ],
      "execution_count": null,
      "outputs": []
    }
  ]
}